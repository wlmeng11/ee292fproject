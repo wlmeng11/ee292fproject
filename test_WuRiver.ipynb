{
 "cells": [
  {
   "cell_type": "code",
   "execution_count": 77,
   "id": "requested-deficit",
   "metadata": {},
   "outputs": [],
   "source": [
    "import numpy as np\n",
    "import pandas as pd\n",
    "import seaborn as sns\n",
    "%matplotlib qt\n",
    "import matplotlib.pyplot as plt\n",
    "from tqdm import tqdm\n",
    "from skimage import io, color\n",
    "import cv2\n",
    "import os\n",
    "from sklearn.decomposition import PCA\n",
    "from scipy import ndimage"
   ]
  },
  {
   "cell_type": "markdown",
   "id": "historic-yellow",
   "metadata": {},
   "source": [
    "# Function definitions"
   ]
  },
  {
   "cell_type": "code",
   "execution_count": 92,
   "id": "powered-soundtrack",
   "metadata": {},
   "outputs": [],
   "source": [
    "# Based on tutorial: https://jdhao.github.io/2017/11/06/resize-image-to-square-with-padding/\n",
    "def make_square(img, desired_size=256, fill_color=[255, 255, 255]):\n",
    "    if img.dtype != np.uint8:\n",
    "        print(f'Converting to uint8...')\n",
    "        img = (255*img).astype(np.uint8)\n",
    "        \n",
    "    scale_factor = desired_size/max(img.shape[0], img.shape[1])\n",
    "    resized = cv2.resize(img, (int(scale_factor*img.shape[1]), int(scale_factor*img.shape[0])))\n",
    "    new_size = resized.shape\n",
    "    \n",
    "    delta_w = desired_size - new_size[1]\n",
    "    delta_h = desired_size - new_size[0]\n",
    "    top, bottom = delta_h//2, delta_h-(delta_h//2)\n",
    "    left, right = delta_w//2, delta_w-(delta_w//2)\n",
    "    \n",
    "    out = cv2.copyMakeBorder(resized, top, bottom, left, right, cv2.BORDER_CONSTANT, value=fill_color)\n",
    "    return out\n",
    "\n",
    "# use float for thresholding, but return uint8 image\n",
    "def binarize(img, threshold=0.5, invert=True):\n",
    "    if img.dtype == np.uint8:\n",
    "        img = img/255.0 # convert to float64\n",
    "\n",
    "    # Convert to grayscale\n",
    "    if len(img.shape) >= 3:\n",
    "        img = color.rgb2gray(img)\n",
    "    \n",
    "    # Threshold\n",
    "    out = np.zeros_like(img)\n",
    "    if invert: # detect dark characters\n",
    "        mask = img < threshold\n",
    "    else: # detect light characters\n",
    "        mask = img > threshold\n",
    "\n",
    "    out[mask] = 1\n",
    "    return (255*out).astype(np.uint8)\n",
    "\n",
    "def preprocess(img, desired_size=256, threshold=0.5, invert=True):\n",
    "    if invert: # detect black character on white background\n",
    "        fill_color = [255, 255, 255]\n",
    "    else: # detect white character on black background\n",
    "        fill_color = [0, 0, 0]\n",
    "\n",
    "    img_square = make_square(img, desired_size=desired_size, fill_color=fill_color)\n",
    "    img_bin = binarize(img_square, threshold=threshold, invert=invert)\n",
    "    return img_bin\n",
    "\n",
    "def contour_analysis(img, n=2, trim_points=10, bins=20, verbose=False):\n",
    "    # Find all contours\n",
    "    contours, hierarchy = cv2.findContours(img, cv2.RETR_TREE, cv2.CHAIN_APPROX_NONE)\n",
    "    if verbose:\n",
    "        print(f'# of contours: {len(contours)}')\n",
    "        print('# of points in each contour:')\n",
    "        for cnt in contours:\n",
    "            print(f'\\t{len(cnt)} points')\n",
    "\n",
    "    # Remove contours with too few points\n",
    "    contours_trimmed = [cnt for cnt in contours if len(cnt) > trim_points]\n",
    "    if verbose:\n",
    "        print(f'Trimming contours with fewer than {trim_points} points...')\n",
    "        print(f'# of remaining contours: {len(contours_trimmed)}')\n",
    "        for cnt in contours_trimmed:\n",
    "            print(f'\\t{len(cnt)} points')\n",
    "\n",
    "    # Create dashed contours by keeping every nth point\n",
    "    assert(n>=2)\n",
    "    contours_dashed = [cnt[1::n] for cnt in contours_trimmed]\n",
    "    if verbose:\n",
    "        print(f'Taking every {n}th point to get dashed contour...')\n",
    "        for cnt in contours_dashed:\n",
    "            print(f'\\t{len(cnt)} points')\n",
    "            \n",
    "    # Find angles between adjacent points in the contour\n",
    "    thetaseq = []\n",
    "    for i, cnt in enumerate(contours_dashed):\n",
    "        for j, point in enumerate(cnt):\n",
    "            if j == 0:\n",
    "                prevx, prevy = point[0]\n",
    "            else:\n",
    "                x, y = point[0]\n",
    "                thetaseq.append(np.arctan2(y-prevy, x-prevx))\n",
    "                prevx = x\n",
    "                prevy = y\n",
    "    \n",
    "    if verbose:\n",
    "        print(f'# thetas: {len(thetaseq)}')\n",
    "        print(f'max theta: {max(thetaseq)}')\n",
    "        print(f'min theta: {min(thetaseq)}')\n",
    "\n",
    "    hist =  np.histogram(thetaseq, bins=bins, range=(-np.pi, np.pi))\n",
    "    return hist\n",
    "\n",
    "def feature_analysis(img, n=2, trim_points=10, bins=20, verbose=False):\n",
    "    # Find all contours\n",
    "    contours, hierarchy = cv2.findContours(img, cv2.RETR_TREE, cv2.CHAIN_APPROX_NONE)\n",
    "    if verbose:\n",
    "        print(f'# of contours: {len(contours)}')\n",
    "        print('# of points in each contour:')\n",
    "        for cnt in contours:\n",
    "            print(f'\\t{len(cnt)} points')\n",
    "\n",
    "    # Remove contours with too few points\n",
    "    contours_trimmed = [cnt for cnt in contours if len(cnt) > trim_points]\n",
    "    if verbose:\n",
    "        print(f'Trimming contours with fewer than {trim_points} points...')\n",
    "        print(f'# of remaining contours: {len(contours_trimmed)}')\n",
    "        for cnt in contours_trimmed:\n",
    "            print(f'\\t{len(cnt)} points')\n",
    "\n",
    "    # Create dashed contours by keeping every nth point\n",
    "    assert(n>=2)\n",
    "    contours_dashed = [cnt[1::n] for cnt in contours_trimmed]\n",
    "    if verbose:\n",
    "        print(f'Taking every {n}th point to get dashed contour...')\n",
    "        for cnt in contours_dashed:\n",
    "            print(f'\\t{len(cnt)} points')\n",
    "            \n",
    "    # Find angles between adjacent points in the contour\n",
    "    thetaseq = []\n",
    "    for i, cnt in enumerate(contours_dashed):\n",
    "        for j, point in enumerate(cnt):\n",
    "            if j == 0:\n",
    "                prevx, prevy = point[0]\n",
    "            else:\n",
    "                x, y = point[0]\n",
    "                thetaseq.append(np.arctan2(y-prevy, x-prevx))\n",
    "                prevx = x\n",
    "                prevy = y\n",
    "    \n",
    "    dthetaseq = np.diff(thetaseq)\n",
    "    hist_theta = np.histogram(thetaseq, bins=bins, range=(-np.pi, np.pi), density=True)\n",
    "    hist_dtheta =  np.histogram(dthetaseq, bins=bins, range=(-np.pi, np.pi), density=True)\n",
    "    density_theta, theta = hist_theta\n",
    "    density_dtheta, dtheta = hist_dtheta\n",
    "    \n",
    "    if verbose:\n",
    "        print(f'# thetas: {len(thetaseq)}')\n",
    "        print(f'max theta: {max(thetaseq)}')\n",
    "        print(f'min theta: {min(thetaseq)}')\n",
    "        print(f'len(thetaseq): {len(thetaseq)}')\n",
    "        print(f'dthetaseq.shape: {dthetaseq.shape}')\n",
    "        print(f'density_theta.shape: {density_theta.shape}')\n",
    "        print(f'density_dtheta.shape: {density_dtheta.shape}')\n",
    "\n",
    "    rows, cols = img.shape\n",
    "    X, Y = np.meshgrid(np.linspace(0, 1, cols), np.linspace(0, 1, rows))\n",
    "    assert(X.shape == Y.shape == img.shape)\n",
    "    M = np.sum(img)\n",
    "    M_norm = M/(255*rows*cols)\n",
    "    EX = np.sum(X*img)/M\n",
    "    EY = np.sum(Y*img)/M\n",
    "    DX = np.sum(X**2 * img)/M - EX**2\n",
    "    DY = np.sum(Y**2 * img)/M - EY**2\n",
    "    covXY = np.sum(X*Y*img)/M - EX*EY\n",
    "    \n",
    "    features = np.hstack((density_theta, density_dtheta, M_norm, EX, EY, DX, DY, covXY))\n",
    "    #features = np.hstack((density_theta, density_dtheta, M_norm, DX, DY, covXY))\n",
    "    if verbose:\n",
    "        print(f'features.shape: {features.shape}')\n",
    "        print(f'M = {M}')\n",
    "        print(f'M_norm = {M_norm}')\n",
    "        print(f'EX = {EX}')\n",
    "        print(f'EY = {EY}')\n",
    "        print(f'DX = {DX}')\n",
    "        print(f'DY = {DY}')\n",
    "        print(f'covXY = {covXY}')\n",
    "    return features\n",
    "\n",
    "def plot_angles(hist, ax=None, title='Distribution of angles'):\n",
    "    r, theta = hist\n",
    "    r = np.append(r, r[0]) # append 0th element to end cuz -pi and pi are the same angle\n",
    "\n",
    "    if ax is None:\n",
    "        fig, ax = plt.subplots(subplot_kw={'projection': 'polar'}, figsize=(4, 4), dpi=300)\n",
    "\n",
    "    ax.plot(theta, r)\n",
    "    ax.grid(True)\n",
    "\n",
    "    ax.set_title(title, va='bottom')\n",
    "    plt.tight_layout()\n",
    "    \n",
    "def plot_mu_and_K(X, title='', filename='mu+K.png'):\n",
    "    mu = np.mean(X, axis=1)\n",
    "    K = np.cov(X)\n",
    "    bins = len(mu)\n",
    "    theta = np.linspace(-np.pi, np.pi, bins+1)\n",
    " \n",
    "    fig = plt.figure(figsize=(8, 4))\n",
    "    ax1 = plt.subplot(121, projection='polar')\n",
    "    ax2 = plt.subplot(122)\n",
    "    plot_angles([mu, theta], ax=ax1, title='Mean vector μ')\n",
    "    fig.colorbar(ax2.imshow(K))\n",
    "    ax2.set_title('Covariance matrix K')\n",
    "    plt.suptitle(title, fontsize='xx-large')\n",
    "    plt.tight_layout()\n",
    "    plt.savefig(filename)\n",
    "\n",
    "def analyze_images_in_path(path='', bins=20, invert=True, verbose=False):\n",
    "    filenames = os.listdir(path)\n",
    "    filenames.sort()\n",
    "    if verbose:\n",
    "        print(filenames)\n",
    "    \n",
    "    X = np.zeros((bins, len(filenames)))\n",
    "    for i, filename in enumerate(filenames):\n",
    "        img = io.imread(path + filename)\n",
    "        counts, theta = contour_analysis(preprocess(img, invert=invert), bins=bins)\n",
    "        # divide counts by total counts to get Probability Mass Function (PMF)\n",
    "        probs = counts / counts.sum()\n",
    "        X[:, i] = probs\n",
    "\n",
    "    return X\n",
    "\n",
    "def feature_analysis_in_path(path='', bins=20, invert=True, verbose=False):\n",
    "    filenames = os.listdir(path)\n",
    "    filenames.sort()\n",
    "    if verbose:\n",
    "        print(filenames)\n",
    "    \n",
    "    num_features = 2*bins + 6\n",
    "    #num_features = 2*bins + 4\n",
    "    X = np.zeros((num_features, len(filenames)))\n",
    "    for i, filename in enumerate(filenames):\n",
    "        img = io.imread(path + filename)\n",
    "        features = feature_analysis(preprocess(img, invert=invert), bins=bins)\n",
    "        X[:, i] = features.T\n",
    "\n",
    "    return X"
   ]
  },
  {
   "cell_type": "markdown",
   "id": "successful-departure",
   "metadata": {},
   "source": [
    "# Mi Fu's *Poem Written In a Boat on the Wu River*"
   ]
  },
  {
   "cell_type": "code",
   "execution_count": 3,
   "id": "contemporary-elimination",
   "metadata": {},
   "outputs": [
    {
     "name": "stdout",
     "output_type": "stream",
     "text": [
      "['001.png', '002.png', '003.png', '004.png', '005.png', '006.png', '007.png', '008.png', '009.png', '010.png', '011.png', '012.png', '013.png', '014.png', '015.png', '016.png', '017.png', '018.png', '019.png', '020.png', '021.png', '022.png', '023.png', '024.png', '025.png', '026.png', '027.png', '028.png', '029.png', '030.png', '031.png', '032.png', '033.png', '034.png', '035.png', '036.png', '037.png', '038.png', '039.png', '040.png', '041.png', '042.png', '043.png', '044.png', '045.png', '046.png', '047.png', '048.png', '049.png', '050.png', '051.png', '052.png', '053.png', '054.png', '055.png', '056.png', '057.png', '058.png', '059.png', '060.png', '061.png', '062.png', '063.png', '064.png', '065.png', '066.png', '067.png', '068.png', '069.png', '070.png', '071.png', '072.png', '073.png', '074.png', '075.png', '076.png', '077.png', '078.png', '079.png', '080.png', '081.png', '082.png', '083.png', '084.png', '085.png', '086.png', '087.png', '088.png', '089.png', '090.png', '091.png']\n"
     ]
    }
   ],
   "source": [
    "path = 'Extracted Characters/Mi Fu - Poem Written in a Boat on the Wu River/'\n",
    "filenames = os.listdir(path)\n",
    "filenames.sort()\n",
    "print(filenames)"
   ]
  },
  {
   "cell_type": "code",
   "execution_count": 4,
   "id": "ceramic-graduate",
   "metadata": {},
   "outputs": [],
   "source": [
    "X = analyze_images_in_path(path)\n",
    "plot_mu_and_K(X, title=f'Wu River ({X.shape[1]} images)', filename='Test/mu+K_WuRiver.png')"
   ]
  },
  {
   "cell_type": "markdown",
   "id": "cathedral-joint",
   "metadata": {},
   "source": [
    "# PCA"
   ]
  },
  {
   "cell_type": "code",
   "execution_count": 5,
   "id": "national-calculation",
   "metadata": {},
   "outputs": [
    {
     "name": "stdout",
     "output_type": "stream",
     "text": [
      "Explained variance ratio: [0.46376558 0.18567444]\n",
      "Singular values: [0.64595277 0.40872158]\n",
      "# of datapoints: 91\n",
      "Principal Components of each datapoint:\n",
      "[[ 0.00036497 -0.04055316]\n",
      " [-0.04857066 -0.07094967]\n",
      " [ 0.06122655  0.04654032]\n",
      " [-0.01613446 -0.00603782]\n",
      " [ 0.02814406 -0.01462888]\n",
      " [ 0.00671194 -0.00175597]\n",
      " [ 0.01776733  0.03306314]\n",
      " [ 0.03402     0.00555434]\n",
      " [-0.03777442 -0.049431  ]\n",
      " [-0.05745886 -0.04579842]\n",
      " [-0.00853481 -0.04679862]\n",
      " [-0.01135655 -0.00698931]\n",
      " [-0.02071141  0.00842589]\n",
      " [ 0.01274043 -0.0583408 ]\n",
      " [ 0.08382157  0.03102172]\n",
      " [-0.02297599  0.01905669]\n",
      " [ 0.10739135  0.03128132]\n",
      " [-0.05256259  0.00947863]\n",
      " [ 0.00198506 -0.08034348]\n",
      " [-0.04629028  0.01712935]\n",
      " [-0.02251515 -0.0095294 ]\n",
      " [-0.00461233 -0.00882975]\n",
      " [ 0.01980275  0.02980875]\n",
      " [-0.02633659 -0.0312785 ]\n",
      " [ 0.00528308  0.02810656]\n",
      " [ 0.01261909 -0.02890035]\n",
      " [-0.02613037  0.00528459]\n",
      " [ 0.06926955 -0.00316414]\n",
      " [-0.04079143 -0.00750503]\n",
      " [-0.02019476 -0.04851468]\n",
      " [-0.02102922  0.00042207]\n",
      " [-0.03282467 -0.01954578]\n",
      " [ 0.00114016 -0.01408372]\n",
      " [-0.03612674 -0.07861047]\n",
      " [-0.04191981  0.1137099 ]\n",
      " [-0.01027938  0.01038752]\n",
      " [ 0.06838154  0.00281642]\n",
      " [ 0.05751395 -0.02492435]\n",
      " [ 0.05006564 -0.04385745]\n",
      " [ 0.02714702  0.02237089]\n",
      " [ 0.00743597 -0.03516942]\n",
      " [ 0.02122093  0.0481397 ]\n",
      " [-0.02674342  0.02259114]\n",
      " [-0.11627673 -0.0445204 ]\n",
      " [ 0.14756285 -0.00994728]\n",
      " [ 0.03723991 -0.02735539]\n",
      " [ 0.10261138 -0.04172916]\n",
      " [-0.07526478  0.02993773]\n",
      " [-0.06880545  0.06969791]\n",
      " [-0.0356955   0.02209974]\n",
      " [ 0.0263826  -0.03728009]\n",
      " [-0.10513997 -0.05903729]\n",
      " [-0.04178605  0.034805  ]\n",
      " [ 0.03067633  0.08238439]\n",
      " [ 0.00478153 -0.01548877]\n",
      " [ 0.08591645 -0.046227  ]\n",
      " [-0.12224827  0.03558798]\n",
      " [-0.09262674  0.08021686]\n",
      " [ 0.04236324  0.02712873]\n",
      " [ 0.07267688  0.00140991]\n",
      " [-0.03467001 -0.03422814]\n",
      " [ 0.01463398 -0.02914405]\n",
      " [ 0.07040397  0.04669152]\n",
      " [ 0.07986894  0.05097841]\n",
      " [ 0.01275965 -0.04915246]\n",
      " [-0.04613613  0.05912617]\n",
      " [-0.09462118  0.00248278]\n",
      " [-0.04215467  0.06894821]\n",
      " [ 0.05764012  0.03715256]\n",
      " [-0.03558009  0.00720354]\n",
      " [ 0.33323815 -0.07603338]\n",
      " [-0.04893545 -0.05947097]\n",
      " [ 0.05066196  0.01730223]\n",
      " [-0.01873652 -0.00877428]\n",
      " [ 0.03080423 -0.02587793]\n",
      " [ 0.0144918   0.06659497]\n",
      " [-0.03982649  0.00121721]\n",
      " [-0.01840615 -0.03771815]\n",
      " [ 0.03467702 -0.0416603 ]\n",
      " [ 0.06683024 -0.01745085]\n",
      " [ 0.03969235 -0.00685914]\n",
      " [-0.09180208 -0.01020319]\n",
      " [-0.07876723 -0.03375205]\n",
      " [-0.00392738  0.0955278 ]\n",
      " [ 0.01493584  0.10383417]\n",
      " [-0.07181534 -0.01699606]\n",
      " [ 0.08647546  0.05137527]\n",
      " [-0.17359093 -0.06907525]\n",
      " [-0.13553269  0.01051043]\n",
      " [-0.01615545  0.03958882]\n",
      " [ 0.08899732  0.04653042]]\n"
     ]
    }
   ],
   "source": [
    "pca = PCA(n_components=2)\n",
    "pca.fit(np.transpose(X))\n",
    "print(f'Explained variance ratio: {pca.explained_variance_ratio_}')\n",
    "print(f'Singular values: {pca.singular_values_}')\n",
    "components = pca.fit_transform(np.transpose(X))\n",
    "print(f'# of datapoints: {len(components)}')\n",
    "print(f'Principal Components of each datapoint:\\n{components}')\n",
    "\n",
    "plt.figure(figsize=(4, 4))\n",
    "plt.scatter(components[:, 0], components[:, 1], label='Wu River')\n",
    "plt.title('PCA')\n",
    "plt.xlabel('PC 1')\n",
    "plt.ylabel('PC 2')\n",
    "plt.legend()\n",
    "plt.savefig('Test/PCA_WuRiver.png')"
   ]
  },
  {
   "cell_type": "markdown",
   "id": "ruled-trash",
   "metadata": {},
   "source": [
    "# Emperor Huizong"
   ]
  },
  {
   "cell_type": "code",
   "execution_count": 6,
   "id": "selective-employee",
   "metadata": {},
   "outputs": [],
   "source": [
    "path_huizong = 'Extracted Characters/Emperor Huizong - Finches and bamboo/'\n",
    "X_huizong = analyze_images_in_path(path_huizong)\n",
    "plot_mu_and_K(X_huizong, title=f'Huizong ({X_huizong.shape[1]} images)', filename='Test/mu+K_Huizong.png')"
   ]
  },
  {
   "cell_type": "code",
   "execution_count": 7,
   "id": "acknowledged-angola",
   "metadata": {},
   "outputs": [
    {
     "name": "stdout",
     "output_type": "stream",
     "text": [
      "Explained variance ratio: [0.53135269 0.15757212]\n",
      "Singular values: [0.50312026 0.27398075]\n",
      "# of datapoints: 63\n",
      "Principal Components of each datapoint:\n",
      "[[-2.16313251e-03 -4.25746873e-02]\n",
      " [ 8.57089448e-02  1.40339353e-02]\n",
      " [-2.77658039e-04 -3.65770779e-02]\n",
      " [-1.27794456e-01 -7.98409233e-03]\n",
      " [ 1.07393757e-01 -2.80251417e-02]\n",
      " [-2.24144291e-02  1.00944753e-02]\n",
      " [-2.48369017e-02 -3.93555482e-02]\n",
      " [-1.10309812e-01  1.60847233e-02]\n",
      " [-3.75527438e-02  5.48116811e-03]\n",
      " [ 3.65860470e-02 -2.08294503e-02]\n",
      " [ 8.33063050e-03  3.68827932e-03]\n",
      " [ 2.43327057e-02  4.01623480e-02]\n",
      " [-6.30493270e-02  2.49007855e-03]\n",
      " [-4.33027634e-02  3.31282796e-02]\n",
      " [ 2.29656044e-02  3.74667220e-02]\n",
      " [-4.41109453e-02 -1.26432794e-02]\n",
      " [ 1.89401046e-01 -6.69006215e-02]\n",
      " [-5.87827426e-02  7.85313554e-02]\n",
      " [ 1.01260225e-01  1.84081055e-02]\n",
      " [ 1.94304092e-02 -1.21097606e-02]\n",
      " [-5.06148221e-02 -3.15385971e-02]\n",
      " [ 5.08185361e-02  1.60215374e-02]\n",
      " [-1.51775337e-02 -2.87712629e-02]\n",
      " [-1.10392628e-02  4.48198762e-02]\n",
      " [ 5.19185431e-02  3.82370976e-02]\n",
      " [ 7.33617989e-02 -4.04258839e-02]\n",
      " [ 1.71494931e-02  1.05555082e-04]\n",
      " [ 2.75640321e-02  9.56662636e-03]\n",
      " [-5.00957691e-02 -8.07965955e-03]\n",
      " [-4.03273159e-02 -2.22023808e-02]\n",
      " [ 8.30306664e-02  1.10414070e-03]\n",
      " [-3.08698398e-02  5.16537716e-02]\n",
      " [-3.27546564e-02 -5.45029375e-04]\n",
      " [-6.46815482e-02  7.80668406e-02]\n",
      " [ 1.12859591e-02 -4.72526165e-03]\n",
      " [-5.87188683e-02 -2.49099873e-02]\n",
      " [ 6.41505126e-02 -4.45950289e-03]\n",
      " [ 2.82939509e-02  6.40284036e-02]\n",
      " [-8.88558859e-02 -3.13420785e-02]\n",
      " [-7.34908554e-02 -1.23640176e-02]\n",
      " [ 1.08027402e-01 -6.21561277e-03]\n",
      " [-4.88819884e-02  5.01377579e-02]\n",
      " [ 3.43841118e-04  3.19704686e-02]\n",
      " [-1.06111447e-01 -4.84469898e-02]\n",
      " [ 5.72937122e-02  3.79073623e-02]\n",
      " [ 3.51451718e-02 -6.74889450e-02]\n",
      " [ 4.52080420e-02  3.97800981e-02]\n",
      " [ 4.37899307e-02  3.27252625e-02]\n",
      " [ 6.80649420e-03 -6.86346975e-02]\n",
      " [-4.56674734e-03 -2.39645223e-02]\n",
      " [ 2.14856296e-02  2.94496261e-02]\n",
      " [ 8.45953392e-03  2.26079956e-03]\n",
      " [ 2.97161585e-02 -2.37647810e-02]\n",
      " [-1.52190218e-01 -5.70960053e-02]\n",
      " [ 2.59163869e-03 -5.36614406e-03]\n",
      " [ 3.25841910e-02  1.38781088e-02]\n",
      " [ 4.99547022e-02 -1.71748112e-02]\n",
      " [ 1.00257031e-01  3.38717127e-03]\n",
      " [-4.98439506e-02 -4.16518047e-02]\n",
      " [ 7.66106947e-03  5.06972086e-02]\n",
      " [-1.00473848e-01  2.03424889e-02]\n",
      " [-6.32164595e-02 -1.99729519e-02]\n",
      " [ 2.41985169e-02 -1.95690858e-02]]\n"
     ]
    }
   ],
   "source": [
    "pca = PCA(n_components=2)\n",
    "pca.fit(np.transpose(X_huizong))\n",
    "print(f'Explained variance ratio: {pca.explained_variance_ratio_}')\n",
    "print(f'Singular values: {pca.singular_values_}')\n",
    "components = pca.fit_transform(np.transpose(X_huizong))\n",
    "print(f'# of datapoints: {len(components)}')\n",
    "print(f'Principal Components of each datapoint:\\n{components}')\n",
    "\n",
    "plt.figure(figsize=(4, 4))\n",
    "plt.scatter(components[:, 0], components[:, 1], label='Huizong')\n",
    "plt.title('PCA')\n",
    "plt.xlabel('PC 1')\n",
    "plt.ylabel('PC 2')\n",
    "plt.legend()\n",
    "plt.savefig('Test/PCA_Huizong.png')"
   ]
  },
  {
   "cell_type": "code",
   "execution_count": 8,
   "id": "prospective-summit",
   "metadata": {},
   "outputs": [
    {
     "data": {
      "text/plain": [
       "array([ 0.        , -0.01189713, -0.0015365 ,  0.00282308,  0.        ,\n",
       "        0.01359497,  0.0182712 ,  0.00675491, -0.00955608,  0.        ,\n",
       "       -0.02040361, -0.00902268, -0.00562586,  0.00024467,  0.        ,\n",
       "        0.02281982,  0.02439142, -0.00315011, -0.01308333, -0.01462477])"
      ]
     },
     "execution_count": 8,
     "metadata": {},
     "output_type": "execute_result"
    }
   ],
   "source": [
    "np.mean(X, axis=1) - np.mean(X_huizong, axis=1)"
   ]
  },
  {
   "cell_type": "markdown",
   "id": "round-tooth",
   "metadata": {},
   "source": [
    "# PCA Comparison"
   ]
  },
  {
   "cell_type": "code",
   "execution_count": 9,
   "id": "meaning-librarian",
   "metadata": {},
   "outputs": [
    {
     "data": {
      "text/plain": [
       "(154, 20)"
      ]
     },
     "execution_count": 9,
     "metadata": {},
     "output_type": "execute_result"
    }
   ],
   "source": [
    "np.vstack((X.T, X_huizong.T)).shape"
   ]
  },
  {
   "cell_type": "code",
   "execution_count": 11,
   "id": "undefined-meter",
   "metadata": {
    "scrolled": false
   },
   "outputs": [
    {
     "name": "stdout",
     "output_type": "stream",
     "text": [
      "# of datapoints: 154\n",
      "len(cvec) = 154\n"
     ]
    }
   ],
   "source": [
    "pca = PCA(n_components=2)\n",
    "components = pca.fit_transform(np.vstack((X.T, X_huizong.T)))\n",
    "print(f'# of datapoints: {len(components)}')\n",
    "\n",
    "cvec = [0]*X.shape[1] + [1]*X_huizong.shape[1]\n",
    "print(f'len(cvec) = {len(cvec)}')\n",
    "\n",
    "\n",
    "x = components[:, 0] # PC 1\n",
    "y = components[:, 1] # PC 2\n",
    "\n",
    "# https://matplotlib.org/stable/gallery/lines_bars_and_markers/scatter_with_legend.html\n",
    "fig, ax = plt.subplots()\n",
    "scatter = ax.scatter(x, y, c=cvec)\n",
    "ax.set_title('PCA')\n",
    "ax.set_xlabel('PC 1')\n",
    "ax.set_ylabel('PC 2')\n",
    "\n",
    "# produce a legend with the unique colors from the scatter\n",
    "legend1 = ax.legend(*scatter.legend_elements(),\n",
    "                    loc=\"upper right\", title=\"Classes\")\n",
    "ax.add_artist(legend1)\n",
    "plt.savefig('Test/PCA_WuRiver+Huizong.png')"
   ]
  },
  {
   "cell_type": "markdown",
   "id": "meaningful-diabetes",
   "metadata": {},
   "source": [
    "That was a really hacky way of labeling the classes on the PCA plot. Let's try a more elegant solution with pandas and Plotly. See https://plotly.com/python/pca-visualization/"
   ]
  },
  {
   "cell_type": "code",
   "execution_count": 109,
   "id": "headed-cycle",
   "metadata": {},
   "outputs": [
    {
     "name": "stdout",
     "output_type": "stream",
     "text": [
      "[[ 0.36158968 -0.08226889  0.85657211  0.35884393]\n",
      " [ 0.65653988  0.72971237 -0.1757674  -0.07470647]]\n"
     ]
    },
    {
     "data": {
      "application/vnd.plotly.v1+json": {
       "config": {
        "plotlyServerURL": "https://plot.ly"
       },
       "data": [
        {
         "hovertemplate": "color=setosa<br>0=%{x}<br>1=%{y}<extra></extra>",
         "legendgroup": "setosa",
         "marker": {
          "color": "#636efa",
          "symbol": "circle"
         },
         "mode": "markers",
         "name": "setosa",
         "orientation": "v",
         "showlegend": true,
         "type": "scatter",
         "x": [
          -2.6842071251039537,
          -2.7153906156341323,
          -2.889819539617917,
          -2.746437197308735,
          -2.728592981831315,
          -2.279897361009598,
          -2.8208906821806305,
          -2.6264819933238193,
          -2.887958565335635,
          -2.6738446867191215,
          -2.5065267893389036,
          -2.6131427182710563,
          -2.7874339759970983,
          -3.2252004462749815,
          -2.643543216941146,
          -2.383869323799375,
          -2.6225262031258088,
          -2.6483227324791274,
          -2.1990779614307634,
          -2.5873461889177385,
          -2.3105317013131335,
          -2.5432349073036953,
          -3.2158576949001065,
          -2.303128537663883,
          -2.356171086683898,
          -2.507917226837881,
          -2.4690559975451234,
          -2.562390946836751,
          -2.6398212683765823,
          -2.6328479080307585,
          -2.5884620513033925,
          -2.410077337121596,
          -2.6476366733969003,
          -2.5971594770759183,
          -2.6738446867191215,
          -2.8669998469325346,
          -2.6252284646804207,
          -2.6738446867191215,
          -2.981842664853909,
          -2.5903230255856746,
          -2.770138910746325,
          -2.852211081566393,
          -2.9982964428323515,
          -2.4055141012847017,
          -2.2088329541767058,
          -2.715665190747455,
          -2.5375733710135076,
          -2.840321296827009,
          -2.5426857570770487,
          -2.7039123148636506
         ],
         "xaxis": "x",
         "y": [
          0.32660731476438964,
          -0.16955684755602599,
          -0.13734560960502765,
          -0.3111243157519917,
          0.3339245635684548,
          0.7477827132251336,
          -0.08210451102468079,
          0.1704053489602899,
          -0.5707980263315916,
          -0.1066917037527385,
          0.6519350136725719,
          0.021520631960258028,
          -0.2277401888711063,
          -0.5032799094854257,
          1.1861948994134492,
          1.344754344559862,
          0.8180896745965951,
          0.3191366677508846,
          0.8792440880917366,
          0.5204736388059681,
          0.39786782158889195,
          0.4400317546598153,
          0.14161557162558377,
          0.1055226784299823,
          -0.031209589068338258,
          -0.13905633991317395,
          0.13788731459041773,
          0.3746845627501062,
          0.31929006596032183,
          -0.190075830633624,
          -0.1973930794376908,
          0.4180800082476161,
          0.819982632559507,
          1.1000219280072685,
          -0.1066917037527385,
          0.07719309572358724,
          0.6068000084215862,
          -0.1066917037527385,
          -0.48025004885607653,
          0.23605933728887282,
          0.2710594197651672,
          -0.9328653674695443,
          -0.3343075745907771,
          0.1959172576960609,
          0.44269603042100303,
          -0.242681482898113,
          0.510367545476606,
          -0.22057633827647652,
          0.5862810253439883,
          0.11501085217050568
         ],
         "yaxis": "y"
        },
        {
         "hovertemplate": "color=versicolor<br>0=%{x}<br>1=%{y}<extra></extra>",
         "legendgroup": "versicolor",
         "marker": {
          "color": "#EF553B",
          "symbol": "circle"
         },
         "mode": "markers",
         "name": "versicolor",
         "orientation": "v",
         "showlegend": true,
         "type": "scatter",
         "x": [
          1.284794587845072,
          0.9324107529829181,
          1.464061322779076,
          0.18096720634769892,
          1.0871344872070015,
          0.6404367495231454,
          1.0952237099384787,
          -0.7514671406482274,
          1.0432977807062813,
          -0.010190070727853398,
          -0.511086195895091,
          0.5110980606834774,
          0.2623357561531806,
          0.9840445451694311,
          -0.1748640019656961,
          0.9275729420327004,
          0.6595927890562004,
          0.23454058625983573,
          0.9423617073988422,
          0.043246400328704596,
          1.1162407237538159,
          0.3567865678304615,
          1.2964688502855342,
          0.9205026489090097,
          0.7140082136428337,
          0.8996408632837766,
          1.3310414188547206,
          1.5573962720707029,
          0.8124555489980021,
          -0.3073347556634044,
          -0.07034288894927158,
          -0.19188449210314565,
          0.13499495045137352,
          1.378736982775583,
          0.587274853579911,
          0.8072054966767165,
          1.2204289662446801,
          0.8128677903690703,
          0.24519516169034597,
          0.16451342836925573,
          0.4630309888714244,
          0.8901604456511567,
          0.22887904996964784,
          -0.7070812839208609,
          0.35553303918706347,
          0.33112694733272274,
          0.3752382289467658,
          0.6416902781665434,
          -0.9084633331234955,
          0.29780790740693397
         ],
         "xaxis": "x",
         "y": [
          0.6854391861329199,
          0.3191980898336486,
          0.504189832972453,
          -0.8256039435761131,
          0.07539038928876741,
          -0.41732348297002564,
          0.2838912109384804,
          -1.0011075129743943,
          0.22895690877700672,
          -0.7205748667019015,
          -1.2624919538621404,
          -0.1022841050459702,
          -0.5478932980253367,
          -0.1243604202222779,
          -0.2518155710801706,
          0.4682362050431169,
          -0.35197629106031636,
          -0.3319218293621203,
          -0.5418222581500141,
          -0.5814894466123587,
          -0.0842140138783734,
          -0.06682382794136625,
          -0.32756151979494413,
          -0.182390363327921,
          0.15037915314843714,
          0.32961097958188385,
          0.24466952060228916,
          0.26739258481276473,
          -0.16233157487863326,
          -0.3650866127661603,
          -0.7025379317307259,
          -0.6774905443743572,
          -0.3117096427033962,
          -0.4212051382146283,
          -0.4832842677174824,
          0.1950539637711116,
          0.40803533700101735,
          -0.37067899831890977,
          -0.26672803566184794,
          -0.6796614693108137,
          -0.6695265465361225,
          -0.03381244274676267,
          -0.4022576201789114,
          -1.008424761778461,
          -0.5032184874026622,
          -0.21118014066262658,
          -0.2916220248087797,
          0.019071176491270752,
          -0.7515687251694855,
          -0.34701652159856383
         ],
         "yaxis": "y"
        },
        {
         "hovertemplate": "color=virginica<br>0=%{x}<br>1=%{y}<extra></extra>",
         "legendgroup": "virginica",
         "marker": {
          "color": "#00cc96",
          "symbol": "circle"
         },
         "mode": "markers",
         "name": "virginica",
         "orientation": "v",
         "showlegend": true,
         "type": "scatter",
         "x": [
          2.531726980439559,
          1.4140722251737574,
          2.6164846082840443,
          1.9708149459064823,
          2.349757983950943,
          3.3968799206781397,
          0.5193832450849359,
          2.9320050969913023,
          2.319672793874054,
          2.918134233644252,
          1.6619349470194873,
          1.8023404526607338,
          2.165378862953398,
          1.3445942175098244,
          1.5852672993086439,
          1.904743578213913,
          1.9492487818644988,
          3.4887653796563862,
          3.794686861209971,
          1.2983298245678163,
          2.4281672590208485,
          1.1980973722749628,
          3.4992654842989577,
          1.387668250181556,
          2.2758536493056947,
          2.6141938306983343,
          1.2576251829251366,
          1.2906696477376018,
          2.1228539805083138,
          2.3875644023690286,
          2.8409609252853847,
          3.232342898295877,
          2.158738373133135,
          1.443102604375975,
          1.7796401068985703,
          3.076521621020663,
          2.1449868567093042,
          1.9048629251371325,
          1.1688534694704036,
          2.1076537311732695,
          2.314303394629549,
          1.922450884835753,
          1.4140722251737574,
          2.5633227123408098,
          2.419391219804981,
          1.9440170488777377,
          1.5256636313138727,
          1.7640459355269835,
          1.9016290752882332,
          1.3896661333194167
         ],
         "xaxis": "x",
         "y": [
          -0.011842236640300364,
          -0.5749250559123047,
          0.34193528698729464,
          -0.1811256947049137,
          -0.04188254965484185,
          0.5471680462301525,
          -1.191351689050653,
          0.35237700618085965,
          -0.24554817060691028,
          0.780380629372032,
          0.2420384010375223,
          -0.21615460662653638,
          0.21528028337300706,
          -0.7764154251768249,
          -0.5393070538471719,
          0.11881899098269848,
          0.04073025942776778,
          1.1715445442635644,
          0.25326557097253444,
          -0.7610139365215078,
          0.3767819712541526,
          -0.6055789617645944,
          0.45677346696407445,
          -0.20403098657015492,
          0.3333865257566421,
          0.5583669502788222,
          -0.17913699742322284,
          -0.11642525182937247,
          -0.21085488454948992,
          0.46251925072626043,
          0.3727425910490212,
          1.3705240359763333,
          -0.21832553156299325,
          -0.1438012890827262,
          -0.5014647947060155,
          0.6857644422460565,
          0.1389066088773146,
          0.048047508231834575,
          -0.16450249981508988,
          0.37148224917710576,
          0.18260885079369849,
          0.40927117617869546,
          -0.5749250559123047,
          0.275974502239838,
          0.30350393770262873,
          0.18741522204601385,
          -0.37502084819182285,
          0.0785191864293574,
          0.11587674824796569,
          -0.282886709172269
         ],
         "yaxis": "y"
        }
       ],
       "layout": {
        "legend": {
         "title": {
          "text": "color"
         },
         "tracegroupgap": 0
        },
        "margin": {
         "t": 60
        },
        "template": {
         "data": {
          "bar": [
           {
            "error_x": {
             "color": "#2a3f5f"
            },
            "error_y": {
             "color": "#2a3f5f"
            },
            "marker": {
             "line": {
              "color": "#E5ECF6",
              "width": 0.5
             }
            },
            "type": "bar"
           }
          ],
          "barpolar": [
           {
            "marker": {
             "line": {
              "color": "#E5ECF6",
              "width": 0.5
             }
            },
            "type": "barpolar"
           }
          ],
          "carpet": [
           {
            "aaxis": {
             "endlinecolor": "#2a3f5f",
             "gridcolor": "white",
             "linecolor": "white",
             "minorgridcolor": "white",
             "startlinecolor": "#2a3f5f"
            },
            "baxis": {
             "endlinecolor": "#2a3f5f",
             "gridcolor": "white",
             "linecolor": "white",
             "minorgridcolor": "white",
             "startlinecolor": "#2a3f5f"
            },
            "type": "carpet"
           }
          ],
          "choropleth": [
           {
            "colorbar": {
             "outlinewidth": 0,
             "ticks": ""
            },
            "type": "choropleth"
           }
          ],
          "contour": [
           {
            "colorbar": {
             "outlinewidth": 0,
             "ticks": ""
            },
            "colorscale": [
             [
              0,
              "#0d0887"
             ],
             [
              0.1111111111111111,
              "#46039f"
             ],
             [
              0.2222222222222222,
              "#7201a8"
             ],
             [
              0.3333333333333333,
              "#9c179e"
             ],
             [
              0.4444444444444444,
              "#bd3786"
             ],
             [
              0.5555555555555556,
              "#d8576b"
             ],
             [
              0.6666666666666666,
              "#ed7953"
             ],
             [
              0.7777777777777778,
              "#fb9f3a"
             ],
             [
              0.8888888888888888,
              "#fdca26"
             ],
             [
              1,
              "#f0f921"
             ]
            ],
            "type": "contour"
           }
          ],
          "contourcarpet": [
           {
            "colorbar": {
             "outlinewidth": 0,
             "ticks": ""
            },
            "type": "contourcarpet"
           }
          ],
          "heatmap": [
           {
            "colorbar": {
             "outlinewidth": 0,
             "ticks": ""
            },
            "colorscale": [
             [
              0,
              "#0d0887"
             ],
             [
              0.1111111111111111,
              "#46039f"
             ],
             [
              0.2222222222222222,
              "#7201a8"
             ],
             [
              0.3333333333333333,
              "#9c179e"
             ],
             [
              0.4444444444444444,
              "#bd3786"
             ],
             [
              0.5555555555555556,
              "#d8576b"
             ],
             [
              0.6666666666666666,
              "#ed7953"
             ],
             [
              0.7777777777777778,
              "#fb9f3a"
             ],
             [
              0.8888888888888888,
              "#fdca26"
             ],
             [
              1,
              "#f0f921"
             ]
            ],
            "type": "heatmap"
           }
          ],
          "heatmapgl": [
           {
            "colorbar": {
             "outlinewidth": 0,
             "ticks": ""
            },
            "colorscale": [
             [
              0,
              "#0d0887"
             ],
             [
              0.1111111111111111,
              "#46039f"
             ],
             [
              0.2222222222222222,
              "#7201a8"
             ],
             [
              0.3333333333333333,
              "#9c179e"
             ],
             [
              0.4444444444444444,
              "#bd3786"
             ],
             [
              0.5555555555555556,
              "#d8576b"
             ],
             [
              0.6666666666666666,
              "#ed7953"
             ],
             [
              0.7777777777777778,
              "#fb9f3a"
             ],
             [
              0.8888888888888888,
              "#fdca26"
             ],
             [
              1,
              "#f0f921"
             ]
            ],
            "type": "heatmapgl"
           }
          ],
          "histogram": [
           {
            "marker": {
             "colorbar": {
              "outlinewidth": 0,
              "ticks": ""
             }
            },
            "type": "histogram"
           }
          ],
          "histogram2d": [
           {
            "colorbar": {
             "outlinewidth": 0,
             "ticks": ""
            },
            "colorscale": [
             [
              0,
              "#0d0887"
             ],
             [
              0.1111111111111111,
              "#46039f"
             ],
             [
              0.2222222222222222,
              "#7201a8"
             ],
             [
              0.3333333333333333,
              "#9c179e"
             ],
             [
              0.4444444444444444,
              "#bd3786"
             ],
             [
              0.5555555555555556,
              "#d8576b"
             ],
             [
              0.6666666666666666,
              "#ed7953"
             ],
             [
              0.7777777777777778,
              "#fb9f3a"
             ],
             [
              0.8888888888888888,
              "#fdca26"
             ],
             [
              1,
              "#f0f921"
             ]
            ],
            "type": "histogram2d"
           }
          ],
          "histogram2dcontour": [
           {
            "colorbar": {
             "outlinewidth": 0,
             "ticks": ""
            },
            "colorscale": [
             [
              0,
              "#0d0887"
             ],
             [
              0.1111111111111111,
              "#46039f"
             ],
             [
              0.2222222222222222,
              "#7201a8"
             ],
             [
              0.3333333333333333,
              "#9c179e"
             ],
             [
              0.4444444444444444,
              "#bd3786"
             ],
             [
              0.5555555555555556,
              "#d8576b"
             ],
             [
              0.6666666666666666,
              "#ed7953"
             ],
             [
              0.7777777777777778,
              "#fb9f3a"
             ],
             [
              0.8888888888888888,
              "#fdca26"
             ],
             [
              1,
              "#f0f921"
             ]
            ],
            "type": "histogram2dcontour"
           }
          ],
          "mesh3d": [
           {
            "colorbar": {
             "outlinewidth": 0,
             "ticks": ""
            },
            "type": "mesh3d"
           }
          ],
          "parcoords": [
           {
            "line": {
             "colorbar": {
              "outlinewidth": 0,
              "ticks": ""
             }
            },
            "type": "parcoords"
           }
          ],
          "pie": [
           {
            "automargin": true,
            "type": "pie"
           }
          ],
          "scatter": [
           {
            "marker": {
             "colorbar": {
              "outlinewidth": 0,
              "ticks": ""
             }
            },
            "type": "scatter"
           }
          ],
          "scatter3d": [
           {
            "line": {
             "colorbar": {
              "outlinewidth": 0,
              "ticks": ""
             }
            },
            "marker": {
             "colorbar": {
              "outlinewidth": 0,
              "ticks": ""
             }
            },
            "type": "scatter3d"
           }
          ],
          "scattercarpet": [
           {
            "marker": {
             "colorbar": {
              "outlinewidth": 0,
              "ticks": ""
             }
            },
            "type": "scattercarpet"
           }
          ],
          "scattergeo": [
           {
            "marker": {
             "colorbar": {
              "outlinewidth": 0,
              "ticks": ""
             }
            },
            "type": "scattergeo"
           }
          ],
          "scattergl": [
           {
            "marker": {
             "colorbar": {
              "outlinewidth": 0,
              "ticks": ""
             }
            },
            "type": "scattergl"
           }
          ],
          "scattermapbox": [
           {
            "marker": {
             "colorbar": {
              "outlinewidth": 0,
              "ticks": ""
             }
            },
            "type": "scattermapbox"
           }
          ],
          "scatterpolar": [
           {
            "marker": {
             "colorbar": {
              "outlinewidth": 0,
              "ticks": ""
             }
            },
            "type": "scatterpolar"
           }
          ],
          "scatterpolargl": [
           {
            "marker": {
             "colorbar": {
              "outlinewidth": 0,
              "ticks": ""
             }
            },
            "type": "scatterpolargl"
           }
          ],
          "scatterternary": [
           {
            "marker": {
             "colorbar": {
              "outlinewidth": 0,
              "ticks": ""
             }
            },
            "type": "scatterternary"
           }
          ],
          "surface": [
           {
            "colorbar": {
             "outlinewidth": 0,
             "ticks": ""
            },
            "colorscale": [
             [
              0,
              "#0d0887"
             ],
             [
              0.1111111111111111,
              "#46039f"
             ],
             [
              0.2222222222222222,
              "#7201a8"
             ],
             [
              0.3333333333333333,
              "#9c179e"
             ],
             [
              0.4444444444444444,
              "#bd3786"
             ],
             [
              0.5555555555555556,
              "#d8576b"
             ],
             [
              0.6666666666666666,
              "#ed7953"
             ],
             [
              0.7777777777777778,
              "#fb9f3a"
             ],
             [
              0.8888888888888888,
              "#fdca26"
             ],
             [
              1,
              "#f0f921"
             ]
            ],
            "type": "surface"
           }
          ],
          "table": [
           {
            "cells": {
             "fill": {
              "color": "#EBF0F8"
             },
             "line": {
              "color": "white"
             }
            },
            "header": {
             "fill": {
              "color": "#C8D4E3"
             },
             "line": {
              "color": "white"
             }
            },
            "type": "table"
           }
          ]
         },
         "layout": {
          "annotationdefaults": {
           "arrowcolor": "#2a3f5f",
           "arrowhead": 0,
           "arrowwidth": 1
          },
          "autotypenumbers": "strict",
          "coloraxis": {
           "colorbar": {
            "outlinewidth": 0,
            "ticks": ""
           }
          },
          "colorscale": {
           "diverging": [
            [
             0,
             "#8e0152"
            ],
            [
             0.1,
             "#c51b7d"
            ],
            [
             0.2,
             "#de77ae"
            ],
            [
             0.3,
             "#f1b6da"
            ],
            [
             0.4,
             "#fde0ef"
            ],
            [
             0.5,
             "#f7f7f7"
            ],
            [
             0.6,
             "#e6f5d0"
            ],
            [
             0.7,
             "#b8e186"
            ],
            [
             0.8,
             "#7fbc41"
            ],
            [
             0.9,
             "#4d9221"
            ],
            [
             1,
             "#276419"
            ]
           ],
           "sequential": [
            [
             0,
             "#0d0887"
            ],
            [
             0.1111111111111111,
             "#46039f"
            ],
            [
             0.2222222222222222,
             "#7201a8"
            ],
            [
             0.3333333333333333,
             "#9c179e"
            ],
            [
             0.4444444444444444,
             "#bd3786"
            ],
            [
             0.5555555555555556,
             "#d8576b"
            ],
            [
             0.6666666666666666,
             "#ed7953"
            ],
            [
             0.7777777777777778,
             "#fb9f3a"
            ],
            [
             0.8888888888888888,
             "#fdca26"
            ],
            [
             1,
             "#f0f921"
            ]
           ],
           "sequentialminus": [
            [
             0,
             "#0d0887"
            ],
            [
             0.1111111111111111,
             "#46039f"
            ],
            [
             0.2222222222222222,
             "#7201a8"
            ],
            [
             0.3333333333333333,
             "#9c179e"
            ],
            [
             0.4444444444444444,
             "#bd3786"
            ],
            [
             0.5555555555555556,
             "#d8576b"
            ],
            [
             0.6666666666666666,
             "#ed7953"
            ],
            [
             0.7777777777777778,
             "#fb9f3a"
            ],
            [
             0.8888888888888888,
             "#fdca26"
            ],
            [
             1,
             "#f0f921"
            ]
           ]
          },
          "colorway": [
           "#636efa",
           "#EF553B",
           "#00cc96",
           "#ab63fa",
           "#FFA15A",
           "#19d3f3",
           "#FF6692",
           "#B6E880",
           "#FF97FF",
           "#FECB52"
          ],
          "font": {
           "color": "#2a3f5f"
          },
          "geo": {
           "bgcolor": "white",
           "lakecolor": "white",
           "landcolor": "#E5ECF6",
           "showlakes": true,
           "showland": true,
           "subunitcolor": "white"
          },
          "hoverlabel": {
           "align": "left"
          },
          "hovermode": "closest",
          "mapbox": {
           "style": "light"
          },
          "paper_bgcolor": "white",
          "plot_bgcolor": "#E5ECF6",
          "polar": {
           "angularaxis": {
            "gridcolor": "white",
            "linecolor": "white",
            "ticks": ""
           },
           "bgcolor": "#E5ECF6",
           "radialaxis": {
            "gridcolor": "white",
            "linecolor": "white",
            "ticks": ""
           }
          },
          "scene": {
           "xaxis": {
            "backgroundcolor": "#E5ECF6",
            "gridcolor": "white",
            "gridwidth": 2,
            "linecolor": "white",
            "showbackground": true,
            "ticks": "",
            "zerolinecolor": "white"
           },
           "yaxis": {
            "backgroundcolor": "#E5ECF6",
            "gridcolor": "white",
            "gridwidth": 2,
            "linecolor": "white",
            "showbackground": true,
            "ticks": "",
            "zerolinecolor": "white"
           },
           "zaxis": {
            "backgroundcolor": "#E5ECF6",
            "gridcolor": "white",
            "gridwidth": 2,
            "linecolor": "white",
            "showbackground": true,
            "ticks": "",
            "zerolinecolor": "white"
           }
          },
          "shapedefaults": {
           "line": {
            "color": "#2a3f5f"
           }
          },
          "ternary": {
           "aaxis": {
            "gridcolor": "white",
            "linecolor": "white",
            "ticks": ""
           },
           "baxis": {
            "gridcolor": "white",
            "linecolor": "white",
            "ticks": ""
           },
           "bgcolor": "#E5ECF6",
           "caxis": {
            "gridcolor": "white",
            "linecolor": "white",
            "ticks": ""
           }
          },
          "title": {
           "x": 0.05
          },
          "xaxis": {
           "automargin": true,
           "gridcolor": "white",
           "linecolor": "white",
           "ticks": "",
           "title": {
            "standoff": 15
           },
           "zerolinecolor": "white",
           "zerolinewidth": 2
          },
          "yaxis": {
           "automargin": true,
           "gridcolor": "white",
           "linecolor": "white",
           "ticks": "",
           "title": {
            "standoff": 15
           },
           "zerolinecolor": "white",
           "zerolinewidth": 2
          }
         }
        },
        "xaxis": {
         "anchor": "y",
         "domain": [
          0,
          1
         ],
         "title": {
          "text": "0"
         }
        },
        "yaxis": {
         "anchor": "x",
         "domain": [
          0,
          1
         ],
         "title": {
          "text": "1"
         }
        }
       }
      },
      "text/html": [
       "<div>                            <div id=\"7a2d7ea6-738a-4971-9115-3b4ed4532322\" class=\"plotly-graph-div\" style=\"height:525px; width:100%;\"></div>            <script type=\"text/javascript\">                require([\"plotly\"], function(Plotly) {                    window.PLOTLYENV=window.PLOTLYENV || {};                                    if (document.getElementById(\"7a2d7ea6-738a-4971-9115-3b4ed4532322\")) {                    Plotly.newPlot(                        \"7a2d7ea6-738a-4971-9115-3b4ed4532322\",                        [{\"hovertemplate\": \"color=setosa<br>0=%{x}<br>1=%{y}<extra></extra>\", \"legendgroup\": \"setosa\", \"marker\": {\"color\": \"#636efa\", \"symbol\": \"circle\"}, \"mode\": \"markers\", \"name\": \"setosa\", \"orientation\": \"v\", \"showlegend\": true, \"type\": \"scatter\", \"x\": [-2.6842071251039537, -2.7153906156341323, -2.889819539617917, -2.746437197308735, -2.728592981831315, -2.279897361009598, -2.8208906821806305, -2.6264819933238193, -2.887958565335635, -2.6738446867191215, -2.5065267893389036, -2.6131427182710563, -2.7874339759970983, -3.2252004462749815, -2.643543216941146, -2.383869323799375, -2.6225262031258088, -2.6483227324791274, -2.1990779614307634, -2.5873461889177385, -2.3105317013131335, -2.5432349073036953, -3.2158576949001065, -2.303128537663883, -2.356171086683898, -2.507917226837881, -2.4690559975451234, -2.562390946836751, -2.6398212683765823, -2.6328479080307585, -2.5884620513033925, -2.410077337121596, -2.6476366733969003, -2.5971594770759183, -2.6738446867191215, -2.8669998469325346, -2.6252284646804207, -2.6738446867191215, -2.981842664853909, -2.5903230255856746, -2.770138910746325, -2.852211081566393, -2.9982964428323515, -2.4055141012847017, -2.2088329541767058, -2.715665190747455, -2.5375733710135076, -2.840321296827009, -2.5426857570770487, -2.7039123148636506], \"xaxis\": \"x\", \"y\": [0.32660731476438964, -0.16955684755602599, -0.13734560960502765, -0.3111243157519917, 0.3339245635684548, 0.7477827132251336, -0.08210451102468079, 0.1704053489602899, -0.5707980263315916, -0.1066917037527385, 0.6519350136725719, 0.021520631960258028, -0.2277401888711063, -0.5032799094854257, 1.1861948994134492, 1.344754344559862, 0.8180896745965951, 0.3191366677508846, 0.8792440880917366, 0.5204736388059681, 0.39786782158889195, 0.4400317546598153, 0.14161557162558377, 0.1055226784299823, -0.031209589068338258, -0.13905633991317395, 0.13788731459041773, 0.3746845627501062, 0.31929006596032183, -0.190075830633624, -0.1973930794376908, 0.4180800082476161, 0.819982632559507, 1.1000219280072685, -0.1066917037527385, 0.07719309572358724, 0.6068000084215862, -0.1066917037527385, -0.48025004885607653, 0.23605933728887282, 0.2710594197651672, -0.9328653674695443, -0.3343075745907771, 0.1959172576960609, 0.44269603042100303, -0.242681482898113, 0.510367545476606, -0.22057633827647652, 0.5862810253439883, 0.11501085217050568], \"yaxis\": \"y\"}, {\"hovertemplate\": \"color=versicolor<br>0=%{x}<br>1=%{y}<extra></extra>\", \"legendgroup\": \"versicolor\", \"marker\": {\"color\": \"#EF553B\", \"symbol\": \"circle\"}, \"mode\": \"markers\", \"name\": \"versicolor\", \"orientation\": \"v\", \"showlegend\": true, \"type\": \"scatter\", \"x\": [1.284794587845072, 0.9324107529829181, 1.464061322779076, 0.18096720634769892, 1.0871344872070015, 0.6404367495231454, 1.0952237099384787, -0.7514671406482274, 1.0432977807062813, -0.010190070727853398, -0.511086195895091, 0.5110980606834774, 0.2623357561531806, 0.9840445451694311, -0.1748640019656961, 0.9275729420327004, 0.6595927890562004, 0.23454058625983573, 0.9423617073988422, 0.043246400328704596, 1.1162407237538159, 0.3567865678304615, 1.2964688502855342, 0.9205026489090097, 0.7140082136428337, 0.8996408632837766, 1.3310414188547206, 1.5573962720707029, 0.8124555489980021, -0.3073347556634044, -0.07034288894927158, -0.19188449210314565, 0.13499495045137352, 1.378736982775583, 0.587274853579911, 0.8072054966767165, 1.2204289662446801, 0.8128677903690703, 0.24519516169034597, 0.16451342836925573, 0.4630309888714244, 0.8901604456511567, 0.22887904996964784, -0.7070812839208609, 0.35553303918706347, 0.33112694733272274, 0.3752382289467658, 0.6416902781665434, -0.9084633331234955, 0.29780790740693397], \"xaxis\": \"x\", \"y\": [0.6854391861329199, 0.3191980898336486, 0.504189832972453, -0.8256039435761131, 0.07539038928876741, -0.41732348297002564, 0.2838912109384804, -1.0011075129743943, 0.22895690877700672, -0.7205748667019015, -1.2624919538621404, -0.1022841050459702, -0.5478932980253367, -0.1243604202222779, -0.2518155710801706, 0.4682362050431169, -0.35197629106031636, -0.3319218293621203, -0.5418222581500141, -0.5814894466123587, -0.0842140138783734, -0.06682382794136625, -0.32756151979494413, -0.182390363327921, 0.15037915314843714, 0.32961097958188385, 0.24466952060228916, 0.26739258481276473, -0.16233157487863326, -0.3650866127661603, -0.7025379317307259, -0.6774905443743572, -0.3117096427033962, -0.4212051382146283, -0.4832842677174824, 0.1950539637711116, 0.40803533700101735, -0.37067899831890977, -0.26672803566184794, -0.6796614693108137, -0.6695265465361225, -0.03381244274676267, -0.4022576201789114, -1.008424761778461, -0.5032184874026622, -0.21118014066262658, -0.2916220248087797, 0.019071176491270752, -0.7515687251694855, -0.34701652159856383], \"yaxis\": \"y\"}, {\"hovertemplate\": \"color=virginica<br>0=%{x}<br>1=%{y}<extra></extra>\", \"legendgroup\": \"virginica\", \"marker\": {\"color\": \"#00cc96\", \"symbol\": \"circle\"}, \"mode\": \"markers\", \"name\": \"virginica\", \"orientation\": \"v\", \"showlegend\": true, \"type\": \"scatter\", \"x\": [2.531726980439559, 1.4140722251737574, 2.6164846082840443, 1.9708149459064823, 2.349757983950943, 3.3968799206781397, 0.5193832450849359, 2.9320050969913023, 2.319672793874054, 2.918134233644252, 1.6619349470194873, 1.8023404526607338, 2.165378862953398, 1.3445942175098244, 1.5852672993086439, 1.904743578213913, 1.9492487818644988, 3.4887653796563862, 3.794686861209971, 1.2983298245678163, 2.4281672590208485, 1.1980973722749628, 3.4992654842989577, 1.387668250181556, 2.2758536493056947, 2.6141938306983343, 1.2576251829251366, 1.2906696477376018, 2.1228539805083138, 2.3875644023690286, 2.8409609252853847, 3.232342898295877, 2.158738373133135, 1.443102604375975, 1.7796401068985703, 3.076521621020663, 2.1449868567093042, 1.9048629251371325, 1.1688534694704036, 2.1076537311732695, 2.314303394629549, 1.922450884835753, 1.4140722251737574, 2.5633227123408098, 2.419391219804981, 1.9440170488777377, 1.5256636313138727, 1.7640459355269835, 1.9016290752882332, 1.3896661333194167], \"xaxis\": \"x\", \"y\": [-0.011842236640300364, -0.5749250559123047, 0.34193528698729464, -0.1811256947049137, -0.04188254965484185, 0.5471680462301525, -1.191351689050653, 0.35237700618085965, -0.24554817060691028, 0.780380629372032, 0.2420384010375223, -0.21615460662653638, 0.21528028337300706, -0.7764154251768249, -0.5393070538471719, 0.11881899098269848, 0.04073025942776778, 1.1715445442635644, 0.25326557097253444, -0.7610139365215078, 0.3767819712541526, -0.6055789617645944, 0.45677346696407445, -0.20403098657015492, 0.3333865257566421, 0.5583669502788222, -0.17913699742322284, -0.11642525182937247, -0.21085488454948992, 0.46251925072626043, 0.3727425910490212, 1.3705240359763333, -0.21832553156299325, -0.1438012890827262, -0.5014647947060155, 0.6857644422460565, 0.1389066088773146, 0.048047508231834575, -0.16450249981508988, 0.37148224917710576, 0.18260885079369849, 0.40927117617869546, -0.5749250559123047, 0.275974502239838, 0.30350393770262873, 0.18741522204601385, -0.37502084819182285, 0.0785191864293574, 0.11587674824796569, -0.282886709172269], \"yaxis\": \"y\"}],                        {\"legend\": {\"title\": {\"text\": \"color\"}, \"tracegroupgap\": 0}, \"margin\": {\"t\": 60}, \"template\": {\"data\": {\"bar\": [{\"error_x\": {\"color\": \"#2a3f5f\"}, \"error_y\": {\"color\": \"#2a3f5f\"}, \"marker\": {\"line\": {\"color\": \"#E5ECF6\", \"width\": 0.5}}, \"type\": \"bar\"}], \"barpolar\": [{\"marker\": {\"line\": {\"color\": \"#E5ECF6\", \"width\": 0.5}}, \"type\": \"barpolar\"}], \"carpet\": [{\"aaxis\": {\"endlinecolor\": \"#2a3f5f\", \"gridcolor\": \"white\", \"linecolor\": \"white\", \"minorgridcolor\": \"white\", \"startlinecolor\": \"#2a3f5f\"}, \"baxis\": {\"endlinecolor\": \"#2a3f5f\", \"gridcolor\": \"white\", \"linecolor\": \"white\", \"minorgridcolor\": \"white\", \"startlinecolor\": \"#2a3f5f\"}, \"type\": \"carpet\"}], \"choropleth\": [{\"colorbar\": {\"outlinewidth\": 0, \"ticks\": \"\"}, \"type\": \"choropleth\"}], \"contour\": [{\"colorbar\": {\"outlinewidth\": 0, \"ticks\": \"\"}, \"colorscale\": [[0.0, \"#0d0887\"], [0.1111111111111111, \"#46039f\"], [0.2222222222222222, \"#7201a8\"], [0.3333333333333333, \"#9c179e\"], [0.4444444444444444, \"#bd3786\"], [0.5555555555555556, \"#d8576b\"], [0.6666666666666666, \"#ed7953\"], [0.7777777777777778, \"#fb9f3a\"], [0.8888888888888888, \"#fdca26\"], [1.0, \"#f0f921\"]], \"type\": \"contour\"}], \"contourcarpet\": [{\"colorbar\": {\"outlinewidth\": 0, \"ticks\": \"\"}, \"type\": \"contourcarpet\"}], \"heatmap\": [{\"colorbar\": {\"outlinewidth\": 0, \"ticks\": \"\"}, \"colorscale\": [[0.0, \"#0d0887\"], [0.1111111111111111, \"#46039f\"], [0.2222222222222222, \"#7201a8\"], [0.3333333333333333, \"#9c179e\"], [0.4444444444444444, \"#bd3786\"], [0.5555555555555556, \"#d8576b\"], [0.6666666666666666, \"#ed7953\"], [0.7777777777777778, \"#fb9f3a\"], [0.8888888888888888, \"#fdca26\"], [1.0, \"#f0f921\"]], \"type\": \"heatmap\"}], \"heatmapgl\": [{\"colorbar\": {\"outlinewidth\": 0, \"ticks\": \"\"}, \"colorscale\": [[0.0, \"#0d0887\"], [0.1111111111111111, \"#46039f\"], [0.2222222222222222, \"#7201a8\"], [0.3333333333333333, \"#9c179e\"], [0.4444444444444444, \"#bd3786\"], [0.5555555555555556, \"#d8576b\"], [0.6666666666666666, \"#ed7953\"], [0.7777777777777778, \"#fb9f3a\"], [0.8888888888888888, \"#fdca26\"], [1.0, \"#f0f921\"]], \"type\": \"heatmapgl\"}], \"histogram\": [{\"marker\": {\"colorbar\": {\"outlinewidth\": 0, \"ticks\": \"\"}}, \"type\": \"histogram\"}], \"histogram2d\": [{\"colorbar\": {\"outlinewidth\": 0, \"ticks\": \"\"}, \"colorscale\": [[0.0, \"#0d0887\"], [0.1111111111111111, \"#46039f\"], [0.2222222222222222, \"#7201a8\"], [0.3333333333333333, \"#9c179e\"], [0.4444444444444444, \"#bd3786\"], [0.5555555555555556, \"#d8576b\"], [0.6666666666666666, \"#ed7953\"], [0.7777777777777778, \"#fb9f3a\"], [0.8888888888888888, \"#fdca26\"], [1.0, \"#f0f921\"]], \"type\": \"histogram2d\"}], \"histogram2dcontour\": [{\"colorbar\": {\"outlinewidth\": 0, \"ticks\": \"\"}, \"colorscale\": [[0.0, \"#0d0887\"], [0.1111111111111111, \"#46039f\"], [0.2222222222222222, \"#7201a8\"], [0.3333333333333333, \"#9c179e\"], [0.4444444444444444, \"#bd3786\"], [0.5555555555555556, \"#d8576b\"], [0.6666666666666666, \"#ed7953\"], [0.7777777777777778, \"#fb9f3a\"], [0.8888888888888888, \"#fdca26\"], [1.0, \"#f0f921\"]], \"type\": \"histogram2dcontour\"}], \"mesh3d\": [{\"colorbar\": {\"outlinewidth\": 0, \"ticks\": \"\"}, \"type\": \"mesh3d\"}], \"parcoords\": [{\"line\": {\"colorbar\": {\"outlinewidth\": 0, \"ticks\": \"\"}}, \"type\": \"parcoords\"}], \"pie\": [{\"automargin\": true, \"type\": \"pie\"}], \"scatter\": [{\"marker\": {\"colorbar\": {\"outlinewidth\": 0, \"ticks\": \"\"}}, \"type\": \"scatter\"}], \"scatter3d\": [{\"line\": {\"colorbar\": {\"outlinewidth\": 0, \"ticks\": \"\"}}, \"marker\": {\"colorbar\": {\"outlinewidth\": 0, \"ticks\": \"\"}}, \"type\": \"scatter3d\"}], \"scattercarpet\": [{\"marker\": {\"colorbar\": {\"outlinewidth\": 0, \"ticks\": \"\"}}, \"type\": \"scattercarpet\"}], \"scattergeo\": [{\"marker\": {\"colorbar\": {\"outlinewidth\": 0, \"ticks\": \"\"}}, \"type\": \"scattergeo\"}], \"scattergl\": [{\"marker\": {\"colorbar\": {\"outlinewidth\": 0, \"ticks\": \"\"}}, \"type\": \"scattergl\"}], \"scattermapbox\": [{\"marker\": {\"colorbar\": {\"outlinewidth\": 0, \"ticks\": \"\"}}, \"type\": \"scattermapbox\"}], \"scatterpolar\": [{\"marker\": {\"colorbar\": {\"outlinewidth\": 0, \"ticks\": \"\"}}, \"type\": \"scatterpolar\"}], \"scatterpolargl\": [{\"marker\": {\"colorbar\": {\"outlinewidth\": 0, \"ticks\": \"\"}}, \"type\": \"scatterpolargl\"}], \"scatterternary\": [{\"marker\": {\"colorbar\": {\"outlinewidth\": 0, \"ticks\": \"\"}}, \"type\": \"scatterternary\"}], \"surface\": [{\"colorbar\": {\"outlinewidth\": 0, \"ticks\": \"\"}, \"colorscale\": [[0.0, \"#0d0887\"], [0.1111111111111111, \"#46039f\"], [0.2222222222222222, \"#7201a8\"], [0.3333333333333333, \"#9c179e\"], [0.4444444444444444, \"#bd3786\"], [0.5555555555555556, \"#d8576b\"], [0.6666666666666666, \"#ed7953\"], [0.7777777777777778, \"#fb9f3a\"], [0.8888888888888888, \"#fdca26\"], [1.0, \"#f0f921\"]], \"type\": \"surface\"}], \"table\": [{\"cells\": {\"fill\": {\"color\": \"#EBF0F8\"}, \"line\": {\"color\": \"white\"}}, \"header\": {\"fill\": {\"color\": \"#C8D4E3\"}, \"line\": {\"color\": \"white\"}}, \"type\": \"table\"}]}, \"layout\": {\"annotationdefaults\": {\"arrowcolor\": \"#2a3f5f\", \"arrowhead\": 0, \"arrowwidth\": 1}, \"autotypenumbers\": \"strict\", \"coloraxis\": {\"colorbar\": {\"outlinewidth\": 0, \"ticks\": \"\"}}, \"colorscale\": {\"diverging\": [[0, \"#8e0152\"], [0.1, \"#c51b7d\"], [0.2, \"#de77ae\"], [0.3, \"#f1b6da\"], [0.4, \"#fde0ef\"], [0.5, \"#f7f7f7\"], [0.6, \"#e6f5d0\"], [0.7, \"#b8e186\"], [0.8, \"#7fbc41\"], [0.9, \"#4d9221\"], [1, \"#276419\"]], \"sequential\": [[0.0, \"#0d0887\"], [0.1111111111111111, \"#46039f\"], [0.2222222222222222, \"#7201a8\"], [0.3333333333333333, \"#9c179e\"], [0.4444444444444444, \"#bd3786\"], [0.5555555555555556, \"#d8576b\"], [0.6666666666666666, \"#ed7953\"], [0.7777777777777778, \"#fb9f3a\"], [0.8888888888888888, \"#fdca26\"], [1.0, \"#f0f921\"]], \"sequentialminus\": [[0.0, \"#0d0887\"], [0.1111111111111111, \"#46039f\"], [0.2222222222222222, \"#7201a8\"], [0.3333333333333333, \"#9c179e\"], [0.4444444444444444, \"#bd3786\"], [0.5555555555555556, \"#d8576b\"], [0.6666666666666666, \"#ed7953\"], [0.7777777777777778, \"#fb9f3a\"], [0.8888888888888888, \"#fdca26\"], [1.0, \"#f0f921\"]]}, \"colorway\": [\"#636efa\", \"#EF553B\", \"#00cc96\", \"#ab63fa\", \"#FFA15A\", \"#19d3f3\", \"#FF6692\", \"#B6E880\", \"#FF97FF\", \"#FECB52\"], \"font\": {\"color\": \"#2a3f5f\"}, \"geo\": {\"bgcolor\": \"white\", \"lakecolor\": \"white\", \"landcolor\": \"#E5ECF6\", \"showlakes\": true, \"showland\": true, \"subunitcolor\": \"white\"}, \"hoverlabel\": {\"align\": \"left\"}, \"hovermode\": \"closest\", \"mapbox\": {\"style\": \"light\"}, \"paper_bgcolor\": \"white\", \"plot_bgcolor\": \"#E5ECF6\", \"polar\": {\"angularaxis\": {\"gridcolor\": \"white\", \"linecolor\": \"white\", \"ticks\": \"\"}, \"bgcolor\": \"#E5ECF6\", \"radialaxis\": {\"gridcolor\": \"white\", \"linecolor\": \"white\", \"ticks\": \"\"}}, \"scene\": {\"xaxis\": {\"backgroundcolor\": \"#E5ECF6\", \"gridcolor\": \"white\", \"gridwidth\": 2, \"linecolor\": \"white\", \"showbackground\": true, \"ticks\": \"\", \"zerolinecolor\": \"white\"}, \"yaxis\": {\"backgroundcolor\": \"#E5ECF6\", \"gridcolor\": \"white\", \"gridwidth\": 2, \"linecolor\": \"white\", \"showbackground\": true, \"ticks\": \"\", \"zerolinecolor\": \"white\"}, \"zaxis\": {\"backgroundcolor\": \"#E5ECF6\", \"gridcolor\": \"white\", \"gridwidth\": 2, \"linecolor\": \"white\", \"showbackground\": true, \"ticks\": \"\", \"zerolinecolor\": \"white\"}}, \"shapedefaults\": {\"line\": {\"color\": \"#2a3f5f\"}}, \"ternary\": {\"aaxis\": {\"gridcolor\": \"white\", \"linecolor\": \"white\", \"ticks\": \"\"}, \"baxis\": {\"gridcolor\": \"white\", \"linecolor\": \"white\", \"ticks\": \"\"}, \"bgcolor\": \"#E5ECF6\", \"caxis\": {\"gridcolor\": \"white\", \"linecolor\": \"white\", \"ticks\": \"\"}}, \"title\": {\"x\": 0.05}, \"xaxis\": {\"automargin\": true, \"gridcolor\": \"white\", \"linecolor\": \"white\", \"ticks\": \"\", \"title\": {\"standoff\": 15}, \"zerolinecolor\": \"white\", \"zerolinewidth\": 2}, \"yaxis\": {\"automargin\": true, \"gridcolor\": \"white\", \"linecolor\": \"white\", \"ticks\": \"\", \"title\": {\"standoff\": 15}, \"zerolinecolor\": \"white\", \"zerolinewidth\": 2}}}, \"xaxis\": {\"anchor\": \"y\", \"domain\": [0.0, 1.0], \"title\": {\"text\": \"0\"}}, \"yaxis\": {\"anchor\": \"x\", \"domain\": [0.0, 1.0], \"title\": {\"text\": \"1\"}}},                        {\"responsive\": true}                    ).then(function(){\n",
       "                            \n",
       "var gd = document.getElementById('7a2d7ea6-738a-4971-9115-3b4ed4532322');\n",
       "var x = new MutationObserver(function (mutations, observer) {{\n",
       "        var display = window.getComputedStyle(gd).display;\n",
       "        if (!display || display === 'none') {{\n",
       "            console.log([gd, 'removed!']);\n",
       "            Plotly.purge(gd);\n",
       "            observer.disconnect();\n",
       "        }}\n",
       "}});\n",
       "\n",
       "// Listen for the removal of the full notebook cells\n",
       "var notebookContainer = gd.closest('#notebook-container');\n",
       "if (notebookContainer) {{\n",
       "    x.observe(notebookContainer, {childList: true});\n",
       "}}\n",
       "\n",
       "// Listen for the clearing of the current output cell\n",
       "var outputEl = gd.closest('.output');\n",
       "if (outputEl) {{\n",
       "    x.observe(outputEl, {childList: true});\n",
       "}}\n",
       "\n",
       "                        })                };                });            </script>        </div>"
      ]
     },
     "metadata": {},
     "output_type": "display_data"
    }
   ],
   "source": [
    "import plotly.express as px\n",
    "from sklearn.decomposition import PCA\n",
    "\n",
    "df = px.data.iris()\n",
    "X = df[['sepal_length', 'sepal_width', 'petal_length', 'petal_width']]\n",
    "\n",
    "pca = PCA(n_components=2)\n",
    "pca.fit(X)\n",
    "print(pca.components_)\n",
    "components = pca.fit_transform(X)\n",
    "\n",
    "fig = px.scatter(components, x=0, y=1, color=df['species'])\n",
    "fig.show()"
   ]
  },
  {
   "cell_type": "code",
   "execution_count": 13,
   "id": "liquid-solid",
   "metadata": {},
   "outputs": [
    {
     "data": {
      "text/html": [
       "<div>\n",
       "<style scoped>\n",
       "    .dataframe tbody tr th:only-of-type {\n",
       "        vertical-align: middle;\n",
       "    }\n",
       "\n",
       "    .dataframe tbody tr th {\n",
       "        vertical-align: top;\n",
       "    }\n",
       "\n",
       "    .dataframe thead th {\n",
       "        text-align: right;\n",
       "    }\n",
       "</style>\n",
       "<table border=\"1\" class=\"dataframe\">\n",
       "  <thead>\n",
       "    <tr style=\"text-align: right;\">\n",
       "      <th></th>\n",
       "      <th>sepal_length</th>\n",
       "      <th>sepal_width</th>\n",
       "      <th>petal_length</th>\n",
       "      <th>petal_width</th>\n",
       "      <th>species</th>\n",
       "      <th>species_id</th>\n",
       "    </tr>\n",
       "  </thead>\n",
       "  <tbody>\n",
       "    <tr>\n",
       "      <th>0</th>\n",
       "      <td>5.1</td>\n",
       "      <td>3.5</td>\n",
       "      <td>1.4</td>\n",
       "      <td>0.2</td>\n",
       "      <td>setosa</td>\n",
       "      <td>1</td>\n",
       "    </tr>\n",
       "    <tr>\n",
       "      <th>1</th>\n",
       "      <td>4.9</td>\n",
       "      <td>3.0</td>\n",
       "      <td>1.4</td>\n",
       "      <td>0.2</td>\n",
       "      <td>setosa</td>\n",
       "      <td>1</td>\n",
       "    </tr>\n",
       "    <tr>\n",
       "      <th>2</th>\n",
       "      <td>4.7</td>\n",
       "      <td>3.2</td>\n",
       "      <td>1.3</td>\n",
       "      <td>0.2</td>\n",
       "      <td>setosa</td>\n",
       "      <td>1</td>\n",
       "    </tr>\n",
       "    <tr>\n",
       "      <th>3</th>\n",
       "      <td>4.6</td>\n",
       "      <td>3.1</td>\n",
       "      <td>1.5</td>\n",
       "      <td>0.2</td>\n",
       "      <td>setosa</td>\n",
       "      <td>1</td>\n",
       "    </tr>\n",
       "    <tr>\n",
       "      <th>4</th>\n",
       "      <td>5.0</td>\n",
       "      <td>3.6</td>\n",
       "      <td>1.4</td>\n",
       "      <td>0.2</td>\n",
       "      <td>setosa</td>\n",
       "      <td>1</td>\n",
       "    </tr>\n",
       "    <tr>\n",
       "      <th>...</th>\n",
       "      <td>...</td>\n",
       "      <td>...</td>\n",
       "      <td>...</td>\n",
       "      <td>...</td>\n",
       "      <td>...</td>\n",
       "      <td>...</td>\n",
       "    </tr>\n",
       "    <tr>\n",
       "      <th>145</th>\n",
       "      <td>6.7</td>\n",
       "      <td>3.0</td>\n",
       "      <td>5.2</td>\n",
       "      <td>2.3</td>\n",
       "      <td>virginica</td>\n",
       "      <td>3</td>\n",
       "    </tr>\n",
       "    <tr>\n",
       "      <th>146</th>\n",
       "      <td>6.3</td>\n",
       "      <td>2.5</td>\n",
       "      <td>5.0</td>\n",
       "      <td>1.9</td>\n",
       "      <td>virginica</td>\n",
       "      <td>3</td>\n",
       "    </tr>\n",
       "    <tr>\n",
       "      <th>147</th>\n",
       "      <td>6.5</td>\n",
       "      <td>3.0</td>\n",
       "      <td>5.2</td>\n",
       "      <td>2.0</td>\n",
       "      <td>virginica</td>\n",
       "      <td>3</td>\n",
       "    </tr>\n",
       "    <tr>\n",
       "      <th>148</th>\n",
       "      <td>6.2</td>\n",
       "      <td>3.4</td>\n",
       "      <td>5.4</td>\n",
       "      <td>2.3</td>\n",
       "      <td>virginica</td>\n",
       "      <td>3</td>\n",
       "    </tr>\n",
       "    <tr>\n",
       "      <th>149</th>\n",
       "      <td>5.9</td>\n",
       "      <td>3.0</td>\n",
       "      <td>5.1</td>\n",
       "      <td>1.8</td>\n",
       "      <td>virginica</td>\n",
       "      <td>3</td>\n",
       "    </tr>\n",
       "  </tbody>\n",
       "</table>\n",
       "<p>150 rows × 6 columns</p>\n",
       "</div>"
      ],
      "text/plain": [
       "     sepal_length  sepal_width  petal_length  petal_width    species  \\\n",
       "0             5.1          3.5           1.4          0.2     setosa   \n",
       "1             4.9          3.0           1.4          0.2     setosa   \n",
       "2             4.7          3.2           1.3          0.2     setosa   \n",
       "3             4.6          3.1           1.5          0.2     setosa   \n",
       "4             5.0          3.6           1.4          0.2     setosa   \n",
       "..            ...          ...           ...          ...        ...   \n",
       "145           6.7          3.0           5.2          2.3  virginica   \n",
       "146           6.3          2.5           5.0          1.9  virginica   \n",
       "147           6.5          3.0           5.2          2.0  virginica   \n",
       "148           6.2          3.4           5.4          2.3  virginica   \n",
       "149           5.9          3.0           5.1          1.8  virginica   \n",
       "\n",
       "     species_id  \n",
       "0             1  \n",
       "1             1  \n",
       "2             1  \n",
       "3             1  \n",
       "4             1  \n",
       "..          ...  \n",
       "145           3  \n",
       "146           3  \n",
       "147           3  \n",
       "148           3  \n",
       "149           3  \n",
       "\n",
       "[150 rows x 6 columns]"
      ]
     },
     "execution_count": 13,
     "metadata": {},
     "output_type": "execute_result"
    }
   ],
   "source": [
    "df"
   ]
  },
  {
   "cell_type": "markdown",
   "id": "given-interim",
   "metadata": {},
   "source": [
    "Ok, now that I see how the dataframe in Plotly's tutorial is structured, I can construct one from my own data. Or I can skip the dataframe altogether and just provide a list to the 'color' parameter in px.scatter."
   ]
  },
  {
   "cell_type": "code",
   "execution_count": 59,
   "id": "tired-simulation",
   "metadata": {
    "scrolled": false
   },
   "outputs": [
    {
     "name": "stdout",
     "output_type": "stream",
     "text": [
      "# of datapoints: 431\n",
      "len(labels) = 431\n",
      "Total explained variance = 67.15%\n"
     ]
    },
    {
     "data": {
      "application/vnd.plotly.v1+json": {
       "config": {
        "plotlyServerURL": "https://plot.ly"
       },
       "data": [
        {
         "hovertemplate": "color=Mi Fu (Wu River)<br>0=%{x}<br>1=%{y}<extra></extra>",
         "legendgroup": "Mi Fu (Wu River)",
         "marker": {
          "color": "#636efa",
          "symbol": "circle"
         },
         "mode": "markers",
         "name": "Mi Fu (Wu River)",
         "orientation": "v",
         "showlegend": true,
         "type": "scatter",
         "x": [
          -0.03583749924438383,
          -0.08530072696229386,
          0.03179992814110848,
          -0.0462048398520141,
          -0.00662589012765505,
          -0.028691924298985715,
          -0.014096134571719649,
          0.0006379414864818198,
          -0.0735198016792829,
          -0.09306587221177916,
          -0.04275339916844814,
          -0.04654797097301047,
          -0.052995450358213,
          -0.023958440922224277,
          0.053770835722751806,
          -0.05741497641783599,
          0.07766088453778368,
          -0.08619135258131119,
          -0.03209089419228452,
          -0.07982399624927841,
          -0.05700047139964406,
          -0.0366778363893874,
          -0.013537454219824004,
          -0.06362948735752355,
          -0.02743997170395118,
          -0.02134630698197029,
          -0.06026527229120976,
          0.034079369181244275,
          -0.0753570321460514,
          -0.05594302397474567,
          -0.056745123860030035,
          -0.06731374628276338,
          -0.031190357928843445,
          -0.07567419043900286,
          -0.07115136891417703,
          -0.041699587984634516,
          0.03222022951551064,
          0.027030230044997154,
          0.016777844316963275,
          -0.002558378186235947,
          -0.029178245277111447,
          -0.008752506315626225,
          -0.06205831068085808,
          -0.15313712470559943,
          0.10751678933476862,
          0.0034115508577777526,
          0.06779173589521136,
          -0.10652193028692708,
          -0.09938785412712846,
          -0.0674817144351528,
          -0.007488599501929948,
          -0.14479783582365052,
          -0.0758333672244601,
          0.00469345503674247,
          -0.030070565279688356,
          0.0477758996582358,
          -0.15822422081070545,
          -0.12483666608031435,
          0.008086087542619143,
          0.03583510914418731,
          -0.07128185722141281,
          -0.019073727031899825,
          0.04108107706308096,
          0.04701675338318641,
          -0.022652507502849806,
          -0.0748423088290476,
          -0.13023250915968282,
          -0.0716681801443647,
          0.02607415083209076,
          -0.06902779339118094,
          0.2820571369723137,
          -0.08752635727006569,
          0.016964453245108875,
          -0.052460689293795666,
          -0.0021158049109024943,
          -0.014080050309785859,
          -0.07355000250446467,
          -0.054007061870647965,
          -0.0020835310285142014,
          0.030256366031783163,
          0.007234836152243188,
          -0.1268918021092648,
          -0.116548532054197,
          -0.031912600667137345,
          -0.011317491641949184,
          -0.1049730207749619,
          0.05453609691773244,
          -0.21317676720904027,
          -0.17057444853603748,
          -0.04604701193238005,
          0.052464458859855595
         ],
         "xaxis": "x",
         "y": [
          0.031316307333449894,
          0.06189609524847057,
          -0.047751833779149856,
          -0.001606986642956773,
          0.009816446884956477,
          -0.003838460088938734,
          -0.0394387311952412,
          -0.00857269570920815,
          0.04039341815541813,
          0.03369084405370174,
          0.037811214102312855,
          -0.0006186773912707586,
          -0.014583427525298742,
          0.052032998065771,
          -0.03134371815916847,
          -0.026886022898828636,
          -0.031032382252537002,
          -0.018123116583434726,
          0.06368096368153646,
          -0.026503976902382393,
          0.00031492320187901225,
          0.0035258387769173992,
          -0.03491084745775478,
          0.023213442770312325,
          -0.032532442598496435,
          0.021211977783168388,
          -0.013722106537817646,
          0.0007632243607293953,
          -0.0008746142466988663,
          0.040898753531079385,
          -0.007976392941335697,
          0.010153599563362224,
          0.006020987199815517,
          0.07107074121107221,
          -0.12185973494782366,
          -0.01678839450688453,
          -0.009428885466116112,
          0.015739228759546253,
          0.04239758947529168,
          -0.03299520825230964,
          0.027474226733675486,
          -0.05491365719285173,
          -0.03173720080539532,
          0.03245471718983331,
          0.01892586480302316,
          0.0185967694054151,
          0.036633045441837056,
          -0.04135262016680572,
          -0.08010142303230901,
          -0.03267547190749087,
          0.029783866182964042,
          0.04810404838556004,
          -0.04350715217057567,
          -0.08839065068804618,
          0.007269696289325148,
          0.04313527007757528,
          -0.04897377492294644,
          -0.09051356406588261,
          -0.03564149114044359,
          -0.00364676357810255,
          0.025055044035545808,
          0.017330412817870493,
          -0.05504508983602969,
          -0.05011149549691209,
          0.043833595291401906,
          -0.06815164802852418,
          -0.01353749632158323,
          -0.07905759618794302,
          -0.04078733120400956,
          -0.014896275820427202,
          0.0980843521333747,
          0.047895054878824485,
          -0.021059258071904195,
          -0.0006964463193982875,
          0.01722335174700265,
          -0.07149124719581047,
          -0.012127544770793785,
          0.0275690715578242,
          0.03729178194689179,
          0.014354929227128728,
          0.0013886089691132733,
          0.00015668213588165432,
          0.02159612691327279,
          -0.10180016329070785,
          -0.10904198666125363,
          0.005752738035715597,
          -0.05286620862185881,
          0.05344846322673121,
          -0.02424398268613486,
          -0.04593936153110695,
          -0.04307433958952909
         ],
         "yaxis": "y"
        },
        {
         "hovertemplate": "color=Huizong<br>0=%{x}<br>1=%{y}<extra></extra>",
         "legendgroup": "Huizong",
         "marker": {
          "color": "#EF553B",
          "symbol": "circle"
         },
         "mode": "markers",
         "name": "Huizong",
         "orientation": "v",
         "showlegend": true,
         "type": "scatter",
         "x": [
          0.017661165133708228,
          0.09766782329364311,
          0.015724097029812936,
          -0.10884294241120335,
          0.12278034558174987,
          -0.014042146885541227,
          -0.0034564647778877427,
          -0.09794174889668802,
          -0.030522361039967725,
          0.05698294348535679,
          0.020851236508393843,
          0.034578623445561556,
          -0.048428223861567976,
          -0.038398077643466005,
          0.032589814930957084,
          -0.025901229929626395,
          0.20982553615311844,
          -0.055621405022245746,
          0.1149673854272353,
          0.03605526112493509,
          -0.0335453356023233,
          0.06147397457113921,
          0.003174822808725278,
          -0.002260602437072762,
          0.06242765524682177,
          0.08893047377423716,
          0.03318015297473503,
          0.03796580298885479,
          -0.033004716718875775,
          -0.018790769781536768,
          0.08089083516019549,
          -0.024492971007423425,
          -0.014064736937239409,
          -0.06278491701882116,
          0.02522270096487955,
          -0.03630703625401002,
          0.07668538844454198,
          0.031392424149773626,
          -0.06693366237061255,
          -0.052843290962262764,
          0.12527919192001574,
          -0.04343541561762417,
          0.01307595638466008,
          -0.0827028404029129,
          0.06563279326482603,
          0.05951752019821333,
          0.05163862216508792,
          0.052616008864649795,
          0.03079572128687324,
          0.013112040466306867,
          0.028343070489132063,
          0.018383878195690016,
          0.04651247877632275,
          -0.12611524987242848,
          0.012751731559232957,
          0.04436986210629862,
          0.07150597522619126,
          0.10530764404557898,
          -0.024294522098525062,
          0.014027690248415723,
          -0.0853223888963392,
          -0.040901044845154014,
          0.04256645518854364
         ],
         "xaxis": "x",
         "y": [
          0.0466856858664934,
          -0.011976470323188047,
          0.037030812618659495,
          0.035194175502547886,
          0.01810178647287405,
          0.0005803771844279446,
          0.055131233584795325,
          0.017305710533709932,
          0.00010368239903824891,
          0.03418761560225804,
          0.003910511100307365,
          -0.027150745626273787,
          0.017877186685423846,
          -0.01853437102719363,
          -0.019511024347221424,
          0.02816683635526243,
          0.042790385562296036,
          -0.053361151568230354,
          -0.01566639774721529,
          0.01779594267036057,
          0.04975847258276112,
          -0.013425001191505206,
          0.03870287188235765,
          -0.027413475522468957,
          -0.02867880015581646,
          0.026701397526977085,
          0.01358891940553276,
          0.00016780236403478367,
          0.03145869415497621,
          0.03353778089316112,
          -0.02858678113708184,
          -0.025001373165400617,
          0.02423373477188241,
          -0.048385645016752764,
          0.010507989947592554,
          0.05608890995367191,
          0.003370976276894661,
          -0.056268686505895116,
          0.059474972788551086,
          0.03932992647672544,
          0.013140386744104534,
          -0.027873358385267902,
          -0.016506919100535342,
          0.0761830060875104,
          -0.03089315220269957,
          0.07057114343254048,
          -0.03574692406064298,
          -0.027689638450740073,
          0.07604123847031224,
          0.03165869520459188,
          -0.021549041802653424,
          0.0007159321874373965,
          0.03355419183055545,
          0.09259870213989037,
          0.009972302738654617,
          -0.005703108158620318,
          0.027111159690100625,
          -0.029091876418308734,
          0.06355483244110256,
          -0.03401976868877638,
          0.013615972879538195,
          0.045743178547418495,
          0.035681285490002414
         ],
         "yaxis": "y"
        },
        {
         "hovertemplate": "color=Su Shi<br>0=%{x}<br>1=%{y}<extra></extra>",
         "legendgroup": "Su Shi",
         "marker": {
          "color": "#00cc96",
          "symbol": "circle"
         },
         "mode": "markers",
         "name": "Su Shi",
         "orientation": "v",
         "showlegend": true,
         "type": "scatter",
         "x": [
          -0.11117346380856949,
          0.01067016564401862,
          0.04489471331655683,
          0.03468628332254741,
          -0.17432216381412685,
          0.002754085400025542,
          0.005124749521602094,
          0.1907949669717646,
          0.18969250560115924,
          0.10242714280023915,
          -0.01647976513496724,
          -0.07510590617216133,
          0.043467796835372344,
          0.06957864446383662,
          0.05052379247625757,
          0.07964901459249515,
          0.07238848158617435,
          -0.07435918194042387,
          0.11131890940257366,
          0.06560977851559778,
          -0.023752354368120086,
          0.04079733042649356,
          -0.18880792139086516,
          0.0815100519078671,
          0.07712653722025199,
          -0.12172090820979452,
          -0.12010848748882866,
          -0.08768292359934324,
          0.04862200604796071,
          0.030979979043456393,
          -0.045080203348525104,
          0.0011130016931659185,
          0.06285034382856756,
          0.12626645276950232,
          0.07446411057379028,
          -0.12115287815507125,
          -0.21211033662403117,
          -0.13597893472581593,
          0.010128861740652998,
          0.06675167806460408,
          0.05792353233154842,
          0.026030952218138406,
          0.08050992472745488,
          -0.09152702854264662,
          -0.06304015965762734,
          -0.04267174863593788,
          -0.008022356562484635,
          0.09718067346146445,
          -0.05639119861835448,
          -0.006339131774466663,
          0.011326361901530536,
          -0.06646513867224643,
          0.10940196831248415,
          -0.07362523701423426,
          -0.043802893670513446,
          0.04014543037743317,
          -0.0025235465684807106,
          0.0007492977304986663,
          0.11335400828005425,
          -0.024123690001813424,
          -0.06857520473196543,
          0.06456459216662304,
          0.049730628047152454,
          0.09761097634821217,
          -0.05105920435694574,
          -0.006526390385775608,
          0.06674063386475343,
          0.02245180202904149,
          -0.03490879446724266,
          -0.01905878254529949,
          0.00291678421348838,
          -0.017520394067150252,
          0.12284033829920929,
          0.08947617925970369,
          0.09226839857699913,
          0.052903798269851726,
          0.14386300580467734,
          0.06501515570591464,
          -0.006976845503869725,
          0.029303794942266547,
          0.0033029946250063354,
          -0.04631925549998481,
          -0.029093043131375996,
          -0.037082670489297725,
          0.04822493684654433,
          0.0764108492596536,
          0.11168207581301522,
          -0.08200431532183411,
          -0.0029529506182143185,
          -0.11069996629232691,
          0.06998859373961323,
          -0.06074328684109357,
          -0.14608825406281045,
          0.08184491089706608,
          -0.12275154322802373,
          0.0013019981869702019,
          0.0876182514523059,
          0.1357221872065247,
          0.04913309038549027,
          0.0899600217642799,
          -0.008821237132001763,
          0.1305022493113756,
          0.046246200730317474,
          0.07464930910502952,
          0.03248175013298764,
          -0.022369040997707097,
          0.0018316788172208884,
          -0.007181473441827215,
          0.02487788550832218,
          0.01747268961963934,
          0.06448233123194752,
          0.09276195667541938,
          0.049593258934667026,
          0.0287006475000536,
          -0.16986867234564598,
          0.0711064072396798,
          -0.03688535530385629,
          0.2088025879491894,
          0.006818251722246553
         ],
         "xaxis": "x",
         "y": [
          0.05363133916778671,
          0.005864218687757101,
          -0.00972197385907075,
          -0.07427001906513937,
          0.03140030292131652,
          -0.004307249484189983,
          0.04505836826362521,
          0.056053830001261296,
          0.06034544248593991,
          0.02479018559571504,
          -0.08668013277013627,
          -0.008123463433278856,
          0.00914054798163555,
          0.025952336999743114,
          0.0066796050050387705,
          0.03196621712057719,
          -0.0036613283521995436,
          0.037132406268043976,
          0.029433899730244895,
          0.0017557411212835554,
          0.04967694027858173,
          0.020409060130194896,
          0.038470230940963156,
          0.015755961698477074,
          -0.015046595215979222,
          0.012824848727619763,
          0.059682778519511225,
          -0.03025984761874815,
          0.0327879191086867,
          -0.0547529438719656,
          -0.049842872807255606,
          -0.023007963016687918,
          0.02272375966341466,
          0.0769474348640593,
          0.011727662063590097,
          0.018660609904254305,
          0.12917668021194184,
          0.02816121602806935,
          -0.0040750889288615625,
          -0.08092975077303807,
          -0.010803483566991057,
          0.05142131494735907,
          0.01904479688481067,
          0.006276710644844074,
          -0.0757266340941438,
          -0.07116189497467404,
          -0.06322174079037364,
          -0.021386167685937114,
          0.0013866355962586835,
          0.027481644579500555,
          0.03321761933508938,
          -0.02878881725277371,
          -0.00958307196684402,
          -0.05052514079041247,
          -0.03793340594375437,
          -0.02618286820288638,
          -0.017470789587130484,
          -0.13070474871780963,
          -0.0255441567119527,
          0.02916182074677887,
          -0.0227809093007866,
          0.06273759160720146,
          -0.017771830269343317,
          0.04305965649624931,
          0.04675762227343938,
          0.04778500637322613,
          -0.02858467867510666,
          -0.053435456546606176,
          -0.06800353615658278,
          0.04779973690972164,
          -0.020287438238426155,
          0.01532834392275201,
          0.0006334846775694478,
          -0.012803654713957084,
          0.03192922199819691,
          -0.04453992265573183,
          0.03532487319762724,
          0.025219572730409708,
          -0.04562232047564066,
          0.034090434690728574,
          -0.02115488262734644,
          -0.027377036796654625,
          0.04244203333143476,
          0.014320038942320224,
          -0.05045841168476528,
          0.02680769696579104,
          0.02068173371396383,
          -0.04660504835608738,
          -0.07080250925018379,
          0.010638401809025012,
          0.011356138112632579,
          -0.10558166926498876,
          0.0628953519029158,
          -0.044937463817613585,
          0.049880574531461434,
          -0.016602585078733266,
          -0.047116217117406954,
          0.013356086049701312,
          -0.02620680332093858,
          -0.03909132991475506,
          -0.07107068357490182,
          -0.05326574833248422,
          -0.024112649672569646,
          0.08483413683008417,
          0.005448382626221189,
          -0.0007193605598451305,
          0.001337759128071046,
          -0.03722348800719262,
          -0.035275288884392034,
          -0.012025705670847146,
          0.03897694545815105,
          0.011205596666880462,
          -0.0021611265172724915,
          -0.019338288611010727,
          0.005569723257407899,
          0.008803012132218735,
          -0.03867916488201153,
          0.04254729640929377,
          -0.0187959630161877
         ],
         "yaxis": "y"
        },
        {
         "hovertemplate": "color=WangXiZhi<br>0=%{x}<br>1=%{y}<extra></extra>",
         "legendgroup": "WangXiZhi",
         "marker": {
          "color": "#ab63fa",
          "symbol": "circle"
         },
         "mode": "markers",
         "name": "WangXiZhi",
         "orientation": "v",
         "showlegend": true,
         "type": "scatter",
         "x": [
          0.0683067357246786,
          -0.05117037941944411,
          -0.01338092227766332,
          0.02318327396648008,
          -0.00043163152028431094,
          -0.005204973013517759,
          -0.011679806984217847,
          -0.0065526046986306916,
          0.05506077265783144,
          0.01700624725137813,
          0.01326606628067304,
          0.011651228886084726,
          0.07426903173479324,
          0.024959071489836414,
          -0.08596706017788114,
          -0.04151471436822484,
          -0.16225065932057708,
          -0.035895822082826156,
          0.04165924954126278,
          0.019337689595094274,
          -0.020404741377994383,
          0.036360764860679434,
          0.0013708913480936027,
          0.01089609940869512,
          0.09834162112452997,
          -0.04627055567380039,
          -0.024139243522774193,
          -0.04620948641275952,
          0.012977795630571184,
          -0.15200892264421784,
          0.09048445176333038,
          -0.0748144688012264,
          -0.0027245940102492076,
          -0.02714605257505114,
          0.05127476785258574,
          0.0013096695593702405,
          -0.036027686293524694,
          -0.06506647778574327,
          0.015390228595190885,
          -0.0021841012637800142,
          0.009022528250648459,
          0.08872056792021911,
          0.07911553686658843,
          0.07683309492100128,
          0.012008650438966383,
          -0.07540913813416691,
          -0.036429312874494704,
          -0.060066377013803185,
          -0.030423456650563185,
          0.042903821863046344,
          0.043680852361874224,
          -0.029307426854518728,
          -0.04904940684565638,
          -0.042075051710391,
          -0.08116876596643596,
          0.04182646764490894,
          -0.034915740143130106,
          -0.017893201194604132,
          0.2203149880267937,
          0.09069489962627404,
          -0.03184870137602781,
          0.11971684786588209,
          -0.061895765344515304,
          -0.013502532817164604,
          0.0021198758227139467,
          0.013945320821822099,
          -0.06733961072062877,
          0.04776659173878243,
          -0.05265795755608439,
          -0.0681900831771014,
          0.07826213347051299,
          0.19321869742172965,
          0.039070049304403,
          -0.04069300536315665,
          -0.032428617612448266,
          -0.0289977420582019,
          -0.018484969334661226,
          0.03111124514408533,
          -0.0022096194571305447,
          -0.19993236254430063,
          0.18202430525883015,
          0.030479090989687634,
          -0.06112263785949471,
          -0.0164396117648907,
          0.008450159559748434,
          -0.04650387843727896,
          -0.02513553736640959,
          0.11901929188418837,
          -0.14044444988228708,
          0.06984291379848089,
          -0.028633563956004963,
          -0.01882475105191517,
          -0.06707055595776887,
          0.032902696237544736,
          -0.026397611305992802
         ],
         "xaxis": "x",
         "y": [
          -0.05153354260481288,
          0.11477222633094525,
          0.0761610216289528,
          -0.0416639666270893,
          0.03564494182017108,
          0.003264308546642367,
          0.023118592299813653,
          -0.07652377890211624,
          -0.028959375563664895,
          -0.010994007814200686,
          0.039469016978404166,
          -0.04688062790265945,
          -0.04330532889296651,
          0.021690476152877173,
          0.014520939785091435,
          0.06273572403703329,
          0.034115041299331475,
          0.036739213523278934,
          -0.07973225879463498,
          -0.03627059474613622,
          0.007619608584973913,
          0.03247033400121436,
          0.024880895517166893,
          -0.026280702963482252,
          -0.027826231570943202,
          0.06253335533815256,
          0.00842870168371422,
          -0.07649610863221805,
          0.028683184697733247,
          0.014502912137039812,
          -0.05395189438614785,
          0.06100539205127553,
          -0.022899773247706073,
          -0.040695459849218574,
          0.020771126704941287,
          0.040377758807644305,
          -0.04626296240492263,
          0.03582918186934289,
          0.08102608404575297,
          0.022545458113416558,
          -0.044602588498124054,
          0.012615094403972798,
          0.02533622546053527,
          -0.020206312893996443,
          -0.016455631476785377,
          -0.0496829900028162,
          -0.07345870899652882,
          0.03560200847207692,
          -0.029718956714587973,
          -0.10484124904037323,
          0.0135142394346117,
          -0.06384938417634407,
          0.10891591185054646,
          -0.020816885809668385,
          -0.035899750651424166,
          -0.025558837044309637,
          -0.02366457289460037,
          0.008181140640128657,
          0.052589365268404326,
          0.029575726007549083,
          -0.013844834834420214,
          0.06633310805529549,
          0.014141568143429407,
          0.05140762112073091,
          0.04452572059057526,
          -0.02008489364296579,
          0.010451971609289824,
          0.054396270243553,
          -0.016890264429271745,
          0.06840393069144407,
          0.024384549407178133,
          0.052002290542591596,
          0.06404817316141487,
          -0.045077786220174845,
          0.00725492618850635,
          0.03207244212765871,
          -0.07009740826835287,
          0.08447747479198585,
          -0.09730123631090351,
          0.08370668396863495,
          0.04329838210026614,
          -0.013879794434173873,
          0.001951659652401862,
          -0.014852516067859894,
          -0.03215031385511678,
          -0.010843615851166642,
          -0.055185687805073255,
          -0.01888348575332131,
          -0.028892245111494796,
          0.011084521128503073,
          0.10930201322249743,
          -0.05021147953909108,
          0.07135370286309013,
          -0.03444569680098654,
          -0.025403435237116634
         ],
         "yaxis": "y"
        },
        {
         "hovertemplate": "color=Mi Fu (On Cursive Calligraphy)<br>0=%{x}<br>1=%{y}<extra></extra>",
         "legendgroup": "Mi Fu (On Cursive Calligraphy)",
         "marker": {
          "color": "#FFA15A",
          "symbol": "circle"
         },
         "mode": "markers",
         "name": "Mi Fu (On Cursive Calligraphy)",
         "orientation": "v",
         "showlegend": true,
         "type": "scatter",
         "x": [
          0.06142056542589898,
          -0.015352136383171164,
          0.01089773007429611,
          0.12508102748910674,
          0.12776830092498417,
          0.10064777385736884,
          0.016237253453278828,
          -0.06782842167071955,
          -0.037704692959480667,
          -0.11226539292704095,
          0.018615518906163087,
          0.07921318980921041,
          0.031013632682186373,
          -0.08835950078198576,
          -0.029352332699031473,
          -0.16231954035547758,
          0.0683991313745648,
          0.11540818396650697,
          0.1026077261376296,
          0.023147535955733035,
          -0.06459161644285466,
          0.06443524609667209,
          -0.09398765018716786,
          -0.09820920353075531,
          0.04438236483674562,
          -0.1332982836931423,
          -0.01897361844059072,
          -0.17779322647380144,
          -0.0164315836931963,
          -0.14090432478169762,
          0.011041149962992653,
          0.032140805167949656,
          0.0015811253464783023,
          0.037112392698396085,
          -0.12632632619733197,
          -0.11622799280543941,
          0.04768497613079157,
          0.09917534631489315,
          -0.07887623143869557,
          0.14696788439084923,
          -0.041544521058530015,
          -0.10373129597745792,
          -0.017658155229582626,
          0.08503898996835332,
          0.08073163302700473,
          0.0652785301955197,
          0.13595205814390032,
          0.04951432719110756,
          0.1534237660196527,
          0.10029020859605525,
          0.14149658838754178,
          0.07464925284016105,
          -0.0717266779068226,
          0.056862920455296014,
          0.11142252749170838,
          0.01665841845096265,
          -0.0732336062757067,
          -0.15166797649567498,
          -0.006788232850444277,
          0.004260705122321687,
          -0.04386837724987935,
          0.16576625391502486,
          0.1010909973648046
         ],
         "xaxis": "x",
         "y": [
          0.009032494230197871,
          -0.045425240784674914,
          -0.06570990797803285,
          0.026849782700707495,
          -0.03401640786423629,
          0.025584754753954855,
          0.009253590971806875,
          -0.0473478122979455,
          -0.049274800410182416,
          0.003924309992839285,
          0.04478823808136833,
          0.06071538100554939,
          0.02542268050036005,
          0.0005783798663687084,
          -0.05344983251431846,
          -0.02911916084267646,
          0.018542828065025035,
          -0.008440898672439585,
          0.029374424010756555,
          0.009705883625108335,
          -0.009767127766066728,
          -0.024649909259341022,
          -0.009617858515619875,
          -0.018665197213875898,
          -0.035419157975147116,
          0.0813925170306446,
          0.014755598243936996,
          0.058328010705259864,
          -0.10874217183041938,
          0.047949230362276565,
          0.03354507536834669,
          -0.06700276219888628,
          -0.06111496434776518,
          -0.011132968193339792,
          -0.016797911588957368,
          -0.004095307317305336,
          -0.007646923033232285,
          -0.021601424701843515,
          0.062474434883385936,
          0.03677189983610986,
          0.11603976592894641,
          0.07255006977091709,
          -0.07858457715643156,
          0.13529967341517204,
          0.019556405597062756,
          -0.0948765821826617,
          0.03352462730779495,
          0.014763551185259257,
          0.02258124105131622,
          -0.04017387212132358,
          -0.0062774433053881485,
          -0.08317493516830747,
          -0.008223358483922152,
          -0.014885830322262051,
          -0.05233321221453864,
          0.02478593221893344,
          -0.009578580141651537,
          -0.06708939056093577,
          -0.03809155028149091,
          -0.02573232102609799,
          -0.03901956202934776,
          -0.0001191152771500328,
          0.031099914893536685
         ],
         "yaxis": "y"
        }
       ],
       "layout": {
        "font": {
         "color": "RebeccaPurple",
         "family": "Courier New, monospace",
         "size": 18
        },
        "legend": {
         "title": {
          "text": "Class"
         },
         "tracegroupgap": 0
        },
        "margin": {
         "t": 60
        },
        "template": {
         "data": {
          "bar": [
           {
            "error_x": {
             "color": "#2a3f5f"
            },
            "error_y": {
             "color": "#2a3f5f"
            },
            "marker": {
             "line": {
              "color": "#E5ECF6",
              "width": 0.5
             }
            },
            "type": "bar"
           }
          ],
          "barpolar": [
           {
            "marker": {
             "line": {
              "color": "#E5ECF6",
              "width": 0.5
             }
            },
            "type": "barpolar"
           }
          ],
          "carpet": [
           {
            "aaxis": {
             "endlinecolor": "#2a3f5f",
             "gridcolor": "white",
             "linecolor": "white",
             "minorgridcolor": "white",
             "startlinecolor": "#2a3f5f"
            },
            "baxis": {
             "endlinecolor": "#2a3f5f",
             "gridcolor": "white",
             "linecolor": "white",
             "minorgridcolor": "white",
             "startlinecolor": "#2a3f5f"
            },
            "type": "carpet"
           }
          ],
          "choropleth": [
           {
            "colorbar": {
             "outlinewidth": 0,
             "ticks": ""
            },
            "type": "choropleth"
           }
          ],
          "contour": [
           {
            "colorbar": {
             "outlinewidth": 0,
             "ticks": ""
            },
            "colorscale": [
             [
              0,
              "#0d0887"
             ],
             [
              0.1111111111111111,
              "#46039f"
             ],
             [
              0.2222222222222222,
              "#7201a8"
             ],
             [
              0.3333333333333333,
              "#9c179e"
             ],
             [
              0.4444444444444444,
              "#bd3786"
             ],
             [
              0.5555555555555556,
              "#d8576b"
             ],
             [
              0.6666666666666666,
              "#ed7953"
             ],
             [
              0.7777777777777778,
              "#fb9f3a"
             ],
             [
              0.8888888888888888,
              "#fdca26"
             ],
             [
              1,
              "#f0f921"
             ]
            ],
            "type": "contour"
           }
          ],
          "contourcarpet": [
           {
            "colorbar": {
             "outlinewidth": 0,
             "ticks": ""
            },
            "type": "contourcarpet"
           }
          ],
          "heatmap": [
           {
            "colorbar": {
             "outlinewidth": 0,
             "ticks": ""
            },
            "colorscale": [
             [
              0,
              "#0d0887"
             ],
             [
              0.1111111111111111,
              "#46039f"
             ],
             [
              0.2222222222222222,
              "#7201a8"
             ],
             [
              0.3333333333333333,
              "#9c179e"
             ],
             [
              0.4444444444444444,
              "#bd3786"
             ],
             [
              0.5555555555555556,
              "#d8576b"
             ],
             [
              0.6666666666666666,
              "#ed7953"
             ],
             [
              0.7777777777777778,
              "#fb9f3a"
             ],
             [
              0.8888888888888888,
              "#fdca26"
             ],
             [
              1,
              "#f0f921"
             ]
            ],
            "type": "heatmap"
           }
          ],
          "heatmapgl": [
           {
            "colorbar": {
             "outlinewidth": 0,
             "ticks": ""
            },
            "colorscale": [
             [
              0,
              "#0d0887"
             ],
             [
              0.1111111111111111,
              "#46039f"
             ],
             [
              0.2222222222222222,
              "#7201a8"
             ],
             [
              0.3333333333333333,
              "#9c179e"
             ],
             [
              0.4444444444444444,
              "#bd3786"
             ],
             [
              0.5555555555555556,
              "#d8576b"
             ],
             [
              0.6666666666666666,
              "#ed7953"
             ],
             [
              0.7777777777777778,
              "#fb9f3a"
             ],
             [
              0.8888888888888888,
              "#fdca26"
             ],
             [
              1,
              "#f0f921"
             ]
            ],
            "type": "heatmapgl"
           }
          ],
          "histogram": [
           {
            "marker": {
             "colorbar": {
              "outlinewidth": 0,
              "ticks": ""
             }
            },
            "type": "histogram"
           }
          ],
          "histogram2d": [
           {
            "colorbar": {
             "outlinewidth": 0,
             "ticks": ""
            },
            "colorscale": [
             [
              0,
              "#0d0887"
             ],
             [
              0.1111111111111111,
              "#46039f"
             ],
             [
              0.2222222222222222,
              "#7201a8"
             ],
             [
              0.3333333333333333,
              "#9c179e"
             ],
             [
              0.4444444444444444,
              "#bd3786"
             ],
             [
              0.5555555555555556,
              "#d8576b"
             ],
             [
              0.6666666666666666,
              "#ed7953"
             ],
             [
              0.7777777777777778,
              "#fb9f3a"
             ],
             [
              0.8888888888888888,
              "#fdca26"
             ],
             [
              1,
              "#f0f921"
             ]
            ],
            "type": "histogram2d"
           }
          ],
          "histogram2dcontour": [
           {
            "colorbar": {
             "outlinewidth": 0,
             "ticks": ""
            },
            "colorscale": [
             [
              0,
              "#0d0887"
             ],
             [
              0.1111111111111111,
              "#46039f"
             ],
             [
              0.2222222222222222,
              "#7201a8"
             ],
             [
              0.3333333333333333,
              "#9c179e"
             ],
             [
              0.4444444444444444,
              "#bd3786"
             ],
             [
              0.5555555555555556,
              "#d8576b"
             ],
             [
              0.6666666666666666,
              "#ed7953"
             ],
             [
              0.7777777777777778,
              "#fb9f3a"
             ],
             [
              0.8888888888888888,
              "#fdca26"
             ],
             [
              1,
              "#f0f921"
             ]
            ],
            "type": "histogram2dcontour"
           }
          ],
          "mesh3d": [
           {
            "colorbar": {
             "outlinewidth": 0,
             "ticks": ""
            },
            "type": "mesh3d"
           }
          ],
          "parcoords": [
           {
            "line": {
             "colorbar": {
              "outlinewidth": 0,
              "ticks": ""
             }
            },
            "type": "parcoords"
           }
          ],
          "pie": [
           {
            "automargin": true,
            "type": "pie"
           }
          ],
          "scatter": [
           {
            "marker": {
             "colorbar": {
              "outlinewidth": 0,
              "ticks": ""
             }
            },
            "type": "scatter"
           }
          ],
          "scatter3d": [
           {
            "line": {
             "colorbar": {
              "outlinewidth": 0,
              "ticks": ""
             }
            },
            "marker": {
             "colorbar": {
              "outlinewidth": 0,
              "ticks": ""
             }
            },
            "type": "scatter3d"
           }
          ],
          "scattercarpet": [
           {
            "marker": {
             "colorbar": {
              "outlinewidth": 0,
              "ticks": ""
             }
            },
            "type": "scattercarpet"
           }
          ],
          "scattergeo": [
           {
            "marker": {
             "colorbar": {
              "outlinewidth": 0,
              "ticks": ""
             }
            },
            "type": "scattergeo"
           }
          ],
          "scattergl": [
           {
            "marker": {
             "colorbar": {
              "outlinewidth": 0,
              "ticks": ""
             }
            },
            "type": "scattergl"
           }
          ],
          "scattermapbox": [
           {
            "marker": {
             "colorbar": {
              "outlinewidth": 0,
              "ticks": ""
             }
            },
            "type": "scattermapbox"
           }
          ],
          "scatterpolar": [
           {
            "marker": {
             "colorbar": {
              "outlinewidth": 0,
              "ticks": ""
             }
            },
            "type": "scatterpolar"
           }
          ],
          "scatterpolargl": [
           {
            "marker": {
             "colorbar": {
              "outlinewidth": 0,
              "ticks": ""
             }
            },
            "type": "scatterpolargl"
           }
          ],
          "scatterternary": [
           {
            "marker": {
             "colorbar": {
              "outlinewidth": 0,
              "ticks": ""
             }
            },
            "type": "scatterternary"
           }
          ],
          "surface": [
           {
            "colorbar": {
             "outlinewidth": 0,
             "ticks": ""
            },
            "colorscale": [
             [
              0,
              "#0d0887"
             ],
             [
              0.1111111111111111,
              "#46039f"
             ],
             [
              0.2222222222222222,
              "#7201a8"
             ],
             [
              0.3333333333333333,
              "#9c179e"
             ],
             [
              0.4444444444444444,
              "#bd3786"
             ],
             [
              0.5555555555555556,
              "#d8576b"
             ],
             [
              0.6666666666666666,
              "#ed7953"
             ],
             [
              0.7777777777777778,
              "#fb9f3a"
             ],
             [
              0.8888888888888888,
              "#fdca26"
             ],
             [
              1,
              "#f0f921"
             ]
            ],
            "type": "surface"
           }
          ],
          "table": [
           {
            "cells": {
             "fill": {
              "color": "#EBF0F8"
             },
             "line": {
              "color": "white"
             }
            },
            "header": {
             "fill": {
              "color": "#C8D4E3"
             },
             "line": {
              "color": "white"
             }
            },
            "type": "table"
           }
          ]
         },
         "layout": {
          "annotationdefaults": {
           "arrowcolor": "#2a3f5f",
           "arrowhead": 0,
           "arrowwidth": 1
          },
          "autotypenumbers": "strict",
          "coloraxis": {
           "colorbar": {
            "outlinewidth": 0,
            "ticks": ""
           }
          },
          "colorscale": {
           "diverging": [
            [
             0,
             "#8e0152"
            ],
            [
             0.1,
             "#c51b7d"
            ],
            [
             0.2,
             "#de77ae"
            ],
            [
             0.3,
             "#f1b6da"
            ],
            [
             0.4,
             "#fde0ef"
            ],
            [
             0.5,
             "#f7f7f7"
            ],
            [
             0.6,
             "#e6f5d0"
            ],
            [
             0.7,
             "#b8e186"
            ],
            [
             0.8,
             "#7fbc41"
            ],
            [
             0.9,
             "#4d9221"
            ],
            [
             1,
             "#276419"
            ]
           ],
           "sequential": [
            [
             0,
             "#0d0887"
            ],
            [
             0.1111111111111111,
             "#46039f"
            ],
            [
             0.2222222222222222,
             "#7201a8"
            ],
            [
             0.3333333333333333,
             "#9c179e"
            ],
            [
             0.4444444444444444,
             "#bd3786"
            ],
            [
             0.5555555555555556,
             "#d8576b"
            ],
            [
             0.6666666666666666,
             "#ed7953"
            ],
            [
             0.7777777777777778,
             "#fb9f3a"
            ],
            [
             0.8888888888888888,
             "#fdca26"
            ],
            [
             1,
             "#f0f921"
            ]
           ],
           "sequentialminus": [
            [
             0,
             "#0d0887"
            ],
            [
             0.1111111111111111,
             "#46039f"
            ],
            [
             0.2222222222222222,
             "#7201a8"
            ],
            [
             0.3333333333333333,
             "#9c179e"
            ],
            [
             0.4444444444444444,
             "#bd3786"
            ],
            [
             0.5555555555555556,
             "#d8576b"
            ],
            [
             0.6666666666666666,
             "#ed7953"
            ],
            [
             0.7777777777777778,
             "#fb9f3a"
            ],
            [
             0.8888888888888888,
             "#fdca26"
            ],
            [
             1,
             "#f0f921"
            ]
           ]
          },
          "colorway": [
           "#636efa",
           "#EF553B",
           "#00cc96",
           "#ab63fa",
           "#FFA15A",
           "#19d3f3",
           "#FF6692",
           "#B6E880",
           "#FF97FF",
           "#FECB52"
          ],
          "font": {
           "color": "#2a3f5f"
          },
          "geo": {
           "bgcolor": "white",
           "lakecolor": "white",
           "landcolor": "#E5ECF6",
           "showlakes": true,
           "showland": true,
           "subunitcolor": "white"
          },
          "hoverlabel": {
           "align": "left"
          },
          "hovermode": "closest",
          "mapbox": {
           "style": "light"
          },
          "paper_bgcolor": "white",
          "plot_bgcolor": "#E5ECF6",
          "polar": {
           "angularaxis": {
            "gridcolor": "white",
            "linecolor": "white",
            "ticks": ""
           },
           "bgcolor": "#E5ECF6",
           "radialaxis": {
            "gridcolor": "white",
            "linecolor": "white",
            "ticks": ""
           }
          },
          "scene": {
           "xaxis": {
            "backgroundcolor": "#E5ECF6",
            "gridcolor": "white",
            "gridwidth": 2,
            "linecolor": "white",
            "showbackground": true,
            "ticks": "",
            "zerolinecolor": "white"
           },
           "yaxis": {
            "backgroundcolor": "#E5ECF6",
            "gridcolor": "white",
            "gridwidth": 2,
            "linecolor": "white",
            "showbackground": true,
            "ticks": "",
            "zerolinecolor": "white"
           },
           "zaxis": {
            "backgroundcolor": "#E5ECF6",
            "gridcolor": "white",
            "gridwidth": 2,
            "linecolor": "white",
            "showbackground": true,
            "ticks": "",
            "zerolinecolor": "white"
           }
          },
          "shapedefaults": {
           "line": {
            "color": "#2a3f5f"
           }
          },
          "ternary": {
           "aaxis": {
            "gridcolor": "white",
            "linecolor": "white",
            "ticks": ""
           },
           "baxis": {
            "gridcolor": "white",
            "linecolor": "white",
            "ticks": ""
           },
           "bgcolor": "#E5ECF6",
           "caxis": {
            "gridcolor": "white",
            "linecolor": "white",
            "ticks": ""
           }
          },
          "title": {
           "x": 0.05
          },
          "xaxis": {
           "automargin": true,
           "gridcolor": "white",
           "linecolor": "white",
           "ticks": "",
           "title": {
            "standoff": 15
           },
           "zerolinecolor": "white",
           "zerolinewidth": 2
          },
          "yaxis": {
           "automargin": true,
           "gridcolor": "white",
           "linecolor": "white",
           "ticks": "",
           "title": {
            "standoff": 15
           },
           "zerolinecolor": "white",
           "zerolinewidth": 2
          }
         }
        },
        "title": {
         "text": "PCA"
        },
        "xaxis": {
         "anchor": "y",
         "domain": [
          0,
          1
         ],
         "title": {
          "text": "PC 1"
         }
        },
        "yaxis": {
         "anchor": "x",
         "domain": [
          0,
          1
         ],
         "title": {
          "text": "PC 2"
         }
        }
       }
      },
      "text/html": [
       "<div>                            <div id=\"dccb8466-1b85-4d9b-b90d-a427d3c66d17\" class=\"plotly-graph-div\" style=\"height:525px; width:100%;\"></div>            <script type=\"text/javascript\">                require([\"plotly\"], function(Plotly) {                    window.PLOTLYENV=window.PLOTLYENV || {};                                    if (document.getElementById(\"dccb8466-1b85-4d9b-b90d-a427d3c66d17\")) {                    Plotly.newPlot(                        \"dccb8466-1b85-4d9b-b90d-a427d3c66d17\",                        [{\"hovertemplate\": \"color=Mi Fu (Wu River)<br>0=%{x}<br>1=%{y}<extra></extra>\", \"legendgroup\": \"Mi Fu (Wu River)\", \"marker\": {\"color\": \"#636efa\", \"symbol\": \"circle\"}, \"mode\": \"markers\", \"name\": \"Mi Fu (Wu River)\", \"orientation\": \"v\", \"showlegend\": true, \"type\": \"scatter\", \"x\": [-0.03583749924438383, -0.08530072696229386, 0.03179992814110848, -0.0462048398520141, -0.00662589012765505, -0.028691924298985715, -0.014096134571719649, 0.0006379414864818198, -0.0735198016792829, -0.09306587221177916, -0.04275339916844814, -0.04654797097301047, -0.052995450358213, -0.023958440922224277, 0.053770835722751806, -0.05741497641783599, 0.07766088453778368, -0.08619135258131119, -0.03209089419228452, -0.07982399624927841, -0.05700047139964406, -0.0366778363893874, -0.013537454219824004, -0.06362948735752355, -0.02743997170395118, -0.02134630698197029, -0.06026527229120976, 0.034079369181244275, -0.0753570321460514, -0.05594302397474567, -0.056745123860030035, -0.06731374628276338, -0.031190357928843445, -0.07567419043900286, -0.07115136891417703, -0.041699587984634516, 0.03222022951551064, 0.027030230044997154, 0.016777844316963275, -0.002558378186235947, -0.029178245277111447, -0.008752506315626225, -0.06205831068085808, -0.15313712470559943, 0.10751678933476862, 0.0034115508577777526, 0.06779173589521136, -0.10652193028692708, -0.09938785412712846, -0.0674817144351528, -0.007488599501929948, -0.14479783582365052, -0.0758333672244601, 0.00469345503674247, -0.030070565279688356, 0.0477758996582358, -0.15822422081070545, -0.12483666608031435, 0.008086087542619143, 0.03583510914418731, -0.07128185722141281, -0.019073727031899825, 0.04108107706308096, 0.04701675338318641, -0.022652507502849806, -0.0748423088290476, -0.13023250915968282, -0.0716681801443647, 0.02607415083209076, -0.06902779339118094, 0.2820571369723137, -0.08752635727006569, 0.016964453245108875, -0.052460689293795666, -0.0021158049109024943, -0.014080050309785859, -0.07355000250446467, -0.054007061870647965, -0.0020835310285142014, 0.030256366031783163, 0.007234836152243188, -0.1268918021092648, -0.116548532054197, -0.031912600667137345, -0.011317491641949184, -0.1049730207749619, 0.05453609691773244, -0.21317676720904027, -0.17057444853603748, -0.04604701193238005, 0.052464458859855595], \"xaxis\": \"x\", \"y\": [0.031316307333449894, 0.06189609524847057, -0.047751833779149856, -0.001606986642956773, 0.009816446884956477, -0.003838460088938734, -0.0394387311952412, -0.00857269570920815, 0.04039341815541813, 0.03369084405370174, 0.037811214102312855, -0.0006186773912707586, -0.014583427525298742, 0.052032998065771, -0.03134371815916847, -0.026886022898828636, -0.031032382252537002, -0.018123116583434726, 0.06368096368153646, -0.026503976902382393, 0.00031492320187901225, 0.0035258387769173992, -0.03491084745775478, 0.023213442770312325, -0.032532442598496435, 0.021211977783168388, -0.013722106537817646, 0.0007632243607293953, -0.0008746142466988663, 0.040898753531079385, -0.007976392941335697, 0.010153599563362224, 0.006020987199815517, 0.07107074121107221, -0.12185973494782366, -0.01678839450688453, -0.009428885466116112, 0.015739228759546253, 0.04239758947529168, -0.03299520825230964, 0.027474226733675486, -0.05491365719285173, -0.03173720080539532, 0.03245471718983331, 0.01892586480302316, 0.0185967694054151, 0.036633045441837056, -0.04135262016680572, -0.08010142303230901, -0.03267547190749087, 0.029783866182964042, 0.04810404838556004, -0.04350715217057567, -0.08839065068804618, 0.007269696289325148, 0.04313527007757528, -0.04897377492294644, -0.09051356406588261, -0.03564149114044359, -0.00364676357810255, 0.025055044035545808, 0.017330412817870493, -0.05504508983602969, -0.05011149549691209, 0.043833595291401906, -0.06815164802852418, -0.01353749632158323, -0.07905759618794302, -0.04078733120400956, -0.014896275820427202, 0.0980843521333747, 0.047895054878824485, -0.021059258071904195, -0.0006964463193982875, 0.01722335174700265, -0.07149124719581047, -0.012127544770793785, 0.0275690715578242, 0.03729178194689179, 0.014354929227128728, 0.0013886089691132733, 0.00015668213588165432, 0.02159612691327279, -0.10180016329070785, -0.10904198666125363, 0.005752738035715597, -0.05286620862185881, 0.05344846322673121, -0.02424398268613486, -0.04593936153110695, -0.04307433958952909], \"yaxis\": \"y\"}, {\"hovertemplate\": \"color=Huizong<br>0=%{x}<br>1=%{y}<extra></extra>\", \"legendgroup\": \"Huizong\", \"marker\": {\"color\": \"#EF553B\", \"symbol\": \"circle\"}, \"mode\": \"markers\", \"name\": \"Huizong\", \"orientation\": \"v\", \"showlegend\": true, \"type\": \"scatter\", \"x\": [0.017661165133708228, 0.09766782329364311, 0.015724097029812936, -0.10884294241120335, 0.12278034558174987, -0.014042146885541227, -0.0034564647778877427, -0.09794174889668802, -0.030522361039967725, 0.05698294348535679, 0.020851236508393843, 0.034578623445561556, -0.048428223861567976, -0.038398077643466005, 0.032589814930957084, -0.025901229929626395, 0.20982553615311844, -0.055621405022245746, 0.1149673854272353, 0.03605526112493509, -0.0335453356023233, 0.06147397457113921, 0.003174822808725278, -0.002260602437072762, 0.06242765524682177, 0.08893047377423716, 0.03318015297473503, 0.03796580298885479, -0.033004716718875775, -0.018790769781536768, 0.08089083516019549, -0.024492971007423425, -0.014064736937239409, -0.06278491701882116, 0.02522270096487955, -0.03630703625401002, 0.07668538844454198, 0.031392424149773626, -0.06693366237061255, -0.052843290962262764, 0.12527919192001574, -0.04343541561762417, 0.01307595638466008, -0.0827028404029129, 0.06563279326482603, 0.05951752019821333, 0.05163862216508792, 0.052616008864649795, 0.03079572128687324, 0.013112040466306867, 0.028343070489132063, 0.018383878195690016, 0.04651247877632275, -0.12611524987242848, 0.012751731559232957, 0.04436986210629862, 0.07150597522619126, 0.10530764404557898, -0.024294522098525062, 0.014027690248415723, -0.0853223888963392, -0.040901044845154014, 0.04256645518854364], \"xaxis\": \"x\", \"y\": [0.0466856858664934, -0.011976470323188047, 0.037030812618659495, 0.035194175502547886, 0.01810178647287405, 0.0005803771844279446, 0.055131233584795325, 0.017305710533709932, 0.00010368239903824891, 0.03418761560225804, 0.003910511100307365, -0.027150745626273787, 0.017877186685423846, -0.01853437102719363, -0.019511024347221424, 0.02816683635526243, 0.042790385562296036, -0.053361151568230354, -0.01566639774721529, 0.01779594267036057, 0.04975847258276112, -0.013425001191505206, 0.03870287188235765, -0.027413475522468957, -0.02867880015581646, 0.026701397526977085, 0.01358891940553276, 0.00016780236403478367, 0.03145869415497621, 0.03353778089316112, -0.02858678113708184, -0.025001373165400617, 0.02423373477188241, -0.048385645016752764, 0.010507989947592554, 0.05608890995367191, 0.003370976276894661, -0.056268686505895116, 0.059474972788551086, 0.03932992647672544, 0.013140386744104534, -0.027873358385267902, -0.016506919100535342, 0.0761830060875104, -0.03089315220269957, 0.07057114343254048, -0.03574692406064298, -0.027689638450740073, 0.07604123847031224, 0.03165869520459188, -0.021549041802653424, 0.0007159321874373965, 0.03355419183055545, 0.09259870213989037, 0.009972302738654617, -0.005703108158620318, 0.027111159690100625, -0.029091876418308734, 0.06355483244110256, -0.03401976868877638, 0.013615972879538195, 0.045743178547418495, 0.035681285490002414], \"yaxis\": \"y\"}, {\"hovertemplate\": \"color=Su Shi<br>0=%{x}<br>1=%{y}<extra></extra>\", \"legendgroup\": \"Su Shi\", \"marker\": {\"color\": \"#00cc96\", \"symbol\": \"circle\"}, \"mode\": \"markers\", \"name\": \"Su Shi\", \"orientation\": \"v\", \"showlegend\": true, \"type\": \"scatter\", \"x\": [-0.11117346380856949, 0.01067016564401862, 0.04489471331655683, 0.03468628332254741, -0.17432216381412685, 0.002754085400025542, 0.005124749521602094, 0.1907949669717646, 0.18969250560115924, 0.10242714280023915, -0.01647976513496724, -0.07510590617216133, 0.043467796835372344, 0.06957864446383662, 0.05052379247625757, 0.07964901459249515, 0.07238848158617435, -0.07435918194042387, 0.11131890940257366, 0.06560977851559778, -0.023752354368120086, 0.04079733042649356, -0.18880792139086516, 0.0815100519078671, 0.07712653722025199, -0.12172090820979452, -0.12010848748882866, -0.08768292359934324, 0.04862200604796071, 0.030979979043456393, -0.045080203348525104, 0.0011130016931659185, 0.06285034382856756, 0.12626645276950232, 0.07446411057379028, -0.12115287815507125, -0.21211033662403117, -0.13597893472581593, 0.010128861740652998, 0.06675167806460408, 0.05792353233154842, 0.026030952218138406, 0.08050992472745488, -0.09152702854264662, -0.06304015965762734, -0.04267174863593788, -0.008022356562484635, 0.09718067346146445, -0.05639119861835448, -0.006339131774466663, 0.011326361901530536, -0.06646513867224643, 0.10940196831248415, -0.07362523701423426, -0.043802893670513446, 0.04014543037743317, -0.0025235465684807106, 0.0007492977304986663, 0.11335400828005425, -0.024123690001813424, -0.06857520473196543, 0.06456459216662304, 0.049730628047152454, 0.09761097634821217, -0.05105920435694574, -0.006526390385775608, 0.06674063386475343, 0.02245180202904149, -0.03490879446724266, -0.01905878254529949, 0.00291678421348838, -0.017520394067150252, 0.12284033829920929, 0.08947617925970369, 0.09226839857699913, 0.052903798269851726, 0.14386300580467734, 0.06501515570591464, -0.006976845503869725, 0.029303794942266547, 0.0033029946250063354, -0.04631925549998481, -0.029093043131375996, -0.037082670489297725, 0.04822493684654433, 0.0764108492596536, 0.11168207581301522, -0.08200431532183411, -0.0029529506182143185, -0.11069996629232691, 0.06998859373961323, -0.06074328684109357, -0.14608825406281045, 0.08184491089706608, -0.12275154322802373, 0.0013019981869702019, 0.0876182514523059, 0.1357221872065247, 0.04913309038549027, 0.0899600217642799, -0.008821237132001763, 0.1305022493113756, 0.046246200730317474, 0.07464930910502952, 0.03248175013298764, -0.022369040997707097, 0.0018316788172208884, -0.007181473441827215, 0.02487788550832218, 0.01747268961963934, 0.06448233123194752, 0.09276195667541938, 0.049593258934667026, 0.0287006475000536, -0.16986867234564598, 0.0711064072396798, -0.03688535530385629, 0.2088025879491894, 0.006818251722246553], \"xaxis\": \"x\", \"y\": [0.05363133916778671, 0.005864218687757101, -0.00972197385907075, -0.07427001906513937, 0.03140030292131652, -0.004307249484189983, 0.04505836826362521, 0.056053830001261296, 0.06034544248593991, 0.02479018559571504, -0.08668013277013627, -0.008123463433278856, 0.00914054798163555, 0.025952336999743114, 0.0066796050050387705, 0.03196621712057719, -0.0036613283521995436, 0.037132406268043976, 0.029433899730244895, 0.0017557411212835554, 0.04967694027858173, 0.020409060130194896, 0.038470230940963156, 0.015755961698477074, -0.015046595215979222, 0.012824848727619763, 0.059682778519511225, -0.03025984761874815, 0.0327879191086867, -0.0547529438719656, -0.049842872807255606, -0.023007963016687918, 0.02272375966341466, 0.0769474348640593, 0.011727662063590097, 0.018660609904254305, 0.12917668021194184, 0.02816121602806935, -0.0040750889288615625, -0.08092975077303807, -0.010803483566991057, 0.05142131494735907, 0.01904479688481067, 0.006276710644844074, -0.0757266340941438, -0.07116189497467404, -0.06322174079037364, -0.021386167685937114, 0.0013866355962586835, 0.027481644579500555, 0.03321761933508938, -0.02878881725277371, -0.00958307196684402, -0.05052514079041247, -0.03793340594375437, -0.02618286820288638, -0.017470789587130484, -0.13070474871780963, -0.0255441567119527, 0.02916182074677887, -0.0227809093007866, 0.06273759160720146, -0.017771830269343317, 0.04305965649624931, 0.04675762227343938, 0.04778500637322613, -0.02858467867510666, -0.053435456546606176, -0.06800353615658278, 0.04779973690972164, -0.020287438238426155, 0.01532834392275201, 0.0006334846775694478, -0.012803654713957084, 0.03192922199819691, -0.04453992265573183, 0.03532487319762724, 0.025219572730409708, -0.04562232047564066, 0.034090434690728574, -0.02115488262734644, -0.027377036796654625, 0.04244203333143476, 0.014320038942320224, -0.05045841168476528, 0.02680769696579104, 0.02068173371396383, -0.04660504835608738, -0.07080250925018379, 0.010638401809025012, 0.011356138112632579, -0.10558166926498876, 0.0628953519029158, -0.044937463817613585, 0.049880574531461434, -0.016602585078733266, -0.047116217117406954, 0.013356086049701312, -0.02620680332093858, -0.03909132991475506, -0.07107068357490182, -0.05326574833248422, -0.024112649672569646, 0.08483413683008417, 0.005448382626221189, -0.0007193605598451305, 0.001337759128071046, -0.03722348800719262, -0.035275288884392034, -0.012025705670847146, 0.03897694545815105, 0.011205596666880462, -0.0021611265172724915, -0.019338288611010727, 0.005569723257407899, 0.008803012132218735, -0.03867916488201153, 0.04254729640929377, -0.0187959630161877], \"yaxis\": \"y\"}, {\"hovertemplate\": \"color=WangXiZhi<br>0=%{x}<br>1=%{y}<extra></extra>\", \"legendgroup\": \"WangXiZhi\", \"marker\": {\"color\": \"#ab63fa\", \"symbol\": \"circle\"}, \"mode\": \"markers\", \"name\": \"WangXiZhi\", \"orientation\": \"v\", \"showlegend\": true, \"type\": \"scatter\", \"x\": [0.0683067357246786, -0.05117037941944411, -0.01338092227766332, 0.02318327396648008, -0.00043163152028431094, -0.005204973013517759, -0.011679806984217847, -0.0065526046986306916, 0.05506077265783144, 0.01700624725137813, 0.01326606628067304, 0.011651228886084726, 0.07426903173479324, 0.024959071489836414, -0.08596706017788114, -0.04151471436822484, -0.16225065932057708, -0.035895822082826156, 0.04165924954126278, 0.019337689595094274, -0.020404741377994383, 0.036360764860679434, 0.0013708913480936027, 0.01089609940869512, 0.09834162112452997, -0.04627055567380039, -0.024139243522774193, -0.04620948641275952, 0.012977795630571184, -0.15200892264421784, 0.09048445176333038, -0.0748144688012264, -0.0027245940102492076, -0.02714605257505114, 0.05127476785258574, 0.0013096695593702405, -0.036027686293524694, -0.06506647778574327, 0.015390228595190885, -0.0021841012637800142, 0.009022528250648459, 0.08872056792021911, 0.07911553686658843, 0.07683309492100128, 0.012008650438966383, -0.07540913813416691, -0.036429312874494704, -0.060066377013803185, -0.030423456650563185, 0.042903821863046344, 0.043680852361874224, -0.029307426854518728, -0.04904940684565638, -0.042075051710391, -0.08116876596643596, 0.04182646764490894, -0.034915740143130106, -0.017893201194604132, 0.2203149880267937, 0.09069489962627404, -0.03184870137602781, 0.11971684786588209, -0.061895765344515304, -0.013502532817164604, 0.0021198758227139467, 0.013945320821822099, -0.06733961072062877, 0.04776659173878243, -0.05265795755608439, -0.0681900831771014, 0.07826213347051299, 0.19321869742172965, 0.039070049304403, -0.04069300536315665, -0.032428617612448266, -0.0289977420582019, -0.018484969334661226, 0.03111124514408533, -0.0022096194571305447, -0.19993236254430063, 0.18202430525883015, 0.030479090989687634, -0.06112263785949471, -0.0164396117648907, 0.008450159559748434, -0.04650387843727896, -0.02513553736640959, 0.11901929188418837, -0.14044444988228708, 0.06984291379848089, -0.028633563956004963, -0.01882475105191517, -0.06707055595776887, 0.032902696237544736, -0.026397611305992802], \"xaxis\": \"x\", \"y\": [-0.05153354260481288, 0.11477222633094525, 0.0761610216289528, -0.0416639666270893, 0.03564494182017108, 0.003264308546642367, 0.023118592299813653, -0.07652377890211624, -0.028959375563664895, -0.010994007814200686, 0.039469016978404166, -0.04688062790265945, -0.04330532889296651, 0.021690476152877173, 0.014520939785091435, 0.06273572403703329, 0.034115041299331475, 0.036739213523278934, -0.07973225879463498, -0.03627059474613622, 0.007619608584973913, 0.03247033400121436, 0.024880895517166893, -0.026280702963482252, -0.027826231570943202, 0.06253335533815256, 0.00842870168371422, -0.07649610863221805, 0.028683184697733247, 0.014502912137039812, -0.05395189438614785, 0.06100539205127553, -0.022899773247706073, -0.040695459849218574, 0.020771126704941287, 0.040377758807644305, -0.04626296240492263, 0.03582918186934289, 0.08102608404575297, 0.022545458113416558, -0.044602588498124054, 0.012615094403972798, 0.02533622546053527, -0.020206312893996443, -0.016455631476785377, -0.0496829900028162, -0.07345870899652882, 0.03560200847207692, -0.029718956714587973, -0.10484124904037323, 0.0135142394346117, -0.06384938417634407, 0.10891591185054646, -0.020816885809668385, -0.035899750651424166, -0.025558837044309637, -0.02366457289460037, 0.008181140640128657, 0.052589365268404326, 0.029575726007549083, -0.013844834834420214, 0.06633310805529549, 0.014141568143429407, 0.05140762112073091, 0.04452572059057526, -0.02008489364296579, 0.010451971609289824, 0.054396270243553, -0.016890264429271745, 0.06840393069144407, 0.024384549407178133, 0.052002290542591596, 0.06404817316141487, -0.045077786220174845, 0.00725492618850635, 0.03207244212765871, -0.07009740826835287, 0.08447747479198585, -0.09730123631090351, 0.08370668396863495, 0.04329838210026614, -0.013879794434173873, 0.001951659652401862, -0.014852516067859894, -0.03215031385511678, -0.010843615851166642, -0.055185687805073255, -0.01888348575332131, -0.028892245111494796, 0.011084521128503073, 0.10930201322249743, -0.05021147953909108, 0.07135370286309013, -0.03444569680098654, -0.025403435237116634], \"yaxis\": \"y\"}, {\"hovertemplate\": \"color=Mi Fu (On Cursive Calligraphy)<br>0=%{x}<br>1=%{y}<extra></extra>\", \"legendgroup\": \"Mi Fu (On Cursive Calligraphy)\", \"marker\": {\"color\": \"#FFA15A\", \"symbol\": \"circle\"}, \"mode\": \"markers\", \"name\": \"Mi Fu (On Cursive Calligraphy)\", \"orientation\": \"v\", \"showlegend\": true, \"type\": \"scatter\", \"x\": [0.06142056542589898, -0.015352136383171164, 0.01089773007429611, 0.12508102748910674, 0.12776830092498417, 0.10064777385736884, 0.016237253453278828, -0.06782842167071955, -0.037704692959480667, -0.11226539292704095, 0.018615518906163087, 0.07921318980921041, 0.031013632682186373, -0.08835950078198576, -0.029352332699031473, -0.16231954035547758, 0.0683991313745648, 0.11540818396650697, 0.1026077261376296, 0.023147535955733035, -0.06459161644285466, 0.06443524609667209, -0.09398765018716786, -0.09820920353075531, 0.04438236483674562, -0.1332982836931423, -0.01897361844059072, -0.17779322647380144, -0.0164315836931963, -0.14090432478169762, 0.011041149962992653, 0.032140805167949656, 0.0015811253464783023, 0.037112392698396085, -0.12632632619733197, -0.11622799280543941, 0.04768497613079157, 0.09917534631489315, -0.07887623143869557, 0.14696788439084923, -0.041544521058530015, -0.10373129597745792, -0.017658155229582626, 0.08503898996835332, 0.08073163302700473, 0.0652785301955197, 0.13595205814390032, 0.04951432719110756, 0.1534237660196527, 0.10029020859605525, 0.14149658838754178, 0.07464925284016105, -0.0717266779068226, 0.056862920455296014, 0.11142252749170838, 0.01665841845096265, -0.0732336062757067, -0.15166797649567498, -0.006788232850444277, 0.004260705122321687, -0.04386837724987935, 0.16576625391502486, 0.1010909973648046], \"xaxis\": \"x\", \"y\": [0.009032494230197871, -0.045425240784674914, -0.06570990797803285, 0.026849782700707495, -0.03401640786423629, 0.025584754753954855, 0.009253590971806875, -0.0473478122979455, -0.049274800410182416, 0.003924309992839285, 0.04478823808136833, 0.06071538100554939, 0.02542268050036005, 0.0005783798663687084, -0.05344983251431846, -0.02911916084267646, 0.018542828065025035, -0.008440898672439585, 0.029374424010756555, 0.009705883625108335, -0.009767127766066728, -0.024649909259341022, -0.009617858515619875, -0.018665197213875898, -0.035419157975147116, 0.0813925170306446, 0.014755598243936996, 0.058328010705259864, -0.10874217183041938, 0.047949230362276565, 0.03354507536834669, -0.06700276219888628, -0.06111496434776518, -0.011132968193339792, -0.016797911588957368, -0.004095307317305336, -0.007646923033232285, -0.021601424701843515, 0.062474434883385936, 0.03677189983610986, 0.11603976592894641, 0.07255006977091709, -0.07858457715643156, 0.13529967341517204, 0.019556405597062756, -0.0948765821826617, 0.03352462730779495, 0.014763551185259257, 0.02258124105131622, -0.04017387212132358, -0.0062774433053881485, -0.08317493516830747, -0.008223358483922152, -0.014885830322262051, -0.05233321221453864, 0.02478593221893344, -0.009578580141651537, -0.06708939056093577, -0.03809155028149091, -0.02573232102609799, -0.03901956202934776, -0.0001191152771500328, 0.031099914893536685], \"yaxis\": \"y\"}],                        {\"font\": {\"color\": \"RebeccaPurple\", \"family\": \"Courier New, monospace\", \"size\": 18}, \"legend\": {\"title\": {\"text\": \"Class\"}, \"tracegroupgap\": 0}, \"margin\": {\"t\": 60}, \"template\": {\"data\": {\"bar\": [{\"error_x\": {\"color\": \"#2a3f5f\"}, \"error_y\": {\"color\": \"#2a3f5f\"}, \"marker\": {\"line\": {\"color\": \"#E5ECF6\", \"width\": 0.5}}, \"type\": \"bar\"}], \"barpolar\": [{\"marker\": {\"line\": {\"color\": \"#E5ECF6\", \"width\": 0.5}}, \"type\": \"barpolar\"}], \"carpet\": [{\"aaxis\": {\"endlinecolor\": \"#2a3f5f\", \"gridcolor\": \"white\", \"linecolor\": \"white\", \"minorgridcolor\": \"white\", \"startlinecolor\": \"#2a3f5f\"}, \"baxis\": {\"endlinecolor\": \"#2a3f5f\", \"gridcolor\": \"white\", \"linecolor\": \"white\", \"minorgridcolor\": \"white\", \"startlinecolor\": \"#2a3f5f\"}, \"type\": \"carpet\"}], \"choropleth\": [{\"colorbar\": {\"outlinewidth\": 0, \"ticks\": \"\"}, \"type\": \"choropleth\"}], \"contour\": [{\"colorbar\": {\"outlinewidth\": 0, \"ticks\": \"\"}, \"colorscale\": [[0.0, \"#0d0887\"], [0.1111111111111111, \"#46039f\"], [0.2222222222222222, \"#7201a8\"], [0.3333333333333333, \"#9c179e\"], [0.4444444444444444, \"#bd3786\"], [0.5555555555555556, \"#d8576b\"], [0.6666666666666666, \"#ed7953\"], [0.7777777777777778, \"#fb9f3a\"], [0.8888888888888888, \"#fdca26\"], [1.0, \"#f0f921\"]], \"type\": \"contour\"}], \"contourcarpet\": [{\"colorbar\": {\"outlinewidth\": 0, \"ticks\": \"\"}, \"type\": \"contourcarpet\"}], \"heatmap\": [{\"colorbar\": {\"outlinewidth\": 0, \"ticks\": \"\"}, \"colorscale\": [[0.0, \"#0d0887\"], [0.1111111111111111, \"#46039f\"], [0.2222222222222222, \"#7201a8\"], [0.3333333333333333, \"#9c179e\"], [0.4444444444444444, \"#bd3786\"], [0.5555555555555556, \"#d8576b\"], [0.6666666666666666, \"#ed7953\"], [0.7777777777777778, \"#fb9f3a\"], [0.8888888888888888, \"#fdca26\"], [1.0, \"#f0f921\"]], \"type\": \"heatmap\"}], \"heatmapgl\": [{\"colorbar\": {\"outlinewidth\": 0, \"ticks\": \"\"}, \"colorscale\": [[0.0, \"#0d0887\"], [0.1111111111111111, \"#46039f\"], [0.2222222222222222, \"#7201a8\"], [0.3333333333333333, \"#9c179e\"], [0.4444444444444444, \"#bd3786\"], [0.5555555555555556, \"#d8576b\"], [0.6666666666666666, \"#ed7953\"], [0.7777777777777778, \"#fb9f3a\"], [0.8888888888888888, \"#fdca26\"], [1.0, \"#f0f921\"]], \"type\": \"heatmapgl\"}], \"histogram\": [{\"marker\": {\"colorbar\": {\"outlinewidth\": 0, \"ticks\": \"\"}}, \"type\": \"histogram\"}], \"histogram2d\": [{\"colorbar\": {\"outlinewidth\": 0, \"ticks\": \"\"}, \"colorscale\": [[0.0, \"#0d0887\"], [0.1111111111111111, \"#46039f\"], [0.2222222222222222, \"#7201a8\"], [0.3333333333333333, \"#9c179e\"], [0.4444444444444444, \"#bd3786\"], [0.5555555555555556, \"#d8576b\"], [0.6666666666666666, \"#ed7953\"], [0.7777777777777778, \"#fb9f3a\"], [0.8888888888888888, \"#fdca26\"], [1.0, \"#f0f921\"]], \"type\": \"histogram2d\"}], \"histogram2dcontour\": [{\"colorbar\": {\"outlinewidth\": 0, \"ticks\": \"\"}, \"colorscale\": [[0.0, \"#0d0887\"], [0.1111111111111111, \"#46039f\"], [0.2222222222222222, \"#7201a8\"], [0.3333333333333333, \"#9c179e\"], [0.4444444444444444, \"#bd3786\"], [0.5555555555555556, \"#d8576b\"], [0.6666666666666666, \"#ed7953\"], [0.7777777777777778, \"#fb9f3a\"], [0.8888888888888888, \"#fdca26\"], [1.0, \"#f0f921\"]], \"type\": \"histogram2dcontour\"}], \"mesh3d\": [{\"colorbar\": {\"outlinewidth\": 0, \"ticks\": \"\"}, \"type\": \"mesh3d\"}], \"parcoords\": [{\"line\": {\"colorbar\": {\"outlinewidth\": 0, \"ticks\": \"\"}}, \"type\": \"parcoords\"}], \"pie\": [{\"automargin\": true, \"type\": \"pie\"}], \"scatter\": [{\"marker\": {\"colorbar\": {\"outlinewidth\": 0, \"ticks\": \"\"}}, \"type\": \"scatter\"}], \"scatter3d\": [{\"line\": {\"colorbar\": {\"outlinewidth\": 0, \"ticks\": \"\"}}, \"marker\": {\"colorbar\": {\"outlinewidth\": 0, \"ticks\": \"\"}}, \"type\": \"scatter3d\"}], \"scattercarpet\": [{\"marker\": {\"colorbar\": {\"outlinewidth\": 0, \"ticks\": \"\"}}, \"type\": \"scattercarpet\"}], \"scattergeo\": [{\"marker\": {\"colorbar\": {\"outlinewidth\": 0, \"ticks\": \"\"}}, \"type\": \"scattergeo\"}], \"scattergl\": [{\"marker\": {\"colorbar\": {\"outlinewidth\": 0, \"ticks\": \"\"}}, \"type\": \"scattergl\"}], \"scattermapbox\": [{\"marker\": {\"colorbar\": {\"outlinewidth\": 0, \"ticks\": \"\"}}, \"type\": \"scattermapbox\"}], \"scatterpolar\": [{\"marker\": {\"colorbar\": {\"outlinewidth\": 0, \"ticks\": \"\"}}, \"type\": \"scatterpolar\"}], \"scatterpolargl\": [{\"marker\": {\"colorbar\": {\"outlinewidth\": 0, \"ticks\": \"\"}}, \"type\": \"scatterpolargl\"}], \"scatterternary\": [{\"marker\": {\"colorbar\": {\"outlinewidth\": 0, \"ticks\": \"\"}}, \"type\": \"scatterternary\"}], \"surface\": [{\"colorbar\": {\"outlinewidth\": 0, \"ticks\": \"\"}, \"colorscale\": [[0.0, \"#0d0887\"], [0.1111111111111111, \"#46039f\"], [0.2222222222222222, \"#7201a8\"], [0.3333333333333333, \"#9c179e\"], [0.4444444444444444, \"#bd3786\"], [0.5555555555555556, \"#d8576b\"], [0.6666666666666666, \"#ed7953\"], [0.7777777777777778, \"#fb9f3a\"], [0.8888888888888888, \"#fdca26\"], [1.0, \"#f0f921\"]], \"type\": \"surface\"}], \"table\": [{\"cells\": {\"fill\": {\"color\": \"#EBF0F8\"}, \"line\": {\"color\": \"white\"}}, \"header\": {\"fill\": {\"color\": \"#C8D4E3\"}, \"line\": {\"color\": \"white\"}}, \"type\": \"table\"}]}, \"layout\": {\"annotationdefaults\": {\"arrowcolor\": \"#2a3f5f\", \"arrowhead\": 0, \"arrowwidth\": 1}, \"autotypenumbers\": \"strict\", \"coloraxis\": {\"colorbar\": {\"outlinewidth\": 0, \"ticks\": \"\"}}, \"colorscale\": {\"diverging\": [[0, \"#8e0152\"], [0.1, \"#c51b7d\"], [0.2, \"#de77ae\"], [0.3, \"#f1b6da\"], [0.4, \"#fde0ef\"], [0.5, \"#f7f7f7\"], [0.6, \"#e6f5d0\"], [0.7, \"#b8e186\"], [0.8, \"#7fbc41\"], [0.9, \"#4d9221\"], [1, \"#276419\"]], \"sequential\": [[0.0, \"#0d0887\"], [0.1111111111111111, \"#46039f\"], [0.2222222222222222, \"#7201a8\"], [0.3333333333333333, \"#9c179e\"], [0.4444444444444444, \"#bd3786\"], [0.5555555555555556, \"#d8576b\"], [0.6666666666666666, \"#ed7953\"], [0.7777777777777778, \"#fb9f3a\"], [0.8888888888888888, \"#fdca26\"], [1.0, \"#f0f921\"]], \"sequentialminus\": [[0.0, \"#0d0887\"], [0.1111111111111111, \"#46039f\"], [0.2222222222222222, \"#7201a8\"], [0.3333333333333333, \"#9c179e\"], [0.4444444444444444, \"#bd3786\"], [0.5555555555555556, \"#d8576b\"], [0.6666666666666666, \"#ed7953\"], [0.7777777777777778, \"#fb9f3a\"], [0.8888888888888888, \"#fdca26\"], [1.0, \"#f0f921\"]]}, \"colorway\": [\"#636efa\", \"#EF553B\", \"#00cc96\", \"#ab63fa\", \"#FFA15A\", \"#19d3f3\", \"#FF6692\", \"#B6E880\", \"#FF97FF\", \"#FECB52\"], \"font\": {\"color\": \"#2a3f5f\"}, \"geo\": {\"bgcolor\": \"white\", \"lakecolor\": \"white\", \"landcolor\": \"#E5ECF6\", \"showlakes\": true, \"showland\": true, \"subunitcolor\": \"white\"}, \"hoverlabel\": {\"align\": \"left\"}, \"hovermode\": \"closest\", \"mapbox\": {\"style\": \"light\"}, \"paper_bgcolor\": \"white\", \"plot_bgcolor\": \"#E5ECF6\", \"polar\": {\"angularaxis\": {\"gridcolor\": \"white\", \"linecolor\": \"white\", \"ticks\": \"\"}, \"bgcolor\": \"#E5ECF6\", \"radialaxis\": {\"gridcolor\": \"white\", \"linecolor\": \"white\", \"ticks\": \"\"}}, \"scene\": {\"xaxis\": {\"backgroundcolor\": \"#E5ECF6\", \"gridcolor\": \"white\", \"gridwidth\": 2, \"linecolor\": \"white\", \"showbackground\": true, \"ticks\": \"\", \"zerolinecolor\": \"white\"}, \"yaxis\": {\"backgroundcolor\": \"#E5ECF6\", \"gridcolor\": \"white\", \"gridwidth\": 2, \"linecolor\": \"white\", \"showbackground\": true, \"ticks\": \"\", \"zerolinecolor\": \"white\"}, \"zaxis\": {\"backgroundcolor\": \"#E5ECF6\", \"gridcolor\": \"white\", \"gridwidth\": 2, \"linecolor\": \"white\", \"showbackground\": true, \"ticks\": \"\", \"zerolinecolor\": \"white\"}}, \"shapedefaults\": {\"line\": {\"color\": \"#2a3f5f\"}}, \"ternary\": {\"aaxis\": {\"gridcolor\": \"white\", \"linecolor\": \"white\", \"ticks\": \"\"}, \"baxis\": {\"gridcolor\": \"white\", \"linecolor\": \"white\", \"ticks\": \"\"}, \"bgcolor\": \"#E5ECF6\", \"caxis\": {\"gridcolor\": \"white\", \"linecolor\": \"white\", \"ticks\": \"\"}}, \"title\": {\"x\": 0.05}, \"xaxis\": {\"automargin\": true, \"gridcolor\": \"white\", \"linecolor\": \"white\", \"ticks\": \"\", \"title\": {\"standoff\": 15}, \"zerolinecolor\": \"white\", \"zerolinewidth\": 2}, \"yaxis\": {\"automargin\": true, \"gridcolor\": \"white\", \"linecolor\": \"white\", \"ticks\": \"\", \"title\": {\"standoff\": 15}, \"zerolinecolor\": \"white\", \"zerolinewidth\": 2}}}, \"title\": {\"text\": \"PCA\"}, \"xaxis\": {\"anchor\": \"y\", \"domain\": [0.0, 1.0], \"title\": {\"text\": \"PC 1\"}}, \"yaxis\": {\"anchor\": \"x\", \"domain\": [0.0, 1.0], \"title\": {\"text\": \"PC 2\"}}},                        {\"responsive\": true}                    ).then(function(){\n",
       "                            \n",
       "var gd = document.getElementById('dccb8466-1b85-4d9b-b90d-a427d3c66d17');\n",
       "var x = new MutationObserver(function (mutations, observer) {{\n",
       "        var display = window.getComputedStyle(gd).display;\n",
       "        if (!display || display === 'none') {{\n",
       "            console.log([gd, 'removed!']);\n",
       "            Plotly.purge(gd);\n",
       "            observer.disconnect();\n",
       "        }}\n",
       "}});\n",
       "\n",
       "// Listen for the removal of the full notebook cells\n",
       "var notebookContainer = gd.closest('#notebook-container');\n",
       "if (notebookContainer) {{\n",
       "    x.observe(notebookContainer, {childList: true});\n",
       "}}\n",
       "\n",
       "// Listen for the clearing of the current output cell\n",
       "var outputEl = gd.closest('.output');\n",
       "if (outputEl) {{\n",
       "    x.observe(outputEl, {childList: true});\n",
       "}}\n",
       "\n",
       "                        })                };                });            </script>        </div>"
      ]
     },
     "metadata": {},
     "output_type": "display_data"
    }
   ],
   "source": [
    "paths = ['Extracted Characters/Mi Fu - Poem Written in a Boat on the Wu River/',\n",
    "         'Extracted Characters/Emperor Huizong - Finches and bamboo/',\n",
    "         'Extracted Characters/Su Shi - Inscription of Hanshi/',\n",
    "         'Extracted Characters/WangXiZhi - On the Seventeenth Day/',\n",
    "         'Extracted Characters/Mi Fu - On Cursive Calligraphy/']\n",
    "label_list = ['Mi Fu (Wu River)',\n",
    "             'Huizong',\n",
    "             'Su Shi',\n",
    "             'WangXiZhi',\n",
    "             'Mi Fu (On Cursive Calligraphy)']\n",
    "invert_list = [True,\n",
    "              True,\n",
    "              True,\n",
    "              False,\n",
    "              True]\n",
    "\n",
    "# Construct labeled dataset of contour angle histograms\n",
    "X_list = []\n",
    "labels = []\n",
    "for i, path in enumerate(paths):\n",
    "    label = label_list[i]\n",
    "    invert = invert_list[i]\n",
    "    if invert:\n",
    "        X = analyze_images_in_path(path, invert=True)\n",
    "    else:\n",
    "        X = analyze_images_in_path(path, invert=False)\n",
    "    plot_mu_and_K(X, title=f'{label} ({X.shape[1]} images)', filename=f'Test/mu+K_{label.replace(\" \", \"\")}.png')\n",
    "    X_list.append(X)\n",
    "    labels += [label] * X.shape[1]\n",
    "    \n",
    "X_total =  np.vstack([X.T for X in X_list])\n",
    "\n",
    "# Perform PCA\n",
    "pca = PCA(n_components=2)\n",
    "components = pca.fit_transform(X_total)\n",
    "print(f'# of datapoints: {len(components)}')\n",
    "print(f'len(labels) = {len(labels)}')\n",
    "assert(len(labels) == len(components))\n",
    "total_var = pca.explained_variance_ratio_.sum() * 100\n",
    "print('Total explained variance = {:0.2f}%'.format(total_var))\n",
    "\n",
    "# Plot results with Plotly\n",
    "fig = px.scatter(components, x=0, y=1, color=labels)\n",
    "fig.update_layout(\n",
    "    title=\"PCA\",\n",
    "    xaxis_title=\"PC 1\",\n",
    "    yaxis_title=\"PC 2\",\n",
    "    legend_title=\"Class\",\n",
    "    font=dict(\n",
    "        family=\"Courier New, monospace\",\n",
    "        size=18,\n",
    "        color=\"RebeccaPurple\"\n",
    "    )\n",
    ")\n",
    "fig.show()\n",
    "fig.write_image('Test/PCA_Plotly_5.png')"
   ]
  },
  {
   "cell_type": "code",
   "execution_count": 58,
   "id": "married-clause",
   "metadata": {},
   "outputs": [
    {
     "data": {
      "application/vnd.plotly.v1+json": {
       "config": {
        "plotlyServerURL": "https://plot.ly"
       },
       "data": [
        {
         "hovertemplate": "color=Mi Fu (Wu River)<br>PC 1=%{x}<br>PC 2=%{y}<br>PC 3=%{z}<br>size=%{marker.size}<extra></extra>",
         "legendgroup": "Mi Fu (Wu River)",
         "marker": {
          "color": "#636efa",
          "size": [
           0.001,
           0.001,
           0.001,
           0.001,
           0.001,
           0.001,
           0.001,
           0.001,
           0.001,
           0.001,
           0.001,
           0.001,
           0.001,
           0.001,
           0.001,
           0.001,
           0.001,
           0.001,
           0.001,
           0.001,
           0.001,
           0.001,
           0.001,
           0.001,
           0.001,
           0.001,
           0.001,
           0.001,
           0.001,
           0.001,
           0.001,
           0.001,
           0.001,
           0.001,
           0.001,
           0.001,
           0.001,
           0.001,
           0.001,
           0.001,
           0.001,
           0.001,
           0.001,
           0.001,
           0.001,
           0.001,
           0.001,
           0.001,
           0.001,
           0.001,
           0.001,
           0.001,
           0.001,
           0.001,
           0.001,
           0.001,
           0.001,
           0.001,
           0.001,
           0.001,
           0.001,
           0.001,
           0.001,
           0.001,
           0.001,
           0.001,
           0.001,
           0.001,
           0.001,
           0.001,
           0.001,
           0.001,
           0.001,
           0.001,
           0.001,
           0.001,
           0.001,
           0.001,
           0.001,
           0.001,
           0.001,
           0.001,
           0.001,
           0.001,
           0.001,
           0.001,
           0.001,
           0.001,
           0.001,
           0.001,
           0.001
          ],
          "sizemode": "area",
          "sizeref": 2.5e-06,
          "symbol": "circle"
         },
         "mode": "markers",
         "name": "Mi Fu (Wu River)",
         "scene": "scene",
         "showlegend": true,
         "type": "scatter3d",
         "x": [
          -0.03583749924438383,
          -0.08530072696229386,
          0.03179992814110848,
          -0.0462048398520141,
          -0.00662589012765505,
          -0.028691924298985715,
          -0.014096134571719649,
          0.0006379414864818198,
          -0.0735198016792829,
          -0.09306587221177916,
          -0.04275339916844814,
          -0.04654797097301047,
          -0.052995450358213,
          -0.023958440922224277,
          0.053770835722751806,
          -0.05741497641783599,
          0.07766088453778368,
          -0.08619135258131119,
          -0.03209089419228452,
          -0.07982399624927841,
          -0.05700047139964406,
          -0.0366778363893874,
          -0.013537454219824004,
          -0.06362948735752355,
          -0.02743997170395118,
          -0.02134630698197029,
          -0.06026527229120976,
          0.034079369181244275,
          -0.0753570321460514,
          -0.05594302397474567,
          -0.056745123860030035,
          -0.06731374628276338,
          -0.031190357928843445,
          -0.07567419043900286,
          -0.07115136891417703,
          -0.041699587984634516,
          0.03222022951551064,
          0.027030230044997154,
          0.016777844316963275,
          -0.002558378186235947,
          -0.029178245277111447,
          -0.008752506315626225,
          -0.06205831068085808,
          -0.15313712470559943,
          0.10751678933476862,
          0.0034115508577777526,
          0.06779173589521136,
          -0.10652193028692708,
          -0.09938785412712846,
          -0.0674817144351528,
          -0.007488599501929948,
          -0.14479783582365052,
          -0.0758333672244601,
          0.00469345503674247,
          -0.030070565279688356,
          0.0477758996582358,
          -0.15822422081070545,
          -0.12483666608031435,
          0.008086087542619143,
          0.03583510914418731,
          -0.07128185722141281,
          -0.019073727031899825,
          0.04108107706308096,
          0.04701675338318641,
          -0.022652507502849806,
          -0.0748423088290476,
          -0.13023250915968282,
          -0.0716681801443647,
          0.02607415083209076,
          -0.06902779339118094,
          0.2820571369723137,
          -0.08752635727006569,
          0.016964453245108875,
          -0.052460689293795666,
          -0.0021158049109024943,
          -0.014080050309785859,
          -0.07355000250446467,
          -0.054007061870647965,
          -0.0020835310285142014,
          0.030256366031783163,
          0.007234836152243188,
          -0.1268918021092648,
          -0.116548532054197,
          -0.031912600667137345,
          -0.011317491641949184,
          -0.1049730207749619,
          0.05453609691773244,
          -0.21317676720904027,
          -0.17057444853603748,
          -0.04604701193238005,
          0.052464458859855595
         ],
         "y": [
          0.031316307333449894,
          0.06189609524847057,
          -0.047751833779149856,
          -0.001606986642956773,
          0.009816446884956477,
          -0.003838460088938734,
          -0.0394387311952412,
          -0.00857269570920815,
          0.04039341815541813,
          0.03369084405370174,
          0.037811214102312855,
          -0.0006186773912707586,
          -0.014583427525298742,
          0.052032998065771,
          -0.03134371815916847,
          -0.026886022898828636,
          -0.031032382252537002,
          -0.018123116583434726,
          0.06368096368153646,
          -0.026503976902382393,
          0.00031492320187901225,
          0.0035258387769173992,
          -0.03491084745775478,
          0.023213442770312325,
          -0.032532442598496435,
          0.021211977783168388,
          -0.013722106537817646,
          0.0007632243607293953,
          -0.0008746142466988663,
          0.040898753531079385,
          -0.007976392941335697,
          0.010153599563362224,
          0.006020987199815517,
          0.07107074121107221,
          -0.12185973494782366,
          -0.01678839450688453,
          -0.009428885466116112,
          0.015739228759546253,
          0.04239758947529168,
          -0.03299520825230964,
          0.027474226733675486,
          -0.05491365719285173,
          -0.03173720080539532,
          0.03245471718983331,
          0.01892586480302316,
          0.0185967694054151,
          0.036633045441837056,
          -0.04135262016680572,
          -0.08010142303230901,
          -0.03267547190749087,
          0.029783866182964042,
          0.04810404838556004,
          -0.04350715217057567,
          -0.08839065068804618,
          0.007269696289325148,
          0.04313527007757528,
          -0.04897377492294644,
          -0.09051356406588261,
          -0.03564149114044359,
          -0.00364676357810255,
          0.025055044035545808,
          0.017330412817870493,
          -0.05504508983602969,
          -0.05011149549691209,
          0.043833595291401906,
          -0.06815164802852418,
          -0.01353749632158323,
          -0.07905759618794302,
          -0.04078733120400956,
          -0.014896275820427202,
          0.0980843521333747,
          0.047895054878824485,
          -0.021059258071904195,
          -0.0006964463193982875,
          0.01722335174700265,
          -0.07149124719581047,
          -0.012127544770793785,
          0.0275690715578242,
          0.03729178194689179,
          0.014354929227128728,
          0.0013886089691132733,
          0.00015668213588165432,
          0.02159612691327279,
          -0.10180016329070785,
          -0.10904198666125363,
          0.005752738035715597,
          -0.05286620862185881,
          0.05344846322673121,
          -0.02424398268613486,
          -0.04593936153110695,
          -0.04307433958952909
         ],
         "z": [
          0.04230821726614468,
          -0.0006665606812723001,
          -0.04408010497195941,
          -0.006934985717676011,
          -0.0280270041583799,
          -0.0029326060009380425,
          -0.015730318356432477,
          -0.03201273006998665,
          -0.012161698333906986,
          -0.009828877818287894,
          -0.012720022988442343,
          -0.0246540277610196,
          -0.028434338961060193,
          -0.006693488383398382,
          -0.04763373808238543,
          -0.029134544605380407,
          -0.03776401101310404,
          0.0003963078957995219,
          0.10173923608248993,
          0.009958273603934887,
          0.02832438074917302,
          -0.001744661352264645,
          -0.023374719374640206,
          -0.016177901977960436,
          -0.01752275582789375,
          0.009263483884850909,
          -0.0039132569872463155,
          -0.03009207470504923,
          0.030494210617803018,
          -0.016259587700932915,
          0.0335204057322997,
          0.016100590068921315,
          0.00976162714950892,
          0.01882079077648602,
          0.024550590507644604,
          0.021828650940160038,
          0.06583874383273354,
          0.028586201887980115,
          -0.09952106261750315,
          0.04823998974174159,
          0.010956545799901343,
          -0.0009739129201944204,
          0.029141340621428174,
          -0.019419920446437356,
          -0.06737055265232697,
          0.004011903802060156,
          0.06659011097674596,
          0.008560064986988618,
          -0.02374042949591795,
          0.03311231064852006,
          0.054016335140936435,
          -0.029676993894267367,
          0.02831187425422921,
          -0.0009651959738861763,
          0.011820540663670108,
          0.04233977799834486,
          -0.020972334969553405,
          -0.013410366334746002,
          0.0868208549816263,
          0.03952142847307162,
          -0.017113898517146765,
          0.06586555093250754,
          0.08117047944550794,
          -0.010314673006941262,
          -0.057998066462039866,
          -0.03162058477583059,
          -0.03571779604697688,
          0.03358734962809767,
          -0.004483070021989678,
          -0.04956718329078799,
          -0.06289321334746141,
          -0.008516072329210887,
          -0.00557822776134929,
          0.025072174600417135,
          -0.004228496087217674,
          -0.03705533945023075,
          0.030755450679458254,
          0.050682775697618136,
          -0.014880137558445973,
          0.009703608606585397,
          0.006360801504958493,
          -0.027449604920160485,
          -0.022925285782990086,
          -0.02460883971637551,
          -0.01638096371360408,
          -0.004992374619958955,
          -0.026816166897401832,
          -0.033590894387496455,
          -0.02337119056701268,
          -0.01620678885223774,
          -0.01720524332836755
         ]
        },
        {
         "hovertemplate": "color=Huizong<br>PC 1=%{x}<br>PC 2=%{y}<br>PC 3=%{z}<br>size=%{marker.size}<extra></extra>",
         "legendgroup": "Huizong",
         "marker": {
          "color": "#EF553B",
          "size": [
           0.001,
           0.001,
           0.001,
           0.001,
           0.001,
           0.001,
           0.001,
           0.001,
           0.001,
           0.001,
           0.001,
           0.001,
           0.001,
           0.001,
           0.001,
           0.001,
           0.001,
           0.001,
           0.001,
           0.001,
           0.001,
           0.001,
           0.001,
           0.001,
           0.001,
           0.001,
           0.001,
           0.001,
           0.001,
           0.001,
           0.001,
           0.001,
           0.001,
           0.001,
           0.001,
           0.001,
           0.001,
           0.001,
           0.001,
           0.001,
           0.001,
           0.001,
           0.001,
           0.001,
           0.001,
           0.001,
           0.001,
           0.001,
           0.001,
           0.001,
           0.001,
           0.001,
           0.001,
           0.001,
           0.001,
           0.001,
           0.001,
           0.001,
           0.001,
           0.001,
           0.001,
           0.001,
           0.001
          ],
          "sizemode": "area",
          "sizeref": 2.5e-06,
          "symbol": "circle"
         },
         "mode": "markers",
         "name": "Huizong",
         "scene": "scene",
         "showlegend": true,
         "type": "scatter3d",
         "x": [
          0.017661165133708228,
          0.09766782329364311,
          0.015724097029812936,
          -0.10884294241120335,
          0.12278034558174987,
          -0.014042146885541227,
          -0.0034564647778877427,
          -0.09794174889668802,
          -0.030522361039967725,
          0.05698294348535679,
          0.020851236508393843,
          0.034578623445561556,
          -0.048428223861567976,
          -0.038398077643466005,
          0.032589814930957084,
          -0.025901229929626395,
          0.20982553615311844,
          -0.055621405022245746,
          0.1149673854272353,
          0.03605526112493509,
          -0.0335453356023233,
          0.06147397457113921,
          0.003174822808725278,
          -0.002260602437072762,
          0.06242765524682177,
          0.08893047377423716,
          0.03318015297473503,
          0.03796580298885479,
          -0.033004716718875775,
          -0.018790769781536768,
          0.08089083516019549,
          -0.024492971007423425,
          -0.014064736937239409,
          -0.06278491701882116,
          0.02522270096487955,
          -0.03630703625401002,
          0.07668538844454198,
          0.031392424149773626,
          -0.06693366237061255,
          -0.052843290962262764,
          0.12527919192001574,
          -0.04343541561762417,
          0.01307595638466008,
          -0.0827028404029129,
          0.06563279326482603,
          0.05951752019821333,
          0.05163862216508792,
          0.052616008864649795,
          0.03079572128687324,
          0.013112040466306867,
          0.028343070489132063,
          0.018383878195690016,
          0.04651247877632275,
          -0.12611524987242848,
          0.012751731559232957,
          0.04436986210629862,
          0.07150597522619126,
          0.10530764404557898,
          -0.024294522098525062,
          0.014027690248415723,
          -0.0853223888963392,
          -0.040901044845154014,
          0.04256645518854364
         ],
         "y": [
          0.0466856858664934,
          -0.011976470323188047,
          0.037030812618659495,
          0.035194175502547886,
          0.01810178647287405,
          0.0005803771844279446,
          0.055131233584795325,
          0.017305710533709932,
          0.00010368239903824891,
          0.03418761560225804,
          0.003910511100307365,
          -0.027150745626273787,
          0.017877186685423846,
          -0.01853437102719363,
          -0.019511024347221424,
          0.02816683635526243,
          0.042790385562296036,
          -0.053361151568230354,
          -0.01566639774721529,
          0.01779594267036057,
          0.04975847258276112,
          -0.013425001191505206,
          0.03870287188235765,
          -0.027413475522468957,
          -0.02867880015581646,
          0.026701397526977085,
          0.01358891940553276,
          0.00016780236403478367,
          0.03145869415497621,
          0.03353778089316112,
          -0.02858678113708184,
          -0.025001373165400617,
          0.02423373477188241,
          -0.048385645016752764,
          0.010507989947592554,
          0.05608890995367191,
          0.003370976276894661,
          -0.056268686505895116,
          0.059474972788551086,
          0.03932992647672544,
          0.013140386744104534,
          -0.027873358385267902,
          -0.016506919100535342,
          0.0761830060875104,
          -0.03089315220269957,
          0.07057114343254048,
          -0.03574692406064298,
          -0.027689638450740073,
          0.07604123847031224,
          0.03165869520459188,
          -0.021549041802653424,
          0.0007159321874373965,
          0.03355419183055545,
          0.09259870213989037,
          0.009972302738654617,
          -0.005703108158620318,
          0.027111159690100625,
          -0.029091876418308734,
          0.06355483244110256,
          -0.03401976868877638,
          0.013615972879538195,
          0.045743178547418495,
          0.035681285490002414
         ],
         "z": [
          0.02827211117307571,
          -0.013724509232662626,
          0.04033414233749762,
          -0.0018880111699087708,
          0.03184238676205274,
          0.006177882590721519,
          -0.006154353867651025,
          -0.022945926348182523,
          0.03135534023660262,
          -0.0330931582606824,
          -0.007239644558686243,
          -0.04366925963109743,
          0.0013054538723452109,
          0.017105286295537703,
          -0.03649604344887775,
          -0.02051870591714609,
          -0.011340147617525885,
          0.003240332135051717,
          -0.024508963088749898,
          0.03361602019156132,
          0.016512041698170096,
          -0.011251835315270171,
          0.0152250141292381,
          -0.01256600010570654,
          -0.033155588991205485,
          0.058776416571321585,
          0.018965322954737858,
          -0.015055023956324886,
          0.019802539918449543,
          0.030512342609476755,
          0.09025601739702178,
          -0.01710753173593732,
          -0.02123593852584329,
          8.92600365303514e-05,
          0.029277436309630107,
          -0.0030985620656318754,
          0.015056573386771067,
          0.002104911697855332,
          -0.0007580443467288566,
          -0.007721321884713758,
          -0.04826701529514186,
          0.014600704789905886,
          -0.020560671252802355,
          -0.01555451936824421,
          -0.047920851055258944,
          -0.010342236584351254,
          0.0078092261668155005,
          0.000314724185119155,
          0.03926341982885723,
          -0.0054801868412908674,
          -0.013320272417932426,
          0.013410649288670654,
          0.00589994537090465,
          0.011709198700926723,
          0.046654825899816385,
          0.007927394774691706,
          -0.03341406570740511,
          0.08468706218829028,
          -8.693835349288588e-05,
          -0.008918323495594026,
          -0.03136541611054595,
          -0.030025618026289173,
          -0.04002709701692516
         ]
        },
        {
         "hovertemplate": "color=Su Shi<br>PC 1=%{x}<br>PC 2=%{y}<br>PC 3=%{z}<br>size=%{marker.size}<extra></extra>",
         "legendgroup": "Su Shi",
         "marker": {
          "color": "#00cc96",
          "size": [
           0.001,
           0.001,
           0.001,
           0.001,
           0.001,
           0.001,
           0.001,
           0.001,
           0.001,
           0.001,
           0.001,
           0.001,
           0.001,
           0.001,
           0.001,
           0.001,
           0.001,
           0.001,
           0.001,
           0.001,
           0.001,
           0.001,
           0.001,
           0.001,
           0.001,
           0.001,
           0.001,
           0.001,
           0.001,
           0.001,
           0.001,
           0.001,
           0.001,
           0.001,
           0.001,
           0.001,
           0.001,
           0.001,
           0.001,
           0.001,
           0.001,
           0.001,
           0.001,
           0.001,
           0.001,
           0.001,
           0.001,
           0.001,
           0.001,
           0.001,
           0.001,
           0.001,
           0.001,
           0.001,
           0.001,
           0.001,
           0.001,
           0.001,
           0.001,
           0.001,
           0.001,
           0.001,
           0.001,
           0.001,
           0.001,
           0.001,
           0.001,
           0.001,
           0.001,
           0.001,
           0.001,
           0.001,
           0.001,
           0.001,
           0.001,
           0.001,
           0.001,
           0.001,
           0.001,
           0.001,
           0.001,
           0.001,
           0.001,
           0.001,
           0.001,
           0.001,
           0.001,
           0.001,
           0.001,
           0.001,
           0.001,
           0.001,
           0.001,
           0.001,
           0.001,
           0.001,
           0.001,
           0.001,
           0.001,
           0.001,
           0.001,
           0.001,
           0.001,
           0.001,
           0.001,
           0.001,
           0.001,
           0.001,
           0.001,
           0.001,
           0.001,
           0.001,
           0.001,
           0.001,
           0.001,
           0.001,
           0.001,
           0.001,
           0.001
          ],
          "sizemode": "area",
          "sizeref": 2.5e-06,
          "symbol": "circle"
         },
         "mode": "markers",
         "name": "Su Shi",
         "scene": "scene",
         "showlegend": true,
         "type": "scatter3d",
         "x": [
          -0.11117346380856949,
          0.01067016564401862,
          0.04489471331655683,
          0.03468628332254741,
          -0.17432216381412685,
          0.002754085400025542,
          0.005124749521602094,
          0.1907949669717646,
          0.18969250560115924,
          0.10242714280023915,
          -0.01647976513496724,
          -0.07510590617216133,
          0.043467796835372344,
          0.06957864446383662,
          0.05052379247625757,
          0.07964901459249515,
          0.07238848158617435,
          -0.07435918194042387,
          0.11131890940257366,
          0.06560977851559778,
          -0.023752354368120086,
          0.04079733042649356,
          -0.18880792139086516,
          0.0815100519078671,
          0.07712653722025199,
          -0.12172090820979452,
          -0.12010848748882866,
          -0.08768292359934324,
          0.04862200604796071,
          0.030979979043456393,
          -0.045080203348525104,
          0.0011130016931659185,
          0.06285034382856756,
          0.12626645276950232,
          0.07446411057379028,
          -0.12115287815507125,
          -0.21211033662403117,
          -0.13597893472581593,
          0.010128861740652998,
          0.06675167806460408,
          0.05792353233154842,
          0.026030952218138406,
          0.08050992472745488,
          -0.09152702854264662,
          -0.06304015965762734,
          -0.04267174863593788,
          -0.008022356562484635,
          0.09718067346146445,
          -0.05639119861835448,
          -0.006339131774466663,
          0.011326361901530536,
          -0.06646513867224643,
          0.10940196831248415,
          -0.07362523701423426,
          -0.043802893670513446,
          0.04014543037743317,
          -0.0025235465684807106,
          0.0007492977304986663,
          0.11335400828005425,
          -0.024123690001813424,
          -0.06857520473196543,
          0.06456459216662304,
          0.049730628047152454,
          0.09761097634821217,
          -0.05105920435694574,
          -0.006526390385775608,
          0.06674063386475343,
          0.02245180202904149,
          -0.03490879446724266,
          -0.01905878254529949,
          0.00291678421348838,
          -0.017520394067150252,
          0.12284033829920929,
          0.08947617925970369,
          0.09226839857699913,
          0.052903798269851726,
          0.14386300580467734,
          0.06501515570591464,
          -0.006976845503869725,
          0.029303794942266547,
          0.0033029946250063354,
          -0.04631925549998481,
          -0.029093043131375996,
          -0.037082670489297725,
          0.04822493684654433,
          0.0764108492596536,
          0.11168207581301522,
          -0.08200431532183411,
          -0.0029529506182143185,
          -0.11069996629232691,
          0.06998859373961323,
          -0.06074328684109357,
          -0.14608825406281045,
          0.08184491089706608,
          -0.12275154322802373,
          0.0013019981869702019,
          0.0876182514523059,
          0.1357221872065247,
          0.04913309038549027,
          0.0899600217642799,
          -0.008821237132001763,
          0.1305022493113756,
          0.046246200730317474,
          0.07464930910502952,
          0.03248175013298764,
          -0.022369040997707097,
          0.0018316788172208884,
          -0.007181473441827215,
          0.02487788550832218,
          0.01747268961963934,
          0.06448233123194752,
          0.09276195667541938,
          0.049593258934667026,
          0.0287006475000536,
          -0.16986867234564598,
          0.0711064072396798,
          -0.03688535530385629,
          0.2088025879491894,
          0.006818251722246553
         ],
         "y": [
          0.05363133916778671,
          0.005864218687757101,
          -0.00972197385907075,
          -0.07427001906513937,
          0.03140030292131652,
          -0.004307249484189983,
          0.04505836826362521,
          0.056053830001261296,
          0.06034544248593991,
          0.02479018559571504,
          -0.08668013277013627,
          -0.008123463433278856,
          0.00914054798163555,
          0.025952336999743114,
          0.0066796050050387705,
          0.03196621712057719,
          -0.0036613283521995436,
          0.037132406268043976,
          0.029433899730244895,
          0.0017557411212835554,
          0.04967694027858173,
          0.020409060130194896,
          0.038470230940963156,
          0.015755961698477074,
          -0.015046595215979222,
          0.012824848727619763,
          0.059682778519511225,
          -0.03025984761874815,
          0.0327879191086867,
          -0.0547529438719656,
          -0.049842872807255606,
          -0.023007963016687918,
          0.02272375966341466,
          0.0769474348640593,
          0.011727662063590097,
          0.018660609904254305,
          0.12917668021194184,
          0.02816121602806935,
          -0.0040750889288615625,
          -0.08092975077303807,
          -0.010803483566991057,
          0.05142131494735907,
          0.01904479688481067,
          0.006276710644844074,
          -0.0757266340941438,
          -0.07116189497467404,
          -0.06322174079037364,
          -0.021386167685937114,
          0.0013866355962586835,
          0.027481644579500555,
          0.03321761933508938,
          -0.02878881725277371,
          -0.00958307196684402,
          -0.05052514079041247,
          -0.03793340594375437,
          -0.02618286820288638,
          -0.017470789587130484,
          -0.13070474871780963,
          -0.0255441567119527,
          0.02916182074677887,
          -0.0227809093007866,
          0.06273759160720146,
          -0.017771830269343317,
          0.04305965649624931,
          0.04675762227343938,
          0.04778500637322613,
          -0.02858467867510666,
          -0.053435456546606176,
          -0.06800353615658278,
          0.04779973690972164,
          -0.020287438238426155,
          0.01532834392275201,
          0.0006334846775694478,
          -0.012803654713957084,
          0.03192922199819691,
          -0.04453992265573183,
          0.03532487319762724,
          0.025219572730409708,
          -0.04562232047564066,
          0.034090434690728574,
          -0.02115488262734644,
          -0.027377036796654625,
          0.04244203333143476,
          0.014320038942320224,
          -0.05045841168476528,
          0.02680769696579104,
          0.02068173371396383,
          -0.04660504835608738,
          -0.07080250925018379,
          0.010638401809025012,
          0.011356138112632579,
          -0.10558166926498876,
          0.0628953519029158,
          -0.044937463817613585,
          0.049880574531461434,
          -0.016602585078733266,
          -0.047116217117406954,
          0.013356086049701312,
          -0.02620680332093858,
          -0.03909132991475506,
          -0.07107068357490182,
          -0.05326574833248422,
          -0.024112649672569646,
          0.08483413683008417,
          0.005448382626221189,
          -0.0007193605598451305,
          0.001337759128071046,
          -0.03722348800719262,
          -0.035275288884392034,
          -0.012025705670847146,
          0.03897694545815105,
          0.011205596666880462,
          -0.0021611265172724915,
          -0.019338288611010727,
          0.005569723257407899,
          0.008803012132218735,
          -0.03867916488201153,
          0.04254729640929377,
          -0.0187959630161877
         ],
         "z": [
          -0.03224300618723179,
          -0.035993984578914465,
          0.017168758339489144,
          0.01299213903276843,
          -0.026418507774943555,
          0.0012781495874522133,
          0.021310895073408952,
          -0.004754201235932538,
          0.006794104424251517,
          -0.004604068172897765,
          0.02664757576483005,
          -0.025574957472161538,
          0.015505966872041976,
          -0.01725858676436942,
          -0.019489101791383124,
          0.019675945111432575,
          0.018729214690494742,
          -0.036943778694666064,
          0.028737189007767637,
          -0.028811072107265585,
          -0.040134884218403485,
          0.008599336467698029,
          -0.009961566612348973,
          -0.014081379322271227,
          -0.009165287313604172,
          0.007114591990760477,
          0.0011771593862291492,
          0.011555777749482547,
          -0.01355002949218711,
          -0.046437374597636645,
          0.012467984186389735,
          -0.003685299977065394,
          0.009121366255360044,
          0.04356911906878275,
          -0.03252088230448988,
          -0.021644585899179378,
          -0.09615256351895975,
          0.032931477929232775,
          0.0017146929864561157,
          -0.027957316291788218,
          0.013862581639933688,
          -0.006397508013349502,
          -0.062197991478969004,
          -0.04581445029300174,
          0.0008816709224946879,
          0.02040868859022735,
          -0.006593920616042419,
          -0.057004358644190886,
          -0.0686064912029174,
          -0.05891614652712905,
          0.014188393918900985,
          -0.030182650293257344,
          -0.022290071962937346,
          -0.0018271451391374002,
          0.006305601033991824,
          0.05693171450460442,
          -0.011438332198910025,
          0.027576840127921175,
          0.03134128812285607,
          -0.02525138961961767,
          0.011698866886095137,
          0.025660040482908205,
          0.010176619599939157,
          0.04458324227069623,
          0.0044639714973811855,
          0.01620694150473979,
          0.0042153941834280366,
          0.0054362416168847886,
          -0.004732182660874016,
          -0.007354937224961148,
          -0.019398347883262036,
          0.05205645676260962,
          -0.07226275732389427,
          -0.0092600081545761,
          -0.0317059720374023,
          0.000574042652946197,
          -0.012927941767228158,
          0.020784059394663917,
          0.050774884340590874,
          -0.05167071897986857,
          -0.013820119567687255,
          -0.017603161279401813,
          -0.07285337877895993,
          -0.013111177367915115,
          0.010287549337311745,
          -0.049847025290962806,
          -0.006436367893579563,
          0.044042621939523616,
          -0.00504082905526379,
          -0.0069086842907090966,
          -0.02367237060856003,
          -0.01100120934821716,
          -0.04386009306118032,
          -0.0014387540275513538,
          -0.019638340748062887,
          0.020988308506689837,
          -0.027387789870616228,
          -0.0827842068479283,
          -0.010177313049912077,
          -0.009573718819830134,
          -0.003713150334054158,
          -0.0183432004766174,
          0.0043144234353730895,
          0.011052292107813057,
          0.011140732624046279,
          0.06826850052928775,
          -0.04123029813460352,
          0.027468255590797998,
          0.022297118356579725,
          0.04889840936057561,
          0.025731688726021894,
          -0.02173650476571129,
          -0.028178955989872256,
          -0.0019139942877152373,
          -0.004476772334116049,
          -0.019188515142873484,
          0.00879148652060322,
          -0.060540939837460624,
          -0.03232300325418664
         ]
        },
        {
         "hovertemplate": "color=WangXiZhi<br>PC 1=%{x}<br>PC 2=%{y}<br>PC 3=%{z}<br>size=%{marker.size}<extra></extra>",
         "legendgroup": "WangXiZhi",
         "marker": {
          "color": "#ab63fa",
          "size": [
           0.001,
           0.001,
           0.001,
           0.001,
           0.001,
           0.001,
           0.001,
           0.001,
           0.001,
           0.001,
           0.001,
           0.001,
           0.001,
           0.001,
           0.001,
           0.001,
           0.001,
           0.001,
           0.001,
           0.001,
           0.001,
           0.001,
           0.001,
           0.001,
           0.001,
           0.001,
           0.001,
           0.001,
           0.001,
           0.001,
           0.001,
           0.001,
           0.001,
           0.001,
           0.001,
           0.001,
           0.001,
           0.001,
           0.001,
           0.001,
           0.001,
           0.001,
           0.001,
           0.001,
           0.001,
           0.001,
           0.001,
           0.001,
           0.001,
           0.001,
           0.001,
           0.001,
           0.001,
           0.001,
           0.001,
           0.001,
           0.001,
           0.001,
           0.001,
           0.001,
           0.001,
           0.001,
           0.001,
           0.001,
           0.001,
           0.001,
           0.001,
           0.001,
           0.001,
           0.001,
           0.001,
           0.001,
           0.001,
           0.001,
           0.001,
           0.001,
           0.001,
           0.001,
           0.001,
           0.001,
           0.001,
           0.001,
           0.001,
           0.001,
           0.001,
           0.001,
           0.001,
           0.001,
           0.001,
           0.001,
           0.001,
           0.001,
           0.001,
           0.001,
           0.001
          ],
          "sizemode": "area",
          "sizeref": 2.5e-06,
          "symbol": "circle"
         },
         "mode": "markers",
         "name": "WangXiZhi",
         "scene": "scene",
         "showlegend": true,
         "type": "scatter3d",
         "x": [
          0.0683067357246786,
          -0.05117037941944411,
          -0.01338092227766332,
          0.02318327396648008,
          -0.00043163152028431094,
          -0.005204973013517759,
          -0.011679806984217847,
          -0.0065526046986306916,
          0.05506077265783144,
          0.01700624725137813,
          0.01326606628067304,
          0.011651228886084726,
          0.07426903173479324,
          0.024959071489836414,
          -0.08596706017788114,
          -0.04151471436822484,
          -0.16225065932057708,
          -0.035895822082826156,
          0.04165924954126278,
          0.019337689595094274,
          -0.020404741377994383,
          0.036360764860679434,
          0.0013708913480936027,
          0.01089609940869512,
          0.09834162112452997,
          -0.04627055567380039,
          -0.024139243522774193,
          -0.04620948641275952,
          0.012977795630571184,
          -0.15200892264421784,
          0.09048445176333038,
          -0.0748144688012264,
          -0.0027245940102492076,
          -0.02714605257505114,
          0.05127476785258574,
          0.0013096695593702405,
          -0.036027686293524694,
          -0.06506647778574327,
          0.015390228595190885,
          -0.0021841012637800142,
          0.009022528250648459,
          0.08872056792021911,
          0.07911553686658843,
          0.07683309492100128,
          0.012008650438966383,
          -0.07540913813416691,
          -0.036429312874494704,
          -0.060066377013803185,
          -0.030423456650563185,
          0.042903821863046344,
          0.043680852361874224,
          -0.029307426854518728,
          -0.04904940684565638,
          -0.042075051710391,
          -0.08116876596643596,
          0.04182646764490894,
          -0.034915740143130106,
          -0.017893201194604132,
          0.2203149880267937,
          0.09069489962627404,
          -0.03184870137602781,
          0.11971684786588209,
          -0.061895765344515304,
          -0.013502532817164604,
          0.0021198758227139467,
          0.013945320821822099,
          -0.06733961072062877,
          0.04776659173878243,
          -0.05265795755608439,
          -0.0681900831771014,
          0.07826213347051299,
          0.19321869742172965,
          0.039070049304403,
          -0.04069300536315665,
          -0.032428617612448266,
          -0.0289977420582019,
          -0.018484969334661226,
          0.03111124514408533,
          -0.0022096194571305447,
          -0.19993236254430063,
          0.18202430525883015,
          0.030479090989687634,
          -0.06112263785949471,
          -0.0164396117648907,
          0.008450159559748434,
          -0.04650387843727896,
          -0.02513553736640959,
          0.11901929188418837,
          -0.14044444988228708,
          0.06984291379848089,
          -0.028633563956004963,
          -0.01882475105191517,
          -0.06707055595776887,
          0.032902696237544736,
          -0.026397611305992802
         ],
         "y": [
          -0.05153354260481288,
          0.11477222633094525,
          0.0761610216289528,
          -0.0416639666270893,
          0.03564494182017108,
          0.003264308546642367,
          0.023118592299813653,
          -0.07652377890211624,
          -0.028959375563664895,
          -0.010994007814200686,
          0.039469016978404166,
          -0.04688062790265945,
          -0.04330532889296651,
          0.021690476152877173,
          0.014520939785091435,
          0.06273572403703329,
          0.034115041299331475,
          0.036739213523278934,
          -0.07973225879463498,
          -0.03627059474613622,
          0.007619608584973913,
          0.03247033400121436,
          0.024880895517166893,
          -0.026280702963482252,
          -0.027826231570943202,
          0.06253335533815256,
          0.00842870168371422,
          -0.07649610863221805,
          0.028683184697733247,
          0.014502912137039812,
          -0.05395189438614785,
          0.06100539205127553,
          -0.022899773247706073,
          -0.040695459849218574,
          0.020771126704941287,
          0.040377758807644305,
          -0.04626296240492263,
          0.03582918186934289,
          0.08102608404575297,
          0.022545458113416558,
          -0.044602588498124054,
          0.012615094403972798,
          0.02533622546053527,
          -0.020206312893996443,
          -0.016455631476785377,
          -0.0496829900028162,
          -0.07345870899652882,
          0.03560200847207692,
          -0.029718956714587973,
          -0.10484124904037323,
          0.0135142394346117,
          -0.06384938417634407,
          0.10891591185054646,
          -0.020816885809668385,
          -0.035899750651424166,
          -0.025558837044309637,
          -0.02366457289460037,
          0.008181140640128657,
          0.052589365268404326,
          0.029575726007549083,
          -0.013844834834420214,
          0.06633310805529549,
          0.014141568143429407,
          0.05140762112073091,
          0.04452572059057526,
          -0.02008489364296579,
          0.010451971609289824,
          0.054396270243553,
          -0.016890264429271745,
          0.06840393069144407,
          0.024384549407178133,
          0.052002290542591596,
          0.06404817316141487,
          -0.045077786220174845,
          0.00725492618850635,
          0.03207244212765871,
          -0.07009740826835287,
          0.08447747479198585,
          -0.09730123631090351,
          0.08370668396863495,
          0.04329838210026614,
          -0.013879794434173873,
          0.001951659652401862,
          -0.014852516067859894,
          -0.03215031385511678,
          -0.010843615851166642,
          -0.055185687805073255,
          -0.01888348575332131,
          -0.028892245111494796,
          0.011084521128503073,
          0.10930201322249743,
          -0.05021147953909108,
          0.07135370286309013,
          -0.03444569680098654,
          -0.025403435237116634
         ],
         "z": [
          0.033244914269948446,
          0.030421577408315543,
          0.04893821845938655,
          0.015022770210223513,
          0.008363953265365669,
          0.009879262115898204,
          0.01161236284684558,
          -0.01739239588611756,
          0.03935147792464167,
          0.006993354189064216,
          0.014756363381722017,
          0.06772675244028536,
          -0.028042611776387314,
          0.027835308381915325,
          0.017725557316478575,
          0.022523641230564762,
          -0.011815986967402525,
          0.03485537223687166,
          0.016997207878719885,
          0.05374624990979405,
          0.01790143707950917,
          0.06929320535772072,
          0.004507262293556024,
          0.07238465624883215,
          -0.024753154056574203,
          0.006521783581845579,
          -0.0049328698074314345,
          0.025650657889314993,
          0.002083124097807589,
          -0.008788875398133437,
          -0.03708104847816389,
          0.007618590222248753,
          -0.006243423565921593,
          0.04988298541033344,
          0.020670288978116177,
          -0.014693608366297883,
          0.003911222765015055,
          -0.009387985049486892,
          0.060076189806975856,
          0.001788772279721702,
          -0.00225466121803563,
          -0.004799791673113031,
          0.04299962635273542,
          -0.00015959876933940647,
          -0.026207100650434686,
          0.006969260456799302,
          -0.022976702816398766,
          0.05458968361080612,
          -0.008499947122026444,
          0.003234633004067066,
          -0.0014194260484634502,
          -0.016013129132935938,
          -0.008754383067841341,
          0.0048556666941143465,
          -0.03599750628577413,
          -0.024815019779194803,
          -0.004723754561622214,
          -0.03408706687865813,
          -0.0791411312703157,
          0.020851539440076533,
          0.022581052614241166,
          0.0006820828723047207,
          0.04142919705294361,
          0.017302735550917245,
          0.029406476200750004,
          0.008321026714222135,
          0.00027606537117700144,
          0.001962915172539248,
          0.006286594720242023,
          0.01248897722638465,
          -0.0071566150594716774,
          -0.012541503559925463,
          0.060490475259783336,
          -0.019318296655308213,
          -0.007101678241892454,
          0.003108216788649444,
          0.02259718254647246,
          0.051280727118099674,
          0.006816344744910815,
          -0.026362488689968544,
          -0.013660652872531372,
          -0.013649756273245373,
          0.03475901177099591,
          -0.00599989922862091,
          -0.0311181064128691,
          0.003935495343369073,
          -0.02119023378063979,
          -0.03904133970789506,
          0.0018300790272887015,
          0.06135907246304039,
          -0.03893229461079073,
          0.05017562188294265,
          -0.024063444657340206,
          -0.003440560330333956,
          -0.032502090465321154
         ]
        },
        {
         "hovertemplate": "color=Mi Fu (On Cursive Calligraphy)<br>PC 1=%{x}<br>PC 2=%{y}<br>PC 3=%{z}<br>size=%{marker.size}<extra></extra>",
         "legendgroup": "Mi Fu (On Cursive Calligraphy)",
         "marker": {
          "color": "#FFA15A",
          "size": [
           0.001,
           0.001,
           0.001,
           0.001,
           0.001,
           0.001,
           0.001,
           0.001,
           0.001,
           0.001,
           0.001,
           0.001,
           0.001,
           0.001,
           0.001,
           0.001,
           0.001,
           0.001,
           0.001,
           0.001,
           0.001,
           0.001,
           0.001,
           0.001,
           0.001,
           0.001,
           0.001,
           0.001,
           0.001,
           0.001,
           0.001,
           0.001,
           0.001,
           0.001,
           0.001,
           0.001,
           0.001,
           0.001,
           0.001,
           0.001,
           0.001,
           0.001,
           0.001,
           0.001,
           0.001,
           0.001,
           0.001,
           0.001,
           0.001,
           0.001,
           0.001,
           0.001,
           0.001,
           0.001,
           0.001,
           0.001,
           0.001,
           0.001,
           0.001,
           0.001,
           0.001,
           0.001,
           0.001
          ],
          "sizemode": "area",
          "sizeref": 2.5e-06,
          "symbol": "circle"
         },
         "mode": "markers",
         "name": "Mi Fu (On Cursive Calligraphy)",
         "scene": "scene",
         "showlegend": true,
         "type": "scatter3d",
         "x": [
          0.06142056542589898,
          -0.015352136383171164,
          0.01089773007429611,
          0.12508102748910674,
          0.12776830092498417,
          0.10064777385736884,
          0.016237253453278828,
          -0.06782842167071955,
          -0.037704692959480667,
          -0.11226539292704095,
          0.018615518906163087,
          0.07921318980921041,
          0.031013632682186373,
          -0.08835950078198576,
          -0.029352332699031473,
          -0.16231954035547758,
          0.0683991313745648,
          0.11540818396650697,
          0.1026077261376296,
          0.023147535955733035,
          -0.06459161644285466,
          0.06443524609667209,
          -0.09398765018716786,
          -0.09820920353075531,
          0.04438236483674562,
          -0.1332982836931423,
          -0.01897361844059072,
          -0.17779322647380144,
          -0.0164315836931963,
          -0.14090432478169762,
          0.011041149962992653,
          0.032140805167949656,
          0.0015811253464783023,
          0.037112392698396085,
          -0.12632632619733197,
          -0.11622799280543941,
          0.04768497613079157,
          0.09917534631489315,
          -0.07887623143869557,
          0.14696788439084923,
          -0.041544521058530015,
          -0.10373129597745792,
          -0.017658155229582626,
          0.08503898996835332,
          0.08073163302700473,
          0.0652785301955197,
          0.13595205814390032,
          0.04951432719110756,
          0.1534237660196527,
          0.10029020859605525,
          0.14149658838754178,
          0.07464925284016105,
          -0.0717266779068226,
          0.056862920455296014,
          0.11142252749170838,
          0.01665841845096265,
          -0.0732336062757067,
          -0.15166797649567498,
          -0.006788232850444277,
          0.004260705122321687,
          -0.04386837724987935,
          0.16576625391502486,
          0.1010909973648046
         ],
         "y": [
          0.009032494230197871,
          -0.045425240784674914,
          -0.06570990797803285,
          0.026849782700707495,
          -0.03401640786423629,
          0.025584754753954855,
          0.009253590971806875,
          -0.0473478122979455,
          -0.049274800410182416,
          0.003924309992839285,
          0.04478823808136833,
          0.06071538100554939,
          0.02542268050036005,
          0.0005783798663687084,
          -0.05344983251431846,
          -0.02911916084267646,
          0.018542828065025035,
          -0.008440898672439585,
          0.029374424010756555,
          0.009705883625108335,
          -0.009767127766066728,
          -0.024649909259341022,
          -0.009617858515619875,
          -0.018665197213875898,
          -0.035419157975147116,
          0.0813925170306446,
          0.014755598243936996,
          0.058328010705259864,
          -0.10874217183041938,
          0.047949230362276565,
          0.03354507536834669,
          -0.06700276219888628,
          -0.06111496434776518,
          -0.011132968193339792,
          -0.016797911588957368,
          -0.004095307317305336,
          -0.007646923033232285,
          -0.021601424701843515,
          0.062474434883385936,
          0.03677189983610986,
          0.11603976592894641,
          0.07255006977091709,
          -0.07858457715643156,
          0.13529967341517204,
          0.019556405597062756,
          -0.0948765821826617,
          0.03352462730779495,
          0.014763551185259257,
          0.02258124105131622,
          -0.04017387212132358,
          -0.0062774433053881485,
          -0.08317493516830747,
          -0.008223358483922152,
          -0.014885830322262051,
          -0.05233321221453864,
          0.02478593221893344,
          -0.009578580141651537,
          -0.06708939056093577,
          -0.03809155028149091,
          -0.02573232102609799,
          -0.03901956202934776,
          -0.0001191152771500328,
          0.031099914893536685
         ],
         "z": [
          -0.03581032301571794,
          -0.0158968925312427,
          0.005140943523033114,
          0.020534943810378008,
          0.15044409252005025,
          0.00012029648498102118,
          0.15946539792474976,
          -0.024938534200353076,
          0.01778482839303311,
          0.0387289207489766,
          -0.008906681369789431,
          0.10641914012068554,
          0.03890182374711791,
          -0.039390616709729834,
          0.025390727426951844,
          -0.00800000543445933,
          -0.055756999914043204,
          0.01577136762338788,
          -0.0021696551153325156,
          -0.001077466363258392,
          0.013115015512753044,
          0.005016829168697127,
          -0.04872244001599593,
          0.003673242235506886,
          0.049504244674431555,
          -0.004040739977999824,
          -0.0070933055750738066,
          0.004231976631988247,
          -0.01842757611086363,
          -0.02711011435699621,
          -0.020605405500112178,
          -0.021128432442174935,
          0.021831119760247642,
          -0.023868515347698065,
          -0.002524653906043175,
          0.002981997457100059,
          0.008074245520049735,
          0.014575219533672244,
          -0.006389962010129959,
          0.003469703887543846,
          -0.03900682287253922,
          0.008967167282681413,
          0.015047774063092845,
          0.060009979906776145,
          0.09374961134922381,
          -0.01592668507108806,
          -0.007585368668376179,
          -0.020755406187371865,
          -0.04707259550636302,
          -0.03366816702154933,
          -0.03249674648243,
          -0.032220274845801124,
          -0.013048049994707739,
          -0.017272941360435216,
          -0.06011041385017334,
          0.04430077219145487,
          0.022075498331561354,
          0.009637637349157088,
          -0.026288779022857606,
          0.030533850439938098,
          6.019788228348229e-06,
          -0.10076257201687451,
          -0.03709641062304596
         ]
        }
       ],
       "layout": {
        "legend": {
         "itemsizing": "constant",
         "title": {
          "text": "color"
         },
         "tracegroupgap": 0
        },
        "scene": {
         "domain": {
          "x": [
           0,
           1
          ],
          "y": [
           0,
           1
          ]
         },
         "xaxis": {
          "title": {
           "text": "PC 1"
          }
         },
         "yaxis": {
          "title": {
           "text": "PC 2"
          }
         },
         "zaxis": {
          "title": {
           "text": "PC 3"
          }
         }
        },
        "template": {
         "data": {
          "bar": [
           {
            "error_x": {
             "color": "#2a3f5f"
            },
            "error_y": {
             "color": "#2a3f5f"
            },
            "marker": {
             "line": {
              "color": "#E5ECF6",
              "width": 0.5
             }
            },
            "type": "bar"
           }
          ],
          "barpolar": [
           {
            "marker": {
             "line": {
              "color": "#E5ECF6",
              "width": 0.5
             }
            },
            "type": "barpolar"
           }
          ],
          "carpet": [
           {
            "aaxis": {
             "endlinecolor": "#2a3f5f",
             "gridcolor": "white",
             "linecolor": "white",
             "minorgridcolor": "white",
             "startlinecolor": "#2a3f5f"
            },
            "baxis": {
             "endlinecolor": "#2a3f5f",
             "gridcolor": "white",
             "linecolor": "white",
             "minorgridcolor": "white",
             "startlinecolor": "#2a3f5f"
            },
            "type": "carpet"
           }
          ],
          "choropleth": [
           {
            "colorbar": {
             "outlinewidth": 0,
             "ticks": ""
            },
            "type": "choropleth"
           }
          ],
          "contour": [
           {
            "colorbar": {
             "outlinewidth": 0,
             "ticks": ""
            },
            "colorscale": [
             [
              0,
              "#0d0887"
             ],
             [
              0.1111111111111111,
              "#46039f"
             ],
             [
              0.2222222222222222,
              "#7201a8"
             ],
             [
              0.3333333333333333,
              "#9c179e"
             ],
             [
              0.4444444444444444,
              "#bd3786"
             ],
             [
              0.5555555555555556,
              "#d8576b"
             ],
             [
              0.6666666666666666,
              "#ed7953"
             ],
             [
              0.7777777777777778,
              "#fb9f3a"
             ],
             [
              0.8888888888888888,
              "#fdca26"
             ],
             [
              1,
              "#f0f921"
             ]
            ],
            "type": "contour"
           }
          ],
          "contourcarpet": [
           {
            "colorbar": {
             "outlinewidth": 0,
             "ticks": ""
            },
            "type": "contourcarpet"
           }
          ],
          "heatmap": [
           {
            "colorbar": {
             "outlinewidth": 0,
             "ticks": ""
            },
            "colorscale": [
             [
              0,
              "#0d0887"
             ],
             [
              0.1111111111111111,
              "#46039f"
             ],
             [
              0.2222222222222222,
              "#7201a8"
             ],
             [
              0.3333333333333333,
              "#9c179e"
             ],
             [
              0.4444444444444444,
              "#bd3786"
             ],
             [
              0.5555555555555556,
              "#d8576b"
             ],
             [
              0.6666666666666666,
              "#ed7953"
             ],
             [
              0.7777777777777778,
              "#fb9f3a"
             ],
             [
              0.8888888888888888,
              "#fdca26"
             ],
             [
              1,
              "#f0f921"
             ]
            ],
            "type": "heatmap"
           }
          ],
          "heatmapgl": [
           {
            "colorbar": {
             "outlinewidth": 0,
             "ticks": ""
            },
            "colorscale": [
             [
              0,
              "#0d0887"
             ],
             [
              0.1111111111111111,
              "#46039f"
             ],
             [
              0.2222222222222222,
              "#7201a8"
             ],
             [
              0.3333333333333333,
              "#9c179e"
             ],
             [
              0.4444444444444444,
              "#bd3786"
             ],
             [
              0.5555555555555556,
              "#d8576b"
             ],
             [
              0.6666666666666666,
              "#ed7953"
             ],
             [
              0.7777777777777778,
              "#fb9f3a"
             ],
             [
              0.8888888888888888,
              "#fdca26"
             ],
             [
              1,
              "#f0f921"
             ]
            ],
            "type": "heatmapgl"
           }
          ],
          "histogram": [
           {
            "marker": {
             "colorbar": {
              "outlinewidth": 0,
              "ticks": ""
             }
            },
            "type": "histogram"
           }
          ],
          "histogram2d": [
           {
            "colorbar": {
             "outlinewidth": 0,
             "ticks": ""
            },
            "colorscale": [
             [
              0,
              "#0d0887"
             ],
             [
              0.1111111111111111,
              "#46039f"
             ],
             [
              0.2222222222222222,
              "#7201a8"
             ],
             [
              0.3333333333333333,
              "#9c179e"
             ],
             [
              0.4444444444444444,
              "#bd3786"
             ],
             [
              0.5555555555555556,
              "#d8576b"
             ],
             [
              0.6666666666666666,
              "#ed7953"
             ],
             [
              0.7777777777777778,
              "#fb9f3a"
             ],
             [
              0.8888888888888888,
              "#fdca26"
             ],
             [
              1,
              "#f0f921"
             ]
            ],
            "type": "histogram2d"
           }
          ],
          "histogram2dcontour": [
           {
            "colorbar": {
             "outlinewidth": 0,
             "ticks": ""
            },
            "colorscale": [
             [
              0,
              "#0d0887"
             ],
             [
              0.1111111111111111,
              "#46039f"
             ],
             [
              0.2222222222222222,
              "#7201a8"
             ],
             [
              0.3333333333333333,
              "#9c179e"
             ],
             [
              0.4444444444444444,
              "#bd3786"
             ],
             [
              0.5555555555555556,
              "#d8576b"
             ],
             [
              0.6666666666666666,
              "#ed7953"
             ],
             [
              0.7777777777777778,
              "#fb9f3a"
             ],
             [
              0.8888888888888888,
              "#fdca26"
             ],
             [
              1,
              "#f0f921"
             ]
            ],
            "type": "histogram2dcontour"
           }
          ],
          "mesh3d": [
           {
            "colorbar": {
             "outlinewidth": 0,
             "ticks": ""
            },
            "type": "mesh3d"
           }
          ],
          "parcoords": [
           {
            "line": {
             "colorbar": {
              "outlinewidth": 0,
              "ticks": ""
             }
            },
            "type": "parcoords"
           }
          ],
          "pie": [
           {
            "automargin": true,
            "type": "pie"
           }
          ],
          "scatter": [
           {
            "marker": {
             "colorbar": {
              "outlinewidth": 0,
              "ticks": ""
             }
            },
            "type": "scatter"
           }
          ],
          "scatter3d": [
           {
            "line": {
             "colorbar": {
              "outlinewidth": 0,
              "ticks": ""
             }
            },
            "marker": {
             "colorbar": {
              "outlinewidth": 0,
              "ticks": ""
             }
            },
            "type": "scatter3d"
           }
          ],
          "scattercarpet": [
           {
            "marker": {
             "colorbar": {
              "outlinewidth": 0,
              "ticks": ""
             }
            },
            "type": "scattercarpet"
           }
          ],
          "scattergeo": [
           {
            "marker": {
             "colorbar": {
              "outlinewidth": 0,
              "ticks": ""
             }
            },
            "type": "scattergeo"
           }
          ],
          "scattergl": [
           {
            "marker": {
             "colorbar": {
              "outlinewidth": 0,
              "ticks": ""
             }
            },
            "type": "scattergl"
           }
          ],
          "scattermapbox": [
           {
            "marker": {
             "colorbar": {
              "outlinewidth": 0,
              "ticks": ""
             }
            },
            "type": "scattermapbox"
           }
          ],
          "scatterpolar": [
           {
            "marker": {
             "colorbar": {
              "outlinewidth": 0,
              "ticks": ""
             }
            },
            "type": "scatterpolar"
           }
          ],
          "scatterpolargl": [
           {
            "marker": {
             "colorbar": {
              "outlinewidth": 0,
              "ticks": ""
             }
            },
            "type": "scatterpolargl"
           }
          ],
          "scatterternary": [
           {
            "marker": {
             "colorbar": {
              "outlinewidth": 0,
              "ticks": ""
             }
            },
            "type": "scatterternary"
           }
          ],
          "surface": [
           {
            "colorbar": {
             "outlinewidth": 0,
             "ticks": ""
            },
            "colorscale": [
             [
              0,
              "#0d0887"
             ],
             [
              0.1111111111111111,
              "#46039f"
             ],
             [
              0.2222222222222222,
              "#7201a8"
             ],
             [
              0.3333333333333333,
              "#9c179e"
             ],
             [
              0.4444444444444444,
              "#bd3786"
             ],
             [
              0.5555555555555556,
              "#d8576b"
             ],
             [
              0.6666666666666666,
              "#ed7953"
             ],
             [
              0.7777777777777778,
              "#fb9f3a"
             ],
             [
              0.8888888888888888,
              "#fdca26"
             ],
             [
              1,
              "#f0f921"
             ]
            ],
            "type": "surface"
           }
          ],
          "table": [
           {
            "cells": {
             "fill": {
              "color": "#EBF0F8"
             },
             "line": {
              "color": "white"
             }
            },
            "header": {
             "fill": {
              "color": "#C8D4E3"
             },
             "line": {
              "color": "white"
             }
            },
            "type": "table"
           }
          ]
         },
         "layout": {
          "annotationdefaults": {
           "arrowcolor": "#2a3f5f",
           "arrowhead": 0,
           "arrowwidth": 1
          },
          "autotypenumbers": "strict",
          "coloraxis": {
           "colorbar": {
            "outlinewidth": 0,
            "ticks": ""
           }
          },
          "colorscale": {
           "diverging": [
            [
             0,
             "#8e0152"
            ],
            [
             0.1,
             "#c51b7d"
            ],
            [
             0.2,
             "#de77ae"
            ],
            [
             0.3,
             "#f1b6da"
            ],
            [
             0.4,
             "#fde0ef"
            ],
            [
             0.5,
             "#f7f7f7"
            ],
            [
             0.6,
             "#e6f5d0"
            ],
            [
             0.7,
             "#b8e186"
            ],
            [
             0.8,
             "#7fbc41"
            ],
            [
             0.9,
             "#4d9221"
            ],
            [
             1,
             "#276419"
            ]
           ],
           "sequential": [
            [
             0,
             "#0d0887"
            ],
            [
             0.1111111111111111,
             "#46039f"
            ],
            [
             0.2222222222222222,
             "#7201a8"
            ],
            [
             0.3333333333333333,
             "#9c179e"
            ],
            [
             0.4444444444444444,
             "#bd3786"
            ],
            [
             0.5555555555555556,
             "#d8576b"
            ],
            [
             0.6666666666666666,
             "#ed7953"
            ],
            [
             0.7777777777777778,
             "#fb9f3a"
            ],
            [
             0.8888888888888888,
             "#fdca26"
            ],
            [
             1,
             "#f0f921"
            ]
           ],
           "sequentialminus": [
            [
             0,
             "#0d0887"
            ],
            [
             0.1111111111111111,
             "#46039f"
            ],
            [
             0.2222222222222222,
             "#7201a8"
            ],
            [
             0.3333333333333333,
             "#9c179e"
            ],
            [
             0.4444444444444444,
             "#bd3786"
            ],
            [
             0.5555555555555556,
             "#d8576b"
            ],
            [
             0.6666666666666666,
             "#ed7953"
            ],
            [
             0.7777777777777778,
             "#fb9f3a"
            ],
            [
             0.8888888888888888,
             "#fdca26"
            ],
            [
             1,
             "#f0f921"
            ]
           ]
          },
          "colorway": [
           "#636efa",
           "#EF553B",
           "#00cc96",
           "#ab63fa",
           "#FFA15A",
           "#19d3f3",
           "#FF6692",
           "#B6E880",
           "#FF97FF",
           "#FECB52"
          ],
          "font": {
           "color": "#2a3f5f"
          },
          "geo": {
           "bgcolor": "white",
           "lakecolor": "white",
           "landcolor": "#E5ECF6",
           "showlakes": true,
           "showland": true,
           "subunitcolor": "white"
          },
          "hoverlabel": {
           "align": "left"
          },
          "hovermode": "closest",
          "mapbox": {
           "style": "light"
          },
          "paper_bgcolor": "white",
          "plot_bgcolor": "#E5ECF6",
          "polar": {
           "angularaxis": {
            "gridcolor": "white",
            "linecolor": "white",
            "ticks": ""
           },
           "bgcolor": "#E5ECF6",
           "radialaxis": {
            "gridcolor": "white",
            "linecolor": "white",
            "ticks": ""
           }
          },
          "scene": {
           "xaxis": {
            "backgroundcolor": "#E5ECF6",
            "gridcolor": "white",
            "gridwidth": 2,
            "linecolor": "white",
            "showbackground": true,
            "ticks": "",
            "zerolinecolor": "white"
           },
           "yaxis": {
            "backgroundcolor": "#E5ECF6",
            "gridcolor": "white",
            "gridwidth": 2,
            "linecolor": "white",
            "showbackground": true,
            "ticks": "",
            "zerolinecolor": "white"
           },
           "zaxis": {
            "backgroundcolor": "#E5ECF6",
            "gridcolor": "white",
            "gridwidth": 2,
            "linecolor": "white",
            "showbackground": true,
            "ticks": "",
            "zerolinecolor": "white"
           }
          },
          "shapedefaults": {
           "line": {
            "color": "#2a3f5f"
           }
          },
          "ternary": {
           "aaxis": {
            "gridcolor": "white",
            "linecolor": "white",
            "ticks": ""
           },
           "baxis": {
            "gridcolor": "white",
            "linecolor": "white",
            "ticks": ""
           },
           "bgcolor": "#E5ECF6",
           "caxis": {
            "gridcolor": "white",
            "linecolor": "white",
            "ticks": ""
           }
          },
          "title": {
           "x": 0.05
          },
          "xaxis": {
           "automargin": true,
           "gridcolor": "white",
           "linecolor": "white",
           "ticks": "",
           "title": {
            "standoff": 15
           },
           "zerolinecolor": "white",
           "zerolinewidth": 2
          },
          "yaxis": {
           "automargin": true,
           "gridcolor": "white",
           "linecolor": "white",
           "ticks": "",
           "title": {
            "standoff": 15
           },
           "zerolinecolor": "white",
           "zerolinewidth": 2
          }
         }
        },
        "title": {
         "text": "Total Explained Variance: 76.68%"
        }
       }
      },
      "text/html": [
       "<div>                            <div id=\"2c97ac75-463a-4c61-96b4-9bc363b257e4\" class=\"plotly-graph-div\" style=\"height:525px; width:100%;\"></div>            <script type=\"text/javascript\">                require([\"plotly\"], function(Plotly) {                    window.PLOTLYENV=window.PLOTLYENV || {};                                    if (document.getElementById(\"2c97ac75-463a-4c61-96b4-9bc363b257e4\")) {                    Plotly.newPlot(                        \"2c97ac75-463a-4c61-96b4-9bc363b257e4\",                        [{\"hovertemplate\": \"color=Mi Fu (Wu River)<br>PC 1=%{x}<br>PC 2=%{y}<br>PC 3=%{z}<br>size=%{marker.size}<extra></extra>\", \"legendgroup\": \"Mi Fu (Wu River)\", \"marker\": {\"color\": \"#636efa\", \"size\": [0.001, 0.001, 0.001, 0.001, 0.001, 0.001, 0.001, 0.001, 0.001, 0.001, 0.001, 0.001, 0.001, 0.001, 0.001, 0.001, 0.001, 0.001, 0.001, 0.001, 0.001, 0.001, 0.001, 0.001, 0.001, 0.001, 0.001, 0.001, 0.001, 0.001, 0.001, 0.001, 0.001, 0.001, 0.001, 0.001, 0.001, 0.001, 0.001, 0.001, 0.001, 0.001, 0.001, 0.001, 0.001, 0.001, 0.001, 0.001, 0.001, 0.001, 0.001, 0.001, 0.001, 0.001, 0.001, 0.001, 0.001, 0.001, 0.001, 0.001, 0.001, 0.001, 0.001, 0.001, 0.001, 0.001, 0.001, 0.001, 0.001, 0.001, 0.001, 0.001, 0.001, 0.001, 0.001, 0.001, 0.001, 0.001, 0.001, 0.001, 0.001, 0.001, 0.001, 0.001, 0.001, 0.001, 0.001, 0.001, 0.001, 0.001, 0.001], \"sizemode\": \"area\", \"sizeref\": 2.5e-06, \"symbol\": \"circle\"}, \"mode\": \"markers\", \"name\": \"Mi Fu (Wu River)\", \"scene\": \"scene\", \"showlegend\": true, \"type\": \"scatter3d\", \"x\": [-0.03583749924438383, -0.08530072696229386, 0.03179992814110848, -0.0462048398520141, -0.00662589012765505, -0.028691924298985715, -0.014096134571719649, 0.0006379414864818198, -0.0735198016792829, -0.09306587221177916, -0.04275339916844814, -0.04654797097301047, -0.052995450358213, -0.023958440922224277, 0.053770835722751806, -0.05741497641783599, 0.07766088453778368, -0.08619135258131119, -0.03209089419228452, -0.07982399624927841, -0.05700047139964406, -0.0366778363893874, -0.013537454219824004, -0.06362948735752355, -0.02743997170395118, -0.02134630698197029, -0.06026527229120976, 0.034079369181244275, -0.0753570321460514, -0.05594302397474567, -0.056745123860030035, -0.06731374628276338, -0.031190357928843445, -0.07567419043900286, -0.07115136891417703, -0.041699587984634516, 0.03222022951551064, 0.027030230044997154, 0.016777844316963275, -0.002558378186235947, -0.029178245277111447, -0.008752506315626225, -0.06205831068085808, -0.15313712470559943, 0.10751678933476862, 0.0034115508577777526, 0.06779173589521136, -0.10652193028692708, -0.09938785412712846, -0.0674817144351528, -0.007488599501929948, -0.14479783582365052, -0.0758333672244601, 0.00469345503674247, -0.030070565279688356, 0.0477758996582358, -0.15822422081070545, -0.12483666608031435, 0.008086087542619143, 0.03583510914418731, -0.07128185722141281, -0.019073727031899825, 0.04108107706308096, 0.04701675338318641, -0.022652507502849806, -0.0748423088290476, -0.13023250915968282, -0.0716681801443647, 0.02607415083209076, -0.06902779339118094, 0.2820571369723137, -0.08752635727006569, 0.016964453245108875, -0.052460689293795666, -0.0021158049109024943, -0.014080050309785859, -0.07355000250446467, -0.054007061870647965, -0.0020835310285142014, 0.030256366031783163, 0.007234836152243188, -0.1268918021092648, -0.116548532054197, -0.031912600667137345, -0.011317491641949184, -0.1049730207749619, 0.05453609691773244, -0.21317676720904027, -0.17057444853603748, -0.04604701193238005, 0.052464458859855595], \"y\": [0.031316307333449894, 0.06189609524847057, -0.047751833779149856, -0.001606986642956773, 0.009816446884956477, -0.003838460088938734, -0.0394387311952412, -0.00857269570920815, 0.04039341815541813, 0.03369084405370174, 0.037811214102312855, -0.0006186773912707586, -0.014583427525298742, 0.052032998065771, -0.03134371815916847, -0.026886022898828636, -0.031032382252537002, -0.018123116583434726, 0.06368096368153646, -0.026503976902382393, 0.00031492320187901225, 0.0035258387769173992, -0.03491084745775478, 0.023213442770312325, -0.032532442598496435, 0.021211977783168388, -0.013722106537817646, 0.0007632243607293953, -0.0008746142466988663, 0.040898753531079385, -0.007976392941335697, 0.010153599563362224, 0.006020987199815517, 0.07107074121107221, -0.12185973494782366, -0.01678839450688453, -0.009428885466116112, 0.015739228759546253, 0.04239758947529168, -0.03299520825230964, 0.027474226733675486, -0.05491365719285173, -0.03173720080539532, 0.03245471718983331, 0.01892586480302316, 0.0185967694054151, 0.036633045441837056, -0.04135262016680572, -0.08010142303230901, -0.03267547190749087, 0.029783866182964042, 0.04810404838556004, -0.04350715217057567, -0.08839065068804618, 0.007269696289325148, 0.04313527007757528, -0.04897377492294644, -0.09051356406588261, -0.03564149114044359, -0.00364676357810255, 0.025055044035545808, 0.017330412817870493, -0.05504508983602969, -0.05011149549691209, 0.043833595291401906, -0.06815164802852418, -0.01353749632158323, -0.07905759618794302, -0.04078733120400956, -0.014896275820427202, 0.0980843521333747, 0.047895054878824485, -0.021059258071904195, -0.0006964463193982875, 0.01722335174700265, -0.07149124719581047, -0.012127544770793785, 0.0275690715578242, 0.03729178194689179, 0.014354929227128728, 0.0013886089691132733, 0.00015668213588165432, 0.02159612691327279, -0.10180016329070785, -0.10904198666125363, 0.005752738035715597, -0.05286620862185881, 0.05344846322673121, -0.02424398268613486, -0.04593936153110695, -0.04307433958952909], \"z\": [0.04230821726614468, -0.0006665606812723001, -0.04408010497195941, -0.006934985717676011, -0.0280270041583799, -0.0029326060009380425, -0.015730318356432477, -0.03201273006998665, -0.012161698333906986, -0.009828877818287894, -0.012720022988442343, -0.0246540277610196, -0.028434338961060193, -0.006693488383398382, -0.04763373808238543, -0.029134544605380407, -0.03776401101310404, 0.0003963078957995219, 0.10173923608248993, 0.009958273603934887, 0.02832438074917302, -0.001744661352264645, -0.023374719374640206, -0.016177901977960436, -0.01752275582789375, 0.009263483884850909, -0.0039132569872463155, -0.03009207470504923, 0.030494210617803018, -0.016259587700932915, 0.0335204057322997, 0.016100590068921315, 0.00976162714950892, 0.01882079077648602, 0.024550590507644604, 0.021828650940160038, 0.06583874383273354, 0.028586201887980115, -0.09952106261750315, 0.04823998974174159, 0.010956545799901343, -0.0009739129201944204, 0.029141340621428174, -0.019419920446437356, -0.06737055265232697, 0.004011903802060156, 0.06659011097674596, 0.008560064986988618, -0.02374042949591795, 0.03311231064852006, 0.054016335140936435, -0.029676993894267367, 0.02831187425422921, -0.0009651959738861763, 0.011820540663670108, 0.04233977799834486, -0.020972334969553405, -0.013410366334746002, 0.0868208549816263, 0.03952142847307162, -0.017113898517146765, 0.06586555093250754, 0.08117047944550794, -0.010314673006941262, -0.057998066462039866, -0.03162058477583059, -0.03571779604697688, 0.03358734962809767, -0.004483070021989678, -0.04956718329078799, -0.06289321334746141, -0.008516072329210887, -0.00557822776134929, 0.025072174600417135, -0.004228496087217674, -0.03705533945023075, 0.030755450679458254, 0.050682775697618136, -0.014880137558445973, 0.009703608606585397, 0.006360801504958493, -0.027449604920160485, -0.022925285782990086, -0.02460883971637551, -0.01638096371360408, -0.004992374619958955, -0.026816166897401832, -0.033590894387496455, -0.02337119056701268, -0.01620678885223774, -0.01720524332836755]}, {\"hovertemplate\": \"color=Huizong<br>PC 1=%{x}<br>PC 2=%{y}<br>PC 3=%{z}<br>size=%{marker.size}<extra></extra>\", \"legendgroup\": \"Huizong\", \"marker\": {\"color\": \"#EF553B\", \"size\": [0.001, 0.001, 0.001, 0.001, 0.001, 0.001, 0.001, 0.001, 0.001, 0.001, 0.001, 0.001, 0.001, 0.001, 0.001, 0.001, 0.001, 0.001, 0.001, 0.001, 0.001, 0.001, 0.001, 0.001, 0.001, 0.001, 0.001, 0.001, 0.001, 0.001, 0.001, 0.001, 0.001, 0.001, 0.001, 0.001, 0.001, 0.001, 0.001, 0.001, 0.001, 0.001, 0.001, 0.001, 0.001, 0.001, 0.001, 0.001, 0.001, 0.001, 0.001, 0.001, 0.001, 0.001, 0.001, 0.001, 0.001, 0.001, 0.001, 0.001, 0.001, 0.001, 0.001], \"sizemode\": \"area\", \"sizeref\": 2.5e-06, \"symbol\": \"circle\"}, \"mode\": \"markers\", \"name\": \"Huizong\", \"scene\": \"scene\", \"showlegend\": true, \"type\": \"scatter3d\", \"x\": [0.017661165133708228, 0.09766782329364311, 0.015724097029812936, -0.10884294241120335, 0.12278034558174987, -0.014042146885541227, -0.0034564647778877427, -0.09794174889668802, -0.030522361039967725, 0.05698294348535679, 0.020851236508393843, 0.034578623445561556, -0.048428223861567976, -0.038398077643466005, 0.032589814930957084, -0.025901229929626395, 0.20982553615311844, -0.055621405022245746, 0.1149673854272353, 0.03605526112493509, -0.0335453356023233, 0.06147397457113921, 0.003174822808725278, -0.002260602437072762, 0.06242765524682177, 0.08893047377423716, 0.03318015297473503, 0.03796580298885479, -0.033004716718875775, -0.018790769781536768, 0.08089083516019549, -0.024492971007423425, -0.014064736937239409, -0.06278491701882116, 0.02522270096487955, -0.03630703625401002, 0.07668538844454198, 0.031392424149773626, -0.06693366237061255, -0.052843290962262764, 0.12527919192001574, -0.04343541561762417, 0.01307595638466008, -0.0827028404029129, 0.06563279326482603, 0.05951752019821333, 0.05163862216508792, 0.052616008864649795, 0.03079572128687324, 0.013112040466306867, 0.028343070489132063, 0.018383878195690016, 0.04651247877632275, -0.12611524987242848, 0.012751731559232957, 0.04436986210629862, 0.07150597522619126, 0.10530764404557898, -0.024294522098525062, 0.014027690248415723, -0.0853223888963392, -0.040901044845154014, 0.04256645518854364], \"y\": [0.0466856858664934, -0.011976470323188047, 0.037030812618659495, 0.035194175502547886, 0.01810178647287405, 0.0005803771844279446, 0.055131233584795325, 0.017305710533709932, 0.00010368239903824891, 0.03418761560225804, 0.003910511100307365, -0.027150745626273787, 0.017877186685423846, -0.01853437102719363, -0.019511024347221424, 0.02816683635526243, 0.042790385562296036, -0.053361151568230354, -0.01566639774721529, 0.01779594267036057, 0.04975847258276112, -0.013425001191505206, 0.03870287188235765, -0.027413475522468957, -0.02867880015581646, 0.026701397526977085, 0.01358891940553276, 0.00016780236403478367, 0.03145869415497621, 0.03353778089316112, -0.02858678113708184, -0.025001373165400617, 0.02423373477188241, -0.048385645016752764, 0.010507989947592554, 0.05608890995367191, 0.003370976276894661, -0.056268686505895116, 0.059474972788551086, 0.03932992647672544, 0.013140386744104534, -0.027873358385267902, -0.016506919100535342, 0.0761830060875104, -0.03089315220269957, 0.07057114343254048, -0.03574692406064298, -0.027689638450740073, 0.07604123847031224, 0.03165869520459188, -0.021549041802653424, 0.0007159321874373965, 0.03355419183055545, 0.09259870213989037, 0.009972302738654617, -0.005703108158620318, 0.027111159690100625, -0.029091876418308734, 0.06355483244110256, -0.03401976868877638, 0.013615972879538195, 0.045743178547418495, 0.035681285490002414], \"z\": [0.02827211117307571, -0.013724509232662626, 0.04033414233749762, -0.0018880111699087708, 0.03184238676205274, 0.006177882590721519, -0.006154353867651025, -0.022945926348182523, 0.03135534023660262, -0.0330931582606824, -0.007239644558686243, -0.04366925963109743, 0.0013054538723452109, 0.017105286295537703, -0.03649604344887775, -0.02051870591714609, -0.011340147617525885, 0.003240332135051717, -0.024508963088749898, 0.03361602019156132, 0.016512041698170096, -0.011251835315270171, 0.0152250141292381, -0.01256600010570654, -0.033155588991205485, 0.058776416571321585, 0.018965322954737858, -0.015055023956324886, 0.019802539918449543, 0.030512342609476755, 0.09025601739702178, -0.01710753173593732, -0.02123593852584329, 8.92600365303514e-05, 0.029277436309630107, -0.0030985620656318754, 0.015056573386771067, 0.002104911697855332, -0.0007580443467288566, -0.007721321884713758, -0.04826701529514186, 0.014600704789905886, -0.020560671252802355, -0.01555451936824421, -0.047920851055258944, -0.010342236584351254, 0.0078092261668155005, 0.000314724185119155, 0.03926341982885723, -0.0054801868412908674, -0.013320272417932426, 0.013410649288670654, 0.00589994537090465, 0.011709198700926723, 0.046654825899816385, 0.007927394774691706, -0.03341406570740511, 0.08468706218829028, -8.693835349288588e-05, -0.008918323495594026, -0.03136541611054595, -0.030025618026289173, -0.04002709701692516]}, {\"hovertemplate\": \"color=Su Shi<br>PC 1=%{x}<br>PC 2=%{y}<br>PC 3=%{z}<br>size=%{marker.size}<extra></extra>\", \"legendgroup\": \"Su Shi\", \"marker\": {\"color\": \"#00cc96\", \"size\": [0.001, 0.001, 0.001, 0.001, 0.001, 0.001, 0.001, 0.001, 0.001, 0.001, 0.001, 0.001, 0.001, 0.001, 0.001, 0.001, 0.001, 0.001, 0.001, 0.001, 0.001, 0.001, 0.001, 0.001, 0.001, 0.001, 0.001, 0.001, 0.001, 0.001, 0.001, 0.001, 0.001, 0.001, 0.001, 0.001, 0.001, 0.001, 0.001, 0.001, 0.001, 0.001, 0.001, 0.001, 0.001, 0.001, 0.001, 0.001, 0.001, 0.001, 0.001, 0.001, 0.001, 0.001, 0.001, 0.001, 0.001, 0.001, 0.001, 0.001, 0.001, 0.001, 0.001, 0.001, 0.001, 0.001, 0.001, 0.001, 0.001, 0.001, 0.001, 0.001, 0.001, 0.001, 0.001, 0.001, 0.001, 0.001, 0.001, 0.001, 0.001, 0.001, 0.001, 0.001, 0.001, 0.001, 0.001, 0.001, 0.001, 0.001, 0.001, 0.001, 0.001, 0.001, 0.001, 0.001, 0.001, 0.001, 0.001, 0.001, 0.001, 0.001, 0.001, 0.001, 0.001, 0.001, 0.001, 0.001, 0.001, 0.001, 0.001, 0.001, 0.001, 0.001, 0.001, 0.001, 0.001, 0.001, 0.001], \"sizemode\": \"area\", \"sizeref\": 2.5e-06, \"symbol\": \"circle\"}, \"mode\": \"markers\", \"name\": \"Su Shi\", \"scene\": \"scene\", \"showlegend\": true, \"type\": \"scatter3d\", \"x\": [-0.11117346380856949, 0.01067016564401862, 0.04489471331655683, 0.03468628332254741, -0.17432216381412685, 0.002754085400025542, 0.005124749521602094, 0.1907949669717646, 0.18969250560115924, 0.10242714280023915, -0.01647976513496724, -0.07510590617216133, 0.043467796835372344, 0.06957864446383662, 0.05052379247625757, 0.07964901459249515, 0.07238848158617435, -0.07435918194042387, 0.11131890940257366, 0.06560977851559778, -0.023752354368120086, 0.04079733042649356, -0.18880792139086516, 0.0815100519078671, 0.07712653722025199, -0.12172090820979452, -0.12010848748882866, -0.08768292359934324, 0.04862200604796071, 0.030979979043456393, -0.045080203348525104, 0.0011130016931659185, 0.06285034382856756, 0.12626645276950232, 0.07446411057379028, -0.12115287815507125, -0.21211033662403117, -0.13597893472581593, 0.010128861740652998, 0.06675167806460408, 0.05792353233154842, 0.026030952218138406, 0.08050992472745488, -0.09152702854264662, -0.06304015965762734, -0.04267174863593788, -0.008022356562484635, 0.09718067346146445, -0.05639119861835448, -0.006339131774466663, 0.011326361901530536, -0.06646513867224643, 0.10940196831248415, -0.07362523701423426, -0.043802893670513446, 0.04014543037743317, -0.0025235465684807106, 0.0007492977304986663, 0.11335400828005425, -0.024123690001813424, -0.06857520473196543, 0.06456459216662304, 0.049730628047152454, 0.09761097634821217, -0.05105920435694574, -0.006526390385775608, 0.06674063386475343, 0.02245180202904149, -0.03490879446724266, -0.01905878254529949, 0.00291678421348838, -0.017520394067150252, 0.12284033829920929, 0.08947617925970369, 0.09226839857699913, 0.052903798269851726, 0.14386300580467734, 0.06501515570591464, -0.006976845503869725, 0.029303794942266547, 0.0033029946250063354, -0.04631925549998481, -0.029093043131375996, -0.037082670489297725, 0.04822493684654433, 0.0764108492596536, 0.11168207581301522, -0.08200431532183411, -0.0029529506182143185, -0.11069996629232691, 0.06998859373961323, -0.06074328684109357, -0.14608825406281045, 0.08184491089706608, -0.12275154322802373, 0.0013019981869702019, 0.0876182514523059, 0.1357221872065247, 0.04913309038549027, 0.0899600217642799, -0.008821237132001763, 0.1305022493113756, 0.046246200730317474, 0.07464930910502952, 0.03248175013298764, -0.022369040997707097, 0.0018316788172208884, -0.007181473441827215, 0.02487788550832218, 0.01747268961963934, 0.06448233123194752, 0.09276195667541938, 0.049593258934667026, 0.0287006475000536, -0.16986867234564598, 0.0711064072396798, -0.03688535530385629, 0.2088025879491894, 0.006818251722246553], \"y\": [0.05363133916778671, 0.005864218687757101, -0.00972197385907075, -0.07427001906513937, 0.03140030292131652, -0.004307249484189983, 0.04505836826362521, 0.056053830001261296, 0.06034544248593991, 0.02479018559571504, -0.08668013277013627, -0.008123463433278856, 0.00914054798163555, 0.025952336999743114, 0.0066796050050387705, 0.03196621712057719, -0.0036613283521995436, 0.037132406268043976, 0.029433899730244895, 0.0017557411212835554, 0.04967694027858173, 0.020409060130194896, 0.038470230940963156, 0.015755961698477074, -0.015046595215979222, 0.012824848727619763, 0.059682778519511225, -0.03025984761874815, 0.0327879191086867, -0.0547529438719656, -0.049842872807255606, -0.023007963016687918, 0.02272375966341466, 0.0769474348640593, 0.011727662063590097, 0.018660609904254305, 0.12917668021194184, 0.02816121602806935, -0.0040750889288615625, -0.08092975077303807, -0.010803483566991057, 0.05142131494735907, 0.01904479688481067, 0.006276710644844074, -0.0757266340941438, -0.07116189497467404, -0.06322174079037364, -0.021386167685937114, 0.0013866355962586835, 0.027481644579500555, 0.03321761933508938, -0.02878881725277371, -0.00958307196684402, -0.05052514079041247, -0.03793340594375437, -0.02618286820288638, -0.017470789587130484, -0.13070474871780963, -0.0255441567119527, 0.02916182074677887, -0.0227809093007866, 0.06273759160720146, -0.017771830269343317, 0.04305965649624931, 0.04675762227343938, 0.04778500637322613, -0.02858467867510666, -0.053435456546606176, -0.06800353615658278, 0.04779973690972164, -0.020287438238426155, 0.01532834392275201, 0.0006334846775694478, -0.012803654713957084, 0.03192922199819691, -0.04453992265573183, 0.03532487319762724, 0.025219572730409708, -0.04562232047564066, 0.034090434690728574, -0.02115488262734644, -0.027377036796654625, 0.04244203333143476, 0.014320038942320224, -0.05045841168476528, 0.02680769696579104, 0.02068173371396383, -0.04660504835608738, -0.07080250925018379, 0.010638401809025012, 0.011356138112632579, -0.10558166926498876, 0.0628953519029158, -0.044937463817613585, 0.049880574531461434, -0.016602585078733266, -0.047116217117406954, 0.013356086049701312, -0.02620680332093858, -0.03909132991475506, -0.07107068357490182, -0.05326574833248422, -0.024112649672569646, 0.08483413683008417, 0.005448382626221189, -0.0007193605598451305, 0.001337759128071046, -0.03722348800719262, -0.035275288884392034, -0.012025705670847146, 0.03897694545815105, 0.011205596666880462, -0.0021611265172724915, -0.019338288611010727, 0.005569723257407899, 0.008803012132218735, -0.03867916488201153, 0.04254729640929377, -0.0187959630161877], \"z\": [-0.03224300618723179, -0.035993984578914465, 0.017168758339489144, 0.01299213903276843, -0.026418507774943555, 0.0012781495874522133, 0.021310895073408952, -0.004754201235932538, 0.006794104424251517, -0.004604068172897765, 0.02664757576483005, -0.025574957472161538, 0.015505966872041976, -0.01725858676436942, -0.019489101791383124, 0.019675945111432575, 0.018729214690494742, -0.036943778694666064, 0.028737189007767637, -0.028811072107265585, -0.040134884218403485, 0.008599336467698029, -0.009961566612348973, -0.014081379322271227, -0.009165287313604172, 0.007114591990760477, 0.0011771593862291492, 0.011555777749482547, -0.01355002949218711, -0.046437374597636645, 0.012467984186389735, -0.003685299977065394, 0.009121366255360044, 0.04356911906878275, -0.03252088230448988, -0.021644585899179378, -0.09615256351895975, 0.032931477929232775, 0.0017146929864561157, -0.027957316291788218, 0.013862581639933688, -0.006397508013349502, -0.062197991478969004, -0.04581445029300174, 0.0008816709224946879, 0.02040868859022735, -0.006593920616042419, -0.057004358644190886, -0.0686064912029174, -0.05891614652712905, 0.014188393918900985, -0.030182650293257344, -0.022290071962937346, -0.0018271451391374002, 0.006305601033991824, 0.05693171450460442, -0.011438332198910025, 0.027576840127921175, 0.03134128812285607, -0.02525138961961767, 0.011698866886095137, 0.025660040482908205, 0.010176619599939157, 0.04458324227069623, 0.0044639714973811855, 0.01620694150473979, 0.0042153941834280366, 0.0054362416168847886, -0.004732182660874016, -0.007354937224961148, -0.019398347883262036, 0.05205645676260962, -0.07226275732389427, -0.0092600081545761, -0.0317059720374023, 0.000574042652946197, -0.012927941767228158, 0.020784059394663917, 0.050774884340590874, -0.05167071897986857, -0.013820119567687255, -0.017603161279401813, -0.07285337877895993, -0.013111177367915115, 0.010287549337311745, -0.049847025290962806, -0.006436367893579563, 0.044042621939523616, -0.00504082905526379, -0.0069086842907090966, -0.02367237060856003, -0.01100120934821716, -0.04386009306118032, -0.0014387540275513538, -0.019638340748062887, 0.020988308506689837, -0.027387789870616228, -0.0827842068479283, -0.010177313049912077, -0.009573718819830134, -0.003713150334054158, -0.0183432004766174, 0.0043144234353730895, 0.011052292107813057, 0.011140732624046279, 0.06826850052928775, -0.04123029813460352, 0.027468255590797998, 0.022297118356579725, 0.04889840936057561, 0.025731688726021894, -0.02173650476571129, -0.028178955989872256, -0.0019139942877152373, -0.004476772334116049, -0.019188515142873484, 0.00879148652060322, -0.060540939837460624, -0.03232300325418664]}, {\"hovertemplate\": \"color=WangXiZhi<br>PC 1=%{x}<br>PC 2=%{y}<br>PC 3=%{z}<br>size=%{marker.size}<extra></extra>\", \"legendgroup\": \"WangXiZhi\", \"marker\": {\"color\": \"#ab63fa\", \"size\": [0.001, 0.001, 0.001, 0.001, 0.001, 0.001, 0.001, 0.001, 0.001, 0.001, 0.001, 0.001, 0.001, 0.001, 0.001, 0.001, 0.001, 0.001, 0.001, 0.001, 0.001, 0.001, 0.001, 0.001, 0.001, 0.001, 0.001, 0.001, 0.001, 0.001, 0.001, 0.001, 0.001, 0.001, 0.001, 0.001, 0.001, 0.001, 0.001, 0.001, 0.001, 0.001, 0.001, 0.001, 0.001, 0.001, 0.001, 0.001, 0.001, 0.001, 0.001, 0.001, 0.001, 0.001, 0.001, 0.001, 0.001, 0.001, 0.001, 0.001, 0.001, 0.001, 0.001, 0.001, 0.001, 0.001, 0.001, 0.001, 0.001, 0.001, 0.001, 0.001, 0.001, 0.001, 0.001, 0.001, 0.001, 0.001, 0.001, 0.001, 0.001, 0.001, 0.001, 0.001, 0.001, 0.001, 0.001, 0.001, 0.001, 0.001, 0.001, 0.001, 0.001, 0.001, 0.001], \"sizemode\": \"area\", \"sizeref\": 2.5e-06, \"symbol\": \"circle\"}, \"mode\": \"markers\", \"name\": \"WangXiZhi\", \"scene\": \"scene\", \"showlegend\": true, \"type\": \"scatter3d\", \"x\": [0.0683067357246786, -0.05117037941944411, -0.01338092227766332, 0.02318327396648008, -0.00043163152028431094, -0.005204973013517759, -0.011679806984217847, -0.0065526046986306916, 0.05506077265783144, 0.01700624725137813, 0.01326606628067304, 0.011651228886084726, 0.07426903173479324, 0.024959071489836414, -0.08596706017788114, -0.04151471436822484, -0.16225065932057708, -0.035895822082826156, 0.04165924954126278, 0.019337689595094274, -0.020404741377994383, 0.036360764860679434, 0.0013708913480936027, 0.01089609940869512, 0.09834162112452997, -0.04627055567380039, -0.024139243522774193, -0.04620948641275952, 0.012977795630571184, -0.15200892264421784, 0.09048445176333038, -0.0748144688012264, -0.0027245940102492076, -0.02714605257505114, 0.05127476785258574, 0.0013096695593702405, -0.036027686293524694, -0.06506647778574327, 0.015390228595190885, -0.0021841012637800142, 0.009022528250648459, 0.08872056792021911, 0.07911553686658843, 0.07683309492100128, 0.012008650438966383, -0.07540913813416691, -0.036429312874494704, -0.060066377013803185, -0.030423456650563185, 0.042903821863046344, 0.043680852361874224, -0.029307426854518728, -0.04904940684565638, -0.042075051710391, -0.08116876596643596, 0.04182646764490894, -0.034915740143130106, -0.017893201194604132, 0.2203149880267937, 0.09069489962627404, -0.03184870137602781, 0.11971684786588209, -0.061895765344515304, -0.013502532817164604, 0.0021198758227139467, 0.013945320821822099, -0.06733961072062877, 0.04776659173878243, -0.05265795755608439, -0.0681900831771014, 0.07826213347051299, 0.19321869742172965, 0.039070049304403, -0.04069300536315665, -0.032428617612448266, -0.0289977420582019, -0.018484969334661226, 0.03111124514408533, -0.0022096194571305447, -0.19993236254430063, 0.18202430525883015, 0.030479090989687634, -0.06112263785949471, -0.0164396117648907, 0.008450159559748434, -0.04650387843727896, -0.02513553736640959, 0.11901929188418837, -0.14044444988228708, 0.06984291379848089, -0.028633563956004963, -0.01882475105191517, -0.06707055595776887, 0.032902696237544736, -0.026397611305992802], \"y\": [-0.05153354260481288, 0.11477222633094525, 0.0761610216289528, -0.0416639666270893, 0.03564494182017108, 0.003264308546642367, 0.023118592299813653, -0.07652377890211624, -0.028959375563664895, -0.010994007814200686, 0.039469016978404166, -0.04688062790265945, -0.04330532889296651, 0.021690476152877173, 0.014520939785091435, 0.06273572403703329, 0.034115041299331475, 0.036739213523278934, -0.07973225879463498, -0.03627059474613622, 0.007619608584973913, 0.03247033400121436, 0.024880895517166893, -0.026280702963482252, -0.027826231570943202, 0.06253335533815256, 0.00842870168371422, -0.07649610863221805, 0.028683184697733247, 0.014502912137039812, -0.05395189438614785, 0.06100539205127553, -0.022899773247706073, -0.040695459849218574, 0.020771126704941287, 0.040377758807644305, -0.04626296240492263, 0.03582918186934289, 0.08102608404575297, 0.022545458113416558, -0.044602588498124054, 0.012615094403972798, 0.02533622546053527, -0.020206312893996443, -0.016455631476785377, -0.0496829900028162, -0.07345870899652882, 0.03560200847207692, -0.029718956714587973, -0.10484124904037323, 0.0135142394346117, -0.06384938417634407, 0.10891591185054646, -0.020816885809668385, -0.035899750651424166, -0.025558837044309637, -0.02366457289460037, 0.008181140640128657, 0.052589365268404326, 0.029575726007549083, -0.013844834834420214, 0.06633310805529549, 0.014141568143429407, 0.05140762112073091, 0.04452572059057526, -0.02008489364296579, 0.010451971609289824, 0.054396270243553, -0.016890264429271745, 0.06840393069144407, 0.024384549407178133, 0.052002290542591596, 0.06404817316141487, -0.045077786220174845, 0.00725492618850635, 0.03207244212765871, -0.07009740826835287, 0.08447747479198585, -0.09730123631090351, 0.08370668396863495, 0.04329838210026614, -0.013879794434173873, 0.001951659652401862, -0.014852516067859894, -0.03215031385511678, -0.010843615851166642, -0.055185687805073255, -0.01888348575332131, -0.028892245111494796, 0.011084521128503073, 0.10930201322249743, -0.05021147953909108, 0.07135370286309013, -0.03444569680098654, -0.025403435237116634], \"z\": [0.033244914269948446, 0.030421577408315543, 0.04893821845938655, 0.015022770210223513, 0.008363953265365669, 0.009879262115898204, 0.01161236284684558, -0.01739239588611756, 0.03935147792464167, 0.006993354189064216, 0.014756363381722017, 0.06772675244028536, -0.028042611776387314, 0.027835308381915325, 0.017725557316478575, 0.022523641230564762, -0.011815986967402525, 0.03485537223687166, 0.016997207878719885, 0.05374624990979405, 0.01790143707950917, 0.06929320535772072, 0.004507262293556024, 0.07238465624883215, -0.024753154056574203, 0.006521783581845579, -0.0049328698074314345, 0.025650657889314993, 0.002083124097807589, -0.008788875398133437, -0.03708104847816389, 0.007618590222248753, -0.006243423565921593, 0.04988298541033344, 0.020670288978116177, -0.014693608366297883, 0.003911222765015055, -0.009387985049486892, 0.060076189806975856, 0.001788772279721702, -0.00225466121803563, -0.004799791673113031, 0.04299962635273542, -0.00015959876933940647, -0.026207100650434686, 0.006969260456799302, -0.022976702816398766, 0.05458968361080612, -0.008499947122026444, 0.003234633004067066, -0.0014194260484634502, -0.016013129132935938, -0.008754383067841341, 0.0048556666941143465, -0.03599750628577413, -0.024815019779194803, -0.004723754561622214, -0.03408706687865813, -0.0791411312703157, 0.020851539440076533, 0.022581052614241166, 0.0006820828723047207, 0.04142919705294361, 0.017302735550917245, 0.029406476200750004, 0.008321026714222135, 0.00027606537117700144, 0.001962915172539248, 0.006286594720242023, 0.01248897722638465, -0.0071566150594716774, -0.012541503559925463, 0.060490475259783336, -0.019318296655308213, -0.007101678241892454, 0.003108216788649444, 0.02259718254647246, 0.051280727118099674, 0.006816344744910815, -0.026362488689968544, -0.013660652872531372, -0.013649756273245373, 0.03475901177099591, -0.00599989922862091, -0.0311181064128691, 0.003935495343369073, -0.02119023378063979, -0.03904133970789506, 0.0018300790272887015, 0.06135907246304039, -0.03893229461079073, 0.05017562188294265, -0.024063444657340206, -0.003440560330333956, -0.032502090465321154]}, {\"hovertemplate\": \"color=Mi Fu (On Cursive Calligraphy)<br>PC 1=%{x}<br>PC 2=%{y}<br>PC 3=%{z}<br>size=%{marker.size}<extra></extra>\", \"legendgroup\": \"Mi Fu (On Cursive Calligraphy)\", \"marker\": {\"color\": \"#FFA15A\", \"size\": [0.001, 0.001, 0.001, 0.001, 0.001, 0.001, 0.001, 0.001, 0.001, 0.001, 0.001, 0.001, 0.001, 0.001, 0.001, 0.001, 0.001, 0.001, 0.001, 0.001, 0.001, 0.001, 0.001, 0.001, 0.001, 0.001, 0.001, 0.001, 0.001, 0.001, 0.001, 0.001, 0.001, 0.001, 0.001, 0.001, 0.001, 0.001, 0.001, 0.001, 0.001, 0.001, 0.001, 0.001, 0.001, 0.001, 0.001, 0.001, 0.001, 0.001, 0.001, 0.001, 0.001, 0.001, 0.001, 0.001, 0.001, 0.001, 0.001, 0.001, 0.001, 0.001, 0.001], \"sizemode\": \"area\", \"sizeref\": 2.5e-06, \"symbol\": \"circle\"}, \"mode\": \"markers\", \"name\": \"Mi Fu (On Cursive Calligraphy)\", \"scene\": \"scene\", \"showlegend\": true, \"type\": \"scatter3d\", \"x\": [0.06142056542589898, -0.015352136383171164, 0.01089773007429611, 0.12508102748910674, 0.12776830092498417, 0.10064777385736884, 0.016237253453278828, -0.06782842167071955, -0.037704692959480667, -0.11226539292704095, 0.018615518906163087, 0.07921318980921041, 0.031013632682186373, -0.08835950078198576, -0.029352332699031473, -0.16231954035547758, 0.0683991313745648, 0.11540818396650697, 0.1026077261376296, 0.023147535955733035, -0.06459161644285466, 0.06443524609667209, -0.09398765018716786, -0.09820920353075531, 0.04438236483674562, -0.1332982836931423, -0.01897361844059072, -0.17779322647380144, -0.0164315836931963, -0.14090432478169762, 0.011041149962992653, 0.032140805167949656, 0.0015811253464783023, 0.037112392698396085, -0.12632632619733197, -0.11622799280543941, 0.04768497613079157, 0.09917534631489315, -0.07887623143869557, 0.14696788439084923, -0.041544521058530015, -0.10373129597745792, -0.017658155229582626, 0.08503898996835332, 0.08073163302700473, 0.0652785301955197, 0.13595205814390032, 0.04951432719110756, 0.1534237660196527, 0.10029020859605525, 0.14149658838754178, 0.07464925284016105, -0.0717266779068226, 0.056862920455296014, 0.11142252749170838, 0.01665841845096265, -0.0732336062757067, -0.15166797649567498, -0.006788232850444277, 0.004260705122321687, -0.04386837724987935, 0.16576625391502486, 0.1010909973648046], \"y\": [0.009032494230197871, -0.045425240784674914, -0.06570990797803285, 0.026849782700707495, -0.03401640786423629, 0.025584754753954855, 0.009253590971806875, -0.0473478122979455, -0.049274800410182416, 0.003924309992839285, 0.04478823808136833, 0.06071538100554939, 0.02542268050036005, 0.0005783798663687084, -0.05344983251431846, -0.02911916084267646, 0.018542828065025035, -0.008440898672439585, 0.029374424010756555, 0.009705883625108335, -0.009767127766066728, -0.024649909259341022, -0.009617858515619875, -0.018665197213875898, -0.035419157975147116, 0.0813925170306446, 0.014755598243936996, 0.058328010705259864, -0.10874217183041938, 0.047949230362276565, 0.03354507536834669, -0.06700276219888628, -0.06111496434776518, -0.011132968193339792, -0.016797911588957368, -0.004095307317305336, -0.007646923033232285, -0.021601424701843515, 0.062474434883385936, 0.03677189983610986, 0.11603976592894641, 0.07255006977091709, -0.07858457715643156, 0.13529967341517204, 0.019556405597062756, -0.0948765821826617, 0.03352462730779495, 0.014763551185259257, 0.02258124105131622, -0.04017387212132358, -0.0062774433053881485, -0.08317493516830747, -0.008223358483922152, -0.014885830322262051, -0.05233321221453864, 0.02478593221893344, -0.009578580141651537, -0.06708939056093577, -0.03809155028149091, -0.02573232102609799, -0.03901956202934776, -0.0001191152771500328, 0.031099914893536685], \"z\": [-0.03581032301571794, -0.0158968925312427, 0.005140943523033114, 0.020534943810378008, 0.15044409252005025, 0.00012029648498102118, 0.15946539792474976, -0.024938534200353076, 0.01778482839303311, 0.0387289207489766, -0.008906681369789431, 0.10641914012068554, 0.03890182374711791, -0.039390616709729834, 0.025390727426951844, -0.00800000543445933, -0.055756999914043204, 0.01577136762338788, -0.0021696551153325156, -0.001077466363258392, 0.013115015512753044, 0.005016829168697127, -0.04872244001599593, 0.003673242235506886, 0.049504244674431555, -0.004040739977999824, -0.0070933055750738066, 0.004231976631988247, -0.01842757611086363, -0.02711011435699621, -0.020605405500112178, -0.021128432442174935, 0.021831119760247642, -0.023868515347698065, -0.002524653906043175, 0.002981997457100059, 0.008074245520049735, 0.014575219533672244, -0.006389962010129959, 0.003469703887543846, -0.03900682287253922, 0.008967167282681413, 0.015047774063092845, 0.060009979906776145, 0.09374961134922381, -0.01592668507108806, -0.007585368668376179, -0.020755406187371865, -0.04707259550636302, -0.03366816702154933, -0.03249674648243, -0.032220274845801124, -0.013048049994707739, -0.017272941360435216, -0.06011041385017334, 0.04430077219145487, 0.022075498331561354, 0.009637637349157088, -0.026288779022857606, 0.030533850439938098, 6.019788228348229e-06, -0.10076257201687451, -0.03709641062304596]}],                        {\"legend\": {\"itemsizing\": \"constant\", \"title\": {\"text\": \"color\"}, \"tracegroupgap\": 0}, \"scene\": {\"domain\": {\"x\": [0.0, 1.0], \"y\": [0.0, 1.0]}, \"xaxis\": {\"title\": {\"text\": \"PC 1\"}}, \"yaxis\": {\"title\": {\"text\": \"PC 2\"}}, \"zaxis\": {\"title\": {\"text\": \"PC 3\"}}}, \"template\": {\"data\": {\"bar\": [{\"error_x\": {\"color\": \"#2a3f5f\"}, \"error_y\": {\"color\": \"#2a3f5f\"}, \"marker\": {\"line\": {\"color\": \"#E5ECF6\", \"width\": 0.5}}, \"type\": \"bar\"}], \"barpolar\": [{\"marker\": {\"line\": {\"color\": \"#E5ECF6\", \"width\": 0.5}}, \"type\": \"barpolar\"}], \"carpet\": [{\"aaxis\": {\"endlinecolor\": \"#2a3f5f\", \"gridcolor\": \"white\", \"linecolor\": \"white\", \"minorgridcolor\": \"white\", \"startlinecolor\": \"#2a3f5f\"}, \"baxis\": {\"endlinecolor\": \"#2a3f5f\", \"gridcolor\": \"white\", \"linecolor\": \"white\", \"minorgridcolor\": \"white\", \"startlinecolor\": \"#2a3f5f\"}, \"type\": \"carpet\"}], \"choropleth\": [{\"colorbar\": {\"outlinewidth\": 0, \"ticks\": \"\"}, \"type\": \"choropleth\"}], \"contour\": [{\"colorbar\": {\"outlinewidth\": 0, \"ticks\": \"\"}, \"colorscale\": [[0.0, \"#0d0887\"], [0.1111111111111111, \"#46039f\"], [0.2222222222222222, \"#7201a8\"], [0.3333333333333333, \"#9c179e\"], [0.4444444444444444, \"#bd3786\"], [0.5555555555555556, \"#d8576b\"], [0.6666666666666666, \"#ed7953\"], [0.7777777777777778, \"#fb9f3a\"], [0.8888888888888888, \"#fdca26\"], [1.0, \"#f0f921\"]], \"type\": \"contour\"}], \"contourcarpet\": [{\"colorbar\": {\"outlinewidth\": 0, \"ticks\": \"\"}, \"type\": \"contourcarpet\"}], \"heatmap\": [{\"colorbar\": {\"outlinewidth\": 0, \"ticks\": \"\"}, \"colorscale\": [[0.0, \"#0d0887\"], [0.1111111111111111, \"#46039f\"], [0.2222222222222222, \"#7201a8\"], [0.3333333333333333, \"#9c179e\"], [0.4444444444444444, \"#bd3786\"], [0.5555555555555556, \"#d8576b\"], [0.6666666666666666, \"#ed7953\"], [0.7777777777777778, \"#fb9f3a\"], [0.8888888888888888, \"#fdca26\"], [1.0, \"#f0f921\"]], \"type\": \"heatmap\"}], \"heatmapgl\": [{\"colorbar\": {\"outlinewidth\": 0, \"ticks\": \"\"}, \"colorscale\": [[0.0, \"#0d0887\"], [0.1111111111111111, \"#46039f\"], [0.2222222222222222, \"#7201a8\"], [0.3333333333333333, \"#9c179e\"], [0.4444444444444444, \"#bd3786\"], [0.5555555555555556, \"#d8576b\"], [0.6666666666666666, \"#ed7953\"], [0.7777777777777778, \"#fb9f3a\"], [0.8888888888888888, \"#fdca26\"], [1.0, \"#f0f921\"]], \"type\": \"heatmapgl\"}], \"histogram\": [{\"marker\": {\"colorbar\": {\"outlinewidth\": 0, \"ticks\": \"\"}}, \"type\": \"histogram\"}], \"histogram2d\": [{\"colorbar\": {\"outlinewidth\": 0, \"ticks\": \"\"}, \"colorscale\": [[0.0, \"#0d0887\"], [0.1111111111111111, \"#46039f\"], [0.2222222222222222, \"#7201a8\"], [0.3333333333333333, \"#9c179e\"], [0.4444444444444444, \"#bd3786\"], [0.5555555555555556, \"#d8576b\"], [0.6666666666666666, \"#ed7953\"], [0.7777777777777778, \"#fb9f3a\"], [0.8888888888888888, \"#fdca26\"], [1.0, \"#f0f921\"]], \"type\": \"histogram2d\"}], \"histogram2dcontour\": [{\"colorbar\": {\"outlinewidth\": 0, \"ticks\": \"\"}, \"colorscale\": [[0.0, \"#0d0887\"], [0.1111111111111111, \"#46039f\"], [0.2222222222222222, \"#7201a8\"], [0.3333333333333333, \"#9c179e\"], [0.4444444444444444, \"#bd3786\"], [0.5555555555555556, \"#d8576b\"], [0.6666666666666666, \"#ed7953\"], [0.7777777777777778, \"#fb9f3a\"], [0.8888888888888888, \"#fdca26\"], [1.0, \"#f0f921\"]], \"type\": \"histogram2dcontour\"}], \"mesh3d\": [{\"colorbar\": {\"outlinewidth\": 0, \"ticks\": \"\"}, \"type\": \"mesh3d\"}], \"parcoords\": [{\"line\": {\"colorbar\": {\"outlinewidth\": 0, \"ticks\": \"\"}}, \"type\": \"parcoords\"}], \"pie\": [{\"automargin\": true, \"type\": \"pie\"}], \"scatter\": [{\"marker\": {\"colorbar\": {\"outlinewidth\": 0, \"ticks\": \"\"}}, \"type\": \"scatter\"}], \"scatter3d\": [{\"line\": {\"colorbar\": {\"outlinewidth\": 0, \"ticks\": \"\"}}, \"marker\": {\"colorbar\": {\"outlinewidth\": 0, \"ticks\": \"\"}}, \"type\": \"scatter3d\"}], \"scattercarpet\": [{\"marker\": {\"colorbar\": {\"outlinewidth\": 0, \"ticks\": \"\"}}, \"type\": \"scattercarpet\"}], \"scattergeo\": [{\"marker\": {\"colorbar\": {\"outlinewidth\": 0, \"ticks\": \"\"}}, \"type\": \"scattergeo\"}], \"scattergl\": [{\"marker\": {\"colorbar\": {\"outlinewidth\": 0, \"ticks\": \"\"}}, \"type\": \"scattergl\"}], \"scattermapbox\": [{\"marker\": {\"colorbar\": {\"outlinewidth\": 0, \"ticks\": \"\"}}, \"type\": \"scattermapbox\"}], \"scatterpolar\": [{\"marker\": {\"colorbar\": {\"outlinewidth\": 0, \"ticks\": \"\"}}, \"type\": \"scatterpolar\"}], \"scatterpolargl\": [{\"marker\": {\"colorbar\": {\"outlinewidth\": 0, \"ticks\": \"\"}}, \"type\": \"scatterpolargl\"}], \"scatterternary\": [{\"marker\": {\"colorbar\": {\"outlinewidth\": 0, \"ticks\": \"\"}}, \"type\": \"scatterternary\"}], \"surface\": [{\"colorbar\": {\"outlinewidth\": 0, \"ticks\": \"\"}, \"colorscale\": [[0.0, \"#0d0887\"], [0.1111111111111111, \"#46039f\"], [0.2222222222222222, \"#7201a8\"], [0.3333333333333333, \"#9c179e\"], [0.4444444444444444, \"#bd3786\"], [0.5555555555555556, \"#d8576b\"], [0.6666666666666666, \"#ed7953\"], [0.7777777777777778, \"#fb9f3a\"], [0.8888888888888888, \"#fdca26\"], [1.0, \"#f0f921\"]], \"type\": \"surface\"}], \"table\": [{\"cells\": {\"fill\": {\"color\": \"#EBF0F8\"}, \"line\": {\"color\": \"white\"}}, \"header\": {\"fill\": {\"color\": \"#C8D4E3\"}, \"line\": {\"color\": \"white\"}}, \"type\": \"table\"}]}, \"layout\": {\"annotationdefaults\": {\"arrowcolor\": \"#2a3f5f\", \"arrowhead\": 0, \"arrowwidth\": 1}, \"autotypenumbers\": \"strict\", \"coloraxis\": {\"colorbar\": {\"outlinewidth\": 0, \"ticks\": \"\"}}, \"colorscale\": {\"diverging\": [[0, \"#8e0152\"], [0.1, \"#c51b7d\"], [0.2, \"#de77ae\"], [0.3, \"#f1b6da\"], [0.4, \"#fde0ef\"], [0.5, \"#f7f7f7\"], [0.6, \"#e6f5d0\"], [0.7, \"#b8e186\"], [0.8, \"#7fbc41\"], [0.9, \"#4d9221\"], [1, \"#276419\"]], \"sequential\": [[0.0, \"#0d0887\"], [0.1111111111111111, \"#46039f\"], [0.2222222222222222, \"#7201a8\"], [0.3333333333333333, \"#9c179e\"], [0.4444444444444444, \"#bd3786\"], [0.5555555555555556, \"#d8576b\"], [0.6666666666666666, \"#ed7953\"], [0.7777777777777778, \"#fb9f3a\"], [0.8888888888888888, \"#fdca26\"], [1.0, \"#f0f921\"]], \"sequentialminus\": [[0.0, \"#0d0887\"], [0.1111111111111111, \"#46039f\"], [0.2222222222222222, \"#7201a8\"], [0.3333333333333333, \"#9c179e\"], [0.4444444444444444, \"#bd3786\"], [0.5555555555555556, \"#d8576b\"], [0.6666666666666666, \"#ed7953\"], [0.7777777777777778, \"#fb9f3a\"], [0.8888888888888888, \"#fdca26\"], [1.0, \"#f0f921\"]]}, \"colorway\": [\"#636efa\", \"#EF553B\", \"#00cc96\", \"#ab63fa\", \"#FFA15A\", \"#19d3f3\", \"#FF6692\", \"#B6E880\", \"#FF97FF\", \"#FECB52\"], \"font\": {\"color\": \"#2a3f5f\"}, \"geo\": {\"bgcolor\": \"white\", \"lakecolor\": \"white\", \"landcolor\": \"#E5ECF6\", \"showlakes\": true, \"showland\": true, \"subunitcolor\": \"white\"}, \"hoverlabel\": {\"align\": \"left\"}, \"hovermode\": \"closest\", \"mapbox\": {\"style\": \"light\"}, \"paper_bgcolor\": \"white\", \"plot_bgcolor\": \"#E5ECF6\", \"polar\": {\"angularaxis\": {\"gridcolor\": \"white\", \"linecolor\": \"white\", \"ticks\": \"\"}, \"bgcolor\": \"#E5ECF6\", \"radialaxis\": {\"gridcolor\": \"white\", \"linecolor\": \"white\", \"ticks\": \"\"}}, \"scene\": {\"xaxis\": {\"backgroundcolor\": \"#E5ECF6\", \"gridcolor\": \"white\", \"gridwidth\": 2, \"linecolor\": \"white\", \"showbackground\": true, \"ticks\": \"\", \"zerolinecolor\": \"white\"}, \"yaxis\": {\"backgroundcolor\": \"#E5ECF6\", \"gridcolor\": \"white\", \"gridwidth\": 2, \"linecolor\": \"white\", \"showbackground\": true, \"ticks\": \"\", \"zerolinecolor\": \"white\"}, \"zaxis\": {\"backgroundcolor\": \"#E5ECF6\", \"gridcolor\": \"white\", \"gridwidth\": 2, \"linecolor\": \"white\", \"showbackground\": true, \"ticks\": \"\", \"zerolinecolor\": \"white\"}}, \"shapedefaults\": {\"line\": {\"color\": \"#2a3f5f\"}}, \"ternary\": {\"aaxis\": {\"gridcolor\": \"white\", \"linecolor\": \"white\", \"ticks\": \"\"}, \"baxis\": {\"gridcolor\": \"white\", \"linecolor\": \"white\", \"ticks\": \"\"}, \"bgcolor\": \"#E5ECF6\", \"caxis\": {\"gridcolor\": \"white\", \"linecolor\": \"white\", \"ticks\": \"\"}}, \"title\": {\"x\": 0.05}, \"xaxis\": {\"automargin\": true, \"gridcolor\": \"white\", \"linecolor\": \"white\", \"ticks\": \"\", \"title\": {\"standoff\": 15}, \"zerolinecolor\": \"white\", \"zerolinewidth\": 2}, \"yaxis\": {\"automargin\": true, \"gridcolor\": \"white\", \"linecolor\": \"white\", \"ticks\": \"\", \"title\": {\"standoff\": 15}, \"zerolinecolor\": \"white\", \"zerolinewidth\": 2}}}, \"title\": {\"text\": \"Total Explained Variance: 76.68%\"}},                        {\"responsive\": true}                    ).then(function(){\n",
       "                            \n",
       "var gd = document.getElementById('2c97ac75-463a-4c61-96b4-9bc363b257e4');\n",
       "var x = new MutationObserver(function (mutations, observer) {{\n",
       "        var display = window.getComputedStyle(gd).display;\n",
       "        if (!display || display === 'none') {{\n",
       "            console.log([gd, 'removed!']);\n",
       "            Plotly.purge(gd);\n",
       "            observer.disconnect();\n",
       "        }}\n",
       "}});\n",
       "\n",
       "// Listen for the removal of the full notebook cells\n",
       "var notebookContainer = gd.closest('#notebook-container');\n",
       "if (notebookContainer) {{\n",
       "    x.observe(notebookContainer, {childList: true});\n",
       "}}\n",
       "\n",
       "// Listen for the clearing of the current output cell\n",
       "var outputEl = gd.closest('.output');\n",
       "if (outputEl) {{\n",
       "    x.observe(outputEl, {childList: true});\n",
       "}}\n",
       "\n",
       "                        })                };                });            </script>        </div>"
      ]
     },
     "metadata": {},
     "output_type": "display_data"
    }
   ],
   "source": [
    "# 3D PCA\n",
    "pca = PCA(n_components=3)\n",
    "components = pca.fit_transform(np.vstack([X.T for X in X_list]))\n",
    "\n",
    "total_var = pca.explained_variance_ratio_.sum() * 100\n",
    "\n",
    "fig = px.scatter_3d(\n",
    "    components, x=0, y=1, z=2, color=labels,\n",
    "    size=[0.001]*len(labels),\n",
    "    title=f'Total Explained Variance: {total_var:.2f}%',\n",
    "    labels={'0': 'PC 1', '1': 'PC 2', '2': 'PC 3'}\n",
    ")\n",
    "fig.show()"
   ]
  },
  {
   "cell_type": "code",
   "execution_count": 53,
   "id": "animated-placement",
   "metadata": {},
   "outputs": [],
   "source": [
    "# Double-check that the WangXiZhi characters look okay after post processing\n",
    "path = 'Extracted Characters/WangXiZhi - On the Seventeenth Day/'\n",
    "filenames = os.listdir(path)\n",
    "filenames.sort()\n",
    "\n",
    "bins = 20\n",
    "X = np.zeros((bins, len(filenames)))\n",
    "for i, filename in enumerate(filenames):\n",
    "    img = io.imread(path + filename)\n",
    "    preprocessed = preprocess(img, invert=False)\n",
    "    io.imsave('Test/debug/preprocessed_{:02d}.png'.format(i), preprocessed)\n",
    "    counts, theta = contour_analysis(preprocessed, bins=bins)\n",
    "    # divide counts by total counts to get Probability Mass Function (PMF)\n",
    "    probs = counts / counts.sum()\n",
    "    X[:, i] = probs\n"
   ]
  },
  {
   "cell_type": "markdown",
   "id": "fluid-smith",
   "metadata": {},
   "source": [
    "# Using 46 features"
   ]
  },
  {
   "cell_type": "code",
   "execution_count": 111,
   "id": "extreme-adjustment",
   "metadata": {},
   "outputs": [
    {
     "name": "stdout",
     "output_type": "stream",
     "text": [
      "# of datapoints: 431\n",
      "len(labels) = 431\n",
      "Total explained variance = 54.34%\n"
     ]
    },
    {
     "data": {
      "application/vnd.plotly.v1+json": {
       "config": {
        "plotlyServerURL": "https://plot.ly"
       },
       "data": [
        {
         "hovertemplate": "color=Mi Fu (Wu River)<br>0=%{x}<br>1=%{y}<extra></extra>",
         "legendgroup": "Mi Fu (Wu River)",
         "marker": {
          "color": "#636efa",
          "symbol": "circle"
         },
         "mode": "markers",
         "name": "Mi Fu (Wu River)",
         "orientation": "v",
         "showlegend": true,
         "type": "scatter",
         "x": [
          -0.07502122178034315,
          -0.25715088483471776,
          0.1392876534148933,
          -0.12116450125195433,
          0.003959746901953046,
          -0.06687619944231624,
          -0.02266684689658758,
          0.03588683961450442,
          -0.20921892650524346,
          -0.2700746684747553,
          -0.14186206019448416,
          -0.14136100263947485,
          -0.16486313031246105,
          -0.07102655779176152,
          0.20757550889364304,
          -0.1408948409319225,
          0.23558811365467527,
          -0.24636331378822954,
          -0.08294486018527908,
          -0.2428922470429582,
          -0.17248083665815633,
          -0.1194294820087431,
          -0.02439611358448612,
          -0.18694647029246259,
          -0.0708736591629005,
          -0.056812576498313665,
          -0.17215782821694628,
          0.13619900749345878,
          -0.21369084856614004,
          -0.16647970279023852,
          -0.17773071943243557,
          -0.20762034670542875,
          -0.0869892017422789,
          -0.22832123295927692,
          -0.2320178400259163,
          -0.14807168700642553,
          0.09856484741054504,
          0.10674426602127217,
          0.010141688887512882,
          0.015978105831525636,
          -0.06350647618047577,
          0.014974771167309825,
          -0.16271815083354674,
          -0.4812783920356993,
          0.3204218424441733,
          0.017390561578946168,
          0.23015027198241075,
          -0.3402131886102914,
          -0.31714218204301964,
          -0.2046942911908959,
          -0.049635227481422954,
          -0.4679477929446239,
          -0.24120638271626696,
          0.02172294289616429,
          -0.06773406465066423,
          0.20213017124917423,
          -0.5037837957284093,
          -0.4155071367483036,
          0.015512403399297327,
          0.12555233382891584,
          -0.20507890079315075,
          -0.07234527021742396,
          0.1097850579813888,
          0.15789330849778635,
          -0.0582221507676489,
          -0.2482866509858899,
          -0.43470856812820424,
          -0.2328620994161625,
          0.08307187717412946,
          -0.2165151942472996,
          0.9314912879806286,
          -0.2705379852238113,
          0.07882224520251777,
          -0.16689555498092734,
          0.016291886244239606,
          -0.047695481836737844,
          -0.23644277555608373,
          -0.17784347747305795,
          -0.00497527517284317,
          0.10563060041672744,
          0.0140338437404063,
          -0.43324218373078605,
          -0.3852536297499069,
          -0.10633572288918605,
          -0.03163859695723564,
          -0.3130977868301036,
          0.20808897212354185,
          -0.6832701444035324,
          -0.5624297992253988,
          -0.14346339033011354,
          0.18513492400796078
         ],
         "xaxis": "x",
         "y": [
          -0.32138245106283897,
          -0.1099640077016337,
          -0.31079480382763663,
          -0.24130566373315426,
          -0.14353471086018382,
          -0.25757017280200045,
          -0.17198795661341776,
          -0.2971000759187314,
          -0.2101274192492833,
          -0.17133590055620787,
          -0.0315394962168877,
          -0.0637484996495142,
          -0.06695539365715843,
          -0.11995096453400968,
          -0.2916459010460155,
          -0.3580768246270121,
          0.1050799932082797,
          -0.23298977735625545,
          -0.1376371636547541,
          -0.16668133294511978,
          -0.05045403872919712,
          -0.043526964578755094,
          -0.07842464820406438,
          -0.17670796837319228,
          -0.17586856751831928,
          -0.14234197352388786,
          -0.1347550523575639,
          -0.2661561552113539,
          -0.2452082465936513,
          -0.13817188476401665,
          -0.03969631306744744,
          -0.03421855237020344,
          -0.15574114561547026,
          -0.22912339180947217,
          -0.01422996426708149,
          0.11406010458133042,
          0.07581207875221103,
          -0.18481505747280053,
          0.2847181883263886,
          -0.09582591562824554,
          -0.26547702174556326,
          -0.3818410597783183,
          -0.2312323148200007,
          -0.13112997479634303,
          0.26734342862952526,
          -0.050065354479007444,
          -0.12178492969118951,
          0.01399075387680934,
          0.0737585581455993,
          -0.12806318214249338,
          0.17682667674463737,
          -0.02918440637415955,
          0.044256663095229624,
          -0.07275786353406807,
          -0.26186393444263567,
          -0.4059886146910776,
          0.07489650307804359,
          0.12442616012088617,
          0.10603315518162298,
          -0.036829717315644106,
          -0.19759949217003236,
          0.0967922154746126,
          0.1499602863173397,
          -0.008545809560890431,
          -0.05325640420283484,
          0.09591491017985694,
          0.14878147025121277,
          0.011239285770971327,
          -0.03588951569777716,
          0.004368613716260395,
          0.06355139762634962,
          -0.11974546232792352,
          -0.07258284440240123,
          0.028658656858227074,
          -0.21164416574019082,
          0.05440797749523222,
          0.07612041820402839,
          0.05780045812597032,
          -0.022790759841434454,
          0.01943520299147388,
          0.07985872399259035,
          0.15014217796649293,
          0.12346533625058999,
          0.01899489673217896,
          -0.040915553214816595,
          -0.1659937074842798,
          -0.24857024025812288,
          0.04566305733440358,
          0.12653570122505348,
          -0.01550919310052497,
          -0.035300954581960343
         ],
         "yaxis": "y"
        },
        {
         "hovertemplate": "color=Huizong<br>0=%{x}<br>1=%{y}<extra></extra>",
         "legendgroup": "Huizong",
         "marker": {
          "color": "#EF553B",
          "symbol": "circle"
         },
         "mode": "markers",
         "name": "Huizong",
         "orientation": "v",
         "showlegend": true,
         "type": "scatter",
         "x": [
          0.061601058991039424,
          0.32135135330987036,
          0.050925646362628516,
          -0.3361379562769396,
          0.41796279262085057,
          -0.02758132371596116,
          0.005657677791576017,
          -0.3060157632444882,
          -0.09356102981234453,
          0.19536660527003427,
          0.09859294877596964,
          0.11337916261734432,
          -0.11781445442938376,
          -0.09304199957921469,
          0.12302451675006693,
          -0.07794229008364854,
          0.6620467734196995,
          -0.1391717495592964,
          0.40046463929279835,
          0.13874989875104096,
          -0.09994321550341011,
          0.24670142346193635,
          0.03166662893439158,
          0.0133540061135672,
          0.22010916471272055,
          0.2883948451835969,
          0.13002542120864083,
          0.1418960469055412,
          -0.08129046081809461,
          -0.04904905029302099,
          0.2596708787709579,
          -0.06281756066230477,
          -0.007888278083007086,
          -0.16891154523293642,
          0.08478540906034819,
          -0.10559091471145925,
          0.26464962727499214,
          0.11711978383953921,
          -0.18835344433434564,
          -0.174552756193462,
          0.39928881123353166,
          -0.12197354542390125,
          0.045215506298885544,
          -0.2827780307780663,
          0.19235038455247758,
          0.1739505512951602,
          0.18456562703930815,
          0.188089238175194,
          0.11964089956368598,
          0.049981944022905844,
          0.09799250628768826,
          0.08271901150433217,
          0.1924819018873125,
          -0.389991590417692,
          0.048990421804317806,
          0.14809439712493108,
          0.23525391467154907,
          0.32509805415539106,
          -0.07690987652781446,
          0.07069125932311313,
          -0.2657225778216276,
          -0.12056881859041108,
          0.15283946648168478
         ],
         "xaxis": "x",
         "y": [
          -0.039060813932284985,
          -0.07686895830777696,
          -0.040616716676099826,
          -0.09517151647029866,
          -0.11599980501729228,
          -0.11525744347587809,
          -0.14239193983385398,
          -0.0926723292078237,
          -0.07658736046382789,
          -0.10841475138134138,
          -0.21879571637117062,
          -0.05300446470323191,
          -0.37878089065752324,
          -0.2879667156349885,
          -0.20342581949251987,
          -0.06844959117437102,
          0.056791272391537036,
          -0.30206939034852137,
          -0.30121636866577617,
          -0.18760728237515328,
          -0.0885404704083148,
          -0.41234646127138636,
          -0.20377188362323767,
          -0.1614522759476418,
          -0.1873678656263956,
          -0.03869985401802695,
          -0.1808911718013544,
          -0.0986113581424457,
          -0.192220366517426,
          -0.0852888395936786,
          0.04315520619168937,
          -0.1505876056750552,
          -0.24708962937444248,
          -0.2724570838289187,
          -0.12492337232575383,
          -0.10320684542983634,
          -0.1626670018687986,
          -0.16947174698508918,
          -0.18969575206919695,
          0.02693975572822305,
          0.005911494403791909,
          -0.12542168302581863,
          -0.08268249858969491,
          0.1476605085674729,
          0.13512427173554659,
          0.10832337316807181,
          -0.20636038871654394,
          -0.1628906734606516,
          -0.2245874008594953,
          -0.10786943376756548,
          -0.059423735014396274,
          -0.2017201733370457,
          -0.29637931657723704,
          -0.09429576005659203,
          -0.09197782342511956,
          -0.023756236593803187,
          -0.042451057882555675,
          0.028235225248644975,
          -0.01566523498966179,
          -0.20692768334328263,
          -0.10451486061715595,
          -0.11078341950182924,
          -0.15760748062692603
         ],
         "yaxis": "y"
        },
        {
         "hovertemplate": "color=Su Shi<br>0=%{x}<br>1=%{y}<extra></extra>",
         "legendgroup": "Su Shi",
         "marker": {
          "color": "#00cc96",
          "symbol": "circle"
         },
         "mode": "markers",
         "name": "Su Shi",
         "orientation": "v",
         "showlegend": true,
         "type": "scatter",
         "x": [
          -0.3711877504798517,
          0.018298717088898624,
          0.1459197205746287,
          0.08125448492518904,
          -0.5933633789102982,
          0.011236636821991684,
          -0.006971470077239238,
          0.5889824177394498,
          0.5834381408662319,
          0.31820059336764067,
          -0.04378617117246494,
          -0.2225696874258774,
          0.1624067650352332,
          0.2401259406897162,
          0.13694873544250788,
          0.2646824469760599,
          0.21931222669674846,
          -0.21036055324664688,
          0.3143987524674689,
          0.2425078635092978,
          -0.08822351527179516,
          0.09710610246764505,
          -0.605142892417985,
          0.2688402346980462,
          0.2408460721813085,
          -0.42906109211411225,
          -0.4365711857034465,
          -0.2910651906895002,
          0.17020297711442797,
          0.10078370414399906,
          -0.15264427583211845,
          0.018006287318862845,
          0.1994934458205545,
          0.3456050043589139,
          0.24646136967936236,
          -0.4021867300549126,
          -0.753734698544493,
          -0.4673809648687488,
          0.030407889605096616,
          0.2081263144693472,
          0.1389599703803076,
          0.04711804767964754,
          0.2460169980654676,
          -0.31813473954803406,
          -0.21578339429607904,
          -0.14909860024081067,
          -0.02296698189971833,
          0.32897558594925397,
          -0.21050849353084025,
          -0.013729517761662343,
          0.05740518706486298,
          -0.19986470751235874,
          0.3478279761734774,
          -0.23097966284297955,
          -0.15918119825061508,
          0.1511448807979184,
          0.00516385535795891,
          0.028641902434051715,
          0.31149139091090533,
          -0.08172985541205093,
          -0.2269782715923695,
          0.1843258085503573,
          0.17177185005300116,
          0.2710772830729895,
          -0.16707933565336347,
          -0.02030488269576775,
          0.1638809293483322,
          0.050503132980315404,
          -0.1275003197394254,
          -0.07017103422286454,
          0.015698114155459963,
          -0.09016149424127587,
          0.39005270458298213,
          0.29003459458900166,
          0.25941170812725006,
          0.15974041390032825,
          0.4636884899433991,
          0.21756460194631,
          -0.01606905838465281,
          0.11918829313311007,
          0.01251250620991594,
          -0.12832500393613935,
          -0.08675635537191083,
          -0.12990397644265272,
          0.14438722936069184,
          0.2118213817032324,
          0.36226442651337365,
          -0.2670734510786618,
          -0.009560084780515343,
          -0.37237459305258014,
          0.2345776187832634,
          -0.18422728624491294,
          -0.4968837406280873,
          0.267592903164749,
          -0.4090843950198188,
          0.00689905932948631,
          0.26121502489825804,
          0.4399037326035229,
          0.16830234906151384,
          0.2811482559260263,
          -0.009983717202084989,
          0.42825393845689247,
          0.14403622975258248,
          0.225245504182308,
          0.09783557863892466,
          -0.0769561096118289,
          -0.0014124022005698891,
          -0.02361950781449239,
          0.08488085453714139,
          0.0454562877817276,
          0.19491961716737713,
          0.3130915245610487,
          0.17921218657866375,
          0.1194180357028334,
          -0.5529005190172874,
          0.24939134425423642,
          -0.07871237027793505,
          0.6557016263443091,
          0.030189458989339925
         ],
         "xaxis": "x",
         "y": [
          0.15511827569689912,
          0.10020678233713196,
          0.013177278375897272,
          0.20141390541023316,
          0.2452788674902804,
          0.025648711778147745,
          0.16745167141118375,
          0.2032939201793664,
          0.20934833711808054,
          0.03676024092684874,
          -0.07475981984949659,
          -0.12106675866375592,
          -0.16113782452412576,
          -0.07411732356404319,
          0.12935302564308424,
          -0.03206616549308199,
          0.10486746769980125,
          -0.1993110800891318,
          0.2840114457146526,
          -0.2137226454932039,
          0.07675573563012665,
          0.20928213583816677,
          0.04135958904102802,
          -0.06325414915357458,
          0.03029839275743319,
          0.25052194473886935,
          0.3188537509802535,
          0.04846420170046106,
          -0.10197864628234976,
          -0.024120023462043616,
          0.022692997540968658,
          -0.04149738441969086,
          0.06767638447078561,
          0.42296086116149656,
          -0.06716046853675253,
          0.08498601960267703,
          0.39475445443980234,
          0.19056172423889742,
          0.01033014731182668,
          0.055987112104171746,
          0.2900111342442087,
          0.1994008105481646,
          0.11330880677855605,
          0.17755608430032194,
          0.14558360540992019,
          0.09285962022830188,
          0.04845693297958765,
          -0.18522521893281685,
          0.17639844561262744,
          -0.09773799964188314,
          -0.16944063572896745,
          -0.06210912077554917,
          0.037567523768940424,
          -0.0824319661585797,
          0.12472429985404838,
          -0.09861493547004371,
          -0.09253829113331409,
          -0.16815144937263712,
          0.34850445942213143,
          0.03975945654882269,
          0.06737411575638846,
          0.1725477876886394,
          0.006653942599170391,
          0.32890821642350354,
          0.04756312130404506,
          0.030803362749163704,
          0.32065009625022833,
          0.09261446523697427,
          0.11600003973956326,
          0.08040678172263184,
          -0.024105017598013898,
          0.24985677990408212,
          0.024550841457703032,
          0.028070482657528265,
          0.21537451775393443,
          0.0015636663435576739,
          -0.025818238343033217,
          -0.11833382481762471,
          -0.008448222131014801,
          -0.10266091512299251,
          -0.04236807405656925,
          -0.12772824634366547,
          -0.07380859582033789,
          0.010670697702399893,
          0.025374875353720606,
          0.21147174451998815,
          -0.04133081094767277,
          -0.005134047437621041,
          -0.011666029047219958,
          0.12956991749841343,
          -0.03650234804893903,
          -0.0926531987566124,
          0.08220801713237862,
          -0.011209761508873824,
          0.08487775508854102,
          -0.057101013024100415,
          0.12270808409472996,
          -0.006534536815862186,
          -0.08282389984618906,
          0.045902935449876454,
          -0.11924664165638395,
          0.02335665822777617,
          -0.0035355602411171138,
          0.1044013865105141,
          0.05336714212880646,
          0.08386671603816638,
          0.06228598335182313,
          -0.018185797979311278,
          -0.0299184317091553,
          0.060321372270903895,
          0.02273624633861279,
          -0.08129728299619085,
          -0.15330852220460348,
          -0.16424681791651466,
          0.06399814537615636,
          -0.1705992515043377,
          -0.22251446301870934,
          0.0625995446270192,
          -0.04579174329413849
         ],
         "yaxis": "y"
        },
        {
         "hovertemplate": "color=WangXiZhi<br>0=%{x}<br>1=%{y}<extra></extra>",
         "legendgroup": "WangXiZhi",
         "marker": {
          "color": "#ab63fa",
          "symbol": "circle"
         },
         "mode": "markers",
         "name": "WangXiZhi",
         "orientation": "v",
         "showlegend": true,
         "type": "scatter",
         "x": [
          0.21488412076683677,
          -0.1812669623094201,
          -0.020648584242406034,
          0.07857096957372349,
          0.04419628750717268,
          0.04358199909407339,
          0.02135534511105589,
          -0.03965414474410975,
          0.1662906777490026,
          0.0423520309540785,
          0.08794190428301377,
          0.010366473649235437,
          0.2214595068862341,
          0.07489668802846489,
          -0.2796955043125844,
          -0.13516361500272808,
          -0.5311516687260855,
          -0.11922634417555109,
          0.1258318572233212,
          0.038162243393118085,
          -0.03213420171120129,
          0.153727830984061,
          0.03873721291686342,
          0.07556268337822208,
          0.3584357723289849,
          -0.15779759021648956,
          -0.07406316293399731,
          -0.13857947327175568,
          0.05654879897051096,
          -0.4775212980496682,
          0.2953688770091101,
          -0.24298181971989652,
          -0.007434516764328268,
          -0.08978018509446908,
          0.184560587902395,
          0.009704434740666791,
          -0.08369628936794951,
          -0.19960546547283875,
          0.06613708538572205,
          -0.010710805645224593,
          0.04707330233681063,
          0.2698106701829532,
          0.25168498514400867,
          0.22569168948593366,
          0.07179898807122963,
          -0.2251195722989228,
          -0.09447853948473643,
          -0.1761253176912131,
          -0.10140962305913782,
          0.16250126696616016,
          0.16778018202878306,
          -0.09953470593341548,
          -0.17690442120350716,
          -0.10707666384274864,
          -0.26248873967846964,
          0.16667637891754042,
          -0.12267446651890714,
          -0.07440765691980906,
          0.6954558423754145,
          0.2891668200505609,
          -0.06870930937081904,
          0.4201133056506389,
          -0.15668855403382076,
          0.01286745718521234,
          0.0361453833698331,
          0.07408203494993978,
          -0.20441866599584577,
          0.1253694298329945,
          -0.15448653017574857,
          -0.19966672966589613,
          0.23071481708288813,
          0.5975259103029823,
          0.16008107654140571,
          -0.08950842883967787,
          -0.06273790164535219,
          -0.05328517371260277,
          0.004728906812747031,
          0.08979395726462962,
          0.007389292144700877,
          -0.6322536450739814,
          0.5820773512538056,
          0.09461871177578651,
          -0.17925887602865434,
          -0.038116288006899264,
          0.05113807924479195,
          -0.12403509559910211,
          -0.06096792123100717,
          0.36071953757421166,
          -0.43165412349153315,
          0.22127204461556152,
          -0.13683213516123952,
          -0.057872441617923175,
          -0.24326574756701694,
          0.11695978885076101,
          -0.07939050347834864
         ],
         "xaxis": "x",
         "y": [
          0.026869866687798737,
          0.054660213229291044,
          -0.18718340826366797,
          -0.07124764302586234,
          -0.39920173946967635,
          -0.508292242370549,
          -0.4987280805181349,
          0.07797183679708154,
          0.07092311144157096,
          0.09302522309338096,
          -0.4222213816999248,
          0.13942380636537233,
          0.0977254315291677,
          0.051514743803337724,
          0.044345370478881735,
          0.09424130052916845,
          0.0797495434813773,
          0.015825446586348556,
          0.07093355664087435,
          0.14914394085617516,
          -0.25474532433899466,
          -0.3161625427445305,
          -0.30504556864920457,
          -0.3263704418640612,
          -0.29959516919137025,
          0.03372796655078752,
          0.012990444971466994,
          -0.026423297063141015,
          -0.15913161334423676,
          -0.0301752955594407,
          -0.019577313551156467,
          -0.079646541152637,
          -0.03309413555697182,
          0.04594862929606934,
          -0.22953132627709671,
          -0.06697370658194074,
          -0.20547489285654194,
          -0.074851212090936,
          -0.16407905529383118,
          0.08598876793452943,
          -0.13592890614766026,
          0.11358028477144445,
          -0.030467086646750526,
          0.14633387655907523,
          -0.2549815771136932,
          -0.09136201262949808,
          -0.1389643675321141,
          -0.1667009639133064,
          0.018544962953137144,
          -0.13643287265119858,
          -0.22100548922691937,
          0.10688951414466656,
          0.162098494564916,
          -0.1758425317784393,
          -0.03799633221265271,
          -0.2944688051301421,
          0.07998609144740414,
          0.11112359927094953,
          0.15147902024246124,
          -0.023658541900450386,
          -0.29146866844165786,
          -0.2048041653604998,
          -0.30866232652457914,
          -0.49213549896281705,
          -0.2498471415707548,
          -0.20367412047046354,
          -0.06335573465598529,
          0.16833217466369338,
          -0.1088827992342526,
          -0.05985221182266153,
          0.1629584030853222,
          0.21821400147112335,
          -0.22646234760573197,
          -0.272294752861627,
          -0.3531303930286071,
          -0.31538815341343657,
          -0.553370861289248,
          0.014292067996056533,
          -0.08219099351111962,
          -0.07822236848310292,
          0.01215408842919146,
          0.01212136557176384,
          -0.08176230077568102,
          -0.18377181470036286,
          -0.19910357847055074,
          -0.20880432606851662,
          -0.154433648581759,
          0.128060175177588,
          -0.13586139729601338,
          0.08429380690699691,
          0.2974921078409204,
          0.0342911132541047,
          0.142743697297452,
          -0.08581233332291839,
          -0.027661822130234597
         ],
         "yaxis": "y"
        },
        {
         "hovertemplate": "color=Mi Fu (On Cursive Calligraphy)<br>0=%{x}<br>1=%{y}<extra></extra>",
         "legendgroup": "Mi Fu (On Cursive Calligraphy)",
         "marker": {
          "color": "#FFA15A",
          "symbol": "circle"
         },
         "mode": "markers",
         "name": "Mi Fu (On Cursive Calligraphy)",
         "orientation": "v",
         "showlegend": true,
         "type": "scatter",
         "x": [
          0.15174990582702194,
          -0.10574063053453862,
          0.02447991305376301,
          0.3623240715612269,
          0.3803922201871207,
          0.3054282122489219,
          0.02075025937227942,
          -0.24425296668954333,
          -0.13485527627010307,
          -0.3737620096647179,
          0.006387484793710324,
          0.21336962255336483,
          0.049248145310963866,
          -0.31967702310077917,
          -0.13275265123376356,
          -0.5637315918458446,
          0.1879442634781794,
          0.38293415895087907,
          0.3229190804184514,
          0.07726834776650865,
          -0.24759682517148468,
          0.17935624906849323,
          -0.31439310041718815,
          -0.3381994120244856,
          0.12013555775578291,
          -0.45252749664997255,
          -0.07503129889045833,
          -0.6255208664310139,
          -0.05957844054574577,
          -0.4687771320536862,
          0.019881109193686988,
          0.04412132145607102,
          -0.031938642043701185,
          0.07470753553642688,
          -0.44870246866256247,
          -0.38282401168504754,
          0.10374408032697711,
          0.27695672620070344,
          -0.28618967683681107,
          0.45175357056897175,
          -0.1690932403715827,
          -0.3433756676775162,
          -0.06959124477759433,
          0.20137867201173443,
          0.2680814743044208,
          0.17618409990488165,
          0.4021720247648957,
          0.13196596449913306,
          0.45158713420743113,
          0.2885831254462737,
          0.4145593008323756,
          0.20264282830379957,
          -0.24301666352907103,
          0.12899165712172778,
          0.31903038586532884,
          0.01864160152350727,
          -0.28574362795374253,
          -0.5037861048962412,
          -0.05741703109198611,
          -0.013002769547491291,
          -0.1773284390763826,
          0.4544649604633345,
          0.26732191060498395
         ],
         "xaxis": "x",
         "y": [
          0.318430006766461,
          0.4238953141875231,
          0.15899497904927326,
          0.33727106928376777,
          0.2664298649645534,
          0.21593133352034433,
          0.35774468392470266,
          0.20317566462363526,
          0.16152848639129866,
          0.21716139167241258,
          0.3644228640761982,
          0.3649142681476086,
          0.35721798328093674,
          0.26846430307773766,
          0.30941806613136286,
          0.3384838095210431,
          0.3177884656029207,
          0.04002421617992924,
          0.18145560497233965,
          0.10787499466471949,
          0.32507125659008884,
          0.18075527315512435,
          0.16295275694010555,
          0.2583534345111453,
          0.22112177964948437,
          0.24068848505377896,
          0.1852735557017128,
          0.36976260683449397,
          0.1367150406534108,
          0.15642777355207824,
          0.16056472832491442,
          0.3835523112837992,
          0.266559376282066,
          0.3582549272587188,
          0.35257147758487134,
          0.1458444548871723,
          0.3891054167415157,
          0.3564920598838699,
          0.2697022554432409,
          0.26576794148124266,
          0.3015985485285829,
          0.11980453869236878,
          0.11529588064320212,
          0.564951226655137,
          0.05486760686102794,
          0.2763022820350858,
          0.30612589805260176,
          0.24819289248521603,
          0.30024793614504225,
          0.2568866810444276,
          0.33982035093726576,
          0.3100464191444171,
          0.1821948514169331,
          0.4152168028231973,
          0.31584582876186473,
          0.34505155528134007,
          0.3911072576854464,
          0.14447860716954064,
          0.22719734725487212,
          0.2355913701331271,
          0.30480078650630293,
          0.5638185774642216,
          0.3581057959201879
         ],
         "yaxis": "y"
        }
       ],
       "layout": {
        "font": {
         "color": "RebeccaPurple",
         "family": "Courier New, monospace",
         "size": 18
        },
        "legend": {
         "title": {
          "text": "Class"
         },
         "tracegroupgap": 0
        },
        "margin": {
         "t": 60
        },
        "template": {
         "data": {
          "bar": [
           {
            "error_x": {
             "color": "#2a3f5f"
            },
            "error_y": {
             "color": "#2a3f5f"
            },
            "marker": {
             "line": {
              "color": "#E5ECF6",
              "width": 0.5
             }
            },
            "type": "bar"
           }
          ],
          "barpolar": [
           {
            "marker": {
             "line": {
              "color": "#E5ECF6",
              "width": 0.5
             }
            },
            "type": "barpolar"
           }
          ],
          "carpet": [
           {
            "aaxis": {
             "endlinecolor": "#2a3f5f",
             "gridcolor": "white",
             "linecolor": "white",
             "minorgridcolor": "white",
             "startlinecolor": "#2a3f5f"
            },
            "baxis": {
             "endlinecolor": "#2a3f5f",
             "gridcolor": "white",
             "linecolor": "white",
             "minorgridcolor": "white",
             "startlinecolor": "#2a3f5f"
            },
            "type": "carpet"
           }
          ],
          "choropleth": [
           {
            "colorbar": {
             "outlinewidth": 0,
             "ticks": ""
            },
            "type": "choropleth"
           }
          ],
          "contour": [
           {
            "colorbar": {
             "outlinewidth": 0,
             "ticks": ""
            },
            "colorscale": [
             [
              0,
              "#0d0887"
             ],
             [
              0.1111111111111111,
              "#46039f"
             ],
             [
              0.2222222222222222,
              "#7201a8"
             ],
             [
              0.3333333333333333,
              "#9c179e"
             ],
             [
              0.4444444444444444,
              "#bd3786"
             ],
             [
              0.5555555555555556,
              "#d8576b"
             ],
             [
              0.6666666666666666,
              "#ed7953"
             ],
             [
              0.7777777777777778,
              "#fb9f3a"
             ],
             [
              0.8888888888888888,
              "#fdca26"
             ],
             [
              1,
              "#f0f921"
             ]
            ],
            "type": "contour"
           }
          ],
          "contourcarpet": [
           {
            "colorbar": {
             "outlinewidth": 0,
             "ticks": ""
            },
            "type": "contourcarpet"
           }
          ],
          "heatmap": [
           {
            "colorbar": {
             "outlinewidth": 0,
             "ticks": ""
            },
            "colorscale": [
             [
              0,
              "#0d0887"
             ],
             [
              0.1111111111111111,
              "#46039f"
             ],
             [
              0.2222222222222222,
              "#7201a8"
             ],
             [
              0.3333333333333333,
              "#9c179e"
             ],
             [
              0.4444444444444444,
              "#bd3786"
             ],
             [
              0.5555555555555556,
              "#d8576b"
             ],
             [
              0.6666666666666666,
              "#ed7953"
             ],
             [
              0.7777777777777778,
              "#fb9f3a"
             ],
             [
              0.8888888888888888,
              "#fdca26"
             ],
             [
              1,
              "#f0f921"
             ]
            ],
            "type": "heatmap"
           }
          ],
          "heatmapgl": [
           {
            "colorbar": {
             "outlinewidth": 0,
             "ticks": ""
            },
            "colorscale": [
             [
              0,
              "#0d0887"
             ],
             [
              0.1111111111111111,
              "#46039f"
             ],
             [
              0.2222222222222222,
              "#7201a8"
             ],
             [
              0.3333333333333333,
              "#9c179e"
             ],
             [
              0.4444444444444444,
              "#bd3786"
             ],
             [
              0.5555555555555556,
              "#d8576b"
             ],
             [
              0.6666666666666666,
              "#ed7953"
             ],
             [
              0.7777777777777778,
              "#fb9f3a"
             ],
             [
              0.8888888888888888,
              "#fdca26"
             ],
             [
              1,
              "#f0f921"
             ]
            ],
            "type": "heatmapgl"
           }
          ],
          "histogram": [
           {
            "marker": {
             "colorbar": {
              "outlinewidth": 0,
              "ticks": ""
             }
            },
            "type": "histogram"
           }
          ],
          "histogram2d": [
           {
            "colorbar": {
             "outlinewidth": 0,
             "ticks": ""
            },
            "colorscale": [
             [
              0,
              "#0d0887"
             ],
             [
              0.1111111111111111,
              "#46039f"
             ],
             [
              0.2222222222222222,
              "#7201a8"
             ],
             [
              0.3333333333333333,
              "#9c179e"
             ],
             [
              0.4444444444444444,
              "#bd3786"
             ],
             [
              0.5555555555555556,
              "#d8576b"
             ],
             [
              0.6666666666666666,
              "#ed7953"
             ],
             [
              0.7777777777777778,
              "#fb9f3a"
             ],
             [
              0.8888888888888888,
              "#fdca26"
             ],
             [
              1,
              "#f0f921"
             ]
            ],
            "type": "histogram2d"
           }
          ],
          "histogram2dcontour": [
           {
            "colorbar": {
             "outlinewidth": 0,
             "ticks": ""
            },
            "colorscale": [
             [
              0,
              "#0d0887"
             ],
             [
              0.1111111111111111,
              "#46039f"
             ],
             [
              0.2222222222222222,
              "#7201a8"
             ],
             [
              0.3333333333333333,
              "#9c179e"
             ],
             [
              0.4444444444444444,
              "#bd3786"
             ],
             [
              0.5555555555555556,
              "#d8576b"
             ],
             [
              0.6666666666666666,
              "#ed7953"
             ],
             [
              0.7777777777777778,
              "#fb9f3a"
             ],
             [
              0.8888888888888888,
              "#fdca26"
             ],
             [
              1,
              "#f0f921"
             ]
            ],
            "type": "histogram2dcontour"
           }
          ],
          "mesh3d": [
           {
            "colorbar": {
             "outlinewidth": 0,
             "ticks": ""
            },
            "type": "mesh3d"
           }
          ],
          "parcoords": [
           {
            "line": {
             "colorbar": {
              "outlinewidth": 0,
              "ticks": ""
             }
            },
            "type": "parcoords"
           }
          ],
          "pie": [
           {
            "automargin": true,
            "type": "pie"
           }
          ],
          "scatter": [
           {
            "marker": {
             "colorbar": {
              "outlinewidth": 0,
              "ticks": ""
             }
            },
            "type": "scatter"
           }
          ],
          "scatter3d": [
           {
            "line": {
             "colorbar": {
              "outlinewidth": 0,
              "ticks": ""
             }
            },
            "marker": {
             "colorbar": {
              "outlinewidth": 0,
              "ticks": ""
             }
            },
            "type": "scatter3d"
           }
          ],
          "scattercarpet": [
           {
            "marker": {
             "colorbar": {
              "outlinewidth": 0,
              "ticks": ""
             }
            },
            "type": "scattercarpet"
           }
          ],
          "scattergeo": [
           {
            "marker": {
             "colorbar": {
              "outlinewidth": 0,
              "ticks": ""
             }
            },
            "type": "scattergeo"
           }
          ],
          "scattergl": [
           {
            "marker": {
             "colorbar": {
              "outlinewidth": 0,
              "ticks": ""
             }
            },
            "type": "scattergl"
           }
          ],
          "scattermapbox": [
           {
            "marker": {
             "colorbar": {
              "outlinewidth": 0,
              "ticks": ""
             }
            },
            "type": "scattermapbox"
           }
          ],
          "scatterpolar": [
           {
            "marker": {
             "colorbar": {
              "outlinewidth": 0,
              "ticks": ""
             }
            },
            "type": "scatterpolar"
           }
          ],
          "scatterpolargl": [
           {
            "marker": {
             "colorbar": {
              "outlinewidth": 0,
              "ticks": ""
             }
            },
            "type": "scatterpolargl"
           }
          ],
          "scatterternary": [
           {
            "marker": {
             "colorbar": {
              "outlinewidth": 0,
              "ticks": ""
             }
            },
            "type": "scatterternary"
           }
          ],
          "surface": [
           {
            "colorbar": {
             "outlinewidth": 0,
             "ticks": ""
            },
            "colorscale": [
             [
              0,
              "#0d0887"
             ],
             [
              0.1111111111111111,
              "#46039f"
             ],
             [
              0.2222222222222222,
              "#7201a8"
             ],
             [
              0.3333333333333333,
              "#9c179e"
             ],
             [
              0.4444444444444444,
              "#bd3786"
             ],
             [
              0.5555555555555556,
              "#d8576b"
             ],
             [
              0.6666666666666666,
              "#ed7953"
             ],
             [
              0.7777777777777778,
              "#fb9f3a"
             ],
             [
              0.8888888888888888,
              "#fdca26"
             ],
             [
              1,
              "#f0f921"
             ]
            ],
            "type": "surface"
           }
          ],
          "table": [
           {
            "cells": {
             "fill": {
              "color": "#EBF0F8"
             },
             "line": {
              "color": "white"
             }
            },
            "header": {
             "fill": {
              "color": "#C8D4E3"
             },
             "line": {
              "color": "white"
             }
            },
            "type": "table"
           }
          ]
         },
         "layout": {
          "annotationdefaults": {
           "arrowcolor": "#2a3f5f",
           "arrowhead": 0,
           "arrowwidth": 1
          },
          "autotypenumbers": "strict",
          "coloraxis": {
           "colorbar": {
            "outlinewidth": 0,
            "ticks": ""
           }
          },
          "colorscale": {
           "diverging": [
            [
             0,
             "#8e0152"
            ],
            [
             0.1,
             "#c51b7d"
            ],
            [
             0.2,
             "#de77ae"
            ],
            [
             0.3,
             "#f1b6da"
            ],
            [
             0.4,
             "#fde0ef"
            ],
            [
             0.5,
             "#f7f7f7"
            ],
            [
             0.6,
             "#e6f5d0"
            ],
            [
             0.7,
             "#b8e186"
            ],
            [
             0.8,
             "#7fbc41"
            ],
            [
             0.9,
             "#4d9221"
            ],
            [
             1,
             "#276419"
            ]
           ],
           "sequential": [
            [
             0,
             "#0d0887"
            ],
            [
             0.1111111111111111,
             "#46039f"
            ],
            [
             0.2222222222222222,
             "#7201a8"
            ],
            [
             0.3333333333333333,
             "#9c179e"
            ],
            [
             0.4444444444444444,
             "#bd3786"
            ],
            [
             0.5555555555555556,
             "#d8576b"
            ],
            [
             0.6666666666666666,
             "#ed7953"
            ],
            [
             0.7777777777777778,
             "#fb9f3a"
            ],
            [
             0.8888888888888888,
             "#fdca26"
            ],
            [
             1,
             "#f0f921"
            ]
           ],
           "sequentialminus": [
            [
             0,
             "#0d0887"
            ],
            [
             0.1111111111111111,
             "#46039f"
            ],
            [
             0.2222222222222222,
             "#7201a8"
            ],
            [
             0.3333333333333333,
             "#9c179e"
            ],
            [
             0.4444444444444444,
             "#bd3786"
            ],
            [
             0.5555555555555556,
             "#d8576b"
            ],
            [
             0.6666666666666666,
             "#ed7953"
            ],
            [
             0.7777777777777778,
             "#fb9f3a"
            ],
            [
             0.8888888888888888,
             "#fdca26"
            ],
            [
             1,
             "#f0f921"
            ]
           ]
          },
          "colorway": [
           "#636efa",
           "#EF553B",
           "#00cc96",
           "#ab63fa",
           "#FFA15A",
           "#19d3f3",
           "#FF6692",
           "#B6E880",
           "#FF97FF",
           "#FECB52"
          ],
          "font": {
           "color": "#2a3f5f"
          },
          "geo": {
           "bgcolor": "white",
           "lakecolor": "white",
           "landcolor": "#E5ECF6",
           "showlakes": true,
           "showland": true,
           "subunitcolor": "white"
          },
          "hoverlabel": {
           "align": "left"
          },
          "hovermode": "closest",
          "mapbox": {
           "style": "light"
          },
          "paper_bgcolor": "white",
          "plot_bgcolor": "#E5ECF6",
          "polar": {
           "angularaxis": {
            "gridcolor": "white",
            "linecolor": "white",
            "ticks": ""
           },
           "bgcolor": "#E5ECF6",
           "radialaxis": {
            "gridcolor": "white",
            "linecolor": "white",
            "ticks": ""
           }
          },
          "scene": {
           "xaxis": {
            "backgroundcolor": "#E5ECF6",
            "gridcolor": "white",
            "gridwidth": 2,
            "linecolor": "white",
            "showbackground": true,
            "ticks": "",
            "zerolinecolor": "white"
           },
           "yaxis": {
            "backgroundcolor": "#E5ECF6",
            "gridcolor": "white",
            "gridwidth": 2,
            "linecolor": "white",
            "showbackground": true,
            "ticks": "",
            "zerolinecolor": "white"
           },
           "zaxis": {
            "backgroundcolor": "#E5ECF6",
            "gridcolor": "white",
            "gridwidth": 2,
            "linecolor": "white",
            "showbackground": true,
            "ticks": "",
            "zerolinecolor": "white"
           }
          },
          "shapedefaults": {
           "line": {
            "color": "#2a3f5f"
           }
          },
          "ternary": {
           "aaxis": {
            "gridcolor": "white",
            "linecolor": "white",
            "ticks": ""
           },
           "baxis": {
            "gridcolor": "white",
            "linecolor": "white",
            "ticks": ""
           },
           "bgcolor": "#E5ECF6",
           "caxis": {
            "gridcolor": "white",
            "linecolor": "white",
            "ticks": ""
           }
          },
          "title": {
           "x": 0.05
          },
          "xaxis": {
           "automargin": true,
           "gridcolor": "white",
           "linecolor": "white",
           "ticks": "",
           "title": {
            "standoff": 15
           },
           "zerolinecolor": "white",
           "zerolinewidth": 2
          },
          "yaxis": {
           "automargin": true,
           "gridcolor": "white",
           "linecolor": "white",
           "ticks": "",
           "title": {
            "standoff": 15
           },
           "zerolinecolor": "white",
           "zerolinewidth": 2
          }
         }
        },
        "title": {
         "text": "PCA"
        },
        "xaxis": {
         "anchor": "y",
         "domain": [
          0,
          1
         ],
         "title": {
          "text": "PC 1"
         }
        },
        "yaxis": {
         "anchor": "x",
         "domain": [
          0,
          1
         ],
         "title": {
          "text": "PC 2"
         }
        }
       }
      },
      "text/html": [
       "<div>                            <div id=\"15cb1f67-27f0-48d1-8310-a91af87e828f\" class=\"plotly-graph-div\" style=\"height:525px; width:100%;\"></div>            <script type=\"text/javascript\">                require([\"plotly\"], function(Plotly) {                    window.PLOTLYENV=window.PLOTLYENV || {};                                    if (document.getElementById(\"15cb1f67-27f0-48d1-8310-a91af87e828f\")) {                    Plotly.newPlot(                        \"15cb1f67-27f0-48d1-8310-a91af87e828f\",                        [{\"hovertemplate\": \"color=Mi Fu (Wu River)<br>0=%{x}<br>1=%{y}<extra></extra>\", \"legendgroup\": \"Mi Fu (Wu River)\", \"marker\": {\"color\": \"#636efa\", \"symbol\": \"circle\"}, \"mode\": \"markers\", \"name\": \"Mi Fu (Wu River)\", \"orientation\": \"v\", \"showlegend\": true, \"type\": \"scatter\", \"x\": [-0.07502122178034315, -0.25715088483471776, 0.1392876534148933, -0.12116450125195433, 0.003959746901953046, -0.06687619944231624, -0.02266684689658758, 0.03588683961450442, -0.20921892650524346, -0.2700746684747553, -0.14186206019448416, -0.14136100263947485, -0.16486313031246105, -0.07102655779176152, 0.20757550889364304, -0.1408948409319225, 0.23558811365467527, -0.24636331378822954, -0.08294486018527908, -0.2428922470429582, -0.17248083665815633, -0.1194294820087431, -0.02439611358448612, -0.18694647029246259, -0.0708736591629005, -0.056812576498313665, -0.17215782821694628, 0.13619900749345878, -0.21369084856614004, -0.16647970279023852, -0.17773071943243557, -0.20762034670542875, -0.0869892017422789, -0.22832123295927692, -0.2320178400259163, -0.14807168700642553, 0.09856484741054504, 0.10674426602127217, 0.010141688887512882, 0.015978105831525636, -0.06350647618047577, 0.014974771167309825, -0.16271815083354674, -0.4812783920356993, 0.3204218424441733, 0.017390561578946168, 0.23015027198241075, -0.3402131886102914, -0.31714218204301964, -0.2046942911908959, -0.049635227481422954, -0.4679477929446239, -0.24120638271626696, 0.02172294289616429, -0.06773406465066423, 0.20213017124917423, -0.5037837957284093, -0.4155071367483036, 0.015512403399297327, 0.12555233382891584, -0.20507890079315075, -0.07234527021742396, 0.1097850579813888, 0.15789330849778635, -0.0582221507676489, -0.2482866509858899, -0.43470856812820424, -0.2328620994161625, 0.08307187717412946, -0.2165151942472996, 0.9314912879806286, -0.2705379852238113, 0.07882224520251777, -0.16689555498092734, 0.016291886244239606, -0.047695481836737844, -0.23644277555608373, -0.17784347747305795, -0.00497527517284317, 0.10563060041672744, 0.0140338437404063, -0.43324218373078605, -0.3852536297499069, -0.10633572288918605, -0.03163859695723564, -0.3130977868301036, 0.20808897212354185, -0.6832701444035324, -0.5624297992253988, -0.14346339033011354, 0.18513492400796078], \"xaxis\": \"x\", \"y\": [-0.32138245106283897, -0.1099640077016337, -0.31079480382763663, -0.24130566373315426, -0.14353471086018382, -0.25757017280200045, -0.17198795661341776, -0.2971000759187314, -0.2101274192492833, -0.17133590055620787, -0.0315394962168877, -0.0637484996495142, -0.06695539365715843, -0.11995096453400968, -0.2916459010460155, -0.3580768246270121, 0.1050799932082797, -0.23298977735625545, -0.1376371636547541, -0.16668133294511978, -0.05045403872919712, -0.043526964578755094, -0.07842464820406438, -0.17670796837319228, -0.17586856751831928, -0.14234197352388786, -0.1347550523575639, -0.2661561552113539, -0.2452082465936513, -0.13817188476401665, -0.03969631306744744, -0.03421855237020344, -0.15574114561547026, -0.22912339180947217, -0.01422996426708149, 0.11406010458133042, 0.07581207875221103, -0.18481505747280053, 0.2847181883263886, -0.09582591562824554, -0.26547702174556326, -0.3818410597783183, -0.2312323148200007, -0.13112997479634303, 0.26734342862952526, -0.050065354479007444, -0.12178492969118951, 0.01399075387680934, 0.0737585581455993, -0.12806318214249338, 0.17682667674463737, -0.02918440637415955, 0.044256663095229624, -0.07275786353406807, -0.26186393444263567, -0.4059886146910776, 0.07489650307804359, 0.12442616012088617, 0.10603315518162298, -0.036829717315644106, -0.19759949217003236, 0.0967922154746126, 0.1499602863173397, -0.008545809560890431, -0.05325640420283484, 0.09591491017985694, 0.14878147025121277, 0.011239285770971327, -0.03588951569777716, 0.004368613716260395, 0.06355139762634962, -0.11974546232792352, -0.07258284440240123, 0.028658656858227074, -0.21164416574019082, 0.05440797749523222, 0.07612041820402839, 0.05780045812597032, -0.022790759841434454, 0.01943520299147388, 0.07985872399259035, 0.15014217796649293, 0.12346533625058999, 0.01899489673217896, -0.040915553214816595, -0.1659937074842798, -0.24857024025812288, 0.04566305733440358, 0.12653570122505348, -0.01550919310052497, -0.035300954581960343], \"yaxis\": \"y\"}, {\"hovertemplate\": \"color=Huizong<br>0=%{x}<br>1=%{y}<extra></extra>\", \"legendgroup\": \"Huizong\", \"marker\": {\"color\": \"#EF553B\", \"symbol\": \"circle\"}, \"mode\": \"markers\", \"name\": \"Huizong\", \"orientation\": \"v\", \"showlegend\": true, \"type\": \"scatter\", \"x\": [0.061601058991039424, 0.32135135330987036, 0.050925646362628516, -0.3361379562769396, 0.41796279262085057, -0.02758132371596116, 0.005657677791576017, -0.3060157632444882, -0.09356102981234453, 0.19536660527003427, 0.09859294877596964, 0.11337916261734432, -0.11781445442938376, -0.09304199957921469, 0.12302451675006693, -0.07794229008364854, 0.6620467734196995, -0.1391717495592964, 0.40046463929279835, 0.13874989875104096, -0.09994321550341011, 0.24670142346193635, 0.03166662893439158, 0.0133540061135672, 0.22010916471272055, 0.2883948451835969, 0.13002542120864083, 0.1418960469055412, -0.08129046081809461, -0.04904905029302099, 0.2596708787709579, -0.06281756066230477, -0.007888278083007086, -0.16891154523293642, 0.08478540906034819, -0.10559091471145925, 0.26464962727499214, 0.11711978383953921, -0.18835344433434564, -0.174552756193462, 0.39928881123353166, -0.12197354542390125, 0.045215506298885544, -0.2827780307780663, 0.19235038455247758, 0.1739505512951602, 0.18456562703930815, 0.188089238175194, 0.11964089956368598, 0.049981944022905844, 0.09799250628768826, 0.08271901150433217, 0.1924819018873125, -0.389991590417692, 0.048990421804317806, 0.14809439712493108, 0.23525391467154907, 0.32509805415539106, -0.07690987652781446, 0.07069125932311313, -0.2657225778216276, -0.12056881859041108, 0.15283946648168478], \"xaxis\": \"x\", \"y\": [-0.039060813932284985, -0.07686895830777696, -0.040616716676099826, -0.09517151647029866, -0.11599980501729228, -0.11525744347587809, -0.14239193983385398, -0.0926723292078237, -0.07658736046382789, -0.10841475138134138, -0.21879571637117062, -0.05300446470323191, -0.37878089065752324, -0.2879667156349885, -0.20342581949251987, -0.06844959117437102, 0.056791272391537036, -0.30206939034852137, -0.30121636866577617, -0.18760728237515328, -0.0885404704083148, -0.41234646127138636, -0.20377188362323767, -0.1614522759476418, -0.1873678656263956, -0.03869985401802695, -0.1808911718013544, -0.0986113581424457, -0.192220366517426, -0.0852888395936786, 0.04315520619168937, -0.1505876056750552, -0.24708962937444248, -0.2724570838289187, -0.12492337232575383, -0.10320684542983634, -0.1626670018687986, -0.16947174698508918, -0.18969575206919695, 0.02693975572822305, 0.005911494403791909, -0.12542168302581863, -0.08268249858969491, 0.1476605085674729, 0.13512427173554659, 0.10832337316807181, -0.20636038871654394, -0.1628906734606516, -0.2245874008594953, -0.10786943376756548, -0.059423735014396274, -0.2017201733370457, -0.29637931657723704, -0.09429576005659203, -0.09197782342511956, -0.023756236593803187, -0.042451057882555675, 0.028235225248644975, -0.01566523498966179, -0.20692768334328263, -0.10451486061715595, -0.11078341950182924, -0.15760748062692603], \"yaxis\": \"y\"}, {\"hovertemplate\": \"color=Su Shi<br>0=%{x}<br>1=%{y}<extra></extra>\", \"legendgroup\": \"Su Shi\", \"marker\": {\"color\": \"#00cc96\", \"symbol\": \"circle\"}, \"mode\": \"markers\", \"name\": \"Su Shi\", \"orientation\": \"v\", \"showlegend\": true, \"type\": \"scatter\", \"x\": [-0.3711877504798517, 0.018298717088898624, 0.1459197205746287, 0.08125448492518904, -0.5933633789102982, 0.011236636821991684, -0.006971470077239238, 0.5889824177394498, 0.5834381408662319, 0.31820059336764067, -0.04378617117246494, -0.2225696874258774, 0.1624067650352332, 0.2401259406897162, 0.13694873544250788, 0.2646824469760599, 0.21931222669674846, -0.21036055324664688, 0.3143987524674689, 0.2425078635092978, -0.08822351527179516, 0.09710610246764505, -0.605142892417985, 0.2688402346980462, 0.2408460721813085, -0.42906109211411225, -0.4365711857034465, -0.2910651906895002, 0.17020297711442797, 0.10078370414399906, -0.15264427583211845, 0.018006287318862845, 0.1994934458205545, 0.3456050043589139, 0.24646136967936236, -0.4021867300549126, -0.753734698544493, -0.4673809648687488, 0.030407889605096616, 0.2081263144693472, 0.1389599703803076, 0.04711804767964754, 0.2460169980654676, -0.31813473954803406, -0.21578339429607904, -0.14909860024081067, -0.02296698189971833, 0.32897558594925397, -0.21050849353084025, -0.013729517761662343, 0.05740518706486298, -0.19986470751235874, 0.3478279761734774, -0.23097966284297955, -0.15918119825061508, 0.1511448807979184, 0.00516385535795891, 0.028641902434051715, 0.31149139091090533, -0.08172985541205093, -0.2269782715923695, 0.1843258085503573, 0.17177185005300116, 0.2710772830729895, -0.16707933565336347, -0.02030488269576775, 0.1638809293483322, 0.050503132980315404, -0.1275003197394254, -0.07017103422286454, 0.015698114155459963, -0.09016149424127587, 0.39005270458298213, 0.29003459458900166, 0.25941170812725006, 0.15974041390032825, 0.4636884899433991, 0.21756460194631, -0.01606905838465281, 0.11918829313311007, 0.01251250620991594, -0.12832500393613935, -0.08675635537191083, -0.12990397644265272, 0.14438722936069184, 0.2118213817032324, 0.36226442651337365, -0.2670734510786618, -0.009560084780515343, -0.37237459305258014, 0.2345776187832634, -0.18422728624491294, -0.4968837406280873, 0.267592903164749, -0.4090843950198188, 0.00689905932948631, 0.26121502489825804, 0.4399037326035229, 0.16830234906151384, 0.2811482559260263, -0.009983717202084989, 0.42825393845689247, 0.14403622975258248, 0.225245504182308, 0.09783557863892466, -0.0769561096118289, -0.0014124022005698891, -0.02361950781449239, 0.08488085453714139, 0.0454562877817276, 0.19491961716737713, 0.3130915245610487, 0.17921218657866375, 0.1194180357028334, -0.5529005190172874, 0.24939134425423642, -0.07871237027793505, 0.6557016263443091, 0.030189458989339925], \"xaxis\": \"x\", \"y\": [0.15511827569689912, 0.10020678233713196, 0.013177278375897272, 0.20141390541023316, 0.2452788674902804, 0.025648711778147745, 0.16745167141118375, 0.2032939201793664, 0.20934833711808054, 0.03676024092684874, -0.07475981984949659, -0.12106675866375592, -0.16113782452412576, -0.07411732356404319, 0.12935302564308424, -0.03206616549308199, 0.10486746769980125, -0.1993110800891318, 0.2840114457146526, -0.2137226454932039, 0.07675573563012665, 0.20928213583816677, 0.04135958904102802, -0.06325414915357458, 0.03029839275743319, 0.25052194473886935, 0.3188537509802535, 0.04846420170046106, -0.10197864628234976, -0.024120023462043616, 0.022692997540968658, -0.04149738441969086, 0.06767638447078561, 0.42296086116149656, -0.06716046853675253, 0.08498601960267703, 0.39475445443980234, 0.19056172423889742, 0.01033014731182668, 0.055987112104171746, 0.2900111342442087, 0.1994008105481646, 0.11330880677855605, 0.17755608430032194, 0.14558360540992019, 0.09285962022830188, 0.04845693297958765, -0.18522521893281685, 0.17639844561262744, -0.09773799964188314, -0.16944063572896745, -0.06210912077554917, 0.037567523768940424, -0.0824319661585797, 0.12472429985404838, -0.09861493547004371, -0.09253829113331409, -0.16815144937263712, 0.34850445942213143, 0.03975945654882269, 0.06737411575638846, 0.1725477876886394, 0.006653942599170391, 0.32890821642350354, 0.04756312130404506, 0.030803362749163704, 0.32065009625022833, 0.09261446523697427, 0.11600003973956326, 0.08040678172263184, -0.024105017598013898, 0.24985677990408212, 0.024550841457703032, 0.028070482657528265, 0.21537451775393443, 0.0015636663435576739, -0.025818238343033217, -0.11833382481762471, -0.008448222131014801, -0.10266091512299251, -0.04236807405656925, -0.12772824634366547, -0.07380859582033789, 0.010670697702399893, 0.025374875353720606, 0.21147174451998815, -0.04133081094767277, -0.005134047437621041, -0.011666029047219958, 0.12956991749841343, -0.03650234804893903, -0.0926531987566124, 0.08220801713237862, -0.011209761508873824, 0.08487775508854102, -0.057101013024100415, 0.12270808409472996, -0.006534536815862186, -0.08282389984618906, 0.045902935449876454, -0.11924664165638395, 0.02335665822777617, -0.0035355602411171138, 0.1044013865105141, 0.05336714212880646, 0.08386671603816638, 0.06228598335182313, -0.018185797979311278, -0.0299184317091553, 0.060321372270903895, 0.02273624633861279, -0.08129728299619085, -0.15330852220460348, -0.16424681791651466, 0.06399814537615636, -0.1705992515043377, -0.22251446301870934, 0.0625995446270192, -0.04579174329413849], \"yaxis\": \"y\"}, {\"hovertemplate\": \"color=WangXiZhi<br>0=%{x}<br>1=%{y}<extra></extra>\", \"legendgroup\": \"WangXiZhi\", \"marker\": {\"color\": \"#ab63fa\", \"symbol\": \"circle\"}, \"mode\": \"markers\", \"name\": \"WangXiZhi\", \"orientation\": \"v\", \"showlegend\": true, \"type\": \"scatter\", \"x\": [0.21488412076683677, -0.1812669623094201, -0.020648584242406034, 0.07857096957372349, 0.04419628750717268, 0.04358199909407339, 0.02135534511105589, -0.03965414474410975, 0.1662906777490026, 0.0423520309540785, 0.08794190428301377, 0.010366473649235437, 0.2214595068862341, 0.07489668802846489, -0.2796955043125844, -0.13516361500272808, -0.5311516687260855, -0.11922634417555109, 0.1258318572233212, 0.038162243393118085, -0.03213420171120129, 0.153727830984061, 0.03873721291686342, 0.07556268337822208, 0.3584357723289849, -0.15779759021648956, -0.07406316293399731, -0.13857947327175568, 0.05654879897051096, -0.4775212980496682, 0.2953688770091101, -0.24298181971989652, -0.007434516764328268, -0.08978018509446908, 0.184560587902395, 0.009704434740666791, -0.08369628936794951, -0.19960546547283875, 0.06613708538572205, -0.010710805645224593, 0.04707330233681063, 0.2698106701829532, 0.25168498514400867, 0.22569168948593366, 0.07179898807122963, -0.2251195722989228, -0.09447853948473643, -0.1761253176912131, -0.10140962305913782, 0.16250126696616016, 0.16778018202878306, -0.09953470593341548, -0.17690442120350716, -0.10707666384274864, -0.26248873967846964, 0.16667637891754042, -0.12267446651890714, -0.07440765691980906, 0.6954558423754145, 0.2891668200505609, -0.06870930937081904, 0.4201133056506389, -0.15668855403382076, 0.01286745718521234, 0.0361453833698331, 0.07408203494993978, -0.20441866599584577, 0.1253694298329945, -0.15448653017574857, -0.19966672966589613, 0.23071481708288813, 0.5975259103029823, 0.16008107654140571, -0.08950842883967787, -0.06273790164535219, -0.05328517371260277, 0.004728906812747031, 0.08979395726462962, 0.007389292144700877, -0.6322536450739814, 0.5820773512538056, 0.09461871177578651, -0.17925887602865434, -0.038116288006899264, 0.05113807924479195, -0.12403509559910211, -0.06096792123100717, 0.36071953757421166, -0.43165412349153315, 0.22127204461556152, -0.13683213516123952, -0.057872441617923175, -0.24326574756701694, 0.11695978885076101, -0.07939050347834864], \"xaxis\": \"x\", \"y\": [0.026869866687798737, 0.054660213229291044, -0.18718340826366797, -0.07124764302586234, -0.39920173946967635, -0.508292242370549, -0.4987280805181349, 0.07797183679708154, 0.07092311144157096, 0.09302522309338096, -0.4222213816999248, 0.13942380636537233, 0.0977254315291677, 0.051514743803337724, 0.044345370478881735, 0.09424130052916845, 0.0797495434813773, 0.015825446586348556, 0.07093355664087435, 0.14914394085617516, -0.25474532433899466, -0.3161625427445305, -0.30504556864920457, -0.3263704418640612, -0.29959516919137025, 0.03372796655078752, 0.012990444971466994, -0.026423297063141015, -0.15913161334423676, -0.0301752955594407, -0.019577313551156467, -0.079646541152637, -0.03309413555697182, 0.04594862929606934, -0.22953132627709671, -0.06697370658194074, -0.20547489285654194, -0.074851212090936, -0.16407905529383118, 0.08598876793452943, -0.13592890614766026, 0.11358028477144445, -0.030467086646750526, 0.14633387655907523, -0.2549815771136932, -0.09136201262949808, -0.1389643675321141, -0.1667009639133064, 0.018544962953137144, -0.13643287265119858, -0.22100548922691937, 0.10688951414466656, 0.162098494564916, -0.1758425317784393, -0.03799633221265271, -0.2944688051301421, 0.07998609144740414, 0.11112359927094953, 0.15147902024246124, -0.023658541900450386, -0.29146866844165786, -0.2048041653604998, -0.30866232652457914, -0.49213549896281705, -0.2498471415707548, -0.20367412047046354, -0.06335573465598529, 0.16833217466369338, -0.1088827992342526, -0.05985221182266153, 0.1629584030853222, 0.21821400147112335, -0.22646234760573197, -0.272294752861627, -0.3531303930286071, -0.31538815341343657, -0.553370861289248, 0.014292067996056533, -0.08219099351111962, -0.07822236848310292, 0.01215408842919146, 0.01212136557176384, -0.08176230077568102, -0.18377181470036286, -0.19910357847055074, -0.20880432606851662, -0.154433648581759, 0.128060175177588, -0.13586139729601338, 0.08429380690699691, 0.2974921078409204, 0.0342911132541047, 0.142743697297452, -0.08581233332291839, -0.027661822130234597], \"yaxis\": \"y\"}, {\"hovertemplate\": \"color=Mi Fu (On Cursive Calligraphy)<br>0=%{x}<br>1=%{y}<extra></extra>\", \"legendgroup\": \"Mi Fu (On Cursive Calligraphy)\", \"marker\": {\"color\": \"#FFA15A\", \"symbol\": \"circle\"}, \"mode\": \"markers\", \"name\": \"Mi Fu (On Cursive Calligraphy)\", \"orientation\": \"v\", \"showlegend\": true, \"type\": \"scatter\", \"x\": [0.15174990582702194, -0.10574063053453862, 0.02447991305376301, 0.3623240715612269, 0.3803922201871207, 0.3054282122489219, 0.02075025937227942, -0.24425296668954333, -0.13485527627010307, -0.3737620096647179, 0.006387484793710324, 0.21336962255336483, 0.049248145310963866, -0.31967702310077917, -0.13275265123376356, -0.5637315918458446, 0.1879442634781794, 0.38293415895087907, 0.3229190804184514, 0.07726834776650865, -0.24759682517148468, 0.17935624906849323, -0.31439310041718815, -0.3381994120244856, 0.12013555775578291, -0.45252749664997255, -0.07503129889045833, -0.6255208664310139, -0.05957844054574577, -0.4687771320536862, 0.019881109193686988, 0.04412132145607102, -0.031938642043701185, 0.07470753553642688, -0.44870246866256247, -0.38282401168504754, 0.10374408032697711, 0.27695672620070344, -0.28618967683681107, 0.45175357056897175, -0.1690932403715827, -0.3433756676775162, -0.06959124477759433, 0.20137867201173443, 0.2680814743044208, 0.17618409990488165, 0.4021720247648957, 0.13196596449913306, 0.45158713420743113, 0.2885831254462737, 0.4145593008323756, 0.20264282830379957, -0.24301666352907103, 0.12899165712172778, 0.31903038586532884, 0.01864160152350727, -0.28574362795374253, -0.5037861048962412, -0.05741703109198611, -0.013002769547491291, -0.1773284390763826, 0.4544649604633345, 0.26732191060498395], \"xaxis\": \"x\", \"y\": [0.318430006766461, 0.4238953141875231, 0.15899497904927326, 0.33727106928376777, 0.2664298649645534, 0.21593133352034433, 0.35774468392470266, 0.20317566462363526, 0.16152848639129866, 0.21716139167241258, 0.3644228640761982, 0.3649142681476086, 0.35721798328093674, 0.26846430307773766, 0.30941806613136286, 0.3384838095210431, 0.3177884656029207, 0.04002421617992924, 0.18145560497233965, 0.10787499466471949, 0.32507125659008884, 0.18075527315512435, 0.16295275694010555, 0.2583534345111453, 0.22112177964948437, 0.24068848505377896, 0.1852735557017128, 0.36976260683449397, 0.1367150406534108, 0.15642777355207824, 0.16056472832491442, 0.3835523112837992, 0.266559376282066, 0.3582549272587188, 0.35257147758487134, 0.1458444548871723, 0.3891054167415157, 0.3564920598838699, 0.2697022554432409, 0.26576794148124266, 0.3015985485285829, 0.11980453869236878, 0.11529588064320212, 0.564951226655137, 0.05486760686102794, 0.2763022820350858, 0.30612589805260176, 0.24819289248521603, 0.30024793614504225, 0.2568866810444276, 0.33982035093726576, 0.3100464191444171, 0.1821948514169331, 0.4152168028231973, 0.31584582876186473, 0.34505155528134007, 0.3911072576854464, 0.14447860716954064, 0.22719734725487212, 0.2355913701331271, 0.30480078650630293, 0.5638185774642216, 0.3581057959201879], \"yaxis\": \"y\"}],                        {\"font\": {\"color\": \"RebeccaPurple\", \"family\": \"Courier New, monospace\", \"size\": 18}, \"legend\": {\"title\": {\"text\": \"Class\"}, \"tracegroupgap\": 0}, \"margin\": {\"t\": 60}, \"template\": {\"data\": {\"bar\": [{\"error_x\": {\"color\": \"#2a3f5f\"}, \"error_y\": {\"color\": \"#2a3f5f\"}, \"marker\": {\"line\": {\"color\": \"#E5ECF6\", \"width\": 0.5}}, \"type\": \"bar\"}], \"barpolar\": [{\"marker\": {\"line\": {\"color\": \"#E5ECF6\", \"width\": 0.5}}, \"type\": \"barpolar\"}], \"carpet\": [{\"aaxis\": {\"endlinecolor\": \"#2a3f5f\", \"gridcolor\": \"white\", \"linecolor\": \"white\", \"minorgridcolor\": \"white\", \"startlinecolor\": \"#2a3f5f\"}, \"baxis\": {\"endlinecolor\": \"#2a3f5f\", \"gridcolor\": \"white\", \"linecolor\": \"white\", \"minorgridcolor\": \"white\", \"startlinecolor\": \"#2a3f5f\"}, \"type\": \"carpet\"}], \"choropleth\": [{\"colorbar\": {\"outlinewidth\": 0, \"ticks\": \"\"}, \"type\": \"choropleth\"}], \"contour\": [{\"colorbar\": {\"outlinewidth\": 0, \"ticks\": \"\"}, \"colorscale\": [[0.0, \"#0d0887\"], [0.1111111111111111, \"#46039f\"], [0.2222222222222222, \"#7201a8\"], [0.3333333333333333, \"#9c179e\"], [0.4444444444444444, \"#bd3786\"], [0.5555555555555556, \"#d8576b\"], [0.6666666666666666, \"#ed7953\"], [0.7777777777777778, \"#fb9f3a\"], [0.8888888888888888, \"#fdca26\"], [1.0, \"#f0f921\"]], \"type\": \"contour\"}], \"contourcarpet\": [{\"colorbar\": {\"outlinewidth\": 0, \"ticks\": \"\"}, \"type\": \"contourcarpet\"}], \"heatmap\": [{\"colorbar\": {\"outlinewidth\": 0, \"ticks\": \"\"}, \"colorscale\": [[0.0, \"#0d0887\"], [0.1111111111111111, \"#46039f\"], [0.2222222222222222, \"#7201a8\"], [0.3333333333333333, \"#9c179e\"], [0.4444444444444444, \"#bd3786\"], [0.5555555555555556, \"#d8576b\"], [0.6666666666666666, \"#ed7953\"], [0.7777777777777778, \"#fb9f3a\"], [0.8888888888888888, \"#fdca26\"], [1.0, \"#f0f921\"]], \"type\": \"heatmap\"}], \"heatmapgl\": [{\"colorbar\": {\"outlinewidth\": 0, \"ticks\": \"\"}, \"colorscale\": [[0.0, \"#0d0887\"], [0.1111111111111111, \"#46039f\"], [0.2222222222222222, \"#7201a8\"], [0.3333333333333333, \"#9c179e\"], [0.4444444444444444, \"#bd3786\"], [0.5555555555555556, \"#d8576b\"], [0.6666666666666666, \"#ed7953\"], [0.7777777777777778, \"#fb9f3a\"], [0.8888888888888888, \"#fdca26\"], [1.0, \"#f0f921\"]], \"type\": \"heatmapgl\"}], \"histogram\": [{\"marker\": {\"colorbar\": {\"outlinewidth\": 0, \"ticks\": \"\"}}, \"type\": \"histogram\"}], \"histogram2d\": [{\"colorbar\": {\"outlinewidth\": 0, \"ticks\": \"\"}, \"colorscale\": [[0.0, \"#0d0887\"], [0.1111111111111111, \"#46039f\"], [0.2222222222222222, \"#7201a8\"], [0.3333333333333333, \"#9c179e\"], [0.4444444444444444, \"#bd3786\"], [0.5555555555555556, \"#d8576b\"], [0.6666666666666666, \"#ed7953\"], [0.7777777777777778, \"#fb9f3a\"], [0.8888888888888888, \"#fdca26\"], [1.0, \"#f0f921\"]], \"type\": \"histogram2d\"}], \"histogram2dcontour\": [{\"colorbar\": {\"outlinewidth\": 0, \"ticks\": \"\"}, \"colorscale\": [[0.0, \"#0d0887\"], [0.1111111111111111, \"#46039f\"], [0.2222222222222222, \"#7201a8\"], [0.3333333333333333, \"#9c179e\"], [0.4444444444444444, \"#bd3786\"], [0.5555555555555556, \"#d8576b\"], [0.6666666666666666, \"#ed7953\"], [0.7777777777777778, \"#fb9f3a\"], [0.8888888888888888, \"#fdca26\"], [1.0, \"#f0f921\"]], \"type\": \"histogram2dcontour\"}], \"mesh3d\": [{\"colorbar\": {\"outlinewidth\": 0, \"ticks\": \"\"}, \"type\": \"mesh3d\"}], \"parcoords\": [{\"line\": {\"colorbar\": {\"outlinewidth\": 0, \"ticks\": \"\"}}, \"type\": \"parcoords\"}], \"pie\": [{\"automargin\": true, \"type\": \"pie\"}], \"scatter\": [{\"marker\": {\"colorbar\": {\"outlinewidth\": 0, \"ticks\": \"\"}}, \"type\": \"scatter\"}], \"scatter3d\": [{\"line\": {\"colorbar\": {\"outlinewidth\": 0, \"ticks\": \"\"}}, \"marker\": {\"colorbar\": {\"outlinewidth\": 0, \"ticks\": \"\"}}, \"type\": \"scatter3d\"}], \"scattercarpet\": [{\"marker\": {\"colorbar\": {\"outlinewidth\": 0, \"ticks\": \"\"}}, \"type\": \"scattercarpet\"}], \"scattergeo\": [{\"marker\": {\"colorbar\": {\"outlinewidth\": 0, \"ticks\": \"\"}}, \"type\": \"scattergeo\"}], \"scattergl\": [{\"marker\": {\"colorbar\": {\"outlinewidth\": 0, \"ticks\": \"\"}}, \"type\": \"scattergl\"}], \"scattermapbox\": [{\"marker\": {\"colorbar\": {\"outlinewidth\": 0, \"ticks\": \"\"}}, \"type\": \"scattermapbox\"}], \"scatterpolar\": [{\"marker\": {\"colorbar\": {\"outlinewidth\": 0, \"ticks\": \"\"}}, \"type\": \"scatterpolar\"}], \"scatterpolargl\": [{\"marker\": {\"colorbar\": {\"outlinewidth\": 0, \"ticks\": \"\"}}, \"type\": \"scatterpolargl\"}], \"scatterternary\": [{\"marker\": {\"colorbar\": {\"outlinewidth\": 0, \"ticks\": \"\"}}, \"type\": \"scatterternary\"}], \"surface\": [{\"colorbar\": {\"outlinewidth\": 0, \"ticks\": \"\"}, \"colorscale\": [[0.0, \"#0d0887\"], [0.1111111111111111, \"#46039f\"], [0.2222222222222222, \"#7201a8\"], [0.3333333333333333, \"#9c179e\"], [0.4444444444444444, \"#bd3786\"], [0.5555555555555556, \"#d8576b\"], [0.6666666666666666, \"#ed7953\"], [0.7777777777777778, \"#fb9f3a\"], [0.8888888888888888, \"#fdca26\"], [1.0, \"#f0f921\"]], \"type\": \"surface\"}], \"table\": [{\"cells\": {\"fill\": {\"color\": \"#EBF0F8\"}, \"line\": {\"color\": \"white\"}}, \"header\": {\"fill\": {\"color\": \"#C8D4E3\"}, \"line\": {\"color\": \"white\"}}, \"type\": \"table\"}]}, \"layout\": {\"annotationdefaults\": {\"arrowcolor\": \"#2a3f5f\", \"arrowhead\": 0, \"arrowwidth\": 1}, \"autotypenumbers\": \"strict\", \"coloraxis\": {\"colorbar\": {\"outlinewidth\": 0, \"ticks\": \"\"}}, \"colorscale\": {\"diverging\": [[0, \"#8e0152\"], [0.1, \"#c51b7d\"], [0.2, \"#de77ae\"], [0.3, \"#f1b6da\"], [0.4, \"#fde0ef\"], [0.5, \"#f7f7f7\"], [0.6, \"#e6f5d0\"], [0.7, \"#b8e186\"], [0.8, \"#7fbc41\"], [0.9, \"#4d9221\"], [1, \"#276419\"]], \"sequential\": [[0.0, \"#0d0887\"], [0.1111111111111111, \"#46039f\"], [0.2222222222222222, \"#7201a8\"], [0.3333333333333333, \"#9c179e\"], [0.4444444444444444, \"#bd3786\"], [0.5555555555555556, \"#d8576b\"], [0.6666666666666666, \"#ed7953\"], [0.7777777777777778, \"#fb9f3a\"], [0.8888888888888888, \"#fdca26\"], [1.0, \"#f0f921\"]], \"sequentialminus\": [[0.0, \"#0d0887\"], [0.1111111111111111, \"#46039f\"], [0.2222222222222222, \"#7201a8\"], [0.3333333333333333, \"#9c179e\"], [0.4444444444444444, \"#bd3786\"], [0.5555555555555556, \"#d8576b\"], [0.6666666666666666, \"#ed7953\"], [0.7777777777777778, \"#fb9f3a\"], [0.8888888888888888, \"#fdca26\"], [1.0, \"#f0f921\"]]}, \"colorway\": [\"#636efa\", \"#EF553B\", \"#00cc96\", \"#ab63fa\", \"#FFA15A\", \"#19d3f3\", \"#FF6692\", \"#B6E880\", \"#FF97FF\", \"#FECB52\"], \"font\": {\"color\": \"#2a3f5f\"}, \"geo\": {\"bgcolor\": \"white\", \"lakecolor\": \"white\", \"landcolor\": \"#E5ECF6\", \"showlakes\": true, \"showland\": true, \"subunitcolor\": \"white\"}, \"hoverlabel\": {\"align\": \"left\"}, \"hovermode\": \"closest\", \"mapbox\": {\"style\": \"light\"}, \"paper_bgcolor\": \"white\", \"plot_bgcolor\": \"#E5ECF6\", \"polar\": {\"angularaxis\": {\"gridcolor\": \"white\", \"linecolor\": \"white\", \"ticks\": \"\"}, \"bgcolor\": \"#E5ECF6\", \"radialaxis\": {\"gridcolor\": \"white\", \"linecolor\": \"white\", \"ticks\": \"\"}}, \"scene\": {\"xaxis\": {\"backgroundcolor\": \"#E5ECF6\", \"gridcolor\": \"white\", \"gridwidth\": 2, \"linecolor\": \"white\", \"showbackground\": true, \"ticks\": \"\", \"zerolinecolor\": \"white\"}, \"yaxis\": {\"backgroundcolor\": \"#E5ECF6\", \"gridcolor\": \"white\", \"gridwidth\": 2, \"linecolor\": \"white\", \"showbackground\": true, \"ticks\": \"\", \"zerolinecolor\": \"white\"}, \"zaxis\": {\"backgroundcolor\": \"#E5ECF6\", \"gridcolor\": \"white\", \"gridwidth\": 2, \"linecolor\": \"white\", \"showbackground\": true, \"ticks\": \"\", \"zerolinecolor\": \"white\"}}, \"shapedefaults\": {\"line\": {\"color\": \"#2a3f5f\"}}, \"ternary\": {\"aaxis\": {\"gridcolor\": \"white\", \"linecolor\": \"white\", \"ticks\": \"\"}, \"baxis\": {\"gridcolor\": \"white\", \"linecolor\": \"white\", \"ticks\": \"\"}, \"bgcolor\": \"#E5ECF6\", \"caxis\": {\"gridcolor\": \"white\", \"linecolor\": \"white\", \"ticks\": \"\"}}, \"title\": {\"x\": 0.05}, \"xaxis\": {\"automargin\": true, \"gridcolor\": \"white\", \"linecolor\": \"white\", \"ticks\": \"\", \"title\": {\"standoff\": 15}, \"zerolinecolor\": \"white\", \"zerolinewidth\": 2}, \"yaxis\": {\"automargin\": true, \"gridcolor\": \"white\", \"linecolor\": \"white\", \"ticks\": \"\", \"title\": {\"standoff\": 15}, \"zerolinecolor\": \"white\", \"zerolinewidth\": 2}}}, \"title\": {\"text\": \"PCA\"}, \"xaxis\": {\"anchor\": \"y\", \"domain\": [0.0, 1.0], \"title\": {\"text\": \"PC 1\"}}, \"yaxis\": {\"anchor\": \"x\", \"domain\": [0.0, 1.0], \"title\": {\"text\": \"PC 2\"}}},                        {\"responsive\": true}                    ).then(function(){\n",
       "                            \n",
       "var gd = document.getElementById('15cb1f67-27f0-48d1-8310-a91af87e828f');\n",
       "var x = new MutationObserver(function (mutations, observer) {{\n",
       "        var display = window.getComputedStyle(gd).display;\n",
       "        if (!display || display === 'none') {{\n",
       "            console.log([gd, 'removed!']);\n",
       "            Plotly.purge(gd);\n",
       "            observer.disconnect();\n",
       "        }}\n",
       "}});\n",
       "\n",
       "// Listen for the removal of the full notebook cells\n",
       "var notebookContainer = gd.closest('#notebook-container');\n",
       "if (notebookContainer) {{\n",
       "    x.observe(notebookContainer, {childList: true});\n",
       "}}\n",
       "\n",
       "// Listen for the clearing of the current output cell\n",
       "var outputEl = gd.closest('.output');\n",
       "if (outputEl) {{\n",
       "    x.observe(outputEl, {childList: true});\n",
       "}}\n",
       "\n",
       "                        })                };                });            </script>        </div>"
      ]
     },
     "metadata": {},
     "output_type": "display_data"
    }
   ],
   "source": [
    "paths = ['Extracted Characters/Mi Fu - Poem Written in a Boat on the Wu River/',\n",
    "         'Extracted Characters/Emperor Huizong - Finches and bamboo/',\n",
    "         'Extracted Characters/Su Shi - Inscription of Hanshi/',\n",
    "         'Extracted Characters/WangXiZhi - On the Seventeenth Day/',\n",
    "         'Extracted Characters/Mi Fu - On Cursive Calligraphy/']\n",
    "label_list = ['Mi Fu (Wu River)',\n",
    "             'Huizong',\n",
    "             'Su Shi',\n",
    "             'WangXiZhi',\n",
    "             'Mi Fu (On Cursive Calligraphy)']\n",
    "invert_list = [True,\n",
    "              True,\n",
    "              True,\n",
    "              False,\n",
    "              True]\n",
    "\n",
    "# Construct labeled dataset of contour angle histograms\n",
    "X_list = []\n",
    "labels = []\n",
    "for i, path in enumerate(paths):\n",
    "    label = label_list[i]\n",
    "    invert = invert_list[i]\n",
    "    if invert:\n",
    "        X = feature_analysis_in_path(path, invert=True)\n",
    "    else:\n",
    "        X = feature_analysis_in_path(path, invert=False)\n",
    "    X_list.append(X)\n",
    "    labels += [label] * X.shape[1]\n",
    "    \n",
    "X_total =  np.vstack([X.T for X in X_list])\n",
    "\n",
    "# Perform PCA\n",
    "pca = PCA(n_components=2)\n",
    "components = pca.fit_transform(X_total)\n",
    "print(f'# of datapoints: {len(components)}')\n",
    "print(f'len(labels) = {len(labels)}')\n",
    "assert(len(labels) == len(components))\n",
    "total_var = pca.explained_variance_ratio_.sum() * 100\n",
    "print('Total explained variance = {:0.2f}%'.format(total_var))\n",
    "\n",
    "# Plot results with Plotly\n",
    "fig = px.scatter(components, x=0, y=1, color=labels)\n",
    "fig.update_layout(\n",
    "    title=\"PCA\",\n",
    "    xaxis_title=\"PC 1\",\n",
    "    yaxis_title=\"PC 2\",\n",
    "    legend_title=\"Class\",\n",
    "    font=dict(\n",
    "        family=\"Courier New, monospace\",\n",
    "        size=18,\n",
    "        color=\"RebeccaPurple\"\n",
    "    )\n",
    ")\n",
    "fig.show()\n",
    "fig.write_image('Test/PCA_Plotly_46features.png')"
   ]
  },
  {
   "cell_type": "code",
   "execution_count": 112,
   "id": "characteristic-attachment",
   "metadata": {},
   "outputs": [
    {
     "data": {
      "text/plain": [
       "[<matplotlib.lines.Line2D at 0x7fb360c65ed0>]"
      ]
     },
     "execution_count": 112,
     "metadata": {},
     "output_type": "execute_result"
    }
   ],
   "source": [
    "pca.fit(X_total)\n",
    "PC1, PC2 = pca.components_\n",
    "plt.plot(PC1)\n",
    "plt.plot(PC2)"
   ]
  },
  {
   "cell_type": "code",
   "execution_count": 94,
   "id": "aboriginal-basin",
   "metadata": {},
   "outputs": [
    {
     "data": {
      "application/vnd.plotly.v1+json": {
       "config": {
        "plotlyServerURL": "https://plot.ly"
       },
       "data": [
        {
         "hovertemplate": "color=Mi Fu (Wu River)<br>PC 1=%{x}<br>PC 2=%{y}<br>PC 3=%{z}<br>size=%{marker.size}<extra></extra>",
         "legendgroup": "Mi Fu (Wu River)",
         "marker": {
          "color": "#636efa",
          "size": [
           0.001,
           0.001,
           0.001,
           0.001,
           0.001,
           0.001,
           0.001,
           0.001,
           0.001,
           0.001,
           0.001,
           0.001,
           0.001,
           0.001,
           0.001,
           0.001,
           0.001,
           0.001,
           0.001,
           0.001,
           0.001,
           0.001,
           0.001,
           0.001,
           0.001,
           0.001,
           0.001,
           0.001,
           0.001,
           0.001,
           0.001,
           0.001,
           0.001,
           0.001,
           0.001,
           0.001,
           0.001,
           0.001,
           0.001,
           0.001,
           0.001,
           0.001,
           0.001,
           0.001,
           0.001,
           0.001,
           0.001,
           0.001,
           0.001,
           0.001,
           0.001,
           0.001,
           0.001,
           0.001,
           0.001,
           0.001,
           0.001,
           0.001,
           0.001,
           0.001,
           0.001,
           0.001,
           0.001,
           0.001,
           0.001,
           0.001,
           0.001,
           0.001,
           0.001,
           0.001,
           0.001,
           0.001,
           0.001,
           0.001,
           0.001,
           0.001,
           0.001,
           0.001,
           0.001,
           0.001,
           0.001,
           0.001,
           0.001,
           0.001,
           0.001,
           0.001,
           0.001,
           0.001,
           0.001,
           0.001,
           0.001
          ],
          "sizemode": "area",
          "sizeref": 2.5e-06,
          "symbol": "circle"
         },
         "mode": "markers",
         "name": "Mi Fu (Wu River)",
         "scene": "scene",
         "showlegend": true,
         "type": "scatter3d",
         "x": [
          -0.07502122178034315,
          -0.25715088483471776,
          0.1392876534148933,
          -0.12116450125195433,
          0.003959746901953046,
          -0.06687619944231624,
          -0.02266684689658758,
          0.03588683961450442,
          -0.20921892650524346,
          -0.2700746684747553,
          -0.14186206019448416,
          -0.14136100263947485,
          -0.16486313031246105,
          -0.07102655779176152,
          0.20757550889364304,
          -0.1408948409319225,
          0.23558811365467527,
          -0.24636331378822954,
          -0.08294486018527908,
          -0.2428922470429582,
          -0.17248083665815633,
          -0.1194294820087431,
          -0.02439611358448612,
          -0.18694647029246259,
          -0.0708736591629005,
          -0.056812576498313665,
          -0.17215782821694628,
          0.13619900749345878,
          -0.21369084856614004,
          -0.16647970279023852,
          -0.17773071943243557,
          -0.20762034670542875,
          -0.0869892017422789,
          -0.22832123295927692,
          -0.2320178400259163,
          -0.14807168700642553,
          0.09856484741054504,
          0.10674426602127217,
          0.010141688887512882,
          0.015978105831525636,
          -0.06350647618047577,
          0.014974771167309825,
          -0.16271815083354674,
          -0.4812783920356993,
          0.3204218424441733,
          0.017390561578946168,
          0.23015027198241075,
          -0.3402131886102914,
          -0.31714218204301964,
          -0.2046942911908959,
          -0.049635227481422954,
          -0.4679477929446239,
          -0.24120638271626696,
          0.02172294289616429,
          -0.06773406465066423,
          0.20213017124917423,
          -0.5037837957284093,
          -0.4155071367483036,
          0.015512403399297327,
          0.12555233382891584,
          -0.20507890079315075,
          -0.07234527021742396,
          0.1097850579813888,
          0.15789330849778635,
          -0.0582221507676489,
          -0.2482866509858899,
          -0.43470856812820424,
          -0.2328620994161625,
          0.08307187717412946,
          -0.2165151942472996,
          0.9314912879806286,
          -0.2705379852238113,
          0.07882224520251777,
          -0.16689555498092734,
          0.016291886244239606,
          -0.047695481836737844,
          -0.23644277555608373,
          -0.17784347747305795,
          -0.00497527517284317,
          0.10563060041672744,
          0.0140338437404063,
          -0.43324218373078605,
          -0.3852536297499069,
          -0.10633572288918605,
          -0.03163859695723564,
          -0.3130977868301036,
          0.20808897212354185,
          -0.6832701444035324,
          -0.5624297992253988,
          -0.14346339033011354,
          0.18513492400796078
         ],
         "y": [
          -0.32138245106283897,
          -0.1099640077016337,
          -0.31079480382763663,
          -0.24130566373315426,
          -0.14353471086018382,
          -0.25757017280200045,
          -0.17198795661341776,
          -0.2971000759187314,
          -0.2101274192492833,
          -0.17133590055620787,
          -0.0315394962168877,
          -0.0637484996495142,
          -0.06695539365715843,
          -0.11995096453400968,
          -0.2916459010460155,
          -0.3580768246270121,
          0.1050799932082797,
          -0.23298977735625545,
          -0.1376371636547541,
          -0.16668133294511978,
          -0.05045403872919712,
          -0.043526964578755094,
          -0.07842464820406438,
          -0.17670796837319228,
          -0.17586856751831928,
          -0.14234197352388786,
          -0.1347550523575639,
          -0.2661561552113539,
          -0.2452082465936513,
          -0.13817188476401665,
          -0.03969631306744744,
          -0.03421855237020344,
          -0.15574114561547026,
          -0.22912339180947217,
          -0.01422996426708149,
          0.11406010458133042,
          0.07581207875221103,
          -0.18481505747280053,
          0.2847181883263886,
          -0.09582591562824554,
          -0.26547702174556326,
          -0.3818410597783183,
          -0.2312323148200007,
          -0.13112997479634303,
          0.26734342862952526,
          -0.050065354479007444,
          -0.12178492969118951,
          0.01399075387680934,
          0.0737585581455993,
          -0.12806318214249338,
          0.17682667674463737,
          -0.02918440637415955,
          0.044256663095229624,
          -0.07275786353406807,
          -0.26186393444263567,
          -0.4059886146910776,
          0.07489650307804359,
          0.12442616012088617,
          0.10603315518162298,
          -0.036829717315644106,
          -0.19759949217003236,
          0.0967922154746126,
          0.1499602863173397,
          -0.008545809560890431,
          -0.05325640420283484,
          0.09591491017985694,
          0.14878147025121277,
          0.011239285770971327,
          -0.03588951569777716,
          0.004368613716260395,
          0.06355139762634962,
          -0.11974546232792352,
          -0.07258284440240123,
          0.028658656858227074,
          -0.21164416574019082,
          0.05440797749523222,
          0.07612041820402839,
          0.05780045812597032,
          -0.022790759841434454,
          0.01943520299147388,
          0.07985872399259035,
          0.15014217796649293,
          0.12346533625058999,
          0.01899489673217896,
          -0.040915553214816595,
          -0.1659937074842798,
          -0.24857024025812288,
          0.04566305733440358,
          0.12653570122505348,
          -0.01550919310052497,
          -0.035300954581960343
         ],
         "z": [
          0.1151722494126801,
          0.18736192493737439,
          -0.1377548930108602,
          0.009997884172095106,
          0.02576366322758968,
          0.013806297196600032,
          -0.12659801757768643,
          -0.005404325521711141,
          0.12294020032577047,
          0.0937161372659045,
          0.11861583869044841,
          -0.017741770687052315,
          -0.04228249881995936,
          0.1887312672891139,
          -0.08495018695843039,
          -0.07367126607577275,
          -0.11355122038223146,
          -0.0622793990366616,
          0.19868322118823226,
          -0.06339797750973875,
          -0.010358651534591923,
          0.01644999984312761,
          -0.13331611654303208,
          0.09366815850864232,
          -0.08126032962740137,
          0.08042813615027393,
          -0.057733953263891,
          0.027357477341228606,
          0.00948686454354412,
          0.13946738161273542,
          -0.018405877543638104,
          0.020537596780280557,
          0.04666036336139168,
          0.2716255627503377,
          -0.3764435049299321,
          -0.06290066711223867,
          -0.02112691726737496,
          0.08234221044107437,
          0.12369996492391408,
          -0.12332018093594391,
          0.09877143748720096,
          -0.14743132101130807,
          -0.09969922588627682,
          0.12091558277977664,
          0.024776752828686768,
          0.058079690772139814,
          0.14341367335883823,
          -0.14466524483701948,
          -0.2864289494069212,
          -0.08614558796897764,
          0.10017365210394566,
          0.15620344577457315,
          -0.151261820503186,
          -0.2738205092794782,
          0.034486250990827125,
          0.18422643038484912,
          -0.19057660466306695,
          -0.2992669780741101,
          -0.11421412044540367,
          -0.02092004633048993,
          0.09012173571346695,
          0.057866745044869675,
          -0.15449352811242734,
          -0.15834683019629173,
          0.11628890954473568,
          -0.22630053312906573,
          -0.05923639928909749,
          -0.25159872924613985,
          -0.1210862321285427,
          -0.07147824228270083,
          0.2144972292392866,
          0.15396836944970047,
          -0.10411801185539887,
          -0.011385674600717462,
          0.06209819647265956,
          -0.24426917824951408,
          -0.06065723221525609,
          0.07701618805449942,
          0.11822376249208387,
          0.009828208379945486,
          -0.0011979033748676343,
          -0.007631307028014249,
          0.04494291409087902,
          -0.3081690474862702,
          -0.3517512398441963,
          0.012244176464487019,
          -0.1633857012607013,
          0.13525897378670113,
          -0.09965911045842447,
          -0.1379203878361394,
          -0.16122660225447016
         ]
        },
        {
         "hovertemplate": "color=Huizong<br>PC 1=%{x}<br>PC 2=%{y}<br>PC 3=%{z}<br>size=%{marker.size}<extra></extra>",
         "legendgroup": "Huizong",
         "marker": {
          "color": "#EF553B",
          "size": [
           0.001,
           0.001,
           0.001,
           0.001,
           0.001,
           0.001,
           0.001,
           0.001,
           0.001,
           0.001,
           0.001,
           0.001,
           0.001,
           0.001,
           0.001,
           0.001,
           0.001,
           0.001,
           0.001,
           0.001,
           0.001,
           0.001,
           0.001,
           0.001,
           0.001,
           0.001,
           0.001,
           0.001,
           0.001,
           0.001,
           0.001,
           0.001,
           0.001,
           0.001,
           0.001,
           0.001,
           0.001,
           0.001,
           0.001,
           0.001,
           0.001,
           0.001,
           0.001,
           0.001,
           0.001,
           0.001,
           0.001,
           0.001,
           0.001,
           0.001,
           0.001,
           0.001,
           0.001,
           0.001,
           0.001,
           0.001,
           0.001,
           0.001,
           0.001,
           0.001,
           0.001,
           0.001,
           0.001
          ],
          "sizemode": "area",
          "sizeref": 2.5e-06,
          "symbol": "circle"
         },
         "mode": "markers",
         "name": "Huizong",
         "scene": "scene",
         "showlegend": true,
         "type": "scatter3d",
         "x": [
          0.061601058991039424,
          0.32135135330987036,
          0.050925646362628516,
          -0.3361379562769396,
          0.41796279262085057,
          -0.02758132371596116,
          0.005657677791576017,
          -0.3060157632444882,
          -0.09356102981234453,
          0.19536660527003427,
          0.09859294877596964,
          0.11337916261734432,
          -0.11781445442938376,
          -0.09304199957921469,
          0.12302451675006693,
          -0.07794229008364854,
          0.6620467734196995,
          -0.1391717495592964,
          0.40046463929279835,
          0.13874989875104096,
          -0.09994321550341011,
          0.24670142346193635,
          0.03166662893439158,
          0.0133540061135672,
          0.22010916471272055,
          0.2883948451835969,
          0.13002542120864083,
          0.1418960469055412,
          -0.08129046081809461,
          -0.04904905029302099,
          0.2596708787709579,
          -0.06281756066230477,
          -0.007888278083007086,
          -0.16891154523293642,
          0.08478540906034819,
          -0.10559091471145925,
          0.26464962727499214,
          0.11711978383953921,
          -0.18835344433434564,
          -0.174552756193462,
          0.39928881123353166,
          -0.12197354542390125,
          0.045215506298885544,
          -0.2827780307780663,
          0.19235038455247758,
          0.1739505512951602,
          0.18456562703930815,
          0.188089238175194,
          0.11964089956368598,
          0.049981944022905844,
          0.09799250628768826,
          0.08271901150433217,
          0.1924819018873125,
          -0.389991590417692,
          0.048990421804317806,
          0.14809439712493108,
          0.23525391467154907,
          0.32509805415539106,
          -0.07690987652781446,
          0.07069125932311313,
          -0.2657225778216276,
          -0.12056881859041108,
          0.15283946648168478
         ],
         "y": [
          -0.039060813932284985,
          -0.07686895830777696,
          -0.040616716676099826,
          -0.09517151647029866,
          -0.11599980501729228,
          -0.11525744347587809,
          -0.14239193983385398,
          -0.0926723292078237,
          -0.07658736046382789,
          -0.10841475138134138,
          -0.21879571637117062,
          -0.05300446470323191,
          -0.37878089065752324,
          -0.2879667156349885,
          -0.20342581949251987,
          -0.06844959117437102,
          0.056791272391537036,
          -0.30206939034852137,
          -0.30121636866577617,
          -0.18760728237515328,
          -0.0885404704083148,
          -0.41234646127138636,
          -0.20377188362323767,
          -0.1614522759476418,
          -0.1873678656263956,
          -0.03869985401802695,
          -0.1808911718013544,
          -0.0986113581424457,
          -0.192220366517426,
          -0.0852888395936786,
          0.04315520619168937,
          -0.1505876056750552,
          -0.24708962937444248,
          -0.2724570838289187,
          -0.12492337232575383,
          -0.10320684542983634,
          -0.1626670018687986,
          -0.16947174698508918,
          -0.18969575206919695,
          0.02693975572822305,
          0.005911494403791909,
          -0.12542168302581863,
          -0.08268249858969491,
          0.1476605085674729,
          0.13512427173554659,
          0.10832337316807181,
          -0.20636038871654394,
          -0.1628906734606516,
          -0.2245874008594953,
          -0.10786943376756548,
          -0.059423735014396274,
          -0.2017201733370457,
          -0.29637931657723704,
          -0.09429576005659203,
          -0.09197782342511956,
          -0.023756236593803187,
          -0.042451057882555675,
          0.028235225248644975,
          -0.01566523498966179,
          -0.20692768334328263,
          -0.10451486061715595,
          -0.11078341950182924,
          -0.15760748062692603
         ],
         "z": [
          0.16283956357351656,
          -0.03650499168171522,
          0.1354987072418888,
          0.09589384667610873,
          0.045861357298706315,
          -0.001554685783037755,
          0.1783426034887261,
          0.06549415882338726,
          0.01581758198581845,
          0.10418651477106092,
          0.017279900439571762,
          -0.0777113564958932,
          0.08521145986418112,
          -0.035065753883079386,
          -0.03592260653322611,
          0.10119424091300158,
          0.1583842452222977,
          -0.15386117880916855,
          -0.010935938216602199,
          0.06967571028644666,
          0.16351556125443129,
          -0.011457828892215237,
          0.13752711133675471,
          -0.08461390703957047,
          -0.07137310645095926,
          0.11234825393423917,
          0.052883296883547766,
          -0.015039632810892935,
          0.10205428512606457,
          0.11092456832681492,
          -0.08760477064732337,
          -0.07455897405876687,
          0.06382180710785029,
          -0.1358639878517662,
          0.07633229610986157,
          0.18907893998513786,
          0.027207518177358957,
          -0.14844174085253914,
          0.17557662452865372,
          0.12037091217627681,
          0.04419819601531954,
          -0.08697002568129306,
          -0.029652966394338426,
          0.22560580115919007,
          -0.10240715241480833,
          0.22820734031205658,
          -0.0902094636413997,
          -0.08359243989188647,
          0.2807166618311264,
          0.11489981994637644,
          -0.06387745066789749,
          0.02076585925037303,
          0.10858326844160393,
          0.29542800550025994,
          0.051172630262330376,
          -0.02037412913249883,
          0.0749740475867804,
          -0.03942405334211689,
          0.19098452402324037,
          -0.10267799355215596,
          0.04866909451163291,
          0.14628935686036157,
          0.11475252083348182
         ]
        },
        {
         "hovertemplate": "color=Su Shi<br>PC 1=%{x}<br>PC 2=%{y}<br>PC 3=%{z}<br>size=%{marker.size}<extra></extra>",
         "legendgroup": "Su Shi",
         "marker": {
          "color": "#00cc96",
          "size": [
           0.001,
           0.001,
           0.001,
           0.001,
           0.001,
           0.001,
           0.001,
           0.001,
           0.001,
           0.001,
           0.001,
           0.001,
           0.001,
           0.001,
           0.001,
           0.001,
           0.001,
           0.001,
           0.001,
           0.001,
           0.001,
           0.001,
           0.001,
           0.001,
           0.001,
           0.001,
           0.001,
           0.001,
           0.001,
           0.001,
           0.001,
           0.001,
           0.001,
           0.001,
           0.001,
           0.001,
           0.001,
           0.001,
           0.001,
           0.001,
           0.001,
           0.001,
           0.001,
           0.001,
           0.001,
           0.001,
           0.001,
           0.001,
           0.001,
           0.001,
           0.001,
           0.001,
           0.001,
           0.001,
           0.001,
           0.001,
           0.001,
           0.001,
           0.001,
           0.001,
           0.001,
           0.001,
           0.001,
           0.001,
           0.001,
           0.001,
           0.001,
           0.001,
           0.001,
           0.001,
           0.001,
           0.001,
           0.001,
           0.001,
           0.001,
           0.001,
           0.001,
           0.001,
           0.001,
           0.001,
           0.001,
           0.001,
           0.001,
           0.001,
           0.001,
           0.001,
           0.001,
           0.001,
           0.001,
           0.001,
           0.001,
           0.001,
           0.001,
           0.001,
           0.001,
           0.001,
           0.001,
           0.001,
           0.001,
           0.001,
           0.001,
           0.001,
           0.001,
           0.001,
           0.001,
           0.001,
           0.001,
           0.001,
           0.001,
           0.001,
           0.001,
           0.001,
           0.001,
           0.001,
           0.001,
           0.001,
           0.001,
           0.001,
           0.001
          ],
          "sizemode": "area",
          "sizeref": 2.5e-06,
          "symbol": "circle"
         },
         "mode": "markers",
         "name": "Su Shi",
         "scene": "scene",
         "showlegend": true,
         "type": "scatter3d",
         "x": [
          -0.3711877504798517,
          0.018298717088898624,
          0.1459197205746287,
          0.08125448492518904,
          -0.5933633789102982,
          0.011236636821991684,
          -0.006971470077239238,
          0.5889824177394498,
          0.5834381408662319,
          0.31820059336764067,
          -0.04378617117246494,
          -0.2225696874258774,
          0.1624067650352332,
          0.2401259406897162,
          0.13694873544250788,
          0.2646824469760599,
          0.21931222669674846,
          -0.21036055324664688,
          0.3143987524674689,
          0.2425078635092978,
          -0.08822351527179516,
          0.09710610246764505,
          -0.605142892417985,
          0.2688402346980462,
          0.2408460721813085,
          -0.42906109211411225,
          -0.4365711857034465,
          -0.2910651906895002,
          0.17020297711442797,
          0.10078370414399906,
          -0.15264427583211845,
          0.018006287318862845,
          0.1994934458205545,
          0.3456050043589139,
          0.24646136967936236,
          -0.4021867300549126,
          -0.753734698544493,
          -0.4673809648687488,
          0.030407889605096616,
          0.2081263144693472,
          0.1389599703803076,
          0.04711804767964754,
          0.2460169980654676,
          -0.31813473954803406,
          -0.21578339429607904,
          -0.14909860024081067,
          -0.02296698189971833,
          0.32897558594925397,
          -0.21050849353084025,
          -0.013729517761662343,
          0.05740518706486298,
          -0.19986470751235874,
          0.3478279761734774,
          -0.23097966284297955,
          -0.15918119825061508,
          0.1511448807979184,
          0.00516385535795891,
          0.028641902434051715,
          0.31149139091090533,
          -0.08172985541205093,
          -0.2269782715923695,
          0.1843258085503573,
          0.17177185005300116,
          0.2710772830729895,
          -0.16707933565336347,
          -0.02030488269576775,
          0.1638809293483322,
          0.050503132980315404,
          -0.1275003197394254,
          -0.07017103422286454,
          0.015698114155459963,
          -0.09016149424127587,
          0.39005270458298213,
          0.29003459458900166,
          0.25941170812725006,
          0.15974041390032825,
          0.4636884899433991,
          0.21756460194631,
          -0.01606905838465281,
          0.11918829313311007,
          0.01251250620991594,
          -0.12832500393613935,
          -0.08675635537191083,
          -0.12990397644265272,
          0.14438722936069184,
          0.2118213817032324,
          0.36226442651337365,
          -0.2670734510786618,
          -0.009560084780515343,
          -0.37237459305258014,
          0.2345776187832634,
          -0.18422728624491294,
          -0.4968837406280873,
          0.267592903164749,
          -0.4090843950198188,
          0.00689905932948631,
          0.26121502489825804,
          0.4399037326035229,
          0.16830234906151384,
          0.2811482559260263,
          -0.009983717202084989,
          0.42825393845689247,
          0.14403622975258248,
          0.225245504182308,
          0.09783557863892466,
          -0.0769561096118289,
          -0.0014124022005698891,
          -0.02361950781449239,
          0.08488085453714139,
          0.0454562877817276,
          0.19491961716737713,
          0.3130915245610487,
          0.17921218657866375,
          0.1194180357028334,
          -0.5529005190172874,
          0.24939134425423642,
          -0.07871237027793505,
          0.6557016263443091,
          0.030189458989339925
         ],
         "y": [
          0.15511827569689912,
          0.10020678233713196,
          0.013177278375897272,
          0.20141390541023316,
          0.2452788674902804,
          0.025648711778147745,
          0.16745167141118375,
          0.2032939201793664,
          0.20934833711808054,
          0.03676024092684874,
          -0.07475981984949659,
          -0.12106675866375592,
          -0.16113782452412576,
          -0.07411732356404319,
          0.12935302564308424,
          -0.03206616549308199,
          0.10486746769980125,
          -0.1993110800891318,
          0.2840114457146526,
          -0.2137226454932039,
          0.07675573563012665,
          0.20928213583816677,
          0.04135958904102802,
          -0.06325414915357458,
          0.03029839275743319,
          0.25052194473886935,
          0.3188537509802535,
          0.04846420170046106,
          -0.10197864628234976,
          -0.024120023462043616,
          0.022692997540968658,
          -0.04149738441969086,
          0.06767638447078561,
          0.42296086116149656,
          -0.06716046853675253,
          0.08498601960267703,
          0.39475445443980234,
          0.19056172423889742,
          0.01033014731182668,
          0.055987112104171746,
          0.2900111342442087,
          0.1994008105481646,
          0.11330880677855605,
          0.17755608430032194,
          0.14558360540992019,
          0.09285962022830188,
          0.04845693297958765,
          -0.18522521893281685,
          0.17639844561262744,
          -0.09773799964188314,
          -0.16944063572896745,
          -0.06210912077554917,
          0.037567523768940424,
          -0.0824319661585797,
          0.12472429985404838,
          -0.09861493547004371,
          -0.09253829113331409,
          -0.16815144937263712,
          0.34850445942213143,
          0.03975945654882269,
          0.06737411575638846,
          0.1725477876886394,
          0.006653942599170391,
          0.32890821642350354,
          0.04756312130404506,
          0.030803362749163704,
          0.32065009625022833,
          0.09261446523697427,
          0.11600003973956326,
          0.08040678172263184,
          -0.024105017598013898,
          0.24985677990408212,
          0.024550841457703032,
          0.028070482657528265,
          0.21537451775393443,
          0.0015636663435576739,
          -0.025818238343033217,
          -0.11833382481762471,
          -0.008448222131014801,
          -0.10266091512299251,
          -0.04236807405656925,
          -0.12772824634366547,
          -0.07380859582033789,
          0.010670697702399893,
          0.025374875353720606,
          0.21147174451998815,
          -0.04133081094767277,
          -0.005134047437621041,
          -0.011666029047219958,
          0.12956991749841343,
          -0.03650234804893903,
          -0.0926531987566124,
          0.08220801713237862,
          -0.011209761508873824,
          0.08487775508854102,
          -0.057101013024100415,
          0.12270808409472996,
          -0.006534536815862186,
          -0.08282389984618906,
          0.045902935449876454,
          -0.11924664165638395,
          0.02335665822777617,
          -0.0035355602411171138,
          0.1044013865105141,
          0.05336714212880646,
          0.08386671603816638,
          0.06228598335182313,
          -0.018185797979311278,
          -0.0299184317091553,
          0.060321372270903895,
          0.02273624633861279,
          -0.08129728299619085,
          -0.15330852220460348,
          -0.16424681791651466,
          0.06399814537615636,
          -0.1705992515043377,
          -0.22251446301870934,
          0.0625995446270192,
          -0.04579174329413849
         ],
         "z": [
          0.140412875929172,
          0.0001298440631651172,
          -0.04549244206947048,
          -0.2240168696718422,
          0.08975397892343671,
          -0.03838049112876741,
          0.1539969854321045,
          0.16438013953806827,
          0.18195835231153712,
          0.07996236878866846,
          -0.2710137373206471,
          -0.03260728006702265,
          0.02959213850801718,
          0.07407569902322719,
          0.03220881613854064,
          0.07850094637594694,
          -0.015623971652219607,
          0.1061738728360694,
          0.11617205141797028,
          -0.003766733640794743,
          0.1565960654151972,
          0.08552688089098825,
          0.09252359662199959,
          0.05686302612834878,
          -0.04905721948045114,
          0.04004992271514138,
          0.20241934815918472,
          -0.08777998534555187,
          0.09282435314555934,
          -0.17172113636798972,
          -0.15227298519065893,
          -0.10674039260885318,
          0.05320923954084261,
          0.2532502143594334,
          0.031488815437871166,
          0.04122696126125436,
          0.4385781329870789,
          0.10374056809757302,
          -0.017721670381285012,
          -0.262841292505027,
          -0.004669176793146313,
          0.17540311939176412,
          0.05166146418382982,
          0.015555980616967235,
          -0.2667156642775869,
          -0.23293038797415105,
          -0.22273906362961646,
          -0.056065260487131015,
          0.00857881181558375,
          0.0991927537804674,
          0.12043216205079016,
          -0.10276315396572729,
          -0.026588039691133877,
          -0.15514079429896713,
          -0.11698803187750662,
          -0.10219428368299692,
          -0.06330988709722804,
          -0.42745696497081276,
          -0.06229703234786052,
          0.06155176006972475,
          -0.08812715257134886,
          0.2017788420636657,
          -0.10552876789862922,
          0.12608033581509498,
          0.1356984815364476,
          0.14557184356529174,
          -0.07494838601421266,
          -0.15169994073313842,
          -0.2153670896627907,
          0.13794086556867005,
          -0.08191324892896319,
          0.056988796854881126,
          -0.022740904060783194,
          -0.06516323085375869,
          0.10585158818543546,
          -0.12372729149193305,
          0.10770998577385654,
          0.0984430347486633,
          -0.15279880283364453,
          0.06815385738328276,
          -0.06565166308018307,
          -0.09830234789199295,
          0.12869619229045212,
          0.053548123538428714,
          -0.1314919868268385,
          0.09952693496611495,
          0.0626083821496612,
          -0.11922879589502276,
          -0.20947544624950867,
          0.04400070899780194,
          0.02324385460177325,
          -0.3345442501963649,
          0.21960288006256434,
          -0.15714737927574407,
          0.15460842807939204,
          -0.04394963938431201,
          -0.14254509973585527,
          0.016707185342843885,
          -0.08764857546150853,
          -0.1146856489661942,
          -0.21577937104670047,
          -0.205269993156743,
          -0.06867257792748625,
          0.2715775890250682,
          -0.0013448885910809592,
          -0.02031246695702315,
          -0.01044377309665265,
          -0.10474054947618647,
          -0.1153923834655609,
          -0.02540403125858936,
          0.15060520862508564,
          0.020388596310577378,
          -0.012912111693753874,
          -0.08397639407684378,
          0.002313581616360521,
          0.015463022795105504,
          -0.14464127814734085,
          0.16339215997791687,
          -0.07321406190586498
         ]
        },
        {
         "hovertemplate": "color=WangXiZhi<br>PC 1=%{x}<br>PC 2=%{y}<br>PC 3=%{z}<br>size=%{marker.size}<extra></extra>",
         "legendgroup": "WangXiZhi",
         "marker": {
          "color": "#ab63fa",
          "size": [
           0.001,
           0.001,
           0.001,
           0.001,
           0.001,
           0.001,
           0.001,
           0.001,
           0.001,
           0.001,
           0.001,
           0.001,
           0.001,
           0.001,
           0.001,
           0.001,
           0.001,
           0.001,
           0.001,
           0.001,
           0.001,
           0.001,
           0.001,
           0.001,
           0.001,
           0.001,
           0.001,
           0.001,
           0.001,
           0.001,
           0.001,
           0.001,
           0.001,
           0.001,
           0.001,
           0.001,
           0.001,
           0.001,
           0.001,
           0.001,
           0.001,
           0.001,
           0.001,
           0.001,
           0.001,
           0.001,
           0.001,
           0.001,
           0.001,
           0.001,
           0.001,
           0.001,
           0.001,
           0.001,
           0.001,
           0.001,
           0.001,
           0.001,
           0.001,
           0.001,
           0.001,
           0.001,
           0.001,
           0.001,
           0.001,
           0.001,
           0.001,
           0.001,
           0.001,
           0.001,
           0.001,
           0.001,
           0.001,
           0.001,
           0.001,
           0.001,
           0.001,
           0.001,
           0.001,
           0.001,
           0.001,
           0.001,
           0.001,
           0.001,
           0.001,
           0.001,
           0.001,
           0.001,
           0.001,
           0.001,
           0.001,
           0.001,
           0.001,
           0.001,
           0.001
          ],
          "sizemode": "area",
          "sizeref": 2.5e-06,
          "symbol": "circle"
         },
         "mode": "markers",
         "name": "WangXiZhi",
         "scene": "scene",
         "showlegend": true,
         "type": "scatter3d",
         "x": [
          0.21488412076683677,
          -0.1812669623094201,
          -0.020648584242406034,
          0.07857096957372349,
          0.04419628750717268,
          0.04358199909407339,
          0.02135534511105589,
          -0.03965414474410975,
          0.1662906777490026,
          0.0423520309540785,
          0.08794190428301377,
          0.010366473649235437,
          0.2214595068862341,
          0.07489668802846489,
          -0.2796955043125844,
          -0.13516361500272808,
          -0.5311516687260855,
          -0.11922634417555109,
          0.1258318572233212,
          0.038162243393118085,
          -0.03213420171120129,
          0.153727830984061,
          0.03873721291686342,
          0.07556268337822208,
          0.3584357723289849,
          -0.15779759021648956,
          -0.07406316293399731,
          -0.13857947327175568,
          0.05654879897051096,
          -0.4775212980496682,
          0.2953688770091101,
          -0.24298181971989652,
          -0.007434516764328268,
          -0.08978018509446908,
          0.184560587902395,
          0.009704434740666791,
          -0.08369628936794951,
          -0.19960546547283875,
          0.06613708538572205,
          -0.010710805645224593,
          0.04707330233681063,
          0.2698106701829532,
          0.25168498514400867,
          0.22569168948593366,
          0.07179898807122963,
          -0.2251195722989228,
          -0.09447853948473643,
          -0.1761253176912131,
          -0.10140962305913782,
          0.16250126696616016,
          0.16778018202878306,
          -0.09953470593341548,
          -0.17690442120350716,
          -0.10707666384274864,
          -0.26248873967846964,
          0.16667637891754042,
          -0.12267446651890714,
          -0.07440765691980906,
          0.6954558423754145,
          0.2891668200505609,
          -0.06870930937081904,
          0.4201133056506389,
          -0.15668855403382076,
          0.01286745718521234,
          0.0361453833698331,
          0.07408203494993978,
          -0.20441866599584577,
          0.1253694298329945,
          -0.15448653017574857,
          -0.19966672966589613,
          0.23071481708288813,
          0.5975259103029823,
          0.16008107654140571,
          -0.08950842883967787,
          -0.06273790164535219,
          -0.05328517371260277,
          0.004728906812747031,
          0.08979395726462962,
          0.007389292144700877,
          -0.6322536450739814,
          0.5820773512538056,
          0.09461871177578651,
          -0.17925887602865434,
          -0.038116288006899264,
          0.05113807924479195,
          -0.12403509559910211,
          -0.06096792123100717,
          0.36071953757421166,
          -0.43165412349153315,
          0.22127204461556152,
          -0.13683213516123952,
          -0.057872441617923175,
          -0.24326574756701694,
          0.11695978885076101,
          -0.07939050347834864
         ],
         "y": [
          0.026869866687798737,
          0.054660213229291044,
          -0.18718340826366797,
          -0.07124764302586234,
          -0.39920173946967635,
          -0.508292242370549,
          -0.4987280805181349,
          0.07797183679708154,
          0.07092311144157096,
          0.09302522309338096,
          -0.4222213816999248,
          0.13942380636537233,
          0.0977254315291677,
          0.051514743803337724,
          0.044345370478881735,
          0.09424130052916845,
          0.0797495434813773,
          0.015825446586348556,
          0.07093355664087435,
          0.14914394085617516,
          -0.25474532433899466,
          -0.3161625427445305,
          -0.30504556864920457,
          -0.3263704418640612,
          -0.29959516919137025,
          0.03372796655078752,
          0.012990444971466994,
          -0.026423297063141015,
          -0.15913161334423676,
          -0.0301752955594407,
          -0.019577313551156467,
          -0.079646541152637,
          -0.03309413555697182,
          0.04594862929606934,
          -0.22953132627709671,
          -0.06697370658194074,
          -0.20547489285654194,
          -0.074851212090936,
          -0.16407905529383118,
          0.08598876793452943,
          -0.13592890614766026,
          0.11358028477144445,
          -0.030467086646750526,
          0.14633387655907523,
          -0.2549815771136932,
          -0.09136201262949808,
          -0.1389643675321141,
          -0.1667009639133064,
          0.018544962953137144,
          -0.13643287265119858,
          -0.22100548922691937,
          0.10688951414466656,
          0.162098494564916,
          -0.1758425317784393,
          -0.03799633221265271,
          -0.2944688051301421,
          0.07998609144740414,
          0.11112359927094953,
          0.15147902024246124,
          -0.023658541900450386,
          -0.29146866844165786,
          -0.2048041653604998,
          -0.30866232652457914,
          -0.49213549896281705,
          -0.2498471415707548,
          -0.20367412047046354,
          -0.06335573465598529,
          0.16833217466369338,
          -0.1088827992342526,
          -0.05985221182266153,
          0.1629584030853222,
          0.21821400147112335,
          -0.22646234760573197,
          -0.272294752861627,
          -0.3531303930286071,
          -0.31538815341343657,
          -0.553370861289248,
          0.014292067996056533,
          -0.08219099351111962,
          -0.07822236848310292,
          0.01215408842919146,
          0.01212136557176384,
          -0.08176230077568102,
          -0.18377181470036286,
          -0.19910357847055074,
          -0.20880432606851662,
          -0.154433648581759,
          0.128060175177588,
          -0.13586139729601338,
          0.08429380690699691,
          0.2974921078409204,
          0.0342911132541047,
          0.142743697297452,
          -0.08581233332291839,
          -0.027661822130234597
         ],
         "z": [
          -0.153921395587374,
          0.39085317988256796,
          0.25607046140538053,
          -0.11746971974832758,
          0.1650324862320712,
          0.04618181386665239,
          0.11498642416880983,
          -0.23568874163384285,
          -0.06955659438883516,
          -0.031312542617293125,
          0.18227987169199023,
          -0.1217225475609945,
          -0.1292454796211744,
          0.06536410160807854,
          0.043598423431148565,
          0.1861099780421645,
          0.1005315702168186,
          0.11824711440153927,
          -0.24920111860708313,
          -0.09143039265544402,
          0.04110886119875379,
          0.1416591044227757,
          0.09779905820353105,
          -0.05476104953174146,
          -0.08249217022315958,
          0.21483195609928057,
          0.021144975795141078,
          -0.24223966737567731,
          0.11293710003015701,
          0.03008796033769209,
          -0.16616029296268742,
          0.21685803155306174,
          -0.07686692144545308,
          -0.13486619354016371,
          0.10467070331619854,
          0.13643811109437903,
          -0.14120857619247762,
          0.12183448729615269,
          0.27295781198516367,
          0.06399952763782885,
          -0.14068409139549748,
          0.035926041571918046,
          0.13191368442403612,
          -0.05920308000195073,
          -0.05141118123582313,
          -0.1737857085713553,
          -0.23620661415081923,
          0.1479360301552358,
          -0.09073026686167218,
          -0.3332858349594758,
          0.04397982952495268,
          -0.22491623604724315,
          0.33226097422861955,
          -0.061274161071987195,
          -0.10058767175687365,
          -0.0571858954648303,
          -0.06927739078963786,
          0.02259853349325638,
          0.13807981495524066,
          0.13139122679362567,
          -0.0018902072233225177,
          0.2102535228477528,
          0.054602587050906384,
          0.20759392941798332,
          0.16389862465516414,
          -0.058715249681942604,
          0.013109431545153996,
          0.18403593516122158,
          -0.06212115653221253,
          0.19359401232488535,
          0.07333348262046824,
          0.14586378427441465,
          0.21628336549646784,
          -0.13659992932039286,
          0.05695459604872292,
          0.11837636557029386,
          -0.1896242702181437,
          0.31631797158828434,
          -0.31620757988031317,
          0.25298136704611107,
          0.14273716510024673,
          -0.04189951778846022,
          -0.004911161041663944,
          -0.011094030329341436,
          -0.08087836912671219,
          -0.016617520989781108,
          -0.16906604930348326,
          -0.05150676593490974,
          -0.09537363572298642,
          0.027620654203435426,
          0.33956249681771133,
          -0.16396176576312663,
          0.22945082774041975,
          -0.12586340304303933,
          -0.09469206671028314
         ]
        },
        {
         "hovertemplate": "color=Mi Fu (On Cursive Calligraphy)<br>PC 1=%{x}<br>PC 2=%{y}<br>PC 3=%{z}<br>size=%{marker.size}<extra></extra>",
         "legendgroup": "Mi Fu (On Cursive Calligraphy)",
         "marker": {
          "color": "#FFA15A",
          "size": [
           0.001,
           0.001,
           0.001,
           0.001,
           0.001,
           0.001,
           0.001,
           0.001,
           0.001,
           0.001,
           0.001,
           0.001,
           0.001,
           0.001,
           0.001,
           0.001,
           0.001,
           0.001,
           0.001,
           0.001,
           0.001,
           0.001,
           0.001,
           0.001,
           0.001,
           0.001,
           0.001,
           0.001,
           0.001,
           0.001,
           0.001,
           0.001,
           0.001,
           0.001,
           0.001,
           0.001,
           0.001,
           0.001,
           0.001,
           0.001,
           0.001,
           0.001,
           0.001,
           0.001,
           0.001,
           0.001,
           0.001,
           0.001,
           0.001,
           0.001,
           0.001,
           0.001,
           0.001,
           0.001,
           0.001,
           0.001,
           0.001,
           0.001,
           0.001,
           0.001,
           0.001,
           0.001,
           0.001
          ],
          "sizemode": "area",
          "sizeref": 2.5e-06,
          "symbol": "circle"
         },
         "mode": "markers",
         "name": "Mi Fu (On Cursive Calligraphy)",
         "scene": "scene",
         "showlegend": true,
         "type": "scatter3d",
         "x": [
          0.15174990582702194,
          -0.10574063053453862,
          0.02447991305376301,
          0.3623240715612269,
          0.3803922201871207,
          0.3054282122489219,
          0.02075025937227942,
          -0.24425296668954333,
          -0.13485527627010307,
          -0.3737620096647179,
          0.006387484793710324,
          0.21336962255336483,
          0.049248145310963866,
          -0.31967702310077917,
          -0.13275265123376356,
          -0.5637315918458446,
          0.1879442634781794,
          0.38293415895087907,
          0.3229190804184514,
          0.07726834776650865,
          -0.24759682517148468,
          0.17935624906849323,
          -0.31439310041718815,
          -0.3381994120244856,
          0.12013555775578291,
          -0.45252749664997255,
          -0.07503129889045833,
          -0.6255208664310139,
          -0.05957844054574577,
          -0.4687771320536862,
          0.019881109193686988,
          0.04412132145607102,
          -0.031938642043701185,
          0.07470753553642688,
          -0.44870246866256247,
          -0.38282401168504754,
          0.10374408032697711,
          0.27695672620070344,
          -0.28618967683681107,
          0.45175357056897175,
          -0.1690932403715827,
          -0.3433756676775162,
          -0.06959124477759433,
          0.20137867201173443,
          0.2680814743044208,
          0.17618409990488165,
          0.4021720247648957,
          0.13196596449913306,
          0.45158713420743113,
          0.2885831254462737,
          0.4145593008323756,
          0.20264282830379957,
          -0.24301666352907103,
          0.12899165712172778,
          0.31903038586532884,
          0.01864160152350727,
          -0.28574362795374253,
          -0.5037861048962412,
          -0.05741703109198611,
          -0.013002769547491291,
          -0.1773284390763826,
          0.4544649604633345,
          0.26732191060498395
         ],
         "y": [
          0.318430006766461,
          0.4238953141875231,
          0.15899497904927326,
          0.33727106928376777,
          0.2664298649645534,
          0.21593133352034433,
          0.35774468392470266,
          0.20317566462363526,
          0.16152848639129866,
          0.21716139167241258,
          0.3644228640761982,
          0.3649142681476086,
          0.35721798328093674,
          0.26846430307773766,
          0.30941806613136286,
          0.3384838095210431,
          0.3177884656029207,
          0.04002421617992924,
          0.18145560497233965,
          0.10787499466471949,
          0.32507125659008884,
          0.18075527315512435,
          0.16295275694010555,
          0.2583534345111453,
          0.22112177964948437,
          0.24068848505377896,
          0.1852735557017128,
          0.36976260683449397,
          0.1367150406534108,
          0.15642777355207824,
          0.16056472832491442,
          0.3835523112837992,
          0.266559376282066,
          0.3582549272587188,
          0.35257147758487134,
          0.1458444548871723,
          0.3891054167415157,
          0.3564920598838699,
          0.2697022554432409,
          0.26576794148124266,
          0.3015985485285829,
          0.11980453869236878,
          0.11529588064320212,
          0.564951226655137,
          0.05486760686102794,
          0.2763022820350858,
          0.30612589805260176,
          0.24819289248521603,
          0.30024793614504225,
          0.2568866810444276,
          0.33982035093726576,
          0.3100464191444171,
          0.1821948514169331,
          0.4152168028231973,
          0.31584582876186473,
          0.34505155528134007,
          0.3911072576854464,
          0.14447860716954064,
          0.22719734725487212,
          0.2355913701331271,
          0.30480078650630293,
          0.5638185774642216,
          0.3581057959201879
         ],
         "z": [
          0.01815960801532059,
          -0.16273475194501374,
          -0.23319146897728169,
          0.07134956064131284,
          -0.10389074526621554,
          0.05467354335906788,
          0.007918230564802248,
          -0.1600585786782806,
          -0.18390652821551468,
          -0.027418274938153426,
          0.1534301114598704,
          0.19231911079598393,
          0.10308396701260475,
          -0.002980625031656536,
          -0.17213949880135113,
          -0.1047899907131959,
          0.0232633181189026,
          -0.06879657139400022,
          0.0627177382161251,
          -0.022306747793170302,
          -0.03472243617574435,
          -0.06958026537890222,
          -0.06967825959245996,
          -0.09021506619326994,
          -0.12901486405469362,
          0.2352697408604071,
          0.010884972869223897,
          0.18046820139033368,
          -0.37453071365285456,
          0.1360117613127953,
          0.08311226686259976,
          -0.19678988599868377,
          -0.19684748125003926,
          -0.04542148668561402,
          -0.07373751556047245,
          -0.051164000191660654,
          -0.0220596201316813,
          -0.09172499595956085,
          0.18006721555058855,
          0.07504692276854934,
          0.34098629907295924,
          0.19926802866505863,
          -0.25006352266424253,
          0.43176011939137,
          0.034591469915303756,
          -0.31296534668499226,
          0.0992332124833391,
          0.02419391781733207,
          0.07164598418439043,
          -0.15022243096065113,
          -0.045382931246192276,
          -0.26749232082576135,
          -0.06085233150282404,
          -0.07045442461305379,
          -0.18329261990036883,
          0.04749620387608113,
          -0.028106659623000574,
          -0.21874618402502355,
          -0.11227532616941811,
          -0.101066515664981,
          -0.14001323047735564,
          -0.014447098763186289,
          0.10484967911377764
         ]
        }
       ],
       "layout": {
        "legend": {
         "itemsizing": "constant",
         "title": {
          "text": "color"
         },
         "tracegroupgap": 0
        },
        "scene": {
         "domain": {
          "x": [
           0,
           1
          ],
          "y": [
           0,
           1
          ]
         },
         "xaxis": {
          "title": {
           "text": "PC 1"
          }
         },
         "yaxis": {
          "title": {
           "text": "PC 2"
          }
         },
         "zaxis": {
          "title": {
           "text": "PC 3"
          }
         }
        },
        "template": {
         "data": {
          "bar": [
           {
            "error_x": {
             "color": "#2a3f5f"
            },
            "error_y": {
             "color": "#2a3f5f"
            },
            "marker": {
             "line": {
              "color": "#E5ECF6",
              "width": 0.5
             }
            },
            "type": "bar"
           }
          ],
          "barpolar": [
           {
            "marker": {
             "line": {
              "color": "#E5ECF6",
              "width": 0.5
             }
            },
            "type": "barpolar"
           }
          ],
          "carpet": [
           {
            "aaxis": {
             "endlinecolor": "#2a3f5f",
             "gridcolor": "white",
             "linecolor": "white",
             "minorgridcolor": "white",
             "startlinecolor": "#2a3f5f"
            },
            "baxis": {
             "endlinecolor": "#2a3f5f",
             "gridcolor": "white",
             "linecolor": "white",
             "minorgridcolor": "white",
             "startlinecolor": "#2a3f5f"
            },
            "type": "carpet"
           }
          ],
          "choropleth": [
           {
            "colorbar": {
             "outlinewidth": 0,
             "ticks": ""
            },
            "type": "choropleth"
           }
          ],
          "contour": [
           {
            "colorbar": {
             "outlinewidth": 0,
             "ticks": ""
            },
            "colorscale": [
             [
              0,
              "#0d0887"
             ],
             [
              0.1111111111111111,
              "#46039f"
             ],
             [
              0.2222222222222222,
              "#7201a8"
             ],
             [
              0.3333333333333333,
              "#9c179e"
             ],
             [
              0.4444444444444444,
              "#bd3786"
             ],
             [
              0.5555555555555556,
              "#d8576b"
             ],
             [
              0.6666666666666666,
              "#ed7953"
             ],
             [
              0.7777777777777778,
              "#fb9f3a"
             ],
             [
              0.8888888888888888,
              "#fdca26"
             ],
             [
              1,
              "#f0f921"
             ]
            ],
            "type": "contour"
           }
          ],
          "contourcarpet": [
           {
            "colorbar": {
             "outlinewidth": 0,
             "ticks": ""
            },
            "type": "contourcarpet"
           }
          ],
          "heatmap": [
           {
            "colorbar": {
             "outlinewidth": 0,
             "ticks": ""
            },
            "colorscale": [
             [
              0,
              "#0d0887"
             ],
             [
              0.1111111111111111,
              "#46039f"
             ],
             [
              0.2222222222222222,
              "#7201a8"
             ],
             [
              0.3333333333333333,
              "#9c179e"
             ],
             [
              0.4444444444444444,
              "#bd3786"
             ],
             [
              0.5555555555555556,
              "#d8576b"
             ],
             [
              0.6666666666666666,
              "#ed7953"
             ],
             [
              0.7777777777777778,
              "#fb9f3a"
             ],
             [
              0.8888888888888888,
              "#fdca26"
             ],
             [
              1,
              "#f0f921"
             ]
            ],
            "type": "heatmap"
           }
          ],
          "heatmapgl": [
           {
            "colorbar": {
             "outlinewidth": 0,
             "ticks": ""
            },
            "colorscale": [
             [
              0,
              "#0d0887"
             ],
             [
              0.1111111111111111,
              "#46039f"
             ],
             [
              0.2222222222222222,
              "#7201a8"
             ],
             [
              0.3333333333333333,
              "#9c179e"
             ],
             [
              0.4444444444444444,
              "#bd3786"
             ],
             [
              0.5555555555555556,
              "#d8576b"
             ],
             [
              0.6666666666666666,
              "#ed7953"
             ],
             [
              0.7777777777777778,
              "#fb9f3a"
             ],
             [
              0.8888888888888888,
              "#fdca26"
             ],
             [
              1,
              "#f0f921"
             ]
            ],
            "type": "heatmapgl"
           }
          ],
          "histogram": [
           {
            "marker": {
             "colorbar": {
              "outlinewidth": 0,
              "ticks": ""
             }
            },
            "type": "histogram"
           }
          ],
          "histogram2d": [
           {
            "colorbar": {
             "outlinewidth": 0,
             "ticks": ""
            },
            "colorscale": [
             [
              0,
              "#0d0887"
             ],
             [
              0.1111111111111111,
              "#46039f"
             ],
             [
              0.2222222222222222,
              "#7201a8"
             ],
             [
              0.3333333333333333,
              "#9c179e"
             ],
             [
              0.4444444444444444,
              "#bd3786"
             ],
             [
              0.5555555555555556,
              "#d8576b"
             ],
             [
              0.6666666666666666,
              "#ed7953"
             ],
             [
              0.7777777777777778,
              "#fb9f3a"
             ],
             [
              0.8888888888888888,
              "#fdca26"
             ],
             [
              1,
              "#f0f921"
             ]
            ],
            "type": "histogram2d"
           }
          ],
          "histogram2dcontour": [
           {
            "colorbar": {
             "outlinewidth": 0,
             "ticks": ""
            },
            "colorscale": [
             [
              0,
              "#0d0887"
             ],
             [
              0.1111111111111111,
              "#46039f"
             ],
             [
              0.2222222222222222,
              "#7201a8"
             ],
             [
              0.3333333333333333,
              "#9c179e"
             ],
             [
              0.4444444444444444,
              "#bd3786"
             ],
             [
              0.5555555555555556,
              "#d8576b"
             ],
             [
              0.6666666666666666,
              "#ed7953"
             ],
             [
              0.7777777777777778,
              "#fb9f3a"
             ],
             [
              0.8888888888888888,
              "#fdca26"
             ],
             [
              1,
              "#f0f921"
             ]
            ],
            "type": "histogram2dcontour"
           }
          ],
          "mesh3d": [
           {
            "colorbar": {
             "outlinewidth": 0,
             "ticks": ""
            },
            "type": "mesh3d"
           }
          ],
          "parcoords": [
           {
            "line": {
             "colorbar": {
              "outlinewidth": 0,
              "ticks": ""
             }
            },
            "type": "parcoords"
           }
          ],
          "pie": [
           {
            "automargin": true,
            "type": "pie"
           }
          ],
          "scatter": [
           {
            "marker": {
             "colorbar": {
              "outlinewidth": 0,
              "ticks": ""
             }
            },
            "type": "scatter"
           }
          ],
          "scatter3d": [
           {
            "line": {
             "colorbar": {
              "outlinewidth": 0,
              "ticks": ""
             }
            },
            "marker": {
             "colorbar": {
              "outlinewidth": 0,
              "ticks": ""
             }
            },
            "type": "scatter3d"
           }
          ],
          "scattercarpet": [
           {
            "marker": {
             "colorbar": {
              "outlinewidth": 0,
              "ticks": ""
             }
            },
            "type": "scattercarpet"
           }
          ],
          "scattergeo": [
           {
            "marker": {
             "colorbar": {
              "outlinewidth": 0,
              "ticks": ""
             }
            },
            "type": "scattergeo"
           }
          ],
          "scattergl": [
           {
            "marker": {
             "colorbar": {
              "outlinewidth": 0,
              "ticks": ""
             }
            },
            "type": "scattergl"
           }
          ],
          "scattermapbox": [
           {
            "marker": {
             "colorbar": {
              "outlinewidth": 0,
              "ticks": ""
             }
            },
            "type": "scattermapbox"
           }
          ],
          "scatterpolar": [
           {
            "marker": {
             "colorbar": {
              "outlinewidth": 0,
              "ticks": ""
             }
            },
            "type": "scatterpolar"
           }
          ],
          "scatterpolargl": [
           {
            "marker": {
             "colorbar": {
              "outlinewidth": 0,
              "ticks": ""
             }
            },
            "type": "scatterpolargl"
           }
          ],
          "scatterternary": [
           {
            "marker": {
             "colorbar": {
              "outlinewidth": 0,
              "ticks": ""
             }
            },
            "type": "scatterternary"
           }
          ],
          "surface": [
           {
            "colorbar": {
             "outlinewidth": 0,
             "ticks": ""
            },
            "colorscale": [
             [
              0,
              "#0d0887"
             ],
             [
              0.1111111111111111,
              "#46039f"
             ],
             [
              0.2222222222222222,
              "#7201a8"
             ],
             [
              0.3333333333333333,
              "#9c179e"
             ],
             [
              0.4444444444444444,
              "#bd3786"
             ],
             [
              0.5555555555555556,
              "#d8576b"
             ],
             [
              0.6666666666666666,
              "#ed7953"
             ],
             [
              0.7777777777777778,
              "#fb9f3a"
             ],
             [
              0.8888888888888888,
              "#fdca26"
             ],
             [
              1,
              "#f0f921"
             ]
            ],
            "type": "surface"
           }
          ],
          "table": [
           {
            "cells": {
             "fill": {
              "color": "#EBF0F8"
             },
             "line": {
              "color": "white"
             }
            },
            "header": {
             "fill": {
              "color": "#C8D4E3"
             },
             "line": {
              "color": "white"
             }
            },
            "type": "table"
           }
          ]
         },
         "layout": {
          "annotationdefaults": {
           "arrowcolor": "#2a3f5f",
           "arrowhead": 0,
           "arrowwidth": 1
          },
          "autotypenumbers": "strict",
          "coloraxis": {
           "colorbar": {
            "outlinewidth": 0,
            "ticks": ""
           }
          },
          "colorscale": {
           "diverging": [
            [
             0,
             "#8e0152"
            ],
            [
             0.1,
             "#c51b7d"
            ],
            [
             0.2,
             "#de77ae"
            ],
            [
             0.3,
             "#f1b6da"
            ],
            [
             0.4,
             "#fde0ef"
            ],
            [
             0.5,
             "#f7f7f7"
            ],
            [
             0.6,
             "#e6f5d0"
            ],
            [
             0.7,
             "#b8e186"
            ],
            [
             0.8,
             "#7fbc41"
            ],
            [
             0.9,
             "#4d9221"
            ],
            [
             1,
             "#276419"
            ]
           ],
           "sequential": [
            [
             0,
             "#0d0887"
            ],
            [
             0.1111111111111111,
             "#46039f"
            ],
            [
             0.2222222222222222,
             "#7201a8"
            ],
            [
             0.3333333333333333,
             "#9c179e"
            ],
            [
             0.4444444444444444,
             "#bd3786"
            ],
            [
             0.5555555555555556,
             "#d8576b"
            ],
            [
             0.6666666666666666,
             "#ed7953"
            ],
            [
             0.7777777777777778,
             "#fb9f3a"
            ],
            [
             0.8888888888888888,
             "#fdca26"
            ],
            [
             1,
             "#f0f921"
            ]
           ],
           "sequentialminus": [
            [
             0,
             "#0d0887"
            ],
            [
             0.1111111111111111,
             "#46039f"
            ],
            [
             0.2222222222222222,
             "#7201a8"
            ],
            [
             0.3333333333333333,
             "#9c179e"
            ],
            [
             0.4444444444444444,
             "#bd3786"
            ],
            [
             0.5555555555555556,
             "#d8576b"
            ],
            [
             0.6666666666666666,
             "#ed7953"
            ],
            [
             0.7777777777777778,
             "#fb9f3a"
            ],
            [
             0.8888888888888888,
             "#fdca26"
            ],
            [
             1,
             "#f0f921"
            ]
           ]
          },
          "colorway": [
           "#636efa",
           "#EF553B",
           "#00cc96",
           "#ab63fa",
           "#FFA15A",
           "#19d3f3",
           "#FF6692",
           "#B6E880",
           "#FF97FF",
           "#FECB52"
          ],
          "font": {
           "color": "#2a3f5f"
          },
          "geo": {
           "bgcolor": "white",
           "lakecolor": "white",
           "landcolor": "#E5ECF6",
           "showlakes": true,
           "showland": true,
           "subunitcolor": "white"
          },
          "hoverlabel": {
           "align": "left"
          },
          "hovermode": "closest",
          "mapbox": {
           "style": "light"
          },
          "paper_bgcolor": "white",
          "plot_bgcolor": "#E5ECF6",
          "polar": {
           "angularaxis": {
            "gridcolor": "white",
            "linecolor": "white",
            "ticks": ""
           },
           "bgcolor": "#E5ECF6",
           "radialaxis": {
            "gridcolor": "white",
            "linecolor": "white",
            "ticks": ""
           }
          },
          "scene": {
           "xaxis": {
            "backgroundcolor": "#E5ECF6",
            "gridcolor": "white",
            "gridwidth": 2,
            "linecolor": "white",
            "showbackground": true,
            "ticks": "",
            "zerolinecolor": "white"
           },
           "yaxis": {
            "backgroundcolor": "#E5ECF6",
            "gridcolor": "white",
            "gridwidth": 2,
            "linecolor": "white",
            "showbackground": true,
            "ticks": "",
            "zerolinecolor": "white"
           },
           "zaxis": {
            "backgroundcolor": "#E5ECF6",
            "gridcolor": "white",
            "gridwidth": 2,
            "linecolor": "white",
            "showbackground": true,
            "ticks": "",
            "zerolinecolor": "white"
           }
          },
          "shapedefaults": {
           "line": {
            "color": "#2a3f5f"
           }
          },
          "ternary": {
           "aaxis": {
            "gridcolor": "white",
            "linecolor": "white",
            "ticks": ""
           },
           "baxis": {
            "gridcolor": "white",
            "linecolor": "white",
            "ticks": ""
           },
           "bgcolor": "#E5ECF6",
           "caxis": {
            "gridcolor": "white",
            "linecolor": "white",
            "ticks": ""
           }
          },
          "title": {
           "x": 0.05
          },
          "xaxis": {
           "automargin": true,
           "gridcolor": "white",
           "linecolor": "white",
           "ticks": "",
           "title": {
            "standoff": 15
           },
           "zerolinecolor": "white",
           "zerolinewidth": 2
          },
          "yaxis": {
           "automargin": true,
           "gridcolor": "white",
           "linecolor": "white",
           "ticks": "",
           "title": {
            "standoff": 15
           },
           "zerolinecolor": "white",
           "zerolinewidth": 2
          }
         }
        },
        "title": {
         "text": "Total Explained Variance: 65.70%"
        }
       }
      },
      "text/html": [
       "<div>                            <div id=\"dbc32ccd-07cf-438c-870d-ae4d6f7d9701\" class=\"plotly-graph-div\" style=\"height:525px; width:100%;\"></div>            <script type=\"text/javascript\">                require([\"plotly\"], function(Plotly) {                    window.PLOTLYENV=window.PLOTLYENV || {};                                    if (document.getElementById(\"dbc32ccd-07cf-438c-870d-ae4d6f7d9701\")) {                    Plotly.newPlot(                        \"dbc32ccd-07cf-438c-870d-ae4d6f7d9701\",                        [{\"hovertemplate\": \"color=Mi Fu (Wu River)<br>PC 1=%{x}<br>PC 2=%{y}<br>PC 3=%{z}<br>size=%{marker.size}<extra></extra>\", \"legendgroup\": \"Mi Fu (Wu River)\", \"marker\": {\"color\": \"#636efa\", \"size\": [0.001, 0.001, 0.001, 0.001, 0.001, 0.001, 0.001, 0.001, 0.001, 0.001, 0.001, 0.001, 0.001, 0.001, 0.001, 0.001, 0.001, 0.001, 0.001, 0.001, 0.001, 0.001, 0.001, 0.001, 0.001, 0.001, 0.001, 0.001, 0.001, 0.001, 0.001, 0.001, 0.001, 0.001, 0.001, 0.001, 0.001, 0.001, 0.001, 0.001, 0.001, 0.001, 0.001, 0.001, 0.001, 0.001, 0.001, 0.001, 0.001, 0.001, 0.001, 0.001, 0.001, 0.001, 0.001, 0.001, 0.001, 0.001, 0.001, 0.001, 0.001, 0.001, 0.001, 0.001, 0.001, 0.001, 0.001, 0.001, 0.001, 0.001, 0.001, 0.001, 0.001, 0.001, 0.001, 0.001, 0.001, 0.001, 0.001, 0.001, 0.001, 0.001, 0.001, 0.001, 0.001, 0.001, 0.001, 0.001, 0.001, 0.001, 0.001], \"sizemode\": \"area\", \"sizeref\": 2.5e-06, \"symbol\": \"circle\"}, \"mode\": \"markers\", \"name\": \"Mi Fu (Wu River)\", \"scene\": \"scene\", \"showlegend\": true, \"type\": \"scatter3d\", \"x\": [-0.07502122178034315, -0.25715088483471776, 0.1392876534148933, -0.12116450125195433, 0.003959746901953046, -0.06687619944231624, -0.02266684689658758, 0.03588683961450442, -0.20921892650524346, -0.2700746684747553, -0.14186206019448416, -0.14136100263947485, -0.16486313031246105, -0.07102655779176152, 0.20757550889364304, -0.1408948409319225, 0.23558811365467527, -0.24636331378822954, -0.08294486018527908, -0.2428922470429582, -0.17248083665815633, -0.1194294820087431, -0.02439611358448612, -0.18694647029246259, -0.0708736591629005, -0.056812576498313665, -0.17215782821694628, 0.13619900749345878, -0.21369084856614004, -0.16647970279023852, -0.17773071943243557, -0.20762034670542875, -0.0869892017422789, -0.22832123295927692, -0.2320178400259163, -0.14807168700642553, 0.09856484741054504, 0.10674426602127217, 0.010141688887512882, 0.015978105831525636, -0.06350647618047577, 0.014974771167309825, -0.16271815083354674, -0.4812783920356993, 0.3204218424441733, 0.017390561578946168, 0.23015027198241075, -0.3402131886102914, -0.31714218204301964, -0.2046942911908959, -0.049635227481422954, -0.4679477929446239, -0.24120638271626696, 0.02172294289616429, -0.06773406465066423, 0.20213017124917423, -0.5037837957284093, -0.4155071367483036, 0.015512403399297327, 0.12555233382891584, -0.20507890079315075, -0.07234527021742396, 0.1097850579813888, 0.15789330849778635, -0.0582221507676489, -0.2482866509858899, -0.43470856812820424, -0.2328620994161625, 0.08307187717412946, -0.2165151942472996, 0.9314912879806286, -0.2705379852238113, 0.07882224520251777, -0.16689555498092734, 0.016291886244239606, -0.047695481836737844, -0.23644277555608373, -0.17784347747305795, -0.00497527517284317, 0.10563060041672744, 0.0140338437404063, -0.43324218373078605, -0.3852536297499069, -0.10633572288918605, -0.03163859695723564, -0.3130977868301036, 0.20808897212354185, -0.6832701444035324, -0.5624297992253988, -0.14346339033011354, 0.18513492400796078], \"y\": [-0.32138245106283897, -0.1099640077016337, -0.31079480382763663, -0.24130566373315426, -0.14353471086018382, -0.25757017280200045, -0.17198795661341776, -0.2971000759187314, -0.2101274192492833, -0.17133590055620787, -0.0315394962168877, -0.0637484996495142, -0.06695539365715843, -0.11995096453400968, -0.2916459010460155, -0.3580768246270121, 0.1050799932082797, -0.23298977735625545, -0.1376371636547541, -0.16668133294511978, -0.05045403872919712, -0.043526964578755094, -0.07842464820406438, -0.17670796837319228, -0.17586856751831928, -0.14234197352388786, -0.1347550523575639, -0.2661561552113539, -0.2452082465936513, -0.13817188476401665, -0.03969631306744744, -0.03421855237020344, -0.15574114561547026, -0.22912339180947217, -0.01422996426708149, 0.11406010458133042, 0.07581207875221103, -0.18481505747280053, 0.2847181883263886, -0.09582591562824554, -0.26547702174556326, -0.3818410597783183, -0.2312323148200007, -0.13112997479634303, 0.26734342862952526, -0.050065354479007444, -0.12178492969118951, 0.01399075387680934, 0.0737585581455993, -0.12806318214249338, 0.17682667674463737, -0.02918440637415955, 0.044256663095229624, -0.07275786353406807, -0.26186393444263567, -0.4059886146910776, 0.07489650307804359, 0.12442616012088617, 0.10603315518162298, -0.036829717315644106, -0.19759949217003236, 0.0967922154746126, 0.1499602863173397, -0.008545809560890431, -0.05325640420283484, 0.09591491017985694, 0.14878147025121277, 0.011239285770971327, -0.03588951569777716, 0.004368613716260395, 0.06355139762634962, -0.11974546232792352, -0.07258284440240123, 0.028658656858227074, -0.21164416574019082, 0.05440797749523222, 0.07612041820402839, 0.05780045812597032, -0.022790759841434454, 0.01943520299147388, 0.07985872399259035, 0.15014217796649293, 0.12346533625058999, 0.01899489673217896, -0.040915553214816595, -0.1659937074842798, -0.24857024025812288, 0.04566305733440358, 0.12653570122505348, -0.01550919310052497, -0.035300954581960343], \"z\": [0.1151722494126801, 0.18736192493737439, -0.1377548930108602, 0.009997884172095106, 0.02576366322758968, 0.013806297196600032, -0.12659801757768643, -0.005404325521711141, 0.12294020032577047, 0.0937161372659045, 0.11861583869044841, -0.017741770687052315, -0.04228249881995936, 0.1887312672891139, -0.08495018695843039, -0.07367126607577275, -0.11355122038223146, -0.0622793990366616, 0.19868322118823226, -0.06339797750973875, -0.010358651534591923, 0.01644999984312761, -0.13331611654303208, 0.09366815850864232, -0.08126032962740137, 0.08042813615027393, -0.057733953263891, 0.027357477341228606, 0.00948686454354412, 0.13946738161273542, -0.018405877543638104, 0.020537596780280557, 0.04666036336139168, 0.2716255627503377, -0.3764435049299321, -0.06290066711223867, -0.02112691726737496, 0.08234221044107437, 0.12369996492391408, -0.12332018093594391, 0.09877143748720096, -0.14743132101130807, -0.09969922588627682, 0.12091558277977664, 0.024776752828686768, 0.058079690772139814, 0.14341367335883823, -0.14466524483701948, -0.2864289494069212, -0.08614558796897764, 0.10017365210394566, 0.15620344577457315, -0.151261820503186, -0.2738205092794782, 0.034486250990827125, 0.18422643038484912, -0.19057660466306695, -0.2992669780741101, -0.11421412044540367, -0.02092004633048993, 0.09012173571346695, 0.057866745044869675, -0.15449352811242734, -0.15834683019629173, 0.11628890954473568, -0.22630053312906573, -0.05923639928909749, -0.25159872924613985, -0.1210862321285427, -0.07147824228270083, 0.2144972292392866, 0.15396836944970047, -0.10411801185539887, -0.011385674600717462, 0.06209819647265956, -0.24426917824951408, -0.06065723221525609, 0.07701618805449942, 0.11822376249208387, 0.009828208379945486, -0.0011979033748676343, -0.007631307028014249, 0.04494291409087902, -0.3081690474862702, -0.3517512398441963, 0.012244176464487019, -0.1633857012607013, 0.13525897378670113, -0.09965911045842447, -0.1379203878361394, -0.16122660225447016]}, {\"hovertemplate\": \"color=Huizong<br>PC 1=%{x}<br>PC 2=%{y}<br>PC 3=%{z}<br>size=%{marker.size}<extra></extra>\", \"legendgroup\": \"Huizong\", \"marker\": {\"color\": \"#EF553B\", \"size\": [0.001, 0.001, 0.001, 0.001, 0.001, 0.001, 0.001, 0.001, 0.001, 0.001, 0.001, 0.001, 0.001, 0.001, 0.001, 0.001, 0.001, 0.001, 0.001, 0.001, 0.001, 0.001, 0.001, 0.001, 0.001, 0.001, 0.001, 0.001, 0.001, 0.001, 0.001, 0.001, 0.001, 0.001, 0.001, 0.001, 0.001, 0.001, 0.001, 0.001, 0.001, 0.001, 0.001, 0.001, 0.001, 0.001, 0.001, 0.001, 0.001, 0.001, 0.001, 0.001, 0.001, 0.001, 0.001, 0.001, 0.001, 0.001, 0.001, 0.001, 0.001, 0.001, 0.001], \"sizemode\": \"area\", \"sizeref\": 2.5e-06, \"symbol\": \"circle\"}, \"mode\": \"markers\", \"name\": \"Huizong\", \"scene\": \"scene\", \"showlegend\": true, \"type\": \"scatter3d\", \"x\": [0.061601058991039424, 0.32135135330987036, 0.050925646362628516, -0.3361379562769396, 0.41796279262085057, -0.02758132371596116, 0.005657677791576017, -0.3060157632444882, -0.09356102981234453, 0.19536660527003427, 0.09859294877596964, 0.11337916261734432, -0.11781445442938376, -0.09304199957921469, 0.12302451675006693, -0.07794229008364854, 0.6620467734196995, -0.1391717495592964, 0.40046463929279835, 0.13874989875104096, -0.09994321550341011, 0.24670142346193635, 0.03166662893439158, 0.0133540061135672, 0.22010916471272055, 0.2883948451835969, 0.13002542120864083, 0.1418960469055412, -0.08129046081809461, -0.04904905029302099, 0.2596708787709579, -0.06281756066230477, -0.007888278083007086, -0.16891154523293642, 0.08478540906034819, -0.10559091471145925, 0.26464962727499214, 0.11711978383953921, -0.18835344433434564, -0.174552756193462, 0.39928881123353166, -0.12197354542390125, 0.045215506298885544, -0.2827780307780663, 0.19235038455247758, 0.1739505512951602, 0.18456562703930815, 0.188089238175194, 0.11964089956368598, 0.049981944022905844, 0.09799250628768826, 0.08271901150433217, 0.1924819018873125, -0.389991590417692, 0.048990421804317806, 0.14809439712493108, 0.23525391467154907, 0.32509805415539106, -0.07690987652781446, 0.07069125932311313, -0.2657225778216276, -0.12056881859041108, 0.15283946648168478], \"y\": [-0.039060813932284985, -0.07686895830777696, -0.040616716676099826, -0.09517151647029866, -0.11599980501729228, -0.11525744347587809, -0.14239193983385398, -0.0926723292078237, -0.07658736046382789, -0.10841475138134138, -0.21879571637117062, -0.05300446470323191, -0.37878089065752324, -0.2879667156349885, -0.20342581949251987, -0.06844959117437102, 0.056791272391537036, -0.30206939034852137, -0.30121636866577617, -0.18760728237515328, -0.0885404704083148, -0.41234646127138636, -0.20377188362323767, -0.1614522759476418, -0.1873678656263956, -0.03869985401802695, -0.1808911718013544, -0.0986113581424457, -0.192220366517426, -0.0852888395936786, 0.04315520619168937, -0.1505876056750552, -0.24708962937444248, -0.2724570838289187, -0.12492337232575383, -0.10320684542983634, -0.1626670018687986, -0.16947174698508918, -0.18969575206919695, 0.02693975572822305, 0.005911494403791909, -0.12542168302581863, -0.08268249858969491, 0.1476605085674729, 0.13512427173554659, 0.10832337316807181, -0.20636038871654394, -0.1628906734606516, -0.2245874008594953, -0.10786943376756548, -0.059423735014396274, -0.2017201733370457, -0.29637931657723704, -0.09429576005659203, -0.09197782342511956, -0.023756236593803187, -0.042451057882555675, 0.028235225248644975, -0.01566523498966179, -0.20692768334328263, -0.10451486061715595, -0.11078341950182924, -0.15760748062692603], \"z\": [0.16283956357351656, -0.03650499168171522, 0.1354987072418888, 0.09589384667610873, 0.045861357298706315, -0.001554685783037755, 0.1783426034887261, 0.06549415882338726, 0.01581758198581845, 0.10418651477106092, 0.017279900439571762, -0.0777113564958932, 0.08521145986418112, -0.035065753883079386, -0.03592260653322611, 0.10119424091300158, 0.1583842452222977, -0.15386117880916855, -0.010935938216602199, 0.06967571028644666, 0.16351556125443129, -0.011457828892215237, 0.13752711133675471, -0.08461390703957047, -0.07137310645095926, 0.11234825393423917, 0.052883296883547766, -0.015039632810892935, 0.10205428512606457, 0.11092456832681492, -0.08760477064732337, -0.07455897405876687, 0.06382180710785029, -0.1358639878517662, 0.07633229610986157, 0.18907893998513786, 0.027207518177358957, -0.14844174085253914, 0.17557662452865372, 0.12037091217627681, 0.04419819601531954, -0.08697002568129306, -0.029652966394338426, 0.22560580115919007, -0.10240715241480833, 0.22820734031205658, -0.0902094636413997, -0.08359243989188647, 0.2807166618311264, 0.11489981994637644, -0.06387745066789749, 0.02076585925037303, 0.10858326844160393, 0.29542800550025994, 0.051172630262330376, -0.02037412913249883, 0.0749740475867804, -0.03942405334211689, 0.19098452402324037, -0.10267799355215596, 0.04866909451163291, 0.14628935686036157, 0.11475252083348182]}, {\"hovertemplate\": \"color=Su Shi<br>PC 1=%{x}<br>PC 2=%{y}<br>PC 3=%{z}<br>size=%{marker.size}<extra></extra>\", \"legendgroup\": \"Su Shi\", \"marker\": {\"color\": \"#00cc96\", \"size\": [0.001, 0.001, 0.001, 0.001, 0.001, 0.001, 0.001, 0.001, 0.001, 0.001, 0.001, 0.001, 0.001, 0.001, 0.001, 0.001, 0.001, 0.001, 0.001, 0.001, 0.001, 0.001, 0.001, 0.001, 0.001, 0.001, 0.001, 0.001, 0.001, 0.001, 0.001, 0.001, 0.001, 0.001, 0.001, 0.001, 0.001, 0.001, 0.001, 0.001, 0.001, 0.001, 0.001, 0.001, 0.001, 0.001, 0.001, 0.001, 0.001, 0.001, 0.001, 0.001, 0.001, 0.001, 0.001, 0.001, 0.001, 0.001, 0.001, 0.001, 0.001, 0.001, 0.001, 0.001, 0.001, 0.001, 0.001, 0.001, 0.001, 0.001, 0.001, 0.001, 0.001, 0.001, 0.001, 0.001, 0.001, 0.001, 0.001, 0.001, 0.001, 0.001, 0.001, 0.001, 0.001, 0.001, 0.001, 0.001, 0.001, 0.001, 0.001, 0.001, 0.001, 0.001, 0.001, 0.001, 0.001, 0.001, 0.001, 0.001, 0.001, 0.001, 0.001, 0.001, 0.001, 0.001, 0.001, 0.001, 0.001, 0.001, 0.001, 0.001, 0.001, 0.001, 0.001, 0.001, 0.001, 0.001, 0.001], \"sizemode\": \"area\", \"sizeref\": 2.5e-06, \"symbol\": \"circle\"}, \"mode\": \"markers\", \"name\": \"Su Shi\", \"scene\": \"scene\", \"showlegend\": true, \"type\": \"scatter3d\", \"x\": [-0.3711877504798517, 0.018298717088898624, 0.1459197205746287, 0.08125448492518904, -0.5933633789102982, 0.011236636821991684, -0.006971470077239238, 0.5889824177394498, 0.5834381408662319, 0.31820059336764067, -0.04378617117246494, -0.2225696874258774, 0.1624067650352332, 0.2401259406897162, 0.13694873544250788, 0.2646824469760599, 0.21931222669674846, -0.21036055324664688, 0.3143987524674689, 0.2425078635092978, -0.08822351527179516, 0.09710610246764505, -0.605142892417985, 0.2688402346980462, 0.2408460721813085, -0.42906109211411225, -0.4365711857034465, -0.2910651906895002, 0.17020297711442797, 0.10078370414399906, -0.15264427583211845, 0.018006287318862845, 0.1994934458205545, 0.3456050043589139, 0.24646136967936236, -0.4021867300549126, -0.753734698544493, -0.4673809648687488, 0.030407889605096616, 0.2081263144693472, 0.1389599703803076, 0.04711804767964754, 0.2460169980654676, -0.31813473954803406, -0.21578339429607904, -0.14909860024081067, -0.02296698189971833, 0.32897558594925397, -0.21050849353084025, -0.013729517761662343, 0.05740518706486298, -0.19986470751235874, 0.3478279761734774, -0.23097966284297955, -0.15918119825061508, 0.1511448807979184, 0.00516385535795891, 0.028641902434051715, 0.31149139091090533, -0.08172985541205093, -0.2269782715923695, 0.1843258085503573, 0.17177185005300116, 0.2710772830729895, -0.16707933565336347, -0.02030488269576775, 0.1638809293483322, 0.050503132980315404, -0.1275003197394254, -0.07017103422286454, 0.015698114155459963, -0.09016149424127587, 0.39005270458298213, 0.29003459458900166, 0.25941170812725006, 0.15974041390032825, 0.4636884899433991, 0.21756460194631, -0.01606905838465281, 0.11918829313311007, 0.01251250620991594, -0.12832500393613935, -0.08675635537191083, -0.12990397644265272, 0.14438722936069184, 0.2118213817032324, 0.36226442651337365, -0.2670734510786618, -0.009560084780515343, -0.37237459305258014, 0.2345776187832634, -0.18422728624491294, -0.4968837406280873, 0.267592903164749, -0.4090843950198188, 0.00689905932948631, 0.26121502489825804, 0.4399037326035229, 0.16830234906151384, 0.2811482559260263, -0.009983717202084989, 0.42825393845689247, 0.14403622975258248, 0.225245504182308, 0.09783557863892466, -0.0769561096118289, -0.0014124022005698891, -0.02361950781449239, 0.08488085453714139, 0.0454562877817276, 0.19491961716737713, 0.3130915245610487, 0.17921218657866375, 0.1194180357028334, -0.5529005190172874, 0.24939134425423642, -0.07871237027793505, 0.6557016263443091, 0.030189458989339925], \"y\": [0.15511827569689912, 0.10020678233713196, 0.013177278375897272, 0.20141390541023316, 0.2452788674902804, 0.025648711778147745, 0.16745167141118375, 0.2032939201793664, 0.20934833711808054, 0.03676024092684874, -0.07475981984949659, -0.12106675866375592, -0.16113782452412576, -0.07411732356404319, 0.12935302564308424, -0.03206616549308199, 0.10486746769980125, -0.1993110800891318, 0.2840114457146526, -0.2137226454932039, 0.07675573563012665, 0.20928213583816677, 0.04135958904102802, -0.06325414915357458, 0.03029839275743319, 0.25052194473886935, 0.3188537509802535, 0.04846420170046106, -0.10197864628234976, -0.024120023462043616, 0.022692997540968658, -0.04149738441969086, 0.06767638447078561, 0.42296086116149656, -0.06716046853675253, 0.08498601960267703, 0.39475445443980234, 0.19056172423889742, 0.01033014731182668, 0.055987112104171746, 0.2900111342442087, 0.1994008105481646, 0.11330880677855605, 0.17755608430032194, 0.14558360540992019, 0.09285962022830188, 0.04845693297958765, -0.18522521893281685, 0.17639844561262744, -0.09773799964188314, -0.16944063572896745, -0.06210912077554917, 0.037567523768940424, -0.0824319661585797, 0.12472429985404838, -0.09861493547004371, -0.09253829113331409, -0.16815144937263712, 0.34850445942213143, 0.03975945654882269, 0.06737411575638846, 0.1725477876886394, 0.006653942599170391, 0.32890821642350354, 0.04756312130404506, 0.030803362749163704, 0.32065009625022833, 0.09261446523697427, 0.11600003973956326, 0.08040678172263184, -0.024105017598013898, 0.24985677990408212, 0.024550841457703032, 0.028070482657528265, 0.21537451775393443, 0.0015636663435576739, -0.025818238343033217, -0.11833382481762471, -0.008448222131014801, -0.10266091512299251, -0.04236807405656925, -0.12772824634366547, -0.07380859582033789, 0.010670697702399893, 0.025374875353720606, 0.21147174451998815, -0.04133081094767277, -0.005134047437621041, -0.011666029047219958, 0.12956991749841343, -0.03650234804893903, -0.0926531987566124, 0.08220801713237862, -0.011209761508873824, 0.08487775508854102, -0.057101013024100415, 0.12270808409472996, -0.006534536815862186, -0.08282389984618906, 0.045902935449876454, -0.11924664165638395, 0.02335665822777617, -0.0035355602411171138, 0.1044013865105141, 0.05336714212880646, 0.08386671603816638, 0.06228598335182313, -0.018185797979311278, -0.0299184317091553, 0.060321372270903895, 0.02273624633861279, -0.08129728299619085, -0.15330852220460348, -0.16424681791651466, 0.06399814537615636, -0.1705992515043377, -0.22251446301870934, 0.0625995446270192, -0.04579174329413849], \"z\": [0.140412875929172, 0.0001298440631651172, -0.04549244206947048, -0.2240168696718422, 0.08975397892343671, -0.03838049112876741, 0.1539969854321045, 0.16438013953806827, 0.18195835231153712, 0.07996236878866846, -0.2710137373206471, -0.03260728006702265, 0.02959213850801718, 0.07407569902322719, 0.03220881613854064, 0.07850094637594694, -0.015623971652219607, 0.1061738728360694, 0.11617205141797028, -0.003766733640794743, 0.1565960654151972, 0.08552688089098825, 0.09252359662199959, 0.05686302612834878, -0.04905721948045114, 0.04004992271514138, 0.20241934815918472, -0.08777998534555187, 0.09282435314555934, -0.17172113636798972, -0.15227298519065893, -0.10674039260885318, 0.05320923954084261, 0.2532502143594334, 0.031488815437871166, 0.04122696126125436, 0.4385781329870789, 0.10374056809757302, -0.017721670381285012, -0.262841292505027, -0.004669176793146313, 0.17540311939176412, 0.05166146418382982, 0.015555980616967235, -0.2667156642775869, -0.23293038797415105, -0.22273906362961646, -0.056065260487131015, 0.00857881181558375, 0.0991927537804674, 0.12043216205079016, -0.10276315396572729, -0.026588039691133877, -0.15514079429896713, -0.11698803187750662, -0.10219428368299692, -0.06330988709722804, -0.42745696497081276, -0.06229703234786052, 0.06155176006972475, -0.08812715257134886, 0.2017788420636657, -0.10552876789862922, 0.12608033581509498, 0.1356984815364476, 0.14557184356529174, -0.07494838601421266, -0.15169994073313842, -0.2153670896627907, 0.13794086556867005, -0.08191324892896319, 0.056988796854881126, -0.022740904060783194, -0.06516323085375869, 0.10585158818543546, -0.12372729149193305, 0.10770998577385654, 0.0984430347486633, -0.15279880283364453, 0.06815385738328276, -0.06565166308018307, -0.09830234789199295, 0.12869619229045212, 0.053548123538428714, -0.1314919868268385, 0.09952693496611495, 0.0626083821496612, -0.11922879589502276, -0.20947544624950867, 0.04400070899780194, 0.02324385460177325, -0.3345442501963649, 0.21960288006256434, -0.15714737927574407, 0.15460842807939204, -0.04394963938431201, -0.14254509973585527, 0.016707185342843885, -0.08764857546150853, -0.1146856489661942, -0.21577937104670047, -0.205269993156743, -0.06867257792748625, 0.2715775890250682, -0.0013448885910809592, -0.02031246695702315, -0.01044377309665265, -0.10474054947618647, -0.1153923834655609, -0.02540403125858936, 0.15060520862508564, 0.020388596310577378, -0.012912111693753874, -0.08397639407684378, 0.002313581616360521, 0.015463022795105504, -0.14464127814734085, 0.16339215997791687, -0.07321406190586498]}, {\"hovertemplate\": \"color=WangXiZhi<br>PC 1=%{x}<br>PC 2=%{y}<br>PC 3=%{z}<br>size=%{marker.size}<extra></extra>\", \"legendgroup\": \"WangXiZhi\", \"marker\": {\"color\": \"#ab63fa\", \"size\": [0.001, 0.001, 0.001, 0.001, 0.001, 0.001, 0.001, 0.001, 0.001, 0.001, 0.001, 0.001, 0.001, 0.001, 0.001, 0.001, 0.001, 0.001, 0.001, 0.001, 0.001, 0.001, 0.001, 0.001, 0.001, 0.001, 0.001, 0.001, 0.001, 0.001, 0.001, 0.001, 0.001, 0.001, 0.001, 0.001, 0.001, 0.001, 0.001, 0.001, 0.001, 0.001, 0.001, 0.001, 0.001, 0.001, 0.001, 0.001, 0.001, 0.001, 0.001, 0.001, 0.001, 0.001, 0.001, 0.001, 0.001, 0.001, 0.001, 0.001, 0.001, 0.001, 0.001, 0.001, 0.001, 0.001, 0.001, 0.001, 0.001, 0.001, 0.001, 0.001, 0.001, 0.001, 0.001, 0.001, 0.001, 0.001, 0.001, 0.001, 0.001, 0.001, 0.001, 0.001, 0.001, 0.001, 0.001, 0.001, 0.001, 0.001, 0.001, 0.001, 0.001, 0.001, 0.001], \"sizemode\": \"area\", \"sizeref\": 2.5e-06, \"symbol\": \"circle\"}, \"mode\": \"markers\", \"name\": \"WangXiZhi\", \"scene\": \"scene\", \"showlegend\": true, \"type\": \"scatter3d\", \"x\": [0.21488412076683677, -0.1812669623094201, -0.020648584242406034, 0.07857096957372349, 0.04419628750717268, 0.04358199909407339, 0.02135534511105589, -0.03965414474410975, 0.1662906777490026, 0.0423520309540785, 0.08794190428301377, 0.010366473649235437, 0.2214595068862341, 0.07489668802846489, -0.2796955043125844, -0.13516361500272808, -0.5311516687260855, -0.11922634417555109, 0.1258318572233212, 0.038162243393118085, -0.03213420171120129, 0.153727830984061, 0.03873721291686342, 0.07556268337822208, 0.3584357723289849, -0.15779759021648956, -0.07406316293399731, -0.13857947327175568, 0.05654879897051096, -0.4775212980496682, 0.2953688770091101, -0.24298181971989652, -0.007434516764328268, -0.08978018509446908, 0.184560587902395, 0.009704434740666791, -0.08369628936794951, -0.19960546547283875, 0.06613708538572205, -0.010710805645224593, 0.04707330233681063, 0.2698106701829532, 0.25168498514400867, 0.22569168948593366, 0.07179898807122963, -0.2251195722989228, -0.09447853948473643, -0.1761253176912131, -0.10140962305913782, 0.16250126696616016, 0.16778018202878306, -0.09953470593341548, -0.17690442120350716, -0.10707666384274864, -0.26248873967846964, 0.16667637891754042, -0.12267446651890714, -0.07440765691980906, 0.6954558423754145, 0.2891668200505609, -0.06870930937081904, 0.4201133056506389, -0.15668855403382076, 0.01286745718521234, 0.0361453833698331, 0.07408203494993978, -0.20441866599584577, 0.1253694298329945, -0.15448653017574857, -0.19966672966589613, 0.23071481708288813, 0.5975259103029823, 0.16008107654140571, -0.08950842883967787, -0.06273790164535219, -0.05328517371260277, 0.004728906812747031, 0.08979395726462962, 0.007389292144700877, -0.6322536450739814, 0.5820773512538056, 0.09461871177578651, -0.17925887602865434, -0.038116288006899264, 0.05113807924479195, -0.12403509559910211, -0.06096792123100717, 0.36071953757421166, -0.43165412349153315, 0.22127204461556152, -0.13683213516123952, -0.057872441617923175, -0.24326574756701694, 0.11695978885076101, -0.07939050347834864], \"y\": [0.026869866687798737, 0.054660213229291044, -0.18718340826366797, -0.07124764302586234, -0.39920173946967635, -0.508292242370549, -0.4987280805181349, 0.07797183679708154, 0.07092311144157096, 0.09302522309338096, -0.4222213816999248, 0.13942380636537233, 0.0977254315291677, 0.051514743803337724, 0.044345370478881735, 0.09424130052916845, 0.0797495434813773, 0.015825446586348556, 0.07093355664087435, 0.14914394085617516, -0.25474532433899466, -0.3161625427445305, -0.30504556864920457, -0.3263704418640612, -0.29959516919137025, 0.03372796655078752, 0.012990444971466994, -0.026423297063141015, -0.15913161334423676, -0.0301752955594407, -0.019577313551156467, -0.079646541152637, -0.03309413555697182, 0.04594862929606934, -0.22953132627709671, -0.06697370658194074, -0.20547489285654194, -0.074851212090936, -0.16407905529383118, 0.08598876793452943, -0.13592890614766026, 0.11358028477144445, -0.030467086646750526, 0.14633387655907523, -0.2549815771136932, -0.09136201262949808, -0.1389643675321141, -0.1667009639133064, 0.018544962953137144, -0.13643287265119858, -0.22100548922691937, 0.10688951414466656, 0.162098494564916, -0.1758425317784393, -0.03799633221265271, -0.2944688051301421, 0.07998609144740414, 0.11112359927094953, 0.15147902024246124, -0.023658541900450386, -0.29146866844165786, -0.2048041653604998, -0.30866232652457914, -0.49213549896281705, -0.2498471415707548, -0.20367412047046354, -0.06335573465598529, 0.16833217466369338, -0.1088827992342526, -0.05985221182266153, 0.1629584030853222, 0.21821400147112335, -0.22646234760573197, -0.272294752861627, -0.3531303930286071, -0.31538815341343657, -0.553370861289248, 0.014292067996056533, -0.08219099351111962, -0.07822236848310292, 0.01215408842919146, 0.01212136557176384, -0.08176230077568102, -0.18377181470036286, -0.19910357847055074, -0.20880432606851662, -0.154433648581759, 0.128060175177588, -0.13586139729601338, 0.08429380690699691, 0.2974921078409204, 0.0342911132541047, 0.142743697297452, -0.08581233332291839, -0.027661822130234597], \"z\": [-0.153921395587374, 0.39085317988256796, 0.25607046140538053, -0.11746971974832758, 0.1650324862320712, 0.04618181386665239, 0.11498642416880983, -0.23568874163384285, -0.06955659438883516, -0.031312542617293125, 0.18227987169199023, -0.1217225475609945, -0.1292454796211744, 0.06536410160807854, 0.043598423431148565, 0.1861099780421645, 0.1005315702168186, 0.11824711440153927, -0.24920111860708313, -0.09143039265544402, 0.04110886119875379, 0.1416591044227757, 0.09779905820353105, -0.05476104953174146, -0.08249217022315958, 0.21483195609928057, 0.021144975795141078, -0.24223966737567731, 0.11293710003015701, 0.03008796033769209, -0.16616029296268742, 0.21685803155306174, -0.07686692144545308, -0.13486619354016371, 0.10467070331619854, 0.13643811109437903, -0.14120857619247762, 0.12183448729615269, 0.27295781198516367, 0.06399952763782885, -0.14068409139549748, 0.035926041571918046, 0.13191368442403612, -0.05920308000195073, -0.05141118123582313, -0.1737857085713553, -0.23620661415081923, 0.1479360301552358, -0.09073026686167218, -0.3332858349594758, 0.04397982952495268, -0.22491623604724315, 0.33226097422861955, -0.061274161071987195, -0.10058767175687365, -0.0571858954648303, -0.06927739078963786, 0.02259853349325638, 0.13807981495524066, 0.13139122679362567, -0.0018902072233225177, 0.2102535228477528, 0.054602587050906384, 0.20759392941798332, 0.16389862465516414, -0.058715249681942604, 0.013109431545153996, 0.18403593516122158, -0.06212115653221253, 0.19359401232488535, 0.07333348262046824, 0.14586378427441465, 0.21628336549646784, -0.13659992932039286, 0.05695459604872292, 0.11837636557029386, -0.1896242702181437, 0.31631797158828434, -0.31620757988031317, 0.25298136704611107, 0.14273716510024673, -0.04189951778846022, -0.004911161041663944, -0.011094030329341436, -0.08087836912671219, -0.016617520989781108, -0.16906604930348326, -0.05150676593490974, -0.09537363572298642, 0.027620654203435426, 0.33956249681771133, -0.16396176576312663, 0.22945082774041975, -0.12586340304303933, -0.09469206671028314]}, {\"hovertemplate\": \"color=Mi Fu (On Cursive Calligraphy)<br>PC 1=%{x}<br>PC 2=%{y}<br>PC 3=%{z}<br>size=%{marker.size}<extra></extra>\", \"legendgroup\": \"Mi Fu (On Cursive Calligraphy)\", \"marker\": {\"color\": \"#FFA15A\", \"size\": [0.001, 0.001, 0.001, 0.001, 0.001, 0.001, 0.001, 0.001, 0.001, 0.001, 0.001, 0.001, 0.001, 0.001, 0.001, 0.001, 0.001, 0.001, 0.001, 0.001, 0.001, 0.001, 0.001, 0.001, 0.001, 0.001, 0.001, 0.001, 0.001, 0.001, 0.001, 0.001, 0.001, 0.001, 0.001, 0.001, 0.001, 0.001, 0.001, 0.001, 0.001, 0.001, 0.001, 0.001, 0.001, 0.001, 0.001, 0.001, 0.001, 0.001, 0.001, 0.001, 0.001, 0.001, 0.001, 0.001, 0.001, 0.001, 0.001, 0.001, 0.001, 0.001, 0.001], \"sizemode\": \"area\", \"sizeref\": 2.5e-06, \"symbol\": \"circle\"}, \"mode\": \"markers\", \"name\": \"Mi Fu (On Cursive Calligraphy)\", \"scene\": \"scene\", \"showlegend\": true, \"type\": \"scatter3d\", \"x\": [0.15174990582702194, -0.10574063053453862, 0.02447991305376301, 0.3623240715612269, 0.3803922201871207, 0.3054282122489219, 0.02075025937227942, -0.24425296668954333, -0.13485527627010307, -0.3737620096647179, 0.006387484793710324, 0.21336962255336483, 0.049248145310963866, -0.31967702310077917, -0.13275265123376356, -0.5637315918458446, 0.1879442634781794, 0.38293415895087907, 0.3229190804184514, 0.07726834776650865, -0.24759682517148468, 0.17935624906849323, -0.31439310041718815, -0.3381994120244856, 0.12013555775578291, -0.45252749664997255, -0.07503129889045833, -0.6255208664310139, -0.05957844054574577, -0.4687771320536862, 0.019881109193686988, 0.04412132145607102, -0.031938642043701185, 0.07470753553642688, -0.44870246866256247, -0.38282401168504754, 0.10374408032697711, 0.27695672620070344, -0.28618967683681107, 0.45175357056897175, -0.1690932403715827, -0.3433756676775162, -0.06959124477759433, 0.20137867201173443, 0.2680814743044208, 0.17618409990488165, 0.4021720247648957, 0.13196596449913306, 0.45158713420743113, 0.2885831254462737, 0.4145593008323756, 0.20264282830379957, -0.24301666352907103, 0.12899165712172778, 0.31903038586532884, 0.01864160152350727, -0.28574362795374253, -0.5037861048962412, -0.05741703109198611, -0.013002769547491291, -0.1773284390763826, 0.4544649604633345, 0.26732191060498395], \"y\": [0.318430006766461, 0.4238953141875231, 0.15899497904927326, 0.33727106928376777, 0.2664298649645534, 0.21593133352034433, 0.35774468392470266, 0.20317566462363526, 0.16152848639129866, 0.21716139167241258, 0.3644228640761982, 0.3649142681476086, 0.35721798328093674, 0.26846430307773766, 0.30941806613136286, 0.3384838095210431, 0.3177884656029207, 0.04002421617992924, 0.18145560497233965, 0.10787499466471949, 0.32507125659008884, 0.18075527315512435, 0.16295275694010555, 0.2583534345111453, 0.22112177964948437, 0.24068848505377896, 0.1852735557017128, 0.36976260683449397, 0.1367150406534108, 0.15642777355207824, 0.16056472832491442, 0.3835523112837992, 0.266559376282066, 0.3582549272587188, 0.35257147758487134, 0.1458444548871723, 0.3891054167415157, 0.3564920598838699, 0.2697022554432409, 0.26576794148124266, 0.3015985485285829, 0.11980453869236878, 0.11529588064320212, 0.564951226655137, 0.05486760686102794, 0.2763022820350858, 0.30612589805260176, 0.24819289248521603, 0.30024793614504225, 0.2568866810444276, 0.33982035093726576, 0.3100464191444171, 0.1821948514169331, 0.4152168028231973, 0.31584582876186473, 0.34505155528134007, 0.3911072576854464, 0.14447860716954064, 0.22719734725487212, 0.2355913701331271, 0.30480078650630293, 0.5638185774642216, 0.3581057959201879], \"z\": [0.01815960801532059, -0.16273475194501374, -0.23319146897728169, 0.07134956064131284, -0.10389074526621554, 0.05467354335906788, 0.007918230564802248, -0.1600585786782806, -0.18390652821551468, -0.027418274938153426, 0.1534301114598704, 0.19231911079598393, 0.10308396701260475, -0.002980625031656536, -0.17213949880135113, -0.1047899907131959, 0.0232633181189026, -0.06879657139400022, 0.0627177382161251, -0.022306747793170302, -0.03472243617574435, -0.06958026537890222, -0.06967825959245996, -0.09021506619326994, -0.12901486405469362, 0.2352697408604071, 0.010884972869223897, 0.18046820139033368, -0.37453071365285456, 0.1360117613127953, 0.08311226686259976, -0.19678988599868377, -0.19684748125003926, -0.04542148668561402, -0.07373751556047245, -0.051164000191660654, -0.0220596201316813, -0.09172499595956085, 0.18006721555058855, 0.07504692276854934, 0.34098629907295924, 0.19926802866505863, -0.25006352266424253, 0.43176011939137, 0.034591469915303756, -0.31296534668499226, 0.0992332124833391, 0.02419391781733207, 0.07164598418439043, -0.15022243096065113, -0.045382931246192276, -0.26749232082576135, -0.06085233150282404, -0.07045442461305379, -0.18329261990036883, 0.04749620387608113, -0.028106659623000574, -0.21874618402502355, -0.11227532616941811, -0.101066515664981, -0.14001323047735564, -0.014447098763186289, 0.10484967911377764]}],                        {\"legend\": {\"itemsizing\": \"constant\", \"title\": {\"text\": \"color\"}, \"tracegroupgap\": 0}, \"scene\": {\"domain\": {\"x\": [0.0, 1.0], \"y\": [0.0, 1.0]}, \"xaxis\": {\"title\": {\"text\": \"PC 1\"}}, \"yaxis\": {\"title\": {\"text\": \"PC 2\"}}, \"zaxis\": {\"title\": {\"text\": \"PC 3\"}}}, \"template\": {\"data\": {\"bar\": [{\"error_x\": {\"color\": \"#2a3f5f\"}, \"error_y\": {\"color\": \"#2a3f5f\"}, \"marker\": {\"line\": {\"color\": \"#E5ECF6\", \"width\": 0.5}}, \"type\": \"bar\"}], \"barpolar\": [{\"marker\": {\"line\": {\"color\": \"#E5ECF6\", \"width\": 0.5}}, \"type\": \"barpolar\"}], \"carpet\": [{\"aaxis\": {\"endlinecolor\": \"#2a3f5f\", \"gridcolor\": \"white\", \"linecolor\": \"white\", \"minorgridcolor\": \"white\", \"startlinecolor\": \"#2a3f5f\"}, \"baxis\": {\"endlinecolor\": \"#2a3f5f\", \"gridcolor\": \"white\", \"linecolor\": \"white\", \"minorgridcolor\": \"white\", \"startlinecolor\": \"#2a3f5f\"}, \"type\": \"carpet\"}], \"choropleth\": [{\"colorbar\": {\"outlinewidth\": 0, \"ticks\": \"\"}, \"type\": \"choropleth\"}], \"contour\": [{\"colorbar\": {\"outlinewidth\": 0, \"ticks\": \"\"}, \"colorscale\": [[0.0, \"#0d0887\"], [0.1111111111111111, \"#46039f\"], [0.2222222222222222, \"#7201a8\"], [0.3333333333333333, \"#9c179e\"], [0.4444444444444444, \"#bd3786\"], [0.5555555555555556, \"#d8576b\"], [0.6666666666666666, \"#ed7953\"], [0.7777777777777778, \"#fb9f3a\"], [0.8888888888888888, \"#fdca26\"], [1.0, \"#f0f921\"]], \"type\": \"contour\"}], \"contourcarpet\": [{\"colorbar\": {\"outlinewidth\": 0, \"ticks\": \"\"}, \"type\": \"contourcarpet\"}], \"heatmap\": [{\"colorbar\": {\"outlinewidth\": 0, \"ticks\": \"\"}, \"colorscale\": [[0.0, \"#0d0887\"], [0.1111111111111111, \"#46039f\"], [0.2222222222222222, \"#7201a8\"], [0.3333333333333333, \"#9c179e\"], [0.4444444444444444, \"#bd3786\"], [0.5555555555555556, \"#d8576b\"], [0.6666666666666666, \"#ed7953\"], [0.7777777777777778, \"#fb9f3a\"], [0.8888888888888888, \"#fdca26\"], [1.0, \"#f0f921\"]], \"type\": \"heatmap\"}], \"heatmapgl\": [{\"colorbar\": {\"outlinewidth\": 0, \"ticks\": \"\"}, \"colorscale\": [[0.0, \"#0d0887\"], [0.1111111111111111, \"#46039f\"], [0.2222222222222222, \"#7201a8\"], [0.3333333333333333, \"#9c179e\"], [0.4444444444444444, \"#bd3786\"], [0.5555555555555556, \"#d8576b\"], [0.6666666666666666, \"#ed7953\"], [0.7777777777777778, \"#fb9f3a\"], [0.8888888888888888, \"#fdca26\"], [1.0, \"#f0f921\"]], \"type\": \"heatmapgl\"}], \"histogram\": [{\"marker\": {\"colorbar\": {\"outlinewidth\": 0, \"ticks\": \"\"}}, \"type\": \"histogram\"}], \"histogram2d\": [{\"colorbar\": {\"outlinewidth\": 0, \"ticks\": \"\"}, \"colorscale\": [[0.0, \"#0d0887\"], [0.1111111111111111, \"#46039f\"], [0.2222222222222222, \"#7201a8\"], [0.3333333333333333, \"#9c179e\"], [0.4444444444444444, \"#bd3786\"], [0.5555555555555556, \"#d8576b\"], [0.6666666666666666, \"#ed7953\"], [0.7777777777777778, \"#fb9f3a\"], [0.8888888888888888, \"#fdca26\"], [1.0, \"#f0f921\"]], \"type\": \"histogram2d\"}], \"histogram2dcontour\": [{\"colorbar\": {\"outlinewidth\": 0, \"ticks\": \"\"}, \"colorscale\": [[0.0, \"#0d0887\"], [0.1111111111111111, \"#46039f\"], [0.2222222222222222, \"#7201a8\"], [0.3333333333333333, \"#9c179e\"], [0.4444444444444444, \"#bd3786\"], [0.5555555555555556, \"#d8576b\"], [0.6666666666666666, \"#ed7953\"], [0.7777777777777778, \"#fb9f3a\"], [0.8888888888888888, \"#fdca26\"], [1.0, \"#f0f921\"]], \"type\": \"histogram2dcontour\"}], \"mesh3d\": [{\"colorbar\": {\"outlinewidth\": 0, \"ticks\": \"\"}, \"type\": \"mesh3d\"}], \"parcoords\": [{\"line\": {\"colorbar\": {\"outlinewidth\": 0, \"ticks\": \"\"}}, \"type\": \"parcoords\"}], \"pie\": [{\"automargin\": true, \"type\": \"pie\"}], \"scatter\": [{\"marker\": {\"colorbar\": {\"outlinewidth\": 0, \"ticks\": \"\"}}, \"type\": \"scatter\"}], \"scatter3d\": [{\"line\": {\"colorbar\": {\"outlinewidth\": 0, \"ticks\": \"\"}}, \"marker\": {\"colorbar\": {\"outlinewidth\": 0, \"ticks\": \"\"}}, \"type\": \"scatter3d\"}], \"scattercarpet\": [{\"marker\": {\"colorbar\": {\"outlinewidth\": 0, \"ticks\": \"\"}}, \"type\": \"scattercarpet\"}], \"scattergeo\": [{\"marker\": {\"colorbar\": {\"outlinewidth\": 0, \"ticks\": \"\"}}, \"type\": \"scattergeo\"}], \"scattergl\": [{\"marker\": {\"colorbar\": {\"outlinewidth\": 0, \"ticks\": \"\"}}, \"type\": \"scattergl\"}], \"scattermapbox\": [{\"marker\": {\"colorbar\": {\"outlinewidth\": 0, \"ticks\": \"\"}}, \"type\": \"scattermapbox\"}], \"scatterpolar\": [{\"marker\": {\"colorbar\": {\"outlinewidth\": 0, \"ticks\": \"\"}}, \"type\": \"scatterpolar\"}], \"scatterpolargl\": [{\"marker\": {\"colorbar\": {\"outlinewidth\": 0, \"ticks\": \"\"}}, \"type\": \"scatterpolargl\"}], \"scatterternary\": [{\"marker\": {\"colorbar\": {\"outlinewidth\": 0, \"ticks\": \"\"}}, \"type\": \"scatterternary\"}], \"surface\": [{\"colorbar\": {\"outlinewidth\": 0, \"ticks\": \"\"}, \"colorscale\": [[0.0, \"#0d0887\"], [0.1111111111111111, \"#46039f\"], [0.2222222222222222, \"#7201a8\"], [0.3333333333333333, \"#9c179e\"], [0.4444444444444444, \"#bd3786\"], [0.5555555555555556, \"#d8576b\"], [0.6666666666666666, \"#ed7953\"], [0.7777777777777778, \"#fb9f3a\"], [0.8888888888888888, \"#fdca26\"], [1.0, \"#f0f921\"]], \"type\": \"surface\"}], \"table\": [{\"cells\": {\"fill\": {\"color\": \"#EBF0F8\"}, \"line\": {\"color\": \"white\"}}, \"header\": {\"fill\": {\"color\": \"#C8D4E3\"}, \"line\": {\"color\": \"white\"}}, \"type\": \"table\"}]}, \"layout\": {\"annotationdefaults\": {\"arrowcolor\": \"#2a3f5f\", \"arrowhead\": 0, \"arrowwidth\": 1}, \"autotypenumbers\": \"strict\", \"coloraxis\": {\"colorbar\": {\"outlinewidth\": 0, \"ticks\": \"\"}}, \"colorscale\": {\"diverging\": [[0, \"#8e0152\"], [0.1, \"#c51b7d\"], [0.2, \"#de77ae\"], [0.3, \"#f1b6da\"], [0.4, \"#fde0ef\"], [0.5, \"#f7f7f7\"], [0.6, \"#e6f5d0\"], [0.7, \"#b8e186\"], [0.8, \"#7fbc41\"], [0.9, \"#4d9221\"], [1, \"#276419\"]], \"sequential\": [[0.0, \"#0d0887\"], [0.1111111111111111, \"#46039f\"], [0.2222222222222222, \"#7201a8\"], [0.3333333333333333, \"#9c179e\"], [0.4444444444444444, \"#bd3786\"], [0.5555555555555556, \"#d8576b\"], [0.6666666666666666, \"#ed7953\"], [0.7777777777777778, \"#fb9f3a\"], [0.8888888888888888, \"#fdca26\"], [1.0, \"#f0f921\"]], \"sequentialminus\": [[0.0, \"#0d0887\"], [0.1111111111111111, \"#46039f\"], [0.2222222222222222, \"#7201a8\"], [0.3333333333333333, \"#9c179e\"], [0.4444444444444444, \"#bd3786\"], [0.5555555555555556, \"#d8576b\"], [0.6666666666666666, \"#ed7953\"], [0.7777777777777778, \"#fb9f3a\"], [0.8888888888888888, \"#fdca26\"], [1.0, \"#f0f921\"]]}, \"colorway\": [\"#636efa\", \"#EF553B\", \"#00cc96\", \"#ab63fa\", \"#FFA15A\", \"#19d3f3\", \"#FF6692\", \"#B6E880\", \"#FF97FF\", \"#FECB52\"], \"font\": {\"color\": \"#2a3f5f\"}, \"geo\": {\"bgcolor\": \"white\", \"lakecolor\": \"white\", \"landcolor\": \"#E5ECF6\", \"showlakes\": true, \"showland\": true, \"subunitcolor\": \"white\"}, \"hoverlabel\": {\"align\": \"left\"}, \"hovermode\": \"closest\", \"mapbox\": {\"style\": \"light\"}, \"paper_bgcolor\": \"white\", \"plot_bgcolor\": \"#E5ECF6\", \"polar\": {\"angularaxis\": {\"gridcolor\": \"white\", \"linecolor\": \"white\", \"ticks\": \"\"}, \"bgcolor\": \"#E5ECF6\", \"radialaxis\": {\"gridcolor\": \"white\", \"linecolor\": \"white\", \"ticks\": \"\"}}, \"scene\": {\"xaxis\": {\"backgroundcolor\": \"#E5ECF6\", \"gridcolor\": \"white\", \"gridwidth\": 2, \"linecolor\": \"white\", \"showbackground\": true, \"ticks\": \"\", \"zerolinecolor\": \"white\"}, \"yaxis\": {\"backgroundcolor\": \"#E5ECF6\", \"gridcolor\": \"white\", \"gridwidth\": 2, \"linecolor\": \"white\", \"showbackground\": true, \"ticks\": \"\", \"zerolinecolor\": \"white\"}, \"zaxis\": {\"backgroundcolor\": \"#E5ECF6\", \"gridcolor\": \"white\", \"gridwidth\": 2, \"linecolor\": \"white\", \"showbackground\": true, \"ticks\": \"\", \"zerolinecolor\": \"white\"}}, \"shapedefaults\": {\"line\": {\"color\": \"#2a3f5f\"}}, \"ternary\": {\"aaxis\": {\"gridcolor\": \"white\", \"linecolor\": \"white\", \"ticks\": \"\"}, \"baxis\": {\"gridcolor\": \"white\", \"linecolor\": \"white\", \"ticks\": \"\"}, \"bgcolor\": \"#E5ECF6\", \"caxis\": {\"gridcolor\": \"white\", \"linecolor\": \"white\", \"ticks\": \"\"}}, \"title\": {\"x\": 0.05}, \"xaxis\": {\"automargin\": true, \"gridcolor\": \"white\", \"linecolor\": \"white\", \"ticks\": \"\", \"title\": {\"standoff\": 15}, \"zerolinecolor\": \"white\", \"zerolinewidth\": 2}, \"yaxis\": {\"automargin\": true, \"gridcolor\": \"white\", \"linecolor\": \"white\", \"ticks\": \"\", \"title\": {\"standoff\": 15}, \"zerolinecolor\": \"white\", \"zerolinewidth\": 2}}}, \"title\": {\"text\": \"Total Explained Variance: 65.70%\"}},                        {\"responsive\": true}                    ).then(function(){\n",
       "                            \n",
       "var gd = document.getElementById('dbc32ccd-07cf-438c-870d-ae4d6f7d9701');\n",
       "var x = new MutationObserver(function (mutations, observer) {{\n",
       "        var display = window.getComputedStyle(gd).display;\n",
       "        if (!display || display === 'none') {{\n",
       "            console.log([gd, 'removed!']);\n",
       "            Plotly.purge(gd);\n",
       "            observer.disconnect();\n",
       "        }}\n",
       "}});\n",
       "\n",
       "// Listen for the removal of the full notebook cells\n",
       "var notebookContainer = gd.closest('#notebook-container');\n",
       "if (notebookContainer) {{\n",
       "    x.observe(notebookContainer, {childList: true});\n",
       "}}\n",
       "\n",
       "// Listen for the clearing of the current output cell\n",
       "var outputEl = gd.closest('.output');\n",
       "if (outputEl) {{\n",
       "    x.observe(outputEl, {childList: true});\n",
       "}}\n",
       "\n",
       "                        })                };                });            </script>        </div>"
      ]
     },
     "metadata": {},
     "output_type": "display_data"
    }
   ],
   "source": [
    "# 3D PCA\n",
    "pca = PCA(n_components=3)\n",
    "components = pca.fit_transform(X_total)\n",
    "\n",
    "total_var = pca.explained_variance_ratio_.sum() * 100\n",
    "\n",
    "fig = px.scatter_3d(\n",
    "    components, x=0, y=1, z=2, color=labels,\n",
    "    size=[0.001]*len(labels),\n",
    "    title=f'Total Explained Variance: {total_var:.2f}%',\n",
    "    labels={'0': 'PC 1', '1': 'PC 2', '2': 'PC 3'}\n",
    ")\n",
    "fig.show()"
   ]
  },
  {
   "cell_type": "markdown",
   "id": "british-caution",
   "metadata": {},
   "source": [
    "# Classification\n",
    "First, split labeled data into training and test sets"
   ]
  },
  {
   "cell_type": "code",
   "execution_count": 95,
   "id": "rubber-albuquerque",
   "metadata": {},
   "outputs": [
    {
     "name": "stdout",
     "output_type": "stream",
     "text": [
      "X_total.shape: (431, 46)\n",
      "X_train.shape: (288, 46)\n",
      "X_test.shape: (143, 46)\n",
      "len(y_train): 288\n",
      "len(y_test): 143\n"
     ]
    }
   ],
   "source": [
    "from sklearn.model_selection import train_test_split\n",
    "X_train, X_test, y_train, y_test = train_test_split(X_total, labels, test_size=0.33, random_state=42)\n",
    "print(f'X_total.shape: {X_total.shape}')\n",
    "print(f'X_train.shape: {X_train.shape}')\n",
    "print(f'X_test.shape: {X_test.shape}')\n",
    "print(f'len(y_train): {len(y_train)}')\n",
    "print(f'len(y_test): {len(y_test)}')"
   ]
  },
  {
   "cell_type": "markdown",
   "id": "global-medline",
   "metadata": {},
   "source": [
    "Now let's run a bunch of classifiers based on this tutorial: https://www.kaggle.com/jeffd23/10-classifier-showdown-in-scikit-learn"
   ]
  },
  {
   "cell_type": "code",
   "execution_count": 96,
   "id": "recovered-charles",
   "metadata": {
    "scrolled": false
   },
   "outputs": [
    {
     "name": "stdout",
     "output_type": "stream",
     "text": [
      "==============================\n",
      "KNeighborsClassifier\n",
      "****Results****\n",
      "Accuracy: 48.9510%\n",
      "Log Loss: 6.848115256606548\n",
      "==============================\n",
      "SVC\n",
      "****Results****\n",
      "Accuracy: 22.3776%\n",
      "Log Loss: 1.12357834971956\n",
      "==============================\n",
      "NuSVC\n",
      "****Results****\n",
      "Accuracy: 62.9371%\n",
      "Log Loss: 0.9130527541995258\n",
      "==============================\n",
      "DecisionTreeClassifier\n",
      "****Results****\n",
      "Accuracy: 52.4476%\n",
      "Log Loss: 16.42403353044704\n",
      "==============================\n",
      "RandomForestClassifier\n",
      "****Results****\n",
      "Accuracy: 72.0280%\n",
      "Log Loss: 0.9126903924029256\n",
      "==============================\n",
      "AdaBoostClassifier\n",
      "****Results****\n",
      "Accuracy: 22.3776%\n",
      "Log Loss: 1.8173395711721052\n",
      "==============================\n",
      "GradientBoostingClassifier\n",
      "****Results****\n",
      "Accuracy: 66.4336%\n",
      "Log Loss: 0.7767009661184882\n",
      "==============================\n",
      "GaussianNB\n",
      "****Results****\n",
      "Accuracy: 60.8392%\n",
      "Log Loss: 3.532138901932739\n",
      "==============================\n",
      "LinearDiscriminantAnalysis\n",
      "****Results****\n",
      "Accuracy: 71.3287%\n",
      "Log Loss: 0.7754525580062703\n",
      "==============================\n"
     ]
    }
   ],
   "source": [
    "from sklearn.metrics import accuracy_score, log_loss\n",
    "from sklearn.neighbors import KNeighborsClassifier\n",
    "from sklearn.svm import SVC, LinearSVC, NuSVC\n",
    "from sklearn.tree import DecisionTreeClassifier\n",
    "from sklearn.ensemble import RandomForestClassifier, AdaBoostClassifier, GradientBoostingClassifier\n",
    "from sklearn.naive_bayes import GaussianNB\n",
    "from sklearn.discriminant_analysis import LinearDiscriminantAnalysis\n",
    "from sklearn.discriminant_analysis import QuadraticDiscriminantAnalysis\n",
    "\n",
    "classifiers = [\n",
    "    KNeighborsClassifier(3),\n",
    "    SVC(kernel=\"rbf\", C=0.025, probability=True),\n",
    "    NuSVC(probability=True),\n",
    "    DecisionTreeClassifier(),\n",
    "    RandomForestClassifier(),\n",
    "    AdaBoostClassifier(),\n",
    "    GradientBoostingClassifier(),\n",
    "    GaussianNB(),\n",
    "    LinearDiscriminantAnalysis(),\n",
    "    #QuadraticDiscriminantAnalysis(),\n",
    "]\n",
    "\n",
    "# Logging for Visual Comparison\n",
    "log_cols=[\"Classifier\", \"Accuracy\", \"Log Loss\"]\n",
    "log = pd.DataFrame(columns=log_cols)\n",
    "\n",
    "for clf in classifiers:\n",
    "    clf.fit(X_train, y_train)\n",
    "    name = clf.__class__.__name__\n",
    "    \n",
    "    print(\"=\"*30)\n",
    "    print(name)\n",
    "    \n",
    "    print('****Results****')\n",
    "    train_predictions = clf.predict(X_test)\n",
    "    acc = accuracy_score(y_test, train_predictions)\n",
    "    print(\"Accuracy: {:.4%}\".format(acc))\n",
    "    \n",
    "    train_predictions = clf.predict_proba(X_test)\n",
    "    ll = log_loss(y_test, train_predictions)\n",
    "    print(\"Log Loss: {}\".format(ll))\n",
    "    \n",
    "    log_entry = pd.DataFrame([[name, acc*100, ll]], columns=log_cols)\n",
    "    log = log.append(log_entry)\n",
    "    \n",
    "print(\"=\"*30)"
   ]
  },
  {
   "cell_type": "code",
   "execution_count": 104,
   "id": "recreational-oxford",
   "metadata": {},
   "outputs": [],
   "source": [
    "plt.figure(figsize=(8, 4))\n",
    "sns.set_color_codes(\"muted\")\n",
    "sns.barplot(x='Accuracy', y='Classifier', data=log, color=\"b\")\n",
    "\n",
    "plt.xlabel('Accuracy %')\n",
    "plt.title('Classifier Accuracy')\n",
    "plt.xlim(0, 100)\n",
    "plt.tight_layout()\n",
    "plt.savefig('Test/ClassifierAccuracy.png')"
   ]
  },
  {
   "cell_type": "code",
   "execution_count": 105,
   "id": "postal-rover",
   "metadata": {},
   "outputs": [],
   "source": [
    "plt.figure(figsize=(8, 4))\n",
    "sns.set_color_codes(\"muted\")\n",
    "sns.barplot(x='Log Loss', y='Classifier', data=log, color=\"g\")\n",
    "\n",
    "plt.xlabel('Log Loss')\n",
    "plt.title('Classifier Log Loss')\n",
    "plt.xlim(0, 100)\n",
    "plt.tight_layout()\n",
    "plt.savefig('Test/ClassifierLogLoss.png')"
   ]
  },
  {
   "cell_type": "code",
   "execution_count": null,
   "id": "powerful-pennsylvania",
   "metadata": {},
   "outputs": [],
   "source": []
  }
 ],
 "metadata": {
  "kernelspec": {
   "display_name": "Python (ee367-hw)",
   "language": "python",
   "name": "ee367-hw"
  },
  "language_info": {
   "codemirror_mode": {
    "name": "ipython",
    "version": 3
   },
   "file_extension": ".py",
   "mimetype": "text/x-python",
   "name": "python",
   "nbconvert_exporter": "python",
   "pygments_lexer": "ipython3",
   "version": "3.7.9"
  }
 },
 "nbformat": 4,
 "nbformat_minor": 5
}
