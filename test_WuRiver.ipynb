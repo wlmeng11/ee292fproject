{
 "cells": [
  {
   "cell_type": "code",
   "execution_count": 77,
   "id": "requested-deficit",
   "metadata": {},
   "outputs": [],
   "source": [
    "import numpy as np\n",
    "import pandas as pd\n",
    "import seaborn as sns\n",
    "%matplotlib qt\n",
    "import matplotlib.pyplot as plt\n",
    "from tqdm import tqdm\n",
    "from skimage import io, color\n",
    "import cv2\n",
    "import os\n",
    "from sklearn.decomposition import PCA\n",
    "from scipy import ndimage"
   ]
  },
  {
   "cell_type": "markdown",
   "id": "historic-yellow",
   "metadata": {},
   "source": [
    "# Function definitions"
   ]
  },
  {
   "cell_type": "code",
   "execution_count": 164,
   "id": "powered-soundtrack",
   "metadata": {},
   "outputs": [],
   "source": [
    "# Based on tutorial: https://jdhao.github.io/2017/11/06/resize-image-to-square-with-padding/\n",
    "def make_square(img, desired_size=256, fill_color=[255, 255, 255]):\n",
    "    if img.dtype != np.uint8:\n",
    "        print(f'Converting to uint8...')\n",
    "        img = (255*img).astype(np.uint8)\n",
    "        \n",
    "    scale_factor = desired_size/max(img.shape[0], img.shape[1])\n",
    "    resized = cv2.resize(img, (int(scale_factor*img.shape[1]), int(scale_factor*img.shape[0])))\n",
    "    new_size = resized.shape\n",
    "    \n",
    "    delta_w = desired_size - new_size[1]\n",
    "    delta_h = desired_size - new_size[0]\n",
    "    top, bottom = delta_h//2, delta_h-(delta_h//2)\n",
    "    left, right = delta_w//2, delta_w-(delta_w//2)\n",
    "    \n",
    "    out = cv2.copyMakeBorder(resized, top, bottom, left, right, cv2.BORDER_CONSTANT, value=fill_color)\n",
    "    return out\n",
    "\n",
    "# use float for thresholding, but return uint8 image\n",
    "def binarize(img, threshold=0.5, invert=True):\n",
    "    if img.dtype == np.uint8:\n",
    "        img = img/255.0 # convert to float64\n",
    "\n",
    "    # Convert to grayscale\n",
    "    if len(img.shape) >= 3:\n",
    "        img = color.rgb2gray(img)\n",
    "    \n",
    "    # Threshold\n",
    "    out = np.zeros_like(img)\n",
    "    if invert: # detect dark characters\n",
    "        mask = img < threshold\n",
    "    else: # detect light characters\n",
    "        mask = img > threshold\n",
    "\n",
    "    out[mask] = 1\n",
    "    return (255*out).astype(np.uint8)\n",
    "\n",
    "def preprocess(img, desired_size=256, threshold=0.5, invert=True):\n",
    "    if invert: # detect black character on white background\n",
    "        fill_color = [255, 255, 255]\n",
    "    else: # detect white character on black background\n",
    "        fill_color = [0, 0, 0]\n",
    "\n",
    "    img_square = make_square(img, desired_size=desired_size, fill_color=fill_color)\n",
    "    img_bin = binarize(img_square, threshold=threshold, invert=invert)\n",
    "    return img_bin\n",
    "\n",
    "def contour_analysis(img, n=4, trim_points=10, bins=20, verbose=False):\n",
    "    # Find all contours\n",
    "    contours, hierarchy = cv2.findContours(img, cv2.RETR_TREE, cv2.CHAIN_APPROX_NONE)\n",
    "    if verbose:\n",
    "        print(f'# of contours: {len(contours)}')\n",
    "        print('# of points in each contour:')\n",
    "        for cnt in contours:\n",
    "            print(f'\\t{len(cnt)} points')\n",
    "\n",
    "    # Remove contours with too few points\n",
    "    contours_trimmed = [cnt for cnt in contours if len(cnt) > trim_points]\n",
    "    if verbose:\n",
    "        print(f'Trimming contours with fewer than {trim_points} points...')\n",
    "        print(f'# of remaining contours: {len(contours_trimmed)}')\n",
    "        for cnt in contours_trimmed:\n",
    "            print(f'\\t{len(cnt)} points')\n",
    "\n",
    "    # Create dashed contours by keeping every nth point\n",
    "    assert(n>=2)\n",
    "    contours_dashed = [cnt[1::n] for cnt in contours_trimmed]\n",
    "    if verbose:\n",
    "        print(f'Taking every {n}th point to get dashed contour...')\n",
    "        for cnt in contours_dashed:\n",
    "            print(f'\\t{len(cnt)} points')\n",
    "            \n",
    "    # Find angles between adjacent points in the contour\n",
    "    thetaseq = []\n",
    "    for i, cnt in enumerate(contours_dashed):\n",
    "        for j, point in enumerate(cnt):\n",
    "            if j == 0:\n",
    "                prevx, prevy = point[0]\n",
    "            else:\n",
    "                x, y = point[0]\n",
    "                thetaseq.append(np.arctan2(y-prevy, x-prevx))\n",
    "                prevx = x\n",
    "                prevy = y\n",
    "    \n",
    "    if verbose:\n",
    "        print(f'# thetas: {len(thetaseq)}')\n",
    "        print(f'max theta: {max(thetaseq)}')\n",
    "        print(f'min theta: {min(thetaseq)}')\n",
    "\n",
    "    hist =  np.histogram(thetaseq, bins=bins, range=(-np.pi, np.pi))\n",
    "    return hist\n",
    "\n",
    "def feature_analysis(img, n=4, trim_points=10, bins=20, verbose=False):\n",
    "    # Find all contours\n",
    "    contours, hierarchy = cv2.findContours(img, cv2.RETR_TREE, cv2.CHAIN_APPROX_NONE)\n",
    "    if verbose:\n",
    "        print(f'# of contours: {len(contours)}')\n",
    "        print('# of points in each contour:')\n",
    "        for cnt in contours:\n",
    "            print(f'\\t{len(cnt)} points')\n",
    "\n",
    "    # Remove contours with too few points\n",
    "    contours_trimmed = [cnt for cnt in contours if len(cnt) > trim_points]\n",
    "    if verbose:\n",
    "        print(f'Trimming contours with fewer than {trim_points} points...')\n",
    "        print(f'# of remaining contours: {len(contours_trimmed)}')\n",
    "        for cnt in contours_trimmed:\n",
    "            print(f'\\t{len(cnt)} points')\n",
    "\n",
    "    # Create dashed contours by keeping every nth point\n",
    "    assert(n>=2)\n",
    "    contours_dashed = [cnt[1::n] for cnt in contours_trimmed]\n",
    "    if verbose:\n",
    "        print(f'Taking every {n}th point to get dashed contour...')\n",
    "        for cnt in contours_dashed:\n",
    "            print(f'\\t{len(cnt)} points')\n",
    "            \n",
    "    # Find angles between adjacent points in the contour\n",
    "    thetaseq = []\n",
    "    for i, cnt in enumerate(contours_dashed):\n",
    "        for j, point in enumerate(cnt):\n",
    "            if j == 0:\n",
    "                prevx, prevy = point[0]\n",
    "            else:\n",
    "                x, y = point[0]\n",
    "                thetaseq.append(np.arctan2(y-prevy, x-prevx))\n",
    "                prevx = x\n",
    "                prevy = y\n",
    "    \n",
    "    dthetaseq = np.diff(thetaseq)\n",
    "    hist_theta = np.histogram(thetaseq, bins=bins, range=(-np.pi, np.pi), density=True)\n",
    "    hist_dtheta =  np.histogram(dthetaseq, bins=bins, range=(-np.pi, np.pi), density=True)\n",
    "    density_theta, theta = hist_theta\n",
    "    density_dtheta, dtheta = hist_dtheta\n",
    "    \n",
    "    if verbose:\n",
    "        print(f'# thetas: {len(thetaseq)}')\n",
    "        print(f'max theta: {max(thetaseq)}')\n",
    "        print(f'min theta: {min(thetaseq)}')\n",
    "        print(f'len(thetaseq): {len(thetaseq)}')\n",
    "        print(f'dthetaseq.shape: {dthetaseq.shape}')\n",
    "        print(f'density_theta.shape: {density_theta.shape}')\n",
    "        print(f'density_dtheta.shape: {density_dtheta.shape}')\n",
    "\n",
    "    rows, cols = img.shape\n",
    "    X, Y = np.meshgrid(np.linspace(0, 1, cols), np.linspace(0, 1, rows))\n",
    "    assert(X.shape == Y.shape == img.shape)\n",
    "    M = np.sum(img)\n",
    "    M_norm = M/(255*rows*cols)\n",
    "    EX = np.sum(X*img)/M\n",
    "    EY = np.sum(Y*img)/M\n",
    "    DX = np.sum(X**2 * img)/M - EX**2\n",
    "    DY = np.sum(Y**2 * img)/M - EY**2\n",
    "    covXY = np.sum(X*Y*img)/M - EX*EY\n",
    "    \n",
    "    features = np.hstack((density_theta, density_dtheta, M_norm, EX, EY, DX, DY, covXY))\n",
    "    #features = np.hstack((density_theta, density_dtheta, M_norm, DX, DY, covXY))\n",
    "    if verbose:\n",
    "        print(f'features.shape: {features.shape}')\n",
    "        print(f'M = {M}')\n",
    "        print(f'M_norm = {M_norm}')\n",
    "        print(f'EX = {EX}')\n",
    "        print(f'EY = {EY}')\n",
    "        print(f'DX = {DX}')\n",
    "        print(f'DY = {DY}')\n",
    "        print(f'covXY = {covXY}')\n",
    "    return features\n",
    "\n",
    "def plot_angles(hist, ax=None, title='Distribution of angles', label=''):\n",
    "    r, theta = hist\n",
    "    bins = len(r)\n",
    "    #theta += np.pi/bins\n",
    "    r = np.append(r, r[0]) # append 0th element to end cuz -pi and pi are the same angle\n",
    "\n",
    "    if ax is None:\n",
    "        fig, ax = plt.subplots(subplot_kw={'projection': 'polar'}, figsize=(4, 4), dpi=300)\n",
    "\n",
    "    ax.plot(theta, r, label=label)\n",
    "    ax.grid(True)\n",
    "\n",
    "    ax.set_title(title, va='bottom')\n",
    "    plt.tight_layout()\n",
    "    \n",
    "def plot_mu_and_K(X, title='', filename='mu+K.png'):\n",
    "    mu = np.mean(X, axis=1)\n",
    "    K = np.cov(X)\n",
    "    bins = len(mu)\n",
    "    theta = np.linspace(-np.pi, np.pi, bins+1)\n",
    " \n",
    "    fig = plt.figure(figsize=(8, 4))\n",
    "    ax1 = plt.subplot(121, projection='polar')\n",
    "    ax2 = plt.subplot(122)\n",
    "    plot_angles([mu, theta], ax=ax1, title='Mean vector μ')\n",
    "    fig.colorbar(ax2.imshow(K))\n",
    "    ax2.set_title('Covariance matrix K')\n",
    "    plt.suptitle(title, fontsize='xx-large')\n",
    "    plt.tight_layout()\n",
    "    plt.savefig(filename)\n",
    "    \n",
    "def plot_hists(X, title='', filename='hists.png'):\n",
    "    bins = 20\n",
    "    theta = np.linspace(-np.pi, np.pi, bins+1)\n",
    "    X_theta = X[0:bins]\n",
    "    X_dtheta = X[bins:2*bins]\n",
    "    \n",
    "    fig = plt.figure(figsize=(8, 4))\n",
    "    ax1 = plt.subplot(121, projection='polar')\n",
    "    ax2 = plt.subplot(122, projection='polar')\n",
    "    plot_angles([X_theta, theta], ax=ax1, title='Contour Angles')\n",
    "    plot_angles([X_dtheta, theta], ax=ax2, title='Contour Curvatures')\n",
    "    plt.suptitle(title, fontsize='xx-large')\n",
    "    plt.tight_layout()\n",
    "    plt.savefig(filename)\n",
    "\n",
    "def analyze_images_in_path(path='', bins=20, invert=True, verbose=False):\n",
    "    filenames = os.listdir(path)\n",
    "    filenames.sort()\n",
    "    if verbose:\n",
    "        print(filenames)\n",
    "    \n",
    "    X = np.zeros((bins, len(filenames)))\n",
    "    for i, filename in enumerate(filenames):\n",
    "        img = io.imread(path + filename)\n",
    "        counts, theta = contour_analysis(preprocess(img, invert=invert), bins=bins)\n",
    "        # divide counts by total counts to get Probability Mass Function (PMF)\n",
    "        probs = counts / counts.sum()\n",
    "        X[:, i] = probs\n",
    "\n",
    "    return X\n",
    "\n",
    "def feature_analysis_in_path(path='', bins=20, invert=True, verbose=False):\n",
    "    filenames = os.listdir(path)\n",
    "    filenames.sort()\n",
    "    if verbose:\n",
    "        print(filenames)\n",
    "    \n",
    "    num_features = 2*bins + 6\n",
    "    #num_features = 2*bins + 4\n",
    "    X = np.zeros((num_features, len(filenames)))\n",
    "    for i, filename in enumerate(filenames):\n",
    "        img = io.imread(path + filename)\n",
    "        features = feature_analysis(preprocess(img, invert=invert), bins=bins)\n",
    "        X[:, i] = features.T\n",
    "\n",
    "    return X"
   ]
  },
  {
   "cell_type": "markdown",
   "id": "successful-departure",
   "metadata": {},
   "source": [
    "# Mi Fu's *Poem Written In a Boat on the Wu River*"
   ]
  },
  {
   "cell_type": "code",
   "execution_count": 141,
   "id": "contemporary-elimination",
   "metadata": {},
   "outputs": [
    {
     "name": "stdout",
     "output_type": "stream",
     "text": [
      "['001.png', '002.png', '003.png', '004.png', '005.png', '006.png', '007.png', '008.png', '009.png', '010.png', '011.png', '012.png', '013.png', '014.png', '015.png', '016.png', '017.png', '018.png', '019.png', '020.png', '021.png', '022.png', '023.png', '024.png', '025.png', '026.png', '027.png', '028.png', '029.png', '030.png', '031.png', '032.png', '033.png', '034.png', '035.png', '036.png', '037.png', '038.png', '039.png', '040.png', '041.png', '042.png', '043.png', '044.png', '045.png', '046.png', '047.png', '048.png', '049.png', '050.png', '051.png', '052.png', '053.png', '054.png', '055.png', '056.png', '057.png', '058.png', '059.png', '060.png', '061.png', '062.png', '063.png', '064.png', '065.png', '066.png', '067.png', '068.png', '069.png', '070.png', '071.png', '072.png', '073.png', '074.png', '075.png', '076.png', '077.png', '078.png', '079.png', '080.png', '081.png', '082.png', '083.png', '084.png', '085.png', '086.png', '087.png', '088.png', '089.png', '090.png', '091.png']\n"
     ]
    }
   ],
   "source": [
    "path = 'Extracted Characters/Mi Fu - Poem Written in a Boat on the Wu River/'\n",
    "filenames = os.listdir(path)\n",
    "filenames.sort()\n",
    "print(filenames)"
   ]
  },
  {
   "cell_type": "code",
   "execution_count": 139,
   "id": "ceramic-graduate",
   "metadata": {},
   "outputs": [],
   "source": [
    "X = analyze_images_in_path(path)\n",
    "plot_mu_and_K(X, title=f'Wu River ({X.shape[1]} images)', filename='Test/mu+K_WuRiver.png')"
   ]
  },
  {
   "cell_type": "markdown",
   "id": "cathedral-joint",
   "metadata": {},
   "source": [
    "# PCA"
   ]
  },
  {
   "cell_type": "code",
   "execution_count": 5,
   "id": "national-calculation",
   "metadata": {},
   "outputs": [
    {
     "name": "stdout",
     "output_type": "stream",
     "text": [
      "Explained variance ratio: [0.46376558 0.18567444]\n",
      "Singular values: [0.64595277 0.40872158]\n",
      "# of datapoints: 91\n",
      "Principal Components of each datapoint:\n",
      "[[ 0.00036497 -0.04055316]\n",
      " [-0.04857066 -0.07094967]\n",
      " [ 0.06122655  0.04654032]\n",
      " [-0.01613446 -0.00603782]\n",
      " [ 0.02814406 -0.01462888]\n",
      " [ 0.00671194 -0.00175597]\n",
      " [ 0.01776733  0.03306314]\n",
      " [ 0.03402     0.00555434]\n",
      " [-0.03777442 -0.049431  ]\n",
      " [-0.05745886 -0.04579842]\n",
      " [-0.00853481 -0.04679862]\n",
      " [-0.01135655 -0.00698931]\n",
      " [-0.02071141  0.00842589]\n",
      " [ 0.01274043 -0.0583408 ]\n",
      " [ 0.08382157  0.03102172]\n",
      " [-0.02297599  0.01905669]\n",
      " [ 0.10739135  0.03128132]\n",
      " [-0.05256259  0.00947863]\n",
      " [ 0.00198506 -0.08034348]\n",
      " [-0.04629028  0.01712935]\n",
      " [-0.02251515 -0.0095294 ]\n",
      " [-0.00461233 -0.00882975]\n",
      " [ 0.01980275  0.02980875]\n",
      " [-0.02633659 -0.0312785 ]\n",
      " [ 0.00528308  0.02810656]\n",
      " [ 0.01261909 -0.02890035]\n",
      " [-0.02613037  0.00528459]\n",
      " [ 0.06926955 -0.00316414]\n",
      " [-0.04079143 -0.00750503]\n",
      " [-0.02019476 -0.04851468]\n",
      " [-0.02102922  0.00042207]\n",
      " [-0.03282467 -0.01954578]\n",
      " [ 0.00114016 -0.01408372]\n",
      " [-0.03612674 -0.07861047]\n",
      " [-0.04191981  0.1137099 ]\n",
      " [-0.01027938  0.01038752]\n",
      " [ 0.06838154  0.00281642]\n",
      " [ 0.05751395 -0.02492435]\n",
      " [ 0.05006564 -0.04385745]\n",
      " [ 0.02714702  0.02237089]\n",
      " [ 0.00743597 -0.03516942]\n",
      " [ 0.02122093  0.0481397 ]\n",
      " [-0.02674342  0.02259114]\n",
      " [-0.11627673 -0.0445204 ]\n",
      " [ 0.14756285 -0.00994728]\n",
      " [ 0.03723991 -0.02735539]\n",
      " [ 0.10261138 -0.04172916]\n",
      " [-0.07526478  0.02993773]\n",
      " [-0.06880545  0.06969791]\n",
      " [-0.0356955   0.02209974]\n",
      " [ 0.0263826  -0.03728009]\n",
      " [-0.10513997 -0.05903729]\n",
      " [-0.04178605  0.034805  ]\n",
      " [ 0.03067633  0.08238439]\n",
      " [ 0.00478153 -0.01548877]\n",
      " [ 0.08591645 -0.046227  ]\n",
      " [-0.12224827  0.03558798]\n",
      " [-0.09262674  0.08021686]\n",
      " [ 0.04236324  0.02712873]\n",
      " [ 0.07267688  0.00140991]\n",
      " [-0.03467001 -0.03422814]\n",
      " [ 0.01463398 -0.02914405]\n",
      " [ 0.07040397  0.04669152]\n",
      " [ 0.07986894  0.05097841]\n",
      " [ 0.01275965 -0.04915246]\n",
      " [-0.04613613  0.05912617]\n",
      " [-0.09462118  0.00248278]\n",
      " [-0.04215467  0.06894821]\n",
      " [ 0.05764012  0.03715256]\n",
      " [-0.03558009  0.00720354]\n",
      " [ 0.33323815 -0.07603338]\n",
      " [-0.04893545 -0.05947097]\n",
      " [ 0.05066196  0.01730223]\n",
      " [-0.01873652 -0.00877428]\n",
      " [ 0.03080423 -0.02587793]\n",
      " [ 0.0144918   0.06659497]\n",
      " [-0.03982649  0.00121721]\n",
      " [-0.01840615 -0.03771815]\n",
      " [ 0.03467702 -0.0416603 ]\n",
      " [ 0.06683024 -0.01745085]\n",
      " [ 0.03969235 -0.00685914]\n",
      " [-0.09180208 -0.01020319]\n",
      " [-0.07876723 -0.03375205]\n",
      " [-0.00392738  0.0955278 ]\n",
      " [ 0.01493584  0.10383417]\n",
      " [-0.07181534 -0.01699606]\n",
      " [ 0.08647546  0.05137527]\n",
      " [-0.17359093 -0.06907525]\n",
      " [-0.13553269  0.01051043]\n",
      " [-0.01615545  0.03958882]\n",
      " [ 0.08899732  0.04653042]]\n"
     ]
    }
   ],
   "source": [
    "pca = PCA(n_components=2)\n",
    "pca.fit(np.transpose(X))\n",
    "print(f'Explained variance ratio: {pca.explained_variance_ratio_}')\n",
    "print(f'Singular values: {pca.singular_values_}')\n",
    "components = pca.fit_transform(np.transpose(X))\n",
    "print(f'# of datapoints: {len(components)}')\n",
    "print(f'Principal Components of each datapoint:\\n{components}')\n",
    "\n",
    "plt.figure(figsize=(4, 4))\n",
    "plt.scatter(components[:, 0], components[:, 1], label='Wu River')\n",
    "plt.title('PCA')\n",
    "plt.xlabel('PC 1')\n",
    "plt.ylabel('PC 2')\n",
    "plt.legend()\n",
    "plt.savefig('Test/PCA_WuRiver.png')"
   ]
  },
  {
   "cell_type": "markdown",
   "id": "ruled-trash",
   "metadata": {},
   "source": [
    "# Emperor Huizong"
   ]
  },
  {
   "cell_type": "code",
   "execution_count": 6,
   "id": "selective-employee",
   "metadata": {},
   "outputs": [],
   "source": [
    "path_huizong = 'Extracted Characters/Emperor Huizong - Finches and bamboo/'\n",
    "X_huizong = analyze_images_in_path(path_huizong)\n",
    "plot_mu_and_K(X_huizong, title=f'Huizong ({X_huizong.shape[1]} images)', filename='Test/mu+K_Huizong.png')"
   ]
  },
  {
   "cell_type": "code",
   "execution_count": 7,
   "id": "acknowledged-angola",
   "metadata": {},
   "outputs": [
    {
     "name": "stdout",
     "output_type": "stream",
     "text": [
      "Explained variance ratio: [0.53135269 0.15757212]\n",
      "Singular values: [0.50312026 0.27398075]\n",
      "# of datapoints: 63\n",
      "Principal Components of each datapoint:\n",
      "[[-2.16313251e-03 -4.25746873e-02]\n",
      " [ 8.57089448e-02  1.40339353e-02]\n",
      " [-2.77658039e-04 -3.65770779e-02]\n",
      " [-1.27794456e-01 -7.98409233e-03]\n",
      " [ 1.07393757e-01 -2.80251417e-02]\n",
      " [-2.24144291e-02  1.00944753e-02]\n",
      " [-2.48369017e-02 -3.93555482e-02]\n",
      " [-1.10309812e-01  1.60847233e-02]\n",
      " [-3.75527438e-02  5.48116811e-03]\n",
      " [ 3.65860470e-02 -2.08294503e-02]\n",
      " [ 8.33063050e-03  3.68827932e-03]\n",
      " [ 2.43327057e-02  4.01623480e-02]\n",
      " [-6.30493270e-02  2.49007855e-03]\n",
      " [-4.33027634e-02  3.31282796e-02]\n",
      " [ 2.29656044e-02  3.74667220e-02]\n",
      " [-4.41109453e-02 -1.26432794e-02]\n",
      " [ 1.89401046e-01 -6.69006215e-02]\n",
      " [-5.87827426e-02  7.85313554e-02]\n",
      " [ 1.01260225e-01  1.84081055e-02]\n",
      " [ 1.94304092e-02 -1.21097606e-02]\n",
      " [-5.06148221e-02 -3.15385971e-02]\n",
      " [ 5.08185361e-02  1.60215374e-02]\n",
      " [-1.51775337e-02 -2.87712629e-02]\n",
      " [-1.10392628e-02  4.48198762e-02]\n",
      " [ 5.19185431e-02  3.82370976e-02]\n",
      " [ 7.33617989e-02 -4.04258839e-02]\n",
      " [ 1.71494931e-02  1.05555082e-04]\n",
      " [ 2.75640321e-02  9.56662636e-03]\n",
      " [-5.00957691e-02 -8.07965955e-03]\n",
      " [-4.03273159e-02 -2.22023808e-02]\n",
      " [ 8.30306664e-02  1.10414070e-03]\n",
      " [-3.08698398e-02  5.16537716e-02]\n",
      " [-3.27546564e-02 -5.45029375e-04]\n",
      " [-6.46815482e-02  7.80668406e-02]\n",
      " [ 1.12859591e-02 -4.72526165e-03]\n",
      " [-5.87188683e-02 -2.49099873e-02]\n",
      " [ 6.41505126e-02 -4.45950289e-03]\n",
      " [ 2.82939509e-02  6.40284036e-02]\n",
      " [-8.88558859e-02 -3.13420785e-02]\n",
      " [-7.34908554e-02 -1.23640176e-02]\n",
      " [ 1.08027402e-01 -6.21561277e-03]\n",
      " [-4.88819884e-02  5.01377579e-02]\n",
      " [ 3.43841118e-04  3.19704686e-02]\n",
      " [-1.06111447e-01 -4.84469898e-02]\n",
      " [ 5.72937122e-02  3.79073623e-02]\n",
      " [ 3.51451718e-02 -6.74889450e-02]\n",
      " [ 4.52080420e-02  3.97800981e-02]\n",
      " [ 4.37899307e-02  3.27252625e-02]\n",
      " [ 6.80649420e-03 -6.86346975e-02]\n",
      " [-4.56674734e-03 -2.39645223e-02]\n",
      " [ 2.14856296e-02  2.94496261e-02]\n",
      " [ 8.45953392e-03  2.26079956e-03]\n",
      " [ 2.97161585e-02 -2.37647810e-02]\n",
      " [-1.52190218e-01 -5.70960053e-02]\n",
      " [ 2.59163869e-03 -5.36614406e-03]\n",
      " [ 3.25841910e-02  1.38781088e-02]\n",
      " [ 4.99547022e-02 -1.71748112e-02]\n",
      " [ 1.00257031e-01  3.38717127e-03]\n",
      " [-4.98439506e-02 -4.16518047e-02]\n",
      " [ 7.66106947e-03  5.06972086e-02]\n",
      " [-1.00473848e-01  2.03424889e-02]\n",
      " [-6.32164595e-02 -1.99729519e-02]\n",
      " [ 2.41985169e-02 -1.95690858e-02]]\n"
     ]
    }
   ],
   "source": [
    "pca = PCA(n_components=2)\n",
    "pca.fit(np.transpose(X_huizong))\n",
    "print(f'Explained variance ratio: {pca.explained_variance_ratio_}')\n",
    "print(f'Singular values: {pca.singular_values_}')\n",
    "components = pca.fit_transform(np.transpose(X_huizong))\n",
    "print(f'# of datapoints: {len(components)}')\n",
    "print(f'Principal Components of each datapoint:\\n{components}')\n",
    "\n",
    "plt.figure(figsize=(4, 4))\n",
    "plt.scatter(components[:, 0], components[:, 1], label='Huizong')\n",
    "plt.title('PCA')\n",
    "plt.xlabel('PC 1')\n",
    "plt.ylabel('PC 2')\n",
    "plt.legend()\n",
    "plt.savefig('Test/PCA_Huizong.png')"
   ]
  },
  {
   "cell_type": "code",
   "execution_count": 8,
   "id": "prospective-summit",
   "metadata": {},
   "outputs": [
    {
     "data": {
      "text/plain": [
       "array([ 0.        , -0.01189713, -0.0015365 ,  0.00282308,  0.        ,\n",
       "        0.01359497,  0.0182712 ,  0.00675491, -0.00955608,  0.        ,\n",
       "       -0.02040361, -0.00902268, -0.00562586,  0.00024467,  0.        ,\n",
       "        0.02281982,  0.02439142, -0.00315011, -0.01308333, -0.01462477])"
      ]
     },
     "execution_count": 8,
     "metadata": {},
     "output_type": "execute_result"
    }
   ],
   "source": [
    "np.mean(X, axis=1) - np.mean(X_huizong, axis=1)"
   ]
  },
  {
   "cell_type": "markdown",
   "id": "round-tooth",
   "metadata": {},
   "source": [
    "# PCA Comparison"
   ]
  },
  {
   "cell_type": "code",
   "execution_count": 9,
   "id": "meaning-librarian",
   "metadata": {},
   "outputs": [
    {
     "data": {
      "text/plain": [
       "(154, 20)"
      ]
     },
     "execution_count": 9,
     "metadata": {},
     "output_type": "execute_result"
    }
   ],
   "source": [
    "np.vstack((X.T, X_huizong.T)).shape"
   ]
  },
  {
   "cell_type": "code",
   "execution_count": 11,
   "id": "undefined-meter",
   "metadata": {
    "scrolled": false
   },
   "outputs": [
    {
     "name": "stdout",
     "output_type": "stream",
     "text": [
      "# of datapoints: 154\n",
      "len(cvec) = 154\n"
     ]
    }
   ],
   "source": [
    "pca = PCA(n_components=2)\n",
    "components = pca.fit_transform(np.vstack((X.T, X_huizong.T)))\n",
    "print(f'# of datapoints: {len(components)}')\n",
    "\n",
    "cvec = [0]*X.shape[1] + [1]*X_huizong.shape[1]\n",
    "print(f'len(cvec) = {len(cvec)}')\n",
    "\n",
    "\n",
    "x = components[:, 0] # PC 1\n",
    "y = components[:, 1] # PC 2\n",
    "\n",
    "# https://matplotlib.org/stable/gallery/lines_bars_and_markers/scatter_with_legend.html\n",
    "fig, ax = plt.subplots()\n",
    "scatter = ax.scatter(x, y, c=cvec)\n",
    "ax.set_title('PCA')\n",
    "ax.set_xlabel('PC 1')\n",
    "ax.set_ylabel('PC 2')\n",
    "\n",
    "# produce a legend with the unique colors from the scatter\n",
    "legend1 = ax.legend(*scatter.legend_elements(),\n",
    "                    loc=\"upper right\", title=\"Classes\")\n",
    "ax.add_artist(legend1)\n",
    "plt.savefig('Test/PCA_WuRiver+Huizong.png')"
   ]
  },
  {
   "cell_type": "markdown",
   "id": "meaningful-diabetes",
   "metadata": {},
   "source": [
    "That was a really hacky way of labeling the classes on the PCA plot. Let's try a more elegant solution with pandas and Plotly. See https://plotly.com/python/pca-visualization/"
   ]
  },
  {
   "cell_type": "code",
   "execution_count": 109,
   "id": "headed-cycle",
   "metadata": {},
   "outputs": [
    {
     "name": "stdout",
     "output_type": "stream",
     "text": [
      "[[ 0.36158968 -0.08226889  0.85657211  0.35884393]\n",
      " [ 0.65653988  0.72971237 -0.1757674  -0.07470647]]\n"
     ]
    },
    {
     "data": {
      "application/vnd.plotly.v1+json": {
       "config": {
        "plotlyServerURL": "https://plot.ly"
       },
       "data": [
        {
         "hovertemplate": "color=setosa<br>0=%{x}<br>1=%{y}<extra></extra>",
         "legendgroup": "setosa",
         "marker": {
          "color": "#636efa",
          "symbol": "circle"
         },
         "mode": "markers",
         "name": "setosa",
         "orientation": "v",
         "showlegend": true,
         "type": "scatter",
         "x": [
          -2.6842071251039537,
          -2.7153906156341323,
          -2.889819539617917,
          -2.746437197308735,
          -2.728592981831315,
          -2.279897361009598,
          -2.8208906821806305,
          -2.6264819933238193,
          -2.887958565335635,
          -2.6738446867191215,
          -2.5065267893389036,
          -2.6131427182710563,
          -2.7874339759970983,
          -3.2252004462749815,
          -2.643543216941146,
          -2.383869323799375,
          -2.6225262031258088,
          -2.6483227324791274,
          -2.1990779614307634,
          -2.5873461889177385,
          -2.3105317013131335,
          -2.5432349073036953,
          -3.2158576949001065,
          -2.303128537663883,
          -2.356171086683898,
          -2.507917226837881,
          -2.4690559975451234,
          -2.562390946836751,
          -2.6398212683765823,
          -2.6328479080307585,
          -2.5884620513033925,
          -2.410077337121596,
          -2.6476366733969003,
          -2.5971594770759183,
          -2.6738446867191215,
          -2.8669998469325346,
          -2.6252284646804207,
          -2.6738446867191215,
          -2.981842664853909,
          -2.5903230255856746,
          -2.770138910746325,
          -2.852211081566393,
          -2.9982964428323515,
          -2.4055141012847017,
          -2.2088329541767058,
          -2.715665190747455,
          -2.5375733710135076,
          -2.840321296827009,
          -2.5426857570770487,
          -2.7039123148636506
         ],
         "xaxis": "x",
         "y": [
          0.32660731476438964,
          -0.16955684755602599,
          -0.13734560960502765,
          -0.3111243157519917,
          0.3339245635684548,
          0.7477827132251336,
          -0.08210451102468079,
          0.1704053489602899,
          -0.5707980263315916,
          -0.1066917037527385,
          0.6519350136725719,
          0.021520631960258028,
          -0.2277401888711063,
          -0.5032799094854257,
          1.1861948994134492,
          1.344754344559862,
          0.8180896745965951,
          0.3191366677508846,
          0.8792440880917366,
          0.5204736388059681,
          0.39786782158889195,
          0.4400317546598153,
          0.14161557162558377,
          0.1055226784299823,
          -0.031209589068338258,
          -0.13905633991317395,
          0.13788731459041773,
          0.3746845627501062,
          0.31929006596032183,
          -0.190075830633624,
          -0.1973930794376908,
          0.4180800082476161,
          0.819982632559507,
          1.1000219280072685,
          -0.1066917037527385,
          0.07719309572358724,
          0.6068000084215862,
          -0.1066917037527385,
          -0.48025004885607653,
          0.23605933728887282,
          0.2710594197651672,
          -0.9328653674695443,
          -0.3343075745907771,
          0.1959172576960609,
          0.44269603042100303,
          -0.242681482898113,
          0.510367545476606,
          -0.22057633827647652,
          0.5862810253439883,
          0.11501085217050568
         ],
         "yaxis": "y"
        },
        {
         "hovertemplate": "color=versicolor<br>0=%{x}<br>1=%{y}<extra></extra>",
         "legendgroup": "versicolor",
         "marker": {
          "color": "#EF553B",
          "symbol": "circle"
         },
         "mode": "markers",
         "name": "versicolor",
         "orientation": "v",
         "showlegend": true,
         "type": "scatter",
         "x": [
          1.284794587845072,
          0.9324107529829181,
          1.464061322779076,
          0.18096720634769892,
          1.0871344872070015,
          0.6404367495231454,
          1.0952237099384787,
          -0.7514671406482274,
          1.0432977807062813,
          -0.010190070727853398,
          -0.511086195895091,
          0.5110980606834774,
          0.2623357561531806,
          0.9840445451694311,
          -0.1748640019656961,
          0.9275729420327004,
          0.6595927890562004,
          0.23454058625983573,
          0.9423617073988422,
          0.043246400328704596,
          1.1162407237538159,
          0.3567865678304615,
          1.2964688502855342,
          0.9205026489090097,
          0.7140082136428337,
          0.8996408632837766,
          1.3310414188547206,
          1.5573962720707029,
          0.8124555489980021,
          -0.3073347556634044,
          -0.07034288894927158,
          -0.19188449210314565,
          0.13499495045137352,
          1.378736982775583,
          0.587274853579911,
          0.8072054966767165,
          1.2204289662446801,
          0.8128677903690703,
          0.24519516169034597,
          0.16451342836925573,
          0.4630309888714244,
          0.8901604456511567,
          0.22887904996964784,
          -0.7070812839208609,
          0.35553303918706347,
          0.33112694733272274,
          0.3752382289467658,
          0.6416902781665434,
          -0.9084633331234955,
          0.29780790740693397
         ],
         "xaxis": "x",
         "y": [
          0.6854391861329199,
          0.3191980898336486,
          0.504189832972453,
          -0.8256039435761131,
          0.07539038928876741,
          -0.41732348297002564,
          0.2838912109384804,
          -1.0011075129743943,
          0.22895690877700672,
          -0.7205748667019015,
          -1.2624919538621404,
          -0.1022841050459702,
          -0.5478932980253367,
          -0.1243604202222779,
          -0.2518155710801706,
          0.4682362050431169,
          -0.35197629106031636,
          -0.3319218293621203,
          -0.5418222581500141,
          -0.5814894466123587,
          -0.0842140138783734,
          -0.06682382794136625,
          -0.32756151979494413,
          -0.182390363327921,
          0.15037915314843714,
          0.32961097958188385,
          0.24466952060228916,
          0.26739258481276473,
          -0.16233157487863326,
          -0.3650866127661603,
          -0.7025379317307259,
          -0.6774905443743572,
          -0.3117096427033962,
          -0.4212051382146283,
          -0.4832842677174824,
          0.1950539637711116,
          0.40803533700101735,
          -0.37067899831890977,
          -0.26672803566184794,
          -0.6796614693108137,
          -0.6695265465361225,
          -0.03381244274676267,
          -0.4022576201789114,
          -1.008424761778461,
          -0.5032184874026622,
          -0.21118014066262658,
          -0.2916220248087797,
          0.019071176491270752,
          -0.7515687251694855,
          -0.34701652159856383
         ],
         "yaxis": "y"
        },
        {
         "hovertemplate": "color=virginica<br>0=%{x}<br>1=%{y}<extra></extra>",
         "legendgroup": "virginica",
         "marker": {
          "color": "#00cc96",
          "symbol": "circle"
         },
         "mode": "markers",
         "name": "virginica",
         "orientation": "v",
         "showlegend": true,
         "type": "scatter",
         "x": [
          2.531726980439559,
          1.4140722251737574,
          2.6164846082840443,
          1.9708149459064823,
          2.349757983950943,
          3.3968799206781397,
          0.5193832450849359,
          2.9320050969913023,
          2.319672793874054,
          2.918134233644252,
          1.6619349470194873,
          1.8023404526607338,
          2.165378862953398,
          1.3445942175098244,
          1.5852672993086439,
          1.904743578213913,
          1.9492487818644988,
          3.4887653796563862,
          3.794686861209971,
          1.2983298245678163,
          2.4281672590208485,
          1.1980973722749628,
          3.4992654842989577,
          1.387668250181556,
          2.2758536493056947,
          2.6141938306983343,
          1.2576251829251366,
          1.2906696477376018,
          2.1228539805083138,
          2.3875644023690286,
          2.8409609252853847,
          3.232342898295877,
          2.158738373133135,
          1.443102604375975,
          1.7796401068985703,
          3.076521621020663,
          2.1449868567093042,
          1.9048629251371325,
          1.1688534694704036,
          2.1076537311732695,
          2.314303394629549,
          1.922450884835753,
          1.4140722251737574,
          2.5633227123408098,
          2.419391219804981,
          1.9440170488777377,
          1.5256636313138727,
          1.7640459355269835,
          1.9016290752882332,
          1.3896661333194167
         ],
         "xaxis": "x",
         "y": [
          -0.011842236640300364,
          -0.5749250559123047,
          0.34193528698729464,
          -0.1811256947049137,
          -0.04188254965484185,
          0.5471680462301525,
          -1.191351689050653,
          0.35237700618085965,
          -0.24554817060691028,
          0.780380629372032,
          0.2420384010375223,
          -0.21615460662653638,
          0.21528028337300706,
          -0.7764154251768249,
          -0.5393070538471719,
          0.11881899098269848,
          0.04073025942776778,
          1.1715445442635644,
          0.25326557097253444,
          -0.7610139365215078,
          0.3767819712541526,
          -0.6055789617645944,
          0.45677346696407445,
          -0.20403098657015492,
          0.3333865257566421,
          0.5583669502788222,
          -0.17913699742322284,
          -0.11642525182937247,
          -0.21085488454948992,
          0.46251925072626043,
          0.3727425910490212,
          1.3705240359763333,
          -0.21832553156299325,
          -0.1438012890827262,
          -0.5014647947060155,
          0.6857644422460565,
          0.1389066088773146,
          0.048047508231834575,
          -0.16450249981508988,
          0.37148224917710576,
          0.18260885079369849,
          0.40927117617869546,
          -0.5749250559123047,
          0.275974502239838,
          0.30350393770262873,
          0.18741522204601385,
          -0.37502084819182285,
          0.0785191864293574,
          0.11587674824796569,
          -0.282886709172269
         ],
         "yaxis": "y"
        }
       ],
       "layout": {
        "legend": {
         "title": {
          "text": "color"
         },
         "tracegroupgap": 0
        },
        "margin": {
         "t": 60
        },
        "template": {
         "data": {
          "bar": [
           {
            "error_x": {
             "color": "#2a3f5f"
            },
            "error_y": {
             "color": "#2a3f5f"
            },
            "marker": {
             "line": {
              "color": "#E5ECF6",
              "width": 0.5
             }
            },
            "type": "bar"
           }
          ],
          "barpolar": [
           {
            "marker": {
             "line": {
              "color": "#E5ECF6",
              "width": 0.5
             }
            },
            "type": "barpolar"
           }
          ],
          "carpet": [
           {
            "aaxis": {
             "endlinecolor": "#2a3f5f",
             "gridcolor": "white",
             "linecolor": "white",
             "minorgridcolor": "white",
             "startlinecolor": "#2a3f5f"
            },
            "baxis": {
             "endlinecolor": "#2a3f5f",
             "gridcolor": "white",
             "linecolor": "white",
             "minorgridcolor": "white",
             "startlinecolor": "#2a3f5f"
            },
            "type": "carpet"
           }
          ],
          "choropleth": [
           {
            "colorbar": {
             "outlinewidth": 0,
             "ticks": ""
            },
            "type": "choropleth"
           }
          ],
          "contour": [
           {
            "colorbar": {
             "outlinewidth": 0,
             "ticks": ""
            },
            "colorscale": [
             [
              0,
              "#0d0887"
             ],
             [
              0.1111111111111111,
              "#46039f"
             ],
             [
              0.2222222222222222,
              "#7201a8"
             ],
             [
              0.3333333333333333,
              "#9c179e"
             ],
             [
              0.4444444444444444,
              "#bd3786"
             ],
             [
              0.5555555555555556,
              "#d8576b"
             ],
             [
              0.6666666666666666,
              "#ed7953"
             ],
             [
              0.7777777777777778,
              "#fb9f3a"
             ],
             [
              0.8888888888888888,
              "#fdca26"
             ],
             [
              1,
              "#f0f921"
             ]
            ],
            "type": "contour"
           }
          ],
          "contourcarpet": [
           {
            "colorbar": {
             "outlinewidth": 0,
             "ticks": ""
            },
            "type": "contourcarpet"
           }
          ],
          "heatmap": [
           {
            "colorbar": {
             "outlinewidth": 0,
             "ticks": ""
            },
            "colorscale": [
             [
              0,
              "#0d0887"
             ],
             [
              0.1111111111111111,
              "#46039f"
             ],
             [
              0.2222222222222222,
              "#7201a8"
             ],
             [
              0.3333333333333333,
              "#9c179e"
             ],
             [
              0.4444444444444444,
              "#bd3786"
             ],
             [
              0.5555555555555556,
              "#d8576b"
             ],
             [
              0.6666666666666666,
              "#ed7953"
             ],
             [
              0.7777777777777778,
              "#fb9f3a"
             ],
             [
              0.8888888888888888,
              "#fdca26"
             ],
             [
              1,
              "#f0f921"
             ]
            ],
            "type": "heatmap"
           }
          ],
          "heatmapgl": [
           {
            "colorbar": {
             "outlinewidth": 0,
             "ticks": ""
            },
            "colorscale": [
             [
              0,
              "#0d0887"
             ],
             [
              0.1111111111111111,
              "#46039f"
             ],
             [
              0.2222222222222222,
              "#7201a8"
             ],
             [
              0.3333333333333333,
              "#9c179e"
             ],
             [
              0.4444444444444444,
              "#bd3786"
             ],
             [
              0.5555555555555556,
              "#d8576b"
             ],
             [
              0.6666666666666666,
              "#ed7953"
             ],
             [
              0.7777777777777778,
              "#fb9f3a"
             ],
             [
              0.8888888888888888,
              "#fdca26"
             ],
             [
              1,
              "#f0f921"
             ]
            ],
            "type": "heatmapgl"
           }
          ],
          "histogram": [
           {
            "marker": {
             "colorbar": {
              "outlinewidth": 0,
              "ticks": ""
             }
            },
            "type": "histogram"
           }
          ],
          "histogram2d": [
           {
            "colorbar": {
             "outlinewidth": 0,
             "ticks": ""
            },
            "colorscale": [
             [
              0,
              "#0d0887"
             ],
             [
              0.1111111111111111,
              "#46039f"
             ],
             [
              0.2222222222222222,
              "#7201a8"
             ],
             [
              0.3333333333333333,
              "#9c179e"
             ],
             [
              0.4444444444444444,
              "#bd3786"
             ],
             [
              0.5555555555555556,
              "#d8576b"
             ],
             [
              0.6666666666666666,
              "#ed7953"
             ],
             [
              0.7777777777777778,
              "#fb9f3a"
             ],
             [
              0.8888888888888888,
              "#fdca26"
             ],
             [
              1,
              "#f0f921"
             ]
            ],
            "type": "histogram2d"
           }
          ],
          "histogram2dcontour": [
           {
            "colorbar": {
             "outlinewidth": 0,
             "ticks": ""
            },
            "colorscale": [
             [
              0,
              "#0d0887"
             ],
             [
              0.1111111111111111,
              "#46039f"
             ],
             [
              0.2222222222222222,
              "#7201a8"
             ],
             [
              0.3333333333333333,
              "#9c179e"
             ],
             [
              0.4444444444444444,
              "#bd3786"
             ],
             [
              0.5555555555555556,
              "#d8576b"
             ],
             [
              0.6666666666666666,
              "#ed7953"
             ],
             [
              0.7777777777777778,
              "#fb9f3a"
             ],
             [
              0.8888888888888888,
              "#fdca26"
             ],
             [
              1,
              "#f0f921"
             ]
            ],
            "type": "histogram2dcontour"
           }
          ],
          "mesh3d": [
           {
            "colorbar": {
             "outlinewidth": 0,
             "ticks": ""
            },
            "type": "mesh3d"
           }
          ],
          "parcoords": [
           {
            "line": {
             "colorbar": {
              "outlinewidth": 0,
              "ticks": ""
             }
            },
            "type": "parcoords"
           }
          ],
          "pie": [
           {
            "automargin": true,
            "type": "pie"
           }
          ],
          "scatter": [
           {
            "marker": {
             "colorbar": {
              "outlinewidth": 0,
              "ticks": ""
             }
            },
            "type": "scatter"
           }
          ],
          "scatter3d": [
           {
            "line": {
             "colorbar": {
              "outlinewidth": 0,
              "ticks": ""
             }
            },
            "marker": {
             "colorbar": {
              "outlinewidth": 0,
              "ticks": ""
             }
            },
            "type": "scatter3d"
           }
          ],
          "scattercarpet": [
           {
            "marker": {
             "colorbar": {
              "outlinewidth": 0,
              "ticks": ""
             }
            },
            "type": "scattercarpet"
           }
          ],
          "scattergeo": [
           {
            "marker": {
             "colorbar": {
              "outlinewidth": 0,
              "ticks": ""
             }
            },
            "type": "scattergeo"
           }
          ],
          "scattergl": [
           {
            "marker": {
             "colorbar": {
              "outlinewidth": 0,
              "ticks": ""
             }
            },
            "type": "scattergl"
           }
          ],
          "scattermapbox": [
           {
            "marker": {
             "colorbar": {
              "outlinewidth": 0,
              "ticks": ""
             }
            },
            "type": "scattermapbox"
           }
          ],
          "scatterpolar": [
           {
            "marker": {
             "colorbar": {
              "outlinewidth": 0,
              "ticks": ""
             }
            },
            "type": "scatterpolar"
           }
          ],
          "scatterpolargl": [
           {
            "marker": {
             "colorbar": {
              "outlinewidth": 0,
              "ticks": ""
             }
            },
            "type": "scatterpolargl"
           }
          ],
          "scatterternary": [
           {
            "marker": {
             "colorbar": {
              "outlinewidth": 0,
              "ticks": ""
             }
            },
            "type": "scatterternary"
           }
          ],
          "surface": [
           {
            "colorbar": {
             "outlinewidth": 0,
             "ticks": ""
            },
            "colorscale": [
             [
              0,
              "#0d0887"
             ],
             [
              0.1111111111111111,
              "#46039f"
             ],
             [
              0.2222222222222222,
              "#7201a8"
             ],
             [
              0.3333333333333333,
              "#9c179e"
             ],
             [
              0.4444444444444444,
              "#bd3786"
             ],
             [
              0.5555555555555556,
              "#d8576b"
             ],
             [
              0.6666666666666666,
              "#ed7953"
             ],
             [
              0.7777777777777778,
              "#fb9f3a"
             ],
             [
              0.8888888888888888,
              "#fdca26"
             ],
             [
              1,
              "#f0f921"
             ]
            ],
            "type": "surface"
           }
          ],
          "table": [
           {
            "cells": {
             "fill": {
              "color": "#EBF0F8"
             },
             "line": {
              "color": "white"
             }
            },
            "header": {
             "fill": {
              "color": "#C8D4E3"
             },
             "line": {
              "color": "white"
             }
            },
            "type": "table"
           }
          ]
         },
         "layout": {
          "annotationdefaults": {
           "arrowcolor": "#2a3f5f",
           "arrowhead": 0,
           "arrowwidth": 1
          },
          "autotypenumbers": "strict",
          "coloraxis": {
           "colorbar": {
            "outlinewidth": 0,
            "ticks": ""
           }
          },
          "colorscale": {
           "diverging": [
            [
             0,
             "#8e0152"
            ],
            [
             0.1,
             "#c51b7d"
            ],
            [
             0.2,
             "#de77ae"
            ],
            [
             0.3,
             "#f1b6da"
            ],
            [
             0.4,
             "#fde0ef"
            ],
            [
             0.5,
             "#f7f7f7"
            ],
            [
             0.6,
             "#e6f5d0"
            ],
            [
             0.7,
             "#b8e186"
            ],
            [
             0.8,
             "#7fbc41"
            ],
            [
             0.9,
             "#4d9221"
            ],
            [
             1,
             "#276419"
            ]
           ],
           "sequential": [
            [
             0,
             "#0d0887"
            ],
            [
             0.1111111111111111,
             "#46039f"
            ],
            [
             0.2222222222222222,
             "#7201a8"
            ],
            [
             0.3333333333333333,
             "#9c179e"
            ],
            [
             0.4444444444444444,
             "#bd3786"
            ],
            [
             0.5555555555555556,
             "#d8576b"
            ],
            [
             0.6666666666666666,
             "#ed7953"
            ],
            [
             0.7777777777777778,
             "#fb9f3a"
            ],
            [
             0.8888888888888888,
             "#fdca26"
            ],
            [
             1,
             "#f0f921"
            ]
           ],
           "sequentialminus": [
            [
             0,
             "#0d0887"
            ],
            [
             0.1111111111111111,
             "#46039f"
            ],
            [
             0.2222222222222222,
             "#7201a8"
            ],
            [
             0.3333333333333333,
             "#9c179e"
            ],
            [
             0.4444444444444444,
             "#bd3786"
            ],
            [
             0.5555555555555556,
             "#d8576b"
            ],
            [
             0.6666666666666666,
             "#ed7953"
            ],
            [
             0.7777777777777778,
             "#fb9f3a"
            ],
            [
             0.8888888888888888,
             "#fdca26"
            ],
            [
             1,
             "#f0f921"
            ]
           ]
          },
          "colorway": [
           "#636efa",
           "#EF553B",
           "#00cc96",
           "#ab63fa",
           "#FFA15A",
           "#19d3f3",
           "#FF6692",
           "#B6E880",
           "#FF97FF",
           "#FECB52"
          ],
          "font": {
           "color": "#2a3f5f"
          },
          "geo": {
           "bgcolor": "white",
           "lakecolor": "white",
           "landcolor": "#E5ECF6",
           "showlakes": true,
           "showland": true,
           "subunitcolor": "white"
          },
          "hoverlabel": {
           "align": "left"
          },
          "hovermode": "closest",
          "mapbox": {
           "style": "light"
          },
          "paper_bgcolor": "white",
          "plot_bgcolor": "#E5ECF6",
          "polar": {
           "angularaxis": {
            "gridcolor": "white",
            "linecolor": "white",
            "ticks": ""
           },
           "bgcolor": "#E5ECF6",
           "radialaxis": {
            "gridcolor": "white",
            "linecolor": "white",
            "ticks": ""
           }
          },
          "scene": {
           "xaxis": {
            "backgroundcolor": "#E5ECF6",
            "gridcolor": "white",
            "gridwidth": 2,
            "linecolor": "white",
            "showbackground": true,
            "ticks": "",
            "zerolinecolor": "white"
           },
           "yaxis": {
            "backgroundcolor": "#E5ECF6",
            "gridcolor": "white",
            "gridwidth": 2,
            "linecolor": "white",
            "showbackground": true,
            "ticks": "",
            "zerolinecolor": "white"
           },
           "zaxis": {
            "backgroundcolor": "#E5ECF6",
            "gridcolor": "white",
            "gridwidth": 2,
            "linecolor": "white",
            "showbackground": true,
            "ticks": "",
            "zerolinecolor": "white"
           }
          },
          "shapedefaults": {
           "line": {
            "color": "#2a3f5f"
           }
          },
          "ternary": {
           "aaxis": {
            "gridcolor": "white",
            "linecolor": "white",
            "ticks": ""
           },
           "baxis": {
            "gridcolor": "white",
            "linecolor": "white",
            "ticks": ""
           },
           "bgcolor": "#E5ECF6",
           "caxis": {
            "gridcolor": "white",
            "linecolor": "white",
            "ticks": ""
           }
          },
          "title": {
           "x": 0.05
          },
          "xaxis": {
           "automargin": true,
           "gridcolor": "white",
           "linecolor": "white",
           "ticks": "",
           "title": {
            "standoff": 15
           },
           "zerolinecolor": "white",
           "zerolinewidth": 2
          },
          "yaxis": {
           "automargin": true,
           "gridcolor": "white",
           "linecolor": "white",
           "ticks": "",
           "title": {
            "standoff": 15
           },
           "zerolinecolor": "white",
           "zerolinewidth": 2
          }
         }
        },
        "xaxis": {
         "anchor": "y",
         "domain": [
          0,
          1
         ],
         "title": {
          "text": "0"
         }
        },
        "yaxis": {
         "anchor": "x",
         "domain": [
          0,
          1
         ],
         "title": {
          "text": "1"
         }
        }
       }
      },
      "text/html": [
       "<div>                            <div id=\"7a2d7ea6-738a-4971-9115-3b4ed4532322\" class=\"plotly-graph-div\" style=\"height:525px; width:100%;\"></div>            <script type=\"text/javascript\">                require([\"plotly\"], function(Plotly) {                    window.PLOTLYENV=window.PLOTLYENV || {};                                    if (document.getElementById(\"7a2d7ea6-738a-4971-9115-3b4ed4532322\")) {                    Plotly.newPlot(                        \"7a2d7ea6-738a-4971-9115-3b4ed4532322\",                        [{\"hovertemplate\": \"color=setosa<br>0=%{x}<br>1=%{y}<extra></extra>\", \"legendgroup\": \"setosa\", \"marker\": {\"color\": \"#636efa\", \"symbol\": \"circle\"}, \"mode\": \"markers\", \"name\": \"setosa\", \"orientation\": \"v\", \"showlegend\": true, \"type\": \"scatter\", \"x\": [-2.6842071251039537, -2.7153906156341323, -2.889819539617917, -2.746437197308735, -2.728592981831315, -2.279897361009598, -2.8208906821806305, -2.6264819933238193, -2.887958565335635, -2.6738446867191215, -2.5065267893389036, -2.6131427182710563, -2.7874339759970983, -3.2252004462749815, -2.643543216941146, -2.383869323799375, -2.6225262031258088, -2.6483227324791274, -2.1990779614307634, -2.5873461889177385, -2.3105317013131335, -2.5432349073036953, -3.2158576949001065, -2.303128537663883, -2.356171086683898, -2.507917226837881, -2.4690559975451234, -2.562390946836751, -2.6398212683765823, -2.6328479080307585, -2.5884620513033925, -2.410077337121596, -2.6476366733969003, -2.5971594770759183, -2.6738446867191215, -2.8669998469325346, -2.6252284646804207, -2.6738446867191215, -2.981842664853909, -2.5903230255856746, -2.770138910746325, -2.852211081566393, -2.9982964428323515, -2.4055141012847017, -2.2088329541767058, -2.715665190747455, -2.5375733710135076, -2.840321296827009, -2.5426857570770487, -2.7039123148636506], \"xaxis\": \"x\", \"y\": [0.32660731476438964, -0.16955684755602599, -0.13734560960502765, -0.3111243157519917, 0.3339245635684548, 0.7477827132251336, -0.08210451102468079, 0.1704053489602899, -0.5707980263315916, -0.1066917037527385, 0.6519350136725719, 0.021520631960258028, -0.2277401888711063, -0.5032799094854257, 1.1861948994134492, 1.344754344559862, 0.8180896745965951, 0.3191366677508846, 0.8792440880917366, 0.5204736388059681, 0.39786782158889195, 0.4400317546598153, 0.14161557162558377, 0.1055226784299823, -0.031209589068338258, -0.13905633991317395, 0.13788731459041773, 0.3746845627501062, 0.31929006596032183, -0.190075830633624, -0.1973930794376908, 0.4180800082476161, 0.819982632559507, 1.1000219280072685, -0.1066917037527385, 0.07719309572358724, 0.6068000084215862, -0.1066917037527385, -0.48025004885607653, 0.23605933728887282, 0.2710594197651672, -0.9328653674695443, -0.3343075745907771, 0.1959172576960609, 0.44269603042100303, -0.242681482898113, 0.510367545476606, -0.22057633827647652, 0.5862810253439883, 0.11501085217050568], \"yaxis\": \"y\"}, {\"hovertemplate\": \"color=versicolor<br>0=%{x}<br>1=%{y}<extra></extra>\", \"legendgroup\": \"versicolor\", \"marker\": {\"color\": \"#EF553B\", \"symbol\": \"circle\"}, \"mode\": \"markers\", \"name\": \"versicolor\", \"orientation\": \"v\", \"showlegend\": true, \"type\": \"scatter\", \"x\": [1.284794587845072, 0.9324107529829181, 1.464061322779076, 0.18096720634769892, 1.0871344872070015, 0.6404367495231454, 1.0952237099384787, -0.7514671406482274, 1.0432977807062813, -0.010190070727853398, -0.511086195895091, 0.5110980606834774, 0.2623357561531806, 0.9840445451694311, -0.1748640019656961, 0.9275729420327004, 0.6595927890562004, 0.23454058625983573, 0.9423617073988422, 0.043246400328704596, 1.1162407237538159, 0.3567865678304615, 1.2964688502855342, 0.9205026489090097, 0.7140082136428337, 0.8996408632837766, 1.3310414188547206, 1.5573962720707029, 0.8124555489980021, -0.3073347556634044, -0.07034288894927158, -0.19188449210314565, 0.13499495045137352, 1.378736982775583, 0.587274853579911, 0.8072054966767165, 1.2204289662446801, 0.8128677903690703, 0.24519516169034597, 0.16451342836925573, 0.4630309888714244, 0.8901604456511567, 0.22887904996964784, -0.7070812839208609, 0.35553303918706347, 0.33112694733272274, 0.3752382289467658, 0.6416902781665434, -0.9084633331234955, 0.29780790740693397], \"xaxis\": \"x\", \"y\": [0.6854391861329199, 0.3191980898336486, 0.504189832972453, -0.8256039435761131, 0.07539038928876741, -0.41732348297002564, 0.2838912109384804, -1.0011075129743943, 0.22895690877700672, -0.7205748667019015, -1.2624919538621404, -0.1022841050459702, -0.5478932980253367, -0.1243604202222779, -0.2518155710801706, 0.4682362050431169, -0.35197629106031636, -0.3319218293621203, -0.5418222581500141, -0.5814894466123587, -0.0842140138783734, -0.06682382794136625, -0.32756151979494413, -0.182390363327921, 0.15037915314843714, 0.32961097958188385, 0.24466952060228916, 0.26739258481276473, -0.16233157487863326, -0.3650866127661603, -0.7025379317307259, -0.6774905443743572, -0.3117096427033962, -0.4212051382146283, -0.4832842677174824, 0.1950539637711116, 0.40803533700101735, -0.37067899831890977, -0.26672803566184794, -0.6796614693108137, -0.6695265465361225, -0.03381244274676267, -0.4022576201789114, -1.008424761778461, -0.5032184874026622, -0.21118014066262658, -0.2916220248087797, 0.019071176491270752, -0.7515687251694855, -0.34701652159856383], \"yaxis\": \"y\"}, {\"hovertemplate\": \"color=virginica<br>0=%{x}<br>1=%{y}<extra></extra>\", \"legendgroup\": \"virginica\", \"marker\": {\"color\": \"#00cc96\", \"symbol\": \"circle\"}, \"mode\": \"markers\", \"name\": \"virginica\", \"orientation\": \"v\", \"showlegend\": true, \"type\": \"scatter\", \"x\": [2.531726980439559, 1.4140722251737574, 2.6164846082840443, 1.9708149459064823, 2.349757983950943, 3.3968799206781397, 0.5193832450849359, 2.9320050969913023, 2.319672793874054, 2.918134233644252, 1.6619349470194873, 1.8023404526607338, 2.165378862953398, 1.3445942175098244, 1.5852672993086439, 1.904743578213913, 1.9492487818644988, 3.4887653796563862, 3.794686861209971, 1.2983298245678163, 2.4281672590208485, 1.1980973722749628, 3.4992654842989577, 1.387668250181556, 2.2758536493056947, 2.6141938306983343, 1.2576251829251366, 1.2906696477376018, 2.1228539805083138, 2.3875644023690286, 2.8409609252853847, 3.232342898295877, 2.158738373133135, 1.443102604375975, 1.7796401068985703, 3.076521621020663, 2.1449868567093042, 1.9048629251371325, 1.1688534694704036, 2.1076537311732695, 2.314303394629549, 1.922450884835753, 1.4140722251737574, 2.5633227123408098, 2.419391219804981, 1.9440170488777377, 1.5256636313138727, 1.7640459355269835, 1.9016290752882332, 1.3896661333194167], \"xaxis\": \"x\", \"y\": [-0.011842236640300364, -0.5749250559123047, 0.34193528698729464, -0.1811256947049137, -0.04188254965484185, 0.5471680462301525, -1.191351689050653, 0.35237700618085965, -0.24554817060691028, 0.780380629372032, 0.2420384010375223, -0.21615460662653638, 0.21528028337300706, -0.7764154251768249, -0.5393070538471719, 0.11881899098269848, 0.04073025942776778, 1.1715445442635644, 0.25326557097253444, -0.7610139365215078, 0.3767819712541526, -0.6055789617645944, 0.45677346696407445, -0.20403098657015492, 0.3333865257566421, 0.5583669502788222, -0.17913699742322284, -0.11642525182937247, -0.21085488454948992, 0.46251925072626043, 0.3727425910490212, 1.3705240359763333, -0.21832553156299325, -0.1438012890827262, -0.5014647947060155, 0.6857644422460565, 0.1389066088773146, 0.048047508231834575, -0.16450249981508988, 0.37148224917710576, 0.18260885079369849, 0.40927117617869546, -0.5749250559123047, 0.275974502239838, 0.30350393770262873, 0.18741522204601385, -0.37502084819182285, 0.0785191864293574, 0.11587674824796569, -0.282886709172269], \"yaxis\": \"y\"}],                        {\"legend\": {\"title\": {\"text\": \"color\"}, \"tracegroupgap\": 0}, \"margin\": {\"t\": 60}, \"template\": {\"data\": {\"bar\": [{\"error_x\": {\"color\": \"#2a3f5f\"}, \"error_y\": {\"color\": \"#2a3f5f\"}, \"marker\": {\"line\": {\"color\": \"#E5ECF6\", \"width\": 0.5}}, \"type\": \"bar\"}], \"barpolar\": [{\"marker\": {\"line\": {\"color\": \"#E5ECF6\", \"width\": 0.5}}, \"type\": \"barpolar\"}], \"carpet\": [{\"aaxis\": {\"endlinecolor\": \"#2a3f5f\", \"gridcolor\": \"white\", \"linecolor\": \"white\", \"minorgridcolor\": \"white\", \"startlinecolor\": \"#2a3f5f\"}, \"baxis\": {\"endlinecolor\": \"#2a3f5f\", \"gridcolor\": \"white\", \"linecolor\": \"white\", \"minorgridcolor\": \"white\", \"startlinecolor\": \"#2a3f5f\"}, \"type\": \"carpet\"}], \"choropleth\": [{\"colorbar\": {\"outlinewidth\": 0, \"ticks\": \"\"}, \"type\": \"choropleth\"}], \"contour\": [{\"colorbar\": {\"outlinewidth\": 0, \"ticks\": \"\"}, \"colorscale\": [[0.0, \"#0d0887\"], [0.1111111111111111, \"#46039f\"], [0.2222222222222222, \"#7201a8\"], [0.3333333333333333, \"#9c179e\"], [0.4444444444444444, \"#bd3786\"], [0.5555555555555556, \"#d8576b\"], [0.6666666666666666, \"#ed7953\"], [0.7777777777777778, \"#fb9f3a\"], [0.8888888888888888, \"#fdca26\"], [1.0, \"#f0f921\"]], \"type\": \"contour\"}], \"contourcarpet\": [{\"colorbar\": {\"outlinewidth\": 0, \"ticks\": \"\"}, \"type\": \"contourcarpet\"}], \"heatmap\": [{\"colorbar\": {\"outlinewidth\": 0, \"ticks\": \"\"}, \"colorscale\": [[0.0, \"#0d0887\"], [0.1111111111111111, \"#46039f\"], [0.2222222222222222, \"#7201a8\"], [0.3333333333333333, \"#9c179e\"], [0.4444444444444444, \"#bd3786\"], [0.5555555555555556, \"#d8576b\"], [0.6666666666666666, \"#ed7953\"], [0.7777777777777778, \"#fb9f3a\"], [0.8888888888888888, \"#fdca26\"], [1.0, \"#f0f921\"]], \"type\": \"heatmap\"}], \"heatmapgl\": [{\"colorbar\": {\"outlinewidth\": 0, \"ticks\": \"\"}, \"colorscale\": [[0.0, \"#0d0887\"], [0.1111111111111111, \"#46039f\"], [0.2222222222222222, \"#7201a8\"], [0.3333333333333333, \"#9c179e\"], [0.4444444444444444, \"#bd3786\"], [0.5555555555555556, \"#d8576b\"], [0.6666666666666666, \"#ed7953\"], [0.7777777777777778, \"#fb9f3a\"], [0.8888888888888888, \"#fdca26\"], [1.0, \"#f0f921\"]], \"type\": \"heatmapgl\"}], \"histogram\": [{\"marker\": {\"colorbar\": {\"outlinewidth\": 0, \"ticks\": \"\"}}, \"type\": \"histogram\"}], \"histogram2d\": [{\"colorbar\": {\"outlinewidth\": 0, \"ticks\": \"\"}, \"colorscale\": [[0.0, \"#0d0887\"], [0.1111111111111111, \"#46039f\"], [0.2222222222222222, \"#7201a8\"], [0.3333333333333333, \"#9c179e\"], [0.4444444444444444, \"#bd3786\"], [0.5555555555555556, \"#d8576b\"], [0.6666666666666666, \"#ed7953\"], [0.7777777777777778, \"#fb9f3a\"], [0.8888888888888888, \"#fdca26\"], [1.0, \"#f0f921\"]], \"type\": \"histogram2d\"}], \"histogram2dcontour\": [{\"colorbar\": {\"outlinewidth\": 0, \"ticks\": \"\"}, \"colorscale\": [[0.0, \"#0d0887\"], [0.1111111111111111, \"#46039f\"], [0.2222222222222222, \"#7201a8\"], [0.3333333333333333, \"#9c179e\"], [0.4444444444444444, \"#bd3786\"], [0.5555555555555556, \"#d8576b\"], [0.6666666666666666, \"#ed7953\"], [0.7777777777777778, \"#fb9f3a\"], [0.8888888888888888, \"#fdca26\"], [1.0, \"#f0f921\"]], \"type\": \"histogram2dcontour\"}], \"mesh3d\": [{\"colorbar\": {\"outlinewidth\": 0, \"ticks\": \"\"}, \"type\": \"mesh3d\"}], \"parcoords\": [{\"line\": {\"colorbar\": {\"outlinewidth\": 0, \"ticks\": \"\"}}, \"type\": \"parcoords\"}], \"pie\": [{\"automargin\": true, \"type\": \"pie\"}], \"scatter\": [{\"marker\": {\"colorbar\": {\"outlinewidth\": 0, \"ticks\": \"\"}}, \"type\": \"scatter\"}], \"scatter3d\": [{\"line\": {\"colorbar\": {\"outlinewidth\": 0, \"ticks\": \"\"}}, \"marker\": {\"colorbar\": {\"outlinewidth\": 0, \"ticks\": \"\"}}, \"type\": \"scatter3d\"}], \"scattercarpet\": [{\"marker\": {\"colorbar\": {\"outlinewidth\": 0, \"ticks\": \"\"}}, \"type\": \"scattercarpet\"}], \"scattergeo\": [{\"marker\": {\"colorbar\": {\"outlinewidth\": 0, \"ticks\": \"\"}}, \"type\": \"scattergeo\"}], \"scattergl\": [{\"marker\": {\"colorbar\": {\"outlinewidth\": 0, \"ticks\": \"\"}}, \"type\": \"scattergl\"}], \"scattermapbox\": [{\"marker\": {\"colorbar\": {\"outlinewidth\": 0, \"ticks\": \"\"}}, \"type\": \"scattermapbox\"}], \"scatterpolar\": [{\"marker\": {\"colorbar\": {\"outlinewidth\": 0, \"ticks\": \"\"}}, \"type\": \"scatterpolar\"}], \"scatterpolargl\": [{\"marker\": {\"colorbar\": {\"outlinewidth\": 0, \"ticks\": \"\"}}, \"type\": \"scatterpolargl\"}], \"scatterternary\": [{\"marker\": {\"colorbar\": {\"outlinewidth\": 0, \"ticks\": \"\"}}, \"type\": \"scatterternary\"}], \"surface\": [{\"colorbar\": {\"outlinewidth\": 0, \"ticks\": \"\"}, \"colorscale\": [[0.0, \"#0d0887\"], [0.1111111111111111, \"#46039f\"], [0.2222222222222222, \"#7201a8\"], [0.3333333333333333, \"#9c179e\"], [0.4444444444444444, \"#bd3786\"], [0.5555555555555556, \"#d8576b\"], [0.6666666666666666, \"#ed7953\"], [0.7777777777777778, \"#fb9f3a\"], [0.8888888888888888, \"#fdca26\"], [1.0, \"#f0f921\"]], \"type\": \"surface\"}], \"table\": [{\"cells\": {\"fill\": {\"color\": \"#EBF0F8\"}, \"line\": {\"color\": \"white\"}}, \"header\": {\"fill\": {\"color\": \"#C8D4E3\"}, \"line\": {\"color\": \"white\"}}, \"type\": \"table\"}]}, \"layout\": {\"annotationdefaults\": {\"arrowcolor\": \"#2a3f5f\", \"arrowhead\": 0, \"arrowwidth\": 1}, \"autotypenumbers\": \"strict\", \"coloraxis\": {\"colorbar\": {\"outlinewidth\": 0, \"ticks\": \"\"}}, \"colorscale\": {\"diverging\": [[0, \"#8e0152\"], [0.1, \"#c51b7d\"], [0.2, \"#de77ae\"], [0.3, \"#f1b6da\"], [0.4, \"#fde0ef\"], [0.5, \"#f7f7f7\"], [0.6, \"#e6f5d0\"], [0.7, \"#b8e186\"], [0.8, \"#7fbc41\"], [0.9, \"#4d9221\"], [1, \"#276419\"]], \"sequential\": [[0.0, \"#0d0887\"], [0.1111111111111111, \"#46039f\"], [0.2222222222222222, \"#7201a8\"], [0.3333333333333333, \"#9c179e\"], [0.4444444444444444, \"#bd3786\"], [0.5555555555555556, \"#d8576b\"], [0.6666666666666666, \"#ed7953\"], [0.7777777777777778, \"#fb9f3a\"], [0.8888888888888888, \"#fdca26\"], [1.0, \"#f0f921\"]], \"sequentialminus\": [[0.0, \"#0d0887\"], [0.1111111111111111, \"#46039f\"], [0.2222222222222222, \"#7201a8\"], [0.3333333333333333, \"#9c179e\"], [0.4444444444444444, \"#bd3786\"], [0.5555555555555556, \"#d8576b\"], [0.6666666666666666, \"#ed7953\"], [0.7777777777777778, \"#fb9f3a\"], [0.8888888888888888, \"#fdca26\"], [1.0, \"#f0f921\"]]}, \"colorway\": [\"#636efa\", \"#EF553B\", \"#00cc96\", \"#ab63fa\", \"#FFA15A\", \"#19d3f3\", \"#FF6692\", \"#B6E880\", \"#FF97FF\", \"#FECB52\"], \"font\": {\"color\": \"#2a3f5f\"}, \"geo\": {\"bgcolor\": \"white\", \"lakecolor\": \"white\", \"landcolor\": \"#E5ECF6\", \"showlakes\": true, \"showland\": true, \"subunitcolor\": \"white\"}, \"hoverlabel\": {\"align\": \"left\"}, \"hovermode\": \"closest\", \"mapbox\": {\"style\": \"light\"}, \"paper_bgcolor\": \"white\", \"plot_bgcolor\": \"#E5ECF6\", \"polar\": {\"angularaxis\": {\"gridcolor\": \"white\", \"linecolor\": \"white\", \"ticks\": \"\"}, \"bgcolor\": \"#E5ECF6\", \"radialaxis\": {\"gridcolor\": \"white\", \"linecolor\": \"white\", \"ticks\": \"\"}}, \"scene\": {\"xaxis\": {\"backgroundcolor\": \"#E5ECF6\", \"gridcolor\": \"white\", \"gridwidth\": 2, \"linecolor\": \"white\", \"showbackground\": true, \"ticks\": \"\", \"zerolinecolor\": \"white\"}, \"yaxis\": {\"backgroundcolor\": \"#E5ECF6\", \"gridcolor\": \"white\", \"gridwidth\": 2, \"linecolor\": \"white\", \"showbackground\": true, \"ticks\": \"\", \"zerolinecolor\": \"white\"}, \"zaxis\": {\"backgroundcolor\": \"#E5ECF6\", \"gridcolor\": \"white\", \"gridwidth\": 2, \"linecolor\": \"white\", \"showbackground\": true, \"ticks\": \"\", \"zerolinecolor\": \"white\"}}, \"shapedefaults\": {\"line\": {\"color\": \"#2a3f5f\"}}, \"ternary\": {\"aaxis\": {\"gridcolor\": \"white\", \"linecolor\": \"white\", \"ticks\": \"\"}, \"baxis\": {\"gridcolor\": \"white\", \"linecolor\": \"white\", \"ticks\": \"\"}, \"bgcolor\": \"#E5ECF6\", \"caxis\": {\"gridcolor\": \"white\", \"linecolor\": \"white\", \"ticks\": \"\"}}, \"title\": {\"x\": 0.05}, \"xaxis\": {\"automargin\": true, \"gridcolor\": \"white\", \"linecolor\": \"white\", \"ticks\": \"\", \"title\": {\"standoff\": 15}, \"zerolinecolor\": \"white\", \"zerolinewidth\": 2}, \"yaxis\": {\"automargin\": true, \"gridcolor\": \"white\", \"linecolor\": \"white\", \"ticks\": \"\", \"title\": {\"standoff\": 15}, \"zerolinecolor\": \"white\", \"zerolinewidth\": 2}}}, \"xaxis\": {\"anchor\": \"y\", \"domain\": [0.0, 1.0], \"title\": {\"text\": \"0\"}}, \"yaxis\": {\"anchor\": \"x\", \"domain\": [0.0, 1.0], \"title\": {\"text\": \"1\"}}},                        {\"responsive\": true}                    ).then(function(){\n",
       "                            \n",
       "var gd = document.getElementById('7a2d7ea6-738a-4971-9115-3b4ed4532322');\n",
       "var x = new MutationObserver(function (mutations, observer) {{\n",
       "        var display = window.getComputedStyle(gd).display;\n",
       "        if (!display || display === 'none') {{\n",
       "            console.log([gd, 'removed!']);\n",
       "            Plotly.purge(gd);\n",
       "            observer.disconnect();\n",
       "        }}\n",
       "}});\n",
       "\n",
       "// Listen for the removal of the full notebook cells\n",
       "var notebookContainer = gd.closest('#notebook-container');\n",
       "if (notebookContainer) {{\n",
       "    x.observe(notebookContainer, {childList: true});\n",
       "}}\n",
       "\n",
       "// Listen for the clearing of the current output cell\n",
       "var outputEl = gd.closest('.output');\n",
       "if (outputEl) {{\n",
       "    x.observe(outputEl, {childList: true});\n",
       "}}\n",
       "\n",
       "                        })                };                });            </script>        </div>"
      ]
     },
     "metadata": {},
     "output_type": "display_data"
    }
   ],
   "source": [
    "import plotly.express as px\n",
    "from sklearn.decomposition import PCA\n",
    "\n",
    "df = px.data.iris()\n",
    "X = df[['sepal_length', 'sepal_width', 'petal_length', 'petal_width']]\n",
    "\n",
    "pca = PCA(n_components=2)\n",
    "pca.fit(X)\n",
    "print(pca.components_)\n",
    "components = pca.fit_transform(X)\n",
    "\n",
    "fig = px.scatter(components, x=0, y=1, color=df['species'])\n",
    "fig.show()"
   ]
  },
  {
   "cell_type": "code",
   "execution_count": 13,
   "id": "liquid-solid",
   "metadata": {},
   "outputs": [
    {
     "data": {
      "text/html": [
       "<div>\n",
       "<style scoped>\n",
       "    .dataframe tbody tr th:only-of-type {\n",
       "        vertical-align: middle;\n",
       "    }\n",
       "\n",
       "    .dataframe tbody tr th {\n",
       "        vertical-align: top;\n",
       "    }\n",
       "\n",
       "    .dataframe thead th {\n",
       "        text-align: right;\n",
       "    }\n",
       "</style>\n",
       "<table border=\"1\" class=\"dataframe\">\n",
       "  <thead>\n",
       "    <tr style=\"text-align: right;\">\n",
       "      <th></th>\n",
       "      <th>sepal_length</th>\n",
       "      <th>sepal_width</th>\n",
       "      <th>petal_length</th>\n",
       "      <th>petal_width</th>\n",
       "      <th>species</th>\n",
       "      <th>species_id</th>\n",
       "    </tr>\n",
       "  </thead>\n",
       "  <tbody>\n",
       "    <tr>\n",
       "      <th>0</th>\n",
       "      <td>5.1</td>\n",
       "      <td>3.5</td>\n",
       "      <td>1.4</td>\n",
       "      <td>0.2</td>\n",
       "      <td>setosa</td>\n",
       "      <td>1</td>\n",
       "    </tr>\n",
       "    <tr>\n",
       "      <th>1</th>\n",
       "      <td>4.9</td>\n",
       "      <td>3.0</td>\n",
       "      <td>1.4</td>\n",
       "      <td>0.2</td>\n",
       "      <td>setosa</td>\n",
       "      <td>1</td>\n",
       "    </tr>\n",
       "    <tr>\n",
       "      <th>2</th>\n",
       "      <td>4.7</td>\n",
       "      <td>3.2</td>\n",
       "      <td>1.3</td>\n",
       "      <td>0.2</td>\n",
       "      <td>setosa</td>\n",
       "      <td>1</td>\n",
       "    </tr>\n",
       "    <tr>\n",
       "      <th>3</th>\n",
       "      <td>4.6</td>\n",
       "      <td>3.1</td>\n",
       "      <td>1.5</td>\n",
       "      <td>0.2</td>\n",
       "      <td>setosa</td>\n",
       "      <td>1</td>\n",
       "    </tr>\n",
       "    <tr>\n",
       "      <th>4</th>\n",
       "      <td>5.0</td>\n",
       "      <td>3.6</td>\n",
       "      <td>1.4</td>\n",
       "      <td>0.2</td>\n",
       "      <td>setosa</td>\n",
       "      <td>1</td>\n",
       "    </tr>\n",
       "    <tr>\n",
       "      <th>...</th>\n",
       "      <td>...</td>\n",
       "      <td>...</td>\n",
       "      <td>...</td>\n",
       "      <td>...</td>\n",
       "      <td>...</td>\n",
       "      <td>...</td>\n",
       "    </tr>\n",
       "    <tr>\n",
       "      <th>145</th>\n",
       "      <td>6.7</td>\n",
       "      <td>3.0</td>\n",
       "      <td>5.2</td>\n",
       "      <td>2.3</td>\n",
       "      <td>virginica</td>\n",
       "      <td>3</td>\n",
       "    </tr>\n",
       "    <tr>\n",
       "      <th>146</th>\n",
       "      <td>6.3</td>\n",
       "      <td>2.5</td>\n",
       "      <td>5.0</td>\n",
       "      <td>1.9</td>\n",
       "      <td>virginica</td>\n",
       "      <td>3</td>\n",
       "    </tr>\n",
       "    <tr>\n",
       "      <th>147</th>\n",
       "      <td>6.5</td>\n",
       "      <td>3.0</td>\n",
       "      <td>5.2</td>\n",
       "      <td>2.0</td>\n",
       "      <td>virginica</td>\n",
       "      <td>3</td>\n",
       "    </tr>\n",
       "    <tr>\n",
       "      <th>148</th>\n",
       "      <td>6.2</td>\n",
       "      <td>3.4</td>\n",
       "      <td>5.4</td>\n",
       "      <td>2.3</td>\n",
       "      <td>virginica</td>\n",
       "      <td>3</td>\n",
       "    </tr>\n",
       "    <tr>\n",
       "      <th>149</th>\n",
       "      <td>5.9</td>\n",
       "      <td>3.0</td>\n",
       "      <td>5.1</td>\n",
       "      <td>1.8</td>\n",
       "      <td>virginica</td>\n",
       "      <td>3</td>\n",
       "    </tr>\n",
       "  </tbody>\n",
       "</table>\n",
       "<p>150 rows × 6 columns</p>\n",
       "</div>"
      ],
      "text/plain": [
       "     sepal_length  sepal_width  petal_length  petal_width    species  \\\n",
       "0             5.1          3.5           1.4          0.2     setosa   \n",
       "1             4.9          3.0           1.4          0.2     setosa   \n",
       "2             4.7          3.2           1.3          0.2     setosa   \n",
       "3             4.6          3.1           1.5          0.2     setosa   \n",
       "4             5.0          3.6           1.4          0.2     setosa   \n",
       "..            ...          ...           ...          ...        ...   \n",
       "145           6.7          3.0           5.2          2.3  virginica   \n",
       "146           6.3          2.5           5.0          1.9  virginica   \n",
       "147           6.5          3.0           5.2          2.0  virginica   \n",
       "148           6.2          3.4           5.4          2.3  virginica   \n",
       "149           5.9          3.0           5.1          1.8  virginica   \n",
       "\n",
       "     species_id  \n",
       "0             1  \n",
       "1             1  \n",
       "2             1  \n",
       "3             1  \n",
       "4             1  \n",
       "..          ...  \n",
       "145           3  \n",
       "146           3  \n",
       "147           3  \n",
       "148           3  \n",
       "149           3  \n",
       "\n",
       "[150 rows x 6 columns]"
      ]
     },
     "execution_count": 13,
     "metadata": {},
     "output_type": "execute_result"
    }
   ],
   "source": [
    "df"
   ]
  },
  {
   "cell_type": "markdown",
   "id": "given-interim",
   "metadata": {},
   "source": [
    "Ok, now that I see how the dataframe in Plotly's tutorial is structured, I can construct one from my own data. Or I can skip the dataframe altogether and just provide a list to the 'color' parameter in px.scatter."
   ]
  },
  {
   "cell_type": "code",
   "execution_count": 149,
   "id": "tired-simulation",
   "metadata": {
    "scrolled": false
   },
   "outputs": [
    {
     "name": "stdout",
     "output_type": "stream",
     "text": [
      "# of datapoints: 431\n",
      "len(labels) = 431\n",
      "Total explained variance = 61.16%\n"
     ]
    },
    {
     "data": {
      "application/vnd.plotly.v1+json": {
       "config": {
        "plotlyServerURL": "https://plot.ly"
       },
       "data": [
        {
         "hovertemplate": "color=Mi Fu (Wu River)<br>0=%{x}<br>1=%{y}<extra></extra>",
         "legendgroup": "Mi Fu (Wu River)",
         "marker": {
          "color": "#636efa",
          "symbol": "circle"
         },
         "mode": "markers",
         "name": "Mi Fu (Wu River)",
         "orientation": "v",
         "showlegend": true,
         "type": "scatter",
         "x": [
          -0.017684141623839057,
          -0.07613073837996864,
          0.033648001525407006,
          -0.028458599612607362,
          -0.01169938572963575,
          -0.0287620444952568,
          -0.012084650033513063,
          -0.0026445461347061315,
          -0.06372509143877704,
          -0.09465878619670359,
          -0.026317800865709437,
          -0.06090811191473047,
          -0.0650978786905869,
          -0.02907083461840965,
          0.05149652139152954,
          -0.07097735058262022,
          0.07391454601970718,
          -0.08486032228922381,
          -0.02994715777379256,
          -0.07001381131927702,
          -0.047826255631943204,
          -0.028326164779741675,
          -0.010867963734184952,
          -0.059358097523594035,
          -0.011545496819013052,
          -0.0199399391589139,
          -0.05525641243823839,
          0.0264801899030914,
          -0.08672105071453363,
          -0.04176181740939455,
          -0.043973876533148555,
          -0.05358034934917058,
          -0.028705852704505923,
          -0.08315962630612178,
          -0.028408436311029676,
          -0.03252994063188777,
          0.0324144833540592,
          0.02022234018498987,
          -0.004893829084446788,
          0.02333835131202398,
          -0.04128964463029802,
          -0.029001622146615173,
          -0.050139743399569475,
          -0.17122307351357305,
          0.07508454167488968,
          0.0059974744776897,
          0.06992676245148347,
          -0.10034507131200725,
          -0.09828387113241946,
          -0.03692938070913735,
          -0.005184921866823075,
          -0.18178424399285484,
          -0.08115603143731441,
          0.018444502143983008,
          -0.025976681340452428,
          0.04502566458800062,
          -0.20203997584832506,
          -0.11376109785220222,
          0.029367994752184393,
          0.06477832367159791,
          -0.09878726502619205,
          -0.01155167086437269,
          0.07174366019207132,
          0.06898632864088536,
          -0.028456855298666477,
          -0.0792624731820768,
          -0.14965551249092288,
          -0.06973141406185532,
          0.03064104884165816,
          -0.1102079913236608,
          0.2922719771487199,
          -0.09973404276558645,
          0.02252069583551709,
          -0.0678886388297714,
          0.02511267848094907,
          -0.01761826699832779,
          -0.07752118993382691,
          -0.05256359126592221,
          -0.008404216234778005,
          0.021512613181460163,
          -0.003868413239387473,
          -0.13690277165838946,
          -0.13015657589948496,
          -0.039901013737292365,
          -0.00019345024416100173,
          -0.09616727353472913,
          0.06513866219029239,
          -0.25868516552386295,
          -0.1785476381256198,
          -0.0708889923921576,
          0.07790881007093568
         ],
         "xaxis": "x",
         "y": [
          0.021354932100262923,
          0.035050538082962525,
          -0.029238490273914213,
          -0.033618761700476174,
          0.024316955108110508,
          -0.003751160566071716,
          -0.055345533580158944,
          -0.01277868974546491,
          0.0036492841106216278,
          0.02952442439847476,
          0.0006429225209343672,
          -0.0019105450088280028,
          -0.012676286116581727,
          0.040498964183294676,
          -0.060039039437318906,
          -0.029948276361933635,
          -0.02628687069260103,
          -0.006812467122460105,
          0.018694867090304393,
          -0.03748508637530389,
          -0.010201468881931419,
          -0.022321778267007562,
          -0.023617137989917464,
          0.016466390488749226,
          -0.036504182912960835,
          0.010858346338045383,
          -0.02984936132904227,
          0.00944694793201866,
          0.016585757137510124,
          0.026152833631328837,
          -0.005931434928097149,
          0.01292966259527357,
          -0.028335959919005577,
          0.07616418171739275,
          -0.12840015805351368,
          -0.0296468606769128,
          0.019525738776253895,
          0.01944123574538077,
          0.0667535600828395,
          -0.03910186438062788,
          0.050025582928862174,
          -0.03901054642268173,
          -0.0251530955785677,
          0.04190657539636604,
          0.10729537187995124,
          0.001046781501683992,
          0.05399960761920122,
          -0.0433760475673647,
          -0.07581022317503816,
          -0.03267245238902817,
          0.017503723638455804,
          0.05944462377567598,
          0.0016968026093765248,
          -0.13981457119056565,
          0.01801385686930903,
          0.042097985349366755,
          -0.0017234831303096334,
          -0.0750688963412222,
          -0.024501428885239634,
          0.0033576018887650906,
          0.04089407358331548,
          0.010322563874782012,
          -0.05749971595424073,
          -0.02407085839266548,
          0.05945842214935523,
          -0.0681758482879403,
          0.018081745926112846,
          -0.05328722922169164,
          -0.050256010998268624,
          -0.008082224712154073,
          0.2329473717799947,
          0.05091508990867978,
          -0.0055567996266160284,
          -0.0012976403768920623,
          0.00604007474174762,
          -0.08912716920178464,
          0.010635781805639535,
          0.038069932088205735,
          0.03765369629470634,
          0.03298776280092564,
          0.014030075917775966,
          0.03182595991163164,
          0.024097206769851033,
          -0.10344198614796629,
          -0.12729980256098403,
          -0.020814213632617505,
          -0.05039981514963132,
          0.07571607543252641,
          -0.0007384898121816705,
          -0.03658090979432879,
          -0.010959408382723884
         ],
         "yaxis": "y"
        },
        {
         "hovertemplate": "color=Huizong<br>0=%{x}<br>1=%{y}<extra></extra>",
         "legendgroup": "Huizong",
         "marker": {
          "color": "#EF553B",
          "symbol": "circle"
         },
         "mode": "markers",
         "name": "Huizong",
         "orientation": "v",
         "showlegend": true,
         "type": "scatter",
         "x": [
          0.007795258842664965,
          0.0924687856560887,
          0.01353648497963248,
          -0.11314252854418397,
          0.11060261560797774,
          -0.02147795821548182,
          -0.011513949339041462,
          -0.10914804800979205,
          -0.03929324957919127,
          0.04003012603449018,
          0.028177539135858236,
          0.026159465350127715,
          -0.03643611104543349,
          -0.03311698054795058,
          0.02012317617839038,
          -0.03764821794431224,
          0.19270002960912697,
          -0.041297507255290855,
          0.10646629625239215,
          0.022929798947880553,
          -0.033840323693537705,
          0.0657822269036216,
          -0.004475413695990958,
          -0.011145998271431666,
          0.06673145240836374,
          0.07934082811425791,
          0.044837983599110426,
          0.028848034441059513,
          -0.020923578233634513,
          -0.023023142397042312,
          0.09038798035232021,
          -0.025284830474153024,
          -0.027444208713271783,
          -0.05979567136894452,
          0.016861158123535825,
          -0.03843564203221224,
          0.07433939666159972,
          0.03444431654132437,
          -0.052933268029859586,
          -0.06188289124502358,
          0.11773882579100603,
          -0.024144106844442712,
          0.020665192775318076,
          -0.07867929256151807,
          0.06069001054079095,
          0.051532573019793165,
          0.06009900291819573,
          0.0603833623645022,
          0.020524837205421836,
          0.010064895333616385,
          0.025965274041929283,
          -0.004564014728516288,
          0.0573736338842593,
          -0.11604071388804381,
          0.0183209317433898,
          0.04789088186232238,
          0.05641086044247537,
          0.10826340317541074,
          -0.026854780489226387,
          0.019497618053627392,
          -0.09004774323824026,
          -0.031007310974412918,
          0.026437740180660724
         ],
         "xaxis": "x",
         "y": [
          0.043399397482752206,
          0.011777677695448812,
          0.022282243635848166,
          0.03628839202506433,
          0.03477094243156024,
          0.0006008532731529438,
          0.07308824782612461,
          0.011320136115534105,
          0.019505094116300387,
          0.049125378300545856,
          0.010372159795047357,
          -0.02392045603257309,
          -0.0049749022734256855,
          -0.03272704741241535,
          -0.006445243626624751,
          0.0399214314453652,
          0.07709913280831096,
          -0.04581155521822284,
          -0.002430119854034343,
          0.006114203104817566,
          0.05258602624245456,
          -0.010956288951022082,
          0.04535621213321941,
          -0.013536391287739404,
          -0.03687255826200034,
          0.03988258925963422,
          0.024702554504388574,
          -0.00605179125430792,
          -0.0027815026129386433,
          0.021675345074039586,
          -0.0621432228807182,
          -0.03418293985712813,
          0.04770312872587552,
          -0.062115548828808896,
          0.021883081670001477,
          0.035610013309295356,
          -0.004369419624738225,
          -0.07287351739554723,
          0.04849481381247186,
          0.03521311799552993,
          0.036372223060437366,
          -0.0420821329974023,
          -0.050519398618971555,
          0.057441333888008046,
          -0.01934329501559737,
          0.0836192330251431,
          -0.04205674706140917,
          -0.030111403048962357,
          0.08373386171912928,
          0.037224081674880394,
          -0.009147413685980281,
          0.0068780002821897225,
          0.01533142644722951,
          0.05688660946806995,
          -0.024876565613448674,
          -0.015977732782624023,
          0.02694034398209169,
          -0.08235872355408526,
          0.052057737310510624,
          -0.04009697749841021,
          -0.010118000372579062,
          0.05620586578361021,
          0.04859998445495491
         ],
         "yaxis": "y"
        },
        {
         "hovertemplate": "color=Su Shi<br>0=%{x}<br>1=%{y}<extra></extra>",
         "legendgroup": "Su Shi",
         "marker": {
          "color": "#00cc96",
          "symbol": "circle"
         },
         "mode": "markers",
         "name": "Su Shi",
         "orientation": "v",
         "showlegend": true,
         "type": "scatter",
         "x": [
          -0.14331741802281633,
          0.014943507435258536,
          0.049675981994823884,
          0.05439245879726828,
          -0.20996033215062648,
          -0.0018847903831600986,
          -0.005466717334482415,
          0.18043564233885023,
          0.17857529335116612,
          0.09341163435847646,
          -0.00038005256465906373,
          -0.0862207489326498,
          0.044690872690654866,
          0.051774023714391056,
          0.031448432621503736,
          0.07257019665861195,
          0.08312297561640902,
          -0.10361039654848725,
          0.08644321363250551,
          0.07598295688534744,
          -0.017603409351122586,
          0.031048160145868677,
          -0.22549878884252503,
          0.06740211057528306,
          0.05196395124038048,
          -0.1109693314199895,
          -0.14200060121773192,
          -0.09800177190323385,
          0.037066498570020506,
          0.030713911441082993,
          -0.042297084733848966,
          -0.01573663119057039,
          0.07261912607005738,
          0.11609670763116672,
          0.06299787825142517,
          -0.1461039873878968,
          -0.26214185037042054,
          -0.14533733781344838,
          -0.0067001224139762285,
          0.05800388624503132,
          0.054088118954440115,
          0.019071085073559296,
          0.06579049930200946,
          -0.10146860646898269,
          -0.06544878044330756,
          -0.03267687380862834,
          -0.024396314052229202,
          0.08955564889275915,
          -0.07997602556365202,
          -0.027835045881320138,
          0.015396236531112488,
          -0.08891215787014155,
          0.10663177899353761,
          -0.08547137865602339,
          -0.03893278542566102,
          0.04869980530380779,
          0.025950300163424474,
          0.04246902542260969,
          0.11595827347862883,
          -0.027780889417533372,
          -0.06416647741787235,
          0.03612181188786552,
          0.07125244973778333,
          0.09721057768759779,
          -0.03938576952420801,
          -0.00845868206312864,
          0.07137535691867437,
          0.03822416377352296,
          -0.03095611646144637,
          -0.038920262175957676,
          -0.012673505133141904,
          -0.025331853433307263,
          0.10105407190454774,
          0.10162838195177275,
          0.0800304604994306,
          0.05378561124490374,
          0.12757633762136938,
          0.07208760064701308,
          0.010584331411081442,
          0.023731252187599455,
          -0.0075579843262511765,
          -0.03805705503826995,
          -0.06623893043649702,
          -0.04671493848001528,
          0.057737529092103175,
          0.040183812460877884,
          0.10171262749809244,
          -0.07224100722706682,
          0.01705769393987898,
          -0.12139701953958754,
          0.06522550560151677,
          -0.05615263611167511,
          -0.20007296268501887,
          0.07364339989396572,
          -0.14587788135447488,
          0.0023122707055774614,
          0.08517778750551817,
          0.10857076544773908,
          0.04543304743076146,
          0.08243729944744761,
          0.0005171850379371538,
          0.15606993212047865,
          0.04675440624391017,
          0.05510401061971931,
          0.03398440593254112,
          -0.007751967063458168,
          -0.005643065106479444,
          0.008338008389206624,
          0.027649343785263663,
          0.039907778863485094,
          0.07455794210658402,
          0.07509771346688489,
          0.04957947489006139,
          0.032531671075962915,
          -0.16969125966194143,
          0.05290281405361173,
          -0.040882822612525876,
          0.19164547080575023,
          0.0011124690246188873
         ],
         "xaxis": "x",
         "y": [
          0.06597107555639488,
          -0.028296376380777335,
          -0.013652952780074647,
          -0.06734558713057737,
          0.037706584460612376,
          -0.03785371099393371,
          0.05984005906711684,
          0.09102917683008167,
          0.10566863499298788,
          0.0439087869770081,
          -0.1058833743877034,
          -0.013112641062097077,
          0.005331181374742422,
          0.03808105191063248,
          -0.0107548302992983,
          0.033768439986010965,
          -0.04318847928590785,
          0.02249685407899266,
          0.04476995266108185,
          0.00392136816026462,
          0.05942599325006374,
          0.04105534796921226,
          0.05984203471393124,
          0.024369054733838977,
          -0.006166402372052971,
          -0.0059715589619317045,
          0.08383093963851522,
          0.01015838430270647,
          0.03074718391989087,
          -0.0770379960605217,
          -0.01993319319338067,
          -0.023635809001223723,
          0.02982632458472696,
          0.08535643398157641,
          0.014019615158898479,
          0.016442642605494783,
          0.11220506807485277,
          0.018113359160275323,
          0.0007364681850230499,
          -0.10376029081935566,
          -0.021795657841533592,
          0.02715088071413534,
          0.04618576141409905,
          -0.003269117687845941,
          -0.01998358326779701,
          -0.06679168040378188,
          -0.07108783209060818,
          -0.05788896221279606,
          0.003978447248178738,
          0.039003913740478124,
          0.019684141791601262,
          -0.005314194131914231,
          -0.011423538579858714,
          -0.03703330511935479,
          -0.01588562079160419,
          -0.023944722881584085,
          -0.03228494631719258,
          -0.18513490220577078,
          -0.004974356048830564,
          0.04473413434240851,
          0.004315548069802911,
          0.05188801062923351,
          -0.04365688290295947,
          0.030511053421295762,
          0.04506122750960026,
          0.05191164396273281,
          -0.013234027371987781,
          -0.09134600893260807,
          -0.06712672536509166,
          0.08803104302373527,
          -0.022469835481009653,
          0.025936978117690714,
          0.009734676510066598,
          0.004441403064293788,
          0.0359653672770635,
          -0.05988032108504317,
          0.06614280695456087,
          0.019946392310937408,
          -0.029153844208717226,
          0.0565437147348667,
          -0.008807744942064018,
          -0.05316438694867176,
          0.06521355371758782,
          0.017239808405640822,
          -0.07307999138493272,
          0.04305160771600455,
          0.0332888386891755,
          -0.02780227970253162,
          -0.07643432061213462,
          0.047857111324159644,
          0.04906558244326435,
          -0.09207350501872164,
          0.08067734598693856,
          -0.03728743068598254,
          0.049491437874257596,
          -0.026962820128337874,
          -0.03677057653240153,
          0.024284463449416073,
          -0.030193917700534825,
          -0.049097090662527126,
          -0.04449129587429277,
          0.013695719114790922,
          -0.029876976571175988,
          0.081936783748741,
          -0.024577150000626647,
          -0.010985721162225681,
          0.001843069386242667,
          -0.040653001965732634,
          -0.04196180256658795,
          -0.013247441055910462,
          0.04001090542663192,
          0.007015667010869118,
          -0.01835735870507768,
          -0.024984391923700423,
          0.019163782813349108,
          0.02273393274932315,
          -0.03583681426199321,
          0.09772563810041497,
          -0.007023315002223175
         ],
         "yaxis": "y"
        },
        {
         "hovertemplate": "color=WangXiZhi<br>0=%{x}<br>1=%{y}<extra></extra>",
         "legendgroup": "WangXiZhi",
         "marker": {
          "color": "#ab63fa",
          "symbol": "circle"
         },
         "mode": "markers",
         "name": "WangXiZhi",
         "orientation": "v",
         "showlegend": true,
         "type": "scatter",
         "x": [
          0.08916882666019794,
          -0.03797775633057369,
          -0.0034962695413946606,
          0.019995202069287985,
          0.010313803317049031,
          0.011295901183444916,
          0.002287958065902206,
          0.010742322251470357,
          0.0833638839060399,
          0.028421183727216942,
          0.01682182474993716,
          0.042501035325114955,
          0.0619494871403916,
          0.028769102531027334,
          -0.08437459947801285,
          -0.03603899356284817,
          -0.15935505829520075,
          -0.03905258064453518,
          0.06536172495223015,
          0.030799303845580925,
          -0.009754335531350898,
          0.026523538358793713,
          0.005276327380838773,
          0.029633850844417123,
          0.10721614402979046,
          -0.02563493411605686,
          -0.013334992554163443,
          -0.03259099823744645,
          0.005621638821981526,
          -0.153505999905505,
          0.08631807825028227,
          -0.07392498844708706,
          0.013346439354052398,
          -0.010949235362671957,
          0.05014732679733998,
          -0.012091697919929293,
          -0.02017112170381212,
          -0.05977651046634491,
          0.03237104393670305,
          -0.009335294930054739,
          0.01301175618472493,
          0.0689414849731134,
          0.10632263771232822,
          0.0573393999616462,
          0.019992022591445377,
          -0.06975845501956227,
          -0.004955177476447001,
          -0.0285290967362756,
          -0.01637919289287773,
          0.05623482094649593,
          0.041264485036142426,
          -0.03177907626740632,
          -0.04496205644873756,
          -0.013440892324684895,
          -0.08707437933722685,
          0.0556129157598626,
          -0.00838462382274583,
          -0.04646444034930548,
          0.2216875166224659,
          0.11357363875998171,
          -0.018756336920766933,
          0.1120312378646071,
          -0.04055090117385839,
          -0.000796806705769931,
          0.010817958087770231,
          0.013210364934591491,
          -0.07191292105166637,
          0.04645081924142856,
          -0.047145893276935115,
          -0.07154808942377358,
          0.08946992561660573,
          0.18857617236590465,
          0.06266811308412425,
          -0.037162448019458144,
          -0.029968814047076346,
          -0.01914693826313336,
          0.01184426368683174,
          0.06216719949472485,
          0.01722753529298174,
          -0.21274160575855952,
          0.17437324528330414,
          0.05370569448182331,
          -0.026006765263328475,
          -0.004105348660276764,
          0.014531844373843895,
          -0.05603672854220191,
          -0.016679923041306725,
          0.12351438161229851,
          -0.12471902842890008,
          0.08113832851565152,
          -0.048431360335697296,
          0.01820645326602932,
          -0.07808422777585783,
          0.04949443715466924,
          -0.03432870755665858
         ],
         "xaxis": "x",
         "y": [
          -0.03562000854332753,
          0.0689141489748694,
          0.06371683830200699,
          -0.03954251401029362,
          0.04196974445702019,
          -0.010200576814791968,
          0.015145039733299356,
          -0.07163944369606291,
          -0.04636409036127186,
          0.004512001569976539,
          0.01641068670065326,
          -0.0305614015869403,
          -0.058844119968835006,
          0.020340395311466353,
          0.011215894517860689,
          0.09075192697287719,
          0.00964934231200725,
          0.02313759344757539,
          -0.0813233608718308,
          -0.03607861621955046,
          0.0052367595733238,
          -0.003409796238672298,
          0.0281222554161312,
          -0.03764840211409052,
          -0.02119398538098465,
          0.03694338941625291,
          0.003944504432827132,
          -0.08157054937640885,
          -0.006577380061717029,
          0.03160042824818664,
          -0.07149847258582671,
          0.04983710954379968,
          -0.02598897233659025,
          -0.0239111193618928,
          0.016321948051251246,
          0.055770650521766364,
          -0.0415998892979185,
          0.022269649674159613,
          0.0643873569176386,
          0.0378762089574227,
          -0.059679624218646296,
          0.016781801132971227,
          0.029189751938612278,
          -0.017966726825395095,
          -0.04327097397403295,
          -0.030459729239298503,
          -0.04855652499610641,
          -0.0032297778519030703,
          -0.0348564844329311,
          -0.15165278935383164,
          -0.00908361726604147,
          -0.06926613248888616,
          0.11655106844765534,
          -0.05163288284391517,
          -0.03216292070313021,
          -0.03740229325862327,
          -0.01127266769773147,
          0.01855319020265814,
          0.1256211640667073,
          0.007564075355725022,
          -0.0073444900524762356,
          0.09819704835061574,
          -0.011593139618383924,
          0.05617067325833917,
          0.05798489747049056,
          -0.03048507018779866,
          0.011912678933935725,
          0.0383411235203472,
          -0.018876254022053854,
          0.04773935830264804,
          0.011817724289092515,
          0.10514216045118836,
          0.05747138907508787,
          -0.06034224109373735,
          0.007117571344665698,
          0.01936420550480879,
          -0.09229156817152266,
          0.053977210458663674,
          -0.054606673228133194,
          0.07383007873509993,
          0.06785546371275179,
          -0.01623461274290158,
          -0.03721866633597386,
          -0.01668067387821573,
          -0.02907859662206962,
          -0.051639508375154894,
          -0.08983828265661296,
          -0.015149428573580221,
          -0.03893171829291146,
          0.04520881682016861,
          0.13996134541461833,
          -0.06044241098435188,
          0.06975850749921703,
          -0.04218095604798856,
          -0.054269615804193407
         ],
         "yaxis": "y"
        },
        {
         "hovertemplate": "color=Mi Fu (On Cursive Calligraphy)<br>0=%{x}<br>1=%{y}<extra></extra>",
         "legendgroup": "Mi Fu (On Cursive Calligraphy)",
         "marker": {
          "color": "#FFA15A",
          "symbol": "circle"
         },
         "mode": "markers",
         "name": "Mi Fu (On Cursive Calligraphy)",
         "orientation": "v",
         "showlegend": true,
         "type": "scatter",
         "x": [
          0.061244650615728265,
          -0.011039912662348503,
          0.017658558078776962,
          0.12192499700179088,
          0.12213790562391923,
          0.1111975399043069,
          -0.0015543980212498446,
          -0.060530458012592415,
          -0.033164948448576745,
          -0.12389376432319943,
          0.00015449836974629186,
          0.08916073881624628,
          0.03787009407469974,
          -0.0821375113199098,
          -0.01664787352472835,
          -0.1518858855160785,
          0.04488954569678123,
          0.11617879448850339,
          0.09676987110269407,
          0.023207392075584872,
          -0.06743570733726478,
          0.053960650000231244,
          -0.11783917535388792,
          -0.12179196598177393,
          0.05441797822859033,
          -0.14709038726153426,
          -0.005905689770661218,
          -0.1602590546582478,
          0.006907694435011222,
          -0.1217105237952792,
          0.01839166535990658,
          0.0357684715648178,
          0.015730840601575796,
          0.0006463969264591733,
          -0.1207879584493395,
          -0.11600396678511458,
          0.0440716301338097,
          0.10801570414931448,
          -0.07531688502234754,
          0.1407696390763655,
          -0.03236611107966022,
          -0.07190137874073015,
          0.008149965306016414,
          0.08708452634753783,
          0.07480590920107658,
          0.07225259711326917,
          0.11484860273571866,
          0.05347106258620356,
          0.13421518601991686,
          0.10418130260182633,
          0.14706460434941265,
          0.05671643003119195,
          -0.0673461972153165,
          0.04984521962849369,
          0.10481664805996627,
          0.005839157121543049,
          -0.04538569236605348,
          -0.15536333474438785,
          -0.018764393822673812,
          0.027168306901172615,
          -0.028233635593674304,
          0.1421544703586554,
          0.11253948228646146
         ],
         "xaxis": "x",
         "y": [
          0.006064885341804809,
          -0.04975832069406257,
          -0.08636056919784434,
          0.017455118427511088,
          -0.09846513541741064,
          0.029175178723488727,
          0.06945363423067463,
          -0.05013871461313946,
          -0.04562986013301173,
          0.018029149811936845,
          0.015251823545437665,
          0.03596061525492869,
          0.010005455031076204,
          -0.07376248234818102,
          -0.07330232836103698,
          -0.01492902612891168,
          0.05850191962353215,
          -0.009832718351326568,
          0.012050391047509346,
          0.039626030831968174,
          0.015329119795722932,
          -0.016725138707749283,
          -0.02508753435572022,
          -0.007094524214406478,
          -0.05233742042539733,
          0.07745474653539107,
          -0.009122235840395444,
          0.02196784198784355,
          -0.1324200190126119,
          0.008541693309273358,
          0.009840280685729053,
          -0.14281349218612274,
          -0.07381529131966141,
          0.00010815214550852766,
          -0.015888374874221924,
          0.016097021838298597,
          -0.01141271859576924,
          0.03557812754307601,
          0.06040941442301785,
          0.0676374765605347,
          0.09697026877593085,
          0.020412219747082478,
          -0.0786930016281941,
          0.12010495291030007,
          0.020217850279406684,
          -0.11209414095228087,
          0.03865959416141791,
          0.02493669428786003,
          0.034888987885102314,
          -0.04890516359510686,
          0.018145371013001427,
          -0.13813718603116912,
          0.012681573125332395,
          0.011342803855024088,
          -0.04295758174389193,
          0.002066842244339315,
          -0.0021892728655603325,
          -0.051083780118677674,
          -0.03648440640101671,
          -0.053433182273950684,
          0.001482791434945488,
          0.016209889505255343,
          0.02637488424474247
         ],
         "yaxis": "y"
        }
       ],
       "layout": {
        "font": {
         "color": "RebeccaPurple",
         "family": "Courier New, monospace",
         "size": 18
        },
        "legend": {
         "title": {
          "text": "Class"
         },
         "tracegroupgap": 0
        },
        "margin": {
         "t": 60
        },
        "template": {
         "data": {
          "bar": [
           {
            "error_x": {
             "color": "#2a3f5f"
            },
            "error_y": {
             "color": "#2a3f5f"
            },
            "marker": {
             "line": {
              "color": "#E5ECF6",
              "width": 0.5
             }
            },
            "type": "bar"
           }
          ],
          "barpolar": [
           {
            "marker": {
             "line": {
              "color": "#E5ECF6",
              "width": 0.5
             }
            },
            "type": "barpolar"
           }
          ],
          "carpet": [
           {
            "aaxis": {
             "endlinecolor": "#2a3f5f",
             "gridcolor": "white",
             "linecolor": "white",
             "minorgridcolor": "white",
             "startlinecolor": "#2a3f5f"
            },
            "baxis": {
             "endlinecolor": "#2a3f5f",
             "gridcolor": "white",
             "linecolor": "white",
             "minorgridcolor": "white",
             "startlinecolor": "#2a3f5f"
            },
            "type": "carpet"
           }
          ],
          "choropleth": [
           {
            "colorbar": {
             "outlinewidth": 0,
             "ticks": ""
            },
            "type": "choropleth"
           }
          ],
          "contour": [
           {
            "colorbar": {
             "outlinewidth": 0,
             "ticks": ""
            },
            "colorscale": [
             [
              0,
              "#0d0887"
             ],
             [
              0.1111111111111111,
              "#46039f"
             ],
             [
              0.2222222222222222,
              "#7201a8"
             ],
             [
              0.3333333333333333,
              "#9c179e"
             ],
             [
              0.4444444444444444,
              "#bd3786"
             ],
             [
              0.5555555555555556,
              "#d8576b"
             ],
             [
              0.6666666666666666,
              "#ed7953"
             ],
             [
              0.7777777777777778,
              "#fb9f3a"
             ],
             [
              0.8888888888888888,
              "#fdca26"
             ],
             [
              1,
              "#f0f921"
             ]
            ],
            "type": "contour"
           }
          ],
          "contourcarpet": [
           {
            "colorbar": {
             "outlinewidth": 0,
             "ticks": ""
            },
            "type": "contourcarpet"
           }
          ],
          "heatmap": [
           {
            "colorbar": {
             "outlinewidth": 0,
             "ticks": ""
            },
            "colorscale": [
             [
              0,
              "#0d0887"
             ],
             [
              0.1111111111111111,
              "#46039f"
             ],
             [
              0.2222222222222222,
              "#7201a8"
             ],
             [
              0.3333333333333333,
              "#9c179e"
             ],
             [
              0.4444444444444444,
              "#bd3786"
             ],
             [
              0.5555555555555556,
              "#d8576b"
             ],
             [
              0.6666666666666666,
              "#ed7953"
             ],
             [
              0.7777777777777778,
              "#fb9f3a"
             ],
             [
              0.8888888888888888,
              "#fdca26"
             ],
             [
              1,
              "#f0f921"
             ]
            ],
            "type": "heatmap"
           }
          ],
          "heatmapgl": [
           {
            "colorbar": {
             "outlinewidth": 0,
             "ticks": ""
            },
            "colorscale": [
             [
              0,
              "#0d0887"
             ],
             [
              0.1111111111111111,
              "#46039f"
             ],
             [
              0.2222222222222222,
              "#7201a8"
             ],
             [
              0.3333333333333333,
              "#9c179e"
             ],
             [
              0.4444444444444444,
              "#bd3786"
             ],
             [
              0.5555555555555556,
              "#d8576b"
             ],
             [
              0.6666666666666666,
              "#ed7953"
             ],
             [
              0.7777777777777778,
              "#fb9f3a"
             ],
             [
              0.8888888888888888,
              "#fdca26"
             ],
             [
              1,
              "#f0f921"
             ]
            ],
            "type": "heatmapgl"
           }
          ],
          "histogram": [
           {
            "marker": {
             "colorbar": {
              "outlinewidth": 0,
              "ticks": ""
             }
            },
            "type": "histogram"
           }
          ],
          "histogram2d": [
           {
            "colorbar": {
             "outlinewidth": 0,
             "ticks": ""
            },
            "colorscale": [
             [
              0,
              "#0d0887"
             ],
             [
              0.1111111111111111,
              "#46039f"
             ],
             [
              0.2222222222222222,
              "#7201a8"
             ],
             [
              0.3333333333333333,
              "#9c179e"
             ],
             [
              0.4444444444444444,
              "#bd3786"
             ],
             [
              0.5555555555555556,
              "#d8576b"
             ],
             [
              0.6666666666666666,
              "#ed7953"
             ],
             [
              0.7777777777777778,
              "#fb9f3a"
             ],
             [
              0.8888888888888888,
              "#fdca26"
             ],
             [
              1,
              "#f0f921"
             ]
            ],
            "type": "histogram2d"
           }
          ],
          "histogram2dcontour": [
           {
            "colorbar": {
             "outlinewidth": 0,
             "ticks": ""
            },
            "colorscale": [
             [
              0,
              "#0d0887"
             ],
             [
              0.1111111111111111,
              "#46039f"
             ],
             [
              0.2222222222222222,
              "#7201a8"
             ],
             [
              0.3333333333333333,
              "#9c179e"
             ],
             [
              0.4444444444444444,
              "#bd3786"
             ],
             [
              0.5555555555555556,
              "#d8576b"
             ],
             [
              0.6666666666666666,
              "#ed7953"
             ],
             [
              0.7777777777777778,
              "#fb9f3a"
             ],
             [
              0.8888888888888888,
              "#fdca26"
             ],
             [
              1,
              "#f0f921"
             ]
            ],
            "type": "histogram2dcontour"
           }
          ],
          "mesh3d": [
           {
            "colorbar": {
             "outlinewidth": 0,
             "ticks": ""
            },
            "type": "mesh3d"
           }
          ],
          "parcoords": [
           {
            "line": {
             "colorbar": {
              "outlinewidth": 0,
              "ticks": ""
             }
            },
            "type": "parcoords"
           }
          ],
          "pie": [
           {
            "automargin": true,
            "type": "pie"
           }
          ],
          "scatter": [
           {
            "marker": {
             "colorbar": {
              "outlinewidth": 0,
              "ticks": ""
             }
            },
            "type": "scatter"
           }
          ],
          "scatter3d": [
           {
            "line": {
             "colorbar": {
              "outlinewidth": 0,
              "ticks": ""
             }
            },
            "marker": {
             "colorbar": {
              "outlinewidth": 0,
              "ticks": ""
             }
            },
            "type": "scatter3d"
           }
          ],
          "scattercarpet": [
           {
            "marker": {
             "colorbar": {
              "outlinewidth": 0,
              "ticks": ""
             }
            },
            "type": "scattercarpet"
           }
          ],
          "scattergeo": [
           {
            "marker": {
             "colorbar": {
              "outlinewidth": 0,
              "ticks": ""
             }
            },
            "type": "scattergeo"
           }
          ],
          "scattergl": [
           {
            "marker": {
             "colorbar": {
              "outlinewidth": 0,
              "ticks": ""
             }
            },
            "type": "scattergl"
           }
          ],
          "scattermapbox": [
           {
            "marker": {
             "colorbar": {
              "outlinewidth": 0,
              "ticks": ""
             }
            },
            "type": "scattermapbox"
           }
          ],
          "scatterpolar": [
           {
            "marker": {
             "colorbar": {
              "outlinewidth": 0,
              "ticks": ""
             }
            },
            "type": "scatterpolar"
           }
          ],
          "scatterpolargl": [
           {
            "marker": {
             "colorbar": {
              "outlinewidth": 0,
              "ticks": ""
             }
            },
            "type": "scatterpolargl"
           }
          ],
          "scatterternary": [
           {
            "marker": {
             "colorbar": {
              "outlinewidth": 0,
              "ticks": ""
             }
            },
            "type": "scatterternary"
           }
          ],
          "surface": [
           {
            "colorbar": {
             "outlinewidth": 0,
             "ticks": ""
            },
            "colorscale": [
             [
              0,
              "#0d0887"
             ],
             [
              0.1111111111111111,
              "#46039f"
             ],
             [
              0.2222222222222222,
              "#7201a8"
             ],
             [
              0.3333333333333333,
              "#9c179e"
             ],
             [
              0.4444444444444444,
              "#bd3786"
             ],
             [
              0.5555555555555556,
              "#d8576b"
             ],
             [
              0.6666666666666666,
              "#ed7953"
             ],
             [
              0.7777777777777778,
              "#fb9f3a"
             ],
             [
              0.8888888888888888,
              "#fdca26"
             ],
             [
              1,
              "#f0f921"
             ]
            ],
            "type": "surface"
           }
          ],
          "table": [
           {
            "cells": {
             "fill": {
              "color": "#EBF0F8"
             },
             "line": {
              "color": "white"
             }
            },
            "header": {
             "fill": {
              "color": "#C8D4E3"
             },
             "line": {
              "color": "white"
             }
            },
            "type": "table"
           }
          ]
         },
         "layout": {
          "annotationdefaults": {
           "arrowcolor": "#2a3f5f",
           "arrowhead": 0,
           "arrowwidth": 1
          },
          "autotypenumbers": "strict",
          "coloraxis": {
           "colorbar": {
            "outlinewidth": 0,
            "ticks": ""
           }
          },
          "colorscale": {
           "diverging": [
            [
             0,
             "#8e0152"
            ],
            [
             0.1,
             "#c51b7d"
            ],
            [
             0.2,
             "#de77ae"
            ],
            [
             0.3,
             "#f1b6da"
            ],
            [
             0.4,
             "#fde0ef"
            ],
            [
             0.5,
             "#f7f7f7"
            ],
            [
             0.6,
             "#e6f5d0"
            ],
            [
             0.7,
             "#b8e186"
            ],
            [
             0.8,
             "#7fbc41"
            ],
            [
             0.9,
             "#4d9221"
            ],
            [
             1,
             "#276419"
            ]
           ],
           "sequential": [
            [
             0,
             "#0d0887"
            ],
            [
             0.1111111111111111,
             "#46039f"
            ],
            [
             0.2222222222222222,
             "#7201a8"
            ],
            [
             0.3333333333333333,
             "#9c179e"
            ],
            [
             0.4444444444444444,
             "#bd3786"
            ],
            [
             0.5555555555555556,
             "#d8576b"
            ],
            [
             0.6666666666666666,
             "#ed7953"
            ],
            [
             0.7777777777777778,
             "#fb9f3a"
            ],
            [
             0.8888888888888888,
             "#fdca26"
            ],
            [
             1,
             "#f0f921"
            ]
           ],
           "sequentialminus": [
            [
             0,
             "#0d0887"
            ],
            [
             0.1111111111111111,
             "#46039f"
            ],
            [
             0.2222222222222222,
             "#7201a8"
            ],
            [
             0.3333333333333333,
             "#9c179e"
            ],
            [
             0.4444444444444444,
             "#bd3786"
            ],
            [
             0.5555555555555556,
             "#d8576b"
            ],
            [
             0.6666666666666666,
             "#ed7953"
            ],
            [
             0.7777777777777778,
             "#fb9f3a"
            ],
            [
             0.8888888888888888,
             "#fdca26"
            ],
            [
             1,
             "#f0f921"
            ]
           ]
          },
          "colorway": [
           "#636efa",
           "#EF553B",
           "#00cc96",
           "#ab63fa",
           "#FFA15A",
           "#19d3f3",
           "#FF6692",
           "#B6E880",
           "#FF97FF",
           "#FECB52"
          ],
          "font": {
           "color": "#2a3f5f"
          },
          "geo": {
           "bgcolor": "white",
           "lakecolor": "white",
           "landcolor": "#E5ECF6",
           "showlakes": true,
           "showland": true,
           "subunitcolor": "white"
          },
          "hoverlabel": {
           "align": "left"
          },
          "hovermode": "closest",
          "mapbox": {
           "style": "light"
          },
          "paper_bgcolor": "white",
          "plot_bgcolor": "#E5ECF6",
          "polar": {
           "angularaxis": {
            "gridcolor": "white",
            "linecolor": "white",
            "ticks": ""
           },
           "bgcolor": "#E5ECF6",
           "radialaxis": {
            "gridcolor": "white",
            "linecolor": "white",
            "ticks": ""
           }
          },
          "scene": {
           "xaxis": {
            "backgroundcolor": "#E5ECF6",
            "gridcolor": "white",
            "gridwidth": 2,
            "linecolor": "white",
            "showbackground": true,
            "ticks": "",
            "zerolinecolor": "white"
           },
           "yaxis": {
            "backgroundcolor": "#E5ECF6",
            "gridcolor": "white",
            "gridwidth": 2,
            "linecolor": "white",
            "showbackground": true,
            "ticks": "",
            "zerolinecolor": "white"
           },
           "zaxis": {
            "backgroundcolor": "#E5ECF6",
            "gridcolor": "white",
            "gridwidth": 2,
            "linecolor": "white",
            "showbackground": true,
            "ticks": "",
            "zerolinecolor": "white"
           }
          },
          "shapedefaults": {
           "line": {
            "color": "#2a3f5f"
           }
          },
          "ternary": {
           "aaxis": {
            "gridcolor": "white",
            "linecolor": "white",
            "ticks": ""
           },
           "baxis": {
            "gridcolor": "white",
            "linecolor": "white",
            "ticks": ""
           },
           "bgcolor": "#E5ECF6",
           "caxis": {
            "gridcolor": "white",
            "linecolor": "white",
            "ticks": ""
           }
          },
          "title": {
           "x": 0.05
          },
          "xaxis": {
           "automargin": true,
           "gridcolor": "white",
           "linecolor": "white",
           "ticks": "",
           "title": {
            "standoff": 15
           },
           "zerolinecolor": "white",
           "zerolinewidth": 2
          },
          "yaxis": {
           "automargin": true,
           "gridcolor": "white",
           "linecolor": "white",
           "ticks": "",
           "title": {
            "standoff": 15
           },
           "zerolinecolor": "white",
           "zerolinewidth": 2
          }
         }
        },
        "title": {
         "text": "PCA"
        },
        "xaxis": {
         "anchor": "y",
         "domain": [
          0,
          1
         ],
         "title": {
          "text": "PC 1"
         }
        },
        "yaxis": {
         "anchor": "x",
         "domain": [
          0,
          1
         ],
         "title": {
          "text": "PC 2"
         }
        }
       }
      },
      "text/html": [
       "<div>                            <div id=\"bcef3493-63c5-4cee-bc0f-fa27649746a3\" class=\"plotly-graph-div\" style=\"height:525px; width:100%;\"></div>            <script type=\"text/javascript\">                require([\"plotly\"], function(Plotly) {                    window.PLOTLYENV=window.PLOTLYENV || {};                                    if (document.getElementById(\"bcef3493-63c5-4cee-bc0f-fa27649746a3\")) {                    Plotly.newPlot(                        \"bcef3493-63c5-4cee-bc0f-fa27649746a3\",                        [{\"hovertemplate\": \"color=Mi Fu (Wu River)<br>0=%{x}<br>1=%{y}<extra></extra>\", \"legendgroup\": \"Mi Fu (Wu River)\", \"marker\": {\"color\": \"#636efa\", \"symbol\": \"circle\"}, \"mode\": \"markers\", \"name\": \"Mi Fu (Wu River)\", \"orientation\": \"v\", \"showlegend\": true, \"type\": \"scatter\", \"x\": [-0.017684141623839057, -0.07613073837996864, 0.033648001525407006, -0.028458599612607362, -0.01169938572963575, -0.0287620444952568, -0.012084650033513063, -0.0026445461347061315, -0.06372509143877704, -0.09465878619670359, -0.026317800865709437, -0.06090811191473047, -0.0650978786905869, -0.02907083461840965, 0.05149652139152954, -0.07097735058262022, 0.07391454601970718, -0.08486032228922381, -0.02994715777379256, -0.07001381131927702, -0.047826255631943204, -0.028326164779741675, -0.010867963734184952, -0.059358097523594035, -0.011545496819013052, -0.0199399391589139, -0.05525641243823839, 0.0264801899030914, -0.08672105071453363, -0.04176181740939455, -0.043973876533148555, -0.05358034934917058, -0.028705852704505923, -0.08315962630612178, -0.028408436311029676, -0.03252994063188777, 0.0324144833540592, 0.02022234018498987, -0.004893829084446788, 0.02333835131202398, -0.04128964463029802, -0.029001622146615173, -0.050139743399569475, -0.17122307351357305, 0.07508454167488968, 0.0059974744776897, 0.06992676245148347, -0.10034507131200725, -0.09828387113241946, -0.03692938070913735, -0.005184921866823075, -0.18178424399285484, -0.08115603143731441, 0.018444502143983008, -0.025976681340452428, 0.04502566458800062, -0.20203997584832506, -0.11376109785220222, 0.029367994752184393, 0.06477832367159791, -0.09878726502619205, -0.01155167086437269, 0.07174366019207132, 0.06898632864088536, -0.028456855298666477, -0.0792624731820768, -0.14965551249092288, -0.06973141406185532, 0.03064104884165816, -0.1102079913236608, 0.2922719771487199, -0.09973404276558645, 0.02252069583551709, -0.0678886388297714, 0.02511267848094907, -0.01761826699832779, -0.07752118993382691, -0.05256359126592221, -0.008404216234778005, 0.021512613181460163, -0.003868413239387473, -0.13690277165838946, -0.13015657589948496, -0.039901013737292365, -0.00019345024416100173, -0.09616727353472913, 0.06513866219029239, -0.25868516552386295, -0.1785476381256198, -0.0708889923921576, 0.07790881007093568], \"xaxis\": \"x\", \"y\": [0.021354932100262923, 0.035050538082962525, -0.029238490273914213, -0.033618761700476174, 0.024316955108110508, -0.003751160566071716, -0.055345533580158944, -0.01277868974546491, 0.0036492841106216278, 0.02952442439847476, 0.0006429225209343672, -0.0019105450088280028, -0.012676286116581727, 0.040498964183294676, -0.060039039437318906, -0.029948276361933635, -0.02628687069260103, -0.006812467122460105, 0.018694867090304393, -0.03748508637530389, -0.010201468881931419, -0.022321778267007562, -0.023617137989917464, 0.016466390488749226, -0.036504182912960835, 0.010858346338045383, -0.02984936132904227, 0.00944694793201866, 0.016585757137510124, 0.026152833631328837, -0.005931434928097149, 0.01292966259527357, -0.028335959919005577, 0.07616418171739275, -0.12840015805351368, -0.0296468606769128, 0.019525738776253895, 0.01944123574538077, 0.0667535600828395, -0.03910186438062788, 0.050025582928862174, -0.03901054642268173, -0.0251530955785677, 0.04190657539636604, 0.10729537187995124, 0.001046781501683992, 0.05399960761920122, -0.0433760475673647, -0.07581022317503816, -0.03267245238902817, 0.017503723638455804, 0.05944462377567598, 0.0016968026093765248, -0.13981457119056565, 0.01801385686930903, 0.042097985349366755, -0.0017234831303096334, -0.0750688963412222, -0.024501428885239634, 0.0033576018887650906, 0.04089407358331548, 0.010322563874782012, -0.05749971595424073, -0.02407085839266548, 0.05945842214935523, -0.0681758482879403, 0.018081745926112846, -0.05328722922169164, -0.050256010998268624, -0.008082224712154073, 0.2329473717799947, 0.05091508990867978, -0.0055567996266160284, -0.0012976403768920623, 0.00604007474174762, -0.08912716920178464, 0.010635781805639535, 0.038069932088205735, 0.03765369629470634, 0.03298776280092564, 0.014030075917775966, 0.03182595991163164, 0.024097206769851033, -0.10344198614796629, -0.12729980256098403, -0.020814213632617505, -0.05039981514963132, 0.07571607543252641, -0.0007384898121816705, -0.03658090979432879, -0.010959408382723884], \"yaxis\": \"y\"}, {\"hovertemplate\": \"color=Huizong<br>0=%{x}<br>1=%{y}<extra></extra>\", \"legendgroup\": \"Huizong\", \"marker\": {\"color\": \"#EF553B\", \"symbol\": \"circle\"}, \"mode\": \"markers\", \"name\": \"Huizong\", \"orientation\": \"v\", \"showlegend\": true, \"type\": \"scatter\", \"x\": [0.007795258842664965, 0.0924687856560887, 0.01353648497963248, -0.11314252854418397, 0.11060261560797774, -0.02147795821548182, -0.011513949339041462, -0.10914804800979205, -0.03929324957919127, 0.04003012603449018, 0.028177539135858236, 0.026159465350127715, -0.03643611104543349, -0.03311698054795058, 0.02012317617839038, -0.03764821794431224, 0.19270002960912697, -0.041297507255290855, 0.10646629625239215, 0.022929798947880553, -0.033840323693537705, 0.0657822269036216, -0.004475413695990958, -0.011145998271431666, 0.06673145240836374, 0.07934082811425791, 0.044837983599110426, 0.028848034441059513, -0.020923578233634513, -0.023023142397042312, 0.09038798035232021, -0.025284830474153024, -0.027444208713271783, -0.05979567136894452, 0.016861158123535825, -0.03843564203221224, 0.07433939666159972, 0.03444431654132437, -0.052933268029859586, -0.06188289124502358, 0.11773882579100603, -0.024144106844442712, 0.020665192775318076, -0.07867929256151807, 0.06069001054079095, 0.051532573019793165, 0.06009900291819573, 0.0603833623645022, 0.020524837205421836, 0.010064895333616385, 0.025965274041929283, -0.004564014728516288, 0.0573736338842593, -0.11604071388804381, 0.0183209317433898, 0.04789088186232238, 0.05641086044247537, 0.10826340317541074, -0.026854780489226387, 0.019497618053627392, -0.09004774323824026, -0.031007310974412918, 0.026437740180660724], \"xaxis\": \"x\", \"y\": [0.043399397482752206, 0.011777677695448812, 0.022282243635848166, 0.03628839202506433, 0.03477094243156024, 0.0006008532731529438, 0.07308824782612461, 0.011320136115534105, 0.019505094116300387, 0.049125378300545856, 0.010372159795047357, -0.02392045603257309, -0.0049749022734256855, -0.03272704741241535, -0.006445243626624751, 0.0399214314453652, 0.07709913280831096, -0.04581155521822284, -0.002430119854034343, 0.006114203104817566, 0.05258602624245456, -0.010956288951022082, 0.04535621213321941, -0.013536391287739404, -0.03687255826200034, 0.03988258925963422, 0.024702554504388574, -0.00605179125430792, -0.0027815026129386433, 0.021675345074039586, -0.0621432228807182, -0.03418293985712813, 0.04770312872587552, -0.062115548828808896, 0.021883081670001477, 0.035610013309295356, -0.004369419624738225, -0.07287351739554723, 0.04849481381247186, 0.03521311799552993, 0.036372223060437366, -0.0420821329974023, -0.050519398618971555, 0.057441333888008046, -0.01934329501559737, 0.0836192330251431, -0.04205674706140917, -0.030111403048962357, 0.08373386171912928, 0.037224081674880394, -0.009147413685980281, 0.0068780002821897225, 0.01533142644722951, 0.05688660946806995, -0.024876565613448674, -0.015977732782624023, 0.02694034398209169, -0.08235872355408526, 0.052057737310510624, -0.04009697749841021, -0.010118000372579062, 0.05620586578361021, 0.04859998445495491], \"yaxis\": \"y\"}, {\"hovertemplate\": \"color=Su Shi<br>0=%{x}<br>1=%{y}<extra></extra>\", \"legendgroup\": \"Su Shi\", \"marker\": {\"color\": \"#00cc96\", \"symbol\": \"circle\"}, \"mode\": \"markers\", \"name\": \"Su Shi\", \"orientation\": \"v\", \"showlegend\": true, \"type\": \"scatter\", \"x\": [-0.14331741802281633, 0.014943507435258536, 0.049675981994823884, 0.05439245879726828, -0.20996033215062648, -0.0018847903831600986, -0.005466717334482415, 0.18043564233885023, 0.17857529335116612, 0.09341163435847646, -0.00038005256465906373, -0.0862207489326498, 0.044690872690654866, 0.051774023714391056, 0.031448432621503736, 0.07257019665861195, 0.08312297561640902, -0.10361039654848725, 0.08644321363250551, 0.07598295688534744, -0.017603409351122586, 0.031048160145868677, -0.22549878884252503, 0.06740211057528306, 0.05196395124038048, -0.1109693314199895, -0.14200060121773192, -0.09800177190323385, 0.037066498570020506, 0.030713911441082993, -0.042297084733848966, -0.01573663119057039, 0.07261912607005738, 0.11609670763116672, 0.06299787825142517, -0.1461039873878968, -0.26214185037042054, -0.14533733781344838, -0.0067001224139762285, 0.05800388624503132, 0.054088118954440115, 0.019071085073559296, 0.06579049930200946, -0.10146860646898269, -0.06544878044330756, -0.03267687380862834, -0.024396314052229202, 0.08955564889275915, -0.07997602556365202, -0.027835045881320138, 0.015396236531112488, -0.08891215787014155, 0.10663177899353761, -0.08547137865602339, -0.03893278542566102, 0.04869980530380779, 0.025950300163424474, 0.04246902542260969, 0.11595827347862883, -0.027780889417533372, -0.06416647741787235, 0.03612181188786552, 0.07125244973778333, 0.09721057768759779, -0.03938576952420801, -0.00845868206312864, 0.07137535691867437, 0.03822416377352296, -0.03095611646144637, -0.038920262175957676, -0.012673505133141904, -0.025331853433307263, 0.10105407190454774, 0.10162838195177275, 0.0800304604994306, 0.05378561124490374, 0.12757633762136938, 0.07208760064701308, 0.010584331411081442, 0.023731252187599455, -0.0075579843262511765, -0.03805705503826995, -0.06623893043649702, -0.04671493848001528, 0.057737529092103175, 0.040183812460877884, 0.10171262749809244, -0.07224100722706682, 0.01705769393987898, -0.12139701953958754, 0.06522550560151677, -0.05615263611167511, -0.20007296268501887, 0.07364339989396572, -0.14587788135447488, 0.0023122707055774614, 0.08517778750551817, 0.10857076544773908, 0.04543304743076146, 0.08243729944744761, 0.0005171850379371538, 0.15606993212047865, 0.04675440624391017, 0.05510401061971931, 0.03398440593254112, -0.007751967063458168, -0.005643065106479444, 0.008338008389206624, 0.027649343785263663, 0.039907778863485094, 0.07455794210658402, 0.07509771346688489, 0.04957947489006139, 0.032531671075962915, -0.16969125966194143, 0.05290281405361173, -0.040882822612525876, 0.19164547080575023, 0.0011124690246188873], \"xaxis\": \"x\", \"y\": [0.06597107555639488, -0.028296376380777335, -0.013652952780074647, -0.06734558713057737, 0.037706584460612376, -0.03785371099393371, 0.05984005906711684, 0.09102917683008167, 0.10566863499298788, 0.0439087869770081, -0.1058833743877034, -0.013112641062097077, 0.005331181374742422, 0.03808105191063248, -0.0107548302992983, 0.033768439986010965, -0.04318847928590785, 0.02249685407899266, 0.04476995266108185, 0.00392136816026462, 0.05942599325006374, 0.04105534796921226, 0.05984203471393124, 0.024369054733838977, -0.006166402372052971, -0.0059715589619317045, 0.08383093963851522, 0.01015838430270647, 0.03074718391989087, -0.0770379960605217, -0.01993319319338067, -0.023635809001223723, 0.02982632458472696, 0.08535643398157641, 0.014019615158898479, 0.016442642605494783, 0.11220506807485277, 0.018113359160275323, 0.0007364681850230499, -0.10376029081935566, -0.021795657841533592, 0.02715088071413534, 0.04618576141409905, -0.003269117687845941, -0.01998358326779701, -0.06679168040378188, -0.07108783209060818, -0.05788896221279606, 0.003978447248178738, 0.039003913740478124, 0.019684141791601262, -0.005314194131914231, -0.011423538579858714, -0.03703330511935479, -0.01588562079160419, -0.023944722881584085, -0.03228494631719258, -0.18513490220577078, -0.004974356048830564, 0.04473413434240851, 0.004315548069802911, 0.05188801062923351, -0.04365688290295947, 0.030511053421295762, 0.04506122750960026, 0.05191164396273281, -0.013234027371987781, -0.09134600893260807, -0.06712672536509166, 0.08803104302373527, -0.022469835481009653, 0.025936978117690714, 0.009734676510066598, 0.004441403064293788, 0.0359653672770635, -0.05988032108504317, 0.06614280695456087, 0.019946392310937408, -0.029153844208717226, 0.0565437147348667, -0.008807744942064018, -0.05316438694867176, 0.06521355371758782, 0.017239808405640822, -0.07307999138493272, 0.04305160771600455, 0.0332888386891755, -0.02780227970253162, -0.07643432061213462, 0.047857111324159644, 0.04906558244326435, -0.09207350501872164, 0.08067734598693856, -0.03728743068598254, 0.049491437874257596, -0.026962820128337874, -0.03677057653240153, 0.024284463449416073, -0.030193917700534825, -0.049097090662527126, -0.04449129587429277, 0.013695719114790922, -0.029876976571175988, 0.081936783748741, -0.024577150000626647, -0.010985721162225681, 0.001843069386242667, -0.040653001965732634, -0.04196180256658795, -0.013247441055910462, 0.04001090542663192, 0.007015667010869118, -0.01835735870507768, -0.024984391923700423, 0.019163782813349108, 0.02273393274932315, -0.03583681426199321, 0.09772563810041497, -0.007023315002223175], \"yaxis\": \"y\"}, {\"hovertemplate\": \"color=WangXiZhi<br>0=%{x}<br>1=%{y}<extra></extra>\", \"legendgroup\": \"WangXiZhi\", \"marker\": {\"color\": \"#ab63fa\", \"symbol\": \"circle\"}, \"mode\": \"markers\", \"name\": \"WangXiZhi\", \"orientation\": \"v\", \"showlegend\": true, \"type\": \"scatter\", \"x\": [0.08916882666019794, -0.03797775633057369, -0.0034962695413946606, 0.019995202069287985, 0.010313803317049031, 0.011295901183444916, 0.002287958065902206, 0.010742322251470357, 0.0833638839060399, 0.028421183727216942, 0.01682182474993716, 0.042501035325114955, 0.0619494871403916, 0.028769102531027334, -0.08437459947801285, -0.03603899356284817, -0.15935505829520075, -0.03905258064453518, 0.06536172495223015, 0.030799303845580925, -0.009754335531350898, 0.026523538358793713, 0.005276327380838773, 0.029633850844417123, 0.10721614402979046, -0.02563493411605686, -0.013334992554163443, -0.03259099823744645, 0.005621638821981526, -0.153505999905505, 0.08631807825028227, -0.07392498844708706, 0.013346439354052398, -0.010949235362671957, 0.05014732679733998, -0.012091697919929293, -0.02017112170381212, -0.05977651046634491, 0.03237104393670305, -0.009335294930054739, 0.01301175618472493, 0.0689414849731134, 0.10632263771232822, 0.0573393999616462, 0.019992022591445377, -0.06975845501956227, -0.004955177476447001, -0.0285290967362756, -0.01637919289287773, 0.05623482094649593, 0.041264485036142426, -0.03177907626740632, -0.04496205644873756, -0.013440892324684895, -0.08707437933722685, 0.0556129157598626, -0.00838462382274583, -0.04646444034930548, 0.2216875166224659, 0.11357363875998171, -0.018756336920766933, 0.1120312378646071, -0.04055090117385839, -0.000796806705769931, 0.010817958087770231, 0.013210364934591491, -0.07191292105166637, 0.04645081924142856, -0.047145893276935115, -0.07154808942377358, 0.08946992561660573, 0.18857617236590465, 0.06266811308412425, -0.037162448019458144, -0.029968814047076346, -0.01914693826313336, 0.01184426368683174, 0.06216719949472485, 0.01722753529298174, -0.21274160575855952, 0.17437324528330414, 0.05370569448182331, -0.026006765263328475, -0.004105348660276764, 0.014531844373843895, -0.05603672854220191, -0.016679923041306725, 0.12351438161229851, -0.12471902842890008, 0.08113832851565152, -0.048431360335697296, 0.01820645326602932, -0.07808422777585783, 0.04949443715466924, -0.03432870755665858], \"xaxis\": \"x\", \"y\": [-0.03562000854332753, 0.0689141489748694, 0.06371683830200699, -0.03954251401029362, 0.04196974445702019, -0.010200576814791968, 0.015145039733299356, -0.07163944369606291, -0.04636409036127186, 0.004512001569976539, 0.01641068670065326, -0.0305614015869403, -0.058844119968835006, 0.020340395311466353, 0.011215894517860689, 0.09075192697287719, 0.00964934231200725, 0.02313759344757539, -0.0813233608718308, -0.03607861621955046, 0.0052367595733238, -0.003409796238672298, 0.0281222554161312, -0.03764840211409052, -0.02119398538098465, 0.03694338941625291, 0.003944504432827132, -0.08157054937640885, -0.006577380061717029, 0.03160042824818664, -0.07149847258582671, 0.04983710954379968, -0.02598897233659025, -0.0239111193618928, 0.016321948051251246, 0.055770650521766364, -0.0415998892979185, 0.022269649674159613, 0.0643873569176386, 0.0378762089574227, -0.059679624218646296, 0.016781801132971227, 0.029189751938612278, -0.017966726825395095, -0.04327097397403295, -0.030459729239298503, -0.04855652499610641, -0.0032297778519030703, -0.0348564844329311, -0.15165278935383164, -0.00908361726604147, -0.06926613248888616, 0.11655106844765534, -0.05163288284391517, -0.03216292070313021, -0.03740229325862327, -0.01127266769773147, 0.01855319020265814, 0.1256211640667073, 0.007564075355725022, -0.0073444900524762356, 0.09819704835061574, -0.011593139618383924, 0.05617067325833917, 0.05798489747049056, -0.03048507018779866, 0.011912678933935725, 0.0383411235203472, -0.018876254022053854, 0.04773935830264804, 0.011817724289092515, 0.10514216045118836, 0.05747138907508787, -0.06034224109373735, 0.007117571344665698, 0.01936420550480879, -0.09229156817152266, 0.053977210458663674, -0.054606673228133194, 0.07383007873509993, 0.06785546371275179, -0.01623461274290158, -0.03721866633597386, -0.01668067387821573, -0.02907859662206962, -0.051639508375154894, -0.08983828265661296, -0.015149428573580221, -0.03893171829291146, 0.04520881682016861, 0.13996134541461833, -0.06044241098435188, 0.06975850749921703, -0.04218095604798856, -0.054269615804193407], \"yaxis\": \"y\"}, {\"hovertemplate\": \"color=Mi Fu (On Cursive Calligraphy)<br>0=%{x}<br>1=%{y}<extra></extra>\", \"legendgroup\": \"Mi Fu (On Cursive Calligraphy)\", \"marker\": {\"color\": \"#FFA15A\", \"symbol\": \"circle\"}, \"mode\": \"markers\", \"name\": \"Mi Fu (On Cursive Calligraphy)\", \"orientation\": \"v\", \"showlegend\": true, \"type\": \"scatter\", \"x\": [0.061244650615728265, -0.011039912662348503, 0.017658558078776962, 0.12192499700179088, 0.12213790562391923, 0.1111975399043069, -0.0015543980212498446, -0.060530458012592415, -0.033164948448576745, -0.12389376432319943, 0.00015449836974629186, 0.08916073881624628, 0.03787009407469974, -0.0821375113199098, -0.01664787352472835, -0.1518858855160785, 0.04488954569678123, 0.11617879448850339, 0.09676987110269407, 0.023207392075584872, -0.06743570733726478, 0.053960650000231244, -0.11783917535388792, -0.12179196598177393, 0.05441797822859033, -0.14709038726153426, -0.005905689770661218, -0.1602590546582478, 0.006907694435011222, -0.1217105237952792, 0.01839166535990658, 0.0357684715648178, 0.015730840601575796, 0.0006463969264591733, -0.1207879584493395, -0.11600396678511458, 0.0440716301338097, 0.10801570414931448, -0.07531688502234754, 0.1407696390763655, -0.03236611107966022, -0.07190137874073015, 0.008149965306016414, 0.08708452634753783, 0.07480590920107658, 0.07225259711326917, 0.11484860273571866, 0.05347106258620356, 0.13421518601991686, 0.10418130260182633, 0.14706460434941265, 0.05671643003119195, -0.0673461972153165, 0.04984521962849369, 0.10481664805996627, 0.005839157121543049, -0.04538569236605348, -0.15536333474438785, -0.018764393822673812, 0.027168306901172615, -0.028233635593674304, 0.1421544703586554, 0.11253948228646146], \"xaxis\": \"x\", \"y\": [0.006064885341804809, -0.04975832069406257, -0.08636056919784434, 0.017455118427511088, -0.09846513541741064, 0.029175178723488727, 0.06945363423067463, -0.05013871461313946, -0.04562986013301173, 0.018029149811936845, 0.015251823545437665, 0.03596061525492869, 0.010005455031076204, -0.07376248234818102, -0.07330232836103698, -0.01492902612891168, 0.05850191962353215, -0.009832718351326568, 0.012050391047509346, 0.039626030831968174, 0.015329119795722932, -0.016725138707749283, -0.02508753435572022, -0.007094524214406478, -0.05233742042539733, 0.07745474653539107, -0.009122235840395444, 0.02196784198784355, -0.1324200190126119, 0.008541693309273358, 0.009840280685729053, -0.14281349218612274, -0.07381529131966141, 0.00010815214550852766, -0.015888374874221924, 0.016097021838298597, -0.01141271859576924, 0.03557812754307601, 0.06040941442301785, 0.0676374765605347, 0.09697026877593085, 0.020412219747082478, -0.0786930016281941, 0.12010495291030007, 0.020217850279406684, -0.11209414095228087, 0.03865959416141791, 0.02493669428786003, 0.034888987885102314, -0.04890516359510686, 0.018145371013001427, -0.13813718603116912, 0.012681573125332395, 0.011342803855024088, -0.04295758174389193, 0.002066842244339315, -0.0021892728655603325, -0.051083780118677674, -0.03648440640101671, -0.053433182273950684, 0.001482791434945488, 0.016209889505255343, 0.02637488424474247], \"yaxis\": \"y\"}],                        {\"font\": {\"color\": \"RebeccaPurple\", \"family\": \"Courier New, monospace\", \"size\": 18}, \"legend\": {\"title\": {\"text\": \"Class\"}, \"tracegroupgap\": 0}, \"margin\": {\"t\": 60}, \"template\": {\"data\": {\"bar\": [{\"error_x\": {\"color\": \"#2a3f5f\"}, \"error_y\": {\"color\": \"#2a3f5f\"}, \"marker\": {\"line\": {\"color\": \"#E5ECF6\", \"width\": 0.5}}, \"type\": \"bar\"}], \"barpolar\": [{\"marker\": {\"line\": {\"color\": \"#E5ECF6\", \"width\": 0.5}}, \"type\": \"barpolar\"}], \"carpet\": [{\"aaxis\": {\"endlinecolor\": \"#2a3f5f\", \"gridcolor\": \"white\", \"linecolor\": \"white\", \"minorgridcolor\": \"white\", \"startlinecolor\": \"#2a3f5f\"}, \"baxis\": {\"endlinecolor\": \"#2a3f5f\", \"gridcolor\": \"white\", \"linecolor\": \"white\", \"minorgridcolor\": \"white\", \"startlinecolor\": \"#2a3f5f\"}, \"type\": \"carpet\"}], \"choropleth\": [{\"colorbar\": {\"outlinewidth\": 0, \"ticks\": \"\"}, \"type\": \"choropleth\"}], \"contour\": [{\"colorbar\": {\"outlinewidth\": 0, \"ticks\": \"\"}, \"colorscale\": [[0.0, \"#0d0887\"], [0.1111111111111111, \"#46039f\"], [0.2222222222222222, \"#7201a8\"], [0.3333333333333333, \"#9c179e\"], [0.4444444444444444, \"#bd3786\"], [0.5555555555555556, \"#d8576b\"], [0.6666666666666666, \"#ed7953\"], [0.7777777777777778, \"#fb9f3a\"], [0.8888888888888888, \"#fdca26\"], [1.0, \"#f0f921\"]], \"type\": \"contour\"}], \"contourcarpet\": [{\"colorbar\": {\"outlinewidth\": 0, \"ticks\": \"\"}, \"type\": \"contourcarpet\"}], \"heatmap\": [{\"colorbar\": {\"outlinewidth\": 0, \"ticks\": \"\"}, \"colorscale\": [[0.0, \"#0d0887\"], [0.1111111111111111, \"#46039f\"], [0.2222222222222222, \"#7201a8\"], [0.3333333333333333, \"#9c179e\"], [0.4444444444444444, \"#bd3786\"], [0.5555555555555556, \"#d8576b\"], [0.6666666666666666, \"#ed7953\"], [0.7777777777777778, \"#fb9f3a\"], [0.8888888888888888, \"#fdca26\"], [1.0, \"#f0f921\"]], \"type\": \"heatmap\"}], \"heatmapgl\": [{\"colorbar\": {\"outlinewidth\": 0, \"ticks\": \"\"}, \"colorscale\": [[0.0, \"#0d0887\"], [0.1111111111111111, \"#46039f\"], [0.2222222222222222, \"#7201a8\"], [0.3333333333333333, \"#9c179e\"], [0.4444444444444444, \"#bd3786\"], [0.5555555555555556, \"#d8576b\"], [0.6666666666666666, \"#ed7953\"], [0.7777777777777778, \"#fb9f3a\"], [0.8888888888888888, \"#fdca26\"], [1.0, \"#f0f921\"]], \"type\": \"heatmapgl\"}], \"histogram\": [{\"marker\": {\"colorbar\": {\"outlinewidth\": 0, \"ticks\": \"\"}}, \"type\": \"histogram\"}], \"histogram2d\": [{\"colorbar\": {\"outlinewidth\": 0, \"ticks\": \"\"}, \"colorscale\": [[0.0, \"#0d0887\"], [0.1111111111111111, \"#46039f\"], [0.2222222222222222, \"#7201a8\"], [0.3333333333333333, \"#9c179e\"], [0.4444444444444444, \"#bd3786\"], [0.5555555555555556, \"#d8576b\"], [0.6666666666666666, \"#ed7953\"], [0.7777777777777778, \"#fb9f3a\"], [0.8888888888888888, \"#fdca26\"], [1.0, \"#f0f921\"]], \"type\": \"histogram2d\"}], \"histogram2dcontour\": [{\"colorbar\": {\"outlinewidth\": 0, \"ticks\": \"\"}, \"colorscale\": [[0.0, \"#0d0887\"], [0.1111111111111111, \"#46039f\"], [0.2222222222222222, \"#7201a8\"], [0.3333333333333333, \"#9c179e\"], [0.4444444444444444, \"#bd3786\"], [0.5555555555555556, \"#d8576b\"], [0.6666666666666666, \"#ed7953\"], [0.7777777777777778, \"#fb9f3a\"], [0.8888888888888888, \"#fdca26\"], [1.0, \"#f0f921\"]], \"type\": \"histogram2dcontour\"}], \"mesh3d\": [{\"colorbar\": {\"outlinewidth\": 0, \"ticks\": \"\"}, \"type\": \"mesh3d\"}], \"parcoords\": [{\"line\": {\"colorbar\": {\"outlinewidth\": 0, \"ticks\": \"\"}}, \"type\": \"parcoords\"}], \"pie\": [{\"automargin\": true, \"type\": \"pie\"}], \"scatter\": [{\"marker\": {\"colorbar\": {\"outlinewidth\": 0, \"ticks\": \"\"}}, \"type\": \"scatter\"}], \"scatter3d\": [{\"line\": {\"colorbar\": {\"outlinewidth\": 0, \"ticks\": \"\"}}, \"marker\": {\"colorbar\": {\"outlinewidth\": 0, \"ticks\": \"\"}}, \"type\": \"scatter3d\"}], \"scattercarpet\": [{\"marker\": {\"colorbar\": {\"outlinewidth\": 0, \"ticks\": \"\"}}, \"type\": \"scattercarpet\"}], \"scattergeo\": [{\"marker\": {\"colorbar\": {\"outlinewidth\": 0, \"ticks\": \"\"}}, \"type\": \"scattergeo\"}], \"scattergl\": [{\"marker\": {\"colorbar\": {\"outlinewidth\": 0, \"ticks\": \"\"}}, \"type\": \"scattergl\"}], \"scattermapbox\": [{\"marker\": {\"colorbar\": {\"outlinewidth\": 0, \"ticks\": \"\"}}, \"type\": \"scattermapbox\"}], \"scatterpolar\": [{\"marker\": {\"colorbar\": {\"outlinewidth\": 0, \"ticks\": \"\"}}, \"type\": \"scatterpolar\"}], \"scatterpolargl\": [{\"marker\": {\"colorbar\": {\"outlinewidth\": 0, \"ticks\": \"\"}}, \"type\": \"scatterpolargl\"}], \"scatterternary\": [{\"marker\": {\"colorbar\": {\"outlinewidth\": 0, \"ticks\": \"\"}}, \"type\": \"scatterternary\"}], \"surface\": [{\"colorbar\": {\"outlinewidth\": 0, \"ticks\": \"\"}, \"colorscale\": [[0.0, \"#0d0887\"], [0.1111111111111111, \"#46039f\"], [0.2222222222222222, \"#7201a8\"], [0.3333333333333333, \"#9c179e\"], [0.4444444444444444, \"#bd3786\"], [0.5555555555555556, \"#d8576b\"], [0.6666666666666666, \"#ed7953\"], [0.7777777777777778, \"#fb9f3a\"], [0.8888888888888888, \"#fdca26\"], [1.0, \"#f0f921\"]], \"type\": \"surface\"}], \"table\": [{\"cells\": {\"fill\": {\"color\": \"#EBF0F8\"}, \"line\": {\"color\": \"white\"}}, \"header\": {\"fill\": {\"color\": \"#C8D4E3\"}, \"line\": {\"color\": \"white\"}}, \"type\": \"table\"}]}, \"layout\": {\"annotationdefaults\": {\"arrowcolor\": \"#2a3f5f\", \"arrowhead\": 0, \"arrowwidth\": 1}, \"autotypenumbers\": \"strict\", \"coloraxis\": {\"colorbar\": {\"outlinewidth\": 0, \"ticks\": \"\"}}, \"colorscale\": {\"diverging\": [[0, \"#8e0152\"], [0.1, \"#c51b7d\"], [0.2, \"#de77ae\"], [0.3, \"#f1b6da\"], [0.4, \"#fde0ef\"], [0.5, \"#f7f7f7\"], [0.6, \"#e6f5d0\"], [0.7, \"#b8e186\"], [0.8, \"#7fbc41\"], [0.9, \"#4d9221\"], [1, \"#276419\"]], \"sequential\": [[0.0, \"#0d0887\"], [0.1111111111111111, \"#46039f\"], [0.2222222222222222, \"#7201a8\"], [0.3333333333333333, \"#9c179e\"], [0.4444444444444444, \"#bd3786\"], [0.5555555555555556, \"#d8576b\"], [0.6666666666666666, \"#ed7953\"], [0.7777777777777778, \"#fb9f3a\"], [0.8888888888888888, \"#fdca26\"], [1.0, \"#f0f921\"]], \"sequentialminus\": [[0.0, \"#0d0887\"], [0.1111111111111111, \"#46039f\"], [0.2222222222222222, \"#7201a8\"], [0.3333333333333333, \"#9c179e\"], [0.4444444444444444, \"#bd3786\"], [0.5555555555555556, \"#d8576b\"], [0.6666666666666666, \"#ed7953\"], [0.7777777777777778, \"#fb9f3a\"], [0.8888888888888888, \"#fdca26\"], [1.0, \"#f0f921\"]]}, \"colorway\": [\"#636efa\", \"#EF553B\", \"#00cc96\", \"#ab63fa\", \"#FFA15A\", \"#19d3f3\", \"#FF6692\", \"#B6E880\", \"#FF97FF\", \"#FECB52\"], \"font\": {\"color\": \"#2a3f5f\"}, \"geo\": {\"bgcolor\": \"white\", \"lakecolor\": \"white\", \"landcolor\": \"#E5ECF6\", \"showlakes\": true, \"showland\": true, \"subunitcolor\": \"white\"}, \"hoverlabel\": {\"align\": \"left\"}, \"hovermode\": \"closest\", \"mapbox\": {\"style\": \"light\"}, \"paper_bgcolor\": \"white\", \"plot_bgcolor\": \"#E5ECF6\", \"polar\": {\"angularaxis\": {\"gridcolor\": \"white\", \"linecolor\": \"white\", \"ticks\": \"\"}, \"bgcolor\": \"#E5ECF6\", \"radialaxis\": {\"gridcolor\": \"white\", \"linecolor\": \"white\", \"ticks\": \"\"}}, \"scene\": {\"xaxis\": {\"backgroundcolor\": \"#E5ECF6\", \"gridcolor\": \"white\", \"gridwidth\": 2, \"linecolor\": \"white\", \"showbackground\": true, \"ticks\": \"\", \"zerolinecolor\": \"white\"}, \"yaxis\": {\"backgroundcolor\": \"#E5ECF6\", \"gridcolor\": \"white\", \"gridwidth\": 2, \"linecolor\": \"white\", \"showbackground\": true, \"ticks\": \"\", \"zerolinecolor\": \"white\"}, \"zaxis\": {\"backgroundcolor\": \"#E5ECF6\", \"gridcolor\": \"white\", \"gridwidth\": 2, \"linecolor\": \"white\", \"showbackground\": true, \"ticks\": \"\", \"zerolinecolor\": \"white\"}}, \"shapedefaults\": {\"line\": {\"color\": \"#2a3f5f\"}}, \"ternary\": {\"aaxis\": {\"gridcolor\": \"white\", \"linecolor\": \"white\", \"ticks\": \"\"}, \"baxis\": {\"gridcolor\": \"white\", \"linecolor\": \"white\", \"ticks\": \"\"}, \"bgcolor\": \"#E5ECF6\", \"caxis\": {\"gridcolor\": \"white\", \"linecolor\": \"white\", \"ticks\": \"\"}}, \"title\": {\"x\": 0.05}, \"xaxis\": {\"automargin\": true, \"gridcolor\": \"white\", \"linecolor\": \"white\", \"ticks\": \"\", \"title\": {\"standoff\": 15}, \"zerolinecolor\": \"white\", \"zerolinewidth\": 2}, \"yaxis\": {\"automargin\": true, \"gridcolor\": \"white\", \"linecolor\": \"white\", \"ticks\": \"\", \"title\": {\"standoff\": 15}, \"zerolinecolor\": \"white\", \"zerolinewidth\": 2}}}, \"title\": {\"text\": \"PCA\"}, \"xaxis\": {\"anchor\": \"y\", \"domain\": [0.0, 1.0], \"title\": {\"text\": \"PC 1\"}}, \"yaxis\": {\"anchor\": \"x\", \"domain\": [0.0, 1.0], \"title\": {\"text\": \"PC 2\"}}},                        {\"responsive\": true}                    ).then(function(){\n",
       "                            \n",
       "var gd = document.getElementById('bcef3493-63c5-4cee-bc0f-fa27649746a3');\n",
       "var x = new MutationObserver(function (mutations, observer) {{\n",
       "        var display = window.getComputedStyle(gd).display;\n",
       "        if (!display || display === 'none') {{\n",
       "            console.log([gd, 'removed!']);\n",
       "            Plotly.purge(gd);\n",
       "            observer.disconnect();\n",
       "        }}\n",
       "}});\n",
       "\n",
       "// Listen for the removal of the full notebook cells\n",
       "var notebookContainer = gd.closest('#notebook-container');\n",
       "if (notebookContainer) {{\n",
       "    x.observe(notebookContainer, {childList: true});\n",
       "}}\n",
       "\n",
       "// Listen for the clearing of the current output cell\n",
       "var outputEl = gd.closest('.output');\n",
       "if (outputEl) {{\n",
       "    x.observe(outputEl, {childList: true});\n",
       "}}\n",
       "\n",
       "                        })                };                });            </script>        </div>"
      ]
     },
     "metadata": {},
     "output_type": "display_data"
    }
   ],
   "source": [
    "paths = ['Extracted Characters/Mi Fu - Poem Written in a Boat on the Wu River/',\n",
    "         'Extracted Characters/Emperor Huizong - Finches and bamboo/',\n",
    "         'Extracted Characters/Su Shi - Inscription of Hanshi/',\n",
    "         'Extracted Characters/WangXiZhi - On the Seventeenth Day/',\n",
    "         'Extracted Characters/Mi Fu - On Cursive Calligraphy/']\n",
    "label_list = ['Mi Fu (Wu River)',\n",
    "             'Huizong',\n",
    "             'Su Shi',\n",
    "             'WangXiZhi',\n",
    "             'Mi Fu (On Cursive Calligraphy)']\n",
    "invert_list = [True,\n",
    "              True,\n",
    "              True,\n",
    "              False,\n",
    "              True]\n",
    "\n",
    "# Construct labeled dataset of contour angle histograms\n",
    "X_list = []\n",
    "labels = []\n",
    "for i, path in enumerate(paths):\n",
    "    label = label_list[i]\n",
    "    invert = invert_list[i]\n",
    "    if invert:\n",
    "        X = analyze_images_in_path(path, invert=True)\n",
    "    else:\n",
    "        X = analyze_images_in_path(path, invert=False)\n",
    "    plot_mu_and_K(X, title=f'{label} ({X.shape[1]} images)', filename=f'Test/mu+K_{label.replace(\" \", \"\")}.png')\n",
    "    X_list.append(X)\n",
    "    labels += [label] * X.shape[1]\n",
    "    \n",
    "X_total =  np.vstack([X.T for X in X_list])\n",
    "\n",
    "# Perform PCA\n",
    "pca = PCA(n_components=2)\n",
    "components = pca.fit_transform(X_total)\n",
    "print(f'# of datapoints: {len(components)}')\n",
    "print(f'len(labels) = {len(labels)}')\n",
    "assert(len(labels) == len(components))\n",
    "total_var = pca.explained_variance_ratio_.sum() * 100\n",
    "print('Total explained variance = {:0.2f}%'.format(total_var))\n",
    "\n",
    "# Plot results with Plotly\n",
    "fig = px.scatter(components, x=0, y=1, color=labels)\n",
    "fig.update_layout(\n",
    "    title=\"PCA\",\n",
    "    xaxis_title=\"PC 1\",\n",
    "    yaxis_title=\"PC 2\",\n",
    "    legend_title=\"Class\",\n",
    "    font=dict(\n",
    "        family=\"Courier New, monospace\",\n",
    "        size=18,\n",
    "        color=\"RebeccaPurple\"\n",
    "    )\n",
    ")\n",
    "fig.show()\n",
    "fig.write_image('Test/PCA_Plotly_5.png')"
   ]
  },
  {
   "cell_type": "code",
   "execution_count": 58,
   "id": "married-clause",
   "metadata": {},
   "outputs": [
    {
     "data": {
      "application/vnd.plotly.v1+json": {
       "config": {
        "plotlyServerURL": "https://plot.ly"
       },
       "data": [
        {
         "hovertemplate": "color=Mi Fu (Wu River)<br>PC 1=%{x}<br>PC 2=%{y}<br>PC 3=%{z}<br>size=%{marker.size}<extra></extra>",
         "legendgroup": "Mi Fu (Wu River)",
         "marker": {
          "color": "#636efa",
          "size": [
           0.001,
           0.001,
           0.001,
           0.001,
           0.001,
           0.001,
           0.001,
           0.001,
           0.001,
           0.001,
           0.001,
           0.001,
           0.001,
           0.001,
           0.001,
           0.001,
           0.001,
           0.001,
           0.001,
           0.001,
           0.001,
           0.001,
           0.001,
           0.001,
           0.001,
           0.001,
           0.001,
           0.001,
           0.001,
           0.001,
           0.001,
           0.001,
           0.001,
           0.001,
           0.001,
           0.001,
           0.001,
           0.001,
           0.001,
           0.001,
           0.001,
           0.001,
           0.001,
           0.001,
           0.001,
           0.001,
           0.001,
           0.001,
           0.001,
           0.001,
           0.001,
           0.001,
           0.001,
           0.001,
           0.001,
           0.001,
           0.001,
           0.001,
           0.001,
           0.001,
           0.001,
           0.001,
           0.001,
           0.001,
           0.001,
           0.001,
           0.001,
           0.001,
           0.001,
           0.001,
           0.001,
           0.001,
           0.001,
           0.001,
           0.001,
           0.001,
           0.001,
           0.001,
           0.001,
           0.001,
           0.001,
           0.001,
           0.001,
           0.001,
           0.001,
           0.001,
           0.001,
           0.001,
           0.001,
           0.001,
           0.001
          ],
          "sizemode": "area",
          "sizeref": 2.5e-06,
          "symbol": "circle"
         },
         "mode": "markers",
         "name": "Mi Fu (Wu River)",
         "scene": "scene",
         "showlegend": true,
         "type": "scatter3d",
         "x": [
          -0.03583749924438383,
          -0.08530072696229386,
          0.03179992814110848,
          -0.0462048398520141,
          -0.00662589012765505,
          -0.028691924298985715,
          -0.014096134571719649,
          0.0006379414864818198,
          -0.0735198016792829,
          -0.09306587221177916,
          -0.04275339916844814,
          -0.04654797097301047,
          -0.052995450358213,
          -0.023958440922224277,
          0.053770835722751806,
          -0.05741497641783599,
          0.07766088453778368,
          -0.08619135258131119,
          -0.03209089419228452,
          -0.07982399624927841,
          -0.05700047139964406,
          -0.0366778363893874,
          -0.013537454219824004,
          -0.06362948735752355,
          -0.02743997170395118,
          -0.02134630698197029,
          -0.06026527229120976,
          0.034079369181244275,
          -0.0753570321460514,
          -0.05594302397474567,
          -0.056745123860030035,
          -0.06731374628276338,
          -0.031190357928843445,
          -0.07567419043900286,
          -0.07115136891417703,
          -0.041699587984634516,
          0.03222022951551064,
          0.027030230044997154,
          0.016777844316963275,
          -0.002558378186235947,
          -0.029178245277111447,
          -0.008752506315626225,
          -0.06205831068085808,
          -0.15313712470559943,
          0.10751678933476862,
          0.0034115508577777526,
          0.06779173589521136,
          -0.10652193028692708,
          -0.09938785412712846,
          -0.0674817144351528,
          -0.007488599501929948,
          -0.14479783582365052,
          -0.0758333672244601,
          0.00469345503674247,
          -0.030070565279688356,
          0.0477758996582358,
          -0.15822422081070545,
          -0.12483666608031435,
          0.008086087542619143,
          0.03583510914418731,
          -0.07128185722141281,
          -0.019073727031899825,
          0.04108107706308096,
          0.04701675338318641,
          -0.022652507502849806,
          -0.0748423088290476,
          -0.13023250915968282,
          -0.0716681801443647,
          0.02607415083209076,
          -0.06902779339118094,
          0.2820571369723137,
          -0.08752635727006569,
          0.016964453245108875,
          -0.052460689293795666,
          -0.0021158049109024943,
          -0.014080050309785859,
          -0.07355000250446467,
          -0.054007061870647965,
          -0.0020835310285142014,
          0.030256366031783163,
          0.007234836152243188,
          -0.1268918021092648,
          -0.116548532054197,
          -0.031912600667137345,
          -0.011317491641949184,
          -0.1049730207749619,
          0.05453609691773244,
          -0.21317676720904027,
          -0.17057444853603748,
          -0.04604701193238005,
          0.052464458859855595
         ],
         "y": [
          0.031316307333449894,
          0.06189609524847057,
          -0.047751833779149856,
          -0.001606986642956773,
          0.009816446884956477,
          -0.003838460088938734,
          -0.0394387311952412,
          -0.00857269570920815,
          0.04039341815541813,
          0.03369084405370174,
          0.037811214102312855,
          -0.0006186773912707586,
          -0.014583427525298742,
          0.052032998065771,
          -0.03134371815916847,
          -0.026886022898828636,
          -0.031032382252537002,
          -0.018123116583434726,
          0.06368096368153646,
          -0.026503976902382393,
          0.00031492320187901225,
          0.0035258387769173992,
          -0.03491084745775478,
          0.023213442770312325,
          -0.032532442598496435,
          0.021211977783168388,
          -0.013722106537817646,
          0.0007632243607293953,
          -0.0008746142466988663,
          0.040898753531079385,
          -0.007976392941335697,
          0.010153599563362224,
          0.006020987199815517,
          0.07107074121107221,
          -0.12185973494782366,
          -0.01678839450688453,
          -0.009428885466116112,
          0.015739228759546253,
          0.04239758947529168,
          -0.03299520825230964,
          0.027474226733675486,
          -0.05491365719285173,
          -0.03173720080539532,
          0.03245471718983331,
          0.01892586480302316,
          0.0185967694054151,
          0.036633045441837056,
          -0.04135262016680572,
          -0.08010142303230901,
          -0.03267547190749087,
          0.029783866182964042,
          0.04810404838556004,
          -0.04350715217057567,
          -0.08839065068804618,
          0.007269696289325148,
          0.04313527007757528,
          -0.04897377492294644,
          -0.09051356406588261,
          -0.03564149114044359,
          -0.00364676357810255,
          0.025055044035545808,
          0.017330412817870493,
          -0.05504508983602969,
          -0.05011149549691209,
          0.043833595291401906,
          -0.06815164802852418,
          -0.01353749632158323,
          -0.07905759618794302,
          -0.04078733120400956,
          -0.014896275820427202,
          0.0980843521333747,
          0.047895054878824485,
          -0.021059258071904195,
          -0.0006964463193982875,
          0.01722335174700265,
          -0.07149124719581047,
          -0.012127544770793785,
          0.0275690715578242,
          0.03729178194689179,
          0.014354929227128728,
          0.0013886089691132733,
          0.00015668213588165432,
          0.02159612691327279,
          -0.10180016329070785,
          -0.10904198666125363,
          0.005752738035715597,
          -0.05286620862185881,
          0.05344846322673121,
          -0.02424398268613486,
          -0.04593936153110695,
          -0.04307433958952909
         ],
         "z": [
          0.04230821726614468,
          -0.0006665606812723001,
          -0.04408010497195941,
          -0.006934985717676011,
          -0.0280270041583799,
          -0.0029326060009380425,
          -0.015730318356432477,
          -0.03201273006998665,
          -0.012161698333906986,
          -0.009828877818287894,
          -0.012720022988442343,
          -0.0246540277610196,
          -0.028434338961060193,
          -0.006693488383398382,
          -0.04763373808238543,
          -0.029134544605380407,
          -0.03776401101310404,
          0.0003963078957995219,
          0.10173923608248993,
          0.009958273603934887,
          0.02832438074917302,
          -0.001744661352264645,
          -0.023374719374640206,
          -0.016177901977960436,
          -0.01752275582789375,
          0.009263483884850909,
          -0.0039132569872463155,
          -0.03009207470504923,
          0.030494210617803018,
          -0.016259587700932915,
          0.0335204057322997,
          0.016100590068921315,
          0.00976162714950892,
          0.01882079077648602,
          0.024550590507644604,
          0.021828650940160038,
          0.06583874383273354,
          0.028586201887980115,
          -0.09952106261750315,
          0.04823998974174159,
          0.010956545799901343,
          -0.0009739129201944204,
          0.029141340621428174,
          -0.019419920446437356,
          -0.06737055265232697,
          0.004011903802060156,
          0.06659011097674596,
          0.008560064986988618,
          -0.02374042949591795,
          0.03311231064852006,
          0.054016335140936435,
          -0.029676993894267367,
          0.02831187425422921,
          -0.0009651959738861763,
          0.011820540663670108,
          0.04233977799834486,
          -0.020972334969553405,
          -0.013410366334746002,
          0.0868208549816263,
          0.03952142847307162,
          -0.017113898517146765,
          0.06586555093250754,
          0.08117047944550794,
          -0.010314673006941262,
          -0.057998066462039866,
          -0.03162058477583059,
          -0.03571779604697688,
          0.03358734962809767,
          -0.004483070021989678,
          -0.04956718329078799,
          -0.06289321334746141,
          -0.008516072329210887,
          -0.00557822776134929,
          0.025072174600417135,
          -0.004228496087217674,
          -0.03705533945023075,
          0.030755450679458254,
          0.050682775697618136,
          -0.014880137558445973,
          0.009703608606585397,
          0.006360801504958493,
          -0.027449604920160485,
          -0.022925285782990086,
          -0.02460883971637551,
          -0.01638096371360408,
          -0.004992374619958955,
          -0.026816166897401832,
          -0.033590894387496455,
          -0.02337119056701268,
          -0.01620678885223774,
          -0.01720524332836755
         ]
        },
        {
         "hovertemplate": "color=Huizong<br>PC 1=%{x}<br>PC 2=%{y}<br>PC 3=%{z}<br>size=%{marker.size}<extra></extra>",
         "legendgroup": "Huizong",
         "marker": {
          "color": "#EF553B",
          "size": [
           0.001,
           0.001,
           0.001,
           0.001,
           0.001,
           0.001,
           0.001,
           0.001,
           0.001,
           0.001,
           0.001,
           0.001,
           0.001,
           0.001,
           0.001,
           0.001,
           0.001,
           0.001,
           0.001,
           0.001,
           0.001,
           0.001,
           0.001,
           0.001,
           0.001,
           0.001,
           0.001,
           0.001,
           0.001,
           0.001,
           0.001,
           0.001,
           0.001,
           0.001,
           0.001,
           0.001,
           0.001,
           0.001,
           0.001,
           0.001,
           0.001,
           0.001,
           0.001,
           0.001,
           0.001,
           0.001,
           0.001,
           0.001,
           0.001,
           0.001,
           0.001,
           0.001,
           0.001,
           0.001,
           0.001,
           0.001,
           0.001,
           0.001,
           0.001,
           0.001,
           0.001,
           0.001,
           0.001
          ],
          "sizemode": "area",
          "sizeref": 2.5e-06,
          "symbol": "circle"
         },
         "mode": "markers",
         "name": "Huizong",
         "scene": "scene",
         "showlegend": true,
         "type": "scatter3d",
         "x": [
          0.017661165133708228,
          0.09766782329364311,
          0.015724097029812936,
          -0.10884294241120335,
          0.12278034558174987,
          -0.014042146885541227,
          -0.0034564647778877427,
          -0.09794174889668802,
          -0.030522361039967725,
          0.05698294348535679,
          0.020851236508393843,
          0.034578623445561556,
          -0.048428223861567976,
          -0.038398077643466005,
          0.032589814930957084,
          -0.025901229929626395,
          0.20982553615311844,
          -0.055621405022245746,
          0.1149673854272353,
          0.03605526112493509,
          -0.0335453356023233,
          0.06147397457113921,
          0.003174822808725278,
          -0.002260602437072762,
          0.06242765524682177,
          0.08893047377423716,
          0.03318015297473503,
          0.03796580298885479,
          -0.033004716718875775,
          -0.018790769781536768,
          0.08089083516019549,
          -0.024492971007423425,
          -0.014064736937239409,
          -0.06278491701882116,
          0.02522270096487955,
          -0.03630703625401002,
          0.07668538844454198,
          0.031392424149773626,
          -0.06693366237061255,
          -0.052843290962262764,
          0.12527919192001574,
          -0.04343541561762417,
          0.01307595638466008,
          -0.0827028404029129,
          0.06563279326482603,
          0.05951752019821333,
          0.05163862216508792,
          0.052616008864649795,
          0.03079572128687324,
          0.013112040466306867,
          0.028343070489132063,
          0.018383878195690016,
          0.04651247877632275,
          -0.12611524987242848,
          0.012751731559232957,
          0.04436986210629862,
          0.07150597522619126,
          0.10530764404557898,
          -0.024294522098525062,
          0.014027690248415723,
          -0.0853223888963392,
          -0.040901044845154014,
          0.04256645518854364
         ],
         "y": [
          0.0466856858664934,
          -0.011976470323188047,
          0.037030812618659495,
          0.035194175502547886,
          0.01810178647287405,
          0.0005803771844279446,
          0.055131233584795325,
          0.017305710533709932,
          0.00010368239903824891,
          0.03418761560225804,
          0.003910511100307365,
          -0.027150745626273787,
          0.017877186685423846,
          -0.01853437102719363,
          -0.019511024347221424,
          0.02816683635526243,
          0.042790385562296036,
          -0.053361151568230354,
          -0.01566639774721529,
          0.01779594267036057,
          0.04975847258276112,
          -0.013425001191505206,
          0.03870287188235765,
          -0.027413475522468957,
          -0.02867880015581646,
          0.026701397526977085,
          0.01358891940553276,
          0.00016780236403478367,
          0.03145869415497621,
          0.03353778089316112,
          -0.02858678113708184,
          -0.025001373165400617,
          0.02423373477188241,
          -0.048385645016752764,
          0.010507989947592554,
          0.05608890995367191,
          0.003370976276894661,
          -0.056268686505895116,
          0.059474972788551086,
          0.03932992647672544,
          0.013140386744104534,
          -0.027873358385267902,
          -0.016506919100535342,
          0.0761830060875104,
          -0.03089315220269957,
          0.07057114343254048,
          -0.03574692406064298,
          -0.027689638450740073,
          0.07604123847031224,
          0.03165869520459188,
          -0.021549041802653424,
          0.0007159321874373965,
          0.03355419183055545,
          0.09259870213989037,
          0.009972302738654617,
          -0.005703108158620318,
          0.027111159690100625,
          -0.029091876418308734,
          0.06355483244110256,
          -0.03401976868877638,
          0.013615972879538195,
          0.045743178547418495,
          0.035681285490002414
         ],
         "z": [
          0.02827211117307571,
          -0.013724509232662626,
          0.04033414233749762,
          -0.0018880111699087708,
          0.03184238676205274,
          0.006177882590721519,
          -0.006154353867651025,
          -0.022945926348182523,
          0.03135534023660262,
          -0.0330931582606824,
          -0.007239644558686243,
          -0.04366925963109743,
          0.0013054538723452109,
          0.017105286295537703,
          -0.03649604344887775,
          -0.02051870591714609,
          -0.011340147617525885,
          0.003240332135051717,
          -0.024508963088749898,
          0.03361602019156132,
          0.016512041698170096,
          -0.011251835315270171,
          0.0152250141292381,
          -0.01256600010570654,
          -0.033155588991205485,
          0.058776416571321585,
          0.018965322954737858,
          -0.015055023956324886,
          0.019802539918449543,
          0.030512342609476755,
          0.09025601739702178,
          -0.01710753173593732,
          -0.02123593852584329,
          8.92600365303514e-05,
          0.029277436309630107,
          -0.0030985620656318754,
          0.015056573386771067,
          0.002104911697855332,
          -0.0007580443467288566,
          -0.007721321884713758,
          -0.04826701529514186,
          0.014600704789905886,
          -0.020560671252802355,
          -0.01555451936824421,
          -0.047920851055258944,
          -0.010342236584351254,
          0.0078092261668155005,
          0.000314724185119155,
          0.03926341982885723,
          -0.0054801868412908674,
          -0.013320272417932426,
          0.013410649288670654,
          0.00589994537090465,
          0.011709198700926723,
          0.046654825899816385,
          0.007927394774691706,
          -0.03341406570740511,
          0.08468706218829028,
          -8.693835349288588e-05,
          -0.008918323495594026,
          -0.03136541611054595,
          -0.030025618026289173,
          -0.04002709701692516
         ]
        },
        {
         "hovertemplate": "color=Su Shi<br>PC 1=%{x}<br>PC 2=%{y}<br>PC 3=%{z}<br>size=%{marker.size}<extra></extra>",
         "legendgroup": "Su Shi",
         "marker": {
          "color": "#00cc96",
          "size": [
           0.001,
           0.001,
           0.001,
           0.001,
           0.001,
           0.001,
           0.001,
           0.001,
           0.001,
           0.001,
           0.001,
           0.001,
           0.001,
           0.001,
           0.001,
           0.001,
           0.001,
           0.001,
           0.001,
           0.001,
           0.001,
           0.001,
           0.001,
           0.001,
           0.001,
           0.001,
           0.001,
           0.001,
           0.001,
           0.001,
           0.001,
           0.001,
           0.001,
           0.001,
           0.001,
           0.001,
           0.001,
           0.001,
           0.001,
           0.001,
           0.001,
           0.001,
           0.001,
           0.001,
           0.001,
           0.001,
           0.001,
           0.001,
           0.001,
           0.001,
           0.001,
           0.001,
           0.001,
           0.001,
           0.001,
           0.001,
           0.001,
           0.001,
           0.001,
           0.001,
           0.001,
           0.001,
           0.001,
           0.001,
           0.001,
           0.001,
           0.001,
           0.001,
           0.001,
           0.001,
           0.001,
           0.001,
           0.001,
           0.001,
           0.001,
           0.001,
           0.001,
           0.001,
           0.001,
           0.001,
           0.001,
           0.001,
           0.001,
           0.001,
           0.001,
           0.001,
           0.001,
           0.001,
           0.001,
           0.001,
           0.001,
           0.001,
           0.001,
           0.001,
           0.001,
           0.001,
           0.001,
           0.001,
           0.001,
           0.001,
           0.001,
           0.001,
           0.001,
           0.001,
           0.001,
           0.001,
           0.001,
           0.001,
           0.001,
           0.001,
           0.001,
           0.001,
           0.001,
           0.001,
           0.001,
           0.001,
           0.001,
           0.001,
           0.001
          ],
          "sizemode": "area",
          "sizeref": 2.5e-06,
          "symbol": "circle"
         },
         "mode": "markers",
         "name": "Su Shi",
         "scene": "scene",
         "showlegend": true,
         "type": "scatter3d",
         "x": [
          -0.11117346380856949,
          0.01067016564401862,
          0.04489471331655683,
          0.03468628332254741,
          -0.17432216381412685,
          0.002754085400025542,
          0.005124749521602094,
          0.1907949669717646,
          0.18969250560115924,
          0.10242714280023915,
          -0.01647976513496724,
          -0.07510590617216133,
          0.043467796835372344,
          0.06957864446383662,
          0.05052379247625757,
          0.07964901459249515,
          0.07238848158617435,
          -0.07435918194042387,
          0.11131890940257366,
          0.06560977851559778,
          -0.023752354368120086,
          0.04079733042649356,
          -0.18880792139086516,
          0.0815100519078671,
          0.07712653722025199,
          -0.12172090820979452,
          -0.12010848748882866,
          -0.08768292359934324,
          0.04862200604796071,
          0.030979979043456393,
          -0.045080203348525104,
          0.0011130016931659185,
          0.06285034382856756,
          0.12626645276950232,
          0.07446411057379028,
          -0.12115287815507125,
          -0.21211033662403117,
          -0.13597893472581593,
          0.010128861740652998,
          0.06675167806460408,
          0.05792353233154842,
          0.026030952218138406,
          0.08050992472745488,
          -0.09152702854264662,
          -0.06304015965762734,
          -0.04267174863593788,
          -0.008022356562484635,
          0.09718067346146445,
          -0.05639119861835448,
          -0.006339131774466663,
          0.011326361901530536,
          -0.06646513867224643,
          0.10940196831248415,
          -0.07362523701423426,
          -0.043802893670513446,
          0.04014543037743317,
          -0.0025235465684807106,
          0.0007492977304986663,
          0.11335400828005425,
          -0.024123690001813424,
          -0.06857520473196543,
          0.06456459216662304,
          0.049730628047152454,
          0.09761097634821217,
          -0.05105920435694574,
          -0.006526390385775608,
          0.06674063386475343,
          0.02245180202904149,
          -0.03490879446724266,
          -0.01905878254529949,
          0.00291678421348838,
          -0.017520394067150252,
          0.12284033829920929,
          0.08947617925970369,
          0.09226839857699913,
          0.052903798269851726,
          0.14386300580467734,
          0.06501515570591464,
          -0.006976845503869725,
          0.029303794942266547,
          0.0033029946250063354,
          -0.04631925549998481,
          -0.029093043131375996,
          -0.037082670489297725,
          0.04822493684654433,
          0.0764108492596536,
          0.11168207581301522,
          -0.08200431532183411,
          -0.0029529506182143185,
          -0.11069996629232691,
          0.06998859373961323,
          -0.06074328684109357,
          -0.14608825406281045,
          0.08184491089706608,
          -0.12275154322802373,
          0.0013019981869702019,
          0.0876182514523059,
          0.1357221872065247,
          0.04913309038549027,
          0.0899600217642799,
          -0.008821237132001763,
          0.1305022493113756,
          0.046246200730317474,
          0.07464930910502952,
          0.03248175013298764,
          -0.022369040997707097,
          0.0018316788172208884,
          -0.007181473441827215,
          0.02487788550832218,
          0.01747268961963934,
          0.06448233123194752,
          0.09276195667541938,
          0.049593258934667026,
          0.0287006475000536,
          -0.16986867234564598,
          0.0711064072396798,
          -0.03688535530385629,
          0.2088025879491894,
          0.006818251722246553
         ],
         "y": [
          0.05363133916778671,
          0.005864218687757101,
          -0.00972197385907075,
          -0.07427001906513937,
          0.03140030292131652,
          -0.004307249484189983,
          0.04505836826362521,
          0.056053830001261296,
          0.06034544248593991,
          0.02479018559571504,
          -0.08668013277013627,
          -0.008123463433278856,
          0.00914054798163555,
          0.025952336999743114,
          0.0066796050050387705,
          0.03196621712057719,
          -0.0036613283521995436,
          0.037132406268043976,
          0.029433899730244895,
          0.0017557411212835554,
          0.04967694027858173,
          0.020409060130194896,
          0.038470230940963156,
          0.015755961698477074,
          -0.015046595215979222,
          0.012824848727619763,
          0.059682778519511225,
          -0.03025984761874815,
          0.0327879191086867,
          -0.0547529438719656,
          -0.049842872807255606,
          -0.023007963016687918,
          0.02272375966341466,
          0.0769474348640593,
          0.011727662063590097,
          0.018660609904254305,
          0.12917668021194184,
          0.02816121602806935,
          -0.0040750889288615625,
          -0.08092975077303807,
          -0.010803483566991057,
          0.05142131494735907,
          0.01904479688481067,
          0.006276710644844074,
          -0.0757266340941438,
          -0.07116189497467404,
          -0.06322174079037364,
          -0.021386167685937114,
          0.0013866355962586835,
          0.027481644579500555,
          0.03321761933508938,
          -0.02878881725277371,
          -0.00958307196684402,
          -0.05052514079041247,
          -0.03793340594375437,
          -0.02618286820288638,
          -0.017470789587130484,
          -0.13070474871780963,
          -0.0255441567119527,
          0.02916182074677887,
          -0.0227809093007866,
          0.06273759160720146,
          -0.017771830269343317,
          0.04305965649624931,
          0.04675762227343938,
          0.04778500637322613,
          -0.02858467867510666,
          -0.053435456546606176,
          -0.06800353615658278,
          0.04779973690972164,
          -0.020287438238426155,
          0.01532834392275201,
          0.0006334846775694478,
          -0.012803654713957084,
          0.03192922199819691,
          -0.04453992265573183,
          0.03532487319762724,
          0.025219572730409708,
          -0.04562232047564066,
          0.034090434690728574,
          -0.02115488262734644,
          -0.027377036796654625,
          0.04244203333143476,
          0.014320038942320224,
          -0.05045841168476528,
          0.02680769696579104,
          0.02068173371396383,
          -0.04660504835608738,
          -0.07080250925018379,
          0.010638401809025012,
          0.011356138112632579,
          -0.10558166926498876,
          0.0628953519029158,
          -0.044937463817613585,
          0.049880574531461434,
          -0.016602585078733266,
          -0.047116217117406954,
          0.013356086049701312,
          -0.02620680332093858,
          -0.03909132991475506,
          -0.07107068357490182,
          -0.05326574833248422,
          -0.024112649672569646,
          0.08483413683008417,
          0.005448382626221189,
          -0.0007193605598451305,
          0.001337759128071046,
          -0.03722348800719262,
          -0.035275288884392034,
          -0.012025705670847146,
          0.03897694545815105,
          0.011205596666880462,
          -0.0021611265172724915,
          -0.019338288611010727,
          0.005569723257407899,
          0.008803012132218735,
          -0.03867916488201153,
          0.04254729640929377,
          -0.0187959630161877
         ],
         "z": [
          -0.03224300618723179,
          -0.035993984578914465,
          0.017168758339489144,
          0.01299213903276843,
          -0.026418507774943555,
          0.0012781495874522133,
          0.021310895073408952,
          -0.004754201235932538,
          0.006794104424251517,
          -0.004604068172897765,
          0.02664757576483005,
          -0.025574957472161538,
          0.015505966872041976,
          -0.01725858676436942,
          -0.019489101791383124,
          0.019675945111432575,
          0.018729214690494742,
          -0.036943778694666064,
          0.028737189007767637,
          -0.028811072107265585,
          -0.040134884218403485,
          0.008599336467698029,
          -0.009961566612348973,
          -0.014081379322271227,
          -0.009165287313604172,
          0.007114591990760477,
          0.0011771593862291492,
          0.011555777749482547,
          -0.01355002949218711,
          -0.046437374597636645,
          0.012467984186389735,
          -0.003685299977065394,
          0.009121366255360044,
          0.04356911906878275,
          -0.03252088230448988,
          -0.021644585899179378,
          -0.09615256351895975,
          0.032931477929232775,
          0.0017146929864561157,
          -0.027957316291788218,
          0.013862581639933688,
          -0.006397508013349502,
          -0.062197991478969004,
          -0.04581445029300174,
          0.0008816709224946879,
          0.02040868859022735,
          -0.006593920616042419,
          -0.057004358644190886,
          -0.0686064912029174,
          -0.05891614652712905,
          0.014188393918900985,
          -0.030182650293257344,
          -0.022290071962937346,
          -0.0018271451391374002,
          0.006305601033991824,
          0.05693171450460442,
          -0.011438332198910025,
          0.027576840127921175,
          0.03134128812285607,
          -0.02525138961961767,
          0.011698866886095137,
          0.025660040482908205,
          0.010176619599939157,
          0.04458324227069623,
          0.0044639714973811855,
          0.01620694150473979,
          0.0042153941834280366,
          0.0054362416168847886,
          -0.004732182660874016,
          -0.007354937224961148,
          -0.019398347883262036,
          0.05205645676260962,
          -0.07226275732389427,
          -0.0092600081545761,
          -0.0317059720374023,
          0.000574042652946197,
          -0.012927941767228158,
          0.020784059394663917,
          0.050774884340590874,
          -0.05167071897986857,
          -0.013820119567687255,
          -0.017603161279401813,
          -0.07285337877895993,
          -0.013111177367915115,
          0.010287549337311745,
          -0.049847025290962806,
          -0.006436367893579563,
          0.044042621939523616,
          -0.00504082905526379,
          -0.0069086842907090966,
          -0.02367237060856003,
          -0.01100120934821716,
          -0.04386009306118032,
          -0.0014387540275513538,
          -0.019638340748062887,
          0.020988308506689837,
          -0.027387789870616228,
          -0.0827842068479283,
          -0.010177313049912077,
          -0.009573718819830134,
          -0.003713150334054158,
          -0.0183432004766174,
          0.0043144234353730895,
          0.011052292107813057,
          0.011140732624046279,
          0.06826850052928775,
          -0.04123029813460352,
          0.027468255590797998,
          0.022297118356579725,
          0.04889840936057561,
          0.025731688726021894,
          -0.02173650476571129,
          -0.028178955989872256,
          -0.0019139942877152373,
          -0.004476772334116049,
          -0.019188515142873484,
          0.00879148652060322,
          -0.060540939837460624,
          -0.03232300325418664
         ]
        },
        {
         "hovertemplate": "color=WangXiZhi<br>PC 1=%{x}<br>PC 2=%{y}<br>PC 3=%{z}<br>size=%{marker.size}<extra></extra>",
         "legendgroup": "WangXiZhi",
         "marker": {
          "color": "#ab63fa",
          "size": [
           0.001,
           0.001,
           0.001,
           0.001,
           0.001,
           0.001,
           0.001,
           0.001,
           0.001,
           0.001,
           0.001,
           0.001,
           0.001,
           0.001,
           0.001,
           0.001,
           0.001,
           0.001,
           0.001,
           0.001,
           0.001,
           0.001,
           0.001,
           0.001,
           0.001,
           0.001,
           0.001,
           0.001,
           0.001,
           0.001,
           0.001,
           0.001,
           0.001,
           0.001,
           0.001,
           0.001,
           0.001,
           0.001,
           0.001,
           0.001,
           0.001,
           0.001,
           0.001,
           0.001,
           0.001,
           0.001,
           0.001,
           0.001,
           0.001,
           0.001,
           0.001,
           0.001,
           0.001,
           0.001,
           0.001,
           0.001,
           0.001,
           0.001,
           0.001,
           0.001,
           0.001,
           0.001,
           0.001,
           0.001,
           0.001,
           0.001,
           0.001,
           0.001,
           0.001,
           0.001,
           0.001,
           0.001,
           0.001,
           0.001,
           0.001,
           0.001,
           0.001,
           0.001,
           0.001,
           0.001,
           0.001,
           0.001,
           0.001,
           0.001,
           0.001,
           0.001,
           0.001,
           0.001,
           0.001,
           0.001,
           0.001,
           0.001,
           0.001,
           0.001,
           0.001
          ],
          "sizemode": "area",
          "sizeref": 2.5e-06,
          "symbol": "circle"
         },
         "mode": "markers",
         "name": "WangXiZhi",
         "scene": "scene",
         "showlegend": true,
         "type": "scatter3d",
         "x": [
          0.0683067357246786,
          -0.05117037941944411,
          -0.01338092227766332,
          0.02318327396648008,
          -0.00043163152028431094,
          -0.005204973013517759,
          -0.011679806984217847,
          -0.0065526046986306916,
          0.05506077265783144,
          0.01700624725137813,
          0.01326606628067304,
          0.011651228886084726,
          0.07426903173479324,
          0.024959071489836414,
          -0.08596706017788114,
          -0.04151471436822484,
          -0.16225065932057708,
          -0.035895822082826156,
          0.04165924954126278,
          0.019337689595094274,
          -0.020404741377994383,
          0.036360764860679434,
          0.0013708913480936027,
          0.01089609940869512,
          0.09834162112452997,
          -0.04627055567380039,
          -0.024139243522774193,
          -0.04620948641275952,
          0.012977795630571184,
          -0.15200892264421784,
          0.09048445176333038,
          -0.0748144688012264,
          -0.0027245940102492076,
          -0.02714605257505114,
          0.05127476785258574,
          0.0013096695593702405,
          -0.036027686293524694,
          -0.06506647778574327,
          0.015390228595190885,
          -0.0021841012637800142,
          0.009022528250648459,
          0.08872056792021911,
          0.07911553686658843,
          0.07683309492100128,
          0.012008650438966383,
          -0.07540913813416691,
          -0.036429312874494704,
          -0.060066377013803185,
          -0.030423456650563185,
          0.042903821863046344,
          0.043680852361874224,
          -0.029307426854518728,
          -0.04904940684565638,
          -0.042075051710391,
          -0.08116876596643596,
          0.04182646764490894,
          -0.034915740143130106,
          -0.017893201194604132,
          0.2203149880267937,
          0.09069489962627404,
          -0.03184870137602781,
          0.11971684786588209,
          -0.061895765344515304,
          -0.013502532817164604,
          0.0021198758227139467,
          0.013945320821822099,
          -0.06733961072062877,
          0.04776659173878243,
          -0.05265795755608439,
          -0.0681900831771014,
          0.07826213347051299,
          0.19321869742172965,
          0.039070049304403,
          -0.04069300536315665,
          -0.032428617612448266,
          -0.0289977420582019,
          -0.018484969334661226,
          0.03111124514408533,
          -0.0022096194571305447,
          -0.19993236254430063,
          0.18202430525883015,
          0.030479090989687634,
          -0.06112263785949471,
          -0.0164396117648907,
          0.008450159559748434,
          -0.04650387843727896,
          -0.02513553736640959,
          0.11901929188418837,
          -0.14044444988228708,
          0.06984291379848089,
          -0.028633563956004963,
          -0.01882475105191517,
          -0.06707055595776887,
          0.032902696237544736,
          -0.026397611305992802
         ],
         "y": [
          -0.05153354260481288,
          0.11477222633094525,
          0.0761610216289528,
          -0.0416639666270893,
          0.03564494182017108,
          0.003264308546642367,
          0.023118592299813653,
          -0.07652377890211624,
          -0.028959375563664895,
          -0.010994007814200686,
          0.039469016978404166,
          -0.04688062790265945,
          -0.04330532889296651,
          0.021690476152877173,
          0.014520939785091435,
          0.06273572403703329,
          0.034115041299331475,
          0.036739213523278934,
          -0.07973225879463498,
          -0.03627059474613622,
          0.007619608584973913,
          0.03247033400121436,
          0.024880895517166893,
          -0.026280702963482252,
          -0.027826231570943202,
          0.06253335533815256,
          0.00842870168371422,
          -0.07649610863221805,
          0.028683184697733247,
          0.014502912137039812,
          -0.05395189438614785,
          0.06100539205127553,
          -0.022899773247706073,
          -0.040695459849218574,
          0.020771126704941287,
          0.040377758807644305,
          -0.04626296240492263,
          0.03582918186934289,
          0.08102608404575297,
          0.022545458113416558,
          -0.044602588498124054,
          0.012615094403972798,
          0.02533622546053527,
          -0.020206312893996443,
          -0.016455631476785377,
          -0.0496829900028162,
          -0.07345870899652882,
          0.03560200847207692,
          -0.029718956714587973,
          -0.10484124904037323,
          0.0135142394346117,
          -0.06384938417634407,
          0.10891591185054646,
          -0.020816885809668385,
          -0.035899750651424166,
          -0.025558837044309637,
          -0.02366457289460037,
          0.008181140640128657,
          0.052589365268404326,
          0.029575726007549083,
          -0.013844834834420214,
          0.06633310805529549,
          0.014141568143429407,
          0.05140762112073091,
          0.04452572059057526,
          -0.02008489364296579,
          0.010451971609289824,
          0.054396270243553,
          -0.016890264429271745,
          0.06840393069144407,
          0.024384549407178133,
          0.052002290542591596,
          0.06404817316141487,
          -0.045077786220174845,
          0.00725492618850635,
          0.03207244212765871,
          -0.07009740826835287,
          0.08447747479198585,
          -0.09730123631090351,
          0.08370668396863495,
          0.04329838210026614,
          -0.013879794434173873,
          0.001951659652401862,
          -0.014852516067859894,
          -0.03215031385511678,
          -0.010843615851166642,
          -0.055185687805073255,
          -0.01888348575332131,
          -0.028892245111494796,
          0.011084521128503073,
          0.10930201322249743,
          -0.05021147953909108,
          0.07135370286309013,
          -0.03444569680098654,
          -0.025403435237116634
         ],
         "z": [
          0.033244914269948446,
          0.030421577408315543,
          0.04893821845938655,
          0.015022770210223513,
          0.008363953265365669,
          0.009879262115898204,
          0.01161236284684558,
          -0.01739239588611756,
          0.03935147792464167,
          0.006993354189064216,
          0.014756363381722017,
          0.06772675244028536,
          -0.028042611776387314,
          0.027835308381915325,
          0.017725557316478575,
          0.022523641230564762,
          -0.011815986967402525,
          0.03485537223687166,
          0.016997207878719885,
          0.05374624990979405,
          0.01790143707950917,
          0.06929320535772072,
          0.004507262293556024,
          0.07238465624883215,
          -0.024753154056574203,
          0.006521783581845579,
          -0.0049328698074314345,
          0.025650657889314993,
          0.002083124097807589,
          -0.008788875398133437,
          -0.03708104847816389,
          0.007618590222248753,
          -0.006243423565921593,
          0.04988298541033344,
          0.020670288978116177,
          -0.014693608366297883,
          0.003911222765015055,
          -0.009387985049486892,
          0.060076189806975856,
          0.001788772279721702,
          -0.00225466121803563,
          -0.004799791673113031,
          0.04299962635273542,
          -0.00015959876933940647,
          -0.026207100650434686,
          0.006969260456799302,
          -0.022976702816398766,
          0.05458968361080612,
          -0.008499947122026444,
          0.003234633004067066,
          -0.0014194260484634502,
          -0.016013129132935938,
          -0.008754383067841341,
          0.0048556666941143465,
          -0.03599750628577413,
          -0.024815019779194803,
          -0.004723754561622214,
          -0.03408706687865813,
          -0.0791411312703157,
          0.020851539440076533,
          0.022581052614241166,
          0.0006820828723047207,
          0.04142919705294361,
          0.017302735550917245,
          0.029406476200750004,
          0.008321026714222135,
          0.00027606537117700144,
          0.001962915172539248,
          0.006286594720242023,
          0.01248897722638465,
          -0.0071566150594716774,
          -0.012541503559925463,
          0.060490475259783336,
          -0.019318296655308213,
          -0.007101678241892454,
          0.003108216788649444,
          0.02259718254647246,
          0.051280727118099674,
          0.006816344744910815,
          -0.026362488689968544,
          -0.013660652872531372,
          -0.013649756273245373,
          0.03475901177099591,
          -0.00599989922862091,
          -0.0311181064128691,
          0.003935495343369073,
          -0.02119023378063979,
          -0.03904133970789506,
          0.0018300790272887015,
          0.06135907246304039,
          -0.03893229461079073,
          0.05017562188294265,
          -0.024063444657340206,
          -0.003440560330333956,
          -0.032502090465321154
         ]
        },
        {
         "hovertemplate": "color=Mi Fu (On Cursive Calligraphy)<br>PC 1=%{x}<br>PC 2=%{y}<br>PC 3=%{z}<br>size=%{marker.size}<extra></extra>",
         "legendgroup": "Mi Fu (On Cursive Calligraphy)",
         "marker": {
          "color": "#FFA15A",
          "size": [
           0.001,
           0.001,
           0.001,
           0.001,
           0.001,
           0.001,
           0.001,
           0.001,
           0.001,
           0.001,
           0.001,
           0.001,
           0.001,
           0.001,
           0.001,
           0.001,
           0.001,
           0.001,
           0.001,
           0.001,
           0.001,
           0.001,
           0.001,
           0.001,
           0.001,
           0.001,
           0.001,
           0.001,
           0.001,
           0.001,
           0.001,
           0.001,
           0.001,
           0.001,
           0.001,
           0.001,
           0.001,
           0.001,
           0.001,
           0.001,
           0.001,
           0.001,
           0.001,
           0.001,
           0.001,
           0.001,
           0.001,
           0.001,
           0.001,
           0.001,
           0.001,
           0.001,
           0.001,
           0.001,
           0.001,
           0.001,
           0.001,
           0.001,
           0.001,
           0.001,
           0.001,
           0.001,
           0.001
          ],
          "sizemode": "area",
          "sizeref": 2.5e-06,
          "symbol": "circle"
         },
         "mode": "markers",
         "name": "Mi Fu (On Cursive Calligraphy)",
         "scene": "scene",
         "showlegend": true,
         "type": "scatter3d",
         "x": [
          0.06142056542589898,
          -0.015352136383171164,
          0.01089773007429611,
          0.12508102748910674,
          0.12776830092498417,
          0.10064777385736884,
          0.016237253453278828,
          -0.06782842167071955,
          -0.037704692959480667,
          -0.11226539292704095,
          0.018615518906163087,
          0.07921318980921041,
          0.031013632682186373,
          -0.08835950078198576,
          -0.029352332699031473,
          -0.16231954035547758,
          0.0683991313745648,
          0.11540818396650697,
          0.1026077261376296,
          0.023147535955733035,
          -0.06459161644285466,
          0.06443524609667209,
          -0.09398765018716786,
          -0.09820920353075531,
          0.04438236483674562,
          -0.1332982836931423,
          -0.01897361844059072,
          -0.17779322647380144,
          -0.0164315836931963,
          -0.14090432478169762,
          0.011041149962992653,
          0.032140805167949656,
          0.0015811253464783023,
          0.037112392698396085,
          -0.12632632619733197,
          -0.11622799280543941,
          0.04768497613079157,
          0.09917534631489315,
          -0.07887623143869557,
          0.14696788439084923,
          -0.041544521058530015,
          -0.10373129597745792,
          -0.017658155229582626,
          0.08503898996835332,
          0.08073163302700473,
          0.0652785301955197,
          0.13595205814390032,
          0.04951432719110756,
          0.1534237660196527,
          0.10029020859605525,
          0.14149658838754178,
          0.07464925284016105,
          -0.0717266779068226,
          0.056862920455296014,
          0.11142252749170838,
          0.01665841845096265,
          -0.0732336062757067,
          -0.15166797649567498,
          -0.006788232850444277,
          0.004260705122321687,
          -0.04386837724987935,
          0.16576625391502486,
          0.1010909973648046
         ],
         "y": [
          0.009032494230197871,
          -0.045425240784674914,
          -0.06570990797803285,
          0.026849782700707495,
          -0.03401640786423629,
          0.025584754753954855,
          0.009253590971806875,
          -0.0473478122979455,
          -0.049274800410182416,
          0.003924309992839285,
          0.04478823808136833,
          0.06071538100554939,
          0.02542268050036005,
          0.0005783798663687084,
          -0.05344983251431846,
          -0.02911916084267646,
          0.018542828065025035,
          -0.008440898672439585,
          0.029374424010756555,
          0.009705883625108335,
          -0.009767127766066728,
          -0.024649909259341022,
          -0.009617858515619875,
          -0.018665197213875898,
          -0.035419157975147116,
          0.0813925170306446,
          0.014755598243936996,
          0.058328010705259864,
          -0.10874217183041938,
          0.047949230362276565,
          0.03354507536834669,
          -0.06700276219888628,
          -0.06111496434776518,
          -0.011132968193339792,
          -0.016797911588957368,
          -0.004095307317305336,
          -0.007646923033232285,
          -0.021601424701843515,
          0.062474434883385936,
          0.03677189983610986,
          0.11603976592894641,
          0.07255006977091709,
          -0.07858457715643156,
          0.13529967341517204,
          0.019556405597062756,
          -0.0948765821826617,
          0.03352462730779495,
          0.014763551185259257,
          0.02258124105131622,
          -0.04017387212132358,
          -0.0062774433053881485,
          -0.08317493516830747,
          -0.008223358483922152,
          -0.014885830322262051,
          -0.05233321221453864,
          0.02478593221893344,
          -0.009578580141651537,
          -0.06708939056093577,
          -0.03809155028149091,
          -0.02573232102609799,
          -0.03901956202934776,
          -0.0001191152771500328,
          0.031099914893536685
         ],
         "z": [
          -0.03581032301571794,
          -0.0158968925312427,
          0.005140943523033114,
          0.020534943810378008,
          0.15044409252005025,
          0.00012029648498102118,
          0.15946539792474976,
          -0.024938534200353076,
          0.01778482839303311,
          0.0387289207489766,
          -0.008906681369789431,
          0.10641914012068554,
          0.03890182374711791,
          -0.039390616709729834,
          0.025390727426951844,
          -0.00800000543445933,
          -0.055756999914043204,
          0.01577136762338788,
          -0.0021696551153325156,
          -0.001077466363258392,
          0.013115015512753044,
          0.005016829168697127,
          -0.04872244001599593,
          0.003673242235506886,
          0.049504244674431555,
          -0.004040739977999824,
          -0.0070933055750738066,
          0.004231976631988247,
          -0.01842757611086363,
          -0.02711011435699621,
          -0.020605405500112178,
          -0.021128432442174935,
          0.021831119760247642,
          -0.023868515347698065,
          -0.002524653906043175,
          0.002981997457100059,
          0.008074245520049735,
          0.014575219533672244,
          -0.006389962010129959,
          0.003469703887543846,
          -0.03900682287253922,
          0.008967167282681413,
          0.015047774063092845,
          0.060009979906776145,
          0.09374961134922381,
          -0.01592668507108806,
          -0.007585368668376179,
          -0.020755406187371865,
          -0.04707259550636302,
          -0.03366816702154933,
          -0.03249674648243,
          -0.032220274845801124,
          -0.013048049994707739,
          -0.017272941360435216,
          -0.06011041385017334,
          0.04430077219145487,
          0.022075498331561354,
          0.009637637349157088,
          -0.026288779022857606,
          0.030533850439938098,
          6.019788228348229e-06,
          -0.10076257201687451,
          -0.03709641062304596
         ]
        }
       ],
       "layout": {
        "legend": {
         "itemsizing": "constant",
         "title": {
          "text": "color"
         },
         "tracegroupgap": 0
        },
        "scene": {
         "domain": {
          "x": [
           0,
           1
          ],
          "y": [
           0,
           1
          ]
         },
         "xaxis": {
          "title": {
           "text": "PC 1"
          }
         },
         "yaxis": {
          "title": {
           "text": "PC 2"
          }
         },
         "zaxis": {
          "title": {
           "text": "PC 3"
          }
         }
        },
        "template": {
         "data": {
          "bar": [
           {
            "error_x": {
             "color": "#2a3f5f"
            },
            "error_y": {
             "color": "#2a3f5f"
            },
            "marker": {
             "line": {
              "color": "#E5ECF6",
              "width": 0.5
             }
            },
            "type": "bar"
           }
          ],
          "barpolar": [
           {
            "marker": {
             "line": {
              "color": "#E5ECF6",
              "width": 0.5
             }
            },
            "type": "barpolar"
           }
          ],
          "carpet": [
           {
            "aaxis": {
             "endlinecolor": "#2a3f5f",
             "gridcolor": "white",
             "linecolor": "white",
             "minorgridcolor": "white",
             "startlinecolor": "#2a3f5f"
            },
            "baxis": {
             "endlinecolor": "#2a3f5f",
             "gridcolor": "white",
             "linecolor": "white",
             "minorgridcolor": "white",
             "startlinecolor": "#2a3f5f"
            },
            "type": "carpet"
           }
          ],
          "choropleth": [
           {
            "colorbar": {
             "outlinewidth": 0,
             "ticks": ""
            },
            "type": "choropleth"
           }
          ],
          "contour": [
           {
            "colorbar": {
             "outlinewidth": 0,
             "ticks": ""
            },
            "colorscale": [
             [
              0,
              "#0d0887"
             ],
             [
              0.1111111111111111,
              "#46039f"
             ],
             [
              0.2222222222222222,
              "#7201a8"
             ],
             [
              0.3333333333333333,
              "#9c179e"
             ],
             [
              0.4444444444444444,
              "#bd3786"
             ],
             [
              0.5555555555555556,
              "#d8576b"
             ],
             [
              0.6666666666666666,
              "#ed7953"
             ],
             [
              0.7777777777777778,
              "#fb9f3a"
             ],
             [
              0.8888888888888888,
              "#fdca26"
             ],
             [
              1,
              "#f0f921"
             ]
            ],
            "type": "contour"
           }
          ],
          "contourcarpet": [
           {
            "colorbar": {
             "outlinewidth": 0,
             "ticks": ""
            },
            "type": "contourcarpet"
           }
          ],
          "heatmap": [
           {
            "colorbar": {
             "outlinewidth": 0,
             "ticks": ""
            },
            "colorscale": [
             [
              0,
              "#0d0887"
             ],
             [
              0.1111111111111111,
              "#46039f"
             ],
             [
              0.2222222222222222,
              "#7201a8"
             ],
             [
              0.3333333333333333,
              "#9c179e"
             ],
             [
              0.4444444444444444,
              "#bd3786"
             ],
             [
              0.5555555555555556,
              "#d8576b"
             ],
             [
              0.6666666666666666,
              "#ed7953"
             ],
             [
              0.7777777777777778,
              "#fb9f3a"
             ],
             [
              0.8888888888888888,
              "#fdca26"
             ],
             [
              1,
              "#f0f921"
             ]
            ],
            "type": "heatmap"
           }
          ],
          "heatmapgl": [
           {
            "colorbar": {
             "outlinewidth": 0,
             "ticks": ""
            },
            "colorscale": [
             [
              0,
              "#0d0887"
             ],
             [
              0.1111111111111111,
              "#46039f"
             ],
             [
              0.2222222222222222,
              "#7201a8"
             ],
             [
              0.3333333333333333,
              "#9c179e"
             ],
             [
              0.4444444444444444,
              "#bd3786"
             ],
             [
              0.5555555555555556,
              "#d8576b"
             ],
             [
              0.6666666666666666,
              "#ed7953"
             ],
             [
              0.7777777777777778,
              "#fb9f3a"
             ],
             [
              0.8888888888888888,
              "#fdca26"
             ],
             [
              1,
              "#f0f921"
             ]
            ],
            "type": "heatmapgl"
           }
          ],
          "histogram": [
           {
            "marker": {
             "colorbar": {
              "outlinewidth": 0,
              "ticks": ""
             }
            },
            "type": "histogram"
           }
          ],
          "histogram2d": [
           {
            "colorbar": {
             "outlinewidth": 0,
             "ticks": ""
            },
            "colorscale": [
             [
              0,
              "#0d0887"
             ],
             [
              0.1111111111111111,
              "#46039f"
             ],
             [
              0.2222222222222222,
              "#7201a8"
             ],
             [
              0.3333333333333333,
              "#9c179e"
             ],
             [
              0.4444444444444444,
              "#bd3786"
             ],
             [
              0.5555555555555556,
              "#d8576b"
             ],
             [
              0.6666666666666666,
              "#ed7953"
             ],
             [
              0.7777777777777778,
              "#fb9f3a"
             ],
             [
              0.8888888888888888,
              "#fdca26"
             ],
             [
              1,
              "#f0f921"
             ]
            ],
            "type": "histogram2d"
           }
          ],
          "histogram2dcontour": [
           {
            "colorbar": {
             "outlinewidth": 0,
             "ticks": ""
            },
            "colorscale": [
             [
              0,
              "#0d0887"
             ],
             [
              0.1111111111111111,
              "#46039f"
             ],
             [
              0.2222222222222222,
              "#7201a8"
             ],
             [
              0.3333333333333333,
              "#9c179e"
             ],
             [
              0.4444444444444444,
              "#bd3786"
             ],
             [
              0.5555555555555556,
              "#d8576b"
             ],
             [
              0.6666666666666666,
              "#ed7953"
             ],
             [
              0.7777777777777778,
              "#fb9f3a"
             ],
             [
              0.8888888888888888,
              "#fdca26"
             ],
             [
              1,
              "#f0f921"
             ]
            ],
            "type": "histogram2dcontour"
           }
          ],
          "mesh3d": [
           {
            "colorbar": {
             "outlinewidth": 0,
             "ticks": ""
            },
            "type": "mesh3d"
           }
          ],
          "parcoords": [
           {
            "line": {
             "colorbar": {
              "outlinewidth": 0,
              "ticks": ""
             }
            },
            "type": "parcoords"
           }
          ],
          "pie": [
           {
            "automargin": true,
            "type": "pie"
           }
          ],
          "scatter": [
           {
            "marker": {
             "colorbar": {
              "outlinewidth": 0,
              "ticks": ""
             }
            },
            "type": "scatter"
           }
          ],
          "scatter3d": [
           {
            "line": {
             "colorbar": {
              "outlinewidth": 0,
              "ticks": ""
             }
            },
            "marker": {
             "colorbar": {
              "outlinewidth": 0,
              "ticks": ""
             }
            },
            "type": "scatter3d"
           }
          ],
          "scattercarpet": [
           {
            "marker": {
             "colorbar": {
              "outlinewidth": 0,
              "ticks": ""
             }
            },
            "type": "scattercarpet"
           }
          ],
          "scattergeo": [
           {
            "marker": {
             "colorbar": {
              "outlinewidth": 0,
              "ticks": ""
             }
            },
            "type": "scattergeo"
           }
          ],
          "scattergl": [
           {
            "marker": {
             "colorbar": {
              "outlinewidth": 0,
              "ticks": ""
             }
            },
            "type": "scattergl"
           }
          ],
          "scattermapbox": [
           {
            "marker": {
             "colorbar": {
              "outlinewidth": 0,
              "ticks": ""
             }
            },
            "type": "scattermapbox"
           }
          ],
          "scatterpolar": [
           {
            "marker": {
             "colorbar": {
              "outlinewidth": 0,
              "ticks": ""
             }
            },
            "type": "scatterpolar"
           }
          ],
          "scatterpolargl": [
           {
            "marker": {
             "colorbar": {
              "outlinewidth": 0,
              "ticks": ""
             }
            },
            "type": "scatterpolargl"
           }
          ],
          "scatterternary": [
           {
            "marker": {
             "colorbar": {
              "outlinewidth": 0,
              "ticks": ""
             }
            },
            "type": "scatterternary"
           }
          ],
          "surface": [
           {
            "colorbar": {
             "outlinewidth": 0,
             "ticks": ""
            },
            "colorscale": [
             [
              0,
              "#0d0887"
             ],
             [
              0.1111111111111111,
              "#46039f"
             ],
             [
              0.2222222222222222,
              "#7201a8"
             ],
             [
              0.3333333333333333,
              "#9c179e"
             ],
             [
              0.4444444444444444,
              "#bd3786"
             ],
             [
              0.5555555555555556,
              "#d8576b"
             ],
             [
              0.6666666666666666,
              "#ed7953"
             ],
             [
              0.7777777777777778,
              "#fb9f3a"
             ],
             [
              0.8888888888888888,
              "#fdca26"
             ],
             [
              1,
              "#f0f921"
             ]
            ],
            "type": "surface"
           }
          ],
          "table": [
           {
            "cells": {
             "fill": {
              "color": "#EBF0F8"
             },
             "line": {
              "color": "white"
             }
            },
            "header": {
             "fill": {
              "color": "#C8D4E3"
             },
             "line": {
              "color": "white"
             }
            },
            "type": "table"
           }
          ]
         },
         "layout": {
          "annotationdefaults": {
           "arrowcolor": "#2a3f5f",
           "arrowhead": 0,
           "arrowwidth": 1
          },
          "autotypenumbers": "strict",
          "coloraxis": {
           "colorbar": {
            "outlinewidth": 0,
            "ticks": ""
           }
          },
          "colorscale": {
           "diverging": [
            [
             0,
             "#8e0152"
            ],
            [
             0.1,
             "#c51b7d"
            ],
            [
             0.2,
             "#de77ae"
            ],
            [
             0.3,
             "#f1b6da"
            ],
            [
             0.4,
             "#fde0ef"
            ],
            [
             0.5,
             "#f7f7f7"
            ],
            [
             0.6,
             "#e6f5d0"
            ],
            [
             0.7,
             "#b8e186"
            ],
            [
             0.8,
             "#7fbc41"
            ],
            [
             0.9,
             "#4d9221"
            ],
            [
             1,
             "#276419"
            ]
           ],
           "sequential": [
            [
             0,
             "#0d0887"
            ],
            [
             0.1111111111111111,
             "#46039f"
            ],
            [
             0.2222222222222222,
             "#7201a8"
            ],
            [
             0.3333333333333333,
             "#9c179e"
            ],
            [
             0.4444444444444444,
             "#bd3786"
            ],
            [
             0.5555555555555556,
             "#d8576b"
            ],
            [
             0.6666666666666666,
             "#ed7953"
            ],
            [
             0.7777777777777778,
             "#fb9f3a"
            ],
            [
             0.8888888888888888,
             "#fdca26"
            ],
            [
             1,
             "#f0f921"
            ]
           ],
           "sequentialminus": [
            [
             0,
             "#0d0887"
            ],
            [
             0.1111111111111111,
             "#46039f"
            ],
            [
             0.2222222222222222,
             "#7201a8"
            ],
            [
             0.3333333333333333,
             "#9c179e"
            ],
            [
             0.4444444444444444,
             "#bd3786"
            ],
            [
             0.5555555555555556,
             "#d8576b"
            ],
            [
             0.6666666666666666,
             "#ed7953"
            ],
            [
             0.7777777777777778,
             "#fb9f3a"
            ],
            [
             0.8888888888888888,
             "#fdca26"
            ],
            [
             1,
             "#f0f921"
            ]
           ]
          },
          "colorway": [
           "#636efa",
           "#EF553B",
           "#00cc96",
           "#ab63fa",
           "#FFA15A",
           "#19d3f3",
           "#FF6692",
           "#B6E880",
           "#FF97FF",
           "#FECB52"
          ],
          "font": {
           "color": "#2a3f5f"
          },
          "geo": {
           "bgcolor": "white",
           "lakecolor": "white",
           "landcolor": "#E5ECF6",
           "showlakes": true,
           "showland": true,
           "subunitcolor": "white"
          },
          "hoverlabel": {
           "align": "left"
          },
          "hovermode": "closest",
          "mapbox": {
           "style": "light"
          },
          "paper_bgcolor": "white",
          "plot_bgcolor": "#E5ECF6",
          "polar": {
           "angularaxis": {
            "gridcolor": "white",
            "linecolor": "white",
            "ticks": ""
           },
           "bgcolor": "#E5ECF6",
           "radialaxis": {
            "gridcolor": "white",
            "linecolor": "white",
            "ticks": ""
           }
          },
          "scene": {
           "xaxis": {
            "backgroundcolor": "#E5ECF6",
            "gridcolor": "white",
            "gridwidth": 2,
            "linecolor": "white",
            "showbackground": true,
            "ticks": "",
            "zerolinecolor": "white"
           },
           "yaxis": {
            "backgroundcolor": "#E5ECF6",
            "gridcolor": "white",
            "gridwidth": 2,
            "linecolor": "white",
            "showbackground": true,
            "ticks": "",
            "zerolinecolor": "white"
           },
           "zaxis": {
            "backgroundcolor": "#E5ECF6",
            "gridcolor": "white",
            "gridwidth": 2,
            "linecolor": "white",
            "showbackground": true,
            "ticks": "",
            "zerolinecolor": "white"
           }
          },
          "shapedefaults": {
           "line": {
            "color": "#2a3f5f"
           }
          },
          "ternary": {
           "aaxis": {
            "gridcolor": "white",
            "linecolor": "white",
            "ticks": ""
           },
           "baxis": {
            "gridcolor": "white",
            "linecolor": "white",
            "ticks": ""
           },
           "bgcolor": "#E5ECF6",
           "caxis": {
            "gridcolor": "white",
            "linecolor": "white",
            "ticks": ""
           }
          },
          "title": {
           "x": 0.05
          },
          "xaxis": {
           "automargin": true,
           "gridcolor": "white",
           "linecolor": "white",
           "ticks": "",
           "title": {
            "standoff": 15
           },
           "zerolinecolor": "white",
           "zerolinewidth": 2
          },
          "yaxis": {
           "automargin": true,
           "gridcolor": "white",
           "linecolor": "white",
           "ticks": "",
           "title": {
            "standoff": 15
           },
           "zerolinecolor": "white",
           "zerolinewidth": 2
          }
         }
        },
        "title": {
         "text": "Total Explained Variance: 76.68%"
        }
       }
      },
      "text/html": [
       "<div>                            <div id=\"2c97ac75-463a-4c61-96b4-9bc363b257e4\" class=\"plotly-graph-div\" style=\"height:525px; width:100%;\"></div>            <script type=\"text/javascript\">                require([\"plotly\"], function(Plotly) {                    window.PLOTLYENV=window.PLOTLYENV || {};                                    if (document.getElementById(\"2c97ac75-463a-4c61-96b4-9bc363b257e4\")) {                    Plotly.newPlot(                        \"2c97ac75-463a-4c61-96b4-9bc363b257e4\",                        [{\"hovertemplate\": \"color=Mi Fu (Wu River)<br>PC 1=%{x}<br>PC 2=%{y}<br>PC 3=%{z}<br>size=%{marker.size}<extra></extra>\", \"legendgroup\": \"Mi Fu (Wu River)\", \"marker\": {\"color\": \"#636efa\", \"size\": [0.001, 0.001, 0.001, 0.001, 0.001, 0.001, 0.001, 0.001, 0.001, 0.001, 0.001, 0.001, 0.001, 0.001, 0.001, 0.001, 0.001, 0.001, 0.001, 0.001, 0.001, 0.001, 0.001, 0.001, 0.001, 0.001, 0.001, 0.001, 0.001, 0.001, 0.001, 0.001, 0.001, 0.001, 0.001, 0.001, 0.001, 0.001, 0.001, 0.001, 0.001, 0.001, 0.001, 0.001, 0.001, 0.001, 0.001, 0.001, 0.001, 0.001, 0.001, 0.001, 0.001, 0.001, 0.001, 0.001, 0.001, 0.001, 0.001, 0.001, 0.001, 0.001, 0.001, 0.001, 0.001, 0.001, 0.001, 0.001, 0.001, 0.001, 0.001, 0.001, 0.001, 0.001, 0.001, 0.001, 0.001, 0.001, 0.001, 0.001, 0.001, 0.001, 0.001, 0.001, 0.001, 0.001, 0.001, 0.001, 0.001, 0.001, 0.001], \"sizemode\": \"area\", \"sizeref\": 2.5e-06, \"symbol\": \"circle\"}, \"mode\": \"markers\", \"name\": \"Mi Fu (Wu River)\", \"scene\": \"scene\", \"showlegend\": true, \"type\": \"scatter3d\", \"x\": [-0.03583749924438383, -0.08530072696229386, 0.03179992814110848, -0.0462048398520141, -0.00662589012765505, -0.028691924298985715, -0.014096134571719649, 0.0006379414864818198, -0.0735198016792829, -0.09306587221177916, -0.04275339916844814, -0.04654797097301047, -0.052995450358213, -0.023958440922224277, 0.053770835722751806, -0.05741497641783599, 0.07766088453778368, -0.08619135258131119, -0.03209089419228452, -0.07982399624927841, -0.05700047139964406, -0.0366778363893874, -0.013537454219824004, -0.06362948735752355, -0.02743997170395118, -0.02134630698197029, -0.06026527229120976, 0.034079369181244275, -0.0753570321460514, -0.05594302397474567, -0.056745123860030035, -0.06731374628276338, -0.031190357928843445, -0.07567419043900286, -0.07115136891417703, -0.041699587984634516, 0.03222022951551064, 0.027030230044997154, 0.016777844316963275, -0.002558378186235947, -0.029178245277111447, -0.008752506315626225, -0.06205831068085808, -0.15313712470559943, 0.10751678933476862, 0.0034115508577777526, 0.06779173589521136, -0.10652193028692708, -0.09938785412712846, -0.0674817144351528, -0.007488599501929948, -0.14479783582365052, -0.0758333672244601, 0.00469345503674247, -0.030070565279688356, 0.0477758996582358, -0.15822422081070545, -0.12483666608031435, 0.008086087542619143, 0.03583510914418731, -0.07128185722141281, -0.019073727031899825, 0.04108107706308096, 0.04701675338318641, -0.022652507502849806, -0.0748423088290476, -0.13023250915968282, -0.0716681801443647, 0.02607415083209076, -0.06902779339118094, 0.2820571369723137, -0.08752635727006569, 0.016964453245108875, -0.052460689293795666, -0.0021158049109024943, -0.014080050309785859, -0.07355000250446467, -0.054007061870647965, -0.0020835310285142014, 0.030256366031783163, 0.007234836152243188, -0.1268918021092648, -0.116548532054197, -0.031912600667137345, -0.011317491641949184, -0.1049730207749619, 0.05453609691773244, -0.21317676720904027, -0.17057444853603748, -0.04604701193238005, 0.052464458859855595], \"y\": [0.031316307333449894, 0.06189609524847057, -0.047751833779149856, -0.001606986642956773, 0.009816446884956477, -0.003838460088938734, -0.0394387311952412, -0.00857269570920815, 0.04039341815541813, 0.03369084405370174, 0.037811214102312855, -0.0006186773912707586, -0.014583427525298742, 0.052032998065771, -0.03134371815916847, -0.026886022898828636, -0.031032382252537002, -0.018123116583434726, 0.06368096368153646, -0.026503976902382393, 0.00031492320187901225, 0.0035258387769173992, -0.03491084745775478, 0.023213442770312325, -0.032532442598496435, 0.021211977783168388, -0.013722106537817646, 0.0007632243607293953, -0.0008746142466988663, 0.040898753531079385, -0.007976392941335697, 0.010153599563362224, 0.006020987199815517, 0.07107074121107221, -0.12185973494782366, -0.01678839450688453, -0.009428885466116112, 0.015739228759546253, 0.04239758947529168, -0.03299520825230964, 0.027474226733675486, -0.05491365719285173, -0.03173720080539532, 0.03245471718983331, 0.01892586480302316, 0.0185967694054151, 0.036633045441837056, -0.04135262016680572, -0.08010142303230901, -0.03267547190749087, 0.029783866182964042, 0.04810404838556004, -0.04350715217057567, -0.08839065068804618, 0.007269696289325148, 0.04313527007757528, -0.04897377492294644, -0.09051356406588261, -0.03564149114044359, -0.00364676357810255, 0.025055044035545808, 0.017330412817870493, -0.05504508983602969, -0.05011149549691209, 0.043833595291401906, -0.06815164802852418, -0.01353749632158323, -0.07905759618794302, -0.04078733120400956, -0.014896275820427202, 0.0980843521333747, 0.047895054878824485, -0.021059258071904195, -0.0006964463193982875, 0.01722335174700265, -0.07149124719581047, -0.012127544770793785, 0.0275690715578242, 0.03729178194689179, 0.014354929227128728, 0.0013886089691132733, 0.00015668213588165432, 0.02159612691327279, -0.10180016329070785, -0.10904198666125363, 0.005752738035715597, -0.05286620862185881, 0.05344846322673121, -0.02424398268613486, -0.04593936153110695, -0.04307433958952909], \"z\": [0.04230821726614468, -0.0006665606812723001, -0.04408010497195941, -0.006934985717676011, -0.0280270041583799, -0.0029326060009380425, -0.015730318356432477, -0.03201273006998665, -0.012161698333906986, -0.009828877818287894, -0.012720022988442343, -0.0246540277610196, -0.028434338961060193, -0.006693488383398382, -0.04763373808238543, -0.029134544605380407, -0.03776401101310404, 0.0003963078957995219, 0.10173923608248993, 0.009958273603934887, 0.02832438074917302, -0.001744661352264645, -0.023374719374640206, -0.016177901977960436, -0.01752275582789375, 0.009263483884850909, -0.0039132569872463155, -0.03009207470504923, 0.030494210617803018, -0.016259587700932915, 0.0335204057322997, 0.016100590068921315, 0.00976162714950892, 0.01882079077648602, 0.024550590507644604, 0.021828650940160038, 0.06583874383273354, 0.028586201887980115, -0.09952106261750315, 0.04823998974174159, 0.010956545799901343, -0.0009739129201944204, 0.029141340621428174, -0.019419920446437356, -0.06737055265232697, 0.004011903802060156, 0.06659011097674596, 0.008560064986988618, -0.02374042949591795, 0.03311231064852006, 0.054016335140936435, -0.029676993894267367, 0.02831187425422921, -0.0009651959738861763, 0.011820540663670108, 0.04233977799834486, -0.020972334969553405, -0.013410366334746002, 0.0868208549816263, 0.03952142847307162, -0.017113898517146765, 0.06586555093250754, 0.08117047944550794, -0.010314673006941262, -0.057998066462039866, -0.03162058477583059, -0.03571779604697688, 0.03358734962809767, -0.004483070021989678, -0.04956718329078799, -0.06289321334746141, -0.008516072329210887, -0.00557822776134929, 0.025072174600417135, -0.004228496087217674, -0.03705533945023075, 0.030755450679458254, 0.050682775697618136, -0.014880137558445973, 0.009703608606585397, 0.006360801504958493, -0.027449604920160485, -0.022925285782990086, -0.02460883971637551, -0.01638096371360408, -0.004992374619958955, -0.026816166897401832, -0.033590894387496455, -0.02337119056701268, -0.01620678885223774, -0.01720524332836755]}, {\"hovertemplate\": \"color=Huizong<br>PC 1=%{x}<br>PC 2=%{y}<br>PC 3=%{z}<br>size=%{marker.size}<extra></extra>\", \"legendgroup\": \"Huizong\", \"marker\": {\"color\": \"#EF553B\", \"size\": [0.001, 0.001, 0.001, 0.001, 0.001, 0.001, 0.001, 0.001, 0.001, 0.001, 0.001, 0.001, 0.001, 0.001, 0.001, 0.001, 0.001, 0.001, 0.001, 0.001, 0.001, 0.001, 0.001, 0.001, 0.001, 0.001, 0.001, 0.001, 0.001, 0.001, 0.001, 0.001, 0.001, 0.001, 0.001, 0.001, 0.001, 0.001, 0.001, 0.001, 0.001, 0.001, 0.001, 0.001, 0.001, 0.001, 0.001, 0.001, 0.001, 0.001, 0.001, 0.001, 0.001, 0.001, 0.001, 0.001, 0.001, 0.001, 0.001, 0.001, 0.001, 0.001, 0.001], \"sizemode\": \"area\", \"sizeref\": 2.5e-06, \"symbol\": \"circle\"}, \"mode\": \"markers\", \"name\": \"Huizong\", \"scene\": \"scene\", \"showlegend\": true, \"type\": \"scatter3d\", \"x\": [0.017661165133708228, 0.09766782329364311, 0.015724097029812936, -0.10884294241120335, 0.12278034558174987, -0.014042146885541227, -0.0034564647778877427, -0.09794174889668802, -0.030522361039967725, 0.05698294348535679, 0.020851236508393843, 0.034578623445561556, -0.048428223861567976, -0.038398077643466005, 0.032589814930957084, -0.025901229929626395, 0.20982553615311844, -0.055621405022245746, 0.1149673854272353, 0.03605526112493509, -0.0335453356023233, 0.06147397457113921, 0.003174822808725278, -0.002260602437072762, 0.06242765524682177, 0.08893047377423716, 0.03318015297473503, 0.03796580298885479, -0.033004716718875775, -0.018790769781536768, 0.08089083516019549, -0.024492971007423425, -0.014064736937239409, -0.06278491701882116, 0.02522270096487955, -0.03630703625401002, 0.07668538844454198, 0.031392424149773626, -0.06693366237061255, -0.052843290962262764, 0.12527919192001574, -0.04343541561762417, 0.01307595638466008, -0.0827028404029129, 0.06563279326482603, 0.05951752019821333, 0.05163862216508792, 0.052616008864649795, 0.03079572128687324, 0.013112040466306867, 0.028343070489132063, 0.018383878195690016, 0.04651247877632275, -0.12611524987242848, 0.012751731559232957, 0.04436986210629862, 0.07150597522619126, 0.10530764404557898, -0.024294522098525062, 0.014027690248415723, -0.0853223888963392, -0.040901044845154014, 0.04256645518854364], \"y\": [0.0466856858664934, -0.011976470323188047, 0.037030812618659495, 0.035194175502547886, 0.01810178647287405, 0.0005803771844279446, 0.055131233584795325, 0.017305710533709932, 0.00010368239903824891, 0.03418761560225804, 0.003910511100307365, -0.027150745626273787, 0.017877186685423846, -0.01853437102719363, -0.019511024347221424, 0.02816683635526243, 0.042790385562296036, -0.053361151568230354, -0.01566639774721529, 0.01779594267036057, 0.04975847258276112, -0.013425001191505206, 0.03870287188235765, -0.027413475522468957, -0.02867880015581646, 0.026701397526977085, 0.01358891940553276, 0.00016780236403478367, 0.03145869415497621, 0.03353778089316112, -0.02858678113708184, -0.025001373165400617, 0.02423373477188241, -0.048385645016752764, 0.010507989947592554, 0.05608890995367191, 0.003370976276894661, -0.056268686505895116, 0.059474972788551086, 0.03932992647672544, 0.013140386744104534, -0.027873358385267902, -0.016506919100535342, 0.0761830060875104, -0.03089315220269957, 0.07057114343254048, -0.03574692406064298, -0.027689638450740073, 0.07604123847031224, 0.03165869520459188, -0.021549041802653424, 0.0007159321874373965, 0.03355419183055545, 0.09259870213989037, 0.009972302738654617, -0.005703108158620318, 0.027111159690100625, -0.029091876418308734, 0.06355483244110256, -0.03401976868877638, 0.013615972879538195, 0.045743178547418495, 0.035681285490002414], \"z\": [0.02827211117307571, -0.013724509232662626, 0.04033414233749762, -0.0018880111699087708, 0.03184238676205274, 0.006177882590721519, -0.006154353867651025, -0.022945926348182523, 0.03135534023660262, -0.0330931582606824, -0.007239644558686243, -0.04366925963109743, 0.0013054538723452109, 0.017105286295537703, -0.03649604344887775, -0.02051870591714609, -0.011340147617525885, 0.003240332135051717, -0.024508963088749898, 0.03361602019156132, 0.016512041698170096, -0.011251835315270171, 0.0152250141292381, -0.01256600010570654, -0.033155588991205485, 0.058776416571321585, 0.018965322954737858, -0.015055023956324886, 0.019802539918449543, 0.030512342609476755, 0.09025601739702178, -0.01710753173593732, -0.02123593852584329, 8.92600365303514e-05, 0.029277436309630107, -0.0030985620656318754, 0.015056573386771067, 0.002104911697855332, -0.0007580443467288566, -0.007721321884713758, -0.04826701529514186, 0.014600704789905886, -0.020560671252802355, -0.01555451936824421, -0.047920851055258944, -0.010342236584351254, 0.0078092261668155005, 0.000314724185119155, 0.03926341982885723, -0.0054801868412908674, -0.013320272417932426, 0.013410649288670654, 0.00589994537090465, 0.011709198700926723, 0.046654825899816385, 0.007927394774691706, -0.03341406570740511, 0.08468706218829028, -8.693835349288588e-05, -0.008918323495594026, -0.03136541611054595, -0.030025618026289173, -0.04002709701692516]}, {\"hovertemplate\": \"color=Su Shi<br>PC 1=%{x}<br>PC 2=%{y}<br>PC 3=%{z}<br>size=%{marker.size}<extra></extra>\", \"legendgroup\": \"Su Shi\", \"marker\": {\"color\": \"#00cc96\", \"size\": [0.001, 0.001, 0.001, 0.001, 0.001, 0.001, 0.001, 0.001, 0.001, 0.001, 0.001, 0.001, 0.001, 0.001, 0.001, 0.001, 0.001, 0.001, 0.001, 0.001, 0.001, 0.001, 0.001, 0.001, 0.001, 0.001, 0.001, 0.001, 0.001, 0.001, 0.001, 0.001, 0.001, 0.001, 0.001, 0.001, 0.001, 0.001, 0.001, 0.001, 0.001, 0.001, 0.001, 0.001, 0.001, 0.001, 0.001, 0.001, 0.001, 0.001, 0.001, 0.001, 0.001, 0.001, 0.001, 0.001, 0.001, 0.001, 0.001, 0.001, 0.001, 0.001, 0.001, 0.001, 0.001, 0.001, 0.001, 0.001, 0.001, 0.001, 0.001, 0.001, 0.001, 0.001, 0.001, 0.001, 0.001, 0.001, 0.001, 0.001, 0.001, 0.001, 0.001, 0.001, 0.001, 0.001, 0.001, 0.001, 0.001, 0.001, 0.001, 0.001, 0.001, 0.001, 0.001, 0.001, 0.001, 0.001, 0.001, 0.001, 0.001, 0.001, 0.001, 0.001, 0.001, 0.001, 0.001, 0.001, 0.001, 0.001, 0.001, 0.001, 0.001, 0.001, 0.001, 0.001, 0.001, 0.001, 0.001], \"sizemode\": \"area\", \"sizeref\": 2.5e-06, \"symbol\": \"circle\"}, \"mode\": \"markers\", \"name\": \"Su Shi\", \"scene\": \"scene\", \"showlegend\": true, \"type\": \"scatter3d\", \"x\": [-0.11117346380856949, 0.01067016564401862, 0.04489471331655683, 0.03468628332254741, -0.17432216381412685, 0.002754085400025542, 0.005124749521602094, 0.1907949669717646, 0.18969250560115924, 0.10242714280023915, -0.01647976513496724, -0.07510590617216133, 0.043467796835372344, 0.06957864446383662, 0.05052379247625757, 0.07964901459249515, 0.07238848158617435, -0.07435918194042387, 0.11131890940257366, 0.06560977851559778, -0.023752354368120086, 0.04079733042649356, -0.18880792139086516, 0.0815100519078671, 0.07712653722025199, -0.12172090820979452, -0.12010848748882866, -0.08768292359934324, 0.04862200604796071, 0.030979979043456393, -0.045080203348525104, 0.0011130016931659185, 0.06285034382856756, 0.12626645276950232, 0.07446411057379028, -0.12115287815507125, -0.21211033662403117, -0.13597893472581593, 0.010128861740652998, 0.06675167806460408, 0.05792353233154842, 0.026030952218138406, 0.08050992472745488, -0.09152702854264662, -0.06304015965762734, -0.04267174863593788, -0.008022356562484635, 0.09718067346146445, -0.05639119861835448, -0.006339131774466663, 0.011326361901530536, -0.06646513867224643, 0.10940196831248415, -0.07362523701423426, -0.043802893670513446, 0.04014543037743317, -0.0025235465684807106, 0.0007492977304986663, 0.11335400828005425, -0.024123690001813424, -0.06857520473196543, 0.06456459216662304, 0.049730628047152454, 0.09761097634821217, -0.05105920435694574, -0.006526390385775608, 0.06674063386475343, 0.02245180202904149, -0.03490879446724266, -0.01905878254529949, 0.00291678421348838, -0.017520394067150252, 0.12284033829920929, 0.08947617925970369, 0.09226839857699913, 0.052903798269851726, 0.14386300580467734, 0.06501515570591464, -0.006976845503869725, 0.029303794942266547, 0.0033029946250063354, -0.04631925549998481, -0.029093043131375996, -0.037082670489297725, 0.04822493684654433, 0.0764108492596536, 0.11168207581301522, -0.08200431532183411, -0.0029529506182143185, -0.11069996629232691, 0.06998859373961323, -0.06074328684109357, -0.14608825406281045, 0.08184491089706608, -0.12275154322802373, 0.0013019981869702019, 0.0876182514523059, 0.1357221872065247, 0.04913309038549027, 0.0899600217642799, -0.008821237132001763, 0.1305022493113756, 0.046246200730317474, 0.07464930910502952, 0.03248175013298764, -0.022369040997707097, 0.0018316788172208884, -0.007181473441827215, 0.02487788550832218, 0.01747268961963934, 0.06448233123194752, 0.09276195667541938, 0.049593258934667026, 0.0287006475000536, -0.16986867234564598, 0.0711064072396798, -0.03688535530385629, 0.2088025879491894, 0.006818251722246553], \"y\": [0.05363133916778671, 0.005864218687757101, -0.00972197385907075, -0.07427001906513937, 0.03140030292131652, -0.004307249484189983, 0.04505836826362521, 0.056053830001261296, 0.06034544248593991, 0.02479018559571504, -0.08668013277013627, -0.008123463433278856, 0.00914054798163555, 0.025952336999743114, 0.0066796050050387705, 0.03196621712057719, -0.0036613283521995436, 0.037132406268043976, 0.029433899730244895, 0.0017557411212835554, 0.04967694027858173, 0.020409060130194896, 0.038470230940963156, 0.015755961698477074, -0.015046595215979222, 0.012824848727619763, 0.059682778519511225, -0.03025984761874815, 0.0327879191086867, -0.0547529438719656, -0.049842872807255606, -0.023007963016687918, 0.02272375966341466, 0.0769474348640593, 0.011727662063590097, 0.018660609904254305, 0.12917668021194184, 0.02816121602806935, -0.0040750889288615625, -0.08092975077303807, -0.010803483566991057, 0.05142131494735907, 0.01904479688481067, 0.006276710644844074, -0.0757266340941438, -0.07116189497467404, -0.06322174079037364, -0.021386167685937114, 0.0013866355962586835, 0.027481644579500555, 0.03321761933508938, -0.02878881725277371, -0.00958307196684402, -0.05052514079041247, -0.03793340594375437, -0.02618286820288638, -0.017470789587130484, -0.13070474871780963, -0.0255441567119527, 0.02916182074677887, -0.0227809093007866, 0.06273759160720146, -0.017771830269343317, 0.04305965649624931, 0.04675762227343938, 0.04778500637322613, -0.02858467867510666, -0.053435456546606176, -0.06800353615658278, 0.04779973690972164, -0.020287438238426155, 0.01532834392275201, 0.0006334846775694478, -0.012803654713957084, 0.03192922199819691, -0.04453992265573183, 0.03532487319762724, 0.025219572730409708, -0.04562232047564066, 0.034090434690728574, -0.02115488262734644, -0.027377036796654625, 0.04244203333143476, 0.014320038942320224, -0.05045841168476528, 0.02680769696579104, 0.02068173371396383, -0.04660504835608738, -0.07080250925018379, 0.010638401809025012, 0.011356138112632579, -0.10558166926498876, 0.0628953519029158, -0.044937463817613585, 0.049880574531461434, -0.016602585078733266, -0.047116217117406954, 0.013356086049701312, -0.02620680332093858, -0.03909132991475506, -0.07107068357490182, -0.05326574833248422, -0.024112649672569646, 0.08483413683008417, 0.005448382626221189, -0.0007193605598451305, 0.001337759128071046, -0.03722348800719262, -0.035275288884392034, -0.012025705670847146, 0.03897694545815105, 0.011205596666880462, -0.0021611265172724915, -0.019338288611010727, 0.005569723257407899, 0.008803012132218735, -0.03867916488201153, 0.04254729640929377, -0.0187959630161877], \"z\": [-0.03224300618723179, -0.035993984578914465, 0.017168758339489144, 0.01299213903276843, -0.026418507774943555, 0.0012781495874522133, 0.021310895073408952, -0.004754201235932538, 0.006794104424251517, -0.004604068172897765, 0.02664757576483005, -0.025574957472161538, 0.015505966872041976, -0.01725858676436942, -0.019489101791383124, 0.019675945111432575, 0.018729214690494742, -0.036943778694666064, 0.028737189007767637, -0.028811072107265585, -0.040134884218403485, 0.008599336467698029, -0.009961566612348973, -0.014081379322271227, -0.009165287313604172, 0.007114591990760477, 0.0011771593862291492, 0.011555777749482547, -0.01355002949218711, -0.046437374597636645, 0.012467984186389735, -0.003685299977065394, 0.009121366255360044, 0.04356911906878275, -0.03252088230448988, -0.021644585899179378, -0.09615256351895975, 0.032931477929232775, 0.0017146929864561157, -0.027957316291788218, 0.013862581639933688, -0.006397508013349502, -0.062197991478969004, -0.04581445029300174, 0.0008816709224946879, 0.02040868859022735, -0.006593920616042419, -0.057004358644190886, -0.0686064912029174, -0.05891614652712905, 0.014188393918900985, -0.030182650293257344, -0.022290071962937346, -0.0018271451391374002, 0.006305601033991824, 0.05693171450460442, -0.011438332198910025, 0.027576840127921175, 0.03134128812285607, -0.02525138961961767, 0.011698866886095137, 0.025660040482908205, 0.010176619599939157, 0.04458324227069623, 0.0044639714973811855, 0.01620694150473979, 0.0042153941834280366, 0.0054362416168847886, -0.004732182660874016, -0.007354937224961148, -0.019398347883262036, 0.05205645676260962, -0.07226275732389427, -0.0092600081545761, -0.0317059720374023, 0.000574042652946197, -0.012927941767228158, 0.020784059394663917, 0.050774884340590874, -0.05167071897986857, -0.013820119567687255, -0.017603161279401813, -0.07285337877895993, -0.013111177367915115, 0.010287549337311745, -0.049847025290962806, -0.006436367893579563, 0.044042621939523616, -0.00504082905526379, -0.0069086842907090966, -0.02367237060856003, -0.01100120934821716, -0.04386009306118032, -0.0014387540275513538, -0.019638340748062887, 0.020988308506689837, -0.027387789870616228, -0.0827842068479283, -0.010177313049912077, -0.009573718819830134, -0.003713150334054158, -0.0183432004766174, 0.0043144234353730895, 0.011052292107813057, 0.011140732624046279, 0.06826850052928775, -0.04123029813460352, 0.027468255590797998, 0.022297118356579725, 0.04889840936057561, 0.025731688726021894, -0.02173650476571129, -0.028178955989872256, -0.0019139942877152373, -0.004476772334116049, -0.019188515142873484, 0.00879148652060322, -0.060540939837460624, -0.03232300325418664]}, {\"hovertemplate\": \"color=WangXiZhi<br>PC 1=%{x}<br>PC 2=%{y}<br>PC 3=%{z}<br>size=%{marker.size}<extra></extra>\", \"legendgroup\": \"WangXiZhi\", \"marker\": {\"color\": \"#ab63fa\", \"size\": [0.001, 0.001, 0.001, 0.001, 0.001, 0.001, 0.001, 0.001, 0.001, 0.001, 0.001, 0.001, 0.001, 0.001, 0.001, 0.001, 0.001, 0.001, 0.001, 0.001, 0.001, 0.001, 0.001, 0.001, 0.001, 0.001, 0.001, 0.001, 0.001, 0.001, 0.001, 0.001, 0.001, 0.001, 0.001, 0.001, 0.001, 0.001, 0.001, 0.001, 0.001, 0.001, 0.001, 0.001, 0.001, 0.001, 0.001, 0.001, 0.001, 0.001, 0.001, 0.001, 0.001, 0.001, 0.001, 0.001, 0.001, 0.001, 0.001, 0.001, 0.001, 0.001, 0.001, 0.001, 0.001, 0.001, 0.001, 0.001, 0.001, 0.001, 0.001, 0.001, 0.001, 0.001, 0.001, 0.001, 0.001, 0.001, 0.001, 0.001, 0.001, 0.001, 0.001, 0.001, 0.001, 0.001, 0.001, 0.001, 0.001, 0.001, 0.001, 0.001, 0.001, 0.001, 0.001], \"sizemode\": \"area\", \"sizeref\": 2.5e-06, \"symbol\": \"circle\"}, \"mode\": \"markers\", \"name\": \"WangXiZhi\", \"scene\": \"scene\", \"showlegend\": true, \"type\": \"scatter3d\", \"x\": [0.0683067357246786, -0.05117037941944411, -0.01338092227766332, 0.02318327396648008, -0.00043163152028431094, -0.005204973013517759, -0.011679806984217847, -0.0065526046986306916, 0.05506077265783144, 0.01700624725137813, 0.01326606628067304, 0.011651228886084726, 0.07426903173479324, 0.024959071489836414, -0.08596706017788114, -0.04151471436822484, -0.16225065932057708, -0.035895822082826156, 0.04165924954126278, 0.019337689595094274, -0.020404741377994383, 0.036360764860679434, 0.0013708913480936027, 0.01089609940869512, 0.09834162112452997, -0.04627055567380039, -0.024139243522774193, -0.04620948641275952, 0.012977795630571184, -0.15200892264421784, 0.09048445176333038, -0.0748144688012264, -0.0027245940102492076, -0.02714605257505114, 0.05127476785258574, 0.0013096695593702405, -0.036027686293524694, -0.06506647778574327, 0.015390228595190885, -0.0021841012637800142, 0.009022528250648459, 0.08872056792021911, 0.07911553686658843, 0.07683309492100128, 0.012008650438966383, -0.07540913813416691, -0.036429312874494704, -0.060066377013803185, -0.030423456650563185, 0.042903821863046344, 0.043680852361874224, -0.029307426854518728, -0.04904940684565638, -0.042075051710391, -0.08116876596643596, 0.04182646764490894, -0.034915740143130106, -0.017893201194604132, 0.2203149880267937, 0.09069489962627404, -0.03184870137602781, 0.11971684786588209, -0.061895765344515304, -0.013502532817164604, 0.0021198758227139467, 0.013945320821822099, -0.06733961072062877, 0.04776659173878243, -0.05265795755608439, -0.0681900831771014, 0.07826213347051299, 0.19321869742172965, 0.039070049304403, -0.04069300536315665, -0.032428617612448266, -0.0289977420582019, -0.018484969334661226, 0.03111124514408533, -0.0022096194571305447, -0.19993236254430063, 0.18202430525883015, 0.030479090989687634, -0.06112263785949471, -0.0164396117648907, 0.008450159559748434, -0.04650387843727896, -0.02513553736640959, 0.11901929188418837, -0.14044444988228708, 0.06984291379848089, -0.028633563956004963, -0.01882475105191517, -0.06707055595776887, 0.032902696237544736, -0.026397611305992802], \"y\": [-0.05153354260481288, 0.11477222633094525, 0.0761610216289528, -0.0416639666270893, 0.03564494182017108, 0.003264308546642367, 0.023118592299813653, -0.07652377890211624, -0.028959375563664895, -0.010994007814200686, 0.039469016978404166, -0.04688062790265945, -0.04330532889296651, 0.021690476152877173, 0.014520939785091435, 0.06273572403703329, 0.034115041299331475, 0.036739213523278934, -0.07973225879463498, -0.03627059474613622, 0.007619608584973913, 0.03247033400121436, 0.024880895517166893, -0.026280702963482252, -0.027826231570943202, 0.06253335533815256, 0.00842870168371422, -0.07649610863221805, 0.028683184697733247, 0.014502912137039812, -0.05395189438614785, 0.06100539205127553, -0.022899773247706073, -0.040695459849218574, 0.020771126704941287, 0.040377758807644305, -0.04626296240492263, 0.03582918186934289, 0.08102608404575297, 0.022545458113416558, -0.044602588498124054, 0.012615094403972798, 0.02533622546053527, -0.020206312893996443, -0.016455631476785377, -0.0496829900028162, -0.07345870899652882, 0.03560200847207692, -0.029718956714587973, -0.10484124904037323, 0.0135142394346117, -0.06384938417634407, 0.10891591185054646, -0.020816885809668385, -0.035899750651424166, -0.025558837044309637, -0.02366457289460037, 0.008181140640128657, 0.052589365268404326, 0.029575726007549083, -0.013844834834420214, 0.06633310805529549, 0.014141568143429407, 0.05140762112073091, 0.04452572059057526, -0.02008489364296579, 0.010451971609289824, 0.054396270243553, -0.016890264429271745, 0.06840393069144407, 0.024384549407178133, 0.052002290542591596, 0.06404817316141487, -0.045077786220174845, 0.00725492618850635, 0.03207244212765871, -0.07009740826835287, 0.08447747479198585, -0.09730123631090351, 0.08370668396863495, 0.04329838210026614, -0.013879794434173873, 0.001951659652401862, -0.014852516067859894, -0.03215031385511678, -0.010843615851166642, -0.055185687805073255, -0.01888348575332131, -0.028892245111494796, 0.011084521128503073, 0.10930201322249743, -0.05021147953909108, 0.07135370286309013, -0.03444569680098654, -0.025403435237116634], \"z\": [0.033244914269948446, 0.030421577408315543, 0.04893821845938655, 0.015022770210223513, 0.008363953265365669, 0.009879262115898204, 0.01161236284684558, -0.01739239588611756, 0.03935147792464167, 0.006993354189064216, 0.014756363381722017, 0.06772675244028536, -0.028042611776387314, 0.027835308381915325, 0.017725557316478575, 0.022523641230564762, -0.011815986967402525, 0.03485537223687166, 0.016997207878719885, 0.05374624990979405, 0.01790143707950917, 0.06929320535772072, 0.004507262293556024, 0.07238465624883215, -0.024753154056574203, 0.006521783581845579, -0.0049328698074314345, 0.025650657889314993, 0.002083124097807589, -0.008788875398133437, -0.03708104847816389, 0.007618590222248753, -0.006243423565921593, 0.04988298541033344, 0.020670288978116177, -0.014693608366297883, 0.003911222765015055, -0.009387985049486892, 0.060076189806975856, 0.001788772279721702, -0.00225466121803563, -0.004799791673113031, 0.04299962635273542, -0.00015959876933940647, -0.026207100650434686, 0.006969260456799302, -0.022976702816398766, 0.05458968361080612, -0.008499947122026444, 0.003234633004067066, -0.0014194260484634502, -0.016013129132935938, -0.008754383067841341, 0.0048556666941143465, -0.03599750628577413, -0.024815019779194803, -0.004723754561622214, -0.03408706687865813, -0.0791411312703157, 0.020851539440076533, 0.022581052614241166, 0.0006820828723047207, 0.04142919705294361, 0.017302735550917245, 0.029406476200750004, 0.008321026714222135, 0.00027606537117700144, 0.001962915172539248, 0.006286594720242023, 0.01248897722638465, -0.0071566150594716774, -0.012541503559925463, 0.060490475259783336, -0.019318296655308213, -0.007101678241892454, 0.003108216788649444, 0.02259718254647246, 0.051280727118099674, 0.006816344744910815, -0.026362488689968544, -0.013660652872531372, -0.013649756273245373, 0.03475901177099591, -0.00599989922862091, -0.0311181064128691, 0.003935495343369073, -0.02119023378063979, -0.03904133970789506, 0.0018300790272887015, 0.06135907246304039, -0.03893229461079073, 0.05017562188294265, -0.024063444657340206, -0.003440560330333956, -0.032502090465321154]}, {\"hovertemplate\": \"color=Mi Fu (On Cursive Calligraphy)<br>PC 1=%{x}<br>PC 2=%{y}<br>PC 3=%{z}<br>size=%{marker.size}<extra></extra>\", \"legendgroup\": \"Mi Fu (On Cursive Calligraphy)\", \"marker\": {\"color\": \"#FFA15A\", \"size\": [0.001, 0.001, 0.001, 0.001, 0.001, 0.001, 0.001, 0.001, 0.001, 0.001, 0.001, 0.001, 0.001, 0.001, 0.001, 0.001, 0.001, 0.001, 0.001, 0.001, 0.001, 0.001, 0.001, 0.001, 0.001, 0.001, 0.001, 0.001, 0.001, 0.001, 0.001, 0.001, 0.001, 0.001, 0.001, 0.001, 0.001, 0.001, 0.001, 0.001, 0.001, 0.001, 0.001, 0.001, 0.001, 0.001, 0.001, 0.001, 0.001, 0.001, 0.001, 0.001, 0.001, 0.001, 0.001, 0.001, 0.001, 0.001, 0.001, 0.001, 0.001, 0.001, 0.001], \"sizemode\": \"area\", \"sizeref\": 2.5e-06, \"symbol\": \"circle\"}, \"mode\": \"markers\", \"name\": \"Mi Fu (On Cursive Calligraphy)\", \"scene\": \"scene\", \"showlegend\": true, \"type\": \"scatter3d\", \"x\": [0.06142056542589898, -0.015352136383171164, 0.01089773007429611, 0.12508102748910674, 0.12776830092498417, 0.10064777385736884, 0.016237253453278828, -0.06782842167071955, -0.037704692959480667, -0.11226539292704095, 0.018615518906163087, 0.07921318980921041, 0.031013632682186373, -0.08835950078198576, -0.029352332699031473, -0.16231954035547758, 0.0683991313745648, 0.11540818396650697, 0.1026077261376296, 0.023147535955733035, -0.06459161644285466, 0.06443524609667209, -0.09398765018716786, -0.09820920353075531, 0.04438236483674562, -0.1332982836931423, -0.01897361844059072, -0.17779322647380144, -0.0164315836931963, -0.14090432478169762, 0.011041149962992653, 0.032140805167949656, 0.0015811253464783023, 0.037112392698396085, -0.12632632619733197, -0.11622799280543941, 0.04768497613079157, 0.09917534631489315, -0.07887623143869557, 0.14696788439084923, -0.041544521058530015, -0.10373129597745792, -0.017658155229582626, 0.08503898996835332, 0.08073163302700473, 0.0652785301955197, 0.13595205814390032, 0.04951432719110756, 0.1534237660196527, 0.10029020859605525, 0.14149658838754178, 0.07464925284016105, -0.0717266779068226, 0.056862920455296014, 0.11142252749170838, 0.01665841845096265, -0.0732336062757067, -0.15166797649567498, -0.006788232850444277, 0.004260705122321687, -0.04386837724987935, 0.16576625391502486, 0.1010909973648046], \"y\": [0.009032494230197871, -0.045425240784674914, -0.06570990797803285, 0.026849782700707495, -0.03401640786423629, 0.025584754753954855, 0.009253590971806875, -0.0473478122979455, -0.049274800410182416, 0.003924309992839285, 0.04478823808136833, 0.06071538100554939, 0.02542268050036005, 0.0005783798663687084, -0.05344983251431846, -0.02911916084267646, 0.018542828065025035, -0.008440898672439585, 0.029374424010756555, 0.009705883625108335, -0.009767127766066728, -0.024649909259341022, -0.009617858515619875, -0.018665197213875898, -0.035419157975147116, 0.0813925170306446, 0.014755598243936996, 0.058328010705259864, -0.10874217183041938, 0.047949230362276565, 0.03354507536834669, -0.06700276219888628, -0.06111496434776518, -0.011132968193339792, -0.016797911588957368, -0.004095307317305336, -0.007646923033232285, -0.021601424701843515, 0.062474434883385936, 0.03677189983610986, 0.11603976592894641, 0.07255006977091709, -0.07858457715643156, 0.13529967341517204, 0.019556405597062756, -0.0948765821826617, 0.03352462730779495, 0.014763551185259257, 0.02258124105131622, -0.04017387212132358, -0.0062774433053881485, -0.08317493516830747, -0.008223358483922152, -0.014885830322262051, -0.05233321221453864, 0.02478593221893344, -0.009578580141651537, -0.06708939056093577, -0.03809155028149091, -0.02573232102609799, -0.03901956202934776, -0.0001191152771500328, 0.031099914893536685], \"z\": [-0.03581032301571794, -0.0158968925312427, 0.005140943523033114, 0.020534943810378008, 0.15044409252005025, 0.00012029648498102118, 0.15946539792474976, -0.024938534200353076, 0.01778482839303311, 0.0387289207489766, -0.008906681369789431, 0.10641914012068554, 0.03890182374711791, -0.039390616709729834, 0.025390727426951844, -0.00800000543445933, -0.055756999914043204, 0.01577136762338788, -0.0021696551153325156, -0.001077466363258392, 0.013115015512753044, 0.005016829168697127, -0.04872244001599593, 0.003673242235506886, 0.049504244674431555, -0.004040739977999824, -0.0070933055750738066, 0.004231976631988247, -0.01842757611086363, -0.02711011435699621, -0.020605405500112178, -0.021128432442174935, 0.021831119760247642, -0.023868515347698065, -0.002524653906043175, 0.002981997457100059, 0.008074245520049735, 0.014575219533672244, -0.006389962010129959, 0.003469703887543846, -0.03900682287253922, 0.008967167282681413, 0.015047774063092845, 0.060009979906776145, 0.09374961134922381, -0.01592668507108806, -0.007585368668376179, -0.020755406187371865, -0.04707259550636302, -0.03366816702154933, -0.03249674648243, -0.032220274845801124, -0.013048049994707739, -0.017272941360435216, -0.06011041385017334, 0.04430077219145487, 0.022075498331561354, 0.009637637349157088, -0.026288779022857606, 0.030533850439938098, 6.019788228348229e-06, -0.10076257201687451, -0.03709641062304596]}],                        {\"legend\": {\"itemsizing\": \"constant\", \"title\": {\"text\": \"color\"}, \"tracegroupgap\": 0}, \"scene\": {\"domain\": {\"x\": [0.0, 1.0], \"y\": [0.0, 1.0]}, \"xaxis\": {\"title\": {\"text\": \"PC 1\"}}, \"yaxis\": {\"title\": {\"text\": \"PC 2\"}}, \"zaxis\": {\"title\": {\"text\": \"PC 3\"}}}, \"template\": {\"data\": {\"bar\": [{\"error_x\": {\"color\": \"#2a3f5f\"}, \"error_y\": {\"color\": \"#2a3f5f\"}, \"marker\": {\"line\": {\"color\": \"#E5ECF6\", \"width\": 0.5}}, \"type\": \"bar\"}], \"barpolar\": [{\"marker\": {\"line\": {\"color\": \"#E5ECF6\", \"width\": 0.5}}, \"type\": \"barpolar\"}], \"carpet\": [{\"aaxis\": {\"endlinecolor\": \"#2a3f5f\", \"gridcolor\": \"white\", \"linecolor\": \"white\", \"minorgridcolor\": \"white\", \"startlinecolor\": \"#2a3f5f\"}, \"baxis\": {\"endlinecolor\": \"#2a3f5f\", \"gridcolor\": \"white\", \"linecolor\": \"white\", \"minorgridcolor\": \"white\", \"startlinecolor\": \"#2a3f5f\"}, \"type\": \"carpet\"}], \"choropleth\": [{\"colorbar\": {\"outlinewidth\": 0, \"ticks\": \"\"}, \"type\": \"choropleth\"}], \"contour\": [{\"colorbar\": {\"outlinewidth\": 0, \"ticks\": \"\"}, \"colorscale\": [[0.0, \"#0d0887\"], [0.1111111111111111, \"#46039f\"], [0.2222222222222222, \"#7201a8\"], [0.3333333333333333, \"#9c179e\"], [0.4444444444444444, \"#bd3786\"], [0.5555555555555556, \"#d8576b\"], [0.6666666666666666, \"#ed7953\"], [0.7777777777777778, \"#fb9f3a\"], [0.8888888888888888, \"#fdca26\"], [1.0, \"#f0f921\"]], \"type\": \"contour\"}], \"contourcarpet\": [{\"colorbar\": {\"outlinewidth\": 0, \"ticks\": \"\"}, \"type\": \"contourcarpet\"}], \"heatmap\": [{\"colorbar\": {\"outlinewidth\": 0, \"ticks\": \"\"}, \"colorscale\": [[0.0, \"#0d0887\"], [0.1111111111111111, \"#46039f\"], [0.2222222222222222, \"#7201a8\"], [0.3333333333333333, \"#9c179e\"], [0.4444444444444444, \"#bd3786\"], [0.5555555555555556, \"#d8576b\"], [0.6666666666666666, \"#ed7953\"], [0.7777777777777778, \"#fb9f3a\"], [0.8888888888888888, \"#fdca26\"], [1.0, \"#f0f921\"]], \"type\": \"heatmap\"}], \"heatmapgl\": [{\"colorbar\": {\"outlinewidth\": 0, \"ticks\": \"\"}, \"colorscale\": [[0.0, \"#0d0887\"], [0.1111111111111111, \"#46039f\"], [0.2222222222222222, \"#7201a8\"], [0.3333333333333333, \"#9c179e\"], [0.4444444444444444, \"#bd3786\"], [0.5555555555555556, \"#d8576b\"], [0.6666666666666666, \"#ed7953\"], [0.7777777777777778, \"#fb9f3a\"], [0.8888888888888888, \"#fdca26\"], [1.0, \"#f0f921\"]], \"type\": \"heatmapgl\"}], \"histogram\": [{\"marker\": {\"colorbar\": {\"outlinewidth\": 0, \"ticks\": \"\"}}, \"type\": \"histogram\"}], \"histogram2d\": [{\"colorbar\": {\"outlinewidth\": 0, \"ticks\": \"\"}, \"colorscale\": [[0.0, \"#0d0887\"], [0.1111111111111111, \"#46039f\"], [0.2222222222222222, \"#7201a8\"], [0.3333333333333333, \"#9c179e\"], [0.4444444444444444, \"#bd3786\"], [0.5555555555555556, \"#d8576b\"], [0.6666666666666666, \"#ed7953\"], [0.7777777777777778, \"#fb9f3a\"], [0.8888888888888888, \"#fdca26\"], [1.0, \"#f0f921\"]], \"type\": \"histogram2d\"}], \"histogram2dcontour\": [{\"colorbar\": {\"outlinewidth\": 0, \"ticks\": \"\"}, \"colorscale\": [[0.0, \"#0d0887\"], [0.1111111111111111, \"#46039f\"], [0.2222222222222222, \"#7201a8\"], [0.3333333333333333, \"#9c179e\"], [0.4444444444444444, \"#bd3786\"], [0.5555555555555556, \"#d8576b\"], [0.6666666666666666, \"#ed7953\"], [0.7777777777777778, \"#fb9f3a\"], [0.8888888888888888, \"#fdca26\"], [1.0, \"#f0f921\"]], \"type\": \"histogram2dcontour\"}], \"mesh3d\": [{\"colorbar\": {\"outlinewidth\": 0, \"ticks\": \"\"}, \"type\": \"mesh3d\"}], \"parcoords\": [{\"line\": {\"colorbar\": {\"outlinewidth\": 0, \"ticks\": \"\"}}, \"type\": \"parcoords\"}], \"pie\": [{\"automargin\": true, \"type\": \"pie\"}], \"scatter\": [{\"marker\": {\"colorbar\": {\"outlinewidth\": 0, \"ticks\": \"\"}}, \"type\": \"scatter\"}], \"scatter3d\": [{\"line\": {\"colorbar\": {\"outlinewidth\": 0, \"ticks\": \"\"}}, \"marker\": {\"colorbar\": {\"outlinewidth\": 0, \"ticks\": \"\"}}, \"type\": \"scatter3d\"}], \"scattercarpet\": [{\"marker\": {\"colorbar\": {\"outlinewidth\": 0, \"ticks\": \"\"}}, \"type\": \"scattercarpet\"}], \"scattergeo\": [{\"marker\": {\"colorbar\": {\"outlinewidth\": 0, \"ticks\": \"\"}}, \"type\": \"scattergeo\"}], \"scattergl\": [{\"marker\": {\"colorbar\": {\"outlinewidth\": 0, \"ticks\": \"\"}}, \"type\": \"scattergl\"}], \"scattermapbox\": [{\"marker\": {\"colorbar\": {\"outlinewidth\": 0, \"ticks\": \"\"}}, \"type\": \"scattermapbox\"}], \"scatterpolar\": [{\"marker\": {\"colorbar\": {\"outlinewidth\": 0, \"ticks\": \"\"}}, \"type\": \"scatterpolar\"}], \"scatterpolargl\": [{\"marker\": {\"colorbar\": {\"outlinewidth\": 0, \"ticks\": \"\"}}, \"type\": \"scatterpolargl\"}], \"scatterternary\": [{\"marker\": {\"colorbar\": {\"outlinewidth\": 0, \"ticks\": \"\"}}, \"type\": \"scatterternary\"}], \"surface\": [{\"colorbar\": {\"outlinewidth\": 0, \"ticks\": \"\"}, \"colorscale\": [[0.0, \"#0d0887\"], [0.1111111111111111, \"#46039f\"], [0.2222222222222222, \"#7201a8\"], [0.3333333333333333, \"#9c179e\"], [0.4444444444444444, \"#bd3786\"], [0.5555555555555556, \"#d8576b\"], [0.6666666666666666, \"#ed7953\"], [0.7777777777777778, \"#fb9f3a\"], [0.8888888888888888, \"#fdca26\"], [1.0, \"#f0f921\"]], \"type\": \"surface\"}], \"table\": [{\"cells\": {\"fill\": {\"color\": \"#EBF0F8\"}, \"line\": {\"color\": \"white\"}}, \"header\": {\"fill\": {\"color\": \"#C8D4E3\"}, \"line\": {\"color\": \"white\"}}, \"type\": \"table\"}]}, \"layout\": {\"annotationdefaults\": {\"arrowcolor\": \"#2a3f5f\", \"arrowhead\": 0, \"arrowwidth\": 1}, \"autotypenumbers\": \"strict\", \"coloraxis\": {\"colorbar\": {\"outlinewidth\": 0, \"ticks\": \"\"}}, \"colorscale\": {\"diverging\": [[0, \"#8e0152\"], [0.1, \"#c51b7d\"], [0.2, \"#de77ae\"], [0.3, \"#f1b6da\"], [0.4, \"#fde0ef\"], [0.5, \"#f7f7f7\"], [0.6, \"#e6f5d0\"], [0.7, \"#b8e186\"], [0.8, \"#7fbc41\"], [0.9, \"#4d9221\"], [1, \"#276419\"]], \"sequential\": [[0.0, \"#0d0887\"], [0.1111111111111111, \"#46039f\"], [0.2222222222222222, \"#7201a8\"], [0.3333333333333333, \"#9c179e\"], [0.4444444444444444, \"#bd3786\"], [0.5555555555555556, \"#d8576b\"], [0.6666666666666666, \"#ed7953\"], [0.7777777777777778, \"#fb9f3a\"], [0.8888888888888888, \"#fdca26\"], [1.0, \"#f0f921\"]], \"sequentialminus\": [[0.0, \"#0d0887\"], [0.1111111111111111, \"#46039f\"], [0.2222222222222222, \"#7201a8\"], [0.3333333333333333, \"#9c179e\"], [0.4444444444444444, \"#bd3786\"], [0.5555555555555556, \"#d8576b\"], [0.6666666666666666, \"#ed7953\"], [0.7777777777777778, \"#fb9f3a\"], [0.8888888888888888, \"#fdca26\"], [1.0, \"#f0f921\"]]}, \"colorway\": [\"#636efa\", \"#EF553B\", \"#00cc96\", \"#ab63fa\", \"#FFA15A\", \"#19d3f3\", \"#FF6692\", \"#B6E880\", \"#FF97FF\", \"#FECB52\"], \"font\": {\"color\": \"#2a3f5f\"}, \"geo\": {\"bgcolor\": \"white\", \"lakecolor\": \"white\", \"landcolor\": \"#E5ECF6\", \"showlakes\": true, \"showland\": true, \"subunitcolor\": \"white\"}, \"hoverlabel\": {\"align\": \"left\"}, \"hovermode\": \"closest\", \"mapbox\": {\"style\": \"light\"}, \"paper_bgcolor\": \"white\", \"plot_bgcolor\": \"#E5ECF6\", \"polar\": {\"angularaxis\": {\"gridcolor\": \"white\", \"linecolor\": \"white\", \"ticks\": \"\"}, \"bgcolor\": \"#E5ECF6\", \"radialaxis\": {\"gridcolor\": \"white\", \"linecolor\": \"white\", \"ticks\": \"\"}}, \"scene\": {\"xaxis\": {\"backgroundcolor\": \"#E5ECF6\", \"gridcolor\": \"white\", \"gridwidth\": 2, \"linecolor\": \"white\", \"showbackground\": true, \"ticks\": \"\", \"zerolinecolor\": \"white\"}, \"yaxis\": {\"backgroundcolor\": \"#E5ECF6\", \"gridcolor\": \"white\", \"gridwidth\": 2, \"linecolor\": \"white\", \"showbackground\": true, \"ticks\": \"\", \"zerolinecolor\": \"white\"}, \"zaxis\": {\"backgroundcolor\": \"#E5ECF6\", \"gridcolor\": \"white\", \"gridwidth\": 2, \"linecolor\": \"white\", \"showbackground\": true, \"ticks\": \"\", \"zerolinecolor\": \"white\"}}, \"shapedefaults\": {\"line\": {\"color\": \"#2a3f5f\"}}, \"ternary\": {\"aaxis\": {\"gridcolor\": \"white\", \"linecolor\": \"white\", \"ticks\": \"\"}, \"baxis\": {\"gridcolor\": \"white\", \"linecolor\": \"white\", \"ticks\": \"\"}, \"bgcolor\": \"#E5ECF6\", \"caxis\": {\"gridcolor\": \"white\", \"linecolor\": \"white\", \"ticks\": \"\"}}, \"title\": {\"x\": 0.05}, \"xaxis\": {\"automargin\": true, \"gridcolor\": \"white\", \"linecolor\": \"white\", \"ticks\": \"\", \"title\": {\"standoff\": 15}, \"zerolinecolor\": \"white\", \"zerolinewidth\": 2}, \"yaxis\": {\"automargin\": true, \"gridcolor\": \"white\", \"linecolor\": \"white\", \"ticks\": \"\", \"title\": {\"standoff\": 15}, \"zerolinecolor\": \"white\", \"zerolinewidth\": 2}}}, \"title\": {\"text\": \"Total Explained Variance: 76.68%\"}},                        {\"responsive\": true}                    ).then(function(){\n",
       "                            \n",
       "var gd = document.getElementById('2c97ac75-463a-4c61-96b4-9bc363b257e4');\n",
       "var x = new MutationObserver(function (mutations, observer) {{\n",
       "        var display = window.getComputedStyle(gd).display;\n",
       "        if (!display || display === 'none') {{\n",
       "            console.log([gd, 'removed!']);\n",
       "            Plotly.purge(gd);\n",
       "            observer.disconnect();\n",
       "        }}\n",
       "}});\n",
       "\n",
       "// Listen for the removal of the full notebook cells\n",
       "var notebookContainer = gd.closest('#notebook-container');\n",
       "if (notebookContainer) {{\n",
       "    x.observe(notebookContainer, {childList: true});\n",
       "}}\n",
       "\n",
       "// Listen for the clearing of the current output cell\n",
       "var outputEl = gd.closest('.output');\n",
       "if (outputEl) {{\n",
       "    x.observe(outputEl, {childList: true});\n",
       "}}\n",
       "\n",
       "                        })                };                });            </script>        </div>"
      ]
     },
     "metadata": {},
     "output_type": "display_data"
    }
   ],
   "source": [
    "# 3D PCA\n",
    "pca = PCA(n_components=3)\n",
    "components = pca.fit_transform(np.vstack([X.T for X in X_list]))\n",
    "\n",
    "total_var = pca.explained_variance_ratio_.sum() * 100\n",
    "\n",
    "fig = px.scatter_3d(\n",
    "    components, x=0, y=1, z=2, color=labels,\n",
    "    size=[0.001]*len(labels),\n",
    "    title=f'Total Explained Variance: {total_var:.2f}%',\n",
    "    labels={'0': 'PC 1', '1': 'PC 2', '2': 'PC 3'}\n",
    ")\n",
    "fig.show()"
   ]
  },
  {
   "cell_type": "code",
   "execution_count": 53,
   "id": "animated-placement",
   "metadata": {},
   "outputs": [],
   "source": [
    "# Double-check that the WangXiZhi characters look okay after post processing\n",
    "path = 'Extracted Characters/WangXiZhi - On the Seventeenth Day/'\n",
    "filenames = os.listdir(path)\n",
    "filenames.sort()\n",
    "\n",
    "bins = 20\n",
    "X = np.zeros((bins, len(filenames)))\n",
    "for i, filename in enumerate(filenames):\n",
    "    img = io.imread(path + filename)\n",
    "    preprocessed = preprocess(img, invert=False)\n",
    "    io.imsave('Test/debug/preprocessed_{:02d}.png'.format(i), preprocessed)\n",
    "    counts, theta = contour_analysis(preprocessed, bins=bins)\n",
    "    # divide counts by total counts to get Probability Mass Function (PMF)\n",
    "    probs = counts / counts.sum()\n",
    "    X[:, i] = probs\n"
   ]
  },
  {
   "cell_type": "markdown",
   "id": "fluid-smith",
   "metadata": {},
   "source": [
    "# Using 46 features"
   ]
  },
  {
   "cell_type": "code",
   "execution_count": 166,
   "id": "extreme-adjustment",
   "metadata": {},
   "outputs": [
    {
     "name": "stdout",
     "output_type": "stream",
     "text": [
      "# of datapoints: 431\n",
      "len(labels) = 431\n",
      "Total explained variance = 56.90%\n"
     ]
    },
    {
     "data": {
      "application/vnd.plotly.v1+json": {
       "config": {
        "plotlyServerURL": "https://plot.ly"
       },
       "data": [
        {
         "hovertemplate": "color=Mi Fu (Wu River)<br>0=%{x}<br>1=%{y}<extra></extra>",
         "legendgroup": "Mi Fu (Wu River)",
         "marker": {
          "color": "#636efa",
          "symbol": "circle"
         },
         "mode": "markers",
         "name": "Mi Fu (Wu River)",
         "orientation": "v",
         "showlegend": true,
         "type": "scatter",
         "x": [
          0.29875458610804306,
          0.1300840218285004,
          0.21699307954450983,
          0.3512214485833409,
          0.23497299501000468,
          0.3791862095571969,
          0.34655665459046797,
          0.4160293099878011,
          0.3242027961534292,
          0.44465908720222136,
          0.27369595412793973,
          0.10721654949261424,
          0.17618377234738464,
          0.37976311985431094,
          0.33316192528489846,
          0.48631249947247635,
          0.26906923704346375,
          0.4038887415282058,
          0.2496957755857725,
          0.23676771208157582,
          0.21809722749588853,
          0.25442527230680856,
          0.17299295916574317,
          0.3220843426963003,
          0.42422957174004683,
          0.2752061568884973,
          0.413932195445051,
          0.43904396991004596,
          0.20493367308192692,
          0.0648571273279768,
          -0.09982576477093083,
          -0.06116181159211534,
          0.08897969850149981,
          0.21058973853782362,
          -0.15020294978960377,
          -0.08491830146248253,
          -0.24636140224555578,
          0.22745949705199373,
          -0.38923404269702516,
          -0.27696660856885225,
          0.21494639648326955,
          0.3725225888179465,
          0.26878560385840294,
          -0.10692424192430057,
          -0.38469022043457385,
          0.015842131265940616,
          0.19181667225689283,
          -0.1828811018696208,
          -0.4976122778002157,
          0.03185119824220486,
          -0.08117530180164284,
          -0.14849659211468536,
          -0.051348599053325256,
          -0.06782309596700932,
          0.09139201446001582,
          0.32225429625663277,
          -0.6384981279154,
          -0.5018241754637067,
          -0.4328889682490034,
          -0.16425800649487543,
          0.06953610792028722,
          -0.09361979553638684,
          -0.186329178581959,
          0.1082352015838469,
          -0.12118729544690587,
          -0.31993483379707616,
          -0.34096144209510526,
          0.014607553831670726,
          0.2621408045186881,
          -0.20221906973246107,
          -0.7360994639818048,
          -0.019347855984917246,
          -0.2205591498713019,
          -0.18111238920330366,
          0.20366759411457616,
          -0.07126308805185956,
          -0.4197301765148915,
          -0.20840107192978977,
          0.0035915738696953646,
          -0.15506803837230512,
          -0.35270814862903627,
          -0.36593955061264205,
          -0.39326416271215703,
          -0.07833318803529575,
          -0.028756995047642536,
          -0.10702869846111532,
          0.021626977010901827,
          -0.2861881280882459,
          -0.5111082549567197,
          -0.1971373679608901,
          -0.2815023222702204
         ],
         "xaxis": "x",
         "y": [
          -0.08733631962981765,
          -0.26001737133028247,
          0.07914401338337695,
          -0.13600361544037318,
          -0.06295727199398704,
          -0.1468285324515338,
          -0.08491887562935022,
          -0.057098081052291604,
          -0.24245971031430377,
          -0.35096083528948924,
          -0.12503184996172292,
          -0.20826028784798972,
          -0.23201822832615587,
          -0.14301573888593117,
          0.12630656712373264,
          -0.2869459966440296,
          0.20378430433856093,
          -0.3207934933896367,
          -0.1247298706693199,
          -0.25124977528957004,
          -0.18035587789743016,
          -0.1336676808263568,
          -0.056270483790672676,
          -0.2340637099284161,
          -0.08978709405159062,
          -0.10301953854560272,
          -0.22376385391538284,
          0.026607955167239003,
          -0.30282634582104273,
          -0.1432363576371848,
          -0.12935387916673713,
          -0.1668082511079431,
          -0.11218150203835055,
          -0.29933531525225127,
          -0.07754695744570739,
          -0.09245837686558328,
          0.1372198978296632,
          0.037521563754512766,
          0.026407725496853166,
          0.10839134833646866,
          -0.16212521448173486,
          -0.13967018312458163,
          -0.19001715638275476,
          -0.5358719981698683,
          0.28966642403412984,
          0.01697105825021513,
          0.20095002802424963,
          -0.2977916883422397,
          -0.2533653633328789,
          -0.12438196857232024,
          -0.0038526219259326405,
          -0.5703615868345215,
          -0.2463741223413638,
          0.06488487246694542,
          -0.0994863819029925,
          0.10379987556619623,
          -0.5671061470887963,
          -0.31172234000124616,
          0.14183491484861643,
          0.2251783464360012,
          -0.32928333720200026,
          -0.023323950247390455,
          0.25379185376005536,
          0.22051217309360494,
          -0.08211566116628954,
          -0.21623492012197806,
          -0.4411508397169439,
          -0.22775972201668748,
          0.06277639576948812,
          -0.33117539029461474,
          1.026837924434446,
          -0.3203146213839649,
          0.10345503519078941,
          -0.19263286592697212,
          0.04740033820906241,
          -0.04929059802397362,
          -0.19082197409740817,
          -0.14388060662020835,
          -0.030627191276520145,
          0.08907042892984156,
          0.022219593392439837,
          -0.40390675229502815,
          -0.36900243513202513,
          -0.11771040918359596,
          -0.0011471748930440698,
          -0.2993365588487791,
          0.20717648220107457,
          -0.7848820082584367,
          -0.5164318829014549,
          -0.20132485368790864,
          0.2808266772074693
         ],
         "yaxis": "y"
        },
        {
         "hovertemplate": "color=Huizong<br>0=%{x}<br>1=%{y}<extra></extra>",
         "legendgroup": "Huizong",
         "marker": {
          "color": "#EF553B",
          "symbol": "circle"
         },
         "mode": "markers",
         "name": "Huizong",
         "orientation": "v",
         "showlegend": true,
         "type": "scatter",
         "x": [
          0.11552312026812062,
          0.28067906976812845,
          0.2274043335301201,
          0.011519597645208225,
          0.13880959958402125,
          0.2717997409393243,
          0.3085551439942287,
          0.3552660983986209,
          0.14627816956736917,
          0.26266441614309793,
          0.4045812130348537,
          0.189650110450536,
          0.43606540089012147,
          0.4556746250964642,
          0.38035852263590003,
          0.06238948677721561,
          0.07023792624343284,
          0.4302898586861597,
          0.5644689766597146,
          0.4000469753743651,
          0.5006984118929908,
          0.6269976268082706,
          0.4134110812605418,
          0.3493007511483717,
          0.5828511679139607,
          0.3976280710720324,
          0.3153189852424481,
          0.2999368418455039,
          0.274394933074893,
          0.2540002958187938,
          -0.006099316610229945,
          0.27566065224936653,
          0.3931878029452889,
          0.4574115707142405,
          0.46194814507375903,
          0.08384935096903232,
          0.16720180306416582,
          0.4543438048698174,
          0.35898242717504264,
          0.18495955001519748,
          0.08153916030199128,
          0.17908663448064352,
          0.254992658633306,
          -0.15276043023932884,
          -0.016516851470993264,
          0.08087851748977137,
          0.5177045322037632,
          0.5156216043433655,
          0.5721916310817098,
          0.22447698650810927,
          0.15439616176907558,
          0.3082233601158557,
          0.4532687119655295,
          0.26640822058293845,
          0.1907583852269555,
          0.14684193634960194,
          0.09825917364401174,
          0.05164567464689022,
          0.09424223938853077,
          0.4396987628237872,
          0.22409289194325158,
          0.31256989299402993,
          0.15646778490178345
         ],
         "xaxis": "x",
         "y": [
          0.012350357338688967,
          0.2595643671864556,
          0.012429709396375707,
          -0.37119953462621225,
          0.3406762090048127,
          -0.09720962932049125,
          -0.07267731280826414,
          -0.38962539043716193,
          -0.14394866435630288,
          0.0960241558914595,
          0.04685799429675888,
          0.058074554737494316,
          -0.1797741487784885,
          -0.15986879803248674,
          0.0113031440775885,
          -0.13156208027324237,
          0.614507954517621,
          -0.18108943038714448,
          0.2719264294504385,
          0.03002739039150053,
          -0.1661023022761454,
          0.13851344439508834,
          -0.06747384638872267,
          -0.073142790763236,
          0.1466593186140815,
          0.21321365003379847,
          0.10993327005311454,
          0.05665691629051313,
          -0.09872820385782707,
          -0.10658580632412157,
          0.29619687643745257,
          -0.11713740740398526,
          -0.13681479393721874,
          -0.24392251048722763,
          0.004721730511958036,
          -0.12980445200861804,
          0.21697418444952413,
          0.059472135730717225,
          -0.21590953313375316,
          -0.22132212049529726,
          0.36192743569877955,
          -0.1001984626427826,
          0.035852530326090065,
          -0.23214163201067456,
          0.19757849527916982,
          0.1581695366505961,
          0.12804198395074132,
          0.12945131752307273,
          0.0004891414348776556,
          0.0010274602696097464,
          0.06469266904499275,
          -0.05141671314728618,
          0.13404568103845405,
          -0.39984201420325427,
          0.039315457241297834,
          0.13998788879146737,
          0.16275512650992116,
          0.34307970660890635,
          -0.10028095383566728,
          0.009901104498454286,
          -0.31930585022513047,
          -0.13464043444036955,
          0.06151197202863846
         ],
         "yaxis": "y"
        },
        {
         "hovertemplate": "color=Su Shi<br>0=%{x}<br>1=%{y}<extra></extra>",
         "legendgroup": "Su Shi",
         "marker": {
          "color": "#00cc96",
          "symbol": "circle"
         },
         "mode": "markers",
         "name": "Su Shi",
         "orientation": "v",
         "showlegend": true,
         "type": "scatter",
         "x": [
          -0.30412136922768734,
          -0.20416803060556185,
          -0.0526594949149241,
          -0.15680205149650583,
          -0.5383496804930654,
          -0.1009511852001022,
          -0.22715378062221983,
          -0.06844176169012034,
          -0.2967976438826595,
          -0.036817765895753723,
          0.039195939838618105,
          0.013423608012239392,
          0.2740859878716529,
          -0.023616471694709488,
          -0.04897580299002884,
          0.04652539251289779,
          -0.29296973215969346,
          0.05574860042628312,
          -0.26504514493327996,
          0.04057002799952382,
          -0.18359419366833088,
          -0.12536184337411815,
          -0.5115289452378399,
          0.06589297202987113,
          0.09256653801464931,
          -0.45606455712835625,
          -0.4590235091636063,
          -0.18958360459733326,
          0.22017409198391494,
          -0.04679733087048807,
          -0.16690961439032223,
          0.05106999995400023,
          -0.09393333737629234,
          -0.38885632319594265,
          0.04740534516625414,
          -0.32355577971412736,
          -0.5100399158996713,
          -0.3374798017904083,
          -0.17109327450451012,
          -0.11745514280338337,
          -0.23172866343535695,
          -0.05783727351765857,
          -0.20100124436286432,
          -0.4612342320160927,
          -0.507581336626401,
          -0.21159229217140568,
          -0.4161829995808652,
          -0.053075335245294904,
          -0.026490916339865847,
          0.28174975851772743,
          0.4889491542042432,
          -0.2770690882435056,
          -0.16632423504400157,
          -0.06491665076424682,
          -0.31264112562948304,
          0.0754616514923692,
          0.0190624660633321,
          -0.27791347516378967,
          -0.38119683300551244,
          -0.3110150252046435,
          -0.23438588492374895,
          -0.24345640257714143,
          -0.4255188469778966,
          -0.21652793182979738,
          -0.09941101325857638,
          -0.25343775166101074,
          -0.4083349244563736,
          -0.20420201810452557,
          -0.33298655854780584,
          -0.14998410412243912,
          -0.15985196812749256,
          -0.28716654666507613,
          -0.03894087286168859,
          -0.1776427417300934,
          -0.07610832232831291,
          0.1545562197219933,
          0.08748116098423908,
          0.18960599373682951,
          -0.11818035014473613,
          -0.14262993221970374,
          0.08951075891577144,
          -0.020142173211161365,
          0.17866731799893731,
          0.027831166560137264,
          0.08881839778925865,
          -0.16374211699346078,
          0.11099885380761751,
          0.0713532405316872,
          -0.08440720480728021,
          -0.46171343917297963,
          -0.09302117762761544,
          -0.1258759034501695,
          -0.23363368381839447,
          0.15030604321808821,
          -0.09679802721005748,
          0.0035977816884063584,
          -0.28634064925220587,
          -0.05104559011452607,
          -0.04383918448016223,
          0.02464794054862246,
          0.1744675033136193,
          -0.35319687311293163,
          0.1147196447267803,
          0.1464045021098226,
          -0.10490636933062553,
          -0.28234191083696986,
          -0.05712205075096295,
          -0.1546553721099367,
          -0.1654426649962798,
          -0.08842987031741655,
          -0.11194095825452505,
          -0.11139335611950599,
          0.0389260011155017,
          0.07518356063543628,
          -0.25816905198807377,
          0.13579599856195898,
          0.09744735015963217,
          0.44915355330366225,
          -0.14396898101525696
         ],
         "xaxis": "x",
         "y": [
          -0.42228783478261583,
          0.06425471748222984,
          0.16256658905707544,
          0.19433709635168323,
          -0.6128878321552492,
          0.009397987632192299,
          0.004888475591734371,
          0.5953025567519877,
          0.6117381917785626,
          0.29447259655982416,
          -0.015019527769157664,
          -0.2813142338482021,
          0.11203271943232056,
          0.1803442560648852,
          0.10710858419224327,
          0.22643190827953946,
          0.3003481209203578,
          -0.34086578803749934,
          0.309450264892421,
          0.2377468202027838,
          -0.03762184309989776,
          0.12002198069849453,
          -0.6606382640679236,
          0.2059276927125675,
          0.15510959756275247,
          -0.3003772813679611,
          -0.40076265827425167,
          -0.2935837682618558,
          0.0878973474845861,
          0.10203770008390647,
          -0.11904437693945574,
          -0.05186598865359685,
          0.24101170997509364,
          0.41983914973463293,
          0.1907185088223451,
          -0.4310897055794337,
          -0.7845307390601017,
          -0.42491095077039015,
          -0.004445153969395019,
          0.1988960680915113,
          0.20289316233607918,
          0.059192871149198946,
          0.23242852202222417,
          -0.2759456158390529,
          -0.15521279097041454,
          -0.08325849856709416,
          -0.03103021842164709,
          0.28858951910155284,
          -0.25637591796123366,
          -0.12256350701485624,
          -0.002810077194008246,
          -0.2539977884434124,
          0.36304972289448634,
          -0.26832087435777907,
          -0.09356311398855179,
          0.14454524815102937,
          0.0827412878288829,
          0.16469191940862124,
          0.41431666342525925,
          -0.0636497440310332,
          -0.1792879697275067,
          0.14398241716787483,
          0.27525796139662095,
          0.3445397163267407,
          -0.11427317102638689,
          0.0032923712820926293,
          0.2691836065063174,
          0.13575343075134744,
          -0.05830894640719837,
          -0.11435473775276123,
          -0.02844647884529345,
          -0.041980961132424235,
          0.31622583642237606,
          0.3429392166639003,
          0.26008038764777636,
          0.1466729123955194,
          0.3925209261342651,
          0.20719308492584612,
          0.04691398730970429,
          0.08742374067493756,
          -0.03701462796089201,
          -0.11886246284465761,
          -0.23727010906193402,
          -0.1591797565164941,
          0.1826120147547687,
          0.14933438181960226,
          0.31209093094999985,
          -0.23061107860619562,
          0.06642602848214359,
          -0.33518548166237655,
          0.21919156752811414,
          -0.16754533258014806,
          -0.6216511136970729,
          0.22137783018255874,
          -0.45490694319707,
          0.004051892746417052,
          0.30403559159479504,
          0.35049480473698996,
          0.14630985390556897,
          0.26548680041068495,
          -0.019201468202568517,
          0.5362062301674023,
          0.13395977397827236,
          0.16098661730013444,
          0.11888048244297723,
          0.012613938739408765,
          -0.011585663526174446,
          0.044940949559899024,
          0.11148497289664532,
          0.1378719998872135,
          0.24402186713402582,
          0.25014139850864475,
          0.14637269982635429,
          0.09835799405269216,
          -0.5174333175145517,
          0.15022526193049188,
          -0.1419696686318707,
          0.5656423095484295,
          0.01977324157693499
         ],
         "yaxis": "y"
        },
        {
         "hovertemplate": "color=WangXiZhi<br>0=%{x}<br>1=%{y}<extra></extra>",
         "legendgroup": "WangXiZhi",
         "marker": {
          "color": "#ab63fa",
          "symbol": "circle"
         },
         "mode": "markers",
         "name": "WangXiZhi",
         "orientation": "v",
         "showlegend": true,
         "type": "scatter",
         "x": [
          0.00046052961482449063,
          0.11484534354726102,
          0.23711391436592685,
          0.010500053874472644,
          0.5161524893119824,
          0.8093477440760224,
          0.8669376300593054,
          -0.0928776348713699,
          0.0960497453942117,
          0.3468634622944858,
          0.8714645593933911,
          -0.04133568723931822,
          0.003031839866607826,
          0.08740960049091509,
          -0.05530236595449625,
          -0.31106413660330123,
          -0.2273792531737126,
          0.2541867027634335,
          -0.11302554543963776,
          -0.1046487787980576,
          0.3541734633989057,
          0.5154707980143045,
          0.5730662873211032,
          0.2741069492730731,
          0.5110089978405454,
          0.01797894508743641,
          -0.07092060495807664,
          0.0631959903719052,
          0.2572754975971777,
          -0.11714679646769338,
          0.11460700424315604,
          0.2155860474391775,
          0.15347187642874313,
          -0.10453197523025062,
          0.4576992452141736,
          0.06822341244034139,
          0.3704695569940226,
          0.2397618520202225,
          0.42595658391351016,
          0.15071398180352008,
          0.09759347217433152,
          -0.09690497238295313,
          0.15629227125442288,
          0.06054455398991385,
          0.318522580356876,
          -0.003037728619394114,
          -0.10223122514303708,
          0.4480548819490827,
          0.04242144332761974,
          -0.037694204579278,
          -0.024647542472791297,
          -0.23620658604465453,
          -0.25429960714765193,
          0.20094918635642153,
          -0.06605380955102089,
          0.31826808120883365,
          -0.08365115890973941,
          -0.24496375653825267,
          -0.3382115740137727,
          0.19745363743200608,
          0.3410350777203619,
          0.4061148932106837,
          0.5089908798439775,
          0.7205167396363278,
          0.3417507235937034,
          0.29681599050069524,
          0.06246464644067287,
          -0.044214607892138214,
          -0.03250276917875424,
          0.33500751050697425,
          0.00018181758805048485,
          -0.14255801073001706,
          0.13055314966336273,
          0.4088849499762638,
          0.4810965007590695,
          0.47239361925322104,
          0.6340137430274004,
          0.3798868865577797,
          0.09047842324194465,
          -0.22325804096144788,
          0.39759885057796845,
          0.08537428956026845,
          -0.06194244266880378,
          0.3200219607353473,
          0.3422263342474321,
          0.18316467967643849,
          0.1774209381376389,
          0.02282237313015897,
          -0.05228020333284104,
          -0.2057448762138231,
          -0.33096036106400034,
          0.0009122100683527965,
          -0.215665707669051,
          -0.04062757244779337,
          0.2872022012638338
         ],
         "xaxis": "x",
         "y": [
          0.2878460898020787,
          -0.13456793001896364,
          -0.037399329471738164,
          0.056454201200066265,
          -0.025933472023573885,
          -0.059124561905117154,
          -0.09277208037096706,
          0.040032282334717194,
          0.26054732645849504,
          0.05744861448450853,
          -0.03869629143632059,
          0.1354303343465678,
          0.19633082436775137,
          0.08810416886631038,
          -0.2622381473894135,
          -0.07224748894704312,
          -0.4809385745218339,
          -0.161079682980624,
          0.2254238286833265,
          0.11401846005061603,
          -0.07398983033421566,
          0.03581671441299476,
          -0.05156983155149724,
          0.06512535145797527,
          0.2831636217977715,
          -0.08418938261207574,
          -0.028793603523968182,
          -0.10239895476742708,
          -0.01408320551492238,
          -0.4755264119668516,
          0.2695802582132821,
          -0.26643093709787885,
          0.017659145648985873,
          -0.018123959673346936,
          0.09936918334116161,
          -0.05211786769802136,
          -0.1061914063530977,
          -0.21741663864832536,
          0.05531424009301404,
          -0.03878930665842307,
          0.023325846981986365,
          0.22783043713372775,
          0.3352673272526352,
          0.17553176293124015,
          0.023996955758590843,
          -0.21760063952842013,
          -0.00678799218276148,
          -0.12953580137359888,
          -0.0572741671399717,
          0.1859229526402638,
          0.1288946431394306,
          -0.07003353316568461,
          -0.11415720659593093,
          -0.06381287355230565,
          -0.2692650095562696,
          0.1414751502664382,
          -0.013049870273589045,
          -0.1252718214648841,
          0.7441430104423741,
          0.3429838595306146,
          -0.10066807563024051,
          0.3178420419768303,
          -0.18429107536634917,
          -0.09238316468648472,
          -0.009215452141779913,
          0.010004835760432233,
          -0.23866774500360097,
          0.1598005324072453,
          -0.15126363244259192,
          -0.25621499581372476,
          0.2869627299150585,
          0.6282686855328656,
          0.1851458000685788,
          -0.15768891679346878,
          -0.1558202409973627,
          -0.11568988710818019,
          -0.04107037459021466,
          0.16443669555647886,
          0.04804365469290346,
          -0.657687043984737,
          0.5176454405168861,
          0.1610471945597541,
          -0.0675267375057543,
          -0.052420464017426005,
          0.006035118647008716,
          -0.20165603417059486,
          -0.07736531301526248,
          0.39937335946179847,
          -0.3973472331530936,
          0.29048883713139734,
          -0.11268591226336734,
          0.0628460745953977,
          -0.23781943092947036,
          0.1562532521519778,
          -0.1458175881240631
         ],
         "yaxis": "y"
        },
        {
         "hovertemplate": "color=Mi Fu (On Cursive Calligraphy)<br>0=%{x}<br>1=%{y}<extra></extra>",
         "legendgroup": "Mi Fu (On Cursive Calligraphy)",
         "marker": {
          "color": "#FFA15A",
          "symbol": "circle"
         },
         "mode": "markers",
         "name": "Mi Fu (On Cursive Calligraphy)",
         "orientation": "v",
         "showlegend": true,
         "type": "scatter",
         "x": [
          -0.274057595261152,
          -0.41993178284555144,
          -0.3279359052925999,
          -0.15702039213209873,
          -0.7764620857689501,
          -0.18241468745164657,
          -0.6155334098023257,
          -0.2654718956538808,
          -0.3077512053283621,
          -0.4036043472831797,
          -0.259613231785461,
          -0.24436016756666523,
          0.08512637160082259,
          -0.45650721485932444,
          -0.19566111053304855,
          -0.40649273321327,
          -0.3241531046369447,
          -0.24342112789604944,
          0.12754350106203133,
          -0.2953792069840787,
          -0.2600385181155684,
          0.1929708329651265,
          -0.4325699590684092,
          -0.6758909307441295,
          -0.2547076265888342,
          -0.43661222490080753,
          -0.0683931652830122,
          -0.5418236814975139,
          -0.2046008965311579,
          -0.26349218551880405,
          -0.056314164083287675,
          -0.4884738363364468,
          -0.4892604818399476,
          -0.17095851704112683,
          -0.5456932059454893,
          -0.5004140724699474,
          -0.4538995600889839,
          -0.4434461065639174,
          -0.37899262663761746,
          -0.36492862802712667,
          -0.3311670038349355,
          -0.31550725153608333,
          -0.057160136244814454,
          -0.8087847766530445,
          0.01966549616602769,
          -0.2633359243678271,
          0.010023809770925752,
          -0.10975225883781889,
          -0.04412021245275894,
          -0.3321666235005869,
          -0.40671815202129397,
          -0.18832351987799067,
          -0.3827239578398488,
          -0.3109224553451974,
          -0.15155160782348978,
          -0.588728509275219,
          -0.34144506164360466,
          -0.30982727764295825,
          0.03676949304710808,
          -0.2884463479640676,
          -0.4569797616520918,
          -0.4872751254759159,
          -0.4191722881576872
         ],
         "xaxis": "x",
         "y": [
          0.22813394280565427,
          0.01107771482275545,
          0.10128538900048947,
          0.42074591809552236,
          0.47294031826106564,
          0.3877508994438613,
          0.07067969689119702,
          -0.165041326864668,
          -0.0633915230347648,
          -0.3396536064267313,
          0.024999839398581452,
          0.3274791862196019,
          0.12196521402596935,
          -0.20860810397574867,
          -0.02480699614180516,
          -0.4337868105923628,
          0.188340628460876,
          0.40538179642134187,
          0.3059320931981237,
          0.11097185308143916,
          -0.17562697135914748,
          0.1593611262575735,
          -0.3272882032354291,
          -0.3042361856023812,
          0.2040787103291611,
          -0.4161599414127226,
          0.0016477890948385923,
          -0.45239926787735696,
          0.047445970970922687,
          -0.3593469141862473,
          0.06876133082311305,
          0.17597947026566257,
          0.10358545968520844,
          0.024427514675893856,
          -0.32352500555362607,
          -0.315925420218282,
          0.20066631343972122,
          0.3990682769120483,
          -0.1957925984330167,
          0.4992121231663419,
          -0.06486550652983468,
          -0.18832313809323,
          0.028232607378709505,
          0.37867282862568324,
          0.2510642551383946,
          0.26785757503777535,
          0.3782662055629334,
          0.1883619618353768,
          0.43991261731173387,
          0.36932352138031654,
          0.5127919327068904,
          0.21280519045534965,
          -0.16657492625278042,
          0.2003606436599116,
          0.3523099829186431,
          0.08909533002599375,
          -0.10297010074642506,
          -0.46218651381059644,
          -0.060763784019914044,
          0.12508010711613907,
          -0.03552460340438344,
          0.5139160774100634,
          0.40300643815399706
         ],
         "yaxis": "y"
        }
       ],
       "layout": {
        "font": {
         "color": "RebeccaPurple",
         "family": "Courier New, monospace",
         "size": 18
        },
        "legend": {
         "title": {
          "text": "Class"
         },
         "tracegroupgap": 0
        },
        "margin": {
         "t": 60
        },
        "template": {
         "data": {
          "bar": [
           {
            "error_x": {
             "color": "#2a3f5f"
            },
            "error_y": {
             "color": "#2a3f5f"
            },
            "marker": {
             "line": {
              "color": "#E5ECF6",
              "width": 0.5
             }
            },
            "type": "bar"
           }
          ],
          "barpolar": [
           {
            "marker": {
             "line": {
              "color": "#E5ECF6",
              "width": 0.5
             }
            },
            "type": "barpolar"
           }
          ],
          "carpet": [
           {
            "aaxis": {
             "endlinecolor": "#2a3f5f",
             "gridcolor": "white",
             "linecolor": "white",
             "minorgridcolor": "white",
             "startlinecolor": "#2a3f5f"
            },
            "baxis": {
             "endlinecolor": "#2a3f5f",
             "gridcolor": "white",
             "linecolor": "white",
             "minorgridcolor": "white",
             "startlinecolor": "#2a3f5f"
            },
            "type": "carpet"
           }
          ],
          "choropleth": [
           {
            "colorbar": {
             "outlinewidth": 0,
             "ticks": ""
            },
            "type": "choropleth"
           }
          ],
          "contour": [
           {
            "colorbar": {
             "outlinewidth": 0,
             "ticks": ""
            },
            "colorscale": [
             [
              0,
              "#0d0887"
             ],
             [
              0.1111111111111111,
              "#46039f"
             ],
             [
              0.2222222222222222,
              "#7201a8"
             ],
             [
              0.3333333333333333,
              "#9c179e"
             ],
             [
              0.4444444444444444,
              "#bd3786"
             ],
             [
              0.5555555555555556,
              "#d8576b"
             ],
             [
              0.6666666666666666,
              "#ed7953"
             ],
             [
              0.7777777777777778,
              "#fb9f3a"
             ],
             [
              0.8888888888888888,
              "#fdca26"
             ],
             [
              1,
              "#f0f921"
             ]
            ],
            "type": "contour"
           }
          ],
          "contourcarpet": [
           {
            "colorbar": {
             "outlinewidth": 0,
             "ticks": ""
            },
            "type": "contourcarpet"
           }
          ],
          "heatmap": [
           {
            "colorbar": {
             "outlinewidth": 0,
             "ticks": ""
            },
            "colorscale": [
             [
              0,
              "#0d0887"
             ],
             [
              0.1111111111111111,
              "#46039f"
             ],
             [
              0.2222222222222222,
              "#7201a8"
             ],
             [
              0.3333333333333333,
              "#9c179e"
             ],
             [
              0.4444444444444444,
              "#bd3786"
             ],
             [
              0.5555555555555556,
              "#d8576b"
             ],
             [
              0.6666666666666666,
              "#ed7953"
             ],
             [
              0.7777777777777778,
              "#fb9f3a"
             ],
             [
              0.8888888888888888,
              "#fdca26"
             ],
             [
              1,
              "#f0f921"
             ]
            ],
            "type": "heatmap"
           }
          ],
          "heatmapgl": [
           {
            "colorbar": {
             "outlinewidth": 0,
             "ticks": ""
            },
            "colorscale": [
             [
              0,
              "#0d0887"
             ],
             [
              0.1111111111111111,
              "#46039f"
             ],
             [
              0.2222222222222222,
              "#7201a8"
             ],
             [
              0.3333333333333333,
              "#9c179e"
             ],
             [
              0.4444444444444444,
              "#bd3786"
             ],
             [
              0.5555555555555556,
              "#d8576b"
             ],
             [
              0.6666666666666666,
              "#ed7953"
             ],
             [
              0.7777777777777778,
              "#fb9f3a"
             ],
             [
              0.8888888888888888,
              "#fdca26"
             ],
             [
              1,
              "#f0f921"
             ]
            ],
            "type": "heatmapgl"
           }
          ],
          "histogram": [
           {
            "marker": {
             "colorbar": {
              "outlinewidth": 0,
              "ticks": ""
             }
            },
            "type": "histogram"
           }
          ],
          "histogram2d": [
           {
            "colorbar": {
             "outlinewidth": 0,
             "ticks": ""
            },
            "colorscale": [
             [
              0,
              "#0d0887"
             ],
             [
              0.1111111111111111,
              "#46039f"
             ],
             [
              0.2222222222222222,
              "#7201a8"
             ],
             [
              0.3333333333333333,
              "#9c179e"
             ],
             [
              0.4444444444444444,
              "#bd3786"
             ],
             [
              0.5555555555555556,
              "#d8576b"
             ],
             [
              0.6666666666666666,
              "#ed7953"
             ],
             [
              0.7777777777777778,
              "#fb9f3a"
             ],
             [
              0.8888888888888888,
              "#fdca26"
             ],
             [
              1,
              "#f0f921"
             ]
            ],
            "type": "histogram2d"
           }
          ],
          "histogram2dcontour": [
           {
            "colorbar": {
             "outlinewidth": 0,
             "ticks": ""
            },
            "colorscale": [
             [
              0,
              "#0d0887"
             ],
             [
              0.1111111111111111,
              "#46039f"
             ],
             [
              0.2222222222222222,
              "#7201a8"
             ],
             [
              0.3333333333333333,
              "#9c179e"
             ],
             [
              0.4444444444444444,
              "#bd3786"
             ],
             [
              0.5555555555555556,
              "#d8576b"
             ],
             [
              0.6666666666666666,
              "#ed7953"
             ],
             [
              0.7777777777777778,
              "#fb9f3a"
             ],
             [
              0.8888888888888888,
              "#fdca26"
             ],
             [
              1,
              "#f0f921"
             ]
            ],
            "type": "histogram2dcontour"
           }
          ],
          "mesh3d": [
           {
            "colorbar": {
             "outlinewidth": 0,
             "ticks": ""
            },
            "type": "mesh3d"
           }
          ],
          "parcoords": [
           {
            "line": {
             "colorbar": {
              "outlinewidth": 0,
              "ticks": ""
             }
            },
            "type": "parcoords"
           }
          ],
          "pie": [
           {
            "automargin": true,
            "type": "pie"
           }
          ],
          "scatter": [
           {
            "marker": {
             "colorbar": {
              "outlinewidth": 0,
              "ticks": ""
             }
            },
            "type": "scatter"
           }
          ],
          "scatter3d": [
           {
            "line": {
             "colorbar": {
              "outlinewidth": 0,
              "ticks": ""
             }
            },
            "marker": {
             "colorbar": {
              "outlinewidth": 0,
              "ticks": ""
             }
            },
            "type": "scatter3d"
           }
          ],
          "scattercarpet": [
           {
            "marker": {
             "colorbar": {
              "outlinewidth": 0,
              "ticks": ""
             }
            },
            "type": "scattercarpet"
           }
          ],
          "scattergeo": [
           {
            "marker": {
             "colorbar": {
              "outlinewidth": 0,
              "ticks": ""
             }
            },
            "type": "scattergeo"
           }
          ],
          "scattergl": [
           {
            "marker": {
             "colorbar": {
              "outlinewidth": 0,
              "ticks": ""
             }
            },
            "type": "scattergl"
           }
          ],
          "scattermapbox": [
           {
            "marker": {
             "colorbar": {
              "outlinewidth": 0,
              "ticks": ""
             }
            },
            "type": "scattermapbox"
           }
          ],
          "scatterpolar": [
           {
            "marker": {
             "colorbar": {
              "outlinewidth": 0,
              "ticks": ""
             }
            },
            "type": "scatterpolar"
           }
          ],
          "scatterpolargl": [
           {
            "marker": {
             "colorbar": {
              "outlinewidth": 0,
              "ticks": ""
             }
            },
            "type": "scatterpolargl"
           }
          ],
          "scatterternary": [
           {
            "marker": {
             "colorbar": {
              "outlinewidth": 0,
              "ticks": ""
             }
            },
            "type": "scatterternary"
           }
          ],
          "surface": [
           {
            "colorbar": {
             "outlinewidth": 0,
             "ticks": ""
            },
            "colorscale": [
             [
              0,
              "#0d0887"
             ],
             [
              0.1111111111111111,
              "#46039f"
             ],
             [
              0.2222222222222222,
              "#7201a8"
             ],
             [
              0.3333333333333333,
              "#9c179e"
             ],
             [
              0.4444444444444444,
              "#bd3786"
             ],
             [
              0.5555555555555556,
              "#d8576b"
             ],
             [
              0.6666666666666666,
              "#ed7953"
             ],
             [
              0.7777777777777778,
              "#fb9f3a"
             ],
             [
              0.8888888888888888,
              "#fdca26"
             ],
             [
              1,
              "#f0f921"
             ]
            ],
            "type": "surface"
           }
          ],
          "table": [
           {
            "cells": {
             "fill": {
              "color": "#EBF0F8"
             },
             "line": {
              "color": "white"
             }
            },
            "header": {
             "fill": {
              "color": "#C8D4E3"
             },
             "line": {
              "color": "white"
             }
            },
            "type": "table"
           }
          ]
         },
         "layout": {
          "annotationdefaults": {
           "arrowcolor": "#2a3f5f",
           "arrowhead": 0,
           "arrowwidth": 1
          },
          "autotypenumbers": "strict",
          "coloraxis": {
           "colorbar": {
            "outlinewidth": 0,
            "ticks": ""
           }
          },
          "colorscale": {
           "diverging": [
            [
             0,
             "#8e0152"
            ],
            [
             0.1,
             "#c51b7d"
            ],
            [
             0.2,
             "#de77ae"
            ],
            [
             0.3,
             "#f1b6da"
            ],
            [
             0.4,
             "#fde0ef"
            ],
            [
             0.5,
             "#f7f7f7"
            ],
            [
             0.6,
             "#e6f5d0"
            ],
            [
             0.7,
             "#b8e186"
            ],
            [
             0.8,
             "#7fbc41"
            ],
            [
             0.9,
             "#4d9221"
            ],
            [
             1,
             "#276419"
            ]
           ],
           "sequential": [
            [
             0,
             "#0d0887"
            ],
            [
             0.1111111111111111,
             "#46039f"
            ],
            [
             0.2222222222222222,
             "#7201a8"
            ],
            [
             0.3333333333333333,
             "#9c179e"
            ],
            [
             0.4444444444444444,
             "#bd3786"
            ],
            [
             0.5555555555555556,
             "#d8576b"
            ],
            [
             0.6666666666666666,
             "#ed7953"
            ],
            [
             0.7777777777777778,
             "#fb9f3a"
            ],
            [
             0.8888888888888888,
             "#fdca26"
            ],
            [
             1,
             "#f0f921"
            ]
           ],
           "sequentialminus": [
            [
             0,
             "#0d0887"
            ],
            [
             0.1111111111111111,
             "#46039f"
            ],
            [
             0.2222222222222222,
             "#7201a8"
            ],
            [
             0.3333333333333333,
             "#9c179e"
            ],
            [
             0.4444444444444444,
             "#bd3786"
            ],
            [
             0.5555555555555556,
             "#d8576b"
            ],
            [
             0.6666666666666666,
             "#ed7953"
            ],
            [
             0.7777777777777778,
             "#fb9f3a"
            ],
            [
             0.8888888888888888,
             "#fdca26"
            ],
            [
             1,
             "#f0f921"
            ]
           ]
          },
          "colorway": [
           "#636efa",
           "#EF553B",
           "#00cc96",
           "#ab63fa",
           "#FFA15A",
           "#19d3f3",
           "#FF6692",
           "#B6E880",
           "#FF97FF",
           "#FECB52"
          ],
          "font": {
           "color": "#2a3f5f"
          },
          "geo": {
           "bgcolor": "white",
           "lakecolor": "white",
           "landcolor": "#E5ECF6",
           "showlakes": true,
           "showland": true,
           "subunitcolor": "white"
          },
          "hoverlabel": {
           "align": "left"
          },
          "hovermode": "closest",
          "mapbox": {
           "style": "light"
          },
          "paper_bgcolor": "white",
          "plot_bgcolor": "#E5ECF6",
          "polar": {
           "angularaxis": {
            "gridcolor": "white",
            "linecolor": "white",
            "ticks": ""
           },
           "bgcolor": "#E5ECF6",
           "radialaxis": {
            "gridcolor": "white",
            "linecolor": "white",
            "ticks": ""
           }
          },
          "scene": {
           "xaxis": {
            "backgroundcolor": "#E5ECF6",
            "gridcolor": "white",
            "gridwidth": 2,
            "linecolor": "white",
            "showbackground": true,
            "ticks": "",
            "zerolinecolor": "white"
           },
           "yaxis": {
            "backgroundcolor": "#E5ECF6",
            "gridcolor": "white",
            "gridwidth": 2,
            "linecolor": "white",
            "showbackground": true,
            "ticks": "",
            "zerolinecolor": "white"
           },
           "zaxis": {
            "backgroundcolor": "#E5ECF6",
            "gridcolor": "white",
            "gridwidth": 2,
            "linecolor": "white",
            "showbackground": true,
            "ticks": "",
            "zerolinecolor": "white"
           }
          },
          "shapedefaults": {
           "line": {
            "color": "#2a3f5f"
           }
          },
          "ternary": {
           "aaxis": {
            "gridcolor": "white",
            "linecolor": "white",
            "ticks": ""
           },
           "baxis": {
            "gridcolor": "white",
            "linecolor": "white",
            "ticks": ""
           },
           "bgcolor": "#E5ECF6",
           "caxis": {
            "gridcolor": "white",
            "linecolor": "white",
            "ticks": ""
           }
          },
          "title": {
           "x": 0.05
          },
          "xaxis": {
           "automargin": true,
           "gridcolor": "white",
           "linecolor": "white",
           "ticks": "",
           "title": {
            "standoff": 15
           },
           "zerolinecolor": "white",
           "zerolinewidth": 2
          },
          "yaxis": {
           "automargin": true,
           "gridcolor": "white",
           "linecolor": "white",
           "ticks": "",
           "title": {
            "standoff": 15
           },
           "zerolinecolor": "white",
           "zerolinewidth": 2
          }
         }
        },
        "title": {
         "text": "PCA"
        },
        "xaxis": {
         "anchor": "y",
         "domain": [
          0,
          1
         ],
         "title": {
          "text": "PC 1"
         }
        },
        "yaxis": {
         "anchor": "x",
         "domain": [
          0,
          1
         ],
         "title": {
          "text": "PC 2"
         }
        }
       }
      },
      "text/html": [
       "<div>                            <div id=\"96bcb240-8a22-4b7b-a650-d81f37d2b731\" class=\"plotly-graph-div\" style=\"height:525px; width:100%;\"></div>            <script type=\"text/javascript\">                require([\"plotly\"], function(Plotly) {                    window.PLOTLYENV=window.PLOTLYENV || {};                                    if (document.getElementById(\"96bcb240-8a22-4b7b-a650-d81f37d2b731\")) {                    Plotly.newPlot(                        \"96bcb240-8a22-4b7b-a650-d81f37d2b731\",                        [{\"hovertemplate\": \"color=Mi Fu (Wu River)<br>0=%{x}<br>1=%{y}<extra></extra>\", \"legendgroup\": \"Mi Fu (Wu River)\", \"marker\": {\"color\": \"#636efa\", \"symbol\": \"circle\"}, \"mode\": \"markers\", \"name\": \"Mi Fu (Wu River)\", \"orientation\": \"v\", \"showlegend\": true, \"type\": \"scatter\", \"x\": [0.29875458610804306, 0.1300840218285004, 0.21699307954450983, 0.3512214485833409, 0.23497299501000468, 0.3791862095571969, 0.34655665459046797, 0.4160293099878011, 0.3242027961534292, 0.44465908720222136, 0.27369595412793973, 0.10721654949261424, 0.17618377234738464, 0.37976311985431094, 0.33316192528489846, 0.48631249947247635, 0.26906923704346375, 0.4038887415282058, 0.2496957755857725, 0.23676771208157582, 0.21809722749588853, 0.25442527230680856, 0.17299295916574317, 0.3220843426963003, 0.42422957174004683, 0.2752061568884973, 0.413932195445051, 0.43904396991004596, 0.20493367308192692, 0.0648571273279768, -0.09982576477093083, -0.06116181159211534, 0.08897969850149981, 0.21058973853782362, -0.15020294978960377, -0.08491830146248253, -0.24636140224555578, 0.22745949705199373, -0.38923404269702516, -0.27696660856885225, 0.21494639648326955, 0.3725225888179465, 0.26878560385840294, -0.10692424192430057, -0.38469022043457385, 0.015842131265940616, 0.19181667225689283, -0.1828811018696208, -0.4976122778002157, 0.03185119824220486, -0.08117530180164284, -0.14849659211468536, -0.051348599053325256, -0.06782309596700932, 0.09139201446001582, 0.32225429625663277, -0.6384981279154, -0.5018241754637067, -0.4328889682490034, -0.16425800649487543, 0.06953610792028722, -0.09361979553638684, -0.186329178581959, 0.1082352015838469, -0.12118729544690587, -0.31993483379707616, -0.34096144209510526, 0.014607553831670726, 0.2621408045186881, -0.20221906973246107, -0.7360994639818048, -0.019347855984917246, -0.2205591498713019, -0.18111238920330366, 0.20366759411457616, -0.07126308805185956, -0.4197301765148915, -0.20840107192978977, 0.0035915738696953646, -0.15506803837230512, -0.35270814862903627, -0.36593955061264205, -0.39326416271215703, -0.07833318803529575, -0.028756995047642536, -0.10702869846111532, 0.021626977010901827, -0.2861881280882459, -0.5111082549567197, -0.1971373679608901, -0.2815023222702204], \"xaxis\": \"x\", \"y\": [-0.08733631962981765, -0.26001737133028247, 0.07914401338337695, -0.13600361544037318, -0.06295727199398704, -0.1468285324515338, -0.08491887562935022, -0.057098081052291604, -0.24245971031430377, -0.35096083528948924, -0.12503184996172292, -0.20826028784798972, -0.23201822832615587, -0.14301573888593117, 0.12630656712373264, -0.2869459966440296, 0.20378430433856093, -0.3207934933896367, -0.1247298706693199, -0.25124977528957004, -0.18035587789743016, -0.1336676808263568, -0.056270483790672676, -0.2340637099284161, -0.08978709405159062, -0.10301953854560272, -0.22376385391538284, 0.026607955167239003, -0.30282634582104273, -0.1432363576371848, -0.12935387916673713, -0.1668082511079431, -0.11218150203835055, -0.29933531525225127, -0.07754695744570739, -0.09245837686558328, 0.1372198978296632, 0.037521563754512766, 0.026407725496853166, 0.10839134833646866, -0.16212521448173486, -0.13967018312458163, -0.19001715638275476, -0.5358719981698683, 0.28966642403412984, 0.01697105825021513, 0.20095002802424963, -0.2977916883422397, -0.2533653633328789, -0.12438196857232024, -0.0038526219259326405, -0.5703615868345215, -0.2463741223413638, 0.06488487246694542, -0.0994863819029925, 0.10379987556619623, -0.5671061470887963, -0.31172234000124616, 0.14183491484861643, 0.2251783464360012, -0.32928333720200026, -0.023323950247390455, 0.25379185376005536, 0.22051217309360494, -0.08211566116628954, -0.21623492012197806, -0.4411508397169439, -0.22775972201668748, 0.06277639576948812, -0.33117539029461474, 1.026837924434446, -0.3203146213839649, 0.10345503519078941, -0.19263286592697212, 0.04740033820906241, -0.04929059802397362, -0.19082197409740817, -0.14388060662020835, -0.030627191276520145, 0.08907042892984156, 0.022219593392439837, -0.40390675229502815, -0.36900243513202513, -0.11771040918359596, -0.0011471748930440698, -0.2993365588487791, 0.20717648220107457, -0.7848820082584367, -0.5164318829014549, -0.20132485368790864, 0.2808266772074693], \"yaxis\": \"y\"}, {\"hovertemplate\": \"color=Huizong<br>0=%{x}<br>1=%{y}<extra></extra>\", \"legendgroup\": \"Huizong\", \"marker\": {\"color\": \"#EF553B\", \"symbol\": \"circle\"}, \"mode\": \"markers\", \"name\": \"Huizong\", \"orientation\": \"v\", \"showlegend\": true, \"type\": \"scatter\", \"x\": [0.11552312026812062, 0.28067906976812845, 0.2274043335301201, 0.011519597645208225, 0.13880959958402125, 0.2717997409393243, 0.3085551439942287, 0.3552660983986209, 0.14627816956736917, 0.26266441614309793, 0.4045812130348537, 0.189650110450536, 0.43606540089012147, 0.4556746250964642, 0.38035852263590003, 0.06238948677721561, 0.07023792624343284, 0.4302898586861597, 0.5644689766597146, 0.4000469753743651, 0.5006984118929908, 0.6269976268082706, 0.4134110812605418, 0.3493007511483717, 0.5828511679139607, 0.3976280710720324, 0.3153189852424481, 0.2999368418455039, 0.274394933074893, 0.2540002958187938, -0.006099316610229945, 0.27566065224936653, 0.3931878029452889, 0.4574115707142405, 0.46194814507375903, 0.08384935096903232, 0.16720180306416582, 0.4543438048698174, 0.35898242717504264, 0.18495955001519748, 0.08153916030199128, 0.17908663448064352, 0.254992658633306, -0.15276043023932884, -0.016516851470993264, 0.08087851748977137, 0.5177045322037632, 0.5156216043433655, 0.5721916310817098, 0.22447698650810927, 0.15439616176907558, 0.3082233601158557, 0.4532687119655295, 0.26640822058293845, 0.1907583852269555, 0.14684193634960194, 0.09825917364401174, 0.05164567464689022, 0.09424223938853077, 0.4396987628237872, 0.22409289194325158, 0.31256989299402993, 0.15646778490178345], \"xaxis\": \"x\", \"y\": [0.012350357338688967, 0.2595643671864556, 0.012429709396375707, -0.37119953462621225, 0.3406762090048127, -0.09720962932049125, -0.07267731280826414, -0.38962539043716193, -0.14394866435630288, 0.0960241558914595, 0.04685799429675888, 0.058074554737494316, -0.1797741487784885, -0.15986879803248674, 0.0113031440775885, -0.13156208027324237, 0.614507954517621, -0.18108943038714448, 0.2719264294504385, 0.03002739039150053, -0.1661023022761454, 0.13851344439508834, -0.06747384638872267, -0.073142790763236, 0.1466593186140815, 0.21321365003379847, 0.10993327005311454, 0.05665691629051313, -0.09872820385782707, -0.10658580632412157, 0.29619687643745257, -0.11713740740398526, -0.13681479393721874, -0.24392251048722763, 0.004721730511958036, -0.12980445200861804, 0.21697418444952413, 0.059472135730717225, -0.21590953313375316, -0.22132212049529726, 0.36192743569877955, -0.1001984626427826, 0.035852530326090065, -0.23214163201067456, 0.19757849527916982, 0.1581695366505961, 0.12804198395074132, 0.12945131752307273, 0.0004891414348776556, 0.0010274602696097464, 0.06469266904499275, -0.05141671314728618, 0.13404568103845405, -0.39984201420325427, 0.039315457241297834, 0.13998788879146737, 0.16275512650992116, 0.34307970660890635, -0.10028095383566728, 0.009901104498454286, -0.31930585022513047, -0.13464043444036955, 0.06151197202863846], \"yaxis\": \"y\"}, {\"hovertemplate\": \"color=Su Shi<br>0=%{x}<br>1=%{y}<extra></extra>\", \"legendgroup\": \"Su Shi\", \"marker\": {\"color\": \"#00cc96\", \"symbol\": \"circle\"}, \"mode\": \"markers\", \"name\": \"Su Shi\", \"orientation\": \"v\", \"showlegend\": true, \"type\": \"scatter\", \"x\": [-0.30412136922768734, -0.20416803060556185, -0.0526594949149241, -0.15680205149650583, -0.5383496804930654, -0.1009511852001022, -0.22715378062221983, -0.06844176169012034, -0.2967976438826595, -0.036817765895753723, 0.039195939838618105, 0.013423608012239392, 0.2740859878716529, -0.023616471694709488, -0.04897580299002884, 0.04652539251289779, -0.29296973215969346, 0.05574860042628312, -0.26504514493327996, 0.04057002799952382, -0.18359419366833088, -0.12536184337411815, -0.5115289452378399, 0.06589297202987113, 0.09256653801464931, -0.45606455712835625, -0.4590235091636063, -0.18958360459733326, 0.22017409198391494, -0.04679733087048807, -0.16690961439032223, 0.05106999995400023, -0.09393333737629234, -0.38885632319594265, 0.04740534516625414, -0.32355577971412736, -0.5100399158996713, -0.3374798017904083, -0.17109327450451012, -0.11745514280338337, -0.23172866343535695, -0.05783727351765857, -0.20100124436286432, -0.4612342320160927, -0.507581336626401, -0.21159229217140568, -0.4161829995808652, -0.053075335245294904, -0.026490916339865847, 0.28174975851772743, 0.4889491542042432, -0.2770690882435056, -0.16632423504400157, -0.06491665076424682, -0.31264112562948304, 0.0754616514923692, 0.0190624660633321, -0.27791347516378967, -0.38119683300551244, -0.3110150252046435, -0.23438588492374895, -0.24345640257714143, -0.4255188469778966, -0.21652793182979738, -0.09941101325857638, -0.25343775166101074, -0.4083349244563736, -0.20420201810452557, -0.33298655854780584, -0.14998410412243912, -0.15985196812749256, -0.28716654666507613, -0.03894087286168859, -0.1776427417300934, -0.07610832232831291, 0.1545562197219933, 0.08748116098423908, 0.18960599373682951, -0.11818035014473613, -0.14262993221970374, 0.08951075891577144, -0.020142173211161365, 0.17866731799893731, 0.027831166560137264, 0.08881839778925865, -0.16374211699346078, 0.11099885380761751, 0.0713532405316872, -0.08440720480728021, -0.46171343917297963, -0.09302117762761544, -0.1258759034501695, -0.23363368381839447, 0.15030604321808821, -0.09679802721005748, 0.0035977816884063584, -0.28634064925220587, -0.05104559011452607, -0.04383918448016223, 0.02464794054862246, 0.1744675033136193, -0.35319687311293163, 0.1147196447267803, 0.1464045021098226, -0.10490636933062553, -0.28234191083696986, -0.05712205075096295, -0.1546553721099367, -0.1654426649962798, -0.08842987031741655, -0.11194095825452505, -0.11139335611950599, 0.0389260011155017, 0.07518356063543628, -0.25816905198807377, 0.13579599856195898, 0.09744735015963217, 0.44915355330366225, -0.14396898101525696], \"xaxis\": \"x\", \"y\": [-0.42228783478261583, 0.06425471748222984, 0.16256658905707544, 0.19433709635168323, -0.6128878321552492, 0.009397987632192299, 0.004888475591734371, 0.5953025567519877, 0.6117381917785626, 0.29447259655982416, -0.015019527769157664, -0.2813142338482021, 0.11203271943232056, 0.1803442560648852, 0.10710858419224327, 0.22643190827953946, 0.3003481209203578, -0.34086578803749934, 0.309450264892421, 0.2377468202027838, -0.03762184309989776, 0.12002198069849453, -0.6606382640679236, 0.2059276927125675, 0.15510959756275247, -0.3003772813679611, -0.40076265827425167, -0.2935837682618558, 0.0878973474845861, 0.10203770008390647, -0.11904437693945574, -0.05186598865359685, 0.24101170997509364, 0.41983914973463293, 0.1907185088223451, -0.4310897055794337, -0.7845307390601017, -0.42491095077039015, -0.004445153969395019, 0.1988960680915113, 0.20289316233607918, 0.059192871149198946, 0.23242852202222417, -0.2759456158390529, -0.15521279097041454, -0.08325849856709416, -0.03103021842164709, 0.28858951910155284, -0.25637591796123366, -0.12256350701485624, -0.002810077194008246, -0.2539977884434124, 0.36304972289448634, -0.26832087435777907, -0.09356311398855179, 0.14454524815102937, 0.0827412878288829, 0.16469191940862124, 0.41431666342525925, -0.0636497440310332, -0.1792879697275067, 0.14398241716787483, 0.27525796139662095, 0.3445397163267407, -0.11427317102638689, 0.0032923712820926293, 0.2691836065063174, 0.13575343075134744, -0.05830894640719837, -0.11435473775276123, -0.02844647884529345, -0.041980961132424235, 0.31622583642237606, 0.3429392166639003, 0.26008038764777636, 0.1466729123955194, 0.3925209261342651, 0.20719308492584612, 0.04691398730970429, 0.08742374067493756, -0.03701462796089201, -0.11886246284465761, -0.23727010906193402, -0.1591797565164941, 0.1826120147547687, 0.14933438181960226, 0.31209093094999985, -0.23061107860619562, 0.06642602848214359, -0.33518548166237655, 0.21919156752811414, -0.16754533258014806, -0.6216511136970729, 0.22137783018255874, -0.45490694319707, 0.004051892746417052, 0.30403559159479504, 0.35049480473698996, 0.14630985390556897, 0.26548680041068495, -0.019201468202568517, 0.5362062301674023, 0.13395977397827236, 0.16098661730013444, 0.11888048244297723, 0.012613938739408765, -0.011585663526174446, 0.044940949559899024, 0.11148497289664532, 0.1378719998872135, 0.24402186713402582, 0.25014139850864475, 0.14637269982635429, 0.09835799405269216, -0.5174333175145517, 0.15022526193049188, -0.1419696686318707, 0.5656423095484295, 0.01977324157693499], \"yaxis\": \"y\"}, {\"hovertemplate\": \"color=WangXiZhi<br>0=%{x}<br>1=%{y}<extra></extra>\", \"legendgroup\": \"WangXiZhi\", \"marker\": {\"color\": \"#ab63fa\", \"symbol\": \"circle\"}, \"mode\": \"markers\", \"name\": \"WangXiZhi\", \"orientation\": \"v\", \"showlegend\": true, \"type\": \"scatter\", \"x\": [0.00046052961482449063, 0.11484534354726102, 0.23711391436592685, 0.010500053874472644, 0.5161524893119824, 0.8093477440760224, 0.8669376300593054, -0.0928776348713699, 0.0960497453942117, 0.3468634622944858, 0.8714645593933911, -0.04133568723931822, 0.003031839866607826, 0.08740960049091509, -0.05530236595449625, -0.31106413660330123, -0.2273792531737126, 0.2541867027634335, -0.11302554543963776, -0.1046487787980576, 0.3541734633989057, 0.5154707980143045, 0.5730662873211032, 0.2741069492730731, 0.5110089978405454, 0.01797894508743641, -0.07092060495807664, 0.0631959903719052, 0.2572754975971777, -0.11714679646769338, 0.11460700424315604, 0.2155860474391775, 0.15347187642874313, -0.10453197523025062, 0.4576992452141736, 0.06822341244034139, 0.3704695569940226, 0.2397618520202225, 0.42595658391351016, 0.15071398180352008, 0.09759347217433152, -0.09690497238295313, 0.15629227125442288, 0.06054455398991385, 0.318522580356876, -0.003037728619394114, -0.10223122514303708, 0.4480548819490827, 0.04242144332761974, -0.037694204579278, -0.024647542472791297, -0.23620658604465453, -0.25429960714765193, 0.20094918635642153, -0.06605380955102089, 0.31826808120883365, -0.08365115890973941, -0.24496375653825267, -0.3382115740137727, 0.19745363743200608, 0.3410350777203619, 0.4061148932106837, 0.5089908798439775, 0.7205167396363278, 0.3417507235937034, 0.29681599050069524, 0.06246464644067287, -0.044214607892138214, -0.03250276917875424, 0.33500751050697425, 0.00018181758805048485, -0.14255801073001706, 0.13055314966336273, 0.4088849499762638, 0.4810965007590695, 0.47239361925322104, 0.6340137430274004, 0.3798868865577797, 0.09047842324194465, -0.22325804096144788, 0.39759885057796845, 0.08537428956026845, -0.06194244266880378, 0.3200219607353473, 0.3422263342474321, 0.18316467967643849, 0.1774209381376389, 0.02282237313015897, -0.05228020333284104, -0.2057448762138231, -0.33096036106400034, 0.0009122100683527965, -0.215665707669051, -0.04062757244779337, 0.2872022012638338], \"xaxis\": \"x\", \"y\": [0.2878460898020787, -0.13456793001896364, -0.037399329471738164, 0.056454201200066265, -0.025933472023573885, -0.059124561905117154, -0.09277208037096706, 0.040032282334717194, 0.26054732645849504, 0.05744861448450853, -0.03869629143632059, 0.1354303343465678, 0.19633082436775137, 0.08810416886631038, -0.2622381473894135, -0.07224748894704312, -0.4809385745218339, -0.161079682980624, 0.2254238286833265, 0.11401846005061603, -0.07398983033421566, 0.03581671441299476, -0.05156983155149724, 0.06512535145797527, 0.2831636217977715, -0.08418938261207574, -0.028793603523968182, -0.10239895476742708, -0.01408320551492238, -0.4755264119668516, 0.2695802582132821, -0.26643093709787885, 0.017659145648985873, -0.018123959673346936, 0.09936918334116161, -0.05211786769802136, -0.1061914063530977, -0.21741663864832536, 0.05531424009301404, -0.03878930665842307, 0.023325846981986365, 0.22783043713372775, 0.3352673272526352, 0.17553176293124015, 0.023996955758590843, -0.21760063952842013, -0.00678799218276148, -0.12953580137359888, -0.0572741671399717, 0.1859229526402638, 0.1288946431394306, -0.07003353316568461, -0.11415720659593093, -0.06381287355230565, -0.2692650095562696, 0.1414751502664382, -0.013049870273589045, -0.1252718214648841, 0.7441430104423741, 0.3429838595306146, -0.10066807563024051, 0.3178420419768303, -0.18429107536634917, -0.09238316468648472, -0.009215452141779913, 0.010004835760432233, -0.23866774500360097, 0.1598005324072453, -0.15126363244259192, -0.25621499581372476, 0.2869627299150585, 0.6282686855328656, 0.1851458000685788, -0.15768891679346878, -0.1558202409973627, -0.11568988710818019, -0.04107037459021466, 0.16443669555647886, 0.04804365469290346, -0.657687043984737, 0.5176454405168861, 0.1610471945597541, -0.0675267375057543, -0.052420464017426005, 0.006035118647008716, -0.20165603417059486, -0.07736531301526248, 0.39937335946179847, -0.3973472331530936, 0.29048883713139734, -0.11268591226336734, 0.0628460745953977, -0.23781943092947036, 0.1562532521519778, -0.1458175881240631], \"yaxis\": \"y\"}, {\"hovertemplate\": \"color=Mi Fu (On Cursive Calligraphy)<br>0=%{x}<br>1=%{y}<extra></extra>\", \"legendgroup\": \"Mi Fu (On Cursive Calligraphy)\", \"marker\": {\"color\": \"#FFA15A\", \"symbol\": \"circle\"}, \"mode\": \"markers\", \"name\": \"Mi Fu (On Cursive Calligraphy)\", \"orientation\": \"v\", \"showlegend\": true, \"type\": \"scatter\", \"x\": [-0.274057595261152, -0.41993178284555144, -0.3279359052925999, -0.15702039213209873, -0.7764620857689501, -0.18241468745164657, -0.6155334098023257, -0.2654718956538808, -0.3077512053283621, -0.4036043472831797, -0.259613231785461, -0.24436016756666523, 0.08512637160082259, -0.45650721485932444, -0.19566111053304855, -0.40649273321327, -0.3241531046369447, -0.24342112789604944, 0.12754350106203133, -0.2953792069840787, -0.2600385181155684, 0.1929708329651265, -0.4325699590684092, -0.6758909307441295, -0.2547076265888342, -0.43661222490080753, -0.0683931652830122, -0.5418236814975139, -0.2046008965311579, -0.26349218551880405, -0.056314164083287675, -0.4884738363364468, -0.4892604818399476, -0.17095851704112683, -0.5456932059454893, -0.5004140724699474, -0.4538995600889839, -0.4434461065639174, -0.37899262663761746, -0.36492862802712667, -0.3311670038349355, -0.31550725153608333, -0.057160136244814454, -0.8087847766530445, 0.01966549616602769, -0.2633359243678271, 0.010023809770925752, -0.10975225883781889, -0.04412021245275894, -0.3321666235005869, -0.40671815202129397, -0.18832351987799067, -0.3827239578398488, -0.3109224553451974, -0.15155160782348978, -0.588728509275219, -0.34144506164360466, -0.30982727764295825, 0.03676949304710808, -0.2884463479640676, -0.4569797616520918, -0.4872751254759159, -0.4191722881576872], \"xaxis\": \"x\", \"y\": [0.22813394280565427, 0.01107771482275545, 0.10128538900048947, 0.42074591809552236, 0.47294031826106564, 0.3877508994438613, 0.07067969689119702, -0.165041326864668, -0.0633915230347648, -0.3396536064267313, 0.024999839398581452, 0.3274791862196019, 0.12196521402596935, -0.20860810397574867, -0.02480699614180516, -0.4337868105923628, 0.188340628460876, 0.40538179642134187, 0.3059320931981237, 0.11097185308143916, -0.17562697135914748, 0.1593611262575735, -0.3272882032354291, -0.3042361856023812, 0.2040787103291611, -0.4161599414127226, 0.0016477890948385923, -0.45239926787735696, 0.047445970970922687, -0.3593469141862473, 0.06876133082311305, 0.17597947026566257, 0.10358545968520844, 0.024427514675893856, -0.32352500555362607, -0.315925420218282, 0.20066631343972122, 0.3990682769120483, -0.1957925984330167, 0.4992121231663419, -0.06486550652983468, -0.18832313809323, 0.028232607378709505, 0.37867282862568324, 0.2510642551383946, 0.26785757503777535, 0.3782662055629334, 0.1883619618353768, 0.43991261731173387, 0.36932352138031654, 0.5127919327068904, 0.21280519045534965, -0.16657492625278042, 0.2003606436599116, 0.3523099829186431, 0.08909533002599375, -0.10297010074642506, -0.46218651381059644, -0.060763784019914044, 0.12508010711613907, -0.03552460340438344, 0.5139160774100634, 0.40300643815399706], \"yaxis\": \"y\"}],                        {\"font\": {\"color\": \"RebeccaPurple\", \"family\": \"Courier New, monospace\", \"size\": 18}, \"legend\": {\"title\": {\"text\": \"Class\"}, \"tracegroupgap\": 0}, \"margin\": {\"t\": 60}, \"template\": {\"data\": {\"bar\": [{\"error_x\": {\"color\": \"#2a3f5f\"}, \"error_y\": {\"color\": \"#2a3f5f\"}, \"marker\": {\"line\": {\"color\": \"#E5ECF6\", \"width\": 0.5}}, \"type\": \"bar\"}], \"barpolar\": [{\"marker\": {\"line\": {\"color\": \"#E5ECF6\", \"width\": 0.5}}, \"type\": \"barpolar\"}], \"carpet\": [{\"aaxis\": {\"endlinecolor\": \"#2a3f5f\", \"gridcolor\": \"white\", \"linecolor\": \"white\", \"minorgridcolor\": \"white\", \"startlinecolor\": \"#2a3f5f\"}, \"baxis\": {\"endlinecolor\": \"#2a3f5f\", \"gridcolor\": \"white\", \"linecolor\": \"white\", \"minorgridcolor\": \"white\", \"startlinecolor\": \"#2a3f5f\"}, \"type\": \"carpet\"}], \"choropleth\": [{\"colorbar\": {\"outlinewidth\": 0, \"ticks\": \"\"}, \"type\": \"choropleth\"}], \"contour\": [{\"colorbar\": {\"outlinewidth\": 0, \"ticks\": \"\"}, \"colorscale\": [[0.0, \"#0d0887\"], [0.1111111111111111, \"#46039f\"], [0.2222222222222222, \"#7201a8\"], [0.3333333333333333, \"#9c179e\"], [0.4444444444444444, \"#bd3786\"], [0.5555555555555556, \"#d8576b\"], [0.6666666666666666, \"#ed7953\"], [0.7777777777777778, \"#fb9f3a\"], [0.8888888888888888, \"#fdca26\"], [1.0, \"#f0f921\"]], \"type\": \"contour\"}], \"contourcarpet\": [{\"colorbar\": {\"outlinewidth\": 0, \"ticks\": \"\"}, \"type\": \"contourcarpet\"}], \"heatmap\": [{\"colorbar\": {\"outlinewidth\": 0, \"ticks\": \"\"}, \"colorscale\": [[0.0, \"#0d0887\"], [0.1111111111111111, \"#46039f\"], [0.2222222222222222, \"#7201a8\"], [0.3333333333333333, \"#9c179e\"], [0.4444444444444444, \"#bd3786\"], [0.5555555555555556, \"#d8576b\"], [0.6666666666666666, \"#ed7953\"], [0.7777777777777778, \"#fb9f3a\"], [0.8888888888888888, \"#fdca26\"], [1.0, \"#f0f921\"]], \"type\": \"heatmap\"}], \"heatmapgl\": [{\"colorbar\": {\"outlinewidth\": 0, \"ticks\": \"\"}, \"colorscale\": [[0.0, \"#0d0887\"], [0.1111111111111111, \"#46039f\"], [0.2222222222222222, \"#7201a8\"], [0.3333333333333333, \"#9c179e\"], [0.4444444444444444, \"#bd3786\"], [0.5555555555555556, \"#d8576b\"], [0.6666666666666666, \"#ed7953\"], [0.7777777777777778, \"#fb9f3a\"], [0.8888888888888888, \"#fdca26\"], [1.0, \"#f0f921\"]], \"type\": \"heatmapgl\"}], \"histogram\": [{\"marker\": {\"colorbar\": {\"outlinewidth\": 0, \"ticks\": \"\"}}, \"type\": \"histogram\"}], \"histogram2d\": [{\"colorbar\": {\"outlinewidth\": 0, \"ticks\": \"\"}, \"colorscale\": [[0.0, \"#0d0887\"], [0.1111111111111111, \"#46039f\"], [0.2222222222222222, \"#7201a8\"], [0.3333333333333333, \"#9c179e\"], [0.4444444444444444, \"#bd3786\"], [0.5555555555555556, \"#d8576b\"], [0.6666666666666666, \"#ed7953\"], [0.7777777777777778, \"#fb9f3a\"], [0.8888888888888888, \"#fdca26\"], [1.0, \"#f0f921\"]], \"type\": \"histogram2d\"}], \"histogram2dcontour\": [{\"colorbar\": {\"outlinewidth\": 0, \"ticks\": \"\"}, \"colorscale\": [[0.0, \"#0d0887\"], [0.1111111111111111, \"#46039f\"], [0.2222222222222222, \"#7201a8\"], [0.3333333333333333, \"#9c179e\"], [0.4444444444444444, \"#bd3786\"], [0.5555555555555556, \"#d8576b\"], [0.6666666666666666, \"#ed7953\"], [0.7777777777777778, \"#fb9f3a\"], [0.8888888888888888, \"#fdca26\"], [1.0, \"#f0f921\"]], \"type\": \"histogram2dcontour\"}], \"mesh3d\": [{\"colorbar\": {\"outlinewidth\": 0, \"ticks\": \"\"}, \"type\": \"mesh3d\"}], \"parcoords\": [{\"line\": {\"colorbar\": {\"outlinewidth\": 0, \"ticks\": \"\"}}, \"type\": \"parcoords\"}], \"pie\": [{\"automargin\": true, \"type\": \"pie\"}], \"scatter\": [{\"marker\": {\"colorbar\": {\"outlinewidth\": 0, \"ticks\": \"\"}}, \"type\": \"scatter\"}], \"scatter3d\": [{\"line\": {\"colorbar\": {\"outlinewidth\": 0, \"ticks\": \"\"}}, \"marker\": {\"colorbar\": {\"outlinewidth\": 0, \"ticks\": \"\"}}, \"type\": \"scatter3d\"}], \"scattercarpet\": [{\"marker\": {\"colorbar\": {\"outlinewidth\": 0, \"ticks\": \"\"}}, \"type\": \"scattercarpet\"}], \"scattergeo\": [{\"marker\": {\"colorbar\": {\"outlinewidth\": 0, \"ticks\": \"\"}}, \"type\": \"scattergeo\"}], \"scattergl\": [{\"marker\": {\"colorbar\": {\"outlinewidth\": 0, \"ticks\": \"\"}}, \"type\": \"scattergl\"}], \"scattermapbox\": [{\"marker\": {\"colorbar\": {\"outlinewidth\": 0, \"ticks\": \"\"}}, \"type\": \"scattermapbox\"}], \"scatterpolar\": [{\"marker\": {\"colorbar\": {\"outlinewidth\": 0, \"ticks\": \"\"}}, \"type\": \"scatterpolar\"}], \"scatterpolargl\": [{\"marker\": {\"colorbar\": {\"outlinewidth\": 0, \"ticks\": \"\"}}, \"type\": \"scatterpolargl\"}], \"scatterternary\": [{\"marker\": {\"colorbar\": {\"outlinewidth\": 0, \"ticks\": \"\"}}, \"type\": \"scatterternary\"}], \"surface\": [{\"colorbar\": {\"outlinewidth\": 0, \"ticks\": \"\"}, \"colorscale\": [[0.0, \"#0d0887\"], [0.1111111111111111, \"#46039f\"], [0.2222222222222222, \"#7201a8\"], [0.3333333333333333, \"#9c179e\"], [0.4444444444444444, \"#bd3786\"], [0.5555555555555556, \"#d8576b\"], [0.6666666666666666, \"#ed7953\"], [0.7777777777777778, \"#fb9f3a\"], [0.8888888888888888, \"#fdca26\"], [1.0, \"#f0f921\"]], \"type\": \"surface\"}], \"table\": [{\"cells\": {\"fill\": {\"color\": \"#EBF0F8\"}, \"line\": {\"color\": \"white\"}}, \"header\": {\"fill\": {\"color\": \"#C8D4E3\"}, \"line\": {\"color\": \"white\"}}, \"type\": \"table\"}]}, \"layout\": {\"annotationdefaults\": {\"arrowcolor\": \"#2a3f5f\", \"arrowhead\": 0, \"arrowwidth\": 1}, \"autotypenumbers\": \"strict\", \"coloraxis\": {\"colorbar\": {\"outlinewidth\": 0, \"ticks\": \"\"}}, \"colorscale\": {\"diverging\": [[0, \"#8e0152\"], [0.1, \"#c51b7d\"], [0.2, \"#de77ae\"], [0.3, \"#f1b6da\"], [0.4, \"#fde0ef\"], [0.5, \"#f7f7f7\"], [0.6, \"#e6f5d0\"], [0.7, \"#b8e186\"], [0.8, \"#7fbc41\"], [0.9, \"#4d9221\"], [1, \"#276419\"]], \"sequential\": [[0.0, \"#0d0887\"], [0.1111111111111111, \"#46039f\"], [0.2222222222222222, \"#7201a8\"], [0.3333333333333333, \"#9c179e\"], [0.4444444444444444, \"#bd3786\"], [0.5555555555555556, \"#d8576b\"], [0.6666666666666666, \"#ed7953\"], [0.7777777777777778, \"#fb9f3a\"], [0.8888888888888888, \"#fdca26\"], [1.0, \"#f0f921\"]], \"sequentialminus\": [[0.0, \"#0d0887\"], [0.1111111111111111, \"#46039f\"], [0.2222222222222222, \"#7201a8\"], [0.3333333333333333, \"#9c179e\"], [0.4444444444444444, \"#bd3786\"], [0.5555555555555556, \"#d8576b\"], [0.6666666666666666, \"#ed7953\"], [0.7777777777777778, \"#fb9f3a\"], [0.8888888888888888, \"#fdca26\"], [1.0, \"#f0f921\"]]}, \"colorway\": [\"#636efa\", \"#EF553B\", \"#00cc96\", \"#ab63fa\", \"#FFA15A\", \"#19d3f3\", \"#FF6692\", \"#B6E880\", \"#FF97FF\", \"#FECB52\"], \"font\": {\"color\": \"#2a3f5f\"}, \"geo\": {\"bgcolor\": \"white\", \"lakecolor\": \"white\", \"landcolor\": \"#E5ECF6\", \"showlakes\": true, \"showland\": true, \"subunitcolor\": \"white\"}, \"hoverlabel\": {\"align\": \"left\"}, \"hovermode\": \"closest\", \"mapbox\": {\"style\": \"light\"}, \"paper_bgcolor\": \"white\", \"plot_bgcolor\": \"#E5ECF6\", \"polar\": {\"angularaxis\": {\"gridcolor\": \"white\", \"linecolor\": \"white\", \"ticks\": \"\"}, \"bgcolor\": \"#E5ECF6\", \"radialaxis\": {\"gridcolor\": \"white\", \"linecolor\": \"white\", \"ticks\": \"\"}}, \"scene\": {\"xaxis\": {\"backgroundcolor\": \"#E5ECF6\", \"gridcolor\": \"white\", \"gridwidth\": 2, \"linecolor\": \"white\", \"showbackground\": true, \"ticks\": \"\", \"zerolinecolor\": \"white\"}, \"yaxis\": {\"backgroundcolor\": \"#E5ECF6\", \"gridcolor\": \"white\", \"gridwidth\": 2, \"linecolor\": \"white\", \"showbackground\": true, \"ticks\": \"\", \"zerolinecolor\": \"white\"}, \"zaxis\": {\"backgroundcolor\": \"#E5ECF6\", \"gridcolor\": \"white\", \"gridwidth\": 2, \"linecolor\": \"white\", \"showbackground\": true, \"ticks\": \"\", \"zerolinecolor\": \"white\"}}, \"shapedefaults\": {\"line\": {\"color\": \"#2a3f5f\"}}, \"ternary\": {\"aaxis\": {\"gridcolor\": \"white\", \"linecolor\": \"white\", \"ticks\": \"\"}, \"baxis\": {\"gridcolor\": \"white\", \"linecolor\": \"white\", \"ticks\": \"\"}, \"bgcolor\": \"#E5ECF6\", \"caxis\": {\"gridcolor\": \"white\", \"linecolor\": \"white\", \"ticks\": \"\"}}, \"title\": {\"x\": 0.05}, \"xaxis\": {\"automargin\": true, \"gridcolor\": \"white\", \"linecolor\": \"white\", \"ticks\": \"\", \"title\": {\"standoff\": 15}, \"zerolinecolor\": \"white\", \"zerolinewidth\": 2}, \"yaxis\": {\"automargin\": true, \"gridcolor\": \"white\", \"linecolor\": \"white\", \"ticks\": \"\", \"title\": {\"standoff\": 15}, \"zerolinecolor\": \"white\", \"zerolinewidth\": 2}}}, \"title\": {\"text\": \"PCA\"}, \"xaxis\": {\"anchor\": \"y\", \"domain\": [0.0, 1.0], \"title\": {\"text\": \"PC 1\"}}, \"yaxis\": {\"anchor\": \"x\", \"domain\": [0.0, 1.0], \"title\": {\"text\": \"PC 2\"}}},                        {\"responsive\": true}                    ).then(function(){\n",
       "                            \n",
       "var gd = document.getElementById('96bcb240-8a22-4b7b-a650-d81f37d2b731');\n",
       "var x = new MutationObserver(function (mutations, observer) {{\n",
       "        var display = window.getComputedStyle(gd).display;\n",
       "        if (!display || display === 'none') {{\n",
       "            console.log([gd, 'removed!']);\n",
       "            Plotly.purge(gd);\n",
       "            observer.disconnect();\n",
       "        }}\n",
       "}});\n",
       "\n",
       "// Listen for the removal of the full notebook cells\n",
       "var notebookContainer = gd.closest('#notebook-container');\n",
       "if (notebookContainer) {{\n",
       "    x.observe(notebookContainer, {childList: true});\n",
       "}}\n",
       "\n",
       "// Listen for the clearing of the current output cell\n",
       "var outputEl = gd.closest('.output');\n",
       "if (outputEl) {{\n",
       "    x.observe(outputEl, {childList: true});\n",
       "}}\n",
       "\n",
       "                        })                };                });            </script>        </div>"
      ]
     },
     "metadata": {},
     "output_type": "display_data"
    }
   ],
   "source": [
    "paths = ['Extracted Characters/Mi Fu - Poem Written in a Boat on the Wu River/',\n",
    "         'Extracted Characters/Emperor Huizong - Finches and bamboo/',\n",
    "         'Extracted Characters/Su Shi - Inscription of Hanshi/',\n",
    "         'Extracted Characters/WangXiZhi - On the Seventeenth Day/',\n",
    "         'Extracted Characters/Mi Fu - On Cursive Calligraphy/']\n",
    "label_list = ['Mi Fu (Wu River)',\n",
    "             'Huizong',\n",
    "             'Su Shi',\n",
    "             'WangXiZhi',\n",
    "             'Mi Fu (On Cursive Calligraphy)']\n",
    "invert_list = [True,\n",
    "              True,\n",
    "              True,\n",
    "              False,\n",
    "              True]\n",
    "\n",
    "# Construct labeled dataset of contour angle histograms\n",
    "X_list = []\n",
    "labels = []\n",
    "for i, path in enumerate(paths):\n",
    "    label = label_list[i]\n",
    "    invert = invert_list[i]\n",
    "    if invert:\n",
    "        X = feature_analysis_in_path(path, invert=True)\n",
    "    else:\n",
    "        X = feature_analysis_in_path(path, invert=False)\n",
    "    X_list.append(X)\n",
    "    labels += [label] * X.shape[1]\n",
    "    mu = np.mean(X, axis=1)\n",
    "    plot_hists(mu, title=label, filename=f'Test/hists_{label.replace(\" \", \"\")}.png')\n",
    "    \n",
    "X_total =  np.vstack([X.T for X in X_list])\n",
    "\n",
    "# Perform PCA\n",
    "pca = PCA(n_components=2)\n",
    "components = pca.fit_transform(X_total)\n",
    "print(f'# of datapoints: {len(components)}')\n",
    "print(f'len(labels) = {len(labels)}')\n",
    "assert(len(labels) == len(components))\n",
    "total_var = pca.explained_variance_ratio_.sum() * 100\n",
    "print('Total explained variance = {:0.2f}%'.format(total_var))\n",
    "\n",
    "# Plot results with Plotly\n",
    "fig = px.scatter(components, x=0, y=1, color=labels)\n",
    "fig.update_layout(\n",
    "    title=\"PCA\",\n",
    "    xaxis_title=\"PC 1\",\n",
    "    yaxis_title=\"PC 2\",\n",
    "    legend_title=\"Class\",\n",
    "    font=dict(\n",
    "        family=\"Courier New, monospace\",\n",
    "        size=18,\n",
    "        color=\"RebeccaPurple\"\n",
    "    )\n",
    ")\n",
    "fig.show()\n",
    "fig.write_image('Test/PCA_Plotly_46features.png')"
   ]
  },
  {
   "cell_type": "code",
   "execution_count": 172,
   "id": "built-adelaide",
   "metadata": {},
   "outputs": [],
   "source": [
    "# Compare 5 histograms\n",
    "fig = plt.figure(figsize=(20, 4))\n",
    "ax1 = plt.subplot(151, projection='polar')\n",
    "ax2 = plt.subplot(152, projection='polar')\n",
    "ax3 = plt.subplot(153, projection='polar')\n",
    "ax4 = plt.subplot(154, projection='polar')\n",
    "ax5 = plt.subplot(155, projection='polar')\n",
    "axes = [ax1, ax2, ax3, ax4, ax5]\n",
    "\n",
    "bins = 20\n",
    "theta = np.linspace(-np.pi, np.pi, bins+1)\n",
    "for i, X in enumerate(X_list):\n",
    "    label = label_list[i]\n",
    "    mu = np.sum(X, axis=1)\n",
    "    plot_angles([mu[0:bins], theta], ax=axes[i], title=label)\n",
    "    #plot_angles([mu[bins:2*bins], theta], ax=axes[i], title=label) # curvature\n",
    "plt.suptitle('Contour Angle Statistics', fontsize='xx-large')\n",
    "plt.tight_layout()\n",
    "plt.savefig('Test/ContourAngleStatistics.png')"
   ]
  },
  {
   "cell_type": "code",
   "execution_count": 165,
   "id": "characteristic-attachment",
   "metadata": {},
   "outputs": [
    {
     "name": "stdout",
     "output_type": "stream",
     "text": [
      "PC 1 = [-7.25767574e-03  2.36275509e-02  8.67508098e-03  4.09302599e-02\n",
      "  7.95683404e-03 -1.05213301e-01  5.36869689e-03 -2.71217901e-02\n",
      "  4.77057561e-02 -1.94217970e-02 -1.16822276e-02  3.24863164e-02\n",
      "  4.02041480e-02  3.14566220e-02  1.22382389e-02 -1.06009212e-01\n",
      " -1.45449558e-02 -9.18060673e-03  5.41130087e-02 -4.33094654e-03\n",
      "  2.01023805e-03  4.17500486e-03  7.73578600e-03  2.41875523e-02\n",
      "  1.34309776e-02  4.27761630e-02  6.46863625e-02  1.45067264e-01\n",
      "  2.23372777e-01 -2.25138774e-01 -8.64214509e-01  2.37648884e-01\n",
      "  1.55996375e-01  6.51992135e-02  3.63392053e-02  3.23055081e-02\n",
      "  1.90580454e-02  6.05412620e-03  4.32106553e-03  4.98873479e-03\n",
      " -3.07541951e-02  1.89393050e-02 -9.89687117e-03 -3.70624308e-03\n",
      " -3.22107451e-04  4.23934567e-03]\n",
      "PC 2 = [ 1.05582947e-01  4.46742876e-02  2.17561244e-02 -3.67611964e-02\n",
      " -1.23902754e-01 -5.22935215e-01 -8.36530952e-02  7.67507075e-02\n",
      "  1.28096270e-01  2.16530136e-01  2.90408446e-01  4.22493722e-02\n",
      "  9.66834113e-03 -3.90228116e-02 -9.67506547e-02 -5.57168871e-01\n",
      " -7.44295844e-02  7.06226817e-02  1.14493679e-01  4.13791189e-01\n",
      " -1.79664316e-03 -2.37742532e-03  5.77470620e-04  8.90403714e-04\n",
      "  3.50473945e-04 -6.47410660e-03 -4.55137050e-03 -1.72659734e-02\n",
      " -2.88626291e-03  5.88496112e-02  9.06789617e-02 -4.05621316e-02\n",
      " -3.62783565e-02 -1.76425640e-02 -5.17802858e-03 -6.99191107e-03\n",
      " -6.57307243e-04 -2.82222484e-03 -2.76173321e-03 -3.10088220e-03\n",
      " -1.61498516e-02 -4.66897957e-03  4.35186681e-02 -4.40112165e-03\n",
      " -2.28709592e-03  6.63261791e-04]\n"
     ]
    },
    {
     "name": "stderr",
     "output_type": "stream",
     "text": [
      "No handles with labels found to put in legend.\n"
     ]
    }
   ],
   "source": [
    "# Show the Principal Components\n",
    "pca.fit(X_total)\n",
    "PC1, PC2 = pca.components_\n",
    "print(f'PC 1 = {PC1}')\n",
    "print(f'PC 2 = {PC2}')\n",
    "\n",
    "plt.figure()\n",
    "plt.plot(PC1, label='PC 1')\n",
    "plt.plot(PC2, label='PC 2')\n",
    "plt.legend()\n",
    "plt.title('Principal Components')\n",
    "plt.savefig('Test/PrincipalComponents.png')\n",
    "\n",
    "\n",
    "bins = 20\n",
    "theta = np.linspace(-np.pi, np.pi, bins+1)\n",
    "\n",
    "fig = plt.figure(figsize=(8, 4))\n",
    "ax1 = plt.subplot(121, projection='polar')\n",
    "ax2 = plt.subplot(122, projection='polar')\n",
    "plot_angles([PC1[0:bins], theta], ax=ax1, title='Contour Angles')\n",
    "plot_angles([PC2[0:bins], theta], ax=ax1, title='Contour Angles')\n",
    "plot_angles([PC1[bins:2*bins], theta], ax=ax2, title='Contour Curvatures')\n",
    "plot_angles([PC2[bins:2*bins], theta], ax=ax2, title='Contour Curvatures')\n",
    "plt.suptitle('Principal Components', fontsize='xx-large')\n",
    "plt.legend()\n",
    "plt.tight_layout()\n",
    "plt.savefig('Test/PC_hists.png')\n"
   ]
  },
  {
   "cell_type": "code",
   "execution_count": 144,
   "id": "aboriginal-basin",
   "metadata": {},
   "outputs": [
    {
     "data": {
      "application/vnd.plotly.v1+json": {
       "config": {
        "plotlyServerURL": "https://plot.ly"
       },
       "data": [
        {
         "hovertemplate": "color=Mi Fu (Wu River)<br>PC 1=%{x}<br>PC 2=%{y}<br>PC 3=%{z}<br>size=%{marker.size}<extra></extra>",
         "legendgroup": "Mi Fu (Wu River)",
         "marker": {
          "color": "#636efa",
          "size": [
           0.001,
           0.001,
           0.001,
           0.001,
           0.001,
           0.001,
           0.001,
           0.001,
           0.001,
           0.001,
           0.001,
           0.001,
           0.001,
           0.001,
           0.001,
           0.001,
           0.001,
           0.001,
           0.001,
           0.001,
           0.001,
           0.001,
           0.001,
           0.001,
           0.001,
           0.001,
           0.001,
           0.001,
           0.001,
           0.001,
           0.001,
           0.001,
           0.001,
           0.001,
           0.001,
           0.001,
           0.001,
           0.001,
           0.001,
           0.001,
           0.001,
           0.001,
           0.001,
           0.001,
           0.001,
           0.001,
           0.001,
           0.001,
           0.001,
           0.001,
           0.001,
           0.001,
           0.001,
           0.001,
           0.001,
           0.001,
           0.001,
           0.001,
           0.001,
           0.001,
           0.001,
           0.001,
           0.001,
           0.001,
           0.001,
           0.001,
           0.001,
           0.001,
           0.001,
           0.001,
           0.001,
           0.001,
           0.001,
           0.001,
           0.001,
           0.001,
           0.001,
           0.001,
           0.001,
           0.001,
           0.001,
           0.001,
           0.001,
           0.001,
           0.001,
           0.001,
           0.001,
           0.001,
           0.001,
           0.001,
           0.001
          ],
          "sizemode": "area",
          "sizeref": 2.5e-06,
          "symbol": "circle"
         },
         "mode": "markers",
         "name": "Mi Fu (Wu River)",
         "scene": "scene",
         "showlegend": true,
         "type": "scatter3d",
         "x": [
          0.29875458610804306,
          0.1300840218285004,
          0.21699307954450983,
          0.3512214485833409,
          0.23497299501000468,
          0.3791862095571969,
          0.34655665459046797,
          0.4160293099878011,
          0.3242027961534292,
          0.44465908720222136,
          0.27369595412793973,
          0.10721654949261424,
          0.17618377234738464,
          0.37976311985431094,
          0.33316192528489846,
          0.48631249947247635,
          0.26906923704346375,
          0.4038887415282058,
          0.2496957755857725,
          0.23676771208157582,
          0.21809722749588853,
          0.25442527230680856,
          0.17299295916574317,
          0.3220843426963003,
          0.42422957174004683,
          0.2752061568884973,
          0.413932195445051,
          0.43904396991004596,
          0.20493367308192692,
          0.0648571273279768,
          -0.09982576477093083,
          -0.06116181159211534,
          0.08897969850149981,
          0.21058973853782362,
          -0.15020294978960377,
          -0.08491830146248253,
          -0.24636140224555578,
          0.22745949705199373,
          -0.38923404269702516,
          -0.27696660856885225,
          0.21494639648326955,
          0.3725225888179465,
          0.26878560385840294,
          -0.10692424192430057,
          -0.38469022043457385,
          0.015842131265940616,
          0.19181667225689283,
          -0.1828811018696208,
          -0.4976122778002157,
          0.03185119824220486,
          -0.08117530180164284,
          -0.14849659211468536,
          -0.051348599053325256,
          -0.06782309596700932,
          0.09139201446001582,
          0.32225429625663277,
          -0.6384981279154,
          -0.5018241754637067,
          -0.4328889682490034,
          -0.16425800649487543,
          0.06953610792028722,
          -0.09361979553638684,
          -0.186329178581959,
          0.1082352015838469,
          -0.12118729544690587,
          -0.31993483379707616,
          -0.34096144209510526,
          0.014607553831670726,
          0.2621408045186881,
          -0.20221906973246107,
          -0.7360994639818048,
          -0.019347855984917246,
          -0.2205591498713019,
          -0.18111238920330366,
          0.20366759411457616,
          -0.07126308805185956,
          -0.4197301765148915,
          -0.20840107192978977,
          0.0035915738696953646,
          -0.15506803837230512,
          -0.35270814862903627,
          -0.36593955061264205,
          -0.39326416271215703,
          -0.07833318803529575,
          -0.028756995047642536,
          -0.10702869846111532,
          0.021626977010901827,
          -0.2861881280882459,
          -0.5111082549567197,
          -0.1971373679608901,
          -0.2815023222702204
         ],
         "y": [
          -0.08733631962981765,
          -0.26001737133028247,
          0.07914401338337695,
          -0.13600361544037318,
          -0.06295727199398704,
          -0.1468285324515338,
          -0.08491887562935022,
          -0.057098081052291604,
          -0.24245971031430377,
          -0.35096083528948924,
          -0.12503184996172292,
          -0.20826028784798972,
          -0.23201822832615587,
          -0.14301573888593117,
          0.12630656712373264,
          -0.2869459966440296,
          0.20378430433856093,
          -0.3207934933896367,
          -0.1247298706693199,
          -0.25124977528957004,
          -0.18035587789743016,
          -0.1336676808263568,
          -0.056270483790672676,
          -0.2340637099284161,
          -0.08978709405159062,
          -0.10301953854560272,
          -0.22376385391538284,
          0.026607955167239003,
          -0.30282634582104273,
          -0.1432363576371848,
          -0.12935387916673713,
          -0.1668082511079431,
          -0.11218150203835055,
          -0.29933531525225127,
          -0.07754695744570739,
          -0.09245837686558328,
          0.1372198978296632,
          0.037521563754512766,
          0.026407725496853166,
          0.10839134833646866,
          -0.16212521448173486,
          -0.13967018312458163,
          -0.19001715638275476,
          -0.5358719981698683,
          0.28966642403412984,
          0.01697105825021513,
          0.20095002802424963,
          -0.2977916883422397,
          -0.2533653633328789,
          -0.12438196857232024,
          -0.0038526219259326405,
          -0.5703615868345215,
          -0.2463741223413638,
          0.06488487246694542,
          -0.0994863819029925,
          0.10379987556619623,
          -0.5671061470887963,
          -0.31172234000124616,
          0.14183491484861643,
          0.2251783464360012,
          -0.32928333720200026,
          -0.023323950247390455,
          0.25379185376005536,
          0.22051217309360494,
          -0.08211566116628954,
          -0.21623492012197806,
          -0.4411508397169439,
          -0.22775972201668748,
          0.06277639576948812,
          -0.33117539029461474,
          1.026837924434446,
          -0.3203146213839649,
          0.10345503519078941,
          -0.19263286592697212,
          0.04740033820906241,
          -0.04929059802397362,
          -0.19082197409740817,
          -0.14388060662020835,
          -0.030627191276520145,
          0.08907042892984156,
          0.022219593392439837,
          -0.40390675229502815,
          -0.36900243513202513,
          -0.11771040918359596,
          -0.0011471748930440698,
          -0.2993365588487791,
          0.20717648220107457,
          -0.7848820082584367,
          -0.5164318829014549,
          -0.20132485368790864,
          0.2808266772074693
         ],
         "z": [
          0.07940798564835166,
          0.11976787271782216,
          -0.08646064892109022,
          -0.09185419107118746,
          0.08651562295365679,
          -0.0036858950391702376,
          -0.17470422361795332,
          -0.03279041970273631,
          0.011384282321858667,
          0.09897340240917868,
          -6.983298858776764e-05,
          -0.010009107450196474,
          -0.036186247046441,
          0.1432609430583963,
          -0.18703759133378256,
          -0.08298702309527582,
          -0.08922047416598977,
          -0.014795364411170527,
          0.050853295967757825,
          -0.1156123160564312,
          -0.029167226226835437,
          -0.0640986617715302,
          -0.07885586016532069,
          0.06574072729379424,
          -0.11406338627774795,
          0.04647626398551138,
          -0.09322232513825415,
          0.04594967193346774,
          0.06282901771561317,
          0.08673548634704781,
          -0.016957220294714914,
          0.044420118968689776,
          -0.07783690273470174,
          0.25159585896911524,
          -0.41447784723422315,
          -0.10363360294308233,
          0.06453628813140075,
          0.07254275635500458,
          0.20383245867134647,
          -0.12325756899345695,
          0.16833357490737888,
          -0.12240647754825033,
          -0.08137166595242386,
          0.13050268359013398,
          0.3282442929265009,
          -0.0005489340169740003,
          0.1839518530319073,
          -0.14186357976817401,
          -0.24374122927590425,
          -0.101383789623354,
          0.05771901155724713,
          0.1899280348559148,
          0.006130955658677377,
          -0.4457979878327894,
          0.06075198961274735,
          0.1450614686133191,
          -0.007875961368352204,
          -0.24435989568602554,
          -0.08144010849377792,
          0.004010078256990734,
          0.13564237159599196,
          0.044804785601958816,
          -0.18090263201091314,
          -0.08049680284258014,
          0.19270756464169878,
          -0.21221415397907334,
          0.056449522302885025,
          -0.17031083459715596,
          -0.16558796078516652,
          -0.03319716369634691,
          0.727110183507129,
          0.16441366405128022,
          -0.01592220863350934,
          -0.0029830535744301326,
          0.02705416709075857,
          -0.28559769499035625,
          0.024314465347434536,
          0.11635934922405526,
          0.12218641275823035,
          0.10147620084981811,
          0.04595509283359156,
          0.09657949996871079,
          0.07656441345016754,
          -0.3276298285439259,
          -0.4057337709956121,
          -0.06577633335906209,
          -0.1640774177729656,
          0.23474831001007035,
          -0.014273500498186712,
          -0.11450724273187039,
          -0.03679382148386229
         ]
        },
        {
         "hovertemplate": "color=Huizong<br>PC 1=%{x}<br>PC 2=%{y}<br>PC 3=%{z}<br>size=%{marker.size}<extra></extra>",
         "legendgroup": "Huizong",
         "marker": {
          "color": "#EF553B",
          "size": [
           0.001,
           0.001,
           0.001,
           0.001,
           0.001,
           0.001,
           0.001,
           0.001,
           0.001,
           0.001,
           0.001,
           0.001,
           0.001,
           0.001,
           0.001,
           0.001,
           0.001,
           0.001,
           0.001,
           0.001,
           0.001,
           0.001,
           0.001,
           0.001,
           0.001,
           0.001,
           0.001,
           0.001,
           0.001,
           0.001,
           0.001,
           0.001,
           0.001,
           0.001,
           0.001,
           0.001,
           0.001,
           0.001,
           0.001,
           0.001,
           0.001,
           0.001,
           0.001,
           0.001,
           0.001,
           0.001,
           0.001,
           0.001,
           0.001,
           0.001,
           0.001,
           0.001,
           0.001,
           0.001,
           0.001,
           0.001,
           0.001,
           0.001,
           0.001,
           0.001,
           0.001,
           0.001,
           0.001
          ],
          "sizemode": "area",
          "sizeref": 2.5e-06,
          "symbol": "circle"
         },
         "mode": "markers",
         "name": "Huizong",
         "scene": "scene",
         "showlegend": true,
         "type": "scatter3d",
         "x": [
          0.11552312026812062,
          0.28067906976812845,
          0.2274043335301201,
          0.011519597645208225,
          0.13880959958402125,
          0.2717997409393243,
          0.3085551439942287,
          0.3552660983986209,
          0.14627816956736917,
          0.26266441614309793,
          0.4045812130348537,
          0.189650110450536,
          0.43606540089012147,
          0.4556746250964642,
          0.38035852263590003,
          0.06238948677721561,
          0.07023792624343284,
          0.4302898586861597,
          0.5644689766597146,
          0.4000469753743651,
          0.5006984118929908,
          0.6269976268082706,
          0.4134110812605418,
          0.3493007511483717,
          0.5828511679139607,
          0.3976280710720324,
          0.3153189852424481,
          0.2999368418455039,
          0.274394933074893,
          0.2540002958187938,
          -0.006099316610229945,
          0.27566065224936653,
          0.3931878029452889,
          0.4574115707142405,
          0.46194814507375903,
          0.08384935096903232,
          0.16720180306416582,
          0.4543438048698174,
          0.35898242717504264,
          0.18495955001519748,
          0.08153916030199128,
          0.17908663448064352,
          0.254992658633306,
          -0.15276043023932884,
          -0.016516851470993264,
          0.08087851748977137,
          0.5177045322037632,
          0.5156216043433655,
          0.5721916310817098,
          0.22447698650810927,
          0.15439616176907558,
          0.3082233601158557,
          0.4532687119655295,
          0.26640822058293845,
          0.1907583852269555,
          0.14684193634960194,
          0.09825917364401174,
          0.05164567464689022,
          0.09424223938853077,
          0.4396987628237872,
          0.22409289194325158,
          0.31256989299402993,
          0.15646778490178345
         ],
         "y": [
          0.012350357338688967,
          0.2595643671864556,
          0.012429709396375707,
          -0.37119953462621225,
          0.3406762090048127,
          -0.09720962932049125,
          -0.07267731280826414,
          -0.38962539043716193,
          -0.14394866435630288,
          0.0960241558914595,
          0.04685799429675888,
          0.058074554737494316,
          -0.1797741487784885,
          -0.15986879803248674,
          0.0113031440775885,
          -0.13156208027324237,
          0.614507954517621,
          -0.18108943038714448,
          0.2719264294504385,
          0.03002739039150053,
          -0.1661023022761454,
          0.13851344439508834,
          -0.06747384638872267,
          -0.073142790763236,
          0.1466593186140815,
          0.21321365003379847,
          0.10993327005311454,
          0.05665691629051313,
          -0.09872820385782707,
          -0.10658580632412157,
          0.29619687643745257,
          -0.11713740740398526,
          -0.13681479393721874,
          -0.24392251048722763,
          0.004721730511958036,
          -0.12980445200861804,
          0.21697418444952413,
          0.059472135730717225,
          -0.21590953313375316,
          -0.22132212049529726,
          0.36192743569877955,
          -0.1001984626427826,
          0.035852530326090065,
          -0.23214163201067456,
          0.19757849527916982,
          0.1581695366505961,
          0.12804198395074132,
          0.12945131752307273,
          0.0004891414348776556,
          0.0010274602696097464,
          0.06469266904499275,
          -0.05141671314728618,
          0.13404568103845405,
          -0.39984201420325427,
          0.039315457241297834,
          0.13998788879146737,
          0.16275512650992116,
          0.34307970660890635,
          -0.10028095383566728,
          0.009901104498454286,
          -0.31930585022513047,
          -0.13464043444036955,
          0.06151197202863846
         ],
         "z": [
          0.14464536738921635,
          0.039009445719944205,
          0.08182553188120738,
          0.11722871517197181,
          0.11425629650803888,
          0.003261496992626624,
          0.23722817709209384,
          0.03141910855836809,
          0.06943608765964514,
          0.15966471659499556,
          0.044786715377807144,
          -0.07921165563557711,
          -0.002629185805644633,
          -0.0939442410210807,
          -0.005531969440647895,
          0.1336902248941657,
          0.24185083177068148,
          -0.13141055088749715,
          0.007601461901055807,
          0.02864959394123262,
          0.178210398895687,
          -0.01665680472158932,
          0.15135666773312437,
          -0.04043486647073823,
          -0.11221505179432888,
          0.13610067004823073,
          0.08776383228262766,
          -0.017552940096775282,
          -0.00702740937645042,
          0.07566064020283121,
          -0.20683082224483484,
          -0.10311797408631018,
          0.1465505609914878,
          -0.19638681524358428,
          0.07877506555629465,
          0.1137199032597231,
          -0.005338724422073808,
          -0.23701959673884734,
          0.16454106122681914,
          0.11405437720255819,
          0.12029213325324734,
          -0.12924914858912306,
          -0.1553727657275646,
          0.17987579813536783,
          -0.06681242169256452,
          0.27048063396349464,
          -0.12419804843699761,
          -0.0888049847737135,
          0.2860211623846179,
          0.12210812659186908,
          -0.025486953263318082,
          0.028706579292740307,
          0.05587139937632332,
          0.1815235216539159,
          -0.0704479305835992,
          -0.05282054570523386,
          0.09248471794179175,
          -0.2652325111962241,
          0.16527175120399884,
          -0.1172249901517637,
          -0.029054653687734244,
          0.17825539240708013,
          0.1540538630751631
         ]
        },
        {
         "hovertemplate": "color=Su Shi<br>PC 1=%{x}<br>PC 2=%{y}<br>PC 3=%{z}<br>size=%{marker.size}<extra></extra>",
         "legendgroup": "Su Shi",
         "marker": {
          "color": "#00cc96",
          "size": [
           0.001,
           0.001,
           0.001,
           0.001,
           0.001,
           0.001,
           0.001,
           0.001,
           0.001,
           0.001,
           0.001,
           0.001,
           0.001,
           0.001,
           0.001,
           0.001,
           0.001,
           0.001,
           0.001,
           0.001,
           0.001,
           0.001,
           0.001,
           0.001,
           0.001,
           0.001,
           0.001,
           0.001,
           0.001,
           0.001,
           0.001,
           0.001,
           0.001,
           0.001,
           0.001,
           0.001,
           0.001,
           0.001,
           0.001,
           0.001,
           0.001,
           0.001,
           0.001,
           0.001,
           0.001,
           0.001,
           0.001,
           0.001,
           0.001,
           0.001,
           0.001,
           0.001,
           0.001,
           0.001,
           0.001,
           0.001,
           0.001,
           0.001,
           0.001,
           0.001,
           0.001,
           0.001,
           0.001,
           0.001,
           0.001,
           0.001,
           0.001,
           0.001,
           0.001,
           0.001,
           0.001,
           0.001,
           0.001,
           0.001,
           0.001,
           0.001,
           0.001,
           0.001,
           0.001,
           0.001,
           0.001,
           0.001,
           0.001,
           0.001,
           0.001,
           0.001,
           0.001,
           0.001,
           0.001,
           0.001,
           0.001,
           0.001,
           0.001,
           0.001,
           0.001,
           0.001,
           0.001,
           0.001,
           0.001,
           0.001,
           0.001,
           0.001,
           0.001,
           0.001,
           0.001,
           0.001,
           0.001,
           0.001,
           0.001,
           0.001,
           0.001,
           0.001,
           0.001,
           0.001,
           0.001,
           0.001,
           0.001,
           0.001,
           0.001
          ],
          "sizemode": "area",
          "sizeref": 2.5e-06,
          "symbol": "circle"
         },
         "mode": "markers",
         "name": "Su Shi",
         "scene": "scene",
         "showlegend": true,
         "type": "scatter3d",
         "x": [
          -0.30412136922768734,
          -0.20416803060556185,
          -0.0526594949149241,
          -0.15680205149650583,
          -0.5383496804930654,
          -0.1009511852001022,
          -0.22715378062221983,
          -0.06844176169012034,
          -0.2967976438826595,
          -0.036817765895753723,
          0.039195939838618105,
          0.013423608012239392,
          0.2740859878716529,
          -0.023616471694709488,
          -0.04897580299002884,
          0.04652539251289779,
          -0.29296973215969346,
          0.05574860042628312,
          -0.26504514493327996,
          0.04057002799952382,
          -0.18359419366833088,
          -0.12536184337411815,
          -0.5115289452378399,
          0.06589297202987113,
          0.09256653801464931,
          -0.45606455712835625,
          -0.4590235091636063,
          -0.18958360459733326,
          0.22017409198391494,
          -0.04679733087048807,
          -0.16690961439032223,
          0.05106999995400023,
          -0.09393333737629234,
          -0.38885632319594265,
          0.04740534516625414,
          -0.32355577971412736,
          -0.5100399158996713,
          -0.3374798017904083,
          -0.17109327450451012,
          -0.11745514280338337,
          -0.23172866343535695,
          -0.05783727351765857,
          -0.20100124436286432,
          -0.4612342320160927,
          -0.507581336626401,
          -0.21159229217140568,
          -0.4161829995808652,
          -0.053075335245294904,
          -0.026490916339865847,
          0.28174975851772743,
          0.4889491542042432,
          -0.2770690882435056,
          -0.16632423504400157,
          -0.06491665076424682,
          -0.31264112562948304,
          0.0754616514923692,
          0.0190624660633321,
          -0.27791347516378967,
          -0.38119683300551244,
          -0.3110150252046435,
          -0.23438588492374895,
          -0.24345640257714143,
          -0.4255188469778966,
          -0.21652793182979738,
          -0.09941101325857638,
          -0.25343775166101074,
          -0.4083349244563736,
          -0.20420201810452557,
          -0.33298655854780584,
          -0.14998410412243912,
          -0.15985196812749256,
          -0.28716654666507613,
          -0.03894087286168859,
          -0.1776427417300934,
          -0.07610832232831291,
          0.1545562197219933,
          0.08748116098423908,
          0.18960599373682951,
          -0.11818035014473613,
          -0.14262993221970374,
          0.08951075891577144,
          -0.020142173211161365,
          0.17866731799893731,
          0.027831166560137264,
          0.08881839778925865,
          -0.16374211699346078,
          0.11099885380761751,
          0.0713532405316872,
          -0.08440720480728021,
          -0.46171343917297963,
          -0.09302117762761544,
          -0.1258759034501695,
          -0.23363368381839447,
          0.15030604321808821,
          -0.09679802721005748,
          0.0035977816884063584,
          -0.28634064925220587,
          -0.05104559011452607,
          -0.04383918448016223,
          0.02464794054862246,
          0.1744675033136193,
          -0.35319687311293163,
          0.1147196447267803,
          0.1464045021098226,
          -0.10490636933062553,
          -0.28234191083696986,
          -0.05712205075096295,
          -0.1546553721099367,
          -0.1654426649962798,
          -0.08842987031741655,
          -0.11194095825452505,
          -0.11139335611950599,
          0.0389260011155017,
          0.07518356063543628,
          -0.25816905198807377,
          0.13579599856195898,
          0.09744735015963217,
          0.44915355330366225,
          -0.14396898101525696
         ],
         "y": [
          -0.42228783478261583,
          0.06425471748222984,
          0.16256658905707544,
          0.19433709635168323,
          -0.6128878321552492,
          0.009397987632192299,
          0.004888475591734371,
          0.5953025567519877,
          0.6117381917785626,
          0.29447259655982416,
          -0.015019527769157664,
          -0.2813142338482021,
          0.11203271943232056,
          0.1803442560648852,
          0.10710858419224327,
          0.22643190827953946,
          0.3003481209203578,
          -0.34086578803749934,
          0.309450264892421,
          0.2377468202027838,
          -0.03762184309989776,
          0.12002198069849453,
          -0.6606382640679236,
          0.2059276927125675,
          0.15510959756275247,
          -0.3003772813679611,
          -0.40076265827425167,
          -0.2935837682618558,
          0.0878973474845861,
          0.10203770008390647,
          -0.11904437693945574,
          -0.05186598865359685,
          0.24101170997509364,
          0.41983914973463293,
          0.1907185088223451,
          -0.4310897055794337,
          -0.7845307390601017,
          -0.42491095077039015,
          -0.004445153969395019,
          0.1988960680915113,
          0.20289316233607918,
          0.059192871149198946,
          0.23242852202222417,
          -0.2759456158390529,
          -0.15521279097041454,
          -0.08325849856709416,
          -0.03103021842164709,
          0.28858951910155284,
          -0.25637591796123366,
          -0.12256350701485624,
          -0.002810077194008246,
          -0.2539977884434124,
          0.36304972289448634,
          -0.26832087435777907,
          -0.09356311398855179,
          0.14454524815102937,
          0.0827412878288829,
          0.16469191940862124,
          0.41431666342525925,
          -0.0636497440310332,
          -0.1792879697275067,
          0.14398241716787483,
          0.27525796139662095,
          0.3445397163267407,
          -0.11427317102638689,
          0.0032923712820926293,
          0.2691836065063174,
          0.13575343075134744,
          -0.05830894640719837,
          -0.11435473775276123,
          -0.02844647884529345,
          -0.041980961132424235,
          0.31622583642237606,
          0.3429392166639003,
          0.26008038764777636,
          0.1466729123955194,
          0.3925209261342651,
          0.20719308492584612,
          0.04691398730970429,
          0.08742374067493756,
          -0.03701462796089201,
          -0.11886246284465761,
          -0.23727010906193402,
          -0.1591797565164941,
          0.1826120147547687,
          0.14933438181960226,
          0.31209093094999985,
          -0.23061107860619562,
          0.06642602848214359,
          -0.33518548166237655,
          0.21919156752811414,
          -0.16754533258014806,
          -0.6216511136970729,
          0.22137783018255874,
          -0.45490694319707,
          0.004051892746417052,
          0.30403559159479504,
          0.35049480473698996,
          0.14630985390556897,
          0.26548680041068495,
          -0.019201468202568517,
          0.5362062301674023,
          0.13395977397827236,
          0.16098661730013444,
          0.11888048244297723,
          0.012613938739408765,
          -0.011585663526174446,
          0.044940949559899024,
          0.11148497289664532,
          0.1378719998872135,
          0.24402186713402582,
          0.25014139850864475,
          0.14637269982635429,
          0.09835799405269216,
          -0.5174333175145517,
          0.15022526193049188,
          -0.1419696686318707,
          0.5656423095484295,
          0.01977324157693499
         ],
         "z": [
          0.20054691411630285,
          -0.09841204963980058,
          -0.039110296940453315,
          -0.21853430738714835,
          0.10985034424093751,
          -0.1271769973010222,
          0.19555648794827601,
          0.28234553916001215,
          0.327752587544483,
          0.14322785012102168,
          -0.3384819507930433,
          -0.03695451659910127,
          0.02024464259785967,
          0.12866284328092578,
          -0.04971529858055285,
          0.1073441736143972,
          -0.1382396578653777,
          0.08216476532600472,
          0.13788265823854756,
          0.012306664822108175,
          0.19296076459351177,
          0.13280527913066836,
          0.17929074392450792,
          0.07679878017383943,
          -0.023675356262150338,
          -0.02919404217283365,
          0.2592600419060725,
          0.03013053019718726,
          0.10149372488410999,
          -0.2487586380984442,
          -0.0651398975057433,
          -0.08650979610437638,
          0.0994191446674929,
          0.26557237736226463,
          0.05021145985352994,
          0.04759605102895046,
          0.3589122591026663,
          0.06082102767760977,
          -0.0016772228821670056,
          -0.3278601039514975,
          -0.07144282099533755,
          0.08603214141818477,
          0.14800397245415015,
          -0.018287451283266233,
          -0.07192219285815285,
          -0.22007105929173593,
          -0.2262355247479864,
          -0.18073021060508335,
          0.013097295791637664,
          0.1265614640090908,
          0.07319852580337145,
          -0.018692097473935944,
          -0.03488155053957087,
          -0.12482578343063076,
          -0.058944662145739055,
          -0.07614240148777722,
          -0.10882836408212399,
          -0.5907511404006242,
          -0.017965425191077036,
          0.14096460136015226,
          0.012018829251762796,
          0.16807813241830435,
          -0.15150473495543396,
          0.09004569217960996,
          0.14046953416939453,
          0.16649411676654152,
          -0.04373046922867235,
          -0.2919376344610143,
          -0.21596239002537782,
          0.2779454913304441,
          -0.06666985662626498,
          0.075497127526452,
          0.026165124870873163,
          0.011981469163762574,
          0.11462000226144374,
          -0.19312404194120886,
          0.2148797013428825,
          0.06579821150681403,
          -0.09058607050478275,
          0.180263380888101,
          -0.02560854631505154,
          -0.1706399033708524,
          0.20904445415207823,
          0.05749198532393232,
          -0.2342053561309765,
          0.13919300556592082,
          0.10273192201033675,
          -0.09980651658052656,
          -0.24449367895741728,
          0.15015011476300374,
          0.14940367783829445,
          -0.28901899508320017,
          0.2578843549148714,
          -0.12492118849637304,
          0.145915476945901,
          -0.08638338738289456,
          -0.1257932169709688,
          0.0666692515339287,
          -0.09324128764492058,
          -0.15094162172743367,
          -0.1414042008675239,
          0.03428076655563738,
          -0.09977399600455031,
          0.26181906947445305,
          -0.08486098125273851,
          -0.039129554516368986,
          0.0063301893816751,
          -0.13316848834274023,
          -0.14227525904638097,
          -0.0418790075424791,
          0.13203415308447136,
          0.022370862124991155,
          -0.055343348689486774,
          -0.08211024096351992,
          0.05579951290549835,
          0.07051806599106353,
          -0.1047246374539027,
          0.31706281338851294,
          -0.029955386929282877
         ]
        },
        {
         "hovertemplate": "color=WangXiZhi<br>PC 1=%{x}<br>PC 2=%{y}<br>PC 3=%{z}<br>size=%{marker.size}<extra></extra>",
         "legendgroup": "WangXiZhi",
         "marker": {
          "color": "#ab63fa",
          "size": [
           0.001,
           0.001,
           0.001,
           0.001,
           0.001,
           0.001,
           0.001,
           0.001,
           0.001,
           0.001,
           0.001,
           0.001,
           0.001,
           0.001,
           0.001,
           0.001,
           0.001,
           0.001,
           0.001,
           0.001,
           0.001,
           0.001,
           0.001,
           0.001,
           0.001,
           0.001,
           0.001,
           0.001,
           0.001,
           0.001,
           0.001,
           0.001,
           0.001,
           0.001,
           0.001,
           0.001,
           0.001,
           0.001,
           0.001,
           0.001,
           0.001,
           0.001,
           0.001,
           0.001,
           0.001,
           0.001,
           0.001,
           0.001,
           0.001,
           0.001,
           0.001,
           0.001,
           0.001,
           0.001,
           0.001,
           0.001,
           0.001,
           0.001,
           0.001,
           0.001,
           0.001,
           0.001,
           0.001,
           0.001,
           0.001,
           0.001,
           0.001,
           0.001,
           0.001,
           0.001,
           0.001,
           0.001,
           0.001,
           0.001,
           0.001,
           0.001,
           0.001,
           0.001,
           0.001,
           0.001,
           0.001,
           0.001,
           0.001,
           0.001,
           0.001,
           0.001,
           0.001,
           0.001,
           0.001,
           0.001,
           0.001,
           0.001,
           0.001,
           0.001,
           0.001
          ],
          "sizemode": "area",
          "sizeref": 2.5e-06,
          "symbol": "circle"
         },
         "mode": "markers",
         "name": "WangXiZhi",
         "scene": "scene",
         "showlegend": true,
         "type": "scatter3d",
         "x": [
          0.00046052961482449063,
          0.11484534354726102,
          0.23711391436592685,
          0.010500053874472644,
          0.5161524893119824,
          0.8093477440760224,
          0.8669376300593054,
          -0.0928776348713699,
          0.0960497453942117,
          0.3468634622944858,
          0.8714645593933911,
          -0.04133568723931822,
          0.003031839866607826,
          0.08740960049091509,
          -0.05530236595449625,
          -0.31106413660330123,
          -0.2273792531737126,
          0.2541867027634335,
          -0.11302554543963776,
          -0.1046487787980576,
          0.3541734633989057,
          0.5154707980143045,
          0.5730662873211032,
          0.2741069492730731,
          0.5110089978405454,
          0.01797894508743641,
          -0.07092060495807664,
          0.0631959903719052,
          0.2572754975971777,
          -0.11714679646769338,
          0.11460700424315604,
          0.2155860474391775,
          0.15347187642874313,
          -0.10453197523025062,
          0.4576992452141736,
          0.06822341244034139,
          0.3704695569940226,
          0.2397618520202225,
          0.42595658391351016,
          0.15071398180352008,
          0.09759347217433152,
          -0.09690497238295313,
          0.15629227125442288,
          0.06054455398991385,
          0.318522580356876,
          -0.003037728619394114,
          -0.10223122514303708,
          0.4480548819490827,
          0.04242144332761974,
          -0.037694204579278,
          -0.024647542472791297,
          -0.23620658604465453,
          -0.25429960714765193,
          0.20094918635642153,
          -0.06605380955102089,
          0.31826808120883365,
          -0.08365115890973941,
          -0.24496375653825267,
          -0.3382115740137727,
          0.19745363743200608,
          0.3410350777203619,
          0.4061148932106837,
          0.5089908798439775,
          0.7205167396363278,
          0.3417507235937034,
          0.29681599050069524,
          0.06246464644067287,
          -0.044214607892138214,
          -0.03250276917875424,
          0.33500751050697425,
          0.00018181758805048485,
          -0.14255801073001706,
          0.13055314966336273,
          0.4088849499762638,
          0.4810965007590695,
          0.47239361925322104,
          0.6340137430274004,
          0.3798868865577797,
          0.09047842324194465,
          -0.22325804096144788,
          0.39759885057796845,
          0.08537428956026845,
          -0.06194244266880378,
          0.3200219607353473,
          0.3422263342474321,
          0.18316467967643849,
          0.1774209381376389,
          0.02282237313015897,
          -0.05228020333284104,
          -0.2057448762138231,
          -0.33096036106400034,
          0.0009122100683527965,
          -0.215665707669051,
          -0.04062757244779337,
          0.2872022012638338
         ],
         "y": [
          0.2878460898020787,
          -0.13456793001896364,
          -0.037399329471738164,
          0.056454201200066265,
          -0.025933472023573885,
          -0.059124561905117154,
          -0.09277208037096706,
          0.040032282334717194,
          0.26054732645849504,
          0.05744861448450853,
          -0.03869629143632059,
          0.1354303343465678,
          0.19633082436775137,
          0.08810416886631038,
          -0.2622381473894135,
          -0.07224748894704312,
          -0.4809385745218339,
          -0.161079682980624,
          0.2254238286833265,
          0.11401846005061603,
          -0.07398983033421566,
          0.03581671441299476,
          -0.05156983155149724,
          0.06512535145797527,
          0.2831636217977715,
          -0.08418938261207574,
          -0.028793603523968182,
          -0.10239895476742708,
          -0.01408320551492238,
          -0.4755264119668516,
          0.2695802582132821,
          -0.26643093709787885,
          0.017659145648985873,
          -0.018123959673346936,
          0.09936918334116161,
          -0.05211786769802136,
          -0.1061914063530977,
          -0.21741663864832536,
          0.05531424009301404,
          -0.03878930665842307,
          0.023325846981986365,
          0.22783043713372775,
          0.3352673272526352,
          0.17553176293124015,
          0.023996955758590843,
          -0.21760063952842013,
          -0.00678799218276148,
          -0.12953580137359888,
          -0.0572741671399717,
          0.1859229526402638,
          0.1288946431394306,
          -0.07003353316568461,
          -0.11415720659593093,
          -0.06381287355230565,
          -0.2692650095562696,
          0.1414751502664382,
          -0.013049870273589045,
          -0.1252718214648841,
          0.7441430104423741,
          0.3429838595306146,
          -0.10066807563024051,
          0.3178420419768303,
          -0.18429107536634917,
          -0.09238316468648472,
          -0.009215452141779913,
          0.010004835760432233,
          -0.23866774500360097,
          0.1598005324072453,
          -0.15126363244259192,
          -0.25621499581372476,
          0.2869627299150585,
          0.6282686855328656,
          0.1851458000685788,
          -0.15768891679346878,
          -0.1558202409973627,
          -0.11568988710818019,
          -0.04107037459021466,
          0.16443669555647886,
          0.04804365469290346,
          -0.657687043984737,
          0.5176454405168861,
          0.1610471945597541,
          -0.0675267375057543,
          -0.052420464017426005,
          0.006035118647008716,
          -0.20165603417059486,
          -0.07736531301526248,
          0.39937335946179847,
          -0.3973472331530936,
          0.29048883713139734,
          -0.11268591226336734,
          0.0628460745953977,
          -0.23781943092947036,
          0.1562532521519778,
          -0.1458175881240631
         ],
         "z": [
          -0.12127501870381022,
          0.21406210602857434,
          0.203918560996912,
          -0.13069080074541467,
          0.1603700478567178,
          -0.00950006944417667,
          0.07283591464490768,
          -0.23276510155285354,
          -0.1561481773350122,
          0.0026942440961425923,
          0.07204579305917727,
          -0.0972821241093201,
          -0.19733432199787118,
          0.057483887055489034,
          0.036716517500157635,
          0.2913882352260458,
          0.031318260728153684,
          0.06551329359983114,
          -0.27190942197679147,
          -0.1157437114452957,
          0.02150556804476346,
          -0.0012295266014361041,
          0.10164229270222716,
          -0.11877151117807269,
          -0.05443279938094216,
          0.12056126562217562,
          0.0021850143541905804,
          -0.2603727341014637,
          -0.016307905869603814,
          0.09172863368044593,
          -0.22782954690937882,
          0.15781932645420768,
          -0.09109048899972091,
          -0.07610109205871303,
          0.07132342526626906,
          0.1793499983948671,
          -0.12513844870029328,
          0.08083780779506401,
          0.2108428903135385,
          0.11674479384332685,
          -0.192927181814839,
          0.0507194741881955,
          0.08187501915206001,
          -0.06759339446383637,
          -0.13763078634155776,
          -0.10316029438917561,
          -0.15885288682898163,
          -0.004291448825560544,
          -0.11862771886116634,
          -0.4776059419619344,
          -0.03227923918874919,
          -0.22805914279149347,
          0.370186877524897,
          -0.15783873536607246,
          -0.10901379358861926,
          -0.1180060806852153,
          -0.04490213905399109,
          0.04911813922252727,
          0.3911880480417613,
          0.028067682030707093,
          -0.0051742390369092705,
          0.32024611764581723,
          -0.029631588907377382,
          0.20535414763304305,
          0.19298541083361104,
          -0.09083691653689416,
          0.027945317011801588,
          0.11329282762972939,
          -0.06530590646668351,
          0.1504011074386368,
          0.029484891186184914,
          0.3191809971460417,
          0.18162915947845185,
          -0.18523454428177932,
          0.04096919876278804,
          0.06585403837322765,
          -0.281525260787076,
          0.18376129742581318,
          -0.17947531769260053,
          0.23612529384762707,
          0.22055458698904762,
          -0.05576210852813901,
          -0.12176261213173686,
          -0.03994574951002928,
          -0.08283925981590168,
          -0.15833993958674197,
          -0.2772048971279565,
          -0.05513266271960748,
          -0.11892526234528082,
          0.13831019075021198,
          0.4278906421877611,
          -0.19805519812441144,
          0.2203329776296387,
          -0.1397497952868293,
          -0.1878827645587501
         ]
        },
        {
         "hovertemplate": "color=Mi Fu (On Cursive Calligraphy)<br>PC 1=%{x}<br>PC 2=%{y}<br>PC 3=%{z}<br>size=%{marker.size}<extra></extra>",
         "legendgroup": "Mi Fu (On Cursive Calligraphy)",
         "marker": {
          "color": "#FFA15A",
          "size": [
           0.001,
           0.001,
           0.001,
           0.001,
           0.001,
           0.001,
           0.001,
           0.001,
           0.001,
           0.001,
           0.001,
           0.001,
           0.001,
           0.001,
           0.001,
           0.001,
           0.001,
           0.001,
           0.001,
           0.001,
           0.001,
           0.001,
           0.001,
           0.001,
           0.001,
           0.001,
           0.001,
           0.001,
           0.001,
           0.001,
           0.001,
           0.001,
           0.001,
           0.001,
           0.001,
           0.001,
           0.001,
           0.001,
           0.001,
           0.001,
           0.001,
           0.001,
           0.001,
           0.001,
           0.001,
           0.001,
           0.001,
           0.001,
           0.001,
           0.001,
           0.001,
           0.001,
           0.001,
           0.001,
           0.001,
           0.001,
           0.001,
           0.001,
           0.001,
           0.001,
           0.001,
           0.001,
           0.001
          ],
          "sizemode": "area",
          "sizeref": 2.5e-06,
          "symbol": "circle"
         },
         "mode": "markers",
         "name": "Mi Fu (On Cursive Calligraphy)",
         "scene": "scene",
         "showlegend": true,
         "type": "scatter3d",
         "x": [
          -0.274057595261152,
          -0.41993178284555144,
          -0.3279359052925999,
          -0.15702039213209873,
          -0.7764620857689501,
          -0.18241468745164657,
          -0.6155334098023257,
          -0.2654718956538808,
          -0.3077512053283621,
          -0.4036043472831797,
          -0.259613231785461,
          -0.24436016756666523,
          0.08512637160082259,
          -0.45650721485932444,
          -0.19566111053304855,
          -0.40649273321327,
          -0.3241531046369447,
          -0.24342112789604944,
          0.12754350106203133,
          -0.2953792069840787,
          -0.2600385181155684,
          0.1929708329651265,
          -0.4325699590684092,
          -0.6758909307441295,
          -0.2547076265888342,
          -0.43661222490080753,
          -0.0683931652830122,
          -0.5418236814975139,
          -0.2046008965311579,
          -0.26349218551880405,
          -0.056314164083287675,
          -0.4884738363364468,
          -0.4892604818399476,
          -0.17095851704112683,
          -0.5456932059454893,
          -0.5004140724699474,
          -0.4538995600889839,
          -0.4434461065639174,
          -0.37899262663761746,
          -0.36492862802712667,
          -0.3311670038349355,
          -0.31550725153608333,
          -0.057160136244814454,
          -0.8087847766530445,
          0.01966549616602769,
          -0.2633359243678271,
          0.010023809770925752,
          -0.10975225883781889,
          -0.04412021245275894,
          -0.3321666235005869,
          -0.40671815202129397,
          -0.18832351987799067,
          -0.3827239578398488,
          -0.3109224553451974,
          -0.15155160782348978,
          -0.588728509275219,
          -0.34144506164360466,
          -0.30982727764295825,
          0.03676949304710808,
          -0.2884463479640676,
          -0.4569797616520918,
          -0.4872751254759159,
          -0.4191722881576872
         ],
         "y": [
          0.22813394280565427,
          0.01107771482275545,
          0.10128538900048947,
          0.42074591809552236,
          0.47294031826106564,
          0.3877508994438613,
          0.07067969689119702,
          -0.165041326864668,
          -0.0633915230347648,
          -0.3396536064267313,
          0.024999839398581452,
          0.3274791862196019,
          0.12196521402596935,
          -0.20860810397574867,
          -0.02480699614180516,
          -0.4337868105923628,
          0.188340628460876,
          0.40538179642134187,
          0.3059320931981237,
          0.11097185308143916,
          -0.17562697135914748,
          0.1593611262575735,
          -0.3272882032354291,
          -0.3042361856023812,
          0.2040787103291611,
          -0.4161599414127226,
          0.0016477890948385923,
          -0.45239926787735696,
          0.047445970970922687,
          -0.3593469141862473,
          0.06876133082311305,
          0.17597947026566257,
          0.10358545968520844,
          0.024427514675893856,
          -0.32352500555362607,
          -0.315925420218282,
          0.20066631343972122,
          0.3990682769120483,
          -0.1957925984330167,
          0.4992121231663419,
          -0.06486550652983468,
          -0.18832313809323,
          0.028232607378709505,
          0.37867282862568324,
          0.2510642551383946,
          0.26785757503777535,
          0.3782662055629334,
          0.1883619618353768,
          0.43991261731173387,
          0.36932352138031654,
          0.5127919327068904,
          0.21280519045534965,
          -0.16657492625278042,
          0.2003606436599116,
          0.3523099829186431,
          0.08909533002599375,
          -0.10297010074642506,
          -0.46218651381059644,
          -0.060763784019914044,
          0.12508010711613907,
          -0.03552460340438344,
          0.5139160774100634,
          0.40300643815399706
         ],
         "z": [
          0.01200765344253133,
          -0.1704501944212226,
          -0.27775928752532797,
          0.04495885453322359,
          -0.31237292100270203,
          0.08201723837226782,
          0.21728227845656553,
          -0.1643603257684101,
          -0.15007907894753306,
          0.04964513741754567,
          0.048843986968299745,
          0.11466373651394378,
          0.03585232548643512,
          -0.23689416252490847,
          -0.23682089268227452,
          -0.05608793409176297,
          0.1718265425167095,
          -0.024779616676921867,
          0.041774512343764704,
          0.12119444499989519,
          0.04660130466344198,
          -0.04684804234384578,
          -0.08236965824076953,
          -0.033172109597268795,
          -0.173851421789634,
          0.24750262405474777,
          -0.03355243762840484,
          0.0675204246366783,
          -0.42674811141709307,
          0.029214593092110854,
          0.022237262242932113,
          -0.46393181365716235,
          -0.24190919621972284,
          -0.0006104649559873431,
          -0.05690605778322811,
          0.04878339996444021,
          -0.043168651943578294,
          0.10164375024729434,
          0.18914693456103626,
          0.21194565756639502,
          0.30639600973888154,
          0.055696603885022636,
          -0.24356509581331287,
          0.3792975939042804,
          0.06045500286061194,
          -0.36693235921935347,
          0.12293159112389948,
          0.07352124624177853,
          0.11251999015234253,
          -0.1687890928881135,
          0.049119401778118764,
          -0.44334389554512904,
          0.030743204435238074,
          0.022743782781743986,
          -0.1453615877654585,
          0.0021375597482992765,
          -0.01068180433156513,
          -0.16621707342288855,
          -0.11912235651277485,
          -0.17332826579013982,
          -0.004190377733667608,
          0.03903901221921531,
          0.07819510597212084
         ]
        }
       ],
       "layout": {
        "legend": {
         "itemsizing": "constant",
         "title": {
          "text": "color"
         },
         "tracegroupgap": 0
        },
        "scene": {
         "domain": {
          "x": [
           0,
           1
          ],
          "y": [
           0,
           1
          ]
         },
         "xaxis": {
          "title": {
           "text": "PC 1"
          }
         },
         "yaxis": {
          "title": {
           "text": "PC 2"
          }
         },
         "zaxis": {
          "title": {
           "text": "PC 3"
          }
         }
        },
        "template": {
         "data": {
          "bar": [
           {
            "error_x": {
             "color": "#2a3f5f"
            },
            "error_y": {
             "color": "#2a3f5f"
            },
            "marker": {
             "line": {
              "color": "#E5ECF6",
              "width": 0.5
             }
            },
            "type": "bar"
           }
          ],
          "barpolar": [
           {
            "marker": {
             "line": {
              "color": "#E5ECF6",
              "width": 0.5
             }
            },
            "type": "barpolar"
           }
          ],
          "carpet": [
           {
            "aaxis": {
             "endlinecolor": "#2a3f5f",
             "gridcolor": "white",
             "linecolor": "white",
             "minorgridcolor": "white",
             "startlinecolor": "#2a3f5f"
            },
            "baxis": {
             "endlinecolor": "#2a3f5f",
             "gridcolor": "white",
             "linecolor": "white",
             "minorgridcolor": "white",
             "startlinecolor": "#2a3f5f"
            },
            "type": "carpet"
           }
          ],
          "choropleth": [
           {
            "colorbar": {
             "outlinewidth": 0,
             "ticks": ""
            },
            "type": "choropleth"
           }
          ],
          "contour": [
           {
            "colorbar": {
             "outlinewidth": 0,
             "ticks": ""
            },
            "colorscale": [
             [
              0,
              "#0d0887"
             ],
             [
              0.1111111111111111,
              "#46039f"
             ],
             [
              0.2222222222222222,
              "#7201a8"
             ],
             [
              0.3333333333333333,
              "#9c179e"
             ],
             [
              0.4444444444444444,
              "#bd3786"
             ],
             [
              0.5555555555555556,
              "#d8576b"
             ],
             [
              0.6666666666666666,
              "#ed7953"
             ],
             [
              0.7777777777777778,
              "#fb9f3a"
             ],
             [
              0.8888888888888888,
              "#fdca26"
             ],
             [
              1,
              "#f0f921"
             ]
            ],
            "type": "contour"
           }
          ],
          "contourcarpet": [
           {
            "colorbar": {
             "outlinewidth": 0,
             "ticks": ""
            },
            "type": "contourcarpet"
           }
          ],
          "heatmap": [
           {
            "colorbar": {
             "outlinewidth": 0,
             "ticks": ""
            },
            "colorscale": [
             [
              0,
              "#0d0887"
             ],
             [
              0.1111111111111111,
              "#46039f"
             ],
             [
              0.2222222222222222,
              "#7201a8"
             ],
             [
              0.3333333333333333,
              "#9c179e"
             ],
             [
              0.4444444444444444,
              "#bd3786"
             ],
             [
              0.5555555555555556,
              "#d8576b"
             ],
             [
              0.6666666666666666,
              "#ed7953"
             ],
             [
              0.7777777777777778,
              "#fb9f3a"
             ],
             [
              0.8888888888888888,
              "#fdca26"
             ],
             [
              1,
              "#f0f921"
             ]
            ],
            "type": "heatmap"
           }
          ],
          "heatmapgl": [
           {
            "colorbar": {
             "outlinewidth": 0,
             "ticks": ""
            },
            "colorscale": [
             [
              0,
              "#0d0887"
             ],
             [
              0.1111111111111111,
              "#46039f"
             ],
             [
              0.2222222222222222,
              "#7201a8"
             ],
             [
              0.3333333333333333,
              "#9c179e"
             ],
             [
              0.4444444444444444,
              "#bd3786"
             ],
             [
              0.5555555555555556,
              "#d8576b"
             ],
             [
              0.6666666666666666,
              "#ed7953"
             ],
             [
              0.7777777777777778,
              "#fb9f3a"
             ],
             [
              0.8888888888888888,
              "#fdca26"
             ],
             [
              1,
              "#f0f921"
             ]
            ],
            "type": "heatmapgl"
           }
          ],
          "histogram": [
           {
            "marker": {
             "colorbar": {
              "outlinewidth": 0,
              "ticks": ""
             }
            },
            "type": "histogram"
           }
          ],
          "histogram2d": [
           {
            "colorbar": {
             "outlinewidth": 0,
             "ticks": ""
            },
            "colorscale": [
             [
              0,
              "#0d0887"
             ],
             [
              0.1111111111111111,
              "#46039f"
             ],
             [
              0.2222222222222222,
              "#7201a8"
             ],
             [
              0.3333333333333333,
              "#9c179e"
             ],
             [
              0.4444444444444444,
              "#bd3786"
             ],
             [
              0.5555555555555556,
              "#d8576b"
             ],
             [
              0.6666666666666666,
              "#ed7953"
             ],
             [
              0.7777777777777778,
              "#fb9f3a"
             ],
             [
              0.8888888888888888,
              "#fdca26"
             ],
             [
              1,
              "#f0f921"
             ]
            ],
            "type": "histogram2d"
           }
          ],
          "histogram2dcontour": [
           {
            "colorbar": {
             "outlinewidth": 0,
             "ticks": ""
            },
            "colorscale": [
             [
              0,
              "#0d0887"
             ],
             [
              0.1111111111111111,
              "#46039f"
             ],
             [
              0.2222222222222222,
              "#7201a8"
             ],
             [
              0.3333333333333333,
              "#9c179e"
             ],
             [
              0.4444444444444444,
              "#bd3786"
             ],
             [
              0.5555555555555556,
              "#d8576b"
             ],
             [
              0.6666666666666666,
              "#ed7953"
             ],
             [
              0.7777777777777778,
              "#fb9f3a"
             ],
             [
              0.8888888888888888,
              "#fdca26"
             ],
             [
              1,
              "#f0f921"
             ]
            ],
            "type": "histogram2dcontour"
           }
          ],
          "mesh3d": [
           {
            "colorbar": {
             "outlinewidth": 0,
             "ticks": ""
            },
            "type": "mesh3d"
           }
          ],
          "parcoords": [
           {
            "line": {
             "colorbar": {
              "outlinewidth": 0,
              "ticks": ""
             }
            },
            "type": "parcoords"
           }
          ],
          "pie": [
           {
            "automargin": true,
            "type": "pie"
           }
          ],
          "scatter": [
           {
            "marker": {
             "colorbar": {
              "outlinewidth": 0,
              "ticks": ""
             }
            },
            "type": "scatter"
           }
          ],
          "scatter3d": [
           {
            "line": {
             "colorbar": {
              "outlinewidth": 0,
              "ticks": ""
             }
            },
            "marker": {
             "colorbar": {
              "outlinewidth": 0,
              "ticks": ""
             }
            },
            "type": "scatter3d"
           }
          ],
          "scattercarpet": [
           {
            "marker": {
             "colorbar": {
              "outlinewidth": 0,
              "ticks": ""
             }
            },
            "type": "scattercarpet"
           }
          ],
          "scattergeo": [
           {
            "marker": {
             "colorbar": {
              "outlinewidth": 0,
              "ticks": ""
             }
            },
            "type": "scattergeo"
           }
          ],
          "scattergl": [
           {
            "marker": {
             "colorbar": {
              "outlinewidth": 0,
              "ticks": ""
             }
            },
            "type": "scattergl"
           }
          ],
          "scattermapbox": [
           {
            "marker": {
             "colorbar": {
              "outlinewidth": 0,
              "ticks": ""
             }
            },
            "type": "scattermapbox"
           }
          ],
          "scatterpolar": [
           {
            "marker": {
             "colorbar": {
              "outlinewidth": 0,
              "ticks": ""
             }
            },
            "type": "scatterpolar"
           }
          ],
          "scatterpolargl": [
           {
            "marker": {
             "colorbar": {
              "outlinewidth": 0,
              "ticks": ""
             }
            },
            "type": "scatterpolargl"
           }
          ],
          "scatterternary": [
           {
            "marker": {
             "colorbar": {
              "outlinewidth": 0,
              "ticks": ""
             }
            },
            "type": "scatterternary"
           }
          ],
          "surface": [
           {
            "colorbar": {
             "outlinewidth": 0,
             "ticks": ""
            },
            "colorscale": [
             [
              0,
              "#0d0887"
             ],
             [
              0.1111111111111111,
              "#46039f"
             ],
             [
              0.2222222222222222,
              "#7201a8"
             ],
             [
              0.3333333333333333,
              "#9c179e"
             ],
             [
              0.4444444444444444,
              "#bd3786"
             ],
             [
              0.5555555555555556,
              "#d8576b"
             ],
             [
              0.6666666666666666,
              "#ed7953"
             ],
             [
              0.7777777777777778,
              "#fb9f3a"
             ],
             [
              0.8888888888888888,
              "#fdca26"
             ],
             [
              1,
              "#f0f921"
             ]
            ],
            "type": "surface"
           }
          ],
          "table": [
           {
            "cells": {
             "fill": {
              "color": "#EBF0F8"
             },
             "line": {
              "color": "white"
             }
            },
            "header": {
             "fill": {
              "color": "#C8D4E3"
             },
             "line": {
              "color": "white"
             }
            },
            "type": "table"
           }
          ]
         },
         "layout": {
          "annotationdefaults": {
           "arrowcolor": "#2a3f5f",
           "arrowhead": 0,
           "arrowwidth": 1
          },
          "autotypenumbers": "strict",
          "coloraxis": {
           "colorbar": {
            "outlinewidth": 0,
            "ticks": ""
           }
          },
          "colorscale": {
           "diverging": [
            [
             0,
             "#8e0152"
            ],
            [
             0.1,
             "#c51b7d"
            ],
            [
             0.2,
             "#de77ae"
            ],
            [
             0.3,
             "#f1b6da"
            ],
            [
             0.4,
             "#fde0ef"
            ],
            [
             0.5,
             "#f7f7f7"
            ],
            [
             0.6,
             "#e6f5d0"
            ],
            [
             0.7,
             "#b8e186"
            ],
            [
             0.8,
             "#7fbc41"
            ],
            [
             0.9,
             "#4d9221"
            ],
            [
             1,
             "#276419"
            ]
           ],
           "sequential": [
            [
             0,
             "#0d0887"
            ],
            [
             0.1111111111111111,
             "#46039f"
            ],
            [
             0.2222222222222222,
             "#7201a8"
            ],
            [
             0.3333333333333333,
             "#9c179e"
            ],
            [
             0.4444444444444444,
             "#bd3786"
            ],
            [
             0.5555555555555556,
             "#d8576b"
            ],
            [
             0.6666666666666666,
             "#ed7953"
            ],
            [
             0.7777777777777778,
             "#fb9f3a"
            ],
            [
             0.8888888888888888,
             "#fdca26"
            ],
            [
             1,
             "#f0f921"
            ]
           ],
           "sequentialminus": [
            [
             0,
             "#0d0887"
            ],
            [
             0.1111111111111111,
             "#46039f"
            ],
            [
             0.2222222222222222,
             "#7201a8"
            ],
            [
             0.3333333333333333,
             "#9c179e"
            ],
            [
             0.4444444444444444,
             "#bd3786"
            ],
            [
             0.5555555555555556,
             "#d8576b"
            ],
            [
             0.6666666666666666,
             "#ed7953"
            ],
            [
             0.7777777777777778,
             "#fb9f3a"
            ],
            [
             0.8888888888888888,
             "#fdca26"
            ],
            [
             1,
             "#f0f921"
            ]
           ]
          },
          "colorway": [
           "#636efa",
           "#EF553B",
           "#00cc96",
           "#ab63fa",
           "#FFA15A",
           "#19d3f3",
           "#FF6692",
           "#B6E880",
           "#FF97FF",
           "#FECB52"
          ],
          "font": {
           "color": "#2a3f5f"
          },
          "geo": {
           "bgcolor": "white",
           "lakecolor": "white",
           "landcolor": "#E5ECF6",
           "showlakes": true,
           "showland": true,
           "subunitcolor": "white"
          },
          "hoverlabel": {
           "align": "left"
          },
          "hovermode": "closest",
          "mapbox": {
           "style": "light"
          },
          "paper_bgcolor": "white",
          "plot_bgcolor": "#E5ECF6",
          "polar": {
           "angularaxis": {
            "gridcolor": "white",
            "linecolor": "white",
            "ticks": ""
           },
           "bgcolor": "#E5ECF6",
           "radialaxis": {
            "gridcolor": "white",
            "linecolor": "white",
            "ticks": ""
           }
          },
          "scene": {
           "xaxis": {
            "backgroundcolor": "#E5ECF6",
            "gridcolor": "white",
            "gridwidth": 2,
            "linecolor": "white",
            "showbackground": true,
            "ticks": "",
            "zerolinecolor": "white"
           },
           "yaxis": {
            "backgroundcolor": "#E5ECF6",
            "gridcolor": "white",
            "gridwidth": 2,
            "linecolor": "white",
            "showbackground": true,
            "ticks": "",
            "zerolinecolor": "white"
           },
           "zaxis": {
            "backgroundcolor": "#E5ECF6",
            "gridcolor": "white",
            "gridwidth": 2,
            "linecolor": "white",
            "showbackground": true,
            "ticks": "",
            "zerolinecolor": "white"
           }
          },
          "shapedefaults": {
           "line": {
            "color": "#2a3f5f"
           }
          },
          "ternary": {
           "aaxis": {
            "gridcolor": "white",
            "linecolor": "white",
            "ticks": ""
           },
           "baxis": {
            "gridcolor": "white",
            "linecolor": "white",
            "ticks": ""
           },
           "bgcolor": "#E5ECF6",
           "caxis": {
            "gridcolor": "white",
            "linecolor": "white",
            "ticks": ""
           }
          },
          "title": {
           "x": 0.05
          },
          "xaxis": {
           "automargin": true,
           "gridcolor": "white",
           "linecolor": "white",
           "ticks": "",
           "title": {
            "standoff": 15
           },
           "zerolinecolor": "white",
           "zerolinewidth": 2
          },
          "yaxis": {
           "automargin": true,
           "gridcolor": "white",
           "linecolor": "white",
           "ticks": "",
           "title": {
            "standoff": 15
           },
           "zerolinecolor": "white",
           "zerolinewidth": 2
          }
         }
        },
        "title": {
         "text": "Total Explained Variance: 66.81%"
        }
       }
      },
      "text/html": [
       "<div>                            <div id=\"ae11e664-cacd-4e9e-bf38-12a982e1dec0\" class=\"plotly-graph-div\" style=\"height:525px; width:100%;\"></div>            <script type=\"text/javascript\">                require([\"plotly\"], function(Plotly) {                    window.PLOTLYENV=window.PLOTLYENV || {};                                    if (document.getElementById(\"ae11e664-cacd-4e9e-bf38-12a982e1dec0\")) {                    Plotly.newPlot(                        \"ae11e664-cacd-4e9e-bf38-12a982e1dec0\",                        [{\"hovertemplate\": \"color=Mi Fu (Wu River)<br>PC 1=%{x}<br>PC 2=%{y}<br>PC 3=%{z}<br>size=%{marker.size}<extra></extra>\", \"legendgroup\": \"Mi Fu (Wu River)\", \"marker\": {\"color\": \"#636efa\", \"size\": [0.001, 0.001, 0.001, 0.001, 0.001, 0.001, 0.001, 0.001, 0.001, 0.001, 0.001, 0.001, 0.001, 0.001, 0.001, 0.001, 0.001, 0.001, 0.001, 0.001, 0.001, 0.001, 0.001, 0.001, 0.001, 0.001, 0.001, 0.001, 0.001, 0.001, 0.001, 0.001, 0.001, 0.001, 0.001, 0.001, 0.001, 0.001, 0.001, 0.001, 0.001, 0.001, 0.001, 0.001, 0.001, 0.001, 0.001, 0.001, 0.001, 0.001, 0.001, 0.001, 0.001, 0.001, 0.001, 0.001, 0.001, 0.001, 0.001, 0.001, 0.001, 0.001, 0.001, 0.001, 0.001, 0.001, 0.001, 0.001, 0.001, 0.001, 0.001, 0.001, 0.001, 0.001, 0.001, 0.001, 0.001, 0.001, 0.001, 0.001, 0.001, 0.001, 0.001, 0.001, 0.001, 0.001, 0.001, 0.001, 0.001, 0.001, 0.001], \"sizemode\": \"area\", \"sizeref\": 2.5e-06, \"symbol\": \"circle\"}, \"mode\": \"markers\", \"name\": \"Mi Fu (Wu River)\", \"scene\": \"scene\", \"showlegend\": true, \"type\": \"scatter3d\", \"x\": [0.29875458610804306, 0.1300840218285004, 0.21699307954450983, 0.3512214485833409, 0.23497299501000468, 0.3791862095571969, 0.34655665459046797, 0.4160293099878011, 0.3242027961534292, 0.44465908720222136, 0.27369595412793973, 0.10721654949261424, 0.17618377234738464, 0.37976311985431094, 0.33316192528489846, 0.48631249947247635, 0.26906923704346375, 0.4038887415282058, 0.2496957755857725, 0.23676771208157582, 0.21809722749588853, 0.25442527230680856, 0.17299295916574317, 0.3220843426963003, 0.42422957174004683, 0.2752061568884973, 0.413932195445051, 0.43904396991004596, 0.20493367308192692, 0.0648571273279768, -0.09982576477093083, -0.06116181159211534, 0.08897969850149981, 0.21058973853782362, -0.15020294978960377, -0.08491830146248253, -0.24636140224555578, 0.22745949705199373, -0.38923404269702516, -0.27696660856885225, 0.21494639648326955, 0.3725225888179465, 0.26878560385840294, -0.10692424192430057, -0.38469022043457385, 0.015842131265940616, 0.19181667225689283, -0.1828811018696208, -0.4976122778002157, 0.03185119824220486, -0.08117530180164284, -0.14849659211468536, -0.051348599053325256, -0.06782309596700932, 0.09139201446001582, 0.32225429625663277, -0.6384981279154, -0.5018241754637067, -0.4328889682490034, -0.16425800649487543, 0.06953610792028722, -0.09361979553638684, -0.186329178581959, 0.1082352015838469, -0.12118729544690587, -0.31993483379707616, -0.34096144209510526, 0.014607553831670726, 0.2621408045186881, -0.20221906973246107, -0.7360994639818048, -0.019347855984917246, -0.2205591498713019, -0.18111238920330366, 0.20366759411457616, -0.07126308805185956, -0.4197301765148915, -0.20840107192978977, 0.0035915738696953646, -0.15506803837230512, -0.35270814862903627, -0.36593955061264205, -0.39326416271215703, -0.07833318803529575, -0.028756995047642536, -0.10702869846111532, 0.021626977010901827, -0.2861881280882459, -0.5111082549567197, -0.1971373679608901, -0.2815023222702204], \"y\": [-0.08733631962981765, -0.26001737133028247, 0.07914401338337695, -0.13600361544037318, -0.06295727199398704, -0.1468285324515338, -0.08491887562935022, -0.057098081052291604, -0.24245971031430377, -0.35096083528948924, -0.12503184996172292, -0.20826028784798972, -0.23201822832615587, -0.14301573888593117, 0.12630656712373264, -0.2869459966440296, 0.20378430433856093, -0.3207934933896367, -0.1247298706693199, -0.25124977528957004, -0.18035587789743016, -0.1336676808263568, -0.056270483790672676, -0.2340637099284161, -0.08978709405159062, -0.10301953854560272, -0.22376385391538284, 0.026607955167239003, -0.30282634582104273, -0.1432363576371848, -0.12935387916673713, -0.1668082511079431, -0.11218150203835055, -0.29933531525225127, -0.07754695744570739, -0.09245837686558328, 0.1372198978296632, 0.037521563754512766, 0.026407725496853166, 0.10839134833646866, -0.16212521448173486, -0.13967018312458163, -0.19001715638275476, -0.5358719981698683, 0.28966642403412984, 0.01697105825021513, 0.20095002802424963, -0.2977916883422397, -0.2533653633328789, -0.12438196857232024, -0.0038526219259326405, -0.5703615868345215, -0.2463741223413638, 0.06488487246694542, -0.0994863819029925, 0.10379987556619623, -0.5671061470887963, -0.31172234000124616, 0.14183491484861643, 0.2251783464360012, -0.32928333720200026, -0.023323950247390455, 0.25379185376005536, 0.22051217309360494, -0.08211566116628954, -0.21623492012197806, -0.4411508397169439, -0.22775972201668748, 0.06277639576948812, -0.33117539029461474, 1.026837924434446, -0.3203146213839649, 0.10345503519078941, -0.19263286592697212, 0.04740033820906241, -0.04929059802397362, -0.19082197409740817, -0.14388060662020835, -0.030627191276520145, 0.08907042892984156, 0.022219593392439837, -0.40390675229502815, -0.36900243513202513, -0.11771040918359596, -0.0011471748930440698, -0.2993365588487791, 0.20717648220107457, -0.7848820082584367, -0.5164318829014549, -0.20132485368790864, 0.2808266772074693], \"z\": [0.07940798564835166, 0.11976787271782216, -0.08646064892109022, -0.09185419107118746, 0.08651562295365679, -0.0036858950391702376, -0.17470422361795332, -0.03279041970273631, 0.011384282321858667, 0.09897340240917868, -6.983298858776764e-05, -0.010009107450196474, -0.036186247046441, 0.1432609430583963, -0.18703759133378256, -0.08298702309527582, -0.08922047416598977, -0.014795364411170527, 0.050853295967757825, -0.1156123160564312, -0.029167226226835437, -0.0640986617715302, -0.07885586016532069, 0.06574072729379424, -0.11406338627774795, 0.04647626398551138, -0.09322232513825415, 0.04594967193346774, 0.06282901771561317, 0.08673548634704781, -0.016957220294714914, 0.044420118968689776, -0.07783690273470174, 0.25159585896911524, -0.41447784723422315, -0.10363360294308233, 0.06453628813140075, 0.07254275635500458, 0.20383245867134647, -0.12325756899345695, 0.16833357490737888, -0.12240647754825033, -0.08137166595242386, 0.13050268359013398, 0.3282442929265009, -0.0005489340169740003, 0.1839518530319073, -0.14186357976817401, -0.24374122927590425, -0.101383789623354, 0.05771901155724713, 0.1899280348559148, 0.006130955658677377, -0.4457979878327894, 0.06075198961274735, 0.1450614686133191, -0.007875961368352204, -0.24435989568602554, -0.08144010849377792, 0.004010078256990734, 0.13564237159599196, 0.044804785601958816, -0.18090263201091314, -0.08049680284258014, 0.19270756464169878, -0.21221415397907334, 0.056449522302885025, -0.17031083459715596, -0.16558796078516652, -0.03319716369634691, 0.727110183507129, 0.16441366405128022, -0.01592220863350934, -0.0029830535744301326, 0.02705416709075857, -0.28559769499035625, 0.024314465347434536, 0.11635934922405526, 0.12218641275823035, 0.10147620084981811, 0.04595509283359156, 0.09657949996871079, 0.07656441345016754, -0.3276298285439259, -0.4057337709956121, -0.06577633335906209, -0.1640774177729656, 0.23474831001007035, -0.014273500498186712, -0.11450724273187039, -0.03679382148386229]}, {\"hovertemplate\": \"color=Huizong<br>PC 1=%{x}<br>PC 2=%{y}<br>PC 3=%{z}<br>size=%{marker.size}<extra></extra>\", \"legendgroup\": \"Huizong\", \"marker\": {\"color\": \"#EF553B\", \"size\": [0.001, 0.001, 0.001, 0.001, 0.001, 0.001, 0.001, 0.001, 0.001, 0.001, 0.001, 0.001, 0.001, 0.001, 0.001, 0.001, 0.001, 0.001, 0.001, 0.001, 0.001, 0.001, 0.001, 0.001, 0.001, 0.001, 0.001, 0.001, 0.001, 0.001, 0.001, 0.001, 0.001, 0.001, 0.001, 0.001, 0.001, 0.001, 0.001, 0.001, 0.001, 0.001, 0.001, 0.001, 0.001, 0.001, 0.001, 0.001, 0.001, 0.001, 0.001, 0.001, 0.001, 0.001, 0.001, 0.001, 0.001, 0.001, 0.001, 0.001, 0.001, 0.001, 0.001], \"sizemode\": \"area\", \"sizeref\": 2.5e-06, \"symbol\": \"circle\"}, \"mode\": \"markers\", \"name\": \"Huizong\", \"scene\": \"scene\", \"showlegend\": true, \"type\": \"scatter3d\", \"x\": [0.11552312026812062, 0.28067906976812845, 0.2274043335301201, 0.011519597645208225, 0.13880959958402125, 0.2717997409393243, 0.3085551439942287, 0.3552660983986209, 0.14627816956736917, 0.26266441614309793, 0.4045812130348537, 0.189650110450536, 0.43606540089012147, 0.4556746250964642, 0.38035852263590003, 0.06238948677721561, 0.07023792624343284, 0.4302898586861597, 0.5644689766597146, 0.4000469753743651, 0.5006984118929908, 0.6269976268082706, 0.4134110812605418, 0.3493007511483717, 0.5828511679139607, 0.3976280710720324, 0.3153189852424481, 0.2999368418455039, 0.274394933074893, 0.2540002958187938, -0.006099316610229945, 0.27566065224936653, 0.3931878029452889, 0.4574115707142405, 0.46194814507375903, 0.08384935096903232, 0.16720180306416582, 0.4543438048698174, 0.35898242717504264, 0.18495955001519748, 0.08153916030199128, 0.17908663448064352, 0.254992658633306, -0.15276043023932884, -0.016516851470993264, 0.08087851748977137, 0.5177045322037632, 0.5156216043433655, 0.5721916310817098, 0.22447698650810927, 0.15439616176907558, 0.3082233601158557, 0.4532687119655295, 0.26640822058293845, 0.1907583852269555, 0.14684193634960194, 0.09825917364401174, 0.05164567464689022, 0.09424223938853077, 0.4396987628237872, 0.22409289194325158, 0.31256989299402993, 0.15646778490178345], \"y\": [0.012350357338688967, 0.2595643671864556, 0.012429709396375707, -0.37119953462621225, 0.3406762090048127, -0.09720962932049125, -0.07267731280826414, -0.38962539043716193, -0.14394866435630288, 0.0960241558914595, 0.04685799429675888, 0.058074554737494316, -0.1797741487784885, -0.15986879803248674, 0.0113031440775885, -0.13156208027324237, 0.614507954517621, -0.18108943038714448, 0.2719264294504385, 0.03002739039150053, -0.1661023022761454, 0.13851344439508834, -0.06747384638872267, -0.073142790763236, 0.1466593186140815, 0.21321365003379847, 0.10993327005311454, 0.05665691629051313, -0.09872820385782707, -0.10658580632412157, 0.29619687643745257, -0.11713740740398526, -0.13681479393721874, -0.24392251048722763, 0.004721730511958036, -0.12980445200861804, 0.21697418444952413, 0.059472135730717225, -0.21590953313375316, -0.22132212049529726, 0.36192743569877955, -0.1001984626427826, 0.035852530326090065, -0.23214163201067456, 0.19757849527916982, 0.1581695366505961, 0.12804198395074132, 0.12945131752307273, 0.0004891414348776556, 0.0010274602696097464, 0.06469266904499275, -0.05141671314728618, 0.13404568103845405, -0.39984201420325427, 0.039315457241297834, 0.13998788879146737, 0.16275512650992116, 0.34307970660890635, -0.10028095383566728, 0.009901104498454286, -0.31930585022513047, -0.13464043444036955, 0.06151197202863846], \"z\": [0.14464536738921635, 0.039009445719944205, 0.08182553188120738, 0.11722871517197181, 0.11425629650803888, 0.003261496992626624, 0.23722817709209384, 0.03141910855836809, 0.06943608765964514, 0.15966471659499556, 0.044786715377807144, -0.07921165563557711, -0.002629185805644633, -0.0939442410210807, -0.005531969440647895, 0.1336902248941657, 0.24185083177068148, -0.13141055088749715, 0.007601461901055807, 0.02864959394123262, 0.178210398895687, -0.01665680472158932, 0.15135666773312437, -0.04043486647073823, -0.11221505179432888, 0.13610067004823073, 0.08776383228262766, -0.017552940096775282, -0.00702740937645042, 0.07566064020283121, -0.20683082224483484, -0.10311797408631018, 0.1465505609914878, -0.19638681524358428, 0.07877506555629465, 0.1137199032597231, -0.005338724422073808, -0.23701959673884734, 0.16454106122681914, 0.11405437720255819, 0.12029213325324734, -0.12924914858912306, -0.1553727657275646, 0.17987579813536783, -0.06681242169256452, 0.27048063396349464, -0.12419804843699761, -0.0888049847737135, 0.2860211623846179, 0.12210812659186908, -0.025486953263318082, 0.028706579292740307, 0.05587139937632332, 0.1815235216539159, -0.0704479305835992, -0.05282054570523386, 0.09248471794179175, -0.2652325111962241, 0.16527175120399884, -0.1172249901517637, -0.029054653687734244, 0.17825539240708013, 0.1540538630751631]}, {\"hovertemplate\": \"color=Su Shi<br>PC 1=%{x}<br>PC 2=%{y}<br>PC 3=%{z}<br>size=%{marker.size}<extra></extra>\", \"legendgroup\": \"Su Shi\", \"marker\": {\"color\": \"#00cc96\", \"size\": [0.001, 0.001, 0.001, 0.001, 0.001, 0.001, 0.001, 0.001, 0.001, 0.001, 0.001, 0.001, 0.001, 0.001, 0.001, 0.001, 0.001, 0.001, 0.001, 0.001, 0.001, 0.001, 0.001, 0.001, 0.001, 0.001, 0.001, 0.001, 0.001, 0.001, 0.001, 0.001, 0.001, 0.001, 0.001, 0.001, 0.001, 0.001, 0.001, 0.001, 0.001, 0.001, 0.001, 0.001, 0.001, 0.001, 0.001, 0.001, 0.001, 0.001, 0.001, 0.001, 0.001, 0.001, 0.001, 0.001, 0.001, 0.001, 0.001, 0.001, 0.001, 0.001, 0.001, 0.001, 0.001, 0.001, 0.001, 0.001, 0.001, 0.001, 0.001, 0.001, 0.001, 0.001, 0.001, 0.001, 0.001, 0.001, 0.001, 0.001, 0.001, 0.001, 0.001, 0.001, 0.001, 0.001, 0.001, 0.001, 0.001, 0.001, 0.001, 0.001, 0.001, 0.001, 0.001, 0.001, 0.001, 0.001, 0.001, 0.001, 0.001, 0.001, 0.001, 0.001, 0.001, 0.001, 0.001, 0.001, 0.001, 0.001, 0.001, 0.001, 0.001, 0.001, 0.001, 0.001, 0.001, 0.001, 0.001], \"sizemode\": \"area\", \"sizeref\": 2.5e-06, \"symbol\": \"circle\"}, \"mode\": \"markers\", \"name\": \"Su Shi\", \"scene\": \"scene\", \"showlegend\": true, \"type\": \"scatter3d\", \"x\": [-0.30412136922768734, -0.20416803060556185, -0.0526594949149241, -0.15680205149650583, -0.5383496804930654, -0.1009511852001022, -0.22715378062221983, -0.06844176169012034, -0.2967976438826595, -0.036817765895753723, 0.039195939838618105, 0.013423608012239392, 0.2740859878716529, -0.023616471694709488, -0.04897580299002884, 0.04652539251289779, -0.29296973215969346, 0.05574860042628312, -0.26504514493327996, 0.04057002799952382, -0.18359419366833088, -0.12536184337411815, -0.5115289452378399, 0.06589297202987113, 0.09256653801464931, -0.45606455712835625, -0.4590235091636063, -0.18958360459733326, 0.22017409198391494, -0.04679733087048807, -0.16690961439032223, 0.05106999995400023, -0.09393333737629234, -0.38885632319594265, 0.04740534516625414, -0.32355577971412736, -0.5100399158996713, -0.3374798017904083, -0.17109327450451012, -0.11745514280338337, -0.23172866343535695, -0.05783727351765857, -0.20100124436286432, -0.4612342320160927, -0.507581336626401, -0.21159229217140568, -0.4161829995808652, -0.053075335245294904, -0.026490916339865847, 0.28174975851772743, 0.4889491542042432, -0.2770690882435056, -0.16632423504400157, -0.06491665076424682, -0.31264112562948304, 0.0754616514923692, 0.0190624660633321, -0.27791347516378967, -0.38119683300551244, -0.3110150252046435, -0.23438588492374895, -0.24345640257714143, -0.4255188469778966, -0.21652793182979738, -0.09941101325857638, -0.25343775166101074, -0.4083349244563736, -0.20420201810452557, -0.33298655854780584, -0.14998410412243912, -0.15985196812749256, -0.28716654666507613, -0.03894087286168859, -0.1776427417300934, -0.07610832232831291, 0.1545562197219933, 0.08748116098423908, 0.18960599373682951, -0.11818035014473613, -0.14262993221970374, 0.08951075891577144, -0.020142173211161365, 0.17866731799893731, 0.027831166560137264, 0.08881839778925865, -0.16374211699346078, 0.11099885380761751, 0.0713532405316872, -0.08440720480728021, -0.46171343917297963, -0.09302117762761544, -0.1258759034501695, -0.23363368381839447, 0.15030604321808821, -0.09679802721005748, 0.0035977816884063584, -0.28634064925220587, -0.05104559011452607, -0.04383918448016223, 0.02464794054862246, 0.1744675033136193, -0.35319687311293163, 0.1147196447267803, 0.1464045021098226, -0.10490636933062553, -0.28234191083696986, -0.05712205075096295, -0.1546553721099367, -0.1654426649962798, -0.08842987031741655, -0.11194095825452505, -0.11139335611950599, 0.0389260011155017, 0.07518356063543628, -0.25816905198807377, 0.13579599856195898, 0.09744735015963217, 0.44915355330366225, -0.14396898101525696], \"y\": [-0.42228783478261583, 0.06425471748222984, 0.16256658905707544, 0.19433709635168323, -0.6128878321552492, 0.009397987632192299, 0.004888475591734371, 0.5953025567519877, 0.6117381917785626, 0.29447259655982416, -0.015019527769157664, -0.2813142338482021, 0.11203271943232056, 0.1803442560648852, 0.10710858419224327, 0.22643190827953946, 0.3003481209203578, -0.34086578803749934, 0.309450264892421, 0.2377468202027838, -0.03762184309989776, 0.12002198069849453, -0.6606382640679236, 0.2059276927125675, 0.15510959756275247, -0.3003772813679611, -0.40076265827425167, -0.2935837682618558, 0.0878973474845861, 0.10203770008390647, -0.11904437693945574, -0.05186598865359685, 0.24101170997509364, 0.41983914973463293, 0.1907185088223451, -0.4310897055794337, -0.7845307390601017, -0.42491095077039015, -0.004445153969395019, 0.1988960680915113, 0.20289316233607918, 0.059192871149198946, 0.23242852202222417, -0.2759456158390529, -0.15521279097041454, -0.08325849856709416, -0.03103021842164709, 0.28858951910155284, -0.25637591796123366, -0.12256350701485624, -0.002810077194008246, -0.2539977884434124, 0.36304972289448634, -0.26832087435777907, -0.09356311398855179, 0.14454524815102937, 0.0827412878288829, 0.16469191940862124, 0.41431666342525925, -0.0636497440310332, -0.1792879697275067, 0.14398241716787483, 0.27525796139662095, 0.3445397163267407, -0.11427317102638689, 0.0032923712820926293, 0.2691836065063174, 0.13575343075134744, -0.05830894640719837, -0.11435473775276123, -0.02844647884529345, -0.041980961132424235, 0.31622583642237606, 0.3429392166639003, 0.26008038764777636, 0.1466729123955194, 0.3925209261342651, 0.20719308492584612, 0.04691398730970429, 0.08742374067493756, -0.03701462796089201, -0.11886246284465761, -0.23727010906193402, -0.1591797565164941, 0.1826120147547687, 0.14933438181960226, 0.31209093094999985, -0.23061107860619562, 0.06642602848214359, -0.33518548166237655, 0.21919156752811414, -0.16754533258014806, -0.6216511136970729, 0.22137783018255874, -0.45490694319707, 0.004051892746417052, 0.30403559159479504, 0.35049480473698996, 0.14630985390556897, 0.26548680041068495, -0.019201468202568517, 0.5362062301674023, 0.13395977397827236, 0.16098661730013444, 0.11888048244297723, 0.012613938739408765, -0.011585663526174446, 0.044940949559899024, 0.11148497289664532, 0.1378719998872135, 0.24402186713402582, 0.25014139850864475, 0.14637269982635429, 0.09835799405269216, -0.5174333175145517, 0.15022526193049188, -0.1419696686318707, 0.5656423095484295, 0.01977324157693499], \"z\": [0.20054691411630285, -0.09841204963980058, -0.039110296940453315, -0.21853430738714835, 0.10985034424093751, -0.1271769973010222, 0.19555648794827601, 0.28234553916001215, 0.327752587544483, 0.14322785012102168, -0.3384819507930433, -0.03695451659910127, 0.02024464259785967, 0.12866284328092578, -0.04971529858055285, 0.1073441736143972, -0.1382396578653777, 0.08216476532600472, 0.13788265823854756, 0.012306664822108175, 0.19296076459351177, 0.13280527913066836, 0.17929074392450792, 0.07679878017383943, -0.023675356262150338, -0.02919404217283365, 0.2592600419060725, 0.03013053019718726, 0.10149372488410999, -0.2487586380984442, -0.0651398975057433, -0.08650979610437638, 0.0994191446674929, 0.26557237736226463, 0.05021145985352994, 0.04759605102895046, 0.3589122591026663, 0.06082102767760977, -0.0016772228821670056, -0.3278601039514975, -0.07144282099533755, 0.08603214141818477, 0.14800397245415015, -0.018287451283266233, -0.07192219285815285, -0.22007105929173593, -0.2262355247479864, -0.18073021060508335, 0.013097295791637664, 0.1265614640090908, 0.07319852580337145, -0.018692097473935944, -0.03488155053957087, -0.12482578343063076, -0.058944662145739055, -0.07614240148777722, -0.10882836408212399, -0.5907511404006242, -0.017965425191077036, 0.14096460136015226, 0.012018829251762796, 0.16807813241830435, -0.15150473495543396, 0.09004569217960996, 0.14046953416939453, 0.16649411676654152, -0.04373046922867235, -0.2919376344610143, -0.21596239002537782, 0.2779454913304441, -0.06666985662626498, 0.075497127526452, 0.026165124870873163, 0.011981469163762574, 0.11462000226144374, -0.19312404194120886, 0.2148797013428825, 0.06579821150681403, -0.09058607050478275, 0.180263380888101, -0.02560854631505154, -0.1706399033708524, 0.20904445415207823, 0.05749198532393232, -0.2342053561309765, 0.13919300556592082, 0.10273192201033675, -0.09980651658052656, -0.24449367895741728, 0.15015011476300374, 0.14940367783829445, -0.28901899508320017, 0.2578843549148714, -0.12492118849637304, 0.145915476945901, -0.08638338738289456, -0.1257932169709688, 0.0666692515339287, -0.09324128764492058, -0.15094162172743367, -0.1414042008675239, 0.03428076655563738, -0.09977399600455031, 0.26181906947445305, -0.08486098125273851, -0.039129554516368986, 0.0063301893816751, -0.13316848834274023, -0.14227525904638097, -0.0418790075424791, 0.13203415308447136, 0.022370862124991155, -0.055343348689486774, -0.08211024096351992, 0.05579951290549835, 0.07051806599106353, -0.1047246374539027, 0.31706281338851294, -0.029955386929282877]}, {\"hovertemplate\": \"color=WangXiZhi<br>PC 1=%{x}<br>PC 2=%{y}<br>PC 3=%{z}<br>size=%{marker.size}<extra></extra>\", \"legendgroup\": \"WangXiZhi\", \"marker\": {\"color\": \"#ab63fa\", \"size\": [0.001, 0.001, 0.001, 0.001, 0.001, 0.001, 0.001, 0.001, 0.001, 0.001, 0.001, 0.001, 0.001, 0.001, 0.001, 0.001, 0.001, 0.001, 0.001, 0.001, 0.001, 0.001, 0.001, 0.001, 0.001, 0.001, 0.001, 0.001, 0.001, 0.001, 0.001, 0.001, 0.001, 0.001, 0.001, 0.001, 0.001, 0.001, 0.001, 0.001, 0.001, 0.001, 0.001, 0.001, 0.001, 0.001, 0.001, 0.001, 0.001, 0.001, 0.001, 0.001, 0.001, 0.001, 0.001, 0.001, 0.001, 0.001, 0.001, 0.001, 0.001, 0.001, 0.001, 0.001, 0.001, 0.001, 0.001, 0.001, 0.001, 0.001, 0.001, 0.001, 0.001, 0.001, 0.001, 0.001, 0.001, 0.001, 0.001, 0.001, 0.001, 0.001, 0.001, 0.001, 0.001, 0.001, 0.001, 0.001, 0.001, 0.001, 0.001, 0.001, 0.001, 0.001, 0.001], \"sizemode\": \"area\", \"sizeref\": 2.5e-06, \"symbol\": \"circle\"}, \"mode\": \"markers\", \"name\": \"WangXiZhi\", \"scene\": \"scene\", \"showlegend\": true, \"type\": \"scatter3d\", \"x\": [0.00046052961482449063, 0.11484534354726102, 0.23711391436592685, 0.010500053874472644, 0.5161524893119824, 0.8093477440760224, 0.8669376300593054, -0.0928776348713699, 0.0960497453942117, 0.3468634622944858, 0.8714645593933911, -0.04133568723931822, 0.003031839866607826, 0.08740960049091509, -0.05530236595449625, -0.31106413660330123, -0.2273792531737126, 0.2541867027634335, -0.11302554543963776, -0.1046487787980576, 0.3541734633989057, 0.5154707980143045, 0.5730662873211032, 0.2741069492730731, 0.5110089978405454, 0.01797894508743641, -0.07092060495807664, 0.0631959903719052, 0.2572754975971777, -0.11714679646769338, 0.11460700424315604, 0.2155860474391775, 0.15347187642874313, -0.10453197523025062, 0.4576992452141736, 0.06822341244034139, 0.3704695569940226, 0.2397618520202225, 0.42595658391351016, 0.15071398180352008, 0.09759347217433152, -0.09690497238295313, 0.15629227125442288, 0.06054455398991385, 0.318522580356876, -0.003037728619394114, -0.10223122514303708, 0.4480548819490827, 0.04242144332761974, -0.037694204579278, -0.024647542472791297, -0.23620658604465453, -0.25429960714765193, 0.20094918635642153, -0.06605380955102089, 0.31826808120883365, -0.08365115890973941, -0.24496375653825267, -0.3382115740137727, 0.19745363743200608, 0.3410350777203619, 0.4061148932106837, 0.5089908798439775, 0.7205167396363278, 0.3417507235937034, 0.29681599050069524, 0.06246464644067287, -0.044214607892138214, -0.03250276917875424, 0.33500751050697425, 0.00018181758805048485, -0.14255801073001706, 0.13055314966336273, 0.4088849499762638, 0.4810965007590695, 0.47239361925322104, 0.6340137430274004, 0.3798868865577797, 0.09047842324194465, -0.22325804096144788, 0.39759885057796845, 0.08537428956026845, -0.06194244266880378, 0.3200219607353473, 0.3422263342474321, 0.18316467967643849, 0.1774209381376389, 0.02282237313015897, -0.05228020333284104, -0.2057448762138231, -0.33096036106400034, 0.0009122100683527965, -0.215665707669051, -0.04062757244779337, 0.2872022012638338], \"y\": [0.2878460898020787, -0.13456793001896364, -0.037399329471738164, 0.056454201200066265, -0.025933472023573885, -0.059124561905117154, -0.09277208037096706, 0.040032282334717194, 0.26054732645849504, 0.05744861448450853, -0.03869629143632059, 0.1354303343465678, 0.19633082436775137, 0.08810416886631038, -0.2622381473894135, -0.07224748894704312, -0.4809385745218339, -0.161079682980624, 0.2254238286833265, 0.11401846005061603, -0.07398983033421566, 0.03581671441299476, -0.05156983155149724, 0.06512535145797527, 0.2831636217977715, -0.08418938261207574, -0.028793603523968182, -0.10239895476742708, -0.01408320551492238, -0.4755264119668516, 0.2695802582132821, -0.26643093709787885, 0.017659145648985873, -0.018123959673346936, 0.09936918334116161, -0.05211786769802136, -0.1061914063530977, -0.21741663864832536, 0.05531424009301404, -0.03878930665842307, 0.023325846981986365, 0.22783043713372775, 0.3352673272526352, 0.17553176293124015, 0.023996955758590843, -0.21760063952842013, -0.00678799218276148, -0.12953580137359888, -0.0572741671399717, 0.1859229526402638, 0.1288946431394306, -0.07003353316568461, -0.11415720659593093, -0.06381287355230565, -0.2692650095562696, 0.1414751502664382, -0.013049870273589045, -0.1252718214648841, 0.7441430104423741, 0.3429838595306146, -0.10066807563024051, 0.3178420419768303, -0.18429107536634917, -0.09238316468648472, -0.009215452141779913, 0.010004835760432233, -0.23866774500360097, 0.1598005324072453, -0.15126363244259192, -0.25621499581372476, 0.2869627299150585, 0.6282686855328656, 0.1851458000685788, -0.15768891679346878, -0.1558202409973627, -0.11568988710818019, -0.04107037459021466, 0.16443669555647886, 0.04804365469290346, -0.657687043984737, 0.5176454405168861, 0.1610471945597541, -0.0675267375057543, -0.052420464017426005, 0.006035118647008716, -0.20165603417059486, -0.07736531301526248, 0.39937335946179847, -0.3973472331530936, 0.29048883713139734, -0.11268591226336734, 0.0628460745953977, -0.23781943092947036, 0.1562532521519778, -0.1458175881240631], \"z\": [-0.12127501870381022, 0.21406210602857434, 0.203918560996912, -0.13069080074541467, 0.1603700478567178, -0.00950006944417667, 0.07283591464490768, -0.23276510155285354, -0.1561481773350122, 0.0026942440961425923, 0.07204579305917727, -0.0972821241093201, -0.19733432199787118, 0.057483887055489034, 0.036716517500157635, 0.2913882352260458, 0.031318260728153684, 0.06551329359983114, -0.27190942197679147, -0.1157437114452957, 0.02150556804476346, -0.0012295266014361041, 0.10164229270222716, -0.11877151117807269, -0.05443279938094216, 0.12056126562217562, 0.0021850143541905804, -0.2603727341014637, -0.016307905869603814, 0.09172863368044593, -0.22782954690937882, 0.15781932645420768, -0.09109048899972091, -0.07610109205871303, 0.07132342526626906, 0.1793499983948671, -0.12513844870029328, 0.08083780779506401, 0.2108428903135385, 0.11674479384332685, -0.192927181814839, 0.0507194741881955, 0.08187501915206001, -0.06759339446383637, -0.13763078634155776, -0.10316029438917561, -0.15885288682898163, -0.004291448825560544, -0.11862771886116634, -0.4776059419619344, -0.03227923918874919, -0.22805914279149347, 0.370186877524897, -0.15783873536607246, -0.10901379358861926, -0.1180060806852153, -0.04490213905399109, 0.04911813922252727, 0.3911880480417613, 0.028067682030707093, -0.0051742390369092705, 0.32024611764581723, -0.029631588907377382, 0.20535414763304305, 0.19298541083361104, -0.09083691653689416, 0.027945317011801588, 0.11329282762972939, -0.06530590646668351, 0.1504011074386368, 0.029484891186184914, 0.3191809971460417, 0.18162915947845185, -0.18523454428177932, 0.04096919876278804, 0.06585403837322765, -0.281525260787076, 0.18376129742581318, -0.17947531769260053, 0.23612529384762707, 0.22055458698904762, -0.05576210852813901, -0.12176261213173686, -0.03994574951002928, -0.08283925981590168, -0.15833993958674197, -0.2772048971279565, -0.05513266271960748, -0.11892526234528082, 0.13831019075021198, 0.4278906421877611, -0.19805519812441144, 0.2203329776296387, -0.1397497952868293, -0.1878827645587501]}, {\"hovertemplate\": \"color=Mi Fu (On Cursive Calligraphy)<br>PC 1=%{x}<br>PC 2=%{y}<br>PC 3=%{z}<br>size=%{marker.size}<extra></extra>\", \"legendgroup\": \"Mi Fu (On Cursive Calligraphy)\", \"marker\": {\"color\": \"#FFA15A\", \"size\": [0.001, 0.001, 0.001, 0.001, 0.001, 0.001, 0.001, 0.001, 0.001, 0.001, 0.001, 0.001, 0.001, 0.001, 0.001, 0.001, 0.001, 0.001, 0.001, 0.001, 0.001, 0.001, 0.001, 0.001, 0.001, 0.001, 0.001, 0.001, 0.001, 0.001, 0.001, 0.001, 0.001, 0.001, 0.001, 0.001, 0.001, 0.001, 0.001, 0.001, 0.001, 0.001, 0.001, 0.001, 0.001, 0.001, 0.001, 0.001, 0.001, 0.001, 0.001, 0.001, 0.001, 0.001, 0.001, 0.001, 0.001, 0.001, 0.001, 0.001, 0.001, 0.001, 0.001], \"sizemode\": \"area\", \"sizeref\": 2.5e-06, \"symbol\": \"circle\"}, \"mode\": \"markers\", \"name\": \"Mi Fu (On Cursive Calligraphy)\", \"scene\": \"scene\", \"showlegend\": true, \"type\": \"scatter3d\", \"x\": [-0.274057595261152, -0.41993178284555144, -0.3279359052925999, -0.15702039213209873, -0.7764620857689501, -0.18241468745164657, -0.6155334098023257, -0.2654718956538808, -0.3077512053283621, -0.4036043472831797, -0.259613231785461, -0.24436016756666523, 0.08512637160082259, -0.45650721485932444, -0.19566111053304855, -0.40649273321327, -0.3241531046369447, -0.24342112789604944, 0.12754350106203133, -0.2953792069840787, -0.2600385181155684, 0.1929708329651265, -0.4325699590684092, -0.6758909307441295, -0.2547076265888342, -0.43661222490080753, -0.0683931652830122, -0.5418236814975139, -0.2046008965311579, -0.26349218551880405, -0.056314164083287675, -0.4884738363364468, -0.4892604818399476, -0.17095851704112683, -0.5456932059454893, -0.5004140724699474, -0.4538995600889839, -0.4434461065639174, -0.37899262663761746, -0.36492862802712667, -0.3311670038349355, -0.31550725153608333, -0.057160136244814454, -0.8087847766530445, 0.01966549616602769, -0.2633359243678271, 0.010023809770925752, -0.10975225883781889, -0.04412021245275894, -0.3321666235005869, -0.40671815202129397, -0.18832351987799067, -0.3827239578398488, -0.3109224553451974, -0.15155160782348978, -0.588728509275219, -0.34144506164360466, -0.30982727764295825, 0.03676949304710808, -0.2884463479640676, -0.4569797616520918, -0.4872751254759159, -0.4191722881576872], \"y\": [0.22813394280565427, 0.01107771482275545, 0.10128538900048947, 0.42074591809552236, 0.47294031826106564, 0.3877508994438613, 0.07067969689119702, -0.165041326864668, -0.0633915230347648, -0.3396536064267313, 0.024999839398581452, 0.3274791862196019, 0.12196521402596935, -0.20860810397574867, -0.02480699614180516, -0.4337868105923628, 0.188340628460876, 0.40538179642134187, 0.3059320931981237, 0.11097185308143916, -0.17562697135914748, 0.1593611262575735, -0.3272882032354291, -0.3042361856023812, 0.2040787103291611, -0.4161599414127226, 0.0016477890948385923, -0.45239926787735696, 0.047445970970922687, -0.3593469141862473, 0.06876133082311305, 0.17597947026566257, 0.10358545968520844, 0.024427514675893856, -0.32352500555362607, -0.315925420218282, 0.20066631343972122, 0.3990682769120483, -0.1957925984330167, 0.4992121231663419, -0.06486550652983468, -0.18832313809323, 0.028232607378709505, 0.37867282862568324, 0.2510642551383946, 0.26785757503777535, 0.3782662055629334, 0.1883619618353768, 0.43991261731173387, 0.36932352138031654, 0.5127919327068904, 0.21280519045534965, -0.16657492625278042, 0.2003606436599116, 0.3523099829186431, 0.08909533002599375, -0.10297010074642506, -0.46218651381059644, -0.060763784019914044, 0.12508010711613907, -0.03552460340438344, 0.5139160774100634, 0.40300643815399706], \"z\": [0.01200765344253133, -0.1704501944212226, -0.27775928752532797, 0.04495885453322359, -0.31237292100270203, 0.08201723837226782, 0.21728227845656553, -0.1643603257684101, -0.15007907894753306, 0.04964513741754567, 0.048843986968299745, 0.11466373651394378, 0.03585232548643512, -0.23689416252490847, -0.23682089268227452, -0.05608793409176297, 0.1718265425167095, -0.024779616676921867, 0.041774512343764704, 0.12119444499989519, 0.04660130466344198, -0.04684804234384578, -0.08236965824076953, -0.033172109597268795, -0.173851421789634, 0.24750262405474777, -0.03355243762840484, 0.0675204246366783, -0.42674811141709307, 0.029214593092110854, 0.022237262242932113, -0.46393181365716235, -0.24190919621972284, -0.0006104649559873431, -0.05690605778322811, 0.04878339996444021, -0.043168651943578294, 0.10164375024729434, 0.18914693456103626, 0.21194565756639502, 0.30639600973888154, 0.055696603885022636, -0.24356509581331287, 0.3792975939042804, 0.06045500286061194, -0.36693235921935347, 0.12293159112389948, 0.07352124624177853, 0.11251999015234253, -0.1687890928881135, 0.049119401778118764, -0.44334389554512904, 0.030743204435238074, 0.022743782781743986, -0.1453615877654585, 0.0021375597482992765, -0.01068180433156513, -0.16621707342288855, -0.11912235651277485, -0.17332826579013982, -0.004190377733667608, 0.03903901221921531, 0.07819510597212084]}],                        {\"legend\": {\"itemsizing\": \"constant\", \"title\": {\"text\": \"color\"}, \"tracegroupgap\": 0}, \"scene\": {\"domain\": {\"x\": [0.0, 1.0], \"y\": [0.0, 1.0]}, \"xaxis\": {\"title\": {\"text\": \"PC 1\"}}, \"yaxis\": {\"title\": {\"text\": \"PC 2\"}}, \"zaxis\": {\"title\": {\"text\": \"PC 3\"}}}, \"template\": {\"data\": {\"bar\": [{\"error_x\": {\"color\": \"#2a3f5f\"}, \"error_y\": {\"color\": \"#2a3f5f\"}, \"marker\": {\"line\": {\"color\": \"#E5ECF6\", \"width\": 0.5}}, \"type\": \"bar\"}], \"barpolar\": [{\"marker\": {\"line\": {\"color\": \"#E5ECF6\", \"width\": 0.5}}, \"type\": \"barpolar\"}], \"carpet\": [{\"aaxis\": {\"endlinecolor\": \"#2a3f5f\", \"gridcolor\": \"white\", \"linecolor\": \"white\", \"minorgridcolor\": \"white\", \"startlinecolor\": \"#2a3f5f\"}, \"baxis\": {\"endlinecolor\": \"#2a3f5f\", \"gridcolor\": \"white\", \"linecolor\": \"white\", \"minorgridcolor\": \"white\", \"startlinecolor\": \"#2a3f5f\"}, \"type\": \"carpet\"}], \"choropleth\": [{\"colorbar\": {\"outlinewidth\": 0, \"ticks\": \"\"}, \"type\": \"choropleth\"}], \"contour\": [{\"colorbar\": {\"outlinewidth\": 0, \"ticks\": \"\"}, \"colorscale\": [[0.0, \"#0d0887\"], [0.1111111111111111, \"#46039f\"], [0.2222222222222222, \"#7201a8\"], [0.3333333333333333, \"#9c179e\"], [0.4444444444444444, \"#bd3786\"], [0.5555555555555556, \"#d8576b\"], [0.6666666666666666, \"#ed7953\"], [0.7777777777777778, \"#fb9f3a\"], [0.8888888888888888, \"#fdca26\"], [1.0, \"#f0f921\"]], \"type\": \"contour\"}], \"contourcarpet\": [{\"colorbar\": {\"outlinewidth\": 0, \"ticks\": \"\"}, \"type\": \"contourcarpet\"}], \"heatmap\": [{\"colorbar\": {\"outlinewidth\": 0, \"ticks\": \"\"}, \"colorscale\": [[0.0, \"#0d0887\"], [0.1111111111111111, \"#46039f\"], [0.2222222222222222, \"#7201a8\"], [0.3333333333333333, \"#9c179e\"], [0.4444444444444444, \"#bd3786\"], [0.5555555555555556, \"#d8576b\"], [0.6666666666666666, \"#ed7953\"], [0.7777777777777778, \"#fb9f3a\"], [0.8888888888888888, \"#fdca26\"], [1.0, \"#f0f921\"]], \"type\": \"heatmap\"}], \"heatmapgl\": [{\"colorbar\": {\"outlinewidth\": 0, \"ticks\": \"\"}, \"colorscale\": [[0.0, \"#0d0887\"], [0.1111111111111111, \"#46039f\"], [0.2222222222222222, \"#7201a8\"], [0.3333333333333333, \"#9c179e\"], [0.4444444444444444, \"#bd3786\"], [0.5555555555555556, \"#d8576b\"], [0.6666666666666666, \"#ed7953\"], [0.7777777777777778, \"#fb9f3a\"], [0.8888888888888888, \"#fdca26\"], [1.0, \"#f0f921\"]], \"type\": \"heatmapgl\"}], \"histogram\": [{\"marker\": {\"colorbar\": {\"outlinewidth\": 0, \"ticks\": \"\"}}, \"type\": \"histogram\"}], \"histogram2d\": [{\"colorbar\": {\"outlinewidth\": 0, \"ticks\": \"\"}, \"colorscale\": [[0.0, \"#0d0887\"], [0.1111111111111111, \"#46039f\"], [0.2222222222222222, \"#7201a8\"], [0.3333333333333333, \"#9c179e\"], [0.4444444444444444, \"#bd3786\"], [0.5555555555555556, \"#d8576b\"], [0.6666666666666666, \"#ed7953\"], [0.7777777777777778, \"#fb9f3a\"], [0.8888888888888888, \"#fdca26\"], [1.0, \"#f0f921\"]], \"type\": \"histogram2d\"}], \"histogram2dcontour\": [{\"colorbar\": {\"outlinewidth\": 0, \"ticks\": \"\"}, \"colorscale\": [[0.0, \"#0d0887\"], [0.1111111111111111, \"#46039f\"], [0.2222222222222222, \"#7201a8\"], [0.3333333333333333, \"#9c179e\"], [0.4444444444444444, \"#bd3786\"], [0.5555555555555556, \"#d8576b\"], [0.6666666666666666, \"#ed7953\"], [0.7777777777777778, \"#fb9f3a\"], [0.8888888888888888, \"#fdca26\"], [1.0, \"#f0f921\"]], \"type\": \"histogram2dcontour\"}], \"mesh3d\": [{\"colorbar\": {\"outlinewidth\": 0, \"ticks\": \"\"}, \"type\": \"mesh3d\"}], \"parcoords\": [{\"line\": {\"colorbar\": {\"outlinewidth\": 0, \"ticks\": \"\"}}, \"type\": \"parcoords\"}], \"pie\": [{\"automargin\": true, \"type\": \"pie\"}], \"scatter\": [{\"marker\": {\"colorbar\": {\"outlinewidth\": 0, \"ticks\": \"\"}}, \"type\": \"scatter\"}], \"scatter3d\": [{\"line\": {\"colorbar\": {\"outlinewidth\": 0, \"ticks\": \"\"}}, \"marker\": {\"colorbar\": {\"outlinewidth\": 0, \"ticks\": \"\"}}, \"type\": \"scatter3d\"}], \"scattercarpet\": [{\"marker\": {\"colorbar\": {\"outlinewidth\": 0, \"ticks\": \"\"}}, \"type\": \"scattercarpet\"}], \"scattergeo\": [{\"marker\": {\"colorbar\": {\"outlinewidth\": 0, \"ticks\": \"\"}}, \"type\": \"scattergeo\"}], \"scattergl\": [{\"marker\": {\"colorbar\": {\"outlinewidth\": 0, \"ticks\": \"\"}}, \"type\": \"scattergl\"}], \"scattermapbox\": [{\"marker\": {\"colorbar\": {\"outlinewidth\": 0, \"ticks\": \"\"}}, \"type\": \"scattermapbox\"}], \"scatterpolar\": [{\"marker\": {\"colorbar\": {\"outlinewidth\": 0, \"ticks\": \"\"}}, \"type\": \"scatterpolar\"}], \"scatterpolargl\": [{\"marker\": {\"colorbar\": {\"outlinewidth\": 0, \"ticks\": \"\"}}, \"type\": \"scatterpolargl\"}], \"scatterternary\": [{\"marker\": {\"colorbar\": {\"outlinewidth\": 0, \"ticks\": \"\"}}, \"type\": \"scatterternary\"}], \"surface\": [{\"colorbar\": {\"outlinewidth\": 0, \"ticks\": \"\"}, \"colorscale\": [[0.0, \"#0d0887\"], [0.1111111111111111, \"#46039f\"], [0.2222222222222222, \"#7201a8\"], [0.3333333333333333, \"#9c179e\"], [0.4444444444444444, \"#bd3786\"], [0.5555555555555556, \"#d8576b\"], [0.6666666666666666, \"#ed7953\"], [0.7777777777777778, \"#fb9f3a\"], [0.8888888888888888, \"#fdca26\"], [1.0, \"#f0f921\"]], \"type\": \"surface\"}], \"table\": [{\"cells\": {\"fill\": {\"color\": \"#EBF0F8\"}, \"line\": {\"color\": \"white\"}}, \"header\": {\"fill\": {\"color\": \"#C8D4E3\"}, \"line\": {\"color\": \"white\"}}, \"type\": \"table\"}]}, \"layout\": {\"annotationdefaults\": {\"arrowcolor\": \"#2a3f5f\", \"arrowhead\": 0, \"arrowwidth\": 1}, \"autotypenumbers\": \"strict\", \"coloraxis\": {\"colorbar\": {\"outlinewidth\": 0, \"ticks\": \"\"}}, \"colorscale\": {\"diverging\": [[0, \"#8e0152\"], [0.1, \"#c51b7d\"], [0.2, \"#de77ae\"], [0.3, \"#f1b6da\"], [0.4, \"#fde0ef\"], [0.5, \"#f7f7f7\"], [0.6, \"#e6f5d0\"], [0.7, \"#b8e186\"], [0.8, \"#7fbc41\"], [0.9, \"#4d9221\"], [1, \"#276419\"]], \"sequential\": [[0.0, \"#0d0887\"], [0.1111111111111111, \"#46039f\"], [0.2222222222222222, \"#7201a8\"], [0.3333333333333333, \"#9c179e\"], [0.4444444444444444, \"#bd3786\"], [0.5555555555555556, \"#d8576b\"], [0.6666666666666666, \"#ed7953\"], [0.7777777777777778, \"#fb9f3a\"], [0.8888888888888888, \"#fdca26\"], [1.0, \"#f0f921\"]], \"sequentialminus\": [[0.0, \"#0d0887\"], [0.1111111111111111, \"#46039f\"], [0.2222222222222222, \"#7201a8\"], [0.3333333333333333, \"#9c179e\"], [0.4444444444444444, \"#bd3786\"], [0.5555555555555556, \"#d8576b\"], [0.6666666666666666, \"#ed7953\"], [0.7777777777777778, \"#fb9f3a\"], [0.8888888888888888, \"#fdca26\"], [1.0, \"#f0f921\"]]}, \"colorway\": [\"#636efa\", \"#EF553B\", \"#00cc96\", \"#ab63fa\", \"#FFA15A\", \"#19d3f3\", \"#FF6692\", \"#B6E880\", \"#FF97FF\", \"#FECB52\"], \"font\": {\"color\": \"#2a3f5f\"}, \"geo\": {\"bgcolor\": \"white\", \"lakecolor\": \"white\", \"landcolor\": \"#E5ECF6\", \"showlakes\": true, \"showland\": true, \"subunitcolor\": \"white\"}, \"hoverlabel\": {\"align\": \"left\"}, \"hovermode\": \"closest\", \"mapbox\": {\"style\": \"light\"}, \"paper_bgcolor\": \"white\", \"plot_bgcolor\": \"#E5ECF6\", \"polar\": {\"angularaxis\": {\"gridcolor\": \"white\", \"linecolor\": \"white\", \"ticks\": \"\"}, \"bgcolor\": \"#E5ECF6\", \"radialaxis\": {\"gridcolor\": \"white\", \"linecolor\": \"white\", \"ticks\": \"\"}}, \"scene\": {\"xaxis\": {\"backgroundcolor\": \"#E5ECF6\", \"gridcolor\": \"white\", \"gridwidth\": 2, \"linecolor\": \"white\", \"showbackground\": true, \"ticks\": \"\", \"zerolinecolor\": \"white\"}, \"yaxis\": {\"backgroundcolor\": \"#E5ECF6\", \"gridcolor\": \"white\", \"gridwidth\": 2, \"linecolor\": \"white\", \"showbackground\": true, \"ticks\": \"\", \"zerolinecolor\": \"white\"}, \"zaxis\": {\"backgroundcolor\": \"#E5ECF6\", \"gridcolor\": \"white\", \"gridwidth\": 2, \"linecolor\": \"white\", \"showbackground\": true, \"ticks\": \"\", \"zerolinecolor\": \"white\"}}, \"shapedefaults\": {\"line\": {\"color\": \"#2a3f5f\"}}, \"ternary\": {\"aaxis\": {\"gridcolor\": \"white\", \"linecolor\": \"white\", \"ticks\": \"\"}, \"baxis\": {\"gridcolor\": \"white\", \"linecolor\": \"white\", \"ticks\": \"\"}, \"bgcolor\": \"#E5ECF6\", \"caxis\": {\"gridcolor\": \"white\", \"linecolor\": \"white\", \"ticks\": \"\"}}, \"title\": {\"x\": 0.05}, \"xaxis\": {\"automargin\": true, \"gridcolor\": \"white\", \"linecolor\": \"white\", \"ticks\": \"\", \"title\": {\"standoff\": 15}, \"zerolinecolor\": \"white\", \"zerolinewidth\": 2}, \"yaxis\": {\"automargin\": true, \"gridcolor\": \"white\", \"linecolor\": \"white\", \"ticks\": \"\", \"title\": {\"standoff\": 15}, \"zerolinecolor\": \"white\", \"zerolinewidth\": 2}}}, \"title\": {\"text\": \"Total Explained Variance: 66.81%\"}},                        {\"responsive\": true}                    ).then(function(){\n",
       "                            \n",
       "var gd = document.getElementById('ae11e664-cacd-4e9e-bf38-12a982e1dec0');\n",
       "var x = new MutationObserver(function (mutations, observer) {{\n",
       "        var display = window.getComputedStyle(gd).display;\n",
       "        if (!display || display === 'none') {{\n",
       "            console.log([gd, 'removed!']);\n",
       "            Plotly.purge(gd);\n",
       "            observer.disconnect();\n",
       "        }}\n",
       "}});\n",
       "\n",
       "// Listen for the removal of the full notebook cells\n",
       "var notebookContainer = gd.closest('#notebook-container');\n",
       "if (notebookContainer) {{\n",
       "    x.observe(notebookContainer, {childList: true});\n",
       "}}\n",
       "\n",
       "// Listen for the clearing of the current output cell\n",
       "var outputEl = gd.closest('.output');\n",
       "if (outputEl) {{\n",
       "    x.observe(outputEl, {childList: true});\n",
       "}}\n",
       "\n",
       "                        })                };                });            </script>        </div>"
      ]
     },
     "metadata": {},
     "output_type": "display_data"
    }
   ],
   "source": [
    "# 3D PCA\n",
    "pca = PCA(n_components=3)\n",
    "components = pca.fit_transform(X_total)\n",
    "\n",
    "total_var = pca.explained_variance_ratio_.sum() * 100\n",
    "\n",
    "fig = px.scatter_3d(\n",
    "    components, x=0, y=1, z=2, color=labels,\n",
    "    size=[0.001]*len(labels),\n",
    "    title=f'Total Explained Variance: {total_var:.2f}%',\n",
    "    labels={'0': 'PC 1', '1': 'PC 2', '2': 'PC 3'}\n",
    ")\n",
    "fig.show()"
   ]
  },
  {
   "cell_type": "markdown",
   "id": "british-caution",
   "metadata": {},
   "source": [
    "# Classification\n",
    "First, split labeled data into training and test sets"
   ]
  },
  {
   "cell_type": "code",
   "execution_count": 145,
   "id": "rubber-albuquerque",
   "metadata": {},
   "outputs": [
    {
     "name": "stdout",
     "output_type": "stream",
     "text": [
      "X_total.shape: (431, 46)\n",
      "X_train.shape: (288, 46)\n",
      "X_test.shape: (143, 46)\n",
      "len(y_train): 288\n",
      "len(y_test): 143\n"
     ]
    }
   ],
   "source": [
    "from sklearn.model_selection import train_test_split\n",
    "X_train, X_test, y_train, y_test = train_test_split(X_total, labels, test_size=0.33, random_state=42)\n",
    "print(f'X_total.shape: {X_total.shape}')\n",
    "print(f'X_train.shape: {X_train.shape}')\n",
    "print(f'X_test.shape: {X_test.shape}')\n",
    "print(f'len(y_train): {len(y_train)}')\n",
    "print(f'len(y_test): {len(y_test)}')"
   ]
  },
  {
   "cell_type": "markdown",
   "id": "global-medline",
   "metadata": {},
   "source": [
    "Now let's run a bunch of classifiers based on this tutorial: https://www.kaggle.com/jeffd23/10-classifier-showdown-in-scikit-learn"
   ]
  },
  {
   "cell_type": "code",
   "execution_count": 146,
   "id": "recovered-charles",
   "metadata": {
    "scrolled": false
   },
   "outputs": [
    {
     "name": "stdout",
     "output_type": "stream",
     "text": [
      "==============================\n",
      "KNeighborsClassifier\n",
      "****Results****\n",
      "Accuracy: 53.8462%\n",
      "Log Loss: 7.033855174800827\n",
      "==============================\n",
      "SVC\n",
      "****Results****\n",
      "Accuracy: 22.3776%\n",
      "Log Loss: 1.2497222835076418\n",
      "==============================\n",
      "NuSVC\n",
      "****Results****\n",
      "Accuracy: 61.5385%\n",
      "Log Loss: 1.0265631883156578\n",
      "==============================\n",
      "DecisionTreeClassifier\n",
      "****Results****\n",
      "Accuracy: 48.9510%\n",
      "Log Loss: 17.63168305474462\n",
      "==============================\n",
      "RandomForestClassifier\n",
      "****Results****\n",
      "Accuracy: 63.6364%\n",
      "Log Loss: 1.0255808995640663\n",
      "==============================\n",
      "AdaBoostClassifier\n",
      "****Results****\n",
      "Accuracy: 32.1678%\n",
      "Log Loss: 1.7390233506540531\n",
      "==============================\n",
      "GradientBoostingClassifier\n",
      "****Results****\n",
      "Accuracy: 60.1399%\n",
      "Log Loss: 1.1589788072243492\n",
      "==============================\n",
      "GaussianNB\n",
      "****Results****\n",
      "Accuracy: 61.5385%\n",
      "Log Loss: 2.5987213761799137\n",
      "==============================\n",
      "LinearDiscriminantAnalysis\n",
      "****Results****\n",
      "Accuracy: 68.5315%\n",
      "Log Loss: 1.0550883887981337\n",
      "==============================\n"
     ]
    }
   ],
   "source": [
    "from sklearn.metrics import accuracy_score, log_loss\n",
    "from sklearn.neighbors import KNeighborsClassifier\n",
    "from sklearn.svm import SVC, LinearSVC, NuSVC\n",
    "from sklearn.tree import DecisionTreeClassifier\n",
    "from sklearn.ensemble import RandomForestClassifier, AdaBoostClassifier, GradientBoostingClassifier\n",
    "from sklearn.naive_bayes import GaussianNB\n",
    "from sklearn.discriminant_analysis import LinearDiscriminantAnalysis\n",
    "from sklearn.discriminant_analysis import QuadraticDiscriminantAnalysis\n",
    "\n",
    "classifiers = [\n",
    "    KNeighborsClassifier(3),\n",
    "    SVC(kernel=\"rbf\", C=0.025, probability=True),\n",
    "    NuSVC(probability=True),\n",
    "    DecisionTreeClassifier(),\n",
    "    RandomForestClassifier(),\n",
    "    AdaBoostClassifier(),\n",
    "    GradientBoostingClassifier(),\n",
    "    GaussianNB(),\n",
    "    LinearDiscriminantAnalysis(),\n",
    "    #QuadraticDiscriminantAnalysis(),\n",
    "]\n",
    "\n",
    "# Logging for Visual Comparison\n",
    "log_cols=[\"Classifier\", \"Accuracy\", \"Log Loss\"]\n",
    "log = pd.DataFrame(columns=log_cols)\n",
    "\n",
    "for clf in classifiers:\n",
    "    clf.fit(X_train, y_train)\n",
    "    name = clf.__class__.__name__\n",
    "    \n",
    "    print(\"=\"*30)\n",
    "    print(name)\n",
    "    \n",
    "    print('****Results****')\n",
    "    train_predictions = clf.predict(X_test)\n",
    "    acc = accuracy_score(y_test, train_predictions)\n",
    "    print(\"Accuracy: {:.4%}\".format(acc))\n",
    "    \n",
    "    train_predictions = clf.predict_proba(X_test)\n",
    "    ll = log_loss(y_test, train_predictions)\n",
    "    print(\"Log Loss: {}\".format(ll))\n",
    "    \n",
    "    log_entry = pd.DataFrame([[name, acc*100, ll]], columns=log_cols)\n",
    "    log = log.append(log_entry)\n",
    "    \n",
    "print(\"=\"*30)"
   ]
  },
  {
   "cell_type": "code",
   "execution_count": 147,
   "id": "recreational-oxford",
   "metadata": {},
   "outputs": [],
   "source": [
    "plt.figure(figsize=(8, 4))\n",
    "sns.set_color_codes(\"muted\")\n",
    "sns.barplot(x='Accuracy', y='Classifier', data=log, color=\"b\")\n",
    "\n",
    "plt.xlabel('Accuracy %')\n",
    "plt.title('Classifier Accuracy')\n",
    "plt.xlim(0, 100)\n",
    "plt.tight_layout()\n",
    "plt.savefig('Test/ClassifierAccuracy.png')"
   ]
  },
  {
   "cell_type": "code",
   "execution_count": 148,
   "id": "postal-rover",
   "metadata": {},
   "outputs": [],
   "source": [
    "plt.figure(figsize=(8, 4))\n",
    "sns.set_color_codes(\"muted\")\n",
    "sns.barplot(x='Log Loss', y='Classifier', data=log, color=\"g\")\n",
    "\n",
    "plt.xlabel('Log Loss')\n",
    "plt.title('Classifier Log Loss')\n",
    "plt.xlim(0, 100)\n",
    "plt.tight_layout()\n",
    "plt.savefig('Test/ClassifierLogLoss.png')"
   ]
  },
  {
   "cell_type": "code",
   "execution_count": null,
   "id": "powerful-pennsylvania",
   "metadata": {},
   "outputs": [],
   "source": []
  }
 ],
 "metadata": {
  "kernelspec": {
   "display_name": "Python (ee367-hw)",
   "language": "python",
   "name": "ee367-hw"
  },
  "language_info": {
   "codemirror_mode": {
    "name": "ipython",
    "version": 3
   },
   "file_extension": ".py",
   "mimetype": "text/x-python",
   "name": "python",
   "nbconvert_exporter": "python",
   "pygments_lexer": "ipython3",
   "version": "3.7.9"
  }
 },
 "nbformat": 4,
 "nbformat_minor": 5
}
