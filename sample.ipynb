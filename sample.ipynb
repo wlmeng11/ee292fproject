{
 "cells": [
  {
   "cell_type": "code",
   "execution_count": 1,
   "id": "becoming-substance",
   "metadata": {},
   "outputs": [],
   "source": [
    "import numpy as np\n",
    "%matplotlib qt\n",
    "import matplotlib.pyplot as plt\n",
    "from tqdm import tqdm\n",
    "from skimage import color\n",
    "from skimage.morphology import binary_erosion, square\n",
    "import cv2"
   ]
  },
  {
   "cell_type": "code",
   "execution_count": 2,
   "id": "noble-august",
   "metadata": {},
   "outputs": [
    {
     "name": "stdout",
     "output_type": "stream",
     "text": [
      "img1.shape: (350, 462, 3)\n",
      "img2.shape: (292, 333, 3)\n",
      "img3.shape: (356, 311, 3)\n"
     ]
    }
   ],
   "source": [
    "# Import a few sample images\n",
    "img1 = plt.imread('Extracted Characters/sample1.png')\n",
    "img2 = plt.imread('Extracted Characters/sample2.png')\n",
    "img3 = plt.imread('Extracted Characters/sample3.png')\n",
    "print(f'img1.shape: {img1.shape}')\n",
    "print(f'img2.shape: {img2.shape}')\n",
    "print(f'img3.shape: {img3.shape}')"
   ]
  },
  {
   "cell_type": "markdown",
   "id": "cardiac-smooth",
   "metadata": {},
   "source": [
    "# Preprocessing"
   ]
  },
  {
   "cell_type": "code",
   "execution_count": 3,
   "id": "temporal-solid",
   "metadata": {},
   "outputs": [
    {
     "name": "stdout",
     "output_type": "stream",
     "text": [
      "Converting to int before scaling...\n",
      "Converting to int before scaling...\n",
      "Converting to int before scaling...\n",
      "img1_square.shape: (256, 256, 3)\n",
      "img2_square.shape: (256, 256, 3)\n",
      "img3_square.shape: (256, 256, 3)\n"
     ]
    }
   ],
   "source": [
    "# Scale and pad\n",
    "\n",
    "# Based on tutorial: https://jdhao.github.io/2017/11/06/resize-image-to-square-with-padding/\n",
    "def make_square(img, desired_size=256, fill_color=[255, 255, 255]):\n",
    "    if img.dtype is not np.uint8:\n",
    "        print(f'Converting to int before scaling...')\n",
    "        img = (255*img).astype(np.uint8)\n",
    "        \n",
    "    scale_factor = desired_size/max(img.shape[0], img.shape[1])\n",
    "    resized = cv2.resize(img, (int(scale_factor*img.shape[1]), int(scale_factor*img.shape[0])))\n",
    "    new_size = resized.shape\n",
    "    \n",
    "    delta_w = desired_size - new_size[1]\n",
    "    delta_h = desired_size - new_size[0]\n",
    "    top, bottom = delta_h//2, delta_h-(delta_h//2)\n",
    "    left, right = delta_w//2, delta_w-(delta_w//2)\n",
    "    \n",
    "    out = cv2.copyMakeBorder(resized, top, bottom, left, right, cv2.BORDER_CONSTANT, value=fill_color)\n",
    "    out = out/255.0\n",
    "    return out\n",
    "\n",
    "img1_square = make_square(img1)\n",
    "img2_square = make_square(img2)\n",
    "img3_square = make_square(img3)\n",
    "print(f'img1_square.shape: {img1_square.shape}')\n",
    "print(f'img2_square.shape: {img2_square.shape}')\n",
    "print(f'img3_square.shape: {img3_square.shape}')"
   ]
  },
  {
   "cell_type": "code",
   "execution_count": 4,
   "id": "introductory-infrared",
   "metadata": {},
   "outputs": [],
   "source": [
    "# Binarize\n",
    "def binarize(img, threshold=0.5, invert=True):\n",
    "    # Convert to grayscale\n",
    "    if len(img.shape) >= 3:\n",
    "        img = color.rgb2gray(img)\n",
    "    \n",
    "    # Threshold\n",
    "    out = np.zeros_like(img)\n",
    "    if invert: # detect dark characters\n",
    "        mask = img < threshold\n",
    "    else: # detect light characters\n",
    "        mask = img > threshold\n",
    "    out[mask] = 1\n",
    "    return out\n",
    "\n",
    "img1_bin = binarize(img1_square)\n",
    "img2_bin = binarize(img2_square)\n",
    "img3_bin = binarize(img3_square)"
   ]
  },
  {
   "cell_type": "code",
   "execution_count": 5,
   "id": "yellow-channel",
   "metadata": {},
   "outputs": [],
   "source": [
    "num_rows = 3\n",
    "num_cols = 3\n",
    "fig, axes = plt.subplots(num_rows, num_cols, figsize=(4*num_cols, 4*num_rows))\n",
    "for i, img in enumerate([img1, img2, img3]):\n",
    "    axes[0, i].imshow(img)\n",
    "    axes[0, i].set_title(f'Sample {i+1}')\n",
    "for i, img in enumerate([img1_square, img2_square, img3_square]):\n",
    "    axes[1, i].imshow(img)\n",
    "    axes[1, i].set_title(f'Scaled & padded {i+1}')\n",
    "for i, img in enumerate([img1_bin, img2_bin, img3_bin]):\n",
    "    axes[2, i].imshow(img, cmap='gray')\n",
    "    axes[2, i].set_title(f'Binarized {i+1}')\n",
    "    \n",
    "plt.suptitle('Pre-processing Samples', fontsize='xx-large')\n",
    "plt.tight_layout()\n",
    "plt.savefig('PreprocessingSamples.png')"
   ]
  },
  {
   "cell_type": "markdown",
   "id": "paperback-immune",
   "metadata": {},
   "source": [
    "# Feature Extraction (Contour Analysis)"
   ]
  },
  {
   "cell_type": "code",
   "execution_count": 13,
   "id": "infrared-fence",
   "metadata": {},
   "outputs": [
    {
     "data": {
      "text/plain": [
       "(256, 256)"
      ]
     },
     "execution_count": 13,
     "metadata": {},
     "output_type": "execute_result"
    }
   ],
   "source": [
    "img1_bin.shape"
   ]
  },
  {
   "cell_type": "code",
   "execution_count": 25,
   "id": "final-richards",
   "metadata": {},
   "outputs": [
    {
     "data": {
      "text/plain": [
       "dtype('float64')"
      ]
     },
     "execution_count": 25,
     "metadata": {},
     "output_type": "execute_result"
    }
   ],
   "source": [
    "img1_bin.dtype"
   ]
  },
  {
   "cell_type": "code",
   "execution_count": 47,
   "id": "continued-rental",
   "metadata": {},
   "outputs": [
    {
     "name": "stdout",
     "output_type": "stream",
     "text": [
      "im.shape: (350, 462, 3)\n",
      "imgray.shape: (350, 462)\n",
      "imgray.dtype: uint8\n",
      "127.0\n",
      "thresh.shape: (350, 462)\n",
      "thresh.dtype: uint8\n",
      "thresh.max() = 255\n",
      "<class 'list'>\n",
      "# of contours: 9\n"
     ]
    }
   ],
   "source": [
    "import numpy as np\n",
    "import cv2 as cv\n",
    "import matplotlib\n",
    "\n",
    "im = cv.imread('test.jpg')\n",
    "imgray = cv.cvtColor(im, cv.COLOR_BGR2GRAY)\n",
    "ret, thresh = cv.threshold(imgray, 127, 255, 0)\n",
    "contours, hierarchy = cv.findContours(thresh, cv.RETR_TREE, cv.CHAIN_APPROX_SIMPLE)\n",
    "\n",
    "print(f'im.shape: {im.shape}')\n",
    "print(f'imgray.shape: {imgray.shape}')\n",
    "print(f'imgray.dtype: {imgray.dtype}')\n",
    "print(ret)\n",
    "print(f'thresh.shape: {thresh.shape}')\n",
    "print(f'thresh.dtype: {thresh.dtype}')\n",
    "print(f'thresh.max() = {thresh.max()}')\n",
    "print(type(contours))\n",
    "print(f'# of contours: {len(contours)}')\n",
    "\n",
    "dst = im.copy()\n",
    "cmap = matplotlib.cm.get_cmap('tab10')\n",
    "for i, cnt in enumerate(contours):\n",
    "    cv.drawContours(dst, [cnt], 0, [255*x for x in cmap(i)], 3)\n",
    "\n",
    "plt.imshow(dst)\n",
    "plt.title('Test image with labeled contours')\n",
    "plt.savefig('ContourTest.png')"
   ]
  },
  {
   "cell_type": "code",
   "execution_count": 112,
   "id": "incorrect-negotiation",
   "metadata": {},
   "outputs": [
    {
     "name": "stdout",
     "output_type": "stream",
     "text": [
      "# of contours: 5\n",
      "# of points in each contour:\n",
      "\t1 points\n",
      "\t103 points\n",
      "\t97 points\n",
      "\t964 points\n",
      "\t4 points\n"
     ]
    }
   ],
   "source": [
    "# Extract contours\n",
    "im = (img1_bin*255).astype(np.uint8)\n",
    "contours, hierarchy = cv2.findContours(im, cv2.RETR_TREE, cv2.CHAIN_APPROX_NONE)\n",
    "print(f'# of contours: {len(contours)}')\n",
    "print('# of points in each contour:')\n",
    "for cnt in contours:\n",
    "    print(f'\\t{len(cnt)} points')\n",
    "\n",
    "dst = (img1_square*255).astype(np.uint8)\n",
    "cmap = matplotlib.cm.get_cmap('tab10')\n",
    "for i, cnt in enumerate(contours):\n",
    "    cv2.drawContours(dst, [cnt], 0, [255*x for x in cmap(i)], 3)\n",
    "\n",
    "plt.figure(figsize=(4, 4))\n",
    "plt.imshow(dst)\n",
    "plt.title('Sample 1 with labeled contours')\n",
    "plt.savefig('ContoursSample1.png')"
   ]
  },
  {
   "cell_type": "markdown",
   "id": "assisted-printer",
   "metadata": {},
   "source": [
    "Hmm since most `cv2` functions use uint8 images instead of float64 images, maybe I should rewrite all my code to be likewise."
   ]
  },
  {
   "cell_type": "code",
   "execution_count": 113,
   "id": "honest-personal",
   "metadata": {},
   "outputs": [
    {
     "name": "stdout",
     "output_type": "stream",
     "text": [
      "# of remaining contours: 3\n",
      "\t103 points\n",
      "\t97 points\n",
      "\t964 points\n",
      "103\n",
      "97\n",
      "964\n"
     ]
    }
   ],
   "source": [
    "# Throw out any contours with 10 or fewer points\n",
    "contours_trimmed = [cnt for cnt in contours if len(cnt) > 10]\n",
    "print(f'# of remaining contours: {len(contours_trimmed)}')\n",
    "for cnt in contours_trimmed:\n",
    "    print(f'\\t{len(cnt)} points')\n",
    "\n",
    "dst = (img1_square*255).astype(np.uint8)\n",
    "cmap = matplotlib.cm.get_cmap('tab10')\n",
    "for i, cnt in enumerate(contours_trimmed):\n",
    "    print(len(cnt))\n",
    "    cv2.drawContours(dst, [cnt], 0, [255*x for x in cmap(i)], 3)\n",
    "\n",
    "plt.figure(figsize=(4, 4))\n",
    "plt.imshow(dst)\n",
    "plt.title('Sample 1 with labeled contours (trimmed)')\n",
    "plt.savefig('ContoursTrimmedSample1.png')"
   ]
  },
  {
   "cell_type": "code",
   "execution_count": 114,
   "id": "beginning-overview",
   "metadata": {
    "scrolled": false
   },
   "outputs": [],
   "source": [
    "# I'm assuming the points in the contour are already ordered\n",
    "# But let's plot the points in a line graph to make sure\n",
    "\n",
    "x_list = [x[0][0] for x in contours_trimmed[0]]\n",
    "y_list = [x[0][1] for x in contours_trimmed[0]]\n",
    "\n",
    "plt.figure(figsize=(4, 4))\n",
    "plt.plot(x_list)\n",
    "plt.plot(y_list)\n",
    "plt.plot(x_list, y_list)\n",
    "plt.title('Ordered Points')\n",
    "plt.savefig('OrderedPoints.png')"
   ]
  },
  {
   "cell_type": "code",
   "execution_count": 115,
   "id": "mineral-swaziland",
   "metadata": {},
   "outputs": [
    {
     "name": "stdout",
     "output_type": "stream",
     "text": [
      "# of remaining contours: 3\n",
      "\t51 points\n",
      "\t48 points\n",
      "\t482 points\n",
      "51\n",
      "48\n",
      "482\n"
     ]
    }
   ],
   "source": [
    "# Remove every other point (starting with first point)\n",
    "contours_dashed = [cnt[1::2] for cnt in contours_trimmed]\n",
    "print(f'# of remaining contours: {len(contours_trimmed)}')\n",
    "for cnt in contours_dashed:\n",
    "    print(f'\\t{len(cnt)} points')\n",
    "\n",
    "dst = (img1_square*255).astype(np.uint8)\n",
    "cmap = matplotlib.cm.get_cmap('tab10')\n",
    "for i, cnt in enumerate(contours_dashed):\n",
    "    print(len(cnt))\n",
    "    # We can't use drawContours because the contour is no longer contiguous\n",
    "    # Instead, fill in the points manually\n",
    "    for point in cnt:\n",
    "        x, y = point[0]\n",
    "        color = [255*x for x in cmap(i)][0:-1] # only take 3 color channels, ignore alpha\n",
    "        dst[y, x, :] = color\n",
    "\n",
    "plt.figure(figsize=(4, 4), dpi=300)\n",
    "plt.imshow(dst)\n",
    "plt.title('Sample 1 with dashed contours')\n",
    "plt.savefig('ContoursDashedSample1.png')"
   ]
  },
  {
   "cell_type": "code",
   "execution_count": 117,
   "id": "cutting-apollo",
   "metadata": {},
   "outputs": [],
   "source": [
    "# Compare dashed vs undashed\n",
    "def draw_contours(img, contours):\n",
    "    if img.dtype is not np.uint8:\n",
    "        dst = (255*img).astype(np.uint8)\n",
    "    else:\n",
    "        dst = img.copy()\n",
    "    cmap = matplotlib.cm.get_cmap('tab10')\n",
    "    for i, cnt in enumerate(contours):\n",
    "        for point in cnt:\n",
    "            x, y = point[0]\n",
    "            color = [255*x for x in cmap(i)][0:-1] # only take 3 color channels, ignore alpha\n",
    "            dst[y, x, :] = color\n",
    "    return dst\n",
    "\n",
    "fig, axes = plt.subplots(1, 2, figsize=(8, 4), dpi=300)\n",
    "axes[0].imshow(draw_contours(img1_square, contours_trimmed))\n",
    "axes[0].set_title('Undashed')\n",
    "axes[1].imshow(draw_contours(img1_square, contours_dashed))\n",
    "axes[1].set_title('Dashed')\n",
    "plt.tight_layout()\n",
    "plt.savefig('DashedVsUndashed.png')"
   ]
  },
  {
   "cell_type": "code",
   "execution_count": 120,
   "id": "conscious-annex",
   "metadata": {},
   "outputs": [],
   "source": [
    "# How about every 3rd point? Or every 4th point?\n",
    "fig, axes = plt.subplots(1, 2, figsize=(8, 4), dpi=300)\n",
    "axes[0].imshow(draw_contours(img1_square, [cnt[1::3] for cnt in contours_trimmed]))\n",
    "axes[0].set_title('Dashed (every 3rd point)')\n",
    "axes[1].imshow(draw_contours(img1_square, [cnt[1::4] for cnt in contours_trimmed]))\n",
    "axes[1].set_title('Dashed (every 4th point)')\n",
    "plt.tight_layout()\n",
    "plt.savefig('Dashed3rdor4th.png')"
   ]
  },
  {
   "cell_type": "code",
   "execution_count": 136,
   "id": "floppy-pressure",
   "metadata": {},
   "outputs": [
    {
     "name": "stdout",
     "output_type": "stream",
     "text": [
      "# thetas: 578\n",
      "max theta: 3.141592653589793\n",
      "min theta: -2.677945044588987\n"
     ]
    }
   ],
   "source": [
    "# Find sequence of angles in all the contours combined\n",
    "thetaseq = []\n",
    "for i, cnt in enumerate(contours_dashed):\n",
    "    for j, point in enumerate(cnt):\n",
    "        if j == 0:\n",
    "            prevx, prevy = point[0]\n",
    "        else:\n",
    "            x, y = point[0]\n",
    "            thetaseq.append(np.arctan2(y-prevy, x-prevx))\n",
    "            prevx = x\n",
    "            prevy = y\n",
    "\n",
    "print(f'# thetas: {len(thetaseq)}')\n",
    "print(f'max theta: {max(thetaseq)}')\n",
    "print(f'min theta: {min(thetaseq)}')\n",
    "\n",
    "# Calculate histogram of angles\n",
    "bins = 20\n",
    "hist = np.histogram(thetaseq, bins=bins, range=(-np.pi, np.pi))\n",
    "plt.figure(figsize=(4, 4), dpi=300)\n",
    "plt.hist(thetaseq, bins=bins, range=(-np.pi, np.pi))\n",
    "plt.title('Histogram of angles')\n",
    "plt.xlabel('Angle (radians)')\n",
    "plt.ylabel('Frequency')\n",
    "plt.savefig('Histogram.png')"
   ]
  },
  {
   "cell_type": "code",
   "execution_count": 10,
   "id": "engaged-signal",
   "metadata": {},
   "outputs": [],
   "source": [
    "# Repeat for a few more images"
   ]
  },
  {
   "cell_type": "markdown",
   "id": "empirical-township",
   "metadata": {},
   "source": [
    "# Contour Statistics\n",
    "Treating each images's histogram as a sample of the random variable $X$, estimate:\n",
    "* Mean vector $\\mu = E[X]$\n",
    "* Covariance matrix $K = E[(X-\\mu)(X-\\mu)^T] $"
   ]
  },
  {
   "cell_type": "code",
   "execution_count": null,
   "id": "visible-integral",
   "metadata": {},
   "outputs": [],
   "source": []
  }
 ],
 "metadata": {
  "kernelspec": {
   "display_name": "Python (ee367-hw)",
   "language": "python",
   "name": "ee367-hw"
  },
  "language_info": {
   "codemirror_mode": {
    "name": "ipython",
    "version": 3
   },
   "file_extension": ".py",
   "mimetype": "text/x-python",
   "name": "python",
   "nbconvert_exporter": "python",
   "pygments_lexer": "ipython3",
   "version": "3.7.9"
  }
 },
 "nbformat": 4,
 "nbformat_minor": 5
}
