{
 "cells": [
  {
   "cell_type": "code",
   "execution_count": 1,
   "id": "educated-entrance",
   "metadata": {},
   "outputs": [],
   "source": [
    "import numpy as np\n",
    "%matplotlib qt\n",
    "import matplotlib.pyplot as plt\n",
    "from tqdm import tqdm\n",
    "from skimage import io, color\n",
    "from skimage.morphology import binary_erosion, square\n",
    "import cv2"
   ]
  },
  {
   "cell_type": "code",
   "execution_count": 2,
   "id": "extraordinary-joshua",
   "metadata": {},
   "outputs": [
    {
     "name": "stdout",
     "output_type": "stream",
     "text": [
      "img1.shape: (350, 462, 3)\n",
      "img2.shape: (292, 333, 3)\n",
      "img3.shape: (356, 311, 3)\n",
      "img1.dtype: uint8\n",
      "img2.dtype: uint8\n",
      "img3.dtype: uint8\n"
     ]
    }
   ],
   "source": [
    "# Import a few sample images\n",
    "img1 = io.imread('Extracted Characters/sample1.png')\n",
    "img2 = io.imread('Extracted Characters/sample2.png')\n",
    "img3 = io.imread('Extracted Characters/sample3.png')\n",
    "print(f'img1.shape: {img1.shape}')\n",
    "print(f'img2.shape: {img2.shape}')\n",
    "print(f'img3.shape: {img3.shape}')\n",
    "print(f'img1.dtype: {img1.dtype}')\n",
    "print(f'img2.dtype: {img2.dtype}')\n",
    "print(f'img3.dtype: {img3.dtype}')"
   ]
  },
  {
   "cell_type": "markdown",
   "id": "apart-emission",
   "metadata": {},
   "source": [
    "# Preprocessing"
   ]
  },
  {
   "cell_type": "code",
   "execution_count": 3,
   "id": "demographic-voltage",
   "metadata": {},
   "outputs": [
    {
     "name": "stdout",
     "output_type": "stream",
     "text": [
      "img1_square.dtype: uint8\n",
      "img1_square.shape: (256, 256, 3)\n",
      "img2_square.shape: (256, 256, 3)\n",
      "img3_square.shape: (256, 256, 3)\n"
     ]
    }
   ],
   "source": [
    "# Scale and pad\n",
    "\n",
    "# Based on tutorial: https://jdhao.github.io/2017/11/06/resize-image-to-square-with-padding/\n",
    "def make_square(img, desired_size=256, fill_color=[255, 255, 255]):\n",
    "    if img.dtype != np.uint8:\n",
    "        print(f'Converting to uint8...')\n",
    "        img = (255*img).astype(np.uint8)\n",
    "        \n",
    "    scale_factor = desired_size/max(img.shape[0], img.shape[1])\n",
    "    resized = cv2.resize(img, (int(scale_factor*img.shape[1]), int(scale_factor*img.shape[0])))\n",
    "    new_size = resized.shape\n",
    "    \n",
    "    delta_w = desired_size - new_size[1]\n",
    "    delta_h = desired_size - new_size[0]\n",
    "    top, bottom = delta_h//2, delta_h-(delta_h//2)\n",
    "    left, right = delta_w//2, delta_w-(delta_w//2)\n",
    "    \n",
    "    out = cv2.copyMakeBorder(resized, top, bottom, left, right, cv2.BORDER_CONSTANT, value=fill_color)\n",
    "    return out\n",
    "\n",
    "img1_square = make_square(img1)\n",
    "img2_square = make_square(img2)\n",
    "img3_square = make_square(img3)\n",
    "print(f'img1_square.dtype: {img1_square.dtype}')\n",
    "print(f'img1_square.shape: {img1_square.shape}')\n",
    "print(f'img2_square.shape: {img2_square.shape}')\n",
    "print(f'img3_square.shape: {img3_square.shape}')"
   ]
  },
  {
   "cell_type": "code",
   "execution_count": 4,
   "id": "capital-space",
   "metadata": {},
   "outputs": [
    {
     "name": "stdout",
     "output_type": "stream",
     "text": [
      "img1_bin.dtype: uint8\n",
      "img1_bin.shape: (256, 256)\n",
      "img1_bin.max() = 255\n"
     ]
    },
    {
     "data": {
      "text/plain": [
       "<matplotlib.image.AxesImage at 0x7fa0f00bc3d0>"
      ]
     },
     "execution_count": 4,
     "metadata": {},
     "output_type": "execute_result"
    }
   ],
   "source": [
    "# Binarize\n",
    "# use float for thresholding, but return uint8 image\n",
    "def binarize(img, threshold=0.5, invert=True):\n",
    "    if img.dtype == np.uint8:\n",
    "        img = img/255.0 # convert to float64\n",
    "\n",
    "    # Convert to grayscale\n",
    "    if len(img.shape) >= 3:\n",
    "        img = color.rgb2gray(img)\n",
    "    \n",
    "    # Threshold\n",
    "    out = np.zeros_like(img)\n",
    "    if invert: # detect dark characters\n",
    "        mask = img < threshold\n",
    "    else: # detect light characters\n",
    "        mask = img > threshold\n",
    "    out[mask] = 1\n",
    "    return (255*out).astype(np.uint8)\n",
    "\n",
    "img1_bin = binarize(img1_square)\n",
    "img2_bin = binarize(img2_square)\n",
    "img3_bin = binarize(img3_square)\n",
    "print(f'img1_bin.dtype: {img1_bin.dtype}')\n",
    "print(f'img1_bin.shape: {img1_bin.shape}')\n",
    "print(f'img1_bin.max() = {img1_bin.max()}')\n",
    "plt.imshow(img1_bin, cmap='gray')"
   ]
  },
  {
   "cell_type": "code",
   "execution_count": 5,
   "id": "caring-folks",
   "metadata": {},
   "outputs": [],
   "source": [
    "num_rows = 3\n",
    "num_cols = 3\n",
    "fig, axes = plt.subplots(num_rows, num_cols, figsize=(4*num_cols, 4*num_rows))\n",
    "for i, img in enumerate([img1, img2, img3]):\n",
    "    axes[0, i].imshow(img)\n",
    "    axes[0, i].set_title(f'Sample {i+1}')\n",
    "for i, img in enumerate([img1_square, img2_square, img3_square]):\n",
    "    axes[1, i].imshow(img)\n",
    "    axes[1, i].set_title(f'Scaled & padded {i+1}')\n",
    "for i, img in enumerate([img1_bin, img2_bin, img3_bin]):\n",
    "    axes[2, i].imshow(img, cmap='gray')\n",
    "    axes[2, i].set_title(f'Binarized {i+1}')\n",
    "    \n",
    "plt.suptitle('Pre-processing Samples', fontsize='xx-large')\n",
    "plt.tight_layout()\n",
    "plt.savefig('PreprocessingSamples.png')"
   ]
  },
  {
   "cell_type": "markdown",
   "id": "upper-worry",
   "metadata": {},
   "source": [
    "# Feature Extraction (Contour Analysis)"
   ]
  },
  {
   "cell_type": "code",
   "execution_count": 6,
   "id": "found-bishop",
   "metadata": {},
   "outputs": [
    {
     "data": {
      "text/plain": [
       "(256, 256)"
      ]
     },
     "execution_count": 6,
     "metadata": {},
     "output_type": "execute_result"
    }
   ],
   "source": [
    "img1_bin.shape"
   ]
  },
  {
   "cell_type": "code",
   "execution_count": 7,
   "id": "pleased-optics",
   "metadata": {},
   "outputs": [
    {
     "data": {
      "text/plain": [
       "dtype('uint8')"
      ]
     },
     "execution_count": 7,
     "metadata": {},
     "output_type": "execute_result"
    }
   ],
   "source": [
    "img1_bin.dtype"
   ]
  },
  {
   "cell_type": "code",
   "execution_count": 8,
   "id": "potential-pontiac",
   "metadata": {},
   "outputs": [
    {
     "name": "stdout",
     "output_type": "stream",
     "text": [
      "im.shape: (350, 462, 3)\n",
      "imgray.shape: (350, 462)\n",
      "imgray.dtype: uint8\n",
      "127.0\n",
      "thresh.shape: (350, 462)\n",
      "thresh.dtype: uint8\n",
      "thresh.max() = 255\n",
      "<class 'list'>\n",
      "# of contours: 9\n"
     ]
    }
   ],
   "source": [
    "# Example from tutorial\n",
    "import numpy as np\n",
    "import cv2 as cv\n",
    "import matplotlib\n",
    "\n",
    "im = cv.imread('test.jpg')\n",
    "imgray = cv.cvtColor(im, cv.COLOR_BGR2GRAY)\n",
    "ret, thresh = cv.threshold(imgray, 127, 255, 0)\n",
    "contours, hierarchy = cv.findContours(thresh, cv.RETR_TREE, cv.CHAIN_APPROX_SIMPLE)\n",
    "\n",
    "print(f'im.shape: {im.shape}')\n",
    "print(f'imgray.shape: {imgray.shape}')\n",
    "print(f'imgray.dtype: {imgray.dtype}')\n",
    "print(ret)\n",
    "print(f'thresh.shape: {thresh.shape}')\n",
    "print(f'thresh.dtype: {thresh.dtype}')\n",
    "print(f'thresh.max() = {thresh.max()}')\n",
    "print(type(contours))\n",
    "print(f'# of contours: {len(contours)}')\n",
    "\n",
    "dst = im.copy()\n",
    "cmap = matplotlib.cm.get_cmap('tab10')\n",
    "for i, cnt in enumerate(contours):\n",
    "    cv.drawContours(dst, [cnt], 0, [255*x for x in cmap(i)], 3)\n",
    "\n",
    "plt.imshow(dst)\n",
    "plt.title('Test image with labeled contours')\n",
    "plt.savefig('ContourTest.png')"
   ]
  },
  {
   "cell_type": "code",
   "execution_count": 9,
   "id": "hawaiian-gathering",
   "metadata": {},
   "outputs": [
    {
     "name": "stdout",
     "output_type": "stream",
     "text": [
      "# of contours: 5\n",
      "# of points in each contour:\n",
      "\t1 points\n",
      "\t103 points\n",
      "\t97 points\n",
      "\t964 points\n",
      "\t4 points\n"
     ]
    }
   ],
   "source": [
    "# Extract contours\n",
    "im = img1_bin\n",
    "\n",
    "# Note: findContours requires a binarized image with white shape on black background, and type uint8\n",
    "contours, hierarchy = cv2.findContours(im, cv2.RETR_TREE, cv2.CHAIN_APPROX_NONE)\n",
    "print(f'# of contours: {len(contours)}')\n",
    "print('# of points in each contour:')\n",
    "for cnt in contours:\n",
    "    print(f'\\t{len(cnt)} points')\n",
    "\n",
    "dst = img1_square.copy()\n",
    "cmap = matplotlib.cm.get_cmap('tab10')\n",
    "for i, cnt in enumerate(contours):\n",
    "    cv2.drawContours(dst, [cnt], 0, [255*x for x in cmap(i)], 3)\n",
    "\n",
    "plt.figure(figsize=(4, 4))\n",
    "plt.imshow(dst)\n",
    "plt.title('Sample 1 with labeled contours')\n",
    "plt.savefig('ContoursSample1.png')"
   ]
  },
  {
   "cell_type": "markdown",
   "id": "weird-convertible",
   "metadata": {},
   "source": [
    "Hmm since most `cv2` functions use uint8 images instead of float64 images, maybe I should rewrite all my code to be likewise."
   ]
  },
  {
   "cell_type": "code",
   "execution_count": 10,
   "id": "coupled-lightweight",
   "metadata": {},
   "outputs": [
    {
     "name": "stdout",
     "output_type": "stream",
     "text": [
      "# of remaining contours: 3\n",
      "\t103 points\n",
      "\t97 points\n",
      "\t964 points\n",
      "103\n",
      "97\n",
      "964\n"
     ]
    }
   ],
   "source": [
    "# Throw out any contours with 10 or fewer points\n",
    "contours_trimmed = [cnt for cnt in contours if len(cnt) > 10]\n",
    "print(f'# of remaining contours: {len(contours_trimmed)}')\n",
    "for cnt in contours_trimmed:\n",
    "    print(f'\\t{len(cnt)} points')\n",
    "\n",
    "dst = img1_square.copy()\n",
    "cmap = matplotlib.cm.get_cmap('tab10')\n",
    "for i, cnt in enumerate(contours_trimmed):\n",
    "    print(len(cnt))\n",
    "    cv2.drawContours(dst, [cnt], 0, [255*x for x in cmap(i)], 3)\n",
    "\n",
    "plt.figure(figsize=(4, 4))\n",
    "plt.imshow(dst)\n",
    "plt.title('Sample 1 with labeled contours (trimmed)')\n",
    "plt.savefig('ContoursTrimmedSample1.png')"
   ]
  },
  {
   "cell_type": "code",
   "execution_count": 11,
   "id": "dental-modern",
   "metadata": {
    "scrolled": false
   },
   "outputs": [],
   "source": [
    "# I'm assuming the points in the contour are already ordered\n",
    "# But let's plot the points in a line graph to make sure\n",
    "\n",
    "x_list = [x[0][0] for x in contours_trimmed[0]]\n",
    "y_list = [x[0][1] for x in contours_trimmed[0]]\n",
    "\n",
    "plt.figure(figsize=(4, 4))\n",
    "plt.plot(x_list)\n",
    "plt.plot(y_list)\n",
    "plt.plot(x_list, y_list)\n",
    "plt.title('Ordered Points')\n",
    "plt.savefig('OrderedPoints.png')"
   ]
  },
  {
   "cell_type": "code",
   "execution_count": 12,
   "id": "incredible-bailey",
   "metadata": {},
   "outputs": [
    {
     "name": "stdout",
     "output_type": "stream",
     "text": [
      "# of remaining contours: 3\n",
      "\t51 points\n",
      "\t48 points\n",
      "\t482 points\n",
      "51\n",
      "48\n",
      "482\n"
     ]
    }
   ],
   "source": [
    "# Remove every other point (starting with first point)\n",
    "contours_dashed = [cnt[1::2] for cnt in contours_trimmed]\n",
    "print(f'# of remaining contours: {len(contours_trimmed)}')\n",
    "for cnt in contours_dashed:\n",
    "    print(f'\\t{len(cnt)} points')\n",
    "\n",
    "dst = img1_square.copy()\n",
    "cmap = matplotlib.cm.get_cmap('tab10')\n",
    "for i, cnt in enumerate(contours_dashed):\n",
    "    print(len(cnt))\n",
    "    # We can't use drawContours because the contour is no longer contiguous\n",
    "    # Instead, fill in the points manually\n",
    "    for point in cnt:\n",
    "        x, y = point[0]\n",
    "        dst[y, x, :] = [255*x for x in cmap(i)][0:-1] # only take 3 color channels, ignore alpha\n",
    "\n",
    "plt.figure(figsize=(4, 4), dpi=300)\n",
    "plt.imshow(dst)\n",
    "plt.title('Sample 1 with dashed contours')\n",
    "plt.savefig('ContoursDashedSample1.png')"
   ]
  },
  {
   "cell_type": "code",
   "execution_count": 13,
   "id": "binding-boost",
   "metadata": {},
   "outputs": [],
   "source": [
    "# Compare dashed vs undashed\n",
    "def draw_contours(img, contours):\n",
    "    if img.dtype != np.uint8:\n",
    "        print('Converting to uint8...')\n",
    "        dst = (255*img).astype(np.uint8)\n",
    "    else:\n",
    "        dst = img.copy()\n",
    "    cmap = matplotlib.cm.get_cmap('tab10')\n",
    "    for i, cnt in enumerate(contours):\n",
    "        for point in cnt:\n",
    "            x, y = point[0]\n",
    "            color = [255*x for x in cmap(i)][0:-1] # only take 3 color channels, ignore alpha\n",
    "            dst[y, x, :] = color\n",
    "    return dst\n",
    "\n",
    "fig, axes = plt.subplots(1, 2, figsize=(8, 4), dpi=300)\n",
    "axes[0].imshow(draw_contours(img1_square, contours_trimmed))\n",
    "axes[0].set_title('Undashed')\n",
    "axes[1].imshow(draw_contours(img1_square, contours_dashed))\n",
    "axes[1].set_title('Dashed')\n",
    "plt.tight_layout()\n",
    "plt.savefig('DashedVsUndashed.png')"
   ]
  },
  {
   "cell_type": "code",
   "execution_count": 14,
   "id": "forward-signature",
   "metadata": {},
   "outputs": [],
   "source": [
    "# How about every 3rd point? Or every 4th point?\n",
    "fig, axes = plt.subplots(1, 2, figsize=(8, 4), dpi=300)\n",
    "axes[0].imshow(draw_contours(img1_square, [cnt[1::3] for cnt in contours_trimmed]))\n",
    "axes[0].set_title('Dashed (every 3rd point)')\n",
    "axes[1].imshow(draw_contours(img1_square, [cnt[1::4] for cnt in contours_trimmed]))\n",
    "axes[1].set_title('Dashed (every 4th point)')\n",
    "plt.tight_layout()\n",
    "plt.savefig('Dashed3rdor4th.png')"
   ]
  },
  {
   "cell_type": "code",
   "execution_count": 15,
   "id": "brown-patient",
   "metadata": {},
   "outputs": [
    {
     "name": "stdout",
     "output_type": "stream",
     "text": [
      "# thetas: 578\n",
      "max theta: 3.141592653589793\n",
      "min theta: -2.677945044588987\n"
     ]
    }
   ],
   "source": [
    "# Find sequence of angles in all the contours combined\n",
    "thetaseq = []\n",
    "for i, cnt in enumerate(contours_dashed):\n",
    "    for j, point in enumerate(cnt):\n",
    "        if j == 0:\n",
    "            prevx, prevy = point[0]\n",
    "        else:\n",
    "            x, y = point[0]\n",
    "            thetaseq.append(np.arctan2(y-prevy, x-prevx))\n",
    "            prevx = x\n",
    "            prevy = y\n",
    "\n",
    "print(f'# thetas: {len(thetaseq)}')\n",
    "print(f'max theta: {max(thetaseq)}')\n",
    "print(f'min theta: {min(thetaseq)}')\n",
    "\n",
    "# Calculate histogram of angles\n",
    "bins = 20\n",
    "plt.figure(figsize=(4, 4), dpi=300)\n",
    "plt.hist(thetaseq, bins=bins, range=(-np.pi, np.pi))\n",
    "plt.title('Histogram of angles')\n",
    "plt.xlabel('Angle (radians)')\n",
    "plt.ylabel('Frequency')\n",
    "plt.savefig('Histogram.png')"
   ]
  },
  {
   "cell_type": "code",
   "execution_count": 16,
   "id": "accurate-eight",
   "metadata": {},
   "outputs": [],
   "source": [
    "# Polar plot of angle histogram\n",
    "bins = 20\n",
    "hist =  np.histogram(thetaseq, bins=bins, range=(-np.pi, np.pi))\n",
    "r, theta = hist\n",
    "r = np.append(r, 0) # append zero to correspond to the last angle\n",
    "\n",
    "fig, ax = plt.subplots(subplot_kw={'projection': 'polar'}, figsize=(4, 4), dpi=300)\n",
    "ax.plot(theta, r)\n",
    "ax.grid(True)\n",
    "\n",
    "ax.set_title(\"Distribution of Angles\", va='bottom')\n",
    "plt.tight_layout()\n",
    "plt.savefig('HistogramPolar.png')"
   ]
  },
  {
   "cell_type": "code",
   "execution_count": 29,
   "id": "neural-variety",
   "metadata": {},
   "outputs": [],
   "source": [
    "# Repeat for a few more images\n",
    "# First, let's define a few functions to automate all the steps\n",
    "def preprocess(img, desired_size=256, fill_color=[255, 255, 255], threshold=0.5, invert=True):\n",
    "    img_square = make_square(img, desired_size=desired_size, fill_color=fill_color)\n",
    "    img_bin = binarize(img_square, threshold=threshold, invert=invert)\n",
    "    return img_bin\n",
    "\n",
    "def contour_analysis(img, n=2, trim_points=10, bins=20, verbose=False):\n",
    "    # Find all contours\n",
    "    contours, hierarchy = cv2.findContours(img, cv2.RETR_TREE, cv2.CHAIN_APPROX_NONE)\n",
    "    if verbose:\n",
    "        print(f'# of contours: {len(contours)}')\n",
    "        print('# of points in each contour:')\n",
    "        for cnt in contours:\n",
    "            print(f'\\t{len(cnt)} points')\n",
    "\n",
    "    # Remove contours with too few points\n",
    "    contours_trimmed = [cnt for cnt in contours if len(cnt) > trim_points]\n",
    "    if verbose:\n",
    "        print(f'Trimming contours with fewer than {trim_points} points...')\n",
    "        print(f'# of remaining contours: {len(contours_trimmed)}')\n",
    "        for cnt in contours_trimmed:\n",
    "            print(f'\\t{len(cnt)} points')\n",
    "\n",
    "    # Create dashed contours by keeping every nth point\n",
    "    assert(n>=2)\n",
    "    contours_dashed = [cnt[1::n] for cnt in contours_trimmed]\n",
    "    if verbose:\n",
    "        print(f'Taking every {n}th point to get dashed contour...')\n",
    "        for cnt in contours_dashed:\n",
    "            print(f'\\t{len(cnt)} points')\n",
    "            \n",
    "    # Find angles between adjacent points in the contour\n",
    "    thetaseq = []\n",
    "    for i, cnt in enumerate(contours_dashed):\n",
    "        for j, point in enumerate(cnt):\n",
    "            if j == 0:\n",
    "                prevx, prevy = point[0]\n",
    "            else:\n",
    "                x, y = point[0]\n",
    "                thetaseq.append(np.arctan2(y-prevy, x-prevx))\n",
    "                prevx = x\n",
    "                prevy = y\n",
    "    \n",
    "    if verbose:\n",
    "        print(f'# thetas: {len(thetaseq)}')\n",
    "        print(f'max theta: {max(thetaseq)}')\n",
    "        print(f'min theta: {min(thetaseq)}')\n",
    "\n",
    "    hist =  np.histogram(thetaseq, bins=bins, range=(-np.pi, np.pi))\n",
    "    return hist\n",
    "\n",
    "def plot_angles(hist, ax=None, title='Distribution of angles'):\n",
    "    r, theta = hist\n",
    "    r = np.append(r, 0) # append zero to correspond to the last angle\n",
    "\n",
    "    if ax is None:\n",
    "        fig, ax = plt.subplots(subplot_kw={'projection': 'polar'}, figsize=(4, 4), dpi=300)\n",
    "\n",
    "    ax.plot(theta, r)\n",
    "    ax.grid(True)\n",
    "\n",
    "    ax.set_title(title, va='bottom')\n",
    "    plt.tight_layout()"
   ]
  },
  {
   "cell_type": "code",
   "execution_count": 37,
   "id": "handled-league",
   "metadata": {},
   "outputs": [
    {
     "data": {
      "text/plain": [
       "<matplotlib.image.AxesImage at 0x7fa0aeead2d0>"
      ]
     },
     "execution_count": 37,
     "metadata": {},
     "output_type": "execute_result"
    }
   ],
   "source": [
    "plt.imshow(preprocess(img3), cmap='gray')"
   ]
  },
  {
   "cell_type": "code",
   "execution_count": 38,
   "id": "portuguese-malaysia",
   "metadata": {
    "scrolled": false
   },
   "outputs": [
    {
     "name": "stdout",
     "output_type": "stream",
     "text": [
      "# of contours: 63\n",
      "# of points in each contour:\n",
      "\t2 points\n",
      "\t2 points\n",
      "\t44 points\n",
      "\t7 points\n",
      "\t75 points\n",
      "\t4 points\n",
      "\t2 points\n",
      "\t197 points\n",
      "\t2 points\n",
      "\t20 points\n",
      "\t14 points\n",
      "\t9 points\n",
      "\t18 points\n",
      "\t2 points\n",
      "\t43 points\n",
      "\t1 points\n",
      "\t10 points\n",
      "\t4 points\n",
      "\t16 points\n",
      "\t47 points\n",
      "\t21 points\n",
      "\t13 points\n",
      "\t10 points\n",
      "\t6 points\n",
      "\t1 points\n",
      "\t49 points\n",
      "\t36 points\n",
      "\t13 points\n",
      "\t2 points\n",
      "\t42 points\n",
      "\t44 points\n",
      "\t77 points\n",
      "\t54 points\n",
      "\t2 points\n",
      "\t12 points\n",
      "\t69 points\n",
      "\t17 points\n",
      "\t115 points\n",
      "\t23 points\n",
      "\t9 points\n",
      "\t475 points\n",
      "\t15 points\n",
      "\t8 points\n",
      "\t4 points\n",
      "\t4 points\n",
      "\t8 points\n",
      "\t4 points\n",
      "\t4 points\n",
      "\t145 points\n",
      "\t6 points\n",
      "\t172 points\n",
      "\t1030 points\n",
      "\t4 points\n",
      "\t7 points\n",
      "\t10 points\n",
      "\t8 points\n",
      "\t92 points\n",
      "\t55 points\n",
      "\t8 points\n",
      "\t73 points\n",
      "\t4 points\n",
      "\t4 points\n",
      "\t5 points\n",
      "Trimming contours with fewer than 10 points...\n",
      "# of remaining contours: 31\n",
      "\t44 points\n",
      "\t75 points\n",
      "\t197 points\n",
      "\t20 points\n",
      "\t14 points\n",
      "\t18 points\n",
      "\t43 points\n",
      "\t16 points\n",
      "\t47 points\n",
      "\t21 points\n",
      "\t13 points\n",
      "\t49 points\n",
      "\t36 points\n",
      "\t13 points\n",
      "\t42 points\n",
      "\t44 points\n",
      "\t77 points\n",
      "\t54 points\n",
      "\t12 points\n",
      "\t69 points\n",
      "\t17 points\n",
      "\t115 points\n",
      "\t23 points\n",
      "\t475 points\n",
      "\t15 points\n",
      "\t145 points\n",
      "\t172 points\n",
      "\t1030 points\n",
      "\t92 points\n",
      "\t55 points\n",
      "\t73 points\n",
      "Taking every 2th point to get dashed contour...\n",
      "\t22 points\n",
      "\t37 points\n",
      "\t98 points\n",
      "\t10 points\n",
      "\t7 points\n",
      "\t9 points\n",
      "\t21 points\n",
      "\t8 points\n",
      "\t23 points\n",
      "\t10 points\n",
      "\t6 points\n",
      "\t24 points\n",
      "\t18 points\n",
      "\t6 points\n",
      "\t21 points\n",
      "\t22 points\n",
      "\t38 points\n",
      "\t27 points\n",
      "\t6 points\n",
      "\t34 points\n",
      "\t8 points\n",
      "\t57 points\n",
      "\t11 points\n",
      "\t237 points\n",
      "\t7 points\n",
      "\t72 points\n",
      "\t86 points\n",
      "\t515 points\n",
      "\t46 points\n",
      "\t27 points\n",
      "\t36 points\n",
      "# thetas: 1518\n",
      "max theta: 3.141592653589793\n",
      "min theta: -2.677945044588987\n"
     ]
    },
    {
     "data": {
      "text/plain": [
       "(array([  0,  76,  24,  58,   0, 171, 102,  41,  45,   0, 244,  72,  43,\n",
       "         45,   0, 181,  95,  29,  49, 243]),\n",
       " array([-3.14159265, -2.82743339, -2.51327412, -2.19911486, -1.88495559,\n",
       "        -1.57079633, -1.25663706, -0.9424778 , -0.62831853, -0.31415927,\n",
       "         0.        ,  0.31415927,  0.62831853,  0.9424778 ,  1.25663706,\n",
       "         1.57079633,  1.88495559,  2.19911486,  2.51327412,  2.82743339,\n",
       "         3.14159265]))"
      ]
     },
     "execution_count": 38,
     "metadata": {},
     "output_type": "execute_result"
    }
   ],
   "source": [
    "contour_analysis(preprocess(img3), verbose=True)"
   ]
  },
  {
   "cell_type": "code",
   "execution_count": 39,
   "id": "funded-opera",
   "metadata": {},
   "outputs": [
    {
     "name": "stdout",
     "output_type": "stream",
     "text": [
      "# of contours: 5\n",
      "# of points in each contour:\n",
      "\t1 points\n",
      "\t103 points\n",
      "\t97 points\n",
      "\t964 points\n",
      "\t4 points\n",
      "Trimming contours with fewer than 10 points...\n",
      "# of remaining contours: 3\n",
      "\t103 points\n",
      "\t97 points\n",
      "\t964 points\n",
      "Taking every 2th point to get dashed contour...\n",
      "\t51 points\n",
      "\t48 points\n",
      "\t482 points\n",
      "# thetas: 578\n",
      "max theta: 3.141592653589793\n",
      "min theta: -2.677945044588987\n"
     ]
    },
    {
     "data": {
      "text/plain": [
       "(array([ 0, 30, 11, 22,  0, 45, 54, 36, 41,  0, 52, 22, 10, 35,  0, 47, 47,\n",
       "        31, 43, 52]),\n",
       " array([-3.14159265, -2.82743339, -2.51327412, -2.19911486, -1.88495559,\n",
       "        -1.57079633, -1.25663706, -0.9424778 , -0.62831853, -0.31415927,\n",
       "         0.        ,  0.31415927,  0.62831853,  0.9424778 ,  1.25663706,\n",
       "         1.57079633,  1.88495559,  2.19911486,  2.51327412,  2.82743339,\n",
       "         3.14159265]))"
      ]
     },
     "execution_count": 39,
     "metadata": {},
     "output_type": "execute_result"
    }
   ],
   "source": [
    "contour_analysis(preprocess(img1), verbose=True)"
   ]
  },
  {
   "cell_type": "code",
   "execution_count": 42,
   "id": "national-mambo",
   "metadata": {},
   "outputs": [],
   "source": [
    "fig = plt.figure(figsize=(12, 4))\n",
    "ax1 = plt.subplot(131, projection='polar')\n",
    "ax2 = plt.subplot(132, projection='polar')\n",
    "ax3 = plt.subplot(133, projection='polar')\n",
    "\n",
    "plot_angles(contour_analysis(preprocess(img1)), ax=ax1, title='img1')\n",
    "plot_angles(contour_analysis(preprocess(img2)), ax=ax2, title='img2')\n",
    "plot_angles(contour_analysis(preprocess(img3)), ax=ax3, title='img3')\n",
    "plt.savefig('3SamplesPolar.png')"
   ]
  },
  {
   "cell_type": "code",
   "execution_count": 43,
   "id": "varied-abraham",
   "metadata": {},
   "outputs": [
    {
     "name": "stdout",
     "output_type": "stream",
     "text": [
      "CPU times: user 236 ms, sys: 80.8 ms, total: 316 ms\n",
      "Wall time: 209 ms\n"
     ]
    }
   ],
   "source": [
    "%%time\n",
    "plot_angles(contour_analysis(preprocess(img1)), title='img1')"
   ]
  },
  {
   "cell_type": "markdown",
   "id": "sustained-friendly",
   "metadata": {},
   "source": [
    "# Contour Statistics\n",
    "Treating each images's histogram as a sample of the random variable $X$, estimate:\n",
    "* Mean vector $\\mu = E[X]$\n",
    "* Covariance matrix $K = E[(X-\\mu)(X-\\mu)^T] $"
   ]
  },
  {
   "cell_type": "code",
   "execution_count": 58,
   "id": "confident-experience",
   "metadata": {},
   "outputs": [
    {
     "name": "stdout",
     "output_type": "stream",
     "text": [
      "[ 0 30 11 22  0 45 54 36 41  0 52 22 10 35  0 47 47 31 43 52]\n",
      "[ 0 44 28 41  0 68 66 41 54  0 76 34 31 51  0 67 51 58 60 58]\n",
      "[  0  76  24  58   0 171 102  41  45   0 244  72  43  45   0 181  95  29\n",
      "  49 243]\n",
      "X.shape: (20, 3)\n",
      "[[  0.   0.   0.]\n",
      " [ 30.  44.  76.]\n",
      " [ 11.  28.  24.]\n",
      " [ 22.  41.  58.]\n",
      " [  0.   0.   0.]\n",
      " [ 45.  68. 171.]\n",
      " [ 54.  66. 102.]\n",
      " [ 36.  41.  41.]\n",
      " [ 41.  54.  45.]\n",
      " [  0.   0.   0.]\n",
      " [ 52.  76. 244.]\n",
      " [ 22.  34.  72.]\n",
      " [ 10.  31.  43.]\n",
      " [ 35.  51.  45.]\n",
      " [  0.   0.   0.]\n",
      " [ 47.  67. 181.]\n",
      " [ 47.  51.  95.]\n",
      " [ 31.  58.  29.]\n",
      " [ 43.  60.  49.]\n",
      " [ 52.  58. 243.]]\n"
     ]
    }
   ],
   "source": [
    "num_samples = 3\n",
    "X = np.zeros((bins, num_samples))\n",
    "for i, img in enumerate([img1, img2, img3]):\n",
    "    counts, theta = contour_analysis(preprocess(img))\n",
    "    print(counts)\n",
    "    X[:, i] = counts\n",
    "\n",
    "print(f'X.shape: {X.shape}')\n",
    "print(X)"
   ]
  },
  {
   "cell_type": "code",
   "execution_count": 59,
   "id": "chubby-wings",
   "metadata": {},
   "outputs": [
    {
     "name": "stdout",
     "output_type": "stream",
     "text": [
      "mu.shape = (20,)\n",
      "[  0.          50.          21.          40.33333333   0.\n",
      "  94.66666667  74.          39.33333333  46.66666667   0.\n",
      " 124.          42.66666667  28.          43.66666667   0.\n",
      "  98.33333333  64.33333333  39.33333333  50.66666667 117.66666667]\n"
     ]
    }
   ],
   "source": [
    "mu = np.sum(X, axis=1)/X.shape[1]\n",
    "print(f'mu.shape = {mu.shape}')\n",
    "print(mu)"
   ]
  },
  {
   "cell_type": "code",
   "execution_count": 60,
   "id": "disabled-running",
   "metadata": {},
   "outputs": [
    {
     "name": "stdout",
     "output_type": "stream",
     "text": [
      "mu.shape = (20,)\n",
      "[  0.          50.          21.          40.33333333   0.\n",
      "  94.66666667  74.          39.33333333  46.66666667   0.\n",
      " 124.          42.66666667  28.          43.66666667   0.\n",
      "  98.33333333  64.33333333  39.33333333  50.66666667 117.66666667]\n"
     ]
    }
   ],
   "source": [
    "mu = np.mean(X, axis=1)\n",
    "print(f'mu.shape = {mu.shape}')\n",
    "print(mu)"
   ]
  },
  {
   "cell_type": "code",
   "execution_count": 65,
   "id": "surprising-morgan",
   "metadata": {},
   "outputs": [
    {
     "name": "stdout",
     "output_type": "stream",
     "text": [
      "K.shape: (20, 20)\n"
     ]
    }
   ],
   "source": [
    "K = np.cov(X)\n",
    "print(f'K.shape: {K.shape}')\n",
    "plt.figure(figsize=(4, 4))\n",
    "plt.imshow(K)\n",
    "plt.colorbar()\n",
    "plt.title('Covariance matrix of 3 samples')\n",
    "plt.tight_layout()\n",
    "plt.savefig('CovarianceMatrix.png')"
   ]
  },
  {
   "cell_type": "code",
   "execution_count": 69,
   "id": "overall-combination",
   "metadata": {},
   "outputs": [],
   "source": [
    "fig = plt.figure(figsize=(8, 4))\n",
    "ax1 = plt.subplot(121, projection='polar')\n",
    "ax2 = plt.subplot(122)\n",
    "plot_angles([mu, theta], ax=ax1, title='Mean of 3 samples')\n",
    "fig.colorbar(ax2.imshow(K))\n",
    "ax2.set_title('Covariance matrix of 3 samples')\n",
    "plt.tight_layout()\n",
    "plt.savefig('mu+K.png')"
   ]
  },
  {
   "cell_type": "code",
   "execution_count": null,
   "id": "standing-viking",
   "metadata": {},
   "outputs": [],
   "source": []
  }
 ],
 "metadata": {
  "kernelspec": {
   "display_name": "Python (ee367-hw)",
   "language": "python",
   "name": "ee367-hw"
  },
  "language_info": {
   "codemirror_mode": {
    "name": "ipython",
    "version": 3
   },
   "file_extension": ".py",
   "mimetype": "text/x-python",
   "name": "python",
   "nbconvert_exporter": "python",
   "pygments_lexer": "ipython3",
   "version": "3.7.9"
  }
 },
 "nbformat": 4,
 "nbformat_minor": 5
}
